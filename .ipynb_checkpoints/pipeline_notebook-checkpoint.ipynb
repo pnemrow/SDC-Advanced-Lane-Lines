{
 "cells": [
  {
   "cell_type": "code",
   "execution_count": 84,
   "metadata": {
    "collapsed": true
   },
   "outputs": [],
   "source": [
    "import cv2\n",
    "import numpy as np\n",
    "import matplotlib.pyplot as plt\n",
    "import matplotlib.image as mpimg\n",
    "import glob\n",
    "import pickle\n",
    "import math\n",
    "from PIL import Image\n",
    "%matplotlib inline"
   ]
  },
  {
   "cell_type": "code",
   "execution_count": 621,
   "metadata": {
    "collapsed": false
   },
   "outputs": [],
   "source": [
    "def camera_calibation():\n",
    "    images = glob.glob('./camera_cal/calibration*.jpg')\n",
    "\n",
    "    object_points = []\n",
    "    image_points = []\n",
    "\n",
    "    objp = np.zeros((6*9,3), np.float32)\n",
    "    objp[:,:2] = np.mgrid[0:9,0:6].T.reshape(-1,2)\n",
    "\n",
    "    for fname in images:\n",
    "        img = mpimg.imread(fname)\n",
    "        gray = cv2.cvtColor(img,cv2.COLOR_BGR2GRAY)\n",
    "        ret, corners = cv2.findChessboardCorners(gray, (9,6),None)\n",
    "        if ret == True:\n",
    "            image_points.append(corners)\n",
    "            object_points.append(objp)\n",
    "\n",
    "            img = cv2.drawChessboardCorners(img, (9,6), corners, ret)\n",
    "\n",
    "    img = cv2.imread('./camera_cal/calibration3.jpg')\n",
    "    img_size = (img.shape[1], img.shape[0])\n",
    "\n",
    "    ret, mtx, dist, rvecs, tvecs = cv2.calibrateCamera(object_points, image_points, img_size, None, None)\n",
    "    return (mtx, dist)\n",
    "\n",
    "global calibration\n",
    "calibration = camera_calibation()"
   ]
  },
  {
   "cell_type": "code",
   "execution_count": 622,
   "metadata": {
    "collapsed": false
   },
   "outputs": [],
   "source": [
    "class Line():\n",
    "    def __init__(self):\n",
    "        self.recent_amount = 7\n",
    "        self.weights = [.3,.2,.2,.1,.1,.05,.05]\n",
    "        self.detected = False\n",
    "        self.recent_xfitted = []\n",
    "        self.bestx = None\n",
    "        self.recent_fits = []\n",
    "        self.best_fit = None\n",
    "        self.current_fit = [np.array([False])]\n",
    "        self.radius_of_curvature = None\n",
    "        self.line_base_pos = None\n",
    "        self.allx = None\n",
    "        self.ally = None\n",
    "\n",
    "    def preliminary_update(self, line_fit, radius, fitx):\n",
    "        if line_fit is not None:\n",
    "            if self.should_update(fitx):\n",
    "                self.detected = True\n",
    "                self.current_fit = line_fit\n",
    "                self.radius_of_curvature = radius\n",
    "                self.allx = fitx\n",
    "                if self.bestx is None:\n",
    "                    self.update()\n",
    "            else:\n",
    "                self.detected = False\n",
    "    \n",
    "    def should_update(self, new_fitx):\n",
    "        should_update = True\n",
    "            \n",
    "        if  self.bestx is not None:\n",
    "            if max(abs(new_fitx - self.bestx)) > 150:\n",
    "                should_update = False\n",
    "        \n",
    "        return should_update\n",
    "    \n",
    "    def get_radius(self, line):\n",
    "        ploty = np.linspace(0, 719, num=720)\n",
    "        y_eval = np.max(ploty)\n",
    "        curverad = ((1 + (2*line[0]*y_eval + line[1])**2)**1.5) / np.absolute(2*line[0])\n",
    "        ym_per_pix = 3/170\n",
    "        xm_per_pix = 3.7/210\n",
    "        fit_cr = np.polyfit(ploty*ym_per_pix, line*xm_per_pix, 2)\n",
    "        curverad = ((1 + (2*fit_cr[0]*y_eval*ym_per_pix + fit_cr[1])**2)**1.5) / np.absolute(2*fit_cr[0])\n",
    "        return curverad\n",
    "    \n",
    "    def update(self):\n",
    "        self.detected = True\n",
    "        self.recent_fits.append(self.current_fit)\n",
    "        self.recent_fits = self.recent_fits[-self.recent_amount:]\n",
    "        self.best_fit = np.average(self.recent_fits, axis=0, weights=self.weights[:len(self.recent_fits)]).astype(int)\n",
    "        self.recent_xfitted.append(self.allx)\n",
    "        self.recent_xfitted = self.recent_xfitted[-self.recent_amount:]\n",
    "        self.bestx = np.average(self.recent_xfitted, axis=0, weights=self.weights[:len(self.recent_xfitted)]).astype(int)\n",
    "        self.radius_of_curvature = self.get_radius(self.bestx)\n"
   ]
  },
  {
   "cell_type": "code",
   "execution_count": 623,
   "metadata": {
    "collapsed": false
   },
   "outputs": [],
   "source": [
    "def undistort(img, mtx, dist):\n",
    "    undistorted_img = cv2.undistort(img, mtx, dist, None, mtx)\n",
    "    return undistorted_img\n",
    "\n",
    "def get_warp_matrix(img):\n",
    "    img_size = (int(img.shape[1]/2), img.shape[0])\n",
    "    bot_width = 1.3\n",
    "    mid_width = .30\n",
    "    height_pct = .665\n",
    "    bottom_trim = .945\n",
    "    src = np.float32([\n",
    "            [img.shape[1]*(.5-mid_width/2), img.shape[0]*height_pct],\n",
    "            [img.shape[1]*(.5+mid_width/2), img.shape[0]*height_pct], \n",
    "            [img.shape[1]*(.5+bot_width/2), img.shape[0]*bottom_trim], \n",
    "            [img.shape[1]*(.5-bot_width/2), img.shape[0]*bottom_trim]\n",
    "    ])\n",
    "    offset = img_size[0]*.15\n",
    "    dst = np.float32([[offset, 0], [img_size[0] - offset, 0], [img_size[0] - offset, img_size[1]], [offset, img_size[1]]])\n",
    "    \n",
    "    M = cv2.getPerspectiveTransform(src,dst)\n",
    "    M_inv = cv2.getPerspectiveTransform(dst, src)\n",
    "    \n",
    "    return M, M_inv\n",
    "\n",
    "def threshold_image(img):\n",
    "    kernel = np.ones((14,14),np.uint8)\n",
    "    hls = cv2.cvtColor(img, cv2.COLOR_RGB2HLS) \n",
    "    \n",
    "    hls_l = hls[:,:,1]\n",
    "    th_hls_l = cv2.morphologyEx(hls_l, cv2.MORPH_TOPHAT, kernel)\n",
    "    hls_l_binary = np.zeros_like(th_hls_l)\n",
    "    hls_l_binary[(th_hls_l > 20) & (th_hls_l <= 255)] = 1\n",
    "\n",
    "    lab = cv2.cvtColor(img, cv2.COLOR_RGB2LAB) \n",
    "    lab_l = lab[:,:,0]\n",
    "    th_lab_l = cv2.morphologyEx(lab_l, cv2.MORPH_TOPHAT, kernel)\n",
    "    lab_l_binary = np.zeros_like(th_lab_l)\n",
    "    lab_l_binary[(th_lab_l > 20) & (th_lab_l <= 255)] = 1\n",
    "\n",
    "    lab_b = lab[:,:,2]\n",
    "    th_lab_b = cv2.morphologyEx(lab_b, cv2.MORPH_TOPHAT, kernel)\n",
    "    lab_b_binary = np.zeros_like(th_lab_b)\n",
    "    lab_b_binary[(th_lab_b > 5) & (th_lab_b <= 255)] = 1\n",
    "\n",
    "    full_mask = np.zeros_like(th_hls_l)\n",
    "    full_mask[(hls_l_binary == 1) | (lab_l_binary == 1) | (lab_b_binary == 1)] = 1\n",
    "\n",
    "    kernel = np.ones((6,3),np.uint8)\n",
    "    erosion = cv2.erode(full_mask,kernel,iterations = 1)\n",
    "\n",
    "    return erosion\n",
    "\n",
    "def locate_line(thresholded, lines, lane_side):\n",
    "    histogram = np.sum(thresholded[thresholded.shape[0]/2:,:], axis=0)\n",
    "    out_img = np.dstack((thresholded, thresholded, thresholded))*255\n",
    "    midpoint = np.int(histogram.shape[0]/2)\n",
    "    if lane_side == 'left':\n",
    "        x_base = np.argmax(histogram[:midpoint])\n",
    "    else:\n",
    "        x_base = np.argmax(histogram[midpoint:]) + midpoint\n",
    "    \n",
    "    nwindows = 9\n",
    "    window_height = np.int(thresholded.shape[0]/nwindows)\n",
    "    nonzero = thresholded.nonzero()\n",
    "    nonzeroy = np.array(nonzero[0])\n",
    "    nonzerox = np.array(nonzero[1])\n",
    "    x_current = x_base\n",
    "    margin = 50\n",
    "    minpix = 40\n",
    "    lane_inds = []\n",
    "\n",
    "    for window in range(nwindows):\n",
    "        win_y_low = thresholded.shape[0] - (window+1)*window_height\n",
    "        win_y_high = thresholded.shape[0] - window*window_height\n",
    "        win_x_low = x_current - margin\n",
    "        win_x_high = x_current + margin\n",
    "        cv2.rectangle(out_img,(win_x_low,win_y_low),(win_x_high,win_y_high),(0,255,0), 2)\n",
    "        good_inds = ((nonzeroy >= win_y_low) & (nonzeroy < win_y_high) & (nonzerox >= win_x_low) & (nonzerox < win_x_high)).nonzero()[0]\n",
    "        lane_inds.append(good_inds)\n",
    "        if len(good_inds) > minpix:\n",
    "            x_current = np.int(np.mean(nonzerox[good_inds]))\n",
    "            \n",
    "    lane_inds = np.concatenate(lane_inds)\n",
    "\n",
    "    x = nonzerox[lane_inds]\n",
    "    y = nonzeroy[lane_inds]\n",
    "    if x.shape[0] != 0:\n",
    "        line_fit = np.polyfit(y, x, 2)\n",
    "        ploty = np.linspace(0, thresholded.shape[0]-1, thresholded.shape[0] )\n",
    "        fitx = line_fit[0]*ploty**2 + line_fit[1]*ploty + line_fit[2]\n",
    "        out_img[nonzeroy[lane_inds], nonzerox[lane_inds]] = [255, 0, 0]\n",
    "        radius = get_radius(fitx, ploty)\n",
    "        lines[lane_side].preliminary_update(line_fit, radius, fitx)\n",
    "    return lines\n",
    "\n",
    "def line_in_windows(thresholded, line):\n",
    "    line_fit = fitx = radius = None\n",
    "    fit = line.current_fit\n",
    "    out_img = np.dstack((thresholded, thresholded, thresholded))*255\n",
    "    nonzero = thresholded.nonzero()\n",
    "    nonzeroy = np.array(nonzero[0])\n",
    "    nonzerox = np.array(nonzero[1])\n",
    "    margin = 40\n",
    "    lane_inds = ((nonzerox > (fit[0]*(nonzeroy**2) + fit[1]*nonzeroy + fit[2] - margin)) & (nonzerox < (fit[0]*(nonzeroy**2) + fit[1]*nonzeroy + fit[2] + margin))) \n",
    "    \n",
    "    x = nonzerox[lane_inds]\n",
    "    y = nonzeroy[lane_inds] \n",
    "    \n",
    "    if x.shape[0] != 0:\n",
    "        line_fit = np.polyfit(y, x, 2)\n",
    "        ploty = np.linspace(0, thresholded.shape[0]-1, thresholded.shape[0] )\n",
    "        fitx = line_fit[0]*ploty**2 + line_fit[1]*ploty + line_fit[2]\n",
    "        radius = get_radius(fitx, ploty)\n",
    "        line.preliminary_update(line_fit, radius, fitx)\n",
    "    return line\n",
    "\n",
    "def get_radius(line, ploty):\n",
    "    y_eval = np.max(ploty)\n",
    "    curverad = ((1 + (2*line[0]*y_eval + line[1])**2)**1.5) / np.absolute(2*line[0])\n",
    "    ym_per_pix = 3/170\n",
    "    xm_per_pix = 3.7/210\n",
    "    fit_cr = np.polyfit(ploty*ym_per_pix, line*xm_per_pix, 2)\n",
    "    curverad = ((1 + (2*fit_cr[0]*y_eval*ym_per_pix + fit_cr[1])**2)**1.5) / np.absolute(2*fit_cr[0])\n",
    "    return curverad\n",
    "    \n",
    "def get_overlayer(warped, lines):\n",
    "    if lines is not None:\n",
    "        ploty = np.linspace(0, warped.shape[0]-1, warped.shape[0])\n",
    "        warp_zero = np.zeros_like(warped).astype(np.uint8)\n",
    "        color_warp = np.dstack((warp_zero, warp_zero, warp_zero))\n",
    "        pts_left = np.array([np.transpose(np.vstack([lines['left'].bestx, ploty]))])\n",
    "        pts_right = np.array([np.flipud(np.transpose(np.vstack([lines['right'].bestx, ploty])))])\n",
    "        pts = np.hstack((pts_left, pts_right))\n",
    "        overlayer = cv2.fillPoly(warp_zero, np.int_([pts]), (0,255, 0))\n",
    "    return overlayer\n",
    "\n",
    "def get_line_fit(thresholded_image, lines, side):\n",
    "    \n",
    "    if lines[side].detected == True:\n",
    "        lines[side] = line_in_windows(thresholded_image, lines[side])\n",
    "    \n",
    "    if lines[side].detected == False:\n",
    "        lines = locate_line(thresholded_image, lines, side)\n",
    "        \n",
    "    return lines[side]\n",
    "\n",
    "def confirm_radius(target_radius, compare_radius):\n",
    "    ret_value = True\n",
    "\n",
    "    if target_radius <  compare_radius / 6 or target_radius > 6 * compare_radius:\n",
    "        ret_value = False\n",
    "\n",
    "    return ret_value\n",
    "\n",
    "\n",
    "def confirm_spacing(lines):\n",
    "    ret_value = True\n",
    "    left = lines['left']\n",
    "    right = lines['right']\n",
    "    max_space = max(abs(right.allx - left.allx))\n",
    "    min_space = min(abs(right.allx - left.allx))\n",
    "    max_space_average = max(abs(right.bestx - left.bestx))\n",
    "    min_space_average = min(abs(right.bestx - left.bestx))\n",
    "    #these ranges are too big, maybe make dynamic\n",
    "    if max_space > max_space_average + (max_space_average*.25) or min_space < min_space_average - (min_space_average*.25):\n",
    "        ret_value = False\n",
    "\n",
    "    return ret_value\n",
    "\n",
    "\n",
    "def get_left_right_compliance(lines):\n",
    "    left = lines['left']\n",
    "    right = lines['right']\n",
    "    radius_similar = confirm_radius(left.radius_of_curvature, right.radius_of_curvature)\n",
    "    line_position_similar = confirm_spacing(lines)\n",
    "\n",
    "    return line_position_similar\n",
    "\n",
    "def get_steer_wheel(curve):\n",
    "    global steering_wheel\n",
    "    angle = (4 * (math.pi + math.asin(9/(curve*2)))) * 200.40\n",
    "    print(angle%360)\n",
    "    return steering_wheel.rotate(angle)\n",
    "\n",
    "def overlay_image(original, overlayer):\n",
    "    global steering_wheel\n",
    "    overlayed = cv2.addWeighted(original, 1, overlayer, 0.3, 0)\n",
    "\n",
    "    ploty = np.linspace(0, 719, num=720)\n",
    "    y_eval = np.max(ploty)\n",
    "    img = np.zeros_like(original)\n",
    "\n",
    "    ym_per_pix = 3/170\n",
    "    xm_per_pix = 3.7/210\n",
    "    leftx = lines['left'].bestx\n",
    "    rightx = lines['right'].bestx\n",
    "\n",
    "    left_fit_cr = np.polyfit(ploty*ym_per_pix, leftx*xm_per_pix, 2)\n",
    "    right_fit_cr = np.polyfit(ploty*ym_per_pix, rightx*xm_per_pix, 2)\n",
    "\n",
    "    left_curverad = ((1 + (2*left_fit_cr[0]*y_eval*ym_per_pix + left_fit_cr[1])**2)**1.5) / np.absolute(2*left_fit_cr[0])\n",
    "    right_curverad = ((1 + (2*right_fit_cr[0]*y_eval*ym_per_pix + right_fit_cr[1])**2)**1.5) / np.absolute(2*right_fit_cr[0])\n",
    "\n",
    "    road_curve = left_curverad + right_curverad / 2\n",
    "    road_curve = round(road_curve, 2)\n",
    "    curve_string = \"{:,}\".format(road_curve)\n",
    "\n",
    "    if road_curve > 3000:\n",
    "        curve_string = 'Straight'\n",
    "    else:\n",
    "        curve_string = str(curve_string) + 'm'\n",
    "\n",
    "    center_of_lines = (rightx[len(rightx)-1] + leftx[len(leftx)-1]) / 2\n",
    "    distance_from_center = center_of_lines - img.shape[1] / 4\n",
    "    distance_from_center = distance_from_center * xm_per_pix\n",
    "    distance_from_center = round(distance_from_center, 2)\n",
    "    center_offset = \"{:,}\".format(abs(distance_from_center))\n",
    "\n",
    "    if distance_from_center > 0:\n",
    "        center_offset = str(center_offset) + 'm left'\n",
    "    else:\n",
    "        center_offset = str(center_offset) + 'm right'\n",
    "\n",
    "    font = cv2.FONT_HERSHEY_SIMPLEX\n",
    "    image = cv2.putText(overlayed,'Road Curve: ' + curve_string,(10,50), font, 1.4,(255,255,255),2)\n",
    "    image = cv2.putText(image, 'Off Center: ' + center_offset,(10,100), font, 1.4,(255,255,255),2)\n",
    "\n",
    "    if ((left_fit_cr[0] + right_fit_cr[0]) / 2) > 0:\n",
    "        road_curve = -1 * road_curve\n",
    "    background = Image.fromarray(image).convert(\"RGBA\")\n",
    "    background.paste(get_steer_wheel(road_curve), (540, 150), get_steer_wheel(road_curve))\n",
    "    image = np.array(background)\n",
    "    image = image[:,:,:3]\n",
    "    \n",
    "    return image\n",
    "\n",
    "\n",
    "def pipeline(img):\n",
    "    global lines, calibration\n",
    "    undistorted_img = undistort(img, calibration[0], calibration[1])\n",
    "    size_for_warp = (int(undistorted_img.shape[1]/2), undistorted_img.shape[0])\n",
    "    M, M_inv = get_warp_matrix(undistorted_img)\n",
    "    warped = cv2.warpPerspective(undistorted_img, M, size_for_warp, flags=cv2.INTER_LINEAR)\n",
    "    thresholded_image = threshold_image(warped)\n",
    "\n",
    "    lines['left'] = get_line_fit(thresholded_image, lines, 'left')\n",
    "    lines['right'] = get_line_fit(thresholded_image, lines, 'right')\n",
    "    \n",
    "    if get_left_right_compliance(lines):\n",
    "        lines['left'].update()\n",
    "        lines['right'].update()\n",
    "\n",
    "\n",
    "    overlayer = get_overlayer(warped, lines)\n",
    "    size_for_unwarp = (int(undistorted_img.shape[1]), undistorted_img.shape[0])\n",
    "    unwarped = cv2.warpPerspective(overlayer, M_inv, size_for_unwarp, flags=cv2.INTER_LINEAR)\n",
    "    \n",
    "    final = overlay_image(undistorted_img, unwarped)\n",
    "    return final"
   ]
  },
  {
   "cell_type": "code",
   "execution_count": 624,
   "metadata": {
    "collapsed": true
   },
   "outputs": [],
   "source": [
    "def reset_lines():\n",
    "    left_line = Line()\n",
    "    right_line = Line()\n",
    "\n",
    "    global lines\n",
    "    lines = {\n",
    "        'left': left_line, \n",
    "        'right': right_line\n",
    "    }\n",
    "\n",
    "    global warning_sign\n",
    "    warning_sign = Image.open('output_images/Symbol Warning.png').convert(\"RGBA\")\n",
    "    warning_sign = warning_sign.resize((100,100),Image.ANTIALIAS)\n",
    "    \n",
    "    global steering_wheel\n",
    "    steering_wheel = Image.open('output_images/steering_wheel.png').convert(\"RGBA\")\n",
    "    steering_wheel= steering_wheel.resize((200,200),Image.ANTIALIAS)"
   ]
  },
  {
   "cell_type": "code",
   "execution_count": 625,
   "metadata": {
    "collapsed": true
   },
   "outputs": [],
   "source": [
    "from moviepy.editor import VideoFileClip\n",
    "from IPython.display import HTML"
   ]
  },
  {
   "cell_type": "code",
   "execution_count": 631,
   "metadata": {
    "collapsed": false
   },
   "outputs": [
    {
     "name": "stdout",
     "output_type": "stream",
     "text": [
      "3.691753589880591\n",
      "3.691753589880591\n",
      "[MoviePy] >>>> Building video first.mp4\n",
      "[MoviePy] Writing video first.mp4\n"
     ]
    },
    {
     "name": "stderr",
     "output_type": "stream",
     "text": [
      "\n",
      "  0%|          | 0/1261 [00:00<?, ?it/s]\u001b[A\n",
      "  0%|          | 1/1261 [00:00<02:56,  7.15it/s]"
     ]
    },
    {
     "name": "stdout",
     "output_type": "stream",
     "text": [
      "3.691753589880591\n",
      "3.691753589880591\n"
     ]
    },
    {
     "name": "stderr",
     "output_type": "stream",
     "text": [
      "\u001b[A\n",
      "  0%|          | 2/1261 [00:00<03:00,  6.98it/s]"
     ]
    },
    {
     "name": "stdout",
     "output_type": "stream",
     "text": [
      "3.993271871734123\n",
      "3.993271871734123\n"
     ]
    },
    {
     "name": "stderr",
     "output_type": "stream",
     "text": [
      "\u001b[A\n",
      "  0%|          | 3/1261 [00:00<03:01,  6.94it/s]"
     ]
    },
    {
     "name": "stdout",
     "output_type": "stream",
     "text": [
      "4.2932512315383065\n",
      "4.2932512315383065\n"
     ]
    },
    {
     "name": "stderr",
     "output_type": "stream",
     "text": [
      "\u001b[A\n",
      "  0%|          | 4/1261 [00:00<03:02,  6.90it/s]"
     ]
    },
    {
     "name": "stdout",
     "output_type": "stream",
     "text": [
      "4.430316743167168\n",
      "4.430316743167168\n"
     ]
    },
    {
     "name": "stderr",
     "output_type": "stream",
     "text": [
      "\u001b[A\n",
      "  0%|          | 5/1261 [00:00<03:06,  6.72it/s]"
     ]
    },
    {
     "name": "stdout",
     "output_type": "stream",
     "text": [
      "4.520901840641727\n",
      "4.520901840641727\n"
     ]
    },
    {
     "name": "stderr",
     "output_type": "stream",
     "text": [
      "\u001b[A\n",
      "  0%|          | 6/1261 [00:00<03:04,  6.78it/s]"
     ]
    },
    {
     "name": "stdout",
     "output_type": "stream",
     "text": [
      "4.97222347624529\n",
      "4.97222347624529\n"
     ]
    },
    {
     "name": "stderr",
     "output_type": "stream",
     "text": [
      "\u001b[A\n",
      "  1%|          | 7/1261 [00:01<03:06,  6.73it/s]"
     ]
    },
    {
     "name": "stdout",
     "output_type": "stream",
     "text": [
      "5.338102031457311\n",
      "5.338102031457311\n"
     ]
    },
    {
     "name": "stderr",
     "output_type": "stream",
     "text": [
      "\u001b[A\n",
      "  1%|          | 8/1261 [00:01<03:14,  6.46it/s]"
     ]
    },
    {
     "name": "stdout",
     "output_type": "stream",
     "text": [
      "5.357238323873844\n",
      "5.357238323873844\n"
     ]
    },
    {
     "name": "stderr",
     "output_type": "stream",
     "text": [
      "\u001b[A"
     ]
    },
    {
     "name": "stdout",
     "output_type": "stream",
     "text": [
      "5.355720149733315\n",
      "5.355720149733315\n"
     ]
    },
    {
     "name": "stderr",
     "output_type": "stream",
     "text": [
      "\n",
      "  1%|          | 9/1261 [00:01<03:16,  6.37it/s]\u001b[A\n",
      "  1%|          | 10/1261 [00:01<03:05,  6.73it/s]"
     ]
    },
    {
     "name": "stdout",
     "output_type": "stream",
     "text": [
      "4.752653712012034\n",
      "4.752653712012034\n"
     ]
    },
    {
     "name": "stderr",
     "output_type": "stream",
     "text": [
      "\u001b[A\n",
      "  1%|          | 11/1261 [00:01<03:03,  6.82it/s]"
     ]
    },
    {
     "name": "stdout",
     "output_type": "stream",
     "text": [
      "3.8099086978800187\n",
      "3.8099086978800187\n"
     ]
    },
    {
     "name": "stderr",
     "output_type": "stream",
     "text": [
      "\u001b[A\n",
      "  1%|          | 12/1261 [00:01<02:57,  7.04it/s]"
     ]
    },
    {
     "name": "stdout",
     "output_type": "stream",
     "text": [
      "3.08776843452506\n",
      "3.08776843452506\n"
     ]
    },
    {
     "name": "stderr",
     "output_type": "stream",
     "text": [
      "\u001b[A\n",
      "  1%|          | 13/1261 [00:01<02:52,  7.21it/s]"
     ]
    },
    {
     "name": "stdout",
     "output_type": "stream",
     "text": [
      "3.7494910605241785\n",
      "3.7494910605241785\n"
     ]
    },
    {
     "name": "stderr",
     "output_type": "stream",
     "text": [
      "\u001b[A\n",
      "  1%|          | 14/1261 [00:02<02:49,  7.37it/s]"
     ]
    },
    {
     "name": "stdout",
     "output_type": "stream",
     "text": [
      "3.1490877762525997\n",
      "3.1490877762525997\n"
     ]
    },
    {
     "name": "stderr",
     "output_type": "stream",
     "text": [
      "\u001b[A\n",
      "  1%|          | 15/1261 [00:02<02:46,  7.47it/s]"
     ]
    },
    {
     "name": "stdout",
     "output_type": "stream",
     "text": [
      "5.762150257950907\n",
      "5.762150257950907\n"
     ]
    },
    {
     "name": "stderr",
     "output_type": "stream",
     "text": [
      "\u001b[A\n",
      "  1%|▏         | 16/1261 [00:02<02:46,  7.48it/s]"
     ]
    },
    {
     "name": "stdout",
     "output_type": "stream",
     "text": [
      "5.497607517128017\n",
      "5.497607517128017\n"
     ]
    },
    {
     "name": "stderr",
     "output_type": "stream",
     "text": [
      "\u001b[A\n",
      "  1%|▏         | 17/1261 [00:02<02:46,  7.47it/s]"
     ]
    },
    {
     "name": "stdout",
     "output_type": "stream",
     "text": [
      "5.658352907632889\n",
      "5.658352907632889\n"
     ]
    },
    {
     "name": "stderr",
     "output_type": "stream",
     "text": [
      "\u001b[A\n",
      "  1%|▏         | 18/1261 [00:02<02:43,  7.61it/s]"
     ]
    },
    {
     "name": "stdout",
     "output_type": "stream",
     "text": [
      "5.684408397202333\n",
      "5.684408397202333\n"
     ]
    },
    {
     "name": "stderr",
     "output_type": "stream",
     "text": [
      "\u001b[A\n",
      "  2%|▏         | 19/1261 [00:02<02:42,  7.62it/s]"
     ]
    },
    {
     "name": "stdout",
     "output_type": "stream",
     "text": [
      "5.667820005824069\n",
      "5.667820005824069\n"
     ]
    },
    {
     "name": "stderr",
     "output_type": "stream",
     "text": [
      "\u001b[A\n",
      "  2%|▏         | 20/1261 [00:02<02:43,  7.60it/s]"
     ]
    },
    {
     "name": "stdout",
     "output_type": "stream",
     "text": [
      "4.834934225033521\n",
      "4.834934225033521\n"
     ]
    },
    {
     "name": "stderr",
     "output_type": "stream",
     "text": [
      "\u001b[A\n",
      "  2%|▏         | 21/1261 [00:02<02:43,  7.60it/s]"
     ]
    },
    {
     "name": "stdout",
     "output_type": "stream",
     "text": [
      "1.854574385786691\n",
      "1.854574385786691\n"
     ]
    },
    {
     "name": "stderr",
     "output_type": "stream",
     "text": [
      "\u001b[A\n",
      "  2%|▏         | 22/1261 [00:03<02:41,  7.67it/s]"
     ]
    },
    {
     "name": "stdout",
     "output_type": "stream",
     "text": [
      "359.52255658343984\n",
      "359.52255658343984\n"
     ]
    },
    {
     "name": "stderr",
     "output_type": "stream",
     "text": [
      "\u001b[A\n",
      "  2%|▏         | 23/1261 [00:03<02:40,  7.69it/s]"
     ]
    },
    {
     "name": "stdout",
     "output_type": "stream",
     "text": [
      "0.9412626903413184\n",
      "0.9412626903413184\n"
     ]
    },
    {
     "name": "stderr",
     "output_type": "stream",
     "text": [
      "\u001b[A\n",
      "  2%|▏         | 24/1261 [00:03<02:40,  7.69it/s]"
     ]
    },
    {
     "name": "stdout",
     "output_type": "stream",
     "text": [
      "1.1398965678395143\n",
      "1.1398965678395143\n"
     ]
    },
    {
     "name": "stderr",
     "output_type": "stream",
     "text": [
      "\u001b[A\n",
      "  2%|▏         | 25/1261 [00:03<02:41,  7.66it/s]"
     ]
    },
    {
     "name": "stdout",
     "output_type": "stream",
     "text": [
      "1.5748630830421462\n",
      "1.5748630830421462\n"
     ]
    },
    {
     "name": "stderr",
     "output_type": "stream",
     "text": [
      "\u001b[A\n",
      "  2%|▏         | 26/1261 [00:03<02:40,  7.68it/s]"
     ]
    },
    {
     "name": "stdout",
     "output_type": "stream",
     "text": [
      "359.9754096716388\n",
      "359.9754096716388\n"
     ]
    },
    {
     "name": "stderr",
     "output_type": "stream",
     "text": [
      "\u001b[A\n",
      "  2%|▏         | 27/1261 [00:03<02:39,  7.75it/s]"
     ]
    },
    {
     "name": "stdout",
     "output_type": "stream",
     "text": [
      "358.5072315553407\n",
      "358.5072315553407\n"
     ]
    },
    {
     "name": "stderr",
     "output_type": "stream",
     "text": [
      "\u001b[A\n",
      "  2%|▏         | 28/1261 [00:03<02:37,  7.82it/s]"
     ]
    },
    {
     "name": "stdout",
     "output_type": "stream",
     "text": [
      "0.5959731927659959\n",
      "0.5959731927659959\n"
     ]
    },
    {
     "name": "stderr",
     "output_type": "stream",
     "text": [
      "\u001b[A\n",
      "  2%|▏         | 29/1261 [00:03<02:36,  7.85it/s]"
     ]
    },
    {
     "name": "stdout",
     "output_type": "stream",
     "text": [
      "0.11188882269880196\n",
      "0.11188882269880196\n"
     ]
    },
    {
     "name": "stderr",
     "output_type": "stream",
     "text": [
      "\u001b[A\n",
      "  2%|▏         | 30/1261 [00:04<02:36,  7.87it/s]"
     ]
    },
    {
     "name": "stdout",
     "output_type": "stream",
     "text": [
      "0.4514908681317138\n",
      "0.4514908681317138\n"
     ]
    },
    {
     "name": "stderr",
     "output_type": "stream",
     "text": [
      "\u001b[A\n",
      "  2%|▏         | 31/1261 [00:04<02:36,  7.88it/s]"
     ]
    },
    {
     "name": "stdout",
     "output_type": "stream",
     "text": [
      "0.9561139095562794\n",
      "0.9561139095562794\n"
     ]
    },
    {
     "name": "stderr",
     "output_type": "stream",
     "text": [
      "\u001b[A\n",
      "  3%|▎         | 32/1261 [00:04<02:34,  7.97it/s]"
     ]
    },
    {
     "name": "stdout",
     "output_type": "stream",
     "text": [
      "1.385759640991182\n",
      "1.385759640991182\n"
     ]
    },
    {
     "name": "stderr",
     "output_type": "stream",
     "text": [
      "\u001b[A\n",
      "  3%|▎         | 33/1261 [00:04<02:34,  7.94it/s]"
     ]
    },
    {
     "name": "stdout",
     "output_type": "stream",
     "text": [
      "2.3762064200095665\n",
      "2.3762064200095665\n"
     ]
    },
    {
     "name": "stderr",
     "output_type": "stream",
     "text": [
      "\u001b[A\n",
      "  3%|▎         | 34/1261 [00:04<02:35,  7.90it/s]"
     ]
    },
    {
     "name": "stdout",
     "output_type": "stream",
     "text": [
      "3.1281296033416766\n",
      "3.1281296033416766\n"
     ]
    },
    {
     "name": "stderr",
     "output_type": "stream",
     "text": [
      "\u001b[A\n",
      "  3%|▎         | 35/1261 [00:04<02:36,  7.85it/s]"
     ]
    },
    {
     "name": "stdout",
     "output_type": "stream",
     "text": [
      "3.628686952230055\n",
      "3.628686952230055\n"
     ]
    },
    {
     "name": "stderr",
     "output_type": "stream",
     "text": [
      "\u001b[A\n",
      "  3%|▎         | 36/1261 [00:04<02:37,  7.79it/s]"
     ]
    },
    {
     "name": "stdout",
     "output_type": "stream",
     "text": [
      "3.863433589533088\n",
      "3.863433589533088\n"
     ]
    },
    {
     "name": "stderr",
     "output_type": "stream",
     "text": [
      "\u001b[A\n",
      "  3%|▎         | 37/1261 [00:04<02:35,  7.86it/s]"
     ]
    },
    {
     "name": "stdout",
     "output_type": "stream",
     "text": [
      "2.6274802627335703\n",
      "2.6274802627335703\n"
     ]
    },
    {
     "name": "stderr",
     "output_type": "stream",
     "text": [
      "\u001b[A\n",
      "  3%|▎         | 38/1261 [00:05<02:38,  7.71it/s]"
     ]
    },
    {
     "name": "stdout",
     "output_type": "stream",
     "text": [
      "3.240583516582319\n",
      "3.240583516582319\n"
     ]
    },
    {
     "name": "stderr",
     "output_type": "stream",
     "text": [
      "\u001b[A\n",
      "  3%|▎         | 39/1261 [00:05<02:37,  7.77it/s]"
     ]
    },
    {
     "name": "stdout",
     "output_type": "stream",
     "text": [
      "2.5414122636911998\n",
      "2.5414122636911998\n"
     ]
    },
    {
     "name": "stderr",
     "output_type": "stream",
     "text": [
      "\u001b[A\n",
      "  3%|▎         | 40/1261 [00:05<02:35,  7.84it/s]"
     ]
    },
    {
     "name": "stdout",
     "output_type": "stream",
     "text": [
      "5.608714006695209\n",
      "5.608714006695209\n"
     ]
    },
    {
     "name": "stderr",
     "output_type": "stream",
     "text": [
      "\u001b[A\n",
      "  3%|▎         | 41/1261 [00:05<02:35,  7.82it/s]"
     ]
    },
    {
     "name": "stdout",
     "output_type": "stream",
     "text": [
      "4.854404129138857\n",
      "4.854404129138857\n"
     ]
    },
    {
     "name": "stderr",
     "output_type": "stream",
     "text": [
      "\u001b[A\n",
      "  3%|▎         | 42/1261 [00:05<02:35,  7.83it/s]"
     ]
    },
    {
     "name": "stdout",
     "output_type": "stream",
     "text": [
      "6.10183232266445\n",
      "6.10183232266445\n"
     ]
    },
    {
     "name": "stderr",
     "output_type": "stream",
     "text": [
      "\u001b[A\n",
      "  3%|▎         | 43/1261 [00:05<02:39,  7.63it/s]"
     ]
    },
    {
     "name": "stdout",
     "output_type": "stream",
     "text": [
      "6.087349721400642\n",
      "6.087349721400642\n"
     ]
    },
    {
     "name": "stderr",
     "output_type": "stream",
     "text": [
      "\u001b[A\n",
      "  3%|▎         | 44/1261 [00:05<02:39,  7.62it/s]"
     ]
    },
    {
     "name": "stdout",
     "output_type": "stream",
     "text": [
      "6.910111323878937\n",
      "6.910111323878937\n"
     ]
    },
    {
     "name": "stderr",
     "output_type": "stream",
     "text": [
      "\u001b[A\n",
      "  4%|▎         | 45/1261 [00:06<02:38,  7.67it/s]"
     ]
    },
    {
     "name": "stdout",
     "output_type": "stream",
     "text": [
      "6.6236558520317885\n",
      "6.6236558520317885\n"
     ]
    },
    {
     "name": "stderr",
     "output_type": "stream",
     "text": [
      "\u001b[A\n",
      "  4%|▎         | 46/1261 [00:06<02:36,  7.77it/s]"
     ]
    },
    {
     "name": "stdout",
     "output_type": "stream",
     "text": [
      "6.156710809158085\n",
      "6.156710809158085\n"
     ]
    },
    {
     "name": "stderr",
     "output_type": "stream",
     "text": [
      "\u001b[A\n",
      "  4%|▎         | 47/1261 [00:06<02:37,  7.71it/s]"
     ]
    },
    {
     "name": "stdout",
     "output_type": "stream",
     "text": [
      "5.9507777013391205\n",
      "5.9507777013391205\n"
     ]
    },
    {
     "name": "stderr",
     "output_type": "stream",
     "text": [
      "\u001b[A\n",
      "  4%|▍         | 48/1261 [00:06<02:39,  7.62it/s]"
     ]
    },
    {
     "name": "stdout",
     "output_type": "stream",
     "text": [
      "4.760857814517749\n",
      "4.760857814517749\n"
     ]
    },
    {
     "name": "stderr",
     "output_type": "stream",
     "text": [
      "\u001b[A\n",
      "  4%|▍         | 49/1261 [00:06<02:39,  7.58it/s]"
     ]
    },
    {
     "name": "stdout",
     "output_type": "stream",
     "text": [
      "4.605045941873868\n",
      "4.605045941873868\n"
     ]
    },
    {
     "name": "stderr",
     "output_type": "stream",
     "text": [
      "\u001b[A\n",
      "  4%|▍         | 50/1261 [00:06<02:42,  7.46it/s]"
     ]
    },
    {
     "name": "stdout",
     "output_type": "stream",
     "text": [
      "3.4655074030756623\n",
      "3.4655074030756623\n"
     ]
    },
    {
     "name": "stderr",
     "output_type": "stream",
     "text": [
      "\u001b[A\n",
      "  4%|▍         | 51/1261 [00:06<02:41,  7.51it/s]"
     ]
    },
    {
     "name": "stdout",
     "output_type": "stream",
     "text": [
      "4.632823969918263\n",
      "4.632823969918263\n"
     ]
    },
    {
     "name": "stderr",
     "output_type": "stream",
     "text": [
      "\u001b[A\n",
      "  4%|▍         | 52/1261 [00:06<02:43,  7.37it/s]"
     ]
    },
    {
     "name": "stdout",
     "output_type": "stream",
     "text": [
      "3.817998253609403\n",
      "3.817998253609403\n"
     ]
    },
    {
     "name": "stderr",
     "output_type": "stream",
     "text": [
      "\u001b[A\n",
      "  4%|▍         | 53/1261 [00:07<02:44,  7.35it/s]"
     ]
    },
    {
     "name": "stdout",
     "output_type": "stream",
     "text": [
      "7.2244880272883165\n",
      "7.2244880272883165\n"
     ]
    },
    {
     "name": "stderr",
     "output_type": "stream",
     "text": [
      "\u001b[A\n",
      "  4%|▍         | 54/1261 [00:07<02:50,  7.07it/s]"
     ]
    },
    {
     "name": "stdout",
     "output_type": "stream",
     "text": [
      "6.481517987649113\n",
      "6.481517987649113\n"
     ]
    },
    {
     "name": "stderr",
     "output_type": "stream",
     "text": [
      "\u001b[A\n",
      "  4%|▍         | 55/1261 [00:07<02:56,  6.84it/s]"
     ]
    },
    {
     "name": "stdout",
     "output_type": "stream",
     "text": [
      "7.104264809585402\n",
      "7.104264809585402\n"
     ]
    },
    {
     "name": "stderr",
     "output_type": "stream",
     "text": [
      "\u001b[A\n",
      "  4%|▍         | 56/1261 [00:07<02:56,  6.84it/s]"
     ]
    },
    {
     "name": "stdout",
     "output_type": "stream",
     "text": [
      "7.3062530056377\n",
      "7.3062530056377\n"
     ]
    },
    {
     "name": "stderr",
     "output_type": "stream",
     "text": [
      "\u001b[A\n",
      "  5%|▍         | 57/1261 [00:07<02:53,  6.96it/s]"
     ]
    },
    {
     "name": "stdout",
     "output_type": "stream",
     "text": [
      "7.592278612645259\n",
      "7.592278612645259\n"
     ]
    },
    {
     "name": "stderr",
     "output_type": "stream",
     "text": [
      "\u001b[A\n",
      "  5%|▍         | 58/1261 [00:07<03:01,  6.64it/s]"
     ]
    },
    {
     "name": "stdout",
     "output_type": "stream",
     "text": [
      "6.801761347837328\n",
      "6.801761347837328\n"
     ]
    },
    {
     "name": "stderr",
     "output_type": "stream",
     "text": [
      "\u001b[A"
     ]
    },
    {
     "name": "stdout",
     "output_type": "stream",
     "text": [
      "6.139467875308583\n",
      "6.139467875308583\n"
     ]
    },
    {
     "name": "stderr",
     "output_type": "stream",
     "text": [
      "\n",
      "  5%|▍         | 59/1261 [00:08<03:06,  6.45it/s]\u001b[A"
     ]
    },
    {
     "name": "stdout",
     "output_type": "stream",
     "text": [
      "5.275641666799402\n",
      "5.275641666799402\n"
     ]
    },
    {
     "name": "stderr",
     "output_type": "stream",
     "text": [
      "\n",
      "  5%|▍         | 60/1261 [00:08<03:11,  6.28it/s]\u001b[A\n",
      "  5%|▍         | 61/1261 [00:08<02:59,  6.70it/s]"
     ]
    },
    {
     "name": "stdout",
     "output_type": "stream",
     "text": [
      "4.564974944577443\n",
      "4.564974944577443\n"
     ]
    },
    {
     "name": "stderr",
     "output_type": "stream",
     "text": [
      "\u001b[A\n",
      "  5%|▍         | 62/1261 [00:08<02:53,  6.90it/s]"
     ]
    },
    {
     "name": "stdout",
     "output_type": "stream",
     "text": [
      "3.7503965906230405\n",
      "3.7503965906230405\n"
     ]
    },
    {
     "name": "stderr",
     "output_type": "stream",
     "text": [
      "\u001b[A\n",
      "  5%|▍         | 63/1261 [00:08<02:49,  7.06it/s]"
     ]
    },
    {
     "name": "stdout",
     "output_type": "stream",
     "text": [
      "3.53961973340256\n",
      "3.53961973340256\n"
     ]
    },
    {
     "name": "stderr",
     "output_type": "stream",
     "text": [
      "\u001b[A\n",
      "  5%|▌         | 64/1261 [00:08<02:50,  7.04it/s]"
     ]
    },
    {
     "name": "stdout",
     "output_type": "stream",
     "text": [
      "2.869374213642459\n",
      "2.869374213642459\n"
     ]
    },
    {
     "name": "stderr",
     "output_type": "stream",
     "text": [
      "\u001b[A\n",
      "  5%|▌         | 65/1261 [00:08<02:51,  6.98it/s]"
     ]
    },
    {
     "name": "stdout",
     "output_type": "stream",
     "text": [
      "2.747384669553867\n",
      "2.747384669553867\n"
     ]
    },
    {
     "name": "stderr",
     "output_type": "stream",
     "text": [
      "\u001b[A\n",
      "  5%|▌         | 66/1261 [00:09<02:47,  7.13it/s]"
     ]
    },
    {
     "name": "stdout",
     "output_type": "stream",
     "text": [
      "2.0165742019294157\n",
      "2.0165742019294157\n"
     ]
    },
    {
     "name": "stderr",
     "output_type": "stream",
     "text": [
      "\u001b[A\n",
      "  5%|▌         | 67/1261 [00:09<02:46,  7.19it/s]"
     ]
    },
    {
     "name": "stdout",
     "output_type": "stream",
     "text": [
      "1.4992608514849053\n",
      "1.4992608514849053\n"
     ]
    },
    {
     "name": "stderr",
     "output_type": "stream",
     "text": [
      "\u001b[A\n",
      "  5%|▌         | 68/1261 [00:09<02:47,  7.14it/s]"
     ]
    },
    {
     "name": "stdout",
     "output_type": "stream",
     "text": [
      "1.5252232450507108\n",
      "1.5252232450507108\n"
     ]
    },
    {
     "name": "stderr",
     "output_type": "stream",
     "text": [
      "\u001b[A\n",
      "  5%|▌         | 69/1261 [00:09<02:44,  7.25it/s]"
     ]
    },
    {
     "name": "stdout",
     "output_type": "stream",
     "text": [
      "1.7419440183771258\n",
      "1.7419440183771258\n"
     ]
    },
    {
     "name": "stderr",
     "output_type": "stream",
     "text": [
      "\u001b[A\n",
      "  6%|▌         | 70/1261 [00:09<02:42,  7.34it/s]"
     ]
    },
    {
     "name": "stdout",
     "output_type": "stream",
     "text": [
      "2.5367309956441204\n",
      "2.5367309956441204\n"
     ]
    },
    {
     "name": "stderr",
     "output_type": "stream",
     "text": [
      "\u001b[A\n",
      "  6%|▌         | 71/1261 [00:09<02:41,  7.37it/s]"
     ]
    },
    {
     "name": "stdout",
     "output_type": "stream",
     "text": [
      "2.9585747364244526\n",
      "2.9585747364244526\n"
     ]
    },
    {
     "name": "stderr",
     "output_type": "stream",
     "text": [
      "\u001b[A\n",
      "  6%|▌         | 72/1261 [00:09<02:41,  7.35it/s]"
     ]
    },
    {
     "name": "stdout",
     "output_type": "stream",
     "text": [
      "3.1420598682325362\n",
      "3.1420598682325362\n"
     ]
    },
    {
     "name": "stderr",
     "output_type": "stream",
     "text": [
      "\u001b[A\n",
      "  6%|▌         | 73/1261 [00:09<02:42,  7.32it/s]"
     ]
    },
    {
     "name": "stdout",
     "output_type": "stream",
     "text": [
      "2.960801235339659\n",
      "2.960801235339659\n"
     ]
    },
    {
     "name": "stderr",
     "output_type": "stream",
     "text": [
      "\u001b[A\n",
      "  6%|▌         | 74/1261 [00:10<02:40,  7.41it/s]"
     ]
    },
    {
     "name": "stdout",
     "output_type": "stream",
     "text": [
      "2.2122449966523163\n",
      "2.2122449966523163\n"
     ]
    },
    {
     "name": "stderr",
     "output_type": "stream",
     "text": [
      "\u001b[A\n",
      "  6%|▌         | 75/1261 [00:10<02:40,  7.38it/s]"
     ]
    },
    {
     "name": "stdout",
     "output_type": "stream",
     "text": [
      "1.9527678658841978\n",
      "1.9527678658841978\n"
     ]
    },
    {
     "name": "stderr",
     "output_type": "stream",
     "text": [
      "\u001b[A\n",
      "  6%|▌         | 76/1261 [00:10<02:40,  7.39it/s]"
     ]
    },
    {
     "name": "stdout",
     "output_type": "stream",
     "text": [
      "2.284914965286589\n",
      "2.284914965286589\n"
     ]
    },
    {
     "name": "stderr",
     "output_type": "stream",
     "text": [
      "\u001b[A\n",
      "  6%|▌         | 77/1261 [00:10<02:43,  7.25it/s]"
     ]
    },
    {
     "name": "stdout",
     "output_type": "stream",
     "text": [
      "3.005843899997217\n",
      "3.005843899997217\n"
     ]
    },
    {
     "name": "stderr",
     "output_type": "stream",
     "text": [
      "\u001b[A\n",
      "  6%|▌         | 78/1261 [00:10<02:42,  7.26it/s]"
     ]
    },
    {
     "name": "stdout",
     "output_type": "stream",
     "text": [
      "3.9660028648140724\n",
      "3.9660028648140724\n"
     ]
    },
    {
     "name": "stderr",
     "output_type": "stream",
     "text": [
      "\u001b[A\n",
      "  6%|▋         | 79/1261 [00:10<02:43,  7.23it/s]"
     ]
    },
    {
     "name": "stdout",
     "output_type": "stream",
     "text": [
      "4.277859895083566\n",
      "4.277859895083566\n"
     ]
    },
    {
     "name": "stderr",
     "output_type": "stream",
     "text": [
      "\u001b[A\n",
      "  6%|▋         | 80/1261 [00:10<02:43,  7.24it/s]"
     ]
    },
    {
     "name": "stdout",
     "output_type": "stream",
     "text": [
      "5.1558125408560045\n",
      "5.1558125408560045\n"
     ]
    },
    {
     "name": "stderr",
     "output_type": "stream",
     "text": [
      "\u001b[A\n",
      "  6%|▋         | 81/1261 [00:11<02:41,  7.29it/s]"
     ]
    },
    {
     "name": "stdout",
     "output_type": "stream",
     "text": [
      "5.02733791301398\n",
      "5.02733791301398\n"
     ]
    },
    {
     "name": "stderr",
     "output_type": "stream",
     "text": [
      "\u001b[A\n",
      "  7%|▋         | 82/1261 [00:11<02:42,  7.24it/s]"
     ]
    },
    {
     "name": "stdout",
     "output_type": "stream",
     "text": [
      "4.066244684599951\n",
      "4.066244684599951\n"
     ]
    },
    {
     "name": "stderr",
     "output_type": "stream",
     "text": [
      "\u001b[A\n",
      "  7%|▋         | 83/1261 [00:11<02:42,  7.24it/s]"
     ]
    },
    {
     "name": "stdout",
     "output_type": "stream",
     "text": [
      "2.775906513575592\n",
      "2.775906513575592\n"
     ]
    },
    {
     "name": "stderr",
     "output_type": "stream",
     "text": [
      "\u001b[A\n",
      "  7%|▋         | 84/1261 [00:11<02:42,  7.24it/s]"
     ]
    },
    {
     "name": "stdout",
     "output_type": "stream",
     "text": [
      "1.6231147978260196\n",
      "1.6231147978260196\n"
     ]
    },
    {
     "name": "stderr",
     "output_type": "stream",
     "text": [
      "\u001b[A\n",
      "  7%|▋         | 85/1261 [00:11<02:41,  7.26it/s]"
     ]
    },
    {
     "name": "stdout",
     "output_type": "stream",
     "text": [
      "0.9780904226417988\n",
      "0.9780904226417988\n"
     ]
    },
    {
     "name": "stderr",
     "output_type": "stream",
     "text": [
      "\u001b[A\n",
      "  7%|▋         | 86/1261 [00:11<02:44,  7.16it/s]"
     ]
    },
    {
     "name": "stdout",
     "output_type": "stream",
     "text": [
      "0.664548014383854\n",
      "0.664548014383854\n"
     ]
    },
    {
     "name": "stderr",
     "output_type": "stream",
     "text": [
      "\u001b[A\n",
      "  7%|▋         | 87/1261 [00:11<02:40,  7.31it/s]"
     ]
    },
    {
     "name": "stdout",
     "output_type": "stream",
     "text": [
      "0.4533263277212427\n",
      "0.4533263277212427\n"
     ]
    },
    {
     "name": "stderr",
     "output_type": "stream",
     "text": [
      "\u001b[A\n",
      "  7%|▋         | 88/1261 [00:12<02:39,  7.34it/s]"
     ]
    },
    {
     "name": "stdout",
     "output_type": "stream",
     "text": [
      "0.2844060049746986\n",
      "0.2844060049746986\n"
     ]
    },
    {
     "name": "stderr",
     "output_type": "stream",
     "text": [
      "\u001b[A\n",
      "  7%|▋         | 89/1261 [00:12<02:38,  7.41it/s]"
     ]
    },
    {
     "name": "stdout",
     "output_type": "stream",
     "text": [
      "0.4183579360155818\n",
      "0.4183579360155818\n"
     ]
    },
    {
     "name": "stderr",
     "output_type": "stream",
     "text": [
      "\u001b[A\n",
      "  7%|▋         | 90/1261 [00:12<02:38,  7.38it/s]"
     ]
    },
    {
     "name": "stdout",
     "output_type": "stream",
     "text": [
      "0.4961431811111652\n",
      "0.4961431811111652\n"
     ]
    },
    {
     "name": "stderr",
     "output_type": "stream",
     "text": [
      "\u001b[A\n",
      "  7%|▋         | 91/1261 [00:12<02:38,  7.40it/s]"
     ]
    },
    {
     "name": "stdout",
     "output_type": "stream",
     "text": [
      "0.9593824599260188\n",
      "0.9593824599260188\n"
     ]
    },
    {
     "name": "stderr",
     "output_type": "stream",
     "text": [
      "\u001b[A\n",
      "  7%|▋         | 92/1261 [00:12<02:39,  7.35it/s]"
     ]
    },
    {
     "name": "stdout",
     "output_type": "stream",
     "text": [
      "1.7366010558512244\n",
      "1.7366010558512244\n"
     ]
    },
    {
     "name": "stderr",
     "output_type": "stream",
     "text": [
      "\u001b[A\n",
      "  7%|▋         | 93/1261 [00:12<02:39,  7.30it/s]"
     ]
    },
    {
     "name": "stdout",
     "output_type": "stream",
     "text": [
      "2.0988974160327416\n",
      "2.0988974160327416\n"
     ]
    },
    {
     "name": "stderr",
     "output_type": "stream",
     "text": [
      "\u001b[A\n",
      "  7%|▋         | 94/1261 [00:12<02:39,  7.31it/s]"
     ]
    },
    {
     "name": "stdout",
     "output_type": "stream",
     "text": [
      "2.6001470298260756\n",
      "2.6001470298260756\n"
     ]
    },
    {
     "name": "stderr",
     "output_type": "stream",
     "text": [
      "\u001b[A\n",
      "  8%|▊         | 95/1261 [00:12<02:40,  7.26it/s]"
     ]
    },
    {
     "name": "stdout",
     "output_type": "stream",
     "text": [
      "3.14498568568888\n",
      "3.14498568568888\n"
     ]
    },
    {
     "name": "stderr",
     "output_type": "stream",
     "text": [
      "\u001b[A\n",
      "  8%|▊         | 96/1261 [00:13<02:40,  7.28it/s]"
     ]
    },
    {
     "name": "stdout",
     "output_type": "stream",
     "text": [
      "3.511918458068976\n",
      "3.511918458068976\n"
     ]
    },
    {
     "name": "stderr",
     "output_type": "stream",
     "text": [
      "\u001b[A\n",
      "  8%|▊         | 97/1261 [00:13<02:39,  7.28it/s]"
     ]
    },
    {
     "name": "stdout",
     "output_type": "stream",
     "text": [
      "2.4212727630065274\n",
      "2.4212727630065274\n"
     ]
    },
    {
     "name": "stderr",
     "output_type": "stream",
     "text": [
      "\u001b[A\n",
      "  8%|▊         | 98/1261 [00:13<02:40,  7.24it/s]"
     ]
    },
    {
     "name": "stdout",
     "output_type": "stream",
     "text": [
      "1.7657783058748464\n",
      "1.7657783058748464\n"
     ]
    },
    {
     "name": "stderr",
     "output_type": "stream",
     "text": [
      "\u001b[A\n",
      "  8%|▊         | 99/1261 [00:13<02:42,  7.16it/s]"
     ]
    },
    {
     "name": "stdout",
     "output_type": "stream",
     "text": [
      "0.6501368120316329\n",
      "0.6501368120316329\n"
     ]
    },
    {
     "name": "stderr",
     "output_type": "stream",
     "text": [
      "\u001b[A\n",
      "  8%|▊         | 100/1261 [00:13<02:39,  7.27it/s]"
     ]
    },
    {
     "name": "stdout",
     "output_type": "stream",
     "text": [
      "0.475992197409596\n",
      "0.475992197409596\n"
     ]
    },
    {
     "name": "stderr",
     "output_type": "stream",
     "text": [
      "\u001b[A\n",
      "  8%|▊         | 101/1261 [00:13<02:38,  7.32it/s]"
     ]
    },
    {
     "name": "stdout",
     "output_type": "stream",
     "text": [
      "1.7897088010327025\n",
      "1.7897088010327025\n"
     ]
    },
    {
     "name": "stderr",
     "output_type": "stream",
     "text": [
      "\u001b[A\n",
      "  8%|▊         | 102/1261 [00:13<02:39,  7.29it/s]"
     ]
    },
    {
     "name": "stdout",
     "output_type": "stream",
     "text": [
      "3.3229806520330385\n",
      "3.3229806520330385\n"
     ]
    },
    {
     "name": "stderr",
     "output_type": "stream",
     "text": [
      "\u001b[A\n",
      "  8%|▊         | 103/1261 [00:14<02:37,  7.37it/s]"
     ]
    },
    {
     "name": "stdout",
     "output_type": "stream",
     "text": [
      "4.344964317981976\n",
      "4.344964317981976\n"
     ]
    },
    {
     "name": "stderr",
     "output_type": "stream",
     "text": [
      "\u001b[A\n",
      "  8%|▊         | 104/1261 [00:14<02:37,  7.34it/s]"
     ]
    },
    {
     "name": "stdout",
     "output_type": "stream",
     "text": [
      "5.1977562747288175\n",
      "5.1977562747288175\n"
     ]
    },
    {
     "name": "stderr",
     "output_type": "stream",
     "text": [
      "\u001b[A\n",
      "  8%|▊         | 105/1261 [00:14<02:41,  7.16it/s]"
     ]
    },
    {
     "name": "stdout",
     "output_type": "stream",
     "text": [
      "4.9060085445744335\n",
      "4.9060085445744335\n"
     ]
    },
    {
     "name": "stderr",
     "output_type": "stream",
     "text": [
      "\u001b[A\n",
      "  8%|▊         | 106/1261 [00:14<02:39,  7.25it/s]"
     ]
    },
    {
     "name": "stdout",
     "output_type": "stream",
     "text": [
      "5.018318371223813\n",
      "5.018318371223813\n"
     ]
    },
    {
     "name": "stderr",
     "output_type": "stream",
     "text": [
      "\u001b[A\n",
      "  8%|▊         | 107/1261 [00:14<02:36,  7.37it/s]"
     ]
    },
    {
     "name": "stdout",
     "output_type": "stream",
     "text": [
      "5.552735224577646\n",
      "5.552735224577646\n"
     ]
    },
    {
     "name": "stderr",
     "output_type": "stream",
     "text": [
      "\u001b[A\n",
      "  9%|▊         | 108/1261 [00:14<02:32,  7.57it/s]"
     ]
    },
    {
     "name": "stdout",
     "output_type": "stream",
     "text": [
      "5.512860552601978\n",
      "5.512860552601978\n"
     ]
    },
    {
     "name": "stderr",
     "output_type": "stream",
     "text": [
      "\u001b[A\n",
      "  9%|▊         | 109/1261 [00:14<02:32,  7.53it/s]"
     ]
    },
    {
     "name": "stdout",
     "output_type": "stream",
     "text": [
      "4.621173951674791\n",
      "4.621173951674791\n"
     ]
    },
    {
     "name": "stderr",
     "output_type": "stream",
     "text": [
      "\u001b[A\n",
      "  9%|▊         | 110/1261 [00:15<02:31,  7.57it/s]"
     ]
    },
    {
     "name": "stdout",
     "output_type": "stream",
     "text": [
      "4.149825518346006\n",
      "4.149825518346006\n"
     ]
    },
    {
     "name": "stderr",
     "output_type": "stream",
     "text": [
      "\u001b[A\n",
      "  9%|▉         | 111/1261 [00:15<02:32,  7.54it/s]"
     ]
    },
    {
     "name": "stdout",
     "output_type": "stream",
     "text": [
      "3.7780358175209585\n",
      "3.7780358175209585\n"
     ]
    },
    {
     "name": "stderr",
     "output_type": "stream",
     "text": [
      "\u001b[A\n",
      "  9%|▉         | 112/1261 [00:15<02:30,  7.64it/s]"
     ]
    },
    {
     "name": "stdout",
     "output_type": "stream",
     "text": [
      "3.436534035853583\n",
      "3.436534035853583\n"
     ]
    },
    {
     "name": "stderr",
     "output_type": "stream",
     "text": [
      "\u001b[A\n",
      "  9%|▉         | 113/1261 [00:15<02:31,  7.57it/s]"
     ]
    },
    {
     "name": "stdout",
     "output_type": "stream",
     "text": [
      "3.152870450910541\n",
      "3.152870450910541\n"
     ]
    },
    {
     "name": "stderr",
     "output_type": "stream",
     "text": [
      "\u001b[A\n",
      "  9%|▉         | 114/1261 [00:15<02:31,  7.56it/s]"
     ]
    },
    {
     "name": "stdout",
     "output_type": "stream",
     "text": [
      "3.487937691884781\n",
      "3.487937691884781\n"
     ]
    },
    {
     "name": "stderr",
     "output_type": "stream",
     "text": [
      "\u001b[A\n",
      "  9%|▉         | 115/1261 [00:15<02:33,  7.45it/s]"
     ]
    },
    {
     "name": "stdout",
     "output_type": "stream",
     "text": [
      "3.2928840769081944\n",
      "3.2928840769081944\n"
     ]
    },
    {
     "name": "stderr",
     "output_type": "stream",
     "text": [
      "\u001b[A\n",
      "  9%|▉         | 116/1261 [00:15<02:33,  7.44it/s]"
     ]
    },
    {
     "name": "stdout",
     "output_type": "stream",
     "text": [
      "3.9107575065991114\n",
      "3.9107575065991114\n"
     ]
    },
    {
     "name": "stderr",
     "output_type": "stream",
     "text": [
      "\u001b[A\n",
      "  9%|▉         | 117/1261 [00:15<02:36,  7.32it/s]"
     ]
    },
    {
     "name": "stdout",
     "output_type": "stream",
     "text": [
      "3.650179170622323\n",
      "3.650179170622323\n"
     ]
    },
    {
     "name": "stderr",
     "output_type": "stream",
     "text": [
      "\u001b[A\n",
      "  9%|▉         | 118/1261 [00:16<02:35,  7.34it/s]"
     ]
    },
    {
     "name": "stdout",
     "output_type": "stream",
     "text": [
      "4.366308285629202\n",
      "4.366308285629202\n"
     ]
    },
    {
     "name": "stderr",
     "output_type": "stream",
     "text": [
      "\u001b[A\n",
      "  9%|▉         | 119/1261 [00:16<02:37,  7.26it/s]"
     ]
    },
    {
     "name": "stdout",
     "output_type": "stream",
     "text": [
      "4.736882013155082\n",
      "4.736882013155082\n"
     ]
    },
    {
     "name": "stderr",
     "output_type": "stream",
     "text": [
      "\u001b[A\n",
      " 10%|▉         | 120/1261 [00:16<02:34,  7.37it/s]"
     ]
    },
    {
     "name": "stdout",
     "output_type": "stream",
     "text": [
      "5.287936603105209\n",
      "5.287936603105209\n"
     ]
    },
    {
     "name": "stderr",
     "output_type": "stream",
     "text": [
      "\u001b[A\n",
      " 10%|▉         | 121/1261 [00:16<02:35,  7.33it/s]"
     ]
    },
    {
     "name": "stdout",
     "output_type": "stream",
     "text": [
      "5.44373594803119\n",
      "5.44373594803119\n"
     ]
    },
    {
     "name": "stderr",
     "output_type": "stream",
     "text": [
      "\u001b[A\n",
      " 10%|▉         | 122/1261 [00:16<02:34,  7.36it/s]"
     ]
    },
    {
     "name": "stdout",
     "output_type": "stream",
     "text": [
      "5.706693494174033\n",
      "5.706693494174033\n"
     ]
    },
    {
     "name": "stderr",
     "output_type": "stream",
     "text": [
      "\u001b[A\n",
      " 10%|▉         | 123/1261 [00:16<02:32,  7.45it/s]"
     ]
    },
    {
     "name": "stdout",
     "output_type": "stream",
     "text": [
      "4.790379316941198\n",
      "4.790379316941198\n"
     ]
    },
    {
     "name": "stderr",
     "output_type": "stream",
     "text": [
      "\u001b[A\n",
      " 10%|▉         | 124/1261 [00:16<02:31,  7.51it/s]"
     ]
    },
    {
     "name": "stdout",
     "output_type": "stream",
     "text": [
      "4.838131677179717\n",
      "4.838131677179717\n"
     ]
    },
    {
     "name": "stderr",
     "output_type": "stream",
     "text": [
      "\u001b[A\n",
      " 10%|▉         | 125/1261 [00:17<02:31,  7.51it/s]"
     ]
    },
    {
     "name": "stdout",
     "output_type": "stream",
     "text": [
      "4.540053315975911\n",
      "4.540053315975911\n"
     ]
    },
    {
     "name": "stderr",
     "output_type": "stream",
     "text": [
      "\u001b[A\n",
      " 10%|▉         | 126/1261 [00:17<02:30,  7.56it/s]"
     ]
    },
    {
     "name": "stdout",
     "output_type": "stream",
     "text": [
      "5.0880927559469455\n",
      "5.0880927559469455\n"
     ]
    },
    {
     "name": "stderr",
     "output_type": "stream",
     "text": [
      "\u001b[A\n",
      " 10%|█         | 127/1261 [00:17<02:30,  7.55it/s]"
     ]
    },
    {
     "name": "stdout",
     "output_type": "stream",
     "text": [
      "5.376062599229499\n",
      "5.376062599229499\n"
     ]
    },
    {
     "name": "stderr",
     "output_type": "stream",
     "text": [
      "\u001b[A\n",
      " 10%|█         | 128/1261 [00:17<02:31,  7.47it/s]"
     ]
    },
    {
     "name": "stdout",
     "output_type": "stream",
     "text": [
      "6.490619484703075\n",
      "6.490619484703075\n"
     ]
    },
    {
     "name": "stderr",
     "output_type": "stream",
     "text": [
      "\u001b[A\n",
      " 10%|█         | 129/1261 [00:17<02:33,  7.40it/s]"
     ]
    },
    {
     "name": "stdout",
     "output_type": "stream",
     "text": [
      "7.074713462531236\n",
      "7.074713462531236\n"
     ]
    },
    {
     "name": "stderr",
     "output_type": "stream",
     "text": [
      "\u001b[A\n",
      " 10%|█         | 130/1261 [00:17<02:34,  7.34it/s]"
     ]
    },
    {
     "name": "stdout",
     "output_type": "stream",
     "text": [
      "7.610744671514567\n",
      "7.610744671514567\n"
     ]
    },
    {
     "name": "stderr",
     "output_type": "stream",
     "text": [
      "\u001b[A\n",
      " 10%|█         | 131/1261 [00:17<02:34,  7.31it/s]"
     ]
    },
    {
     "name": "stdout",
     "output_type": "stream",
     "text": [
      "7.250615160139205\n",
      "7.250615160139205\n"
     ]
    },
    {
     "name": "stderr",
     "output_type": "stream",
     "text": [
      "\u001b[A\n",
      " 10%|█         | 132/1261 [00:17<02:34,  7.31it/s]"
     ]
    },
    {
     "name": "stdout",
     "output_type": "stream",
     "text": [
      "7.520083613792849\n",
      "7.520083613792849\n"
     ]
    },
    {
     "name": "stderr",
     "output_type": "stream",
     "text": [
      "\u001b[A\n",
      " 11%|█         | 133/1261 [00:18<02:34,  7.30it/s]"
     ]
    },
    {
     "name": "stdout",
     "output_type": "stream",
     "text": [
      "7.699776507885872\n",
      "7.699776507885872\n"
     ]
    },
    {
     "name": "stderr",
     "output_type": "stream",
     "text": [
      "\u001b[A\n",
      " 11%|█         | 134/1261 [00:18<02:36,  7.22it/s]"
     ]
    },
    {
     "name": "stdout",
     "output_type": "stream",
     "text": [
      "7.714494330126399\n",
      "7.714494330126399\n"
     ]
    },
    {
     "name": "stderr",
     "output_type": "stream",
     "text": [
      "\u001b[A\n",
      " 11%|█         | 135/1261 [00:18<02:35,  7.26it/s]"
     ]
    },
    {
     "name": "stdout",
     "output_type": "stream",
     "text": [
      "7.330148675303917\n",
      "7.330148675303917\n"
     ]
    },
    {
     "name": "stderr",
     "output_type": "stream",
     "text": [
      "\u001b[A\n",
      " 11%|█         | 136/1261 [00:18<02:39,  7.05it/s]"
     ]
    },
    {
     "name": "stdout",
     "output_type": "stream",
     "text": [
      "6.708824926355192\n",
      "6.708824926355192\n"
     ]
    },
    {
     "name": "stderr",
     "output_type": "stream",
     "text": [
      "\u001b[A\n",
      " 11%|█         | 137/1261 [00:18<02:36,  7.18it/s]"
     ]
    },
    {
     "name": "stdout",
     "output_type": "stream",
     "text": [
      "6.7064736763040855\n",
      "6.7064736763040855\n"
     ]
    },
    {
     "name": "stderr",
     "output_type": "stream",
     "text": [
      "\u001b[A\n",
      " 11%|█         | 138/1261 [00:18<02:35,  7.24it/s]"
     ]
    },
    {
     "name": "stdout",
     "output_type": "stream",
     "text": [
      "6.702949265870302\n",
      "6.702949265870302\n"
     ]
    },
    {
     "name": "stderr",
     "output_type": "stream",
     "text": [
      "\u001b[A\n",
      " 11%|█         | 139/1261 [00:18<02:34,  7.25it/s]"
     ]
    },
    {
     "name": "stdout",
     "output_type": "stream",
     "text": [
      "6.1428763047183566\n",
      "6.1428763047183566\n"
     ]
    },
    {
     "name": "stderr",
     "output_type": "stream",
     "text": [
      "\u001b[A\n",
      " 11%|█         | 140/1261 [00:19<02:33,  7.30it/s]"
     ]
    },
    {
     "name": "stdout",
     "output_type": "stream",
     "text": [
      "5.912839210079255\n",
      "5.912839210079255\n"
     ]
    },
    {
     "name": "stderr",
     "output_type": "stream",
     "text": [
      "\u001b[A\n",
      " 11%|█         | 141/1261 [00:19<02:32,  7.33it/s]"
     ]
    },
    {
     "name": "stdout",
     "output_type": "stream",
     "text": [
      "5.450815486371084\n",
      "5.450815486371084\n"
     ]
    },
    {
     "name": "stderr",
     "output_type": "stream",
     "text": [
      "\u001b[A\n",
      " 11%|█▏        | 142/1261 [00:19<02:30,  7.46it/s]"
     ]
    },
    {
     "name": "stdout",
     "output_type": "stream",
     "text": [
      "4.832212935501957\n",
      "4.832212935501957\n"
     ]
    },
    {
     "name": "stderr",
     "output_type": "stream",
     "text": [
      "\u001b[A\n",
      " 11%|█▏        | 143/1261 [00:19<02:31,  7.36it/s]"
     ]
    },
    {
     "name": "stdout",
     "output_type": "stream",
     "text": [
      "4.53003251995824\n",
      "4.53003251995824\n"
     ]
    },
    {
     "name": "stderr",
     "output_type": "stream",
     "text": [
      "\u001b[A\n",
      " 11%|█▏        | 144/1261 [00:19<02:29,  7.45it/s]"
     ]
    },
    {
     "name": "stdout",
     "output_type": "stream",
     "text": [
      "3.99345155125593\n",
      "3.99345155125593\n"
     ]
    },
    {
     "name": "stderr",
     "output_type": "stream",
     "text": [
      "\u001b[A\n",
      " 11%|█▏        | 145/1261 [00:19<02:31,  7.38it/s]"
     ]
    },
    {
     "name": "stdout",
     "output_type": "stream",
     "text": [
      "4.043480499536145\n",
      "4.043480499536145\n"
     ]
    },
    {
     "name": "stderr",
     "output_type": "stream",
     "text": [
      "\u001b[A\n",
      " 12%|█▏        | 146/1261 [00:19<02:30,  7.41it/s]"
     ]
    },
    {
     "name": "stdout",
     "output_type": "stream",
     "text": [
      "3.6558973420169423\n",
      "3.6558973420169423\n"
     ]
    },
    {
     "name": "stderr",
     "output_type": "stream",
     "text": [
      "\u001b[A\n",
      " 12%|█▏        | 147/1261 [00:20<02:32,  7.32it/s]"
     ]
    },
    {
     "name": "stdout",
     "output_type": "stream",
     "text": [
      "3.5343748573272933\n",
      "3.5343748573272933\n"
     ]
    },
    {
     "name": "stderr",
     "output_type": "stream",
     "text": [
      "\u001b[A\n",
      " 12%|█▏        | 148/1261 [00:20<02:31,  7.35it/s]"
     ]
    },
    {
     "name": "stdout",
     "output_type": "stream",
     "text": [
      "3.400518901277337\n",
      "3.400518901277337\n"
     ]
    },
    {
     "name": "stderr",
     "output_type": "stream",
     "text": [
      "\u001b[A\n",
      " 12%|█▏        | 149/1261 [00:20<02:33,  7.27it/s]"
     ]
    },
    {
     "name": "stdout",
     "output_type": "stream",
     "text": [
      "3.229648395438744\n",
      "3.229648395438744\n"
     ]
    },
    {
     "name": "stderr",
     "output_type": "stream",
     "text": [
      "\u001b[A\n",
      " 12%|█▏        | 150/1261 [00:20<02:33,  7.24it/s]"
     ]
    },
    {
     "name": "stdout",
     "output_type": "stream",
     "text": [
      "1.7479953392544303\n",
      "1.7479953392544303\n"
     ]
    },
    {
     "name": "stderr",
     "output_type": "stream",
     "text": [
      "\u001b[A\n",
      " 12%|█▏        | 151/1261 [00:20<02:32,  7.29it/s]"
     ]
    },
    {
     "name": "stdout",
     "output_type": "stream",
     "text": [
      "1.8754951684481966\n",
      "1.8754951684481966\n"
     ]
    },
    {
     "name": "stderr",
     "output_type": "stream",
     "text": [
      "\u001b[A\n",
      " 12%|█▏        | 152/1261 [00:20<02:31,  7.32it/s]"
     ]
    },
    {
     "name": "stdout",
     "output_type": "stream",
     "text": [
      "359.4176764491108\n",
      "359.4176764491108\n"
     ]
    },
    {
     "name": "stderr",
     "output_type": "stream",
     "text": [
      "\u001b[A\n",
      " 12%|█▏        | 153/1261 [00:20<02:32,  7.25it/s]"
     ]
    },
    {
     "name": "stdout",
     "output_type": "stream",
     "text": [
      "3.614402307538512\n",
      "3.614402307538512\n"
     ]
    },
    {
     "name": "stderr",
     "output_type": "stream",
     "text": [
      "\u001b[A\n",
      " 12%|█▏        | 154/1261 [00:21<02:31,  7.31it/s]"
     ]
    },
    {
     "name": "stdout",
     "output_type": "stream",
     "text": [
      "3.1440100203531074\n",
      "3.1440100203531074\n"
     ]
    },
    {
     "name": "stderr",
     "output_type": "stream",
     "text": [
      "\u001b[A\n",
      " 12%|█▏        | 155/1261 [00:21<02:31,  7.28it/s]"
     ]
    },
    {
     "name": "stdout",
     "output_type": "stream",
     "text": [
      "3.681460045363565\n",
      "3.681460045363565\n"
     ]
    },
    {
     "name": "stderr",
     "output_type": "stream",
     "text": [
      "\u001b[A\n",
      " 12%|█▏        | 156/1261 [00:21<02:30,  7.32it/s]"
     ]
    },
    {
     "name": "stdout",
     "output_type": "stream",
     "text": [
      "3.467948950120899\n",
      "3.467948950120899\n"
     ]
    },
    {
     "name": "stderr",
     "output_type": "stream",
     "text": [
      "\u001b[A\n",
      " 12%|█▏        | 157/1261 [00:21<02:31,  7.26it/s]"
     ]
    },
    {
     "name": "stdout",
     "output_type": "stream",
     "text": [
      "3.7802823791193987\n",
      "3.7802823791193987\n"
     ]
    },
    {
     "name": "stderr",
     "output_type": "stream",
     "text": [
      "\u001b[A\n",
      " 13%|█▎        | 158/1261 [00:21<02:32,  7.22it/s]"
     ]
    },
    {
     "name": "stdout",
     "output_type": "stream",
     "text": [
      "2.9740839579244494\n",
      "2.9740839579244494\n"
     ]
    },
    {
     "name": "stderr",
     "output_type": "stream",
     "text": [
      "\u001b[A\n",
      " 13%|█▎        | 159/1261 [00:21<02:33,  7.19it/s]"
     ]
    },
    {
     "name": "stdout",
     "output_type": "stream",
     "text": [
      "2.81274057486371\n",
      "2.81274057486371\n"
     ]
    },
    {
     "name": "stderr",
     "output_type": "stream",
     "text": [
      "\u001b[A\n",
      " 13%|█▎        | 160/1261 [00:21<02:32,  7.23it/s]"
     ]
    },
    {
     "name": "stdout",
     "output_type": "stream",
     "text": [
      "2.741581716570181\n",
      "2.741581716570181\n"
     ]
    },
    {
     "name": "stderr",
     "output_type": "stream",
     "text": [
      "\u001b[A\n",
      " 13%|█▎        | 161/1261 [00:21<02:33,  7.16it/s]"
     ]
    },
    {
     "name": "stdout",
     "output_type": "stream",
     "text": [
      "2.710581134354925\n",
      "2.710581134354925\n"
     ]
    },
    {
     "name": "stderr",
     "output_type": "stream",
     "text": [
      "\u001b[A\n",
      " 13%|█▎        | 162/1261 [00:22<02:30,  7.29it/s]"
     ]
    },
    {
     "name": "stdout",
     "output_type": "stream",
     "text": [
      "3.1379047880050166\n",
      "3.1379047880050166\n"
     ]
    },
    {
     "name": "stderr",
     "output_type": "stream",
     "text": [
      "\u001b[A\n",
      " 13%|█▎        | 163/1261 [00:22<02:31,  7.23it/s]"
     ]
    },
    {
     "name": "stdout",
     "output_type": "stream",
     "text": [
      "3.5830429946354343\n",
      "3.5830429946354343\n"
     ]
    },
    {
     "name": "stderr",
     "output_type": "stream",
     "text": [
      "\u001b[A\n",
      " 13%|█▎        | 164/1261 [00:22<02:28,  7.37it/s]"
     ]
    },
    {
     "name": "stdout",
     "output_type": "stream",
     "text": [
      "4.323770036766291\n",
      "4.323770036766291\n"
     ]
    },
    {
     "name": "stderr",
     "output_type": "stream",
     "text": [
      "\u001b[A\n",
      " 13%|█▎        | 165/1261 [00:22<02:28,  7.37it/s]"
     ]
    },
    {
     "name": "stdout",
     "output_type": "stream",
     "text": [
      "4.5367094703324256\n",
      "4.5367094703324256\n"
     ]
    },
    {
     "name": "stderr",
     "output_type": "stream",
     "text": [
      "\u001b[A\n",
      " 13%|█▎        | 166/1261 [00:22<02:26,  7.46it/s]"
     ]
    },
    {
     "name": "stdout",
     "output_type": "stream",
     "text": [
      "4.353382289750243\n",
      "4.353382289750243\n"
     ]
    },
    {
     "name": "stderr",
     "output_type": "stream",
     "text": [
      "\u001b[A\n",
      " 13%|█▎        | 167/1261 [00:22<02:26,  7.47it/s]"
     ]
    },
    {
     "name": "stdout",
     "output_type": "stream",
     "text": [
      "4.5112631922547735\n",
      "4.5112631922547735\n"
     ]
    },
    {
     "name": "stderr",
     "output_type": "stream",
     "text": [
      "\u001b[A\n",
      " 13%|█▎        | 168/1261 [00:22<02:25,  7.53it/s]"
     ]
    },
    {
     "name": "stdout",
     "output_type": "stream",
     "text": [
      "4.498138579898296\n",
      "4.498138579898296\n"
     ]
    },
    {
     "name": "stderr",
     "output_type": "stream",
     "text": [
      "\u001b[A\n",
      " 13%|█▎        | 169/1261 [00:23<02:26,  7.48it/s]"
     ]
    },
    {
     "name": "stdout",
     "output_type": "stream",
     "text": [
      "4.301326023604361\n",
      "4.301326023604361\n"
     ]
    },
    {
     "name": "stderr",
     "output_type": "stream",
     "text": [
      "\u001b[A\n",
      " 13%|█▎        | 170/1261 [00:23<02:25,  7.50it/s]"
     ]
    },
    {
     "name": "stdout",
     "output_type": "stream",
     "text": [
      "4.20159141792783\n",
      "4.20159141792783\n"
     ]
    },
    {
     "name": "stderr",
     "output_type": "stream",
     "text": [
      "\u001b[A\n",
      " 14%|█▎        | 171/1261 [00:23<02:29,  7.30it/s]"
     ]
    },
    {
     "name": "stdout",
     "output_type": "stream",
     "text": [
      "2.7294773052426535\n",
      "2.7294773052426535\n"
     ]
    },
    {
     "name": "stderr",
     "output_type": "stream",
     "text": [
      "\u001b[A\n",
      " 14%|█▎        | 172/1261 [00:23<02:29,  7.30it/s]"
     ]
    },
    {
     "name": "stdout",
     "output_type": "stream",
     "text": [
      "1.6106456548368442\n",
      "1.6106456548368442\n"
     ]
    },
    {
     "name": "stderr",
     "output_type": "stream",
     "text": [
      "\u001b[A\n",
      " 14%|█▎        | 173/1261 [00:23<02:30,  7.24it/s]"
     ]
    },
    {
     "name": "stdout",
     "output_type": "stream",
     "text": [
      "359.2416931218463\n",
      "359.2416931218463\n"
     ]
    },
    {
     "name": "stderr",
     "output_type": "stream",
     "text": [
      "\u001b[A\n",
      " 14%|█▍        | 174/1261 [00:23<02:28,  7.31it/s]"
     ]
    },
    {
     "name": "stdout",
     "output_type": "stream",
     "text": [
      "358.3862112498923\n",
      "358.3862112498923\n"
     ]
    },
    {
     "name": "stderr",
     "output_type": "stream",
     "text": [
      "\u001b[A\n",
      " 14%|█▍        | 175/1261 [00:23<02:27,  7.36it/s]"
     ]
    },
    {
     "name": "stdout",
     "output_type": "stream",
     "text": [
      "359.76444286990954\n",
      "359.76444286990954\n"
     ]
    },
    {
     "name": "stderr",
     "output_type": "stream",
     "text": [
      "\u001b[A\n",
      " 14%|█▍        | 176/1261 [00:24<02:26,  7.39it/s]"
     ]
    },
    {
     "name": "stdout",
     "output_type": "stream",
     "text": [
      "0.857577003676397\n",
      "0.857577003676397\n"
     ]
    },
    {
     "name": "stderr",
     "output_type": "stream",
     "text": [
      "\u001b[A\n",
      " 14%|█▍        | 177/1261 [00:24<02:26,  7.40it/s]"
     ]
    },
    {
     "name": "stdout",
     "output_type": "stream",
     "text": [
      "1.8984211456290723\n",
      "1.8984211456290723\n"
     ]
    },
    {
     "name": "stderr",
     "output_type": "stream",
     "text": [
      "\u001b[A\n",
      " 14%|█▍        | 178/1261 [00:24<02:25,  7.46it/s]"
     ]
    },
    {
     "name": "stdout",
     "output_type": "stream",
     "text": [
      "4.807705564916432\n",
      "4.807705564916432\n"
     ]
    },
    {
     "name": "stderr",
     "output_type": "stream",
     "text": [
      "\u001b[A\n",
      " 14%|█▍        | 179/1261 [00:24<02:27,  7.35it/s]"
     ]
    },
    {
     "name": "stdout",
     "output_type": "stream",
     "text": [
      "4.294944138590836\n",
      "4.294944138590836\n"
     ]
    },
    {
     "name": "stderr",
     "output_type": "stream",
     "text": [
      "\u001b[A\n",
      " 14%|█▍        | 180/1261 [00:24<02:27,  7.34it/s]"
     ]
    },
    {
     "name": "stdout",
     "output_type": "stream",
     "text": [
      "4.411314390003099\n",
      "4.411314390003099\n"
     ]
    },
    {
     "name": "stderr",
     "output_type": "stream",
     "text": [
      "\u001b[A\n",
      " 14%|█▍        | 181/1261 [00:24<02:28,  7.26it/s]"
     ]
    },
    {
     "name": "stdout",
     "output_type": "stream",
     "text": [
      "3.799494731631057\n",
      "3.799494731631057\n"
     ]
    },
    {
     "name": "stderr",
     "output_type": "stream",
     "text": [
      "\u001b[A\n",
      " 14%|█▍        | 182/1261 [00:24<02:26,  7.36it/s]"
     ]
    },
    {
     "name": "stdout",
     "output_type": "stream",
     "text": [
      "3.2603485798340444\n",
      "3.2603485798340444\n"
     ]
    },
    {
     "name": "stderr",
     "output_type": "stream",
     "text": [
      "\u001b[A\n",
      " 15%|█▍        | 183/1261 [00:24<02:26,  7.36it/s]"
     ]
    },
    {
     "name": "stdout",
     "output_type": "stream",
     "text": [
      "2.4340686026739604\n",
      "2.4340686026739604\n"
     ]
    },
    {
     "name": "stderr",
     "output_type": "stream",
     "text": [
      "\u001b[A\n",
      " 15%|█▍        | 184/1261 [00:25<02:25,  7.40it/s]"
     ]
    },
    {
     "name": "stdout",
     "output_type": "stream",
     "text": [
      "1.4707573320351912\n",
      "1.4707573320351912\n"
     ]
    },
    {
     "name": "stderr",
     "output_type": "stream",
     "text": [
      "\u001b[A\n",
      " 15%|█▍        | 185/1261 [00:25<02:27,  7.30it/s]"
     ]
    },
    {
     "name": "stdout",
     "output_type": "stream",
     "text": [
      "1.3359178441296535\n",
      "1.3359178441296535\n"
     ]
    },
    {
     "name": "stderr",
     "output_type": "stream",
     "text": [
      "\u001b[A\n",
      " 15%|█▍        | 186/1261 [00:25<02:27,  7.30it/s]"
     ]
    },
    {
     "name": "stdout",
     "output_type": "stream",
     "text": [
      "1.4407879625209716\n",
      "1.4407879625209716\n"
     ]
    },
    {
     "name": "stderr",
     "output_type": "stream",
     "text": [
      "\u001b[A\n",
      " 15%|█▍        | 187/1261 [00:25<02:27,  7.27it/s]"
     ]
    },
    {
     "name": "stdout",
     "output_type": "stream",
     "text": [
      "2.775517894488985\n",
      "2.775517894488985\n"
     ]
    },
    {
     "name": "stderr",
     "output_type": "stream",
     "text": [
      "\u001b[A\n",
      " 15%|█▍        | 188/1261 [00:25<02:28,  7.23it/s]"
     ]
    },
    {
     "name": "stdout",
     "output_type": "stream",
     "text": [
      "3.7659195856645056\n",
      "3.7659195856645056\n"
     ]
    },
    {
     "name": "stderr",
     "output_type": "stream",
     "text": [
      "\u001b[A\n",
      " 15%|█▍        | 189/1261 [00:25<02:26,  7.30it/s]"
     ]
    },
    {
     "name": "stdout",
     "output_type": "stream",
     "text": [
      "5.211895953232215\n",
      "5.211895953232215\n"
     ]
    },
    {
     "name": "stderr",
     "output_type": "stream",
     "text": [
      "\u001b[A\n",
      " 15%|█▌        | 190/1261 [00:25<02:26,  7.30it/s]"
     ]
    },
    {
     "name": "stdout",
     "output_type": "stream",
     "text": [
      "6.864326641558819\n",
      "6.864326641558819\n"
     ]
    },
    {
     "name": "stderr",
     "output_type": "stream",
     "text": [
      "\u001b[A\n",
      " 15%|█▌        | 191/1261 [00:26<02:24,  7.43it/s]"
     ]
    },
    {
     "name": "stdout",
     "output_type": "stream",
     "text": [
      "7.915742951575794\n",
      "7.915742951575794\n"
     ]
    },
    {
     "name": "stderr",
     "output_type": "stream",
     "text": [
      "\u001b[A\n",
      " 15%|█▌        | 192/1261 [00:26<02:22,  7.48it/s]"
     ]
    },
    {
     "name": "stdout",
     "output_type": "stream",
     "text": [
      "8.59929571076782\n",
      "8.59929571076782\n"
     ]
    },
    {
     "name": "stderr",
     "output_type": "stream",
     "text": [
      "\u001b[A\n",
      " 15%|█▌        | 193/1261 [00:26<02:22,  7.50it/s]"
     ]
    },
    {
     "name": "stdout",
     "output_type": "stream",
     "text": [
      "9.197575121042973\n",
      "9.197575121042973\n"
     ]
    },
    {
     "name": "stderr",
     "output_type": "stream",
     "text": [
      "\u001b[A\n",
      " 15%|█▌        | 194/1261 [00:26<02:23,  7.45it/s]"
     ]
    },
    {
     "name": "stdout",
     "output_type": "stream",
     "text": [
      "9.110384133191474\n",
      "9.110384133191474\n"
     ]
    },
    {
     "name": "stderr",
     "output_type": "stream",
     "text": [
      "\u001b[A\n",
      " 15%|█▌        | 195/1261 [00:26<02:23,  7.45it/s]"
     ]
    },
    {
     "name": "stdout",
     "output_type": "stream",
     "text": [
      "8.627305082969997\n",
      "8.627305082969997\n"
     ]
    },
    {
     "name": "stderr",
     "output_type": "stream",
     "text": [
      "\u001b[A\n",
      " 16%|█▌        | 196/1261 [00:26<02:21,  7.50it/s]"
     ]
    },
    {
     "name": "stdout",
     "output_type": "stream",
     "text": [
      "7.743574261179674\n",
      "7.743574261179674\n"
     ]
    },
    {
     "name": "stderr",
     "output_type": "stream",
     "text": [
      "\u001b[A\n",
      " 16%|█▌        | 197/1261 [00:26<02:21,  7.51it/s]"
     ]
    },
    {
     "name": "stdout",
     "output_type": "stream",
     "text": [
      "7.087965573330166\n",
      "7.087965573330166\n"
     ]
    },
    {
     "name": "stderr",
     "output_type": "stream",
     "text": [
      "\u001b[A\n",
      " 16%|█▌        | 198/1261 [00:26<02:22,  7.48it/s]"
     ]
    },
    {
     "name": "stdout",
     "output_type": "stream",
     "text": [
      "6.358167922910525\n",
      "6.358167922910525\n"
     ]
    },
    {
     "name": "stderr",
     "output_type": "stream",
     "text": [
      "\u001b[A\n",
      " 16%|█▌        | 199/1261 [00:27<02:23,  7.38it/s]"
     ]
    },
    {
     "name": "stdout",
     "output_type": "stream",
     "text": [
      "6.127731503248015\n",
      "6.127731503248015\n"
     ]
    },
    {
     "name": "stderr",
     "output_type": "stream",
     "text": [
      "\u001b[A\n",
      " 16%|█▌        | 200/1261 [00:27<02:21,  7.51it/s]"
     ]
    },
    {
     "name": "stdout",
     "output_type": "stream",
     "text": [
      "5.625185718038665\n",
      "5.625185718038665\n"
     ]
    },
    {
     "name": "stderr",
     "output_type": "stream",
     "text": [
      "\u001b[A\n",
      " 16%|█▌        | 201/1261 [00:27<02:21,  7.48it/s]"
     ]
    },
    {
     "name": "stdout",
     "output_type": "stream",
     "text": [
      "5.333711242420577\n",
      "5.333711242420577\n"
     ]
    },
    {
     "name": "stderr",
     "output_type": "stream",
     "text": [
      "\u001b[A\n",
      " 16%|█▌        | 202/1261 [00:27<02:20,  7.51it/s]"
     ]
    },
    {
     "name": "stdout",
     "output_type": "stream",
     "text": [
      "4.672419631239336\n",
      "4.672419631239336\n"
     ]
    },
    {
     "name": "stderr",
     "output_type": "stream",
     "text": [
      "\u001b[A\n",
      " 16%|█▌        | 203/1261 [00:27<02:20,  7.50it/s]"
     ]
    },
    {
     "name": "stdout",
     "output_type": "stream",
     "text": [
      "4.0604447646105655\n",
      "4.0604447646105655\n"
     ]
    },
    {
     "name": "stderr",
     "output_type": "stream",
     "text": [
      "\u001b[A\n",
      " 16%|█▌        | 204/1261 [00:27<02:18,  7.62it/s]"
     ]
    },
    {
     "name": "stdout",
     "output_type": "stream",
     "text": [
      "4.219795499659995\n",
      "4.219795499659995\n"
     ]
    },
    {
     "name": "stderr",
     "output_type": "stream",
     "text": [
      "\u001b[A\n",
      " 16%|█▋        | 205/1261 [00:27<02:21,  7.49it/s]"
     ]
    },
    {
     "name": "stdout",
     "output_type": "stream",
     "text": [
      "4.075567382420559\n",
      "4.075567382420559\n"
     ]
    },
    {
     "name": "stderr",
     "output_type": "stream",
     "text": [
      "\u001b[A\n",
      " 16%|█▋        | 206/1261 [00:28<02:21,  7.48it/s]"
     ]
    },
    {
     "name": "stdout",
     "output_type": "stream",
     "text": [
      "4.495264988861436\n",
      "4.495264988861436\n"
     ]
    },
    {
     "name": "stderr",
     "output_type": "stream",
     "text": [
      "\u001b[A\n",
      " 16%|█▋        | 207/1261 [00:28<02:20,  7.53it/s]"
     ]
    },
    {
     "name": "stdout",
     "output_type": "stream",
     "text": [
      "5.173314235189082\n",
      "5.173314235189082\n"
     ]
    },
    {
     "name": "stderr",
     "output_type": "stream",
     "text": [
      "\u001b[A\n",
      " 16%|█▋        | 208/1261 [00:28<02:19,  7.55it/s]"
     ]
    },
    {
     "name": "stdout",
     "output_type": "stream",
     "text": [
      "5.555214680277004\n",
      "5.555214680277004\n"
     ]
    },
    {
     "name": "stderr",
     "output_type": "stream",
     "text": [
      "\u001b[A\n",
      " 17%|█▋        | 209/1261 [00:28<02:25,  7.25it/s]"
     ]
    },
    {
     "name": "stdout",
     "output_type": "stream",
     "text": [
      "5.243422045028183\n",
      "5.243422045028183\n"
     ]
    },
    {
     "name": "stderr",
     "output_type": "stream",
     "text": [
      "\u001b[A\n",
      " 17%|█▋        | 210/1261 [00:28<02:24,  7.30it/s]"
     ]
    },
    {
     "name": "stdout",
     "output_type": "stream",
     "text": [
      "5.131148958423637\n",
      "5.131148958423637\n"
     ]
    },
    {
     "name": "stderr",
     "output_type": "stream",
     "text": [
      "\u001b[A\n",
      " 17%|█▋        | 211/1261 [00:28<02:23,  7.32it/s]"
     ]
    },
    {
     "name": "stdout",
     "output_type": "stream",
     "text": [
      "4.700455240798419\n",
      "4.700455240798419\n"
     ]
    },
    {
     "name": "stderr",
     "output_type": "stream",
     "text": [
      "\u001b[A\n",
      " 17%|█▋        | 212/1261 [00:28<02:24,  7.26it/s]"
     ]
    },
    {
     "name": "stdout",
     "output_type": "stream",
     "text": [
      "4.475858447066457\n",
      "4.475858447066457\n"
     ]
    },
    {
     "name": "stderr",
     "output_type": "stream",
     "text": [
      "\u001b[A\n",
      " 17%|█▋        | 213/1261 [00:29<02:26,  7.13it/s]"
     ]
    },
    {
     "name": "stdout",
     "output_type": "stream",
     "text": [
      "4.419087973122714\n",
      "4.419087973122714\n"
     ]
    },
    {
     "name": "stderr",
     "output_type": "stream",
     "text": [
      "\u001b[A\n",
      " 17%|█▋        | 214/1261 [00:29<02:25,  7.18it/s]"
     ]
    },
    {
     "name": "stdout",
     "output_type": "stream",
     "text": [
      "4.2075825045449164\n",
      "4.2075825045449164\n"
     ]
    },
    {
     "name": "stderr",
     "output_type": "stream",
     "text": [
      "\u001b[A\n",
      " 17%|█▋        | 215/1261 [00:29<02:25,  7.19it/s]"
     ]
    },
    {
     "name": "stdout",
     "output_type": "stream",
     "text": [
      "3.705323785443852\n",
      "3.705323785443852\n"
     ]
    },
    {
     "name": "stderr",
     "output_type": "stream",
     "text": [
      "\u001b[A\n",
      " 17%|█▋        | 216/1261 [00:29<02:23,  7.30it/s]"
     ]
    },
    {
     "name": "stdout",
     "output_type": "stream",
     "text": [
      "3.733979277859362\n",
      "3.733979277859362\n"
     ]
    },
    {
     "name": "stderr",
     "output_type": "stream",
     "text": [
      "\u001b[A\n",
      " 17%|█▋        | 217/1261 [00:29<02:25,  7.18it/s]"
     ]
    },
    {
     "name": "stdout",
     "output_type": "stream",
     "text": [
      "4.2372327987895915\n",
      "4.2372327987895915\n"
     ]
    },
    {
     "name": "stderr",
     "output_type": "stream",
     "text": [
      "\u001b[A\n",
      " 17%|█▋        | 218/1261 [00:29<02:23,  7.29it/s]"
     ]
    },
    {
     "name": "stdout",
     "output_type": "stream",
     "text": [
      "4.980624729100782\n",
      "4.980624729100782\n"
     ]
    },
    {
     "name": "stderr",
     "output_type": "stream",
     "text": [
      "\u001b[A\n",
      " 17%|█▋        | 219/1261 [00:29<02:22,  7.30it/s]"
     ]
    },
    {
     "name": "stdout",
     "output_type": "stream",
     "text": [
      "5.803744672083667\n",
      "5.803744672083667\n"
     ]
    },
    {
     "name": "stderr",
     "output_type": "stream",
     "text": [
      "\u001b[A\n",
      " 17%|█▋        | 220/1261 [00:29<02:23,  7.24it/s]"
     ]
    },
    {
     "name": "stdout",
     "output_type": "stream",
     "text": [
      "6.768633021431469\n",
      "6.768633021431469\n"
     ]
    },
    {
     "name": "stderr",
     "output_type": "stream",
     "text": [
      "\u001b[A\n",
      " 18%|█▊        | 221/1261 [00:30<02:23,  7.24it/s]"
     ]
    },
    {
     "name": "stdout",
     "output_type": "stream",
     "text": [
      "6.755334973728623\n",
      "6.755334973728623\n"
     ]
    },
    {
     "name": "stderr",
     "output_type": "stream",
     "text": [
      "\u001b[A\n",
      " 18%|█▊        | 222/1261 [00:30<02:22,  7.31it/s]"
     ]
    },
    {
     "name": "stdout",
     "output_type": "stream",
     "text": [
      "6.8963655625052525\n",
      "6.8963655625052525\n"
     ]
    },
    {
     "name": "stderr",
     "output_type": "stream",
     "text": [
      "\u001b[A\n",
      " 18%|█▊        | 223/1261 [00:30<02:24,  7.20it/s]"
     ]
    },
    {
     "name": "stdout",
     "output_type": "stream",
     "text": [
      "6.9053876767989095\n",
      "6.9053876767989095\n"
     ]
    },
    {
     "name": "stderr",
     "output_type": "stream",
     "text": [
      "\u001b[A\n",
      " 18%|█▊        | 224/1261 [00:30<02:24,  7.20it/s]"
     ]
    },
    {
     "name": "stdout",
     "output_type": "stream",
     "text": [
      "6.9336009512353485\n",
      "6.9336009512353485\n"
     ]
    },
    {
     "name": "stderr",
     "output_type": "stream",
     "text": [
      "\u001b[A\n",
      " 18%|█▊        | 225/1261 [00:30<02:24,  7.19it/s]"
     ]
    },
    {
     "name": "stdout",
     "output_type": "stream",
     "text": [
      "7.100399001918504\n",
      "7.100399001918504\n"
     ]
    },
    {
     "name": "stderr",
     "output_type": "stream",
     "text": [
      "\u001b[A\n",
      " 18%|█▊        | 226/1261 [00:30<02:22,  7.25it/s]"
     ]
    },
    {
     "name": "stdout",
     "output_type": "stream",
     "text": [
      "7.047268225776861\n",
      "7.047268225776861\n"
     ]
    },
    {
     "name": "stderr",
     "output_type": "stream",
     "text": [
      "\u001b[A\n",
      " 18%|█▊        | 227/1261 [00:30<02:22,  7.24it/s]"
     ]
    },
    {
     "name": "stdout",
     "output_type": "stream",
     "text": [
      "6.6603044651542405\n",
      "6.6603044651542405\n"
     ]
    },
    {
     "name": "stderr",
     "output_type": "stream",
     "text": [
      "\u001b[A\n",
      " 18%|█▊        | 228/1261 [00:31<02:21,  7.31it/s]"
     ]
    },
    {
     "name": "stdout",
     "output_type": "stream",
     "text": [
      "5.699098448554196\n",
      "5.699098448554196\n"
     ]
    },
    {
     "name": "stderr",
     "output_type": "stream",
     "text": [
      "\u001b[A\n",
      " 18%|█▊        | 229/1261 [00:31<02:21,  7.27it/s]"
     ]
    },
    {
     "name": "stdout",
     "output_type": "stream",
     "text": [
      "5.459897798907605\n",
      "5.459897798907605\n"
     ]
    },
    {
     "name": "stderr",
     "output_type": "stream",
     "text": [
      "\u001b[A\n",
      " 18%|█▊        | 230/1261 [00:31<02:21,  7.27it/s]"
     ]
    },
    {
     "name": "stdout",
     "output_type": "stream",
     "text": [
      "5.020445803239909\n",
      "5.020445803239909\n"
     ]
    },
    {
     "name": "stderr",
     "output_type": "stream",
     "text": [
      "\u001b[A\n",
      " 18%|█▊        | 231/1261 [00:31<02:19,  7.40it/s]"
     ]
    },
    {
     "name": "stdout",
     "output_type": "stream",
     "text": [
      "5.015317230055189\n",
      "5.015317230055189\n"
     ]
    },
    {
     "name": "stderr",
     "output_type": "stream",
     "text": [
      "\u001b[A\n",
      " 18%|█▊        | 232/1261 [00:31<02:20,  7.32it/s]"
     ]
    },
    {
     "name": "stdout",
     "output_type": "stream",
     "text": [
      "4.286985846537391\n",
      "4.286985846537391\n"
     ]
    },
    {
     "name": "stderr",
     "output_type": "stream",
     "text": [
      "\u001b[A\n",
      " 18%|█▊        | 233/1261 [00:31<02:21,  7.28it/s]"
     ]
    },
    {
     "name": "stdout",
     "output_type": "stream",
     "text": [
      "3.631836735341949\n",
      "3.631836735341949\n"
     ]
    },
    {
     "name": "stderr",
     "output_type": "stream",
     "text": [
      "\u001b[A\n",
      " 19%|█▊        | 234/1261 [00:31<02:21,  7.25it/s]"
     ]
    },
    {
     "name": "stdout",
     "output_type": "stream",
     "text": [
      "2.928278604857951\n",
      "2.928278604857951\n"
     ]
    },
    {
     "name": "stderr",
     "output_type": "stream",
     "text": [
      "\u001b[A\n",
      " 19%|█▊        | 235/1261 [00:32<02:20,  7.31it/s]"
     ]
    },
    {
     "name": "stdout",
     "output_type": "stream",
     "text": [
      "1.8276786063274812\n",
      "1.8276786063274812\n"
     ]
    },
    {
     "name": "stderr",
     "output_type": "stream",
     "text": [
      "\u001b[A\n",
      " 19%|█▊        | 236/1261 [00:32<02:21,  7.27it/s]"
     ]
    },
    {
     "name": "stdout",
     "output_type": "stream",
     "text": [
      "1.7352270287851752\n",
      "1.7352270287851752\n"
     ]
    },
    {
     "name": "stderr",
     "output_type": "stream",
     "text": [
      "\u001b[A\n",
      " 19%|█▉        | 237/1261 [00:32<02:20,  7.28it/s]"
     ]
    },
    {
     "name": "stdout",
     "output_type": "stream",
     "text": [
      "1.7146507740390007\n",
      "1.7146507740390007\n"
     ]
    },
    {
     "name": "stderr",
     "output_type": "stream",
     "text": [
      "\u001b[A\n",
      " 19%|█▉        | 238/1261 [00:32<02:22,  7.18it/s]"
     ]
    },
    {
     "name": "stdout",
     "output_type": "stream",
     "text": [
      "2.2540863093663575\n",
      "2.2540863093663575\n"
     ]
    },
    {
     "name": "stderr",
     "output_type": "stream",
     "text": [
      "\u001b[A\n",
      " 19%|█▉        | 239/1261 [00:32<02:25,  7.01it/s]"
     ]
    },
    {
     "name": "stdout",
     "output_type": "stream",
     "text": [
      "2.5791367116189576\n",
      "2.5791367116189576\n"
     ]
    },
    {
     "name": "stderr",
     "output_type": "stream",
     "text": [
      "\u001b[A"
     ]
    },
    {
     "name": "stdout",
     "output_type": "stream",
     "text": [
      "3.5938173325116622\n",
      "3.5938173325116622\n"
     ]
    },
    {
     "name": "stderr",
     "output_type": "stream",
     "text": [
      "\n",
      " 19%|█▉        | 240/1261 [00:32<02:34,  6.62it/s]\u001b[A"
     ]
    },
    {
     "name": "stdout",
     "output_type": "stream",
     "text": [
      "3.7991594526934023\n",
      "3.7991594526934023\n"
     ]
    },
    {
     "name": "stderr",
     "output_type": "stream",
     "text": [
      "\n",
      " 19%|█▉        | 241/1261 [00:32<02:40,  6.34it/s]\u001b[A"
     ]
    },
    {
     "name": "stdout",
     "output_type": "stream",
     "text": [
      "3.613071937992572\n",
      "3.613071937992572\n"
     ]
    },
    {
     "name": "stderr",
     "output_type": "stream",
     "text": [
      "\n",
      " 19%|█▉        | 242/1261 [00:33<02:48,  6.06it/s]\u001b[A"
     ]
    },
    {
     "name": "stdout",
     "output_type": "stream",
     "text": [
      "3.643285985152943\n",
      "3.643285985152943\n"
     ]
    },
    {
     "name": "stderr",
     "output_type": "stream",
     "text": [
      "\n",
      " 19%|█▉        | 243/1261 [00:33<02:49,  5.99it/s]\u001b[A"
     ]
    },
    {
     "name": "stdout",
     "output_type": "stream",
     "text": [
      "3.360246054882282\n",
      "3.360246054882282\n"
     ]
    },
    {
     "name": "stderr",
     "output_type": "stream",
     "text": [
      "\n",
      " 19%|█▉        | 244/1261 [00:33<02:53,  5.87it/s]\u001b[A\n",
      " 19%|█▉        | 245/1261 [00:33<02:48,  6.04it/s]"
     ]
    },
    {
     "name": "stdout",
     "output_type": "stream",
     "text": [
      "3.2775242836319194\n",
      "3.2775242836319194\n"
     ]
    },
    {
     "name": "stderr",
     "output_type": "stream",
     "text": [
      "\u001b[A"
     ]
    },
    {
     "name": "stdout",
     "output_type": "stream",
     "text": [
      "3.5014746287947673\n",
      "3.5014746287947673\n"
     ]
    },
    {
     "name": "stderr",
     "output_type": "stream",
     "text": [
      "\n",
      " 20%|█▉        | 246/1261 [00:33<02:49,  5.98it/s]\u001b[A\n",
      " 20%|█▉        | 247/1261 [00:33<02:45,  6.13it/s]"
     ]
    },
    {
     "name": "stdout",
     "output_type": "stream",
     "text": [
      "3.4711338256670388\n",
      "3.4711338256670388\n"
     ]
    },
    {
     "name": "stderr",
     "output_type": "stream",
     "text": [
      "\u001b[A\n",
      " 20%|█▉        | 248/1261 [00:34<02:43,  6.21it/s]"
     ]
    },
    {
     "name": "stdout",
     "output_type": "stream",
     "text": [
      "3.54274123594314\n",
      "3.54274123594314\n"
     ]
    },
    {
     "name": "stderr",
     "output_type": "stream",
     "text": [
      "\u001b[A\n",
      " 20%|█▉        | 249/1261 [00:34<02:37,  6.45it/s]"
     ]
    },
    {
     "name": "stdout",
     "output_type": "stream",
     "text": [
      "3.8658366234308232\n",
      "3.8658366234308232\n"
     ]
    },
    {
     "name": "stderr",
     "output_type": "stream",
     "text": [
      "\u001b[A\n",
      " 20%|█▉        | 250/1261 [00:34<02:34,  6.56it/s]"
     ]
    },
    {
     "name": "stdout",
     "output_type": "stream",
     "text": [
      "3.8494856010415788\n",
      "3.8494856010415788\n"
     ]
    },
    {
     "name": "stderr",
     "output_type": "stream",
     "text": [
      "\u001b[A\n",
      " 20%|█▉        | 251/1261 [00:34<02:29,  6.76it/s]"
     ]
    },
    {
     "name": "stdout",
     "output_type": "stream",
     "text": [
      "4.013376258882545\n",
      "4.013376258882545\n"
     ]
    },
    {
     "name": "stderr",
     "output_type": "stream",
     "text": [
      "\u001b[A\n",
      " 20%|█▉        | 252/1261 [00:34<02:30,  6.71it/s]"
     ]
    },
    {
     "name": "stdout",
     "output_type": "stream",
     "text": [
      "4.450276258423401\n",
      "4.450276258423401\n"
     ]
    },
    {
     "name": "stderr",
     "output_type": "stream",
     "text": [
      "\u001b[A\n",
      " 20%|██        | 253/1261 [00:34<02:28,  6.80it/s]"
     ]
    },
    {
     "name": "stdout",
     "output_type": "stream",
     "text": [
      "4.885029177911292\n",
      "4.885029177911292\n"
     ]
    },
    {
     "name": "stderr",
     "output_type": "stream",
     "text": [
      "\u001b[A\n",
      " 20%|██        | 254/1261 [00:34<02:29,  6.75it/s]"
     ]
    },
    {
     "name": "stdout",
     "output_type": "stream",
     "text": [
      "5.316475640438512\n",
      "5.316475640438512\n"
     ]
    },
    {
     "name": "stderr",
     "output_type": "stream",
     "text": [
      "\u001b[A\n",
      " 20%|██        | 255/1261 [00:35<02:29,  6.72it/s]"
     ]
    },
    {
     "name": "stdout",
     "output_type": "stream",
     "text": [
      "5.748131467024905\n",
      "5.748131467024905\n"
     ]
    },
    {
     "name": "stderr",
     "output_type": "stream",
     "text": [
      "\u001b[A"
     ]
    },
    {
     "name": "stdout",
     "output_type": "stream",
     "text": [
      "5.631586622500436\n",
      "5.631586622500436\n"
     ]
    },
    {
     "name": "stderr",
     "output_type": "stream",
     "text": [
      "\n",
      " 20%|██        | 256/1261 [00:35<02:41,  6.21it/s]\u001b[A\n",
      " 20%|██        | 257/1261 [00:35<02:40,  6.26it/s]"
     ]
    },
    {
     "name": "stdout",
     "output_type": "stream",
     "text": [
      "5.52137849161727\n",
      "5.52137849161727\n"
     ]
    },
    {
     "name": "stderr",
     "output_type": "stream",
     "text": [
      "\u001b[A"
     ]
    },
    {
     "name": "stdout",
     "output_type": "stream",
     "text": [
      "5.669626025532125\n",
      "5.669626025532125\n"
     ]
    },
    {
     "name": "stderr",
     "output_type": "stream",
     "text": [
      "\n",
      " 20%|██        | 258/1261 [00:35<02:43,  6.12it/s]\u001b[A"
     ]
    },
    {
     "name": "stdout",
     "output_type": "stream",
     "text": [
      "5.604866471453988\n",
      "5.604866471453988\n"
     ]
    },
    {
     "name": "stderr",
     "output_type": "stream",
     "text": [
      "\n",
      " 21%|██        | 259/1261 [00:35<02:47,  5.99it/s]\u001b[A"
     ]
    },
    {
     "name": "stdout",
     "output_type": "stream",
     "text": [
      "5.339337928859095\n",
      "5.339337928859095\n"
     ]
    },
    {
     "name": "stderr",
     "output_type": "stream",
     "text": [
      "\n",
      " 21%|██        | 260/1261 [00:36<02:52,  5.79it/s]\u001b[A\n",
      " 21%|██        | 261/1261 [00:36<02:47,  5.98it/s]"
     ]
    },
    {
     "name": "stdout",
     "output_type": "stream",
     "text": [
      "5.171481520377256\n",
      "5.171481520377256\n"
     ]
    },
    {
     "name": "stderr",
     "output_type": "stream",
     "text": [
      "\u001b[A\n",
      " 21%|██        | 262/1261 [00:36<03:10,  5.25it/s]"
     ]
    },
    {
     "name": "stdout",
     "output_type": "stream",
     "text": [
      "4.840383612602636\n",
      "4.840383612602636\n"
     ]
    },
    {
     "name": "stderr",
     "output_type": "stream",
     "text": [
      "\u001b[A\n",
      " 21%|██        | 263/1261 [00:36<03:20,  4.97it/s]"
     ]
    },
    {
     "name": "stdout",
     "output_type": "stream",
     "text": [
      "4.846079629249289\n",
      "4.846079629249289\n"
     ]
    },
    {
     "name": "stderr",
     "output_type": "stream",
     "text": [
      "\u001b[A\n",
      " 21%|██        | 264/1261 [00:36<04:00,  4.14it/s]"
     ]
    },
    {
     "name": "stdout",
     "output_type": "stream",
     "text": [
      "4.849406890195496\n",
      "4.849406890195496\n"
     ]
    },
    {
     "name": "stderr",
     "output_type": "stream",
     "text": [
      "\u001b[A\n",
      " 21%|██        | 265/1261 [00:37<03:53,  4.26it/s]"
     ]
    },
    {
     "name": "stdout",
     "output_type": "stream",
     "text": [
      "4.2068087776096945\n",
      "4.2068087776096945\n"
     ]
    },
    {
     "name": "stderr",
     "output_type": "stream",
     "text": [
      "\u001b[A\n",
      " 21%|██        | 266/1261 [00:37<03:44,  4.44it/s]"
     ]
    },
    {
     "name": "stdout",
     "output_type": "stream",
     "text": [
      "3.604167819290069\n",
      "3.604167819290069\n",
      "3.5323253720798675\n",
      "3.5323253720798675\n"
     ]
    },
    {
     "name": "stderr",
     "output_type": "stream",
     "text": [
      "\u001b[A\n",
      " 21%|██        | 267/1261 [00:37<03:30,  4.72it/s]\u001b[A\n",
      " 21%|██▏       | 268/1261 [00:37<03:19,  4.99it/s]\u001b[A"
     ]
    },
    {
     "name": "stdout",
     "output_type": "stream",
     "text": [
      "3.4377042855189757\n",
      "3.4377042855189757\n",
      "3.232209075435094\n",
      "3.232209075435094\n"
     ]
    },
    {
     "name": "stderr",
     "output_type": "stream",
     "text": [
      "\n",
      " 21%|██▏       | 269/1261 [00:37<03:10,  5.22it/s]\u001b[A\n",
      " 21%|██▏       | 270/1261 [00:38<03:01,  5.47it/s]\u001b[A\n",
      " 21%|██▏       | 271/1261 [00:38<02:48,  5.89it/s]"
     ]
    },
    {
     "name": "stdout",
     "output_type": "stream",
     "text": [
      "3.850766235363608\n",
      "3.850766235363608\n",
      "4.144613627179751\n",
      "4.144613627179751\n"
     ]
    },
    {
     "name": "stderr",
     "output_type": "stream",
     "text": [
      "\u001b[A\n",
      " 22%|██▏       | 272/1261 [00:38<02:51,  5.75it/s]\u001b[A"
     ]
    },
    {
     "name": "stdout",
     "output_type": "stream",
     "text": [
      "4.176312153300842\n",
      "4.176312153300842\n",
      "4.452793456989184\n",
      "4.452793456989184\n"
     ]
    },
    {
     "name": "stderr",
     "output_type": "stream",
     "text": [
      "\n",
      " 22%|██▏       | 273/1261 [00:38<02:58,  5.55it/s]\u001b[A\n",
      " 22%|██▏       | 274/1261 [00:38<02:50,  5.78it/s]\u001b[A\n",
      " 22%|██▏       | 275/1261 [00:38<02:43,  6.02it/s]"
     ]
    },
    {
     "name": "stdout",
     "output_type": "stream",
     "text": [
      "4.61221604365619\n",
      "4.61221604365619\n",
      "4.72427430661719\n",
      "4.72427430661719\n"
     ]
    },
    {
     "name": "stderr",
     "output_type": "stream",
     "text": [
      "\u001b[A\n",
      " 22%|██▏       | 276/1261 [00:39<02:44,  5.99it/s]\u001b[A\n",
      " 22%|██▏       | 277/1261 [00:39<02:41,  6.10it/s]"
     ]
    },
    {
     "name": "stdout",
     "output_type": "stream",
     "text": [
      "5.040660847752406\n",
      "5.040660847752406\n",
      "4.431462727335202\n",
      "4.431462727335202\n"
     ]
    },
    {
     "name": "stderr",
     "output_type": "stream",
     "text": [
      "\u001b[A\n",
      " 22%|██▏       | 278/1261 [00:39<02:36,  6.29it/s]\u001b[A\n",
      " 22%|██▏       | 279/1261 [00:39<02:29,  6.57it/s]"
     ]
    },
    {
     "name": "stdout",
     "output_type": "stream",
     "text": [
      "3.792880534288088\n",
      "3.792880534288088\n",
      "4.3399045426508565\n",
      "4.3399045426508565\n"
     ]
    },
    {
     "name": "stderr",
     "output_type": "stream",
     "text": [
      "\u001b[A\n",
      " 22%|██▏       | 280/1261 [00:39<02:26,  6.70it/s]\u001b[A\n",
      " 22%|██▏       | 281/1261 [00:39<02:21,  6.93it/s]"
     ]
    },
    {
     "name": "stdout",
     "output_type": "stream",
     "text": [
      "2.8962067758075136\n",
      "2.8962067758075136\n",
      "2.7008444732709904\n",
      "2.7008444732709904\n"
     ]
    },
    {
     "name": "stderr",
     "output_type": "stream",
     "text": [
      "\u001b[A\n",
      " 22%|██▏       | 282/1261 [00:39<02:20,  6.96it/s]\u001b[A\n",
      " 22%|██▏       | 283/1261 [00:40<02:17,  7.09it/s]"
     ]
    },
    {
     "name": "stdout",
     "output_type": "stream",
     "text": [
      "2.659109295106191\n",
      "2.659109295106191\n",
      "2.0437971322930935\n",
      "2.0437971322930935\n"
     ]
    },
    {
     "name": "stderr",
     "output_type": "stream",
     "text": [
      "\u001b[A\n",
      " 23%|██▎       | 284/1261 [00:40<02:15,  7.20it/s]\u001b[A\n",
      " 23%|██▎       | 285/1261 [00:40<02:14,  7.25it/s]"
     ]
    },
    {
     "name": "stdout",
     "output_type": "stream",
     "text": [
      "2.089283298457758\n",
      "2.089283298457758\n",
      "2.847089583768593\n",
      "2.847089583768593\n"
     ]
    },
    {
     "name": "stderr",
     "output_type": "stream",
     "text": [
      "\u001b[A\n",
      " 23%|██▎       | 286/1261 [00:40<02:14,  7.24it/s]\u001b[A\n",
      " 23%|██▎       | 287/1261 [00:40<02:15,  7.21it/s]"
     ]
    },
    {
     "name": "stdout",
     "output_type": "stream",
     "text": [
      "3.5347545678610004\n",
      "3.5347545678610004\n",
      "4.1605628101760885\n",
      "4.1605628101760885\n"
     ]
    },
    {
     "name": "stderr",
     "output_type": "stream",
     "text": [
      "\u001b[A\n",
      " 23%|██▎       | 288/1261 [00:40<02:14,  7.24it/s]\u001b[A\n",
      " 23%|██▎       | 289/1261 [00:40<02:13,  7.25it/s]"
     ]
    },
    {
     "name": "stdout",
     "output_type": "stream",
     "text": [
      "2.823943353906998\n",
      "2.823943353906998\n",
      "3.1021054295015347\n",
      "3.1021054295015347\n"
     ]
    },
    {
     "name": "stderr",
     "output_type": "stream",
     "text": [
      "\u001b[A\n",
      " 23%|██▎       | 290/1261 [00:41<02:13,  7.26it/s]\u001b[A\n",
      " 23%|██▎       | 291/1261 [00:41<02:15,  7.15it/s]"
     ]
    },
    {
     "name": "stdout",
     "output_type": "stream",
     "text": [
      "3.2443070988224463\n",
      "3.2443070988224463\n",
      "2.2519210572550037\n",
      "2.2519210572550037\n"
     ]
    },
    {
     "name": "stderr",
     "output_type": "stream",
     "text": [
      "\u001b[A\n",
      " 23%|██▎       | 292/1261 [00:41<02:17,  7.05it/s]\u001b[A\n",
      " 23%|██▎       | 293/1261 [00:41<02:21,  6.85it/s]"
     ]
    },
    {
     "name": "stdout",
     "output_type": "stream",
     "text": [
      "1.9201171021359187\n",
      "1.9201171021359187\n",
      "2.2917919324791\n",
      "2.2917919324791\n"
     ]
    },
    {
     "name": "stderr",
     "output_type": "stream",
     "text": [
      "\u001b[A\n",
      " 23%|██▎       | 294/1261 [00:41<02:26,  6.59it/s]\u001b[A"
     ]
    },
    {
     "name": "stdout",
     "output_type": "stream",
     "text": [
      "2.158447626295583\n",
      "2.158447626295583\n",
      "1.579774130489568\n",
      "1.579774130489568\n"
     ]
    },
    {
     "name": "stderr",
     "output_type": "stream",
     "text": [
      "\n",
      " 23%|██▎       | 295/1261 [00:41<02:36,  6.15it/s]\u001b[A\n",
      " 23%|██▎       | 296/1261 [00:42<02:38,  6.07it/s]\u001b[A"
     ]
    },
    {
     "name": "stdout",
     "output_type": "stream",
     "text": [
      "1.4742156766724293\n",
      "1.4742156766724293\n",
      "1.7773002367835034\n",
      "1.7773002367835034\n"
     ]
    },
    {
     "name": "stderr",
     "output_type": "stream",
     "text": [
      "\n",
      " 24%|██▎       | 297/1261 [00:42<02:40,  6.01it/s]\u001b[A\n",
      " 24%|██▎       | 298/1261 [00:42<02:41,  5.97it/s]\u001b[A\n",
      " 24%|██▎       | 299/1261 [00:42<02:34,  6.24it/s]"
     ]
    },
    {
     "name": "stdout",
     "output_type": "stream",
     "text": [
      "1.649176112422083\n",
      "1.649176112422083\n",
      "1.9259736741637425\n",
      "1.9259736741637425\n"
     ]
    },
    {
     "name": "stderr",
     "output_type": "stream",
     "text": [
      "\u001b[A\n",
      " 24%|██▍       | 300/1261 [00:42<02:38,  6.07it/s]\u001b[A\n",
      " 24%|██▍       | 301/1261 [00:42<02:37,  6.10it/s]"
     ]
    },
    {
     "name": "stdout",
     "output_type": "stream",
     "text": [
      "1.8523698686744865\n",
      "1.8523698686744865\n",
      "1.7350308289092027\n",
      "1.7350308289092027\n"
     ]
    },
    {
     "name": "stderr",
     "output_type": "stream",
     "text": [
      "\u001b[A\n",
      " 24%|██▍       | 302/1261 [00:43<02:43,  5.86it/s]\u001b[A\n",
      " 24%|██▍       | 303/1261 [00:43<02:38,  6.05it/s]"
     ]
    },
    {
     "name": "stdout",
     "output_type": "stream",
     "text": [
      "1.602042289680412\n",
      "1.602042289680412\n",
      "1.3834394590526244\n",
      "1.3834394590526244\n"
     ]
    },
    {
     "name": "stderr",
     "output_type": "stream",
     "text": [
      "\u001b[A\n",
      " 24%|██▍       | 304/1261 [00:43<02:38,  6.06it/s]\u001b[A\n",
      " 24%|██▍       | 305/1261 [00:43<02:32,  6.26it/s]"
     ]
    },
    {
     "name": "stdout",
     "output_type": "stream",
     "text": [
      "0.7985631180140444\n",
      "0.7985631180140444\n",
      "0.8622980088907752\n",
      "0.8622980088907752\n"
     ]
    },
    {
     "name": "stderr",
     "output_type": "stream",
     "text": [
      "\u001b[A\n",
      " 24%|██▍       | 306/1261 [00:43<02:30,  6.34it/s]\u001b[A\n",
      " 24%|██▍       | 307/1261 [00:43<02:29,  6.39it/s]"
     ]
    },
    {
     "name": "stdout",
     "output_type": "stream",
     "text": [
      "1.9082801316594669\n",
      "1.9082801316594669\n",
      "1.6153905545729685\n",
      "1.6153905545729685\n"
     ]
    },
    {
     "name": "stderr",
     "output_type": "stream",
     "text": [
      "\u001b[A\n",
      " 24%|██▍       | 308/1261 [00:43<02:26,  6.52it/s]\u001b[A\n",
      " 25%|██▍       | 309/1261 [00:44<02:22,  6.67it/s]"
     ]
    },
    {
     "name": "stdout",
     "output_type": "stream",
     "text": [
      "1.1798267809281242\n",
      "1.1798267809281242\n",
      "0.9409727713918983\n",
      "0.9409727713918983\n"
     ]
    },
    {
     "name": "stderr",
     "output_type": "stream",
     "text": [
      "\u001b[A\n",
      " 25%|██▍       | 310/1261 [00:44<02:24,  6.58it/s]\u001b[A\n",
      " 25%|██▍       | 311/1261 [00:44<02:24,  6.56it/s]"
     ]
    },
    {
     "name": "stdout",
     "output_type": "stream",
     "text": [
      "1.33683755832908\n",
      "1.33683755832908\n",
      "1.0154286288347976\n",
      "1.0154286288347976\n"
     ]
    },
    {
     "name": "stderr",
     "output_type": "stream",
     "text": [
      "\u001b[A\n",
      " 25%|██▍       | 312/1261 [00:44<02:24,  6.55it/s]\u001b[A\n",
      " 25%|██▍       | 313/1261 [00:44<02:22,  6.64it/s]"
     ]
    },
    {
     "name": "stdout",
     "output_type": "stream",
     "text": [
      "1.2796684609820659\n",
      "1.2796684609820659\n",
      "1.4029794425005093\n",
      "1.4029794425005093\n"
     ]
    },
    {
     "name": "stderr",
     "output_type": "stream",
     "text": [
      "\u001b[A\n",
      " 25%|██▍       | 314/1261 [00:44<02:29,  6.34it/s]\u001b[A\n",
      " 25%|██▍       | 315/1261 [00:45<02:26,  6.46it/s]"
     ]
    },
    {
     "name": "stdout",
     "output_type": "stream",
     "text": [
      "0.3871833474772757\n",
      "0.3871833474772757\n",
      "0.4430599176707801\n",
      "0.4430599176707801\n"
     ]
    },
    {
     "name": "stderr",
     "output_type": "stream",
     "text": [
      "\u001b[A\n",
      " 25%|██▌       | 316/1261 [00:45<02:30,  6.29it/s]\u001b[A\n",
      " 25%|██▌       | 317/1261 [00:45<02:26,  6.45it/s]"
     ]
    },
    {
     "name": "stdout",
     "output_type": "stream",
     "text": [
      "358.5895107766637\n",
      "358.5895107766637\n",
      "358.99470786093934\n",
      "358.99470786093934\n"
     ]
    },
    {
     "name": "stderr",
     "output_type": "stream",
     "text": [
      "\u001b[A\n",
      " 25%|██▌       | 318/1261 [00:45<02:24,  6.52it/s]\u001b[A\n",
      " 25%|██▌       | 319/1261 [00:45<02:21,  6.67it/s]"
     ]
    },
    {
     "name": "stdout",
     "output_type": "stream",
     "text": [
      "358.97747592616724\n",
      "358.97747592616724\n",
      "0.33398690250032814\n",
      "0.33398690250032814\n"
     ]
    },
    {
     "name": "stderr",
     "output_type": "stream",
     "text": [
      "\u001b[A\n",
      " 25%|██▌       | 320/1261 [00:45<02:18,  6.78it/s]\u001b[A\n",
      " 25%|██▌       | 321/1261 [00:45<02:16,  6.88it/s]"
     ]
    },
    {
     "name": "stdout",
     "output_type": "stream",
     "text": [
      "356.24163546652653\n",
      "356.24163546652653\n",
      "359.9700308577594\n",
      "359.9700308577594\n"
     ]
    },
    {
     "name": "stderr",
     "output_type": "stream",
     "text": [
      "\u001b[A\n",
      " 26%|██▌       | 322/1261 [00:46<02:12,  7.06it/s]\u001b[A\n",
      " 26%|██▌       | 323/1261 [00:46<02:11,  7.13it/s]"
     ]
    },
    {
     "name": "stdout",
     "output_type": "stream",
     "text": [
      "358.3006711175781\n",
      "358.3006711175781\n",
      "358.3006711175781\n",
      "358.3006711175781\n"
     ]
    },
    {
     "name": "stderr",
     "output_type": "stream",
     "text": [
      "\u001b[A\n",
      " 26%|██▌       | 324/1261 [00:46<02:12,  7.07it/s]\u001b[A"
     ]
    },
    {
     "name": "stdout",
     "output_type": "stream",
     "text": [
      "356.8824280828039\n",
      "356.8824280828039\n",
      "358.4898166452963\n",
      "358.4898166452963\n"
     ]
    },
    {
     "name": "stderr",
     "output_type": "stream",
     "text": [
      "\n",
      " 26%|██▌       | 325/1261 [00:46<02:25,  6.45it/s]\u001b[A\n",
      " 26%|██▌       | 326/1261 [00:46<02:32,  6.13it/s]\u001b[A"
     ]
    },
    {
     "name": "stdout",
     "output_type": "stream",
     "text": [
      "358.3006711175781\n",
      "358.3006711175781\n",
      "358.3006711175781\n",
      "358.3006711175781\n"
     ]
    },
    {
     "name": "stderr",
     "output_type": "stream",
     "text": [
      "\n",
      " 26%|██▌       | 327/1261 [00:46<02:35,  5.99it/s]\u001b[A\n",
      " 26%|██▌       | 328/1261 [00:47<02:35,  5.99it/s]\u001b[A"
     ]
    },
    {
     "name": "stdout",
     "output_type": "stream",
     "text": [
      "1.2396687072823624\n",
      "1.2396687072823624\n",
      "356.1119662561823\n",
      "356.1119662561823\n"
     ]
    },
    {
     "name": "stderr",
     "output_type": "stream",
     "text": [
      "\n",
      " 26%|██▌       | 329/1261 [00:47<02:35,  5.98it/s]\u001b[A\n",
      " 26%|██▌       | 330/1261 [00:47<02:35,  5.97it/s]\u001b[A"
     ]
    },
    {
     "name": "stdout",
     "output_type": "stream",
     "text": [
      "358.3006711175781\n",
      "358.3006711175781\n"
     ]
    },
    {
     "name": "stderr",
     "output_type": "stream",
     "text": [
      "\n",
      " 26%|██▌       | 331/1261 [00:47<02:44,  5.64it/s]\u001b[A\n",
      " 26%|██▋       | 332/1261 [00:47<02:39,  5.83it/s]"
     ]
    },
    {
     "name": "stdout",
     "output_type": "stream",
     "text": [
      "358.3006711175781\n",
      "358.3006711175781\n",
      "358.3006711175781\n",
      "358.3006711175781\n"
     ]
    },
    {
     "name": "stderr",
     "output_type": "stream",
     "text": [
      "\u001b[A\n",
      " 26%|██▋       | 333/1261 [00:47<02:41,  5.73it/s]\u001b[A\n",
      " 26%|██▋       | 334/1261 [00:48<02:31,  6.10it/s]"
     ]
    },
    {
     "name": "stdout",
     "output_type": "stream",
     "text": [
      "357.56430487232046\n",
      "357.56430487232046\n",
      "358.09472510363275\n",
      "358.09472510363275\n"
     ]
    },
    {
     "name": "stderr",
     "output_type": "stream",
     "text": [
      "\u001b[A\n",
      " 27%|██▋       | 335/1261 [00:48<02:26,  6.30it/s]\u001b[A\n",
      " 27%|██▋       | 336/1261 [00:48<02:20,  6.59it/s]"
     ]
    },
    {
     "name": "stdout",
     "output_type": "stream",
     "text": [
      "357.96108363578105\n",
      "357.96108363578105\n",
      "356.9217449993271\n",
      "356.9217449993271\n"
     ]
    },
    {
     "name": "stderr",
     "output_type": "stream",
     "text": [
      "\u001b[A\n",
      " 27%|██▋       | 337/1261 [00:48<02:17,  6.71it/s]\u001b[A\n",
      " 27%|██▋       | 338/1261 [00:48<02:11,  7.04it/s]"
     ]
    },
    {
     "name": "stdout",
     "output_type": "stream",
     "text": [
      "0.6007737458862721\n",
      "0.6007737458862721\n",
      "0.6048435389966471\n",
      "0.6048435389966471\n"
     ]
    },
    {
     "name": "stderr",
     "output_type": "stream",
     "text": [
      "\u001b[A\n",
      " 27%|██▋       | 339/1261 [00:48<02:09,  7.12it/s]\u001b[A\n",
      " 27%|██▋       | 340/1261 [00:48<02:06,  7.29it/s]"
     ]
    },
    {
     "name": "stdout",
     "output_type": "stream",
     "text": [
      "1.0854927093419064\n",
      "1.0854927093419064\n",
      "0.8484569048760022\n",
      "0.8484569048760022\n"
     ]
    },
    {
     "name": "stderr",
     "output_type": "stream",
     "text": [
      "\u001b[A\n",
      " 27%|██▋       | 341/1261 [00:48<02:07,  7.23it/s]\u001b[A\n",
      " 27%|██▋       | 342/1261 [00:49<02:04,  7.35it/s]"
     ]
    },
    {
     "name": "stdout",
     "output_type": "stream",
     "text": [
      "0.6396555092546805\n",
      "0.6396555092546805\n",
      "356.9137552276811\n",
      "356.9137552276811\n"
     ]
    },
    {
     "name": "stderr",
     "output_type": "stream",
     "text": [
      "\u001b[A\n",
      " 27%|██▋       | 343/1261 [00:49<02:08,  7.14it/s]\u001b[A\n",
      " 27%|██▋       | 344/1261 [00:49<02:09,  7.09it/s]"
     ]
    },
    {
     "name": "stdout",
     "output_type": "stream",
     "text": [
      "357.846040279087\n",
      "357.846040279087\n",
      "357.3712556587043\n",
      "357.3712556587043\n"
     ]
    },
    {
     "name": "stderr",
     "output_type": "stream",
     "text": [
      "\u001b[A\n",
      " 27%|██▋       | 345/1261 [00:49<02:08,  7.12it/s]\u001b[A\n",
      " 27%|██▋       | 346/1261 [00:49<02:05,  7.27it/s]"
     ]
    },
    {
     "name": "stdout",
     "output_type": "stream",
     "text": [
      "358.29747068812867\n",
      "358.29747068812867\n",
      "357.6693739636162\n",
      "357.6693739636162\n"
     ]
    },
    {
     "name": "stderr",
     "output_type": "stream",
     "text": [
      "\u001b[A\n",
      " 28%|██▊       | 347/1261 [00:49<02:04,  7.32it/s]\u001b[A\n",
      " 28%|██▊       | 348/1261 [00:49<02:01,  7.51it/s]"
     ]
    },
    {
     "name": "stdout",
     "output_type": "stream",
     "text": [
      "357.31388923400027\n",
      "357.31388923400027\n",
      "358.1517955457789\n",
      "358.1517955457789\n"
     ]
    },
    {
     "name": "stderr",
     "output_type": "stream",
     "text": [
      "\u001b[A\n",
      " 28%|██▊       | 349/1261 [00:50<02:02,  7.47it/s]\u001b[A\n",
      " 28%|██▊       | 350/1261 [00:50<01:59,  7.61it/s]"
     ]
    },
    {
     "name": "stdout",
     "output_type": "stream",
     "text": [
      "357.2229746105104\n",
      "357.2229746105104\n",
      "357.2266550575837\n",
      "357.2266550575837\n"
     ]
    },
    {
     "name": "stderr",
     "output_type": "stream",
     "text": [
      "\u001b[A\n",
      " 28%|██▊       | 351/1261 [00:50<02:01,  7.51it/s]\u001b[A\n",
      " 28%|██▊       | 352/1261 [00:50<01:59,  7.64it/s]"
     ]
    },
    {
     "name": "stdout",
     "output_type": "stream",
     "text": [
      "359.91848284340267\n",
      "359.91848284340267\n",
      "0.8806931670537779\n",
      "0.8806931670537779\n"
     ]
    },
    {
     "name": "stderr",
     "output_type": "stream",
     "text": [
      "\u001b[A\n",
      " 28%|██▊       | 353/1261 [00:50<01:58,  7.65it/s]\u001b[A\n",
      " 28%|██▊       | 354/1261 [00:50<01:58,  7.64it/s]"
     ]
    },
    {
     "name": "stdout",
     "output_type": "stream",
     "text": [
      "357.0159865567307\n",
      "357.0159865567307\n",
      "357.779955486772\n",
      "357.779955486772\n"
     ]
    },
    {
     "name": "stderr",
     "output_type": "stream",
     "text": [
      "\u001b[A\n",
      " 28%|██▊       | 355/1261 [00:50<01:58,  7.63it/s]\u001b[A\n",
      " 28%|██▊       | 356/1261 [00:50<01:58,  7.66it/s]"
     ]
    },
    {
     "name": "stdout",
     "output_type": "stream",
     "text": [
      "355.9198346688245\n",
      "355.9198346688245\n",
      "356.2015677845725\n",
      "356.2015677845725\n"
     ]
    },
    {
     "name": "stderr",
     "output_type": "stream",
     "text": [
      "\u001b[A\n",
      " 28%|██▊       | 357/1261 [00:51<01:59,  7.58it/s]\u001b[A\n",
      " 28%|██▊       | 358/1261 [00:51<01:57,  7.72it/s]"
     ]
    },
    {
     "name": "stdout",
     "output_type": "stream",
     "text": [
      "356.1649290571654\n",
      "356.1649290571654\n",
      "356.64338347242983\n",
      "356.64338347242983\n"
     ]
    },
    {
     "name": "stderr",
     "output_type": "stream",
     "text": [
      "\u001b[A\n",
      " 28%|██▊       | 359/1261 [00:51<01:56,  7.73it/s]\u001b[A\n",
      " 29%|██▊       | 360/1261 [00:51<01:58,  7.62it/s]"
     ]
    },
    {
     "name": "stdout",
     "output_type": "stream",
     "text": [
      "356.92751907274624\n",
      "356.92751907274624\n",
      "358.02710699776435\n",
      "358.02710699776435\n"
     ]
    },
    {
     "name": "stderr",
     "output_type": "stream",
     "text": [
      "\u001b[A\n",
      " 29%|██▊       | 361/1261 [00:51<02:04,  7.24it/s]\u001b[A\n",
      " 29%|██▊       | 362/1261 [00:51<02:04,  7.21it/s]"
     ]
    },
    {
     "name": "stdout",
     "output_type": "stream",
     "text": [
      "357.7756300339138\n",
      "357.7756300339138\n",
      "358.6366333959231\n",
      "358.6366333959231\n"
     ]
    },
    {
     "name": "stderr",
     "output_type": "stream",
     "text": [
      "\u001b[A\n",
      " 29%|██▉       | 363/1261 [00:51<02:04,  7.22it/s]\u001b[A\n",
      " 29%|██▉       | 364/1261 [00:52<02:01,  7.38it/s]"
     ]
    },
    {
     "name": "stdout",
     "output_type": "stream",
     "text": [
      "358.6930011638042\n",
      "358.6930011638042\n",
      "359.27007515118476\n",
      "359.27007515118476\n"
     ]
    },
    {
     "name": "stderr",
     "output_type": "stream",
     "text": [
      "\u001b[A\n",
      " 29%|██▉       | 365/1261 [00:52<02:03,  7.24it/s]\u001b[A\n",
      " 29%|██▉       | 366/1261 [00:52<02:01,  7.39it/s]"
     ]
    },
    {
     "name": "stdout",
     "output_type": "stream",
     "text": [
      "0.17512720124796033\n",
      "0.17512720124796033\n",
      "359.5758548622521\n",
      "359.5758548622521\n"
     ]
    },
    {
     "name": "stderr",
     "output_type": "stream",
     "text": [
      "\u001b[A\n",
      " 29%|██▉       | 367/1261 [00:52<02:02,  7.30it/s]\u001b[A\n",
      " 29%|██▉       | 368/1261 [00:52<02:00,  7.41it/s]"
     ]
    },
    {
     "name": "stdout",
     "output_type": "stream",
     "text": [
      "358.9197321189986\n",
      "358.9197321189986\n",
      "359.1919101211797\n",
      "359.1919101211797\n"
     ]
    },
    {
     "name": "stderr",
     "output_type": "stream",
     "text": [
      "\u001b[A\n",
      " 29%|██▉       | 369/1261 [00:52<02:01,  7.34it/s]\u001b[A\n",
      " 29%|██▉       | 370/1261 [00:52<02:00,  7.41it/s]"
     ]
    },
    {
     "name": "stdout",
     "output_type": "stream",
     "text": [
      "358.6654042891114\n",
      "358.6654042891114\n",
      "358.6715513956665\n",
      "358.6715513956665\n"
     ]
    },
    {
     "name": "stderr",
     "output_type": "stream",
     "text": [
      "\u001b[A\n",
      " 29%|██▉       | 371/1261 [00:53<02:01,  7.32it/s]\u001b[A\n",
      " 30%|██▉       | 372/1261 [00:53<01:58,  7.49it/s]"
     ]
    },
    {
     "name": "stdout",
     "output_type": "stream",
     "text": [
      "359.30222068097737\n",
      "359.30222068097737\n",
      "357.12776917245037\n",
      "357.12776917245037\n"
     ]
    },
    {
     "name": "stderr",
     "output_type": "stream",
     "text": [
      "\u001b[A\n",
      " 30%|██▉       | 373/1261 [00:53<01:58,  7.51it/s]\u001b[A\n",
      " 30%|██▉       | 374/1261 [00:53<01:56,  7.61it/s]"
     ]
    },
    {
     "name": "stdout",
     "output_type": "stream",
     "text": [
      "355.1413853194308\n",
      "355.1413853194308\n",
      "354.96415246045626\n",
      "354.96415246045626\n"
     ]
    },
    {
     "name": "stderr",
     "output_type": "stream",
     "text": [
      "\u001b[A\n",
      " 30%|██▉       | 375/1261 [00:53<01:58,  7.47it/s]\u001b[A\n",
      " 30%|██▉       | 376/1261 [00:53<01:55,  7.64it/s]"
     ]
    },
    {
     "name": "stdout",
     "output_type": "stream",
     "text": [
      "353.50498189654854\n",
      "353.50498189654854\n",
      "354.1079397321341\n",
      "354.1079397321341\n"
     ]
    },
    {
     "name": "stderr",
     "output_type": "stream",
     "text": [
      "\u001b[A\n",
      " 30%|██▉       | 377/1261 [00:53<01:57,  7.50it/s]\u001b[A\n",
      " 30%|██▉       | 378/1261 [00:53<01:56,  7.57it/s]"
     ]
    },
    {
     "name": "stdout",
     "output_type": "stream",
     "text": [
      "356.88982780263404\n",
      "356.88982780263404\n",
      "357.4152685890381\n",
      "357.4152685890381\n"
     ]
    },
    {
     "name": "stderr",
     "output_type": "stream",
     "text": [
      "\u001b[A\n",
      " 30%|███       | 379/1261 [00:54<01:59,  7.40it/s]\u001b[A\n",
      " 30%|███       | 380/1261 [00:54<01:57,  7.49it/s]"
     ]
    },
    {
     "name": "stdout",
     "output_type": "stream",
     "text": [
      "355.64802076378146\n",
      "355.64802076378146\n",
      "354.8882739755095\n",
      "354.8882739755095\n"
     ]
    },
    {
     "name": "stderr",
     "output_type": "stream",
     "text": [
      "\u001b[A\n",
      " 30%|███       | 381/1261 [00:54<01:59,  7.34it/s]\u001b[A\n",
      " 30%|███       | 382/1261 [00:54<01:57,  7.50it/s]"
     ]
    },
    {
     "name": "stdout",
     "output_type": "stream",
     "text": [
      "355.20974034555456\n",
      "355.20974034555456\n",
      "355.72525419389376\n",
      "355.72525419389376\n"
     ]
    },
    {
     "name": "stderr",
     "output_type": "stream",
     "text": [
      "\u001b[A\n",
      " 30%|███       | 383/1261 [00:54<01:59,  7.35it/s]\u001b[A\n",
      " 30%|███       | 384/1261 [00:54<01:56,  7.52it/s]"
     ]
    },
    {
     "name": "stdout",
     "output_type": "stream",
     "text": [
      "355.3964338552614\n",
      "355.3964338552614\n",
      "356.45159140248234\n",
      "356.45159140248234\n"
     ]
    },
    {
     "name": "stderr",
     "output_type": "stream",
     "text": [
      "\u001b[A\n",
      " 31%|███       | 385/1261 [00:54<01:58,  7.39it/s]\u001b[A\n",
      " 31%|███       | 386/1261 [00:55<01:59,  7.33it/s]"
     ]
    },
    {
     "name": "stdout",
     "output_type": "stream",
     "text": [
      "357.22685328466423\n",
      "357.22685328466423\n",
      "357.12716628865974\n",
      "357.12716628865974\n"
     ]
    },
    {
     "name": "stderr",
     "output_type": "stream",
     "text": [
      "\u001b[A\n",
      " 31%|███       | 387/1261 [00:55<02:00,  7.26it/s]\u001b[A\n",
      " 31%|███       | 388/1261 [00:55<01:57,  7.42it/s]"
     ]
    },
    {
     "name": "stdout",
     "output_type": "stream",
     "text": [
      "359.42741093479253\n",
      "359.42741093479253\n",
      "358.6148540383988\n",
      "358.6148540383988\n"
     ]
    },
    {
     "name": "stderr",
     "output_type": "stream",
     "text": [
      "\u001b[A\n",
      " 31%|███       | 389/1261 [00:55<01:58,  7.37it/s]\u001b[A\n",
      " 31%|███       | 390/1261 [00:55<01:57,  7.44it/s]"
     ]
    },
    {
     "name": "stdout",
     "output_type": "stream",
     "text": [
      "358.50935373284165\n",
      "358.50935373284165\n",
      "359.50108687959846\n",
      "359.50108687959846\n"
     ]
    },
    {
     "name": "stderr",
     "output_type": "stream",
     "text": [
      "\u001b[A\n",
      " 31%|███       | 391/1261 [00:55<01:57,  7.38it/s]\u001b[A\n",
      " 31%|███       | 392/1261 [00:55<01:57,  7.40it/s]"
     ]
    },
    {
     "name": "stdout",
     "output_type": "stream",
     "text": [
      "0.5828599667547678\n",
      "0.5828599667547678\n",
      "1.0743150918783613\n",
      "1.0743150918783613\n"
     ]
    },
    {
     "name": "stderr",
     "output_type": "stream",
     "text": [
      "\u001b[A\n",
      " 31%|███       | 393/1261 [00:55<01:57,  7.41it/s]\u001b[A\n",
      " 31%|███       | 394/1261 [00:56<01:57,  7.35it/s]"
     ]
    },
    {
     "name": "stdout",
     "output_type": "stream",
     "text": [
      "354.971450655873\n",
      "354.971450655873\n",
      "0.43796967896696515\n",
      "0.43796967896696515\n"
     ]
    },
    {
     "name": "stderr",
     "output_type": "stream",
     "text": [
      "\u001b[A\n",
      " 31%|███▏      | 395/1261 [00:56<02:00,  7.17it/s]\u001b[A\n",
      " 31%|███▏      | 396/1261 [00:56<01:59,  7.23it/s]"
     ]
    },
    {
     "name": "stdout",
     "output_type": "stream",
     "text": [
      "0.9944257208376257\n",
      "0.9944257208376257\n",
      "358.8170003947621\n",
      "358.8170003947621\n"
     ]
    },
    {
     "name": "stderr",
     "output_type": "stream",
     "text": [
      "\u001b[A\n",
      " 31%|███▏      | 397/1261 [00:56<01:58,  7.31it/s]\u001b[A\n",
      " 32%|███▏      | 398/1261 [00:56<01:58,  7.31it/s]"
     ]
    },
    {
     "name": "stdout",
     "output_type": "stream",
     "text": [
      "358.3006711175781\n",
      "358.3006711175781\n",
      "357.14254582905323\n",
      "357.14254582905323\n"
     ]
    },
    {
     "name": "stderr",
     "output_type": "stream",
     "text": [
      "\u001b[A\n",
      " 32%|███▏      | 399/1261 [00:56<01:59,  7.19it/s]\u001b[A\n",
      " 32%|███▏      | 400/1261 [00:56<02:00,  7.14it/s]"
     ]
    },
    {
     "name": "stdout",
     "output_type": "stream",
     "text": [
      "359.7200916884085\n",
      "359.7200916884085\n",
      "1.1137032809861012\n",
      "1.1137032809861012\n"
     ]
    },
    {
     "name": "stderr",
     "output_type": "stream",
     "text": [
      "\u001b[A\n",
      " 32%|███▏      | 401/1261 [00:57<01:58,  7.24it/s]\u001b[A\n",
      " 32%|███▏      | 402/1261 [00:57<02:00,  7.11it/s]"
     ]
    },
    {
     "name": "stdout",
     "output_type": "stream",
     "text": [
      "357.02593350012785\n",
      "357.02593350012785\n",
      "357.7859891200542\n",
      "357.7859891200542\n"
     ]
    },
    {
     "name": "stderr",
     "output_type": "stream",
     "text": [
      "\u001b[A\n",
      " 32%|███▏      | 403/1261 [00:57<02:00,  7.13it/s]\u001b[A\n",
      " 32%|███▏      | 404/1261 [00:57<01:57,  7.27it/s]"
     ]
    },
    {
     "name": "stdout",
     "output_type": "stream",
     "text": [
      "358.2777369957639\n",
      "358.2777369957639\n",
      "358.1407710496269\n",
      "358.1407710496269\n"
     ]
    },
    {
     "name": "stderr",
     "output_type": "stream",
     "text": [
      "\u001b[A\n",
      " 32%|███▏      | 405/1261 [00:57<01:57,  7.30it/s]\u001b[A\n",
      " 32%|███▏      | 406/1261 [00:57<02:01,  7.05it/s]"
     ]
    },
    {
     "name": "stdout",
     "output_type": "stream",
     "text": [
      "358.1117988308174\n",
      "358.1117988308174\n",
      "356.70990631104814\n",
      "356.70990631104814\n"
     ]
    },
    {
     "name": "stderr",
     "output_type": "stream",
     "text": [
      "\u001b[A\n",
      " 32%|███▏      | 407/1261 [00:57<02:04,  6.84it/s]\u001b[A\n",
      " 32%|███▏      | 408/1261 [00:58<02:05,  6.80it/s]"
     ]
    },
    {
     "name": "stdout",
     "output_type": "stream",
     "text": [
      "0.2598301395364615\n",
      "0.2598301395364615\n",
      "358.5541901104275\n",
      "358.5541901104275\n"
     ]
    },
    {
     "name": "stderr",
     "output_type": "stream",
     "text": [
      "\u001b[A\n",
      " 32%|███▏      | 409/1261 [00:58<02:13,  6.39it/s]\u001b[A\n",
      " 33%|███▎      | 410/1261 [00:58<02:08,  6.61it/s]"
     ]
    },
    {
     "name": "stdout",
     "output_type": "stream",
     "text": [
      "359.66811797874607\n",
      "359.66811797874607\n",
      "358.8978303954059\n",
      "358.8978303954059\n"
     ]
    },
    {
     "name": "stderr",
     "output_type": "stream",
     "text": [
      "\u001b[A\n",
      " 33%|███▎      | 411/1261 [00:58<02:08,  6.64it/s]\u001b[A\n",
      " 33%|███▎      | 412/1261 [00:58<02:05,  6.76it/s]"
     ]
    },
    {
     "name": "stdout",
     "output_type": "stream",
     "text": [
      "358.5979064208341\n",
      "358.5979064208341\n",
      "358.47493510337927\n",
      "358.47493510337927\n"
     ]
    },
    {
     "name": "stderr",
     "output_type": "stream",
     "text": [
      "\u001b[A\n",
      " 33%|███▎      | 413/1261 [00:58<02:03,  6.86it/s]\u001b[A\n",
      " 33%|███▎      | 414/1261 [00:58<01:59,  7.07it/s]"
     ]
    },
    {
     "name": "stdout",
     "output_type": "stream",
     "text": [
      "358.00565864698547\n",
      "358.00565864698547\n",
      "357.3723463567717\n",
      "357.3723463567717\n"
     ]
    },
    {
     "name": "stderr",
     "output_type": "stream",
     "text": [
      "\u001b[A\n",
      " 33%|███▎      | 415/1261 [00:59<02:00,  7.03it/s]\u001b[A\n",
      " 33%|███▎      | 416/1261 [00:59<01:58,  7.15it/s]"
     ]
    },
    {
     "name": "stdout",
     "output_type": "stream",
     "text": [
      "356.20762119425126\n",
      "356.20762119425126\n",
      "355.8683169625083\n",
      "355.8683169625083\n"
     ]
    },
    {
     "name": "stderr",
     "output_type": "stream",
     "text": [
      "\u001b[A\n",
      " 33%|███▎      | 417/1261 [00:59<01:59,  7.07it/s]\u001b[A\n",
      " 33%|███▎      | 418/1261 [00:59<01:56,  7.26it/s]"
     ]
    },
    {
     "name": "stdout",
     "output_type": "stream",
     "text": [
      "355.93555428882837\n",
      "355.93555428882837\n",
      "356.44798252763485\n",
      "356.44798252763485\n"
     ]
    },
    {
     "name": "stderr",
     "output_type": "stream",
     "text": [
      "\u001b[A\n",
      " 33%|███▎      | 419/1261 [00:59<01:56,  7.22it/s]\u001b[A\n",
      " 33%|███▎      | 420/1261 [00:59<01:54,  7.34it/s]"
     ]
    },
    {
     "name": "stdout",
     "output_type": "stream",
     "text": [
      "356.59766625787324\n",
      "356.59766625787324\n",
      "357.63665635938924\n",
      "357.63665635938924\n"
     ]
    },
    {
     "name": "stderr",
     "output_type": "stream",
     "text": [
      "\u001b[A\n",
      " 33%|███▎      | 421/1261 [00:59<01:58,  7.09it/s]\u001b[A\n",
      " 33%|███▎      | 422/1261 [01:00<01:57,  7.14it/s]"
     ]
    },
    {
     "name": "stdout",
     "output_type": "stream",
     "text": [
      "358.52009158313786\n",
      "358.52009158313786\n",
      "358.3006711175781\n",
      "358.3006711175781\n"
     ]
    },
    {
     "name": "stderr",
     "output_type": "stream",
     "text": [
      "\u001b[A\n",
      " 34%|███▎      | 423/1261 [01:00<01:57,  7.12it/s]\u001b[A\n",
      " 34%|███▎      | 424/1261 [01:00<01:56,  7.16it/s]"
     ]
    },
    {
     "name": "stdout",
     "output_type": "stream",
     "text": [
      "358.3006711175781\n",
      "358.3006711175781\n",
      "359.33976413245455\n",
      "359.33976413245455\n"
     ]
    },
    {
     "name": "stderr",
     "output_type": "stream",
     "text": [
      "\u001b[A\n",
      " 34%|███▎      | 425/1261 [01:00<01:59,  7.00it/s]\u001b[A\n",
      " 34%|███▍      | 426/1261 [01:00<01:59,  7.00it/s]"
     ]
    },
    {
     "name": "stdout",
     "output_type": "stream",
     "text": [
      "359.1742714765046\n",
      "359.1742714765046\n",
      "356.8738506468885\n",
      "356.8738506468885\n"
     ]
    },
    {
     "name": "stderr",
     "output_type": "stream",
     "text": [
      "\u001b[A\n",
      " 34%|███▍      | 427/1261 [01:00<02:01,  6.85it/s]\u001b[A\n",
      " 34%|███▍      | 428/1261 [01:00<01:58,  7.01it/s]"
     ]
    },
    {
     "name": "stdout",
     "output_type": "stream",
     "text": [
      "356.4008131237633\n",
      "356.4008131237633\n",
      "355.4758976536391\n",
      "355.4758976536391\n"
     ]
    },
    {
     "name": "stderr",
     "output_type": "stream",
     "text": [
      "\u001b[A\n",
      " 34%|███▍      | 429/1261 [01:01<02:03,  6.76it/s]\u001b[A\n",
      " 34%|███▍      | 430/1261 [01:01<02:00,  6.88it/s]"
     ]
    },
    {
     "name": "stdout",
     "output_type": "stream",
     "text": [
      "357.31828582640355\n",
      "357.31828582640355\n",
      "355.0949749478423\n",
      "355.0949749478423\n"
     ]
    },
    {
     "name": "stderr",
     "output_type": "stream",
     "text": [
      "\u001b[A\n",
      " 34%|███▍      | 431/1261 [01:01<02:00,  6.88it/s]\u001b[A\n",
      " 34%|███▍      | 432/1261 [01:01<01:59,  6.95it/s]"
     ]
    },
    {
     "name": "stdout",
     "output_type": "stream",
     "text": [
      "356.42616633020316\n",
      "356.42616633020316\n",
      "356.0556952865768\n",
      "356.0556952865768\n"
     ]
    },
    {
     "name": "stderr",
     "output_type": "stream",
     "text": [
      "\u001b[A\n",
      " 34%|███▍      | 433/1261 [01:01<02:00,  6.87it/s]\u001b[A\n",
      " 34%|███▍      | 434/1261 [01:01<01:57,  7.06it/s]"
     ]
    },
    {
     "name": "stdout",
     "output_type": "stream",
     "text": [
      "359.28602975733793\n",
      "359.28602975733793\n",
      "358.5232582328226\n",
      "358.5232582328226\n"
     ]
    },
    {
     "name": "stderr",
     "output_type": "stream",
     "text": [
      "\u001b[A\n",
      " 34%|███▍      | 435/1261 [01:01<01:56,  7.11it/s]\u001b[A\n",
      " 35%|███▍      | 436/1261 [01:02<01:52,  7.32it/s]"
     ]
    },
    {
     "name": "stdout",
     "output_type": "stream",
     "text": [
      "359.1452154044832\n",
      "359.1452154044832\n",
      "359.19662743029494\n",
      "359.19662743029494\n"
     ]
    },
    {
     "name": "stderr",
     "output_type": "stream",
     "text": [
      "\u001b[A\n",
      " 35%|███▍      | 437/1261 [01:02<01:55,  7.12it/s]\u001b[A\n",
      " 35%|███▍      | 438/1261 [01:02<01:54,  7.22it/s]"
     ]
    },
    {
     "name": "stdout",
     "output_type": "stream",
     "text": [
      "358.542953866413\n",
      "358.542953866413\n",
      "358.1827296007382\n",
      "358.1827296007382\n"
     ]
    },
    {
     "name": "stderr",
     "output_type": "stream",
     "text": [
      "\u001b[A\n",
      " 35%|███▍      | 439/1261 [01:02<01:54,  7.20it/s]\u001b[A\n",
      " 35%|███▍      | 440/1261 [01:02<01:51,  7.36it/s]"
     ]
    },
    {
     "name": "stdout",
     "output_type": "stream",
     "text": [
      "357.7698781118843\n",
      "357.7698781118843\n",
      "357.36245157456915\n",
      "357.36245157456915\n"
     ]
    },
    {
     "name": "stderr",
     "output_type": "stream",
     "text": [
      "\u001b[A\n",
      " 35%|███▍      | 441/1261 [01:02<01:53,  7.23it/s]\u001b[A\n",
      " 35%|███▌      | 442/1261 [01:02<01:52,  7.27it/s]"
     ]
    },
    {
     "name": "stdout",
     "output_type": "stream",
     "text": [
      "357.6213899383424\n",
      "357.6213899383424\n",
      "359.78152700670853\n",
      "359.78152700670853\n"
     ]
    },
    {
     "name": "stderr",
     "output_type": "stream",
     "text": [
      "\u001b[A\n",
      " 35%|███▌      | 443/1261 [01:03<01:54,  7.14it/s]\u001b[A\n",
      " 35%|███▌      | 444/1261 [01:03<01:53,  7.22it/s]"
     ]
    },
    {
     "name": "stdout",
     "output_type": "stream",
     "text": [
      "358.3006711175781\n",
      "358.3006711175781\n",
      "358.3006711175781\n",
      "358.3006711175781\n"
     ]
    },
    {
     "name": "stderr",
     "output_type": "stream",
     "text": [
      "\u001b[A\n",
      " 35%|███▌      | 445/1261 [01:03<01:54,  7.11it/s]\u001b[A\n",
      " 35%|███▌      | 446/1261 [01:03<01:52,  7.23it/s]"
     ]
    },
    {
     "name": "stdout",
     "output_type": "stream",
     "text": [
      "358.3006711175781\n",
      "358.3006711175781\n",
      "358.3006711175781\n",
      "358.3006711175781\n"
     ]
    },
    {
     "name": "stderr",
     "output_type": "stream",
     "text": [
      "\u001b[A\n",
      " 35%|███▌      | 447/1261 [01:03<01:53,  7.19it/s]\u001b[A\n",
      " 36%|███▌      | 448/1261 [01:03<01:50,  7.39it/s]"
     ]
    },
    {
     "name": "stdout",
     "output_type": "stream",
     "text": [
      "359.56598291969794\n",
      "359.56598291969794\n",
      "1.2118461972013392\n",
      "1.2118461972013392\n"
     ]
    },
    {
     "name": "stderr",
     "output_type": "stream",
     "text": [
      "\u001b[A\n",
      " 36%|███▌      | 449/1261 [01:03<01:53,  7.14it/s]\u001b[A\n",
      " 36%|███▌      | 450/1261 [01:04<01:59,  6.76it/s]"
     ]
    },
    {
     "name": "stdout",
     "output_type": "stream",
     "text": [
      "355.649073723901\n",
      "355.649073723901\n",
      "356.5717835936048\n",
      "356.5717835936048\n"
     ]
    },
    {
     "name": "stderr",
     "output_type": "stream",
     "text": [
      "\u001b[A\n",
      " 36%|███▌      | 451/1261 [01:04<02:06,  6.39it/s]\u001b[A\n",
      " 36%|███▌      | 452/1261 [01:04<02:03,  6.54it/s]"
     ]
    },
    {
     "name": "stdout",
     "output_type": "stream",
     "text": [
      "357.9243036258563\n",
      "357.9243036258563\n",
      "357.1406837043778\n",
      "357.1406837043778\n"
     ]
    },
    {
     "name": "stderr",
     "output_type": "stream",
     "text": [
      "\u001b[A\n",
      " 36%|███▌      | 453/1261 [01:04<02:03,  6.56it/s]\u001b[A\n",
      " 36%|███▌      | 454/1261 [01:04<01:59,  6.76it/s]"
     ]
    },
    {
     "name": "stdout",
     "output_type": "stream",
     "text": [
      "356.379687699497\n",
      "356.379687699497\n",
      "357.5275526766668\n",
      "357.5275526766668\n"
     ]
    },
    {
     "name": "stderr",
     "output_type": "stream",
     "text": [
      "\u001b[A\n",
      " 36%|███▌      | 455/1261 [01:04<01:59,  6.74it/s]\u001b[A\n",
      " 36%|███▌      | 456/1261 [01:04<01:59,  6.73it/s]"
     ]
    },
    {
     "name": "stdout",
     "output_type": "stream",
     "text": [
      "357.67169987914076\n",
      "357.67169987914076\n",
      "356.334335361621\n",
      "356.334335361621\n"
     ]
    },
    {
     "name": "stderr",
     "output_type": "stream",
     "text": [
      "\u001b[A\n",
      " 36%|███▌      | 457/1261 [01:05<02:03,  6.53it/s]\u001b[A"
     ]
    },
    {
     "name": "stdout",
     "output_type": "stream",
     "text": [
      "357.07557367758955\n",
      "357.07557367758955\n",
      "356.97536134111533\n",
      "356.97536134111533\n"
     ]
    },
    {
     "name": "stderr",
     "output_type": "stream",
     "text": [
      "\n",
      " 36%|███▋      | 458/1261 [01:05<02:08,  6.24it/s]\u001b[A\n",
      " 36%|███▋      | 459/1261 [01:05<02:09,  6.20it/s]\u001b[A"
     ]
    },
    {
     "name": "stdout",
     "output_type": "stream",
     "text": [
      "356.86520881559\n",
      "356.86520881559\n",
      "359.8215166063478\n",
      "359.8215166063478\n"
     ]
    },
    {
     "name": "stderr",
     "output_type": "stream",
     "text": [
      "\n",
      " 36%|███▋      | 460/1261 [01:05<02:14,  5.96it/s]\u001b[A\n",
      " 37%|███▋      | 461/1261 [01:05<02:12,  6.05it/s]\u001b[A\n",
      " 37%|███▋      | 462/1261 [01:05<02:11,  6.07it/s]"
     ]
    },
    {
     "name": "stdout",
     "output_type": "stream",
     "text": [
      "359.8813215437767\n",
      "359.8813215437767\n",
      "357.42511783674263\n",
      "357.42511783674263\n"
     ]
    },
    {
     "name": "stderr",
     "output_type": "stream",
     "text": [
      "\u001b[A\n",
      " 37%|███▋      | 463/1261 [01:06<02:11,  6.08it/s]\u001b[A"
     ]
    },
    {
     "name": "stdout",
     "output_type": "stream",
     "text": [
      "357.83956213994634\n",
      "357.83956213994634\n",
      "357.0616109794778\n",
      "357.0616109794778\n"
     ]
    },
    {
     "name": "stderr",
     "output_type": "stream",
     "text": [
      "\n",
      " 37%|███▋      | 464/1261 [01:06<02:12,  6.01it/s]\u001b[A\n",
      " 37%|███▋      | 465/1261 [01:06<02:10,  6.12it/s]\u001b[A\n",
      " 37%|███▋      | 466/1261 [01:06<02:02,  6.48it/s]"
     ]
    },
    {
     "name": "stdout",
     "output_type": "stream",
     "text": [
      "357.7315271523353\n",
      "357.7315271523353\n",
      "357.7776443926505\n",
      "357.7776443926505\n"
     ]
    },
    {
     "name": "stderr",
     "output_type": "stream",
     "text": [
      "\u001b[A\n",
      " 37%|███▋      | 467/1261 [01:06<02:07,  6.23it/s]\u001b[A\n",
      " 37%|███▋      | 468/1261 [01:06<02:03,  6.41it/s]"
     ]
    },
    {
     "name": "stdout",
     "output_type": "stream",
     "text": [
      "357.1854925618286\n",
      "357.1854925618286\n",
      "357.44718871945634\n",
      "357.44718871945634\n"
     ]
    },
    {
     "name": "stderr",
     "output_type": "stream",
     "text": [
      "\u001b[A\n",
      " 37%|███▋      | 469/1261 [01:07<02:02,  6.44it/s]\u001b[A\n",
      " 37%|███▋      | 470/1261 [01:07<01:58,  6.70it/s]"
     ]
    },
    {
     "name": "stdout",
     "output_type": "stream",
     "text": [
      "357.72472716794937\n",
      "357.72472716794937\n",
      "359.2043871866772\n",
      "359.2043871866772\n"
     ]
    },
    {
     "name": "stderr",
     "output_type": "stream",
     "text": [
      "\u001b[A\n",
      " 37%|███▋      | 471/1261 [01:07<01:59,  6.61it/s]\u001b[A\n",
      " 37%|███▋      | 472/1261 [01:07<02:01,  6.51it/s]"
     ]
    },
    {
     "name": "stdout",
     "output_type": "stream",
     "text": [
      "358.6685515550762\n",
      "358.6685515550762\n",
      "358.599891717593\n",
      "358.599891717593\n"
     ]
    },
    {
     "name": "stderr",
     "output_type": "stream",
     "text": [
      "\u001b[A\n",
      " 38%|███▊      | 473/1261 [01:07<02:01,  6.48it/s]\u001b[A"
     ]
    },
    {
     "name": "stdout",
     "output_type": "stream",
     "text": [
      "357.75187305373856\n",
      "357.75187305373856\n",
      "356.99630384974216\n",
      "356.99630384974216\n"
     ]
    },
    {
     "name": "stderr",
     "output_type": "stream",
     "text": [
      "\n",
      " 38%|███▊      | 474/1261 [01:07<02:05,  6.26it/s]\u001b[A\n",
      " 38%|███▊      | 475/1261 [01:08<02:06,  6.21it/s]\u001b[A\n",
      " 38%|███▊      | 476/1261 [01:08<02:07,  6.18it/s]"
     ]
    },
    {
     "name": "stdout",
     "output_type": "stream",
     "text": [
      "356.111952975898\n",
      "356.111952975898\n",
      "355.8513218773055\n",
      "355.8513218773055\n"
     ]
    },
    {
     "name": "stderr",
     "output_type": "stream",
     "text": [
      "\u001b[A\n",
      " 38%|███▊      | 477/1261 [01:08<02:10,  6.01it/s]\u001b[A"
     ]
    },
    {
     "name": "stdout",
     "output_type": "stream",
     "text": [
      "354.5956456003146\n",
      "354.5956456003146\n",
      "355.35569890453417\n",
      "355.35569890453417\n"
     ]
    },
    {
     "name": "stderr",
     "output_type": "stream",
     "text": [
      "\n",
      " 38%|███▊      | 478/1261 [01:08<02:15,  5.79it/s]\u001b[A\n",
      " 38%|███▊      | 479/1261 [01:08<02:17,  5.68it/s]\u001b[A\n",
      " 38%|███▊      | 480/1261 [01:08<02:14,  5.83it/s]"
     ]
    },
    {
     "name": "stdout",
     "output_type": "stream",
     "text": [
      "354.7588067773504\n",
      "354.7588067773504\n",
      "1.0451509344638907\n",
      "1.0451509344638907\n"
     ]
    },
    {
     "name": "stderr",
     "output_type": "stream",
     "text": [
      "\u001b[A\n",
      " 38%|███▊      | 481/1261 [01:09<02:08,  6.07it/s]\u001b[A\n",
      " 38%|███▊      | 482/1261 [01:09<02:01,  6.42it/s]"
     ]
    },
    {
     "name": "stdout",
     "output_type": "stream",
     "text": [
      "355.58740426090844\n",
      "355.58740426090844\n",
      "358.3006711175781\n",
      "358.3006711175781\n"
     ]
    },
    {
     "name": "stderr",
     "output_type": "stream",
     "text": [
      "\u001b[A\n",
      " 38%|███▊      | 483/1261 [01:09<01:59,  6.50it/s]\u001b[A\n",
      " 38%|███▊      | 484/1261 [01:09<01:55,  6.72it/s]"
     ]
    },
    {
     "name": "stdout",
     "output_type": "stream",
     "text": [
      "359.63634029195873\n",
      "359.63634029195873\n",
      "357.6669161168156\n",
      "357.6669161168156\n"
     ]
    },
    {
     "name": "stderr",
     "output_type": "stream",
     "text": [
      "\u001b[A\n",
      " 38%|███▊      | 485/1261 [01:09<01:55,  6.72it/s]\u001b[A\n",
      " 39%|███▊      | 486/1261 [01:09<01:51,  6.94it/s]"
     ]
    },
    {
     "name": "stdout",
     "output_type": "stream",
     "text": [
      "358.11742973691753\n",
      "358.11742973691753\n",
      "357.8080995331602\n",
      "357.8080995331602\n"
     ]
    },
    {
     "name": "stderr",
     "output_type": "stream",
     "text": [
      "\u001b[A\n",
      " 39%|███▊      | 487/1261 [01:09<01:53,  6.85it/s]\u001b[A\n",
      " 39%|███▊      | 488/1261 [01:10<01:51,  6.96it/s]"
     ]
    },
    {
     "name": "stdout",
     "output_type": "stream",
     "text": [
      "357.1462263380681\n",
      "357.1462263380681\n",
      "357.2231870724627\n",
      "357.2231870724627\n"
     ]
    },
    {
     "name": "stderr",
     "output_type": "stream",
     "text": [
      "\u001b[A\n",
      " 39%|███▉      | 489/1261 [01:10<01:52,  6.87it/s]\u001b[A\n",
      " 39%|███▉      | 490/1261 [01:10<01:57,  6.57it/s]"
     ]
    },
    {
     "name": "stdout",
     "output_type": "stream",
     "text": [
      "356.3712003504793\n",
      "356.3712003504793\n",
      "357.5094778166431\n",
      "357.5094778166431\n"
     ]
    },
    {
     "name": "stderr",
     "output_type": "stream",
     "text": [
      "\u001b[A\n",
      " 39%|███▉      | 491/1261 [01:10<01:53,  6.76it/s]\u001b[A\n",
      " 39%|███▉      | 492/1261 [01:10<01:50,  6.99it/s]"
     ]
    },
    {
     "name": "stdout",
     "output_type": "stream",
     "text": [
      "357.0089803178762\n",
      "357.0089803178762\n",
      "359.41241953693816\n",
      "359.41241953693816\n"
     ]
    },
    {
     "name": "stderr",
     "output_type": "stream",
     "text": [
      "\u001b[A\n",
      " 39%|███▉      | 493/1261 [01:10<01:50,  6.94it/s]\u001b[A\n",
      " 39%|███▉      | 494/1261 [01:10<01:47,  7.12it/s]"
     ]
    },
    {
     "name": "stdout",
     "output_type": "stream",
     "text": [
      "359.528972367129\n",
      "359.528972367129\n",
      "357.26110196251966\n",
      "357.26110196251966\n"
     ]
    },
    {
     "name": "stderr",
     "output_type": "stream",
     "text": [
      "\u001b[A\n",
      " 39%|███▉      | 495/1261 [01:11<01:49,  7.03it/s]\u001b[A\n",
      " 39%|███▉      | 496/1261 [01:11<01:47,  7.10it/s]"
     ]
    },
    {
     "name": "stdout",
     "output_type": "stream",
     "text": [
      "357.36571018627683\n",
      "357.36571018627683\n",
      "357.2111752084443\n",
      "357.2111752084443\n"
     ]
    },
    {
     "name": "stderr",
     "output_type": "stream",
     "text": [
      "\u001b[A\n",
      " 39%|███▉      | 497/1261 [01:11<01:48,  7.05it/s]\u001b[A\n",
      " 39%|███▉      | 498/1261 [01:11<01:46,  7.16it/s]"
     ]
    },
    {
     "name": "stdout",
     "output_type": "stream",
     "text": [
      "357.5235888024913\n",
      "357.5235888024913\n",
      "358.3006711175781\n",
      "358.3006711175781\n"
     ]
    },
    {
     "name": "stderr",
     "output_type": "stream",
     "text": [
      "\u001b[A\n",
      " 40%|███▉      | 499/1261 [01:11<01:48,  7.03it/s]\u001b[A\n",
      " 40%|███▉      | 500/1261 [01:11<01:47,  7.09it/s]"
     ]
    },
    {
     "name": "stdout",
     "output_type": "stream",
     "text": [
      "357.6423183488855\n",
      "357.6423183488855\n",
      "357.8252914132754\n",
      "357.8252914132754\n"
     ]
    },
    {
     "name": "stderr",
     "output_type": "stream",
     "text": [
      "\u001b[A\n",
      " 40%|███▉      | 501/1261 [01:11<01:49,  6.97it/s]\u001b[A\n",
      " 40%|███▉      | 502/1261 [01:12<01:46,  7.10it/s]"
     ]
    },
    {
     "name": "stdout",
     "output_type": "stream",
     "text": [
      "358.1573996564807\n",
      "358.1573996564807\n",
      "358.2649088155258\n",
      "358.2649088155258\n"
     ]
    },
    {
     "name": "stderr",
     "output_type": "stream",
     "text": [
      "\u001b[A\n",
      " 40%|███▉      | 503/1261 [01:12<01:47,  7.07it/s]\u001b[A\n",
      " 40%|███▉      | 504/1261 [01:12<01:44,  7.22it/s]"
     ]
    },
    {
     "name": "stdout",
     "output_type": "stream",
     "text": [
      "358.3912547129794\n",
      "358.3912547129794\n",
      "357.27114826450315\n",
      "357.27114826450315\n"
     ]
    },
    {
     "name": "stderr",
     "output_type": "stream",
     "text": [
      "\u001b[A\n",
      " 40%|████      | 505/1261 [01:12<01:46,  7.11it/s]\u001b[A\n",
      " 40%|████      | 506/1261 [01:12<01:45,  7.18it/s]"
     ]
    },
    {
     "name": "stdout",
     "output_type": "stream",
     "text": [
      "358.3006711175781\n",
      "358.3006711175781\n",
      "358.04709153018894\n",
      "358.04709153018894\n"
     ]
    },
    {
     "name": "stderr",
     "output_type": "stream",
     "text": [
      "\u001b[A\n",
      " 40%|████      | 507/1261 [01:12<01:45,  7.17it/s]\u001b[A\n",
      " 40%|████      | 508/1261 [01:12<01:44,  7.19it/s]"
     ]
    },
    {
     "name": "stdout",
     "output_type": "stream",
     "text": [
      "357.1422482909652\n",
      "357.1422482909652\n",
      "357.6107599680445\n",
      "357.6107599680445\n"
     ]
    },
    {
     "name": "stderr",
     "output_type": "stream",
     "text": [
      "\u001b[A\n",
      " 40%|████      | 509/1261 [01:13<01:48,  6.95it/s]\u001b[A\n",
      " 40%|████      | 510/1261 [01:13<01:47,  6.98it/s]"
     ]
    },
    {
     "name": "stdout",
     "output_type": "stream",
     "text": [
      "355.5350018160739\n",
      "355.5350018160739\n",
      "356.0946321894421\n",
      "356.0946321894421\n"
     ]
    },
    {
     "name": "stderr",
     "output_type": "stream",
     "text": [
      "\u001b[A\n",
      " 41%|████      | 511/1261 [01:13<01:49,  6.86it/s]\u001b[A\n",
      " 41%|████      | 512/1261 [01:13<01:44,  7.15it/s]"
     ]
    },
    {
     "name": "stdout",
     "output_type": "stream",
     "text": [
      "357.5005041723616\n",
      "357.5005041723616\n",
      "358.3006711175781\n",
      "358.3006711175781\n"
     ]
    },
    {
     "name": "stderr",
     "output_type": "stream",
     "text": [
      "\u001b[A\n",
      " 41%|████      | 513/1261 [01:13<01:45,  7.11it/s]\u001b[A\n",
      " 41%|████      | 514/1261 [01:13<01:42,  7.31it/s]"
     ]
    },
    {
     "name": "stdout",
     "output_type": "stream",
     "text": [
      "358.3006711175781\n",
      "358.3006711175781\n",
      "358.3006711175781\n",
      "358.3006711175781\n"
     ]
    },
    {
     "name": "stderr",
     "output_type": "stream",
     "text": [
      "\u001b[A\n",
      " 41%|████      | 515/1261 [01:13<01:42,  7.25it/s]\u001b[A\n",
      " 41%|████      | 516/1261 [01:14<01:43,  7.19it/s]"
     ]
    },
    {
     "name": "stdout",
     "output_type": "stream",
     "text": [
      "358.3006711175781\n",
      "358.3006711175781\n",
      "358.3006711175781\n",
      "358.3006711175781\n"
     ]
    },
    {
     "name": "stderr",
     "output_type": "stream",
     "text": [
      "\u001b[A\n",
      " 41%|████      | 517/1261 [01:14<01:45,  7.08it/s]\u001b[A\n",
      " 41%|████      | 518/1261 [01:14<01:42,  7.23it/s]"
     ]
    },
    {
     "name": "stdout",
     "output_type": "stream",
     "text": [
      "356.48789694294555\n",
      "356.48789694294555\n",
      "357.75329543410453\n",
      "357.75329543410453\n"
     ]
    },
    {
     "name": "stderr",
     "output_type": "stream",
     "text": [
      "\u001b[A\n",
      " 41%|████      | 519/1261 [01:14<01:43,  7.18it/s]\u001b[A\n",
      " 41%|████      | 520/1261 [01:14<01:42,  7.26it/s]"
     ]
    },
    {
     "name": "stdout",
     "output_type": "stream",
     "text": [
      "358.0488994919083\n",
      "358.0488994919083\n",
      "357.1359268758142\n",
      "357.1359268758142\n"
     ]
    },
    {
     "name": "stderr",
     "output_type": "stream",
     "text": [
      "\u001b[A\n",
      " 41%|████▏     | 521/1261 [01:14<01:47,  6.86it/s]\u001b[A\n",
      " 41%|████▏     | 522/1261 [01:14<01:47,  6.90it/s]"
     ]
    },
    {
     "name": "stdout",
     "output_type": "stream",
     "text": [
      "359.77552077276914\n",
      "359.77552077276914\n",
      "357.8084268804587\n",
      "357.8084268804587\n"
     ]
    },
    {
     "name": "stderr",
     "output_type": "stream",
     "text": [
      "\u001b[A\n",
      " 41%|████▏     | 523/1261 [01:15<01:52,  6.54it/s]\u001b[A\n",
      " 42%|████▏     | 524/1261 [01:15<01:55,  6.38it/s]"
     ]
    },
    {
     "name": "stdout",
     "output_type": "stream",
     "text": [
      "356.8190792641053\n",
      "356.8190792641053\n",
      "358.30067111757626\n",
      "358.30067111757626\n"
     ]
    },
    {
     "name": "stderr",
     "output_type": "stream",
     "text": [
      "\u001b[A\n",
      " 42%|████▏     | 525/1261 [01:15<02:01,  6.04it/s]\u001b[A"
     ]
    },
    {
     "name": "stdout",
     "output_type": "stream",
     "text": [
      "357.10504191843984\n",
      "357.10504191843984\n",
      "356.979564763667\n",
      "356.979564763667\n"
     ]
    },
    {
     "name": "stderr",
     "output_type": "stream",
     "text": [
      "\n",
      " 42%|████▏     | 526/1261 [01:15<02:07,  5.77it/s]\u001b[A\n",
      " 42%|████▏     | 527/1261 [01:15<02:11,  5.58it/s]\u001b[A\n",
      " 42%|████▏     | 528/1261 [01:15<02:01,  6.05it/s]"
     ]
    },
    {
     "name": "stdout",
     "output_type": "stream",
     "text": [
      "355.9139430516061\n",
      "355.9139430516061\n",
      "356.08409932922723\n",
      "356.08409932922723\n"
     ]
    },
    {
     "name": "stderr",
     "output_type": "stream",
     "text": [
      "\u001b[A\n",
      " 42%|████▏     | 529/1261 [01:16<01:57,  6.21it/s]\u001b[A\n",
      " 42%|████▏     | 530/1261 [01:16<01:52,  6.50it/s]"
     ]
    },
    {
     "name": "stdout",
     "output_type": "stream",
     "text": [
      "356.7403140429474\n",
      "356.7403140429474\n",
      "356.96221169725277\n",
      "356.96221169725277\n"
     ]
    },
    {
     "name": "stderr",
     "output_type": "stream",
     "text": [
      "\u001b[A\n",
      " 42%|████▏     | 531/1261 [01:16<01:50,  6.58it/s]\u001b[A\n",
      " 42%|████▏     | 532/1261 [01:16<01:47,  6.81it/s]"
     ]
    },
    {
     "name": "stdout",
     "output_type": "stream",
     "text": [
      "356.775349673429\n",
      "356.775349673429\n",
      "0.3740390273915182\n",
      "0.3740390273915182\n"
     ]
    },
    {
     "name": "stderr",
     "output_type": "stream",
     "text": [
      "\u001b[A\n",
      " 42%|████▏     | 533/1261 [01:16<01:45,  6.92it/s]\u001b[A\n",
      " 42%|████▏     | 534/1261 [01:16<01:42,  7.11it/s]"
     ]
    },
    {
     "name": "stdout",
     "output_type": "stream",
     "text": [
      "0.3197716215372566\n",
      "0.3197716215372566\n",
      "358.9255022935331\n",
      "358.9255022935331\n"
     ]
    },
    {
     "name": "stderr",
     "output_type": "stream",
     "text": [
      "\u001b[A\n",
      " 42%|████▏     | 535/1261 [01:16<01:43,  7.01it/s]\u001b[A\n",
      " 43%|████▎     | 536/1261 [01:17<01:41,  7.16it/s]"
     ]
    },
    {
     "name": "stdout",
     "output_type": "stream",
     "text": [
      "358.05778933693045\n",
      "358.05778933693045\n",
      "358.6877641682322\n",
      "358.6877641682322\n"
     ]
    },
    {
     "name": "stderr",
     "output_type": "stream",
     "text": [
      "\u001b[A\n",
      " 43%|████▎     | 537/1261 [01:17<01:42,  7.07it/s]\u001b[A\n",
      " 43%|████▎     | 538/1261 [01:17<01:39,  7.24it/s]"
     ]
    },
    {
     "name": "stdout",
     "output_type": "stream",
     "text": [
      "357.0539583037171\n",
      "357.0539583037171\n",
      "356.14919712175333\n",
      "356.14919712175333\n"
     ]
    },
    {
     "name": "stderr",
     "output_type": "stream",
     "text": [
      "\u001b[A\n",
      " 43%|████▎     | 539/1261 [01:17<01:39,  7.24it/s]\u001b[A\n",
      " 43%|████▎     | 540/1261 [01:17<01:40,  7.20it/s]"
     ]
    },
    {
     "name": "stdout",
     "output_type": "stream",
     "text": [
      "356.5130332289523\n",
      "356.5130332289523\n",
      "0.4422077424683266\n",
      "0.4422077424683266\n"
     ]
    },
    {
     "name": "stderr",
     "output_type": "stream",
     "text": [
      "\u001b[A\n",
      " 43%|████▎     | 541/1261 [01:17<01:41,  7.08it/s]\u001b[A\n",
      " 43%|████▎     | 542/1261 [01:17<01:39,  7.21it/s]"
     ]
    },
    {
     "name": "stdout",
     "output_type": "stream",
     "text": [
      "359.66000702429164\n",
      "359.66000702429164\n",
      "358.30067111758035\n",
      "358.30067111758035\n"
     ]
    },
    {
     "name": "stderr",
     "output_type": "stream",
     "text": [
      "\u001b[A\n",
      " 43%|████▎     | 543/1261 [01:18<01:42,  7.03it/s]\u001b[A\n",
      " 43%|████▎     | 544/1261 [01:18<01:40,  7.16it/s]"
     ]
    },
    {
     "name": "stdout",
     "output_type": "stream",
     "text": [
      "0.2723378045948266\n",
      "0.2723378045948266\n",
      "355.38375205338707\n",
      "355.38375205338707\n"
     ]
    },
    {
     "name": "stderr",
     "output_type": "stream",
     "text": [
      "\u001b[A\n",
      " 43%|████▎     | 545/1261 [01:18<01:39,  7.22it/s]\u001b[A\n",
      " 43%|████▎     | 546/1261 [01:18<01:40,  7.08it/s]"
     ]
    },
    {
     "name": "stdout",
     "output_type": "stream",
     "text": [
      "354.30822508641677\n",
      "354.30822508641677\n",
      "2.259379497235841\n",
      "2.259379497235841\n"
     ]
    },
    {
     "name": "stderr",
     "output_type": "stream",
     "text": [
      "\u001b[A\n",
      " 43%|████▎     | 547/1261 [01:18<01:39,  7.16it/s]\u001b[A\n",
      " 43%|████▎     | 548/1261 [01:18<01:39,  7.16it/s]"
     ]
    },
    {
     "name": "stdout",
     "output_type": "stream",
     "text": [
      "1.6919586038570742\n",
      "1.6919586038570742\n",
      "359.90609838182354\n",
      "359.90609838182354\n"
     ]
    },
    {
     "name": "stderr",
     "output_type": "stream",
     "text": [
      "\u001b[A\n",
      " 44%|████▎     | 549/1261 [01:18<01:39,  7.13it/s]\u001b[A\n",
      " 44%|████▎     | 550/1261 [01:18<01:40,  7.07it/s]"
     ]
    },
    {
     "name": "stdout",
     "output_type": "stream",
     "text": [
      "3.445984381855851\n",
      "3.445984381855851\n",
      "4.728624107956875\n",
      "4.728624107956875\n"
     ]
    },
    {
     "name": "stderr",
     "output_type": "stream",
     "text": [
      "\u001b[A\n",
      " 44%|████▎     | 551/1261 [01:19<01:38,  7.18it/s]\u001b[A\n",
      " 44%|████▍     | 552/1261 [01:19<01:37,  7.28it/s]"
     ]
    },
    {
     "name": "stdout",
     "output_type": "stream",
     "text": [
      "4.8516666016103045\n",
      "4.8516666016103045\n",
      "1.335228424059551\n",
      "1.335228424059551\n"
     ]
    },
    {
     "name": "stderr",
     "output_type": "stream",
     "text": [
      "\u001b[A\n",
      " 44%|████▍     | 553/1261 [01:19<01:40,  7.07it/s]\u001b[A\n",
      " 44%|████▍     | 554/1261 [01:19<01:39,  7.14it/s]"
     ]
    },
    {
     "name": "stdout",
     "output_type": "stream",
     "text": [
      "359.66705094265717\n",
      "359.66705094265717\n",
      "1.8574127893712102\n",
      "1.8574127893712102\n"
     ]
    },
    {
     "name": "stderr",
     "output_type": "stream",
     "text": [
      "\u001b[A\n",
      " 44%|████▍     | 555/1261 [01:19<01:44,  6.76it/s]\u001b[A\n",
      " 44%|████▍     | 556/1261 [01:19<01:43,  6.82it/s]"
     ]
    },
    {
     "name": "stdout",
     "output_type": "stream",
     "text": [
      "353.9239355467166\n",
      "353.9239355467166\n",
      "353.54963902092413\n",
      "353.54963902092413\n"
     ]
    },
    {
     "name": "stderr",
     "output_type": "stream",
     "text": [
      "\u001b[A\n",
      " 44%|████▍     | 557/1261 [01:20<01:45,  6.68it/s]\u001b[A\n",
      " 44%|████▍     | 558/1261 [01:20<01:43,  6.80it/s]"
     ]
    },
    {
     "name": "stdout",
     "output_type": "stream",
     "text": [
      "353.5673443946598\n",
      "353.5673443946598\n",
      "350.3971228918217\n",
      "350.3971228918217\n"
     ]
    },
    {
     "name": "stderr",
     "output_type": "stream",
     "text": [
      "\u001b[A\n",
      " 44%|████▍     | 559/1261 [01:20<01:43,  6.76it/s]\u001b[A\n",
      " 44%|████▍     | 560/1261 [01:20<01:41,  6.88it/s]"
     ]
    },
    {
     "name": "stdout",
     "output_type": "stream",
     "text": [
      "5.22715758682034\n",
      "5.22715758682034\n",
      "0.4695179727809773\n",
      "0.4695179727809773\n"
     ]
    },
    {
     "name": "stderr",
     "output_type": "stream",
     "text": [
      "\u001b[A\n",
      " 44%|████▍     | 561/1261 [01:20<01:45,  6.66it/s]\u001b[A\n",
      " 45%|████▍     | 562/1261 [01:20<01:42,  6.83it/s]"
     ]
    },
    {
     "name": "stdout",
     "output_type": "stream",
     "text": [
      "1.6646963236507872\n",
      "1.6646963236507872\n",
      "0.1263820361314174\n",
      "0.1263820361314174\n"
     ]
    },
    {
     "name": "stderr",
     "output_type": "stream",
     "text": [
      "\u001b[A\n",
      " 45%|████▍     | 563/1261 [01:20<01:47,  6.52it/s]\u001b[A\n",
      " 45%|████▍     | 564/1261 [01:21<01:49,  6.35it/s]"
     ]
    },
    {
     "name": "stdout",
     "output_type": "stream",
     "text": [
      "0.15983381168643973\n",
      "0.15983381168643973\n",
      "1.7561190173632895\n",
      "1.7561190173632895\n"
     ]
    },
    {
     "name": "stderr",
     "output_type": "stream",
     "text": [
      "\u001b[A\n",
      " 45%|████▍     | 565/1261 [01:21<01:54,  6.07it/s]\u001b[A"
     ]
    },
    {
     "name": "stdout",
     "output_type": "stream",
     "text": [
      "359.0938424806982\n",
      "359.0938424806982\n",
      "359.3898150413802\n",
      "359.3898150413802\n"
     ]
    },
    {
     "name": "stderr",
     "output_type": "stream",
     "text": [
      "\n",
      " 45%|████▍     | 566/1261 [01:21<01:56,  5.99it/s]\u001b[A\n",
      " 45%|████▍     | 567/1261 [01:21<02:00,  5.76it/s]\u001b[A"
     ]
    },
    {
     "name": "stdout",
     "output_type": "stream",
     "text": [
      "1.4033530203419105\n",
      "1.4033530203419105\n",
      "1.4341595266200784\n",
      "1.4341595266200784\n"
     ]
    },
    {
     "name": "stderr",
     "output_type": "stream",
     "text": [
      "\n",
      " 45%|████▌     | 568/1261 [01:21<02:03,  5.63it/s]\u001b[A\n",
      " 45%|████▌     | 569/1261 [01:21<01:58,  5.83it/s]\u001b[A\n",
      " 45%|████▌     | 570/1261 [01:22<01:52,  6.14it/s]"
     ]
    },
    {
     "name": "stdout",
     "output_type": "stream",
     "text": [
      "0.8067019746195001\n",
      "0.8067019746195001\n",
      "0.8037109973361112\n",
      "0.8037109973361112\n"
     ]
    },
    {
     "name": "stderr",
     "output_type": "stream",
     "text": [
      "\u001b[A\n",
      " 45%|████▌     | 571/1261 [01:22<01:50,  6.24it/s]\u001b[A\n",
      " 45%|████▌     | 572/1261 [01:22<01:45,  6.56it/s]"
     ]
    },
    {
     "name": "stdout",
     "output_type": "stream",
     "text": [
      "359.5452332160089\n",
      "359.5452332160089\n",
      "357.6601255415917\n",
      "357.6601255415917\n"
     ]
    },
    {
     "name": "stderr",
     "output_type": "stream",
     "text": [
      "\u001b[A\n",
      " 45%|████▌     | 573/1261 [01:22<01:45,  6.53it/s]\u001b[A\n",
      " 46%|████▌     | 574/1261 [01:22<01:41,  6.78it/s]"
     ]
    },
    {
     "name": "stdout",
     "output_type": "stream",
     "text": [
      "358.2054985299724\n",
      "358.2054985299724\n",
      "357.89903659351967\n",
      "357.89903659351967\n"
     ]
    },
    {
     "name": "stderr",
     "output_type": "stream",
     "text": [
      "\u001b[A\n",
      " 46%|████▌     | 575/1261 [01:22<01:42,  6.70it/s]\u001b[A\n",
      " 46%|████▌     | 576/1261 [01:22<01:39,  6.89it/s]"
     ]
    },
    {
     "name": "stdout",
     "output_type": "stream",
     "text": [
      "359.32895548331135\n",
      "359.32895548331135\n",
      "358.3006711175781\n",
      "358.3006711175781\n"
     ]
    },
    {
     "name": "stderr",
     "output_type": "stream",
     "text": [
      "\u001b[A\n",
      " 46%|████▌     | 577/1261 [01:23<01:39,  6.88it/s]\u001b[A\n",
      " 46%|████▌     | 578/1261 [01:23<01:37,  7.04it/s]"
     ]
    },
    {
     "name": "stdout",
     "output_type": "stream",
     "text": [
      "358.3006711175781\n",
      "358.3006711175781\n",
      "358.3006711175781\n",
      "358.3006711175781\n"
     ]
    },
    {
     "name": "stderr",
     "output_type": "stream",
     "text": [
      "\u001b[A\n",
      " 46%|████▌     | 579/1261 [01:23<01:36,  7.04it/s]\u001b[A\n",
      " 46%|████▌     | 580/1261 [01:23<01:35,  7.14it/s]"
     ]
    },
    {
     "name": "stdout",
     "output_type": "stream",
     "text": [
      "359.91545558915686\n",
      "359.91545558915686\n",
      "358.700835761696\n",
      "358.700835761696\n"
     ]
    },
    {
     "name": "stderr",
     "output_type": "stream",
     "text": [
      "\u001b[A\n",
      " 46%|████▌     | 581/1261 [01:23<01:38,  6.93it/s]\u001b[A\n",
      " 46%|████▌     | 582/1261 [01:23<01:37,  6.95it/s]"
     ]
    },
    {
     "name": "stdout",
     "output_type": "stream",
     "text": [
      "359.5832590267032\n",
      "359.5832590267032\n",
      "1.3483296934000464\n",
      "1.3483296934000464\n"
     ]
    },
    {
     "name": "stderr",
     "output_type": "stream",
     "text": [
      "\u001b[A\n",
      " 46%|████▌     | 583/1261 [01:23<01:39,  6.79it/s]\u001b[A\n",
      " 46%|████▋     | 584/1261 [01:24<01:38,  6.85it/s]"
     ]
    },
    {
     "name": "stdout",
     "output_type": "stream",
     "text": [
      "0.8835566249358635\n",
      "0.8835566249358635\n",
      "358.4229516955702\n",
      "358.4229516955702\n"
     ]
    },
    {
     "name": "stderr",
     "output_type": "stream",
     "text": [
      "\u001b[A\n",
      " 46%|████▋     | 585/1261 [01:24<01:38,  6.86it/s]\u001b[A\n",
      " 46%|████▋     | 586/1261 [01:24<01:37,  6.96it/s]"
     ]
    },
    {
     "name": "stdout",
     "output_type": "stream",
     "text": [
      "359.5238617476148\n",
      "359.5238617476148\n",
      "359.403173734544\n",
      "359.403173734544\n"
     ]
    },
    {
     "name": "stderr",
     "output_type": "stream",
     "text": [
      "\u001b[A\n",
      " 47%|████▋     | 587/1261 [01:24<01:35,  7.02it/s]\u001b[A\n",
      " 47%|████▋     | 588/1261 [01:24<01:33,  7.18it/s]"
     ]
    },
    {
     "name": "stdout",
     "output_type": "stream",
     "text": [
      "354.6657607383954\n",
      "354.6657607383954\n",
      "355.2031579348145\n",
      "355.2031579348145\n"
     ]
    },
    {
     "name": "stderr",
     "output_type": "stream",
     "text": [
      "\u001b[A\n",
      " 47%|████▋     | 589/1261 [01:24<01:32,  7.23it/s]\u001b[A\n",
      " 47%|████▋     | 590/1261 [01:24<01:32,  7.24it/s]"
     ]
    },
    {
     "name": "stdout",
     "output_type": "stream",
     "text": [
      "355.24568218485865\n",
      "355.24568218485865\n",
      "355.9631266553142\n",
      "355.9631266553142\n"
     ]
    },
    {
     "name": "stderr",
     "output_type": "stream",
     "text": [
      "\u001b[A\n",
      " 47%|████▋     | 591/1261 [01:25<01:32,  7.21it/s]\u001b[A\n",
      " 47%|████▋     | 592/1261 [01:25<01:33,  7.16it/s]"
     ]
    },
    {
     "name": "stdout",
     "output_type": "stream",
     "text": [
      "355.8367496415476\n",
      "355.8367496415476\n",
      "357.1978786315981\n",
      "357.1978786315981\n"
     ]
    },
    {
     "name": "stderr",
     "output_type": "stream",
     "text": [
      "\u001b[A\n",
      " 47%|████▋     | 593/1261 [01:25<01:32,  7.24it/s]\u001b[A\n",
      " 47%|████▋     | 594/1261 [01:25<01:30,  7.37it/s]"
     ]
    },
    {
     "name": "stdout",
     "output_type": "stream",
     "text": [
      "358.3006711175781\n",
      "358.3006711175781\n",
      "357.4746255333839\n",
      "357.4746255333839\n"
     ]
    },
    {
     "name": "stderr",
     "output_type": "stream",
     "text": [
      "\u001b[A\n",
      " 47%|████▋     | 595/1261 [01:25<01:31,  7.32it/s]\u001b[A\n",
      " 47%|████▋     | 596/1261 [01:25<01:29,  7.42it/s]"
     ]
    },
    {
     "name": "stdout",
     "output_type": "stream",
     "text": [
      "356.3312219922036\n",
      "356.3312219922036\n",
      "356.29651315079445\n",
      "356.29651315079445\n"
     ]
    },
    {
     "name": "stderr",
     "output_type": "stream",
     "text": [
      "\u001b[A\n",
      " 47%|████▋     | 597/1261 [01:25<01:30,  7.32it/s]\u001b[A\n",
      " 47%|████▋     | 598/1261 [01:26<01:31,  7.25it/s]"
     ]
    },
    {
     "name": "stdout",
     "output_type": "stream",
     "text": [
      "354.3253845484496\n",
      "354.3253845484496\n",
      "354.5225744500949\n",
      "354.5225744500949\n"
     ]
    },
    {
     "name": "stderr",
     "output_type": "stream",
     "text": [
      "\u001b[A\n",
      " 48%|████▊     | 599/1261 [01:26<01:30,  7.30it/s]\u001b[A\n",
      " 48%|████▊     | 600/1261 [01:26<01:29,  7.41it/s]"
     ]
    },
    {
     "name": "stdout",
     "output_type": "stream",
     "text": [
      "354.32866754851375\n",
      "354.32866754851375\n",
      "356.94377937221043\n",
      "356.94377937221043\n"
     ]
    },
    {
     "name": "stderr",
     "output_type": "stream",
     "text": [
      "\u001b[A\n",
      " 48%|████▊     | 601/1261 [01:26<01:30,  7.26it/s]\u001b[A\n",
      " 48%|████▊     | 602/1261 [01:26<01:29,  7.37it/s]"
     ]
    },
    {
     "name": "stdout",
     "output_type": "stream",
     "text": [
      "358.30071908099535\n",
      "358.30071908099535\n",
      "357.82107952356637\n",
      "357.82107952356637\n"
     ]
    },
    {
     "name": "stderr",
     "output_type": "stream",
     "text": [
      "\u001b[A\n",
      " 48%|████▊     | 603/1261 [01:26<01:30,  7.26it/s]\u001b[A\n",
      " 48%|████▊     | 604/1261 [01:26<01:29,  7.32it/s]"
     ]
    },
    {
     "name": "stdout",
     "output_type": "stream",
     "text": [
      "357.6793495586953\n",
      "357.6793495586953\n",
      "357.31547933184356\n",
      "357.31547933184356\n"
     ]
    },
    {
     "name": "stderr",
     "output_type": "stream",
     "text": [
      "\u001b[A\n",
      " 48%|████▊     | 605/1261 [01:27<01:29,  7.33it/s]\u001b[A\n",
      " 48%|████▊     | 606/1261 [01:27<01:29,  7.32it/s]"
     ]
    },
    {
     "name": "stdout",
     "output_type": "stream",
     "text": [
      "358.0149357779196\n",
      "358.0149357779196\n",
      "357.3257545932229\n",
      "357.3257545932229\n"
     ]
    },
    {
     "name": "stderr",
     "output_type": "stream",
     "text": [
      "\u001b[A\n",
      " 48%|████▊     | 607/1261 [01:27<01:30,  7.20it/s]\u001b[A\n",
      " 48%|████▊     | 608/1261 [01:27<01:32,  7.05it/s]"
     ]
    },
    {
     "name": "stdout",
     "output_type": "stream",
     "text": [
      "356.21811003110406\n",
      "356.21811003110406\n",
      "356.0224172861799\n",
      "356.0224172861799\n"
     ]
    },
    {
     "name": "stderr",
     "output_type": "stream",
     "text": [
      "\u001b[A\n",
      " 48%|████▊     | 609/1261 [01:27<01:32,  7.08it/s]\u001b[A\n",
      " 48%|████▊     | 610/1261 [01:27<01:30,  7.19it/s]"
     ]
    },
    {
     "name": "stdout",
     "output_type": "stream",
     "text": [
      "356.20635737507564\n",
      "356.20635737507564\n",
      "357.8285158413587\n",
      "357.8285158413587\n"
     ]
    },
    {
     "name": "stderr",
     "output_type": "stream",
     "text": [
      "\u001b[A\n",
      " 48%|████▊     | 611/1261 [01:27<01:30,  7.19it/s]\u001b[A\n",
      " 49%|████▊     | 612/1261 [01:27<01:29,  7.25it/s]"
     ]
    },
    {
     "name": "stdout",
     "output_type": "stream",
     "text": [
      "358.30067111757853\n",
      "358.30067111757853\n",
      "358.30067111757853\n",
      "358.30067111757853\n"
     ]
    },
    {
     "name": "stderr",
     "output_type": "stream",
     "text": [
      "\u001b[A\n",
      " 49%|████▊     | 613/1261 [01:28<01:30,  7.15it/s]\u001b[A\n",
      " 49%|████▊     | 614/1261 [01:28<01:28,  7.29it/s]"
     ]
    },
    {
     "name": "stdout",
     "output_type": "stream",
     "text": [
      "0.31569991347487303\n",
      "0.31569991347487303\n",
      "0.4357179148914838\n",
      "0.4357179148914838\n"
     ]
    },
    {
     "name": "stderr",
     "output_type": "stream",
     "text": [
      "\u001b[A\n",
      " 49%|████▉     | 615/1261 [01:28<01:29,  7.23it/s]\u001b[A\n",
      " 49%|████▉     | 616/1261 [01:28<01:28,  7.26it/s]"
     ]
    },
    {
     "name": "stdout",
     "output_type": "stream",
     "text": [
      "1.51339091128375\n",
      "1.51339091128375\n",
      "354.41551276628115\n",
      "354.41551276628115\n"
     ]
    },
    {
     "name": "stderr",
     "output_type": "stream",
     "text": [
      "\u001b[A\n",
      " 49%|████▉     | 617/1261 [01:28<01:30,  7.11it/s]\u001b[A\n",
      " 49%|████▉     | 618/1261 [01:28<01:30,  7.13it/s]"
     ]
    },
    {
     "name": "stdout",
     "output_type": "stream",
     "text": [
      "349.3078865699995\n",
      "349.3078865699995\n",
      "345.1009088751375\n",
      "345.1009088751375\n"
     ]
    },
    {
     "name": "stderr",
     "output_type": "stream",
     "text": [
      "\u001b[A\n",
      " 49%|████▉     | 619/1261 [01:28<01:30,  7.09it/s]\u001b[A\n",
      " 49%|████▉     | 620/1261 [01:29<01:29,  7.14it/s]"
     ]
    },
    {
     "name": "stdout",
     "output_type": "stream",
     "text": [
      "344.1167831013272\n",
      "344.1167831013272\n",
      "344.1167831013272\n",
      "344.1167831013272\n"
     ]
    },
    {
     "name": "stderr",
     "output_type": "stream",
     "text": [
      "\u001b[A\n",
      " 49%|████▉     | 621/1261 [01:29<01:29,  7.15it/s]\u001b[A\n",
      " 49%|████▉     | 622/1261 [01:29<01:31,  6.98it/s]"
     ]
    },
    {
     "name": "stdout",
     "output_type": "stream",
     "text": [
      "344.1167831013272\n",
      "344.1167831013272\n",
      "344.1167831013272\n",
      "344.1167831013272\n"
     ]
    },
    {
     "name": "stderr",
     "output_type": "stream",
     "text": [
      "\u001b[A\n",
      " 49%|████▉     | 623/1261 [01:29<01:35,  6.65it/s]\u001b[A\n",
      " 49%|████▉     | 624/1261 [01:29<01:34,  6.74it/s]"
     ]
    },
    {
     "name": "stdout",
     "output_type": "stream",
     "text": [
      "344.1167831013272\n",
      "344.1167831013272\n",
      "346.1877894786626\n",
      "346.1877894786626\n"
     ]
    },
    {
     "name": "stderr",
     "output_type": "stream",
     "text": [
      "\u001b[A\n",
      " 50%|████▉     | 625/1261 [01:29<01:31,  6.92it/s]\u001b[A\n",
      " 50%|████▉     | 626/1261 [01:29<01:31,  6.95it/s]"
     ]
    },
    {
     "name": "stdout",
     "output_type": "stream",
     "text": [
      "358.2056949890866\n",
      "358.2056949890866\n",
      "10.28596716405309\n",
      "10.28596716405309\n"
     ]
    },
    {
     "name": "stderr",
     "output_type": "stream",
     "text": [
      "\u001b[A\n",
      " 50%|████▉     | 627/1261 [01:30<01:30,  7.00it/s]\u001b[A\n",
      " 50%|████▉     | 628/1261 [01:30<01:32,  6.83it/s]"
     ]
    },
    {
     "name": "stdout",
     "output_type": "stream",
     "text": [
      "10.221797914291528\n",
      "10.221797914291528\n",
      "7.072793090618688\n",
      "7.072793090618688\n"
     ]
    },
    {
     "name": "stderr",
     "output_type": "stream",
     "text": [
      "\u001b[A\n",
      " 50%|████▉     | 629/1261 [01:30<01:32,  6.83it/s]\u001b[A\n",
      " 50%|████▉     | 630/1261 [01:30<01:32,  6.83it/s]"
     ]
    },
    {
     "name": "stdout",
     "output_type": "stream",
     "text": [
      "6.690246797397776\n",
      "6.690246797397776\n",
      "9.64408922737266\n",
      "9.64408922737266\n"
     ]
    },
    {
     "name": "stderr",
     "output_type": "stream",
     "text": [
      "\u001b[A\n",
      " 50%|█████     | 631/1261 [01:30<01:31,  6.89it/s]\u001b[A\n",
      " 50%|█████     | 632/1261 [01:30<01:30,  6.94it/s]"
     ]
    },
    {
     "name": "stdout",
     "output_type": "stream",
     "text": [
      "358.2572245544088\n",
      "358.2572245544088\n",
      "350.9975109464672\n",
      "350.9975109464672\n"
     ]
    },
    {
     "name": "stderr",
     "output_type": "stream",
     "text": [
      "\u001b[A\n",
      " 50%|█████     | 633/1261 [01:30<01:29,  7.02it/s]\u001b[A\n",
      " 50%|█████     | 634/1261 [01:31<01:28,  7.05it/s]"
     ]
    },
    {
     "name": "stdout",
     "output_type": "stream",
     "text": [
      "350.9360792423704\n",
      "350.9360792423704\n",
      "352.2337077004954\n",
      "352.2337077004954\n"
     ]
    },
    {
     "name": "stderr",
     "output_type": "stream",
     "text": [
      "\u001b[A\n",
      " 50%|█████     | 635/1261 [01:31<01:29,  7.02it/s]\u001b[A\n",
      " 50%|█████     | 636/1261 [01:31<01:29,  6.96it/s]"
     ]
    },
    {
     "name": "stdout",
     "output_type": "stream",
     "text": [
      "352.3007148920274\n",
      "352.3007148920274\n",
      "353.3995536246548\n",
      "353.3995536246548\n"
     ]
    },
    {
     "name": "stderr",
     "output_type": "stream",
     "text": [
      "\u001b[A\n",
      " 51%|█████     | 637/1261 [01:31<01:28,  7.03it/s]\u001b[A\n",
      " 51%|█████     | 638/1261 [01:31<01:27,  7.10it/s]"
     ]
    },
    {
     "name": "stdout",
     "output_type": "stream",
     "text": [
      "353.8257133135303\n",
      "353.8257133135303\n",
      "353.8671836716785\n",
      "353.8671836716785\n"
     ]
    },
    {
     "name": "stderr",
     "output_type": "stream",
     "text": [
      "\u001b[A\n",
      " 51%|█████     | 639/1261 [01:31<01:28,  7.04it/s]\u001b[A\n",
      " 51%|█████     | 640/1261 [01:31<01:29,  6.95it/s]"
     ]
    },
    {
     "name": "stdout",
     "output_type": "stream",
     "text": [
      "353.7636878843323\n",
      "353.7636878843323\n",
      "353.4904650278527\n",
      "353.4904650278527\n"
     ]
    },
    {
     "name": "stderr",
     "output_type": "stream",
     "text": [
      "\u001b[A\n",
      " 51%|█████     | 641/1261 [01:32<01:28,  7.00it/s]\u001b[A\n",
      " 51%|█████     | 642/1261 [01:32<01:33,  6.59it/s]"
     ]
    },
    {
     "name": "stdout",
     "output_type": "stream",
     "text": [
      "352.34990874947243\n",
      "352.34990874947243\n",
      "351.2818632938797\n",
      "351.2818632938797\n"
     ]
    },
    {
     "name": "stderr",
     "output_type": "stream",
     "text": [
      "\u001b[A\n",
      " 51%|█████     | 643/1261 [01:32<01:37,  6.37it/s]\u001b[A"
     ]
    },
    {
     "name": "stdout",
     "output_type": "stream",
     "text": [
      "351.34251884781634\n",
      "351.34251884781634\n",
      "351.2988933860506\n",
      "351.2988933860506\n"
     ]
    },
    {
     "name": "stderr",
     "output_type": "stream",
     "text": [
      "\n",
      " 51%|█████     | 644/1261 [01:32<01:42,  6.03it/s]\u001b[A\n",
      " 51%|█████     | 645/1261 [01:32<01:44,  5.88it/s]\u001b[A"
     ]
    },
    {
     "name": "stdout",
     "output_type": "stream",
     "text": [
      "351.47420050457276\n",
      "351.47420050457276\n",
      "351.7945755891269\n",
      "351.7945755891269\n"
     ]
    },
    {
     "name": "stderr",
     "output_type": "stream",
     "text": [
      "\n",
      " 51%|█████     | 646/1261 [01:33<01:46,  5.76it/s]\u001b[A\n",
      " 51%|█████▏    | 647/1261 [01:33<01:50,  5.56it/s]\u001b[A"
     ]
    },
    {
     "name": "stdout",
     "output_type": "stream",
     "text": [
      "352.4077521439767\n",
      "352.4077521439767\n",
      "352.74287976290043\n",
      "352.74287976290043\n"
     ]
    },
    {
     "name": "stderr",
     "output_type": "stream",
     "text": [
      "\n",
      " 51%|█████▏    | 648/1261 [01:33<01:49,  5.58it/s]\u001b[A\n",
      " 51%|█████▏    | 649/1261 [01:33<01:46,  5.72it/s]\u001b[A"
     ]
    },
    {
     "name": "stdout",
     "output_type": "stream",
     "text": [
      "353.26398569146704\n",
      "353.26398569146704\n",
      "353.2938373519178\n",
      "353.2938373519178\n"
     ]
    },
    {
     "name": "stderr",
     "output_type": "stream",
     "text": [
      "\n",
      " 52%|█████▏    | 650/1261 [01:33<01:45,  5.79it/s]\u001b[A\n",
      " 52%|█████▏    | 651/1261 [01:33<01:45,  5.76it/s]\u001b[A"
     ]
    },
    {
     "name": "stdout",
     "output_type": "stream",
     "text": [
      "353.72024925452115\n",
      "353.72024925452115\n",
      "354.6892335326547\n",
      "354.6892335326547\n"
     ]
    },
    {
     "name": "stderr",
     "output_type": "stream",
     "text": [
      "\n",
      " 52%|█████▏    | 652/1261 [01:34<01:45,  5.78it/s]\u001b[A\n",
      " 52%|█████▏    | 653/1261 [01:34<01:42,  5.90it/s]\u001b[A\n",
      " 52%|█████▏    | 654/1261 [01:34<01:39,  6.13it/s]"
     ]
    },
    {
     "name": "stdout",
     "output_type": "stream",
     "text": [
      "353.85165408521425\n",
      "353.85165408521425\n",
      "353.776604659417\n",
      "353.776604659417\n"
     ]
    },
    {
     "name": "stderr",
     "output_type": "stream",
     "text": [
      "\u001b[A\n",
      " 52%|█████▏    | 655/1261 [01:34<01:35,  6.34it/s]\u001b[A\n",
      " 52%|█████▏    | 656/1261 [01:34<01:33,  6.48it/s]"
     ]
    },
    {
     "name": "stdout",
     "output_type": "stream",
     "text": [
      "353.773424981031\n",
      "353.773424981031\n",
      "353.7626033985953\n",
      "353.7626033985953\n"
     ]
    },
    {
     "name": "stderr",
     "output_type": "stream",
     "text": [
      "\u001b[A\n",
      " 52%|█████▏    | 657/1261 [01:34<01:35,  6.33it/s]\u001b[A"
     ]
    },
    {
     "name": "stdout",
     "output_type": "stream",
     "text": [
      "354.26665722160124\n",
      "354.26665722160124\n",
      "354.4020337536117\n",
      "354.4020337536117\n"
     ]
    },
    {
     "name": "stderr",
     "output_type": "stream",
     "text": [
      "\n",
      " 52%|█████▏    | 658/1261 [01:35<01:38,  6.12it/s]\u001b[A\n",
      " 52%|█████▏    | 659/1261 [01:35<01:36,  6.27it/s]\u001b[A"
     ]
    },
    {
     "name": "stdout",
     "output_type": "stream",
     "text": [
      "354.5086337629614\n",
      "354.5086337629614\n",
      "354.2537133644778\n",
      "354.2537133644778\n"
     ]
    },
    {
     "name": "stderr",
     "output_type": "stream",
     "text": [
      "\n",
      " 52%|█████▏    | 660/1261 [01:35<01:39,  6.02it/s]\u001b[A\n",
      " 52%|█████▏    | 661/1261 [01:35<01:35,  6.29it/s]\u001b[A\n",
      " 52%|█████▏    | 662/1261 [01:35<01:31,  6.53it/s]"
     ]
    },
    {
     "name": "stdout",
     "output_type": "stream",
     "text": [
      "353.6118282822026\n",
      "353.6118282822026\n",
      "353.0652202530491\n",
      "353.0652202530491\n"
     ]
    },
    {
     "name": "stderr",
     "output_type": "stream",
     "text": [
      "\u001b[A\n",
      " 53%|█████▎    | 663/1261 [01:35<01:34,  6.33it/s]\u001b[A\n",
      " 53%|█████▎    | 664/1261 [01:35<01:35,  6.27it/s]"
     ]
    },
    {
     "name": "stdout",
     "output_type": "stream",
     "text": [
      "352.836085003722\n",
      "352.836085003722\n",
      "353.27479281574006\n",
      "353.27479281574006\n"
     ]
    },
    {
     "name": "stderr",
     "output_type": "stream",
     "text": [
      "\u001b[A\n",
      " 53%|█████▎    | 665/1261 [01:36<01:32,  6.42it/s]\u001b[A"
     ]
    },
    {
     "name": "stdout",
     "output_type": "stream",
     "text": [
      "354.3189340999879\n",
      "354.3189340999879\n",
      "352.47720158916763\n",
      "352.47720158916763\n"
     ]
    },
    {
     "name": "stderr",
     "output_type": "stream",
     "text": [
      "\n",
      " 53%|█████▎    | 666/1261 [01:36<01:37,  6.08it/s]\u001b[A\n",
      " 53%|█████▎    | 667/1261 [01:36<01:36,  6.14it/s]\u001b[A\n",
      " 53%|█████▎    | 668/1261 [01:36<01:37,  6.11it/s]"
     ]
    },
    {
     "name": "stdout",
     "output_type": "stream",
     "text": [
      "351.44096696268343\n",
      "351.44096696268343\n",
      "350.80819521331296\n",
      "350.80819521331296\n"
     ]
    },
    {
     "name": "stderr",
     "output_type": "stream",
     "text": [
      "\u001b[A\n",
      " 53%|█████▎    | 669/1261 [01:36<01:33,  6.34it/s]\u001b[A\n",
      " 53%|█████▎    | 670/1261 [01:36<01:31,  6.45it/s]"
     ]
    },
    {
     "name": "stdout",
     "output_type": "stream",
     "text": [
      "350.5446318898321\n",
      "350.5446318898321\n",
      "350.23632905494605\n",
      "350.23632905494605\n"
     ]
    },
    {
     "name": "stderr",
     "output_type": "stream",
     "text": [
      "\u001b[A\n",
      " 53%|█████▎    | 671/1261 [01:37<01:30,  6.51it/s]\u001b[A\n",
      " 53%|█████▎    | 672/1261 [01:37<01:31,  6.45it/s]"
     ]
    },
    {
     "name": "stdout",
     "output_type": "stream",
     "text": [
      "350.5816440086901\n",
      "350.5816440086901\n",
      "350.67869136917307\n",
      "350.67869136917307\n"
     ]
    },
    {
     "name": "stderr",
     "output_type": "stream",
     "text": [
      "\u001b[A\n",
      " 53%|█████▎    | 673/1261 [01:37<01:31,  6.40it/s]\u001b[A\n",
      " 53%|█████▎    | 674/1261 [01:37<01:31,  6.40it/s]"
     ]
    },
    {
     "name": "stdout",
     "output_type": "stream",
     "text": [
      "351.277627003004\n",
      "351.277627003004\n",
      "351.63294173293116\n",
      "351.63294173293116\n"
     ]
    },
    {
     "name": "stderr",
     "output_type": "stream",
     "text": [
      "\u001b[A\n",
      " 54%|█████▎    | 675/1261 [01:37<01:33,  6.25it/s]\u001b[A"
     ]
    },
    {
     "name": "stdout",
     "output_type": "stream",
     "text": [
      "352.4339173794601\n",
      "352.4339173794601\n",
      "352.9291768196231\n",
      "352.9291768196231\n"
     ]
    },
    {
     "name": "stderr",
     "output_type": "stream",
     "text": [
      "\n",
      " 54%|█████▎    | 676/1261 [01:37<01:34,  6.20it/s]\u001b[A\n",
      " 54%|█████▎    | 677/1261 [01:38<01:35,  6.12it/s]\u001b[A\n",
      " 54%|█████▍    | 678/1261 [01:38<01:33,  6.22it/s]"
     ]
    },
    {
     "name": "stdout",
     "output_type": "stream",
     "text": [
      "353.4174016657116\n",
      "353.4174016657116\n",
      "353.57187412462235\n",
      "353.57187412462235\n"
     ]
    },
    {
     "name": "stderr",
     "output_type": "stream",
     "text": [
      "\u001b[A\n",
      " 54%|█████▍    | 679/1261 [01:38<01:34,  6.18it/s]\u001b[A"
     ]
    },
    {
     "name": "stdout",
     "output_type": "stream",
     "text": [
      "352.83136222360326\n",
      "352.83136222360326\n",
      "352.3830033110967\n",
      "352.3830033110967\n"
     ]
    },
    {
     "name": "stderr",
     "output_type": "stream",
     "text": [
      "\n",
      " 54%|█████▍    | 680/1261 [01:38<01:35,  6.11it/s]\u001b[A\n",
      " 54%|█████▍    | 681/1261 [01:38<01:31,  6.35it/s]\u001b[A\n",
      " 54%|█████▍    | 682/1261 [01:38<01:30,  6.41it/s]"
     ]
    },
    {
     "name": "stdout",
     "output_type": "stream",
     "text": [
      "352.4140991739141\n",
      "352.4140991739141\n",
      "352.6661354966709\n",
      "352.6661354966709\n"
     ]
    },
    {
     "name": "stderr",
     "output_type": "stream",
     "text": [
      "\u001b[A\n",
      " 54%|█████▍    | 683/1261 [01:38<01:28,  6.57it/s]\u001b[A\n",
      " 54%|█████▍    | 684/1261 [01:39<01:25,  6.72it/s]"
     ]
    },
    {
     "name": "stdout",
     "output_type": "stream",
     "text": [
      "353.3290311067858\n",
      "353.3290311067858\n",
      "353.72414282976433\n",
      "353.72414282976433\n"
     ]
    },
    {
     "name": "stderr",
     "output_type": "stream",
     "text": [
      "\u001b[A\n",
      " 54%|█████▍    | 685/1261 [01:39<01:25,  6.76it/s]\u001b[A\n",
      " 54%|█████▍    | 686/1261 [01:39<01:23,  6.89it/s]"
     ]
    },
    {
     "name": "stdout",
     "output_type": "stream",
     "text": [
      "354.2023075070815\n",
      "354.2023075070815\n",
      "354.40783991344824\n",
      "354.40783991344824\n"
     ]
    },
    {
     "name": "stderr",
     "output_type": "stream",
     "text": [
      "\u001b[A\n",
      " 54%|█████▍    | 687/1261 [01:39<01:21,  7.00it/s]\u001b[A\n",
      " 55%|█████▍    | 688/1261 [01:39<01:20,  7.10it/s]"
     ]
    },
    {
     "name": "stdout",
     "output_type": "stream",
     "text": [
      "354.35465128605983\n",
      "354.35465128605983\n",
      "354.34309198248457\n",
      "354.34309198248457\n"
     ]
    },
    {
     "name": "stderr",
     "output_type": "stream",
     "text": [
      "\u001b[A\n",
      " 55%|█████▍    | 689/1261 [01:39<01:21,  7.04it/s]\u001b[A\n",
      " 55%|█████▍    | 690/1261 [01:39<01:20,  7.11it/s]"
     ]
    },
    {
     "name": "stdout",
     "output_type": "stream",
     "text": [
      "354.43557813654024\n",
      "354.43557813654024\n",
      "354.3025609284232\n",
      "354.3025609284232\n"
     ]
    },
    {
     "name": "stderr",
     "output_type": "stream",
     "text": [
      "\u001b[A\n",
      " 55%|█████▍    | 691/1261 [01:40<01:21,  6.96it/s]\u001b[A\n",
      " 55%|█████▍    | 692/1261 [01:40<01:22,  6.88it/s]"
     ]
    },
    {
     "name": "stdout",
     "output_type": "stream",
     "text": [
      "353.3782182704672\n",
      "353.3782182704672\n",
      "352.9247738894619\n",
      "352.9247738894619\n"
     ]
    },
    {
     "name": "stderr",
     "output_type": "stream",
     "text": [
      "\u001b[A\n",
      " 55%|█████▍    | 693/1261 [01:40<01:21,  6.94it/s]\u001b[A\n",
      " 55%|█████▌    | 694/1261 [01:40<01:22,  6.84it/s]"
     ]
    },
    {
     "name": "stdout",
     "output_type": "stream",
     "text": [
      "352.5801747209739\n",
      "352.5801747209739\n",
      "352.8717786865227\n",
      "352.8717786865227\n"
     ]
    },
    {
     "name": "stderr",
     "output_type": "stream",
     "text": [
      "\u001b[A\n",
      " 55%|█████▌    | 695/1261 [01:40<01:22,  6.89it/s]\u001b[A\n",
      " 55%|█████▌    | 696/1261 [01:40<01:24,  6.68it/s]"
     ]
    },
    {
     "name": "stdout",
     "output_type": "stream",
     "text": [
      "353.3482115872116\n",
      "353.3482115872116\n",
      "353.97287564761837\n",
      "353.97287564761837\n"
     ]
    },
    {
     "name": "stderr",
     "output_type": "stream",
     "text": [
      "\u001b[A\n",
      " 55%|█████▌    | 697/1261 [01:40<01:23,  6.79it/s]\u001b[A\n",
      " 55%|█████▌    | 698/1261 [01:41<01:20,  7.00it/s]"
     ]
    },
    {
     "name": "stdout",
     "output_type": "stream",
     "text": [
      "354.38046769776247\n",
      "354.38046769776247\n",
      "354.0358129735473\n",
      "354.0358129735473\n"
     ]
    },
    {
     "name": "stderr",
     "output_type": "stream",
     "text": [
      "\u001b[A\n",
      " 55%|█████▌    | 699/1261 [01:41<01:19,  7.09it/s]\u001b[A\n",
      " 56%|█████▌    | 700/1261 [01:41<01:19,  7.08it/s]"
     ]
    },
    {
     "name": "stdout",
     "output_type": "stream",
     "text": [
      "353.4663547200921\n",
      "353.4663547200921\n",
      "353.347599560203\n",
      "353.347599560203\n"
     ]
    },
    {
     "name": "stderr",
     "output_type": "stream",
     "text": [
      "\u001b[A\n",
      " 56%|█████▌    | 701/1261 [01:41<01:17,  7.21it/s]\u001b[A\n",
      " 56%|█████▌    | 702/1261 [01:41<01:18,  7.17it/s]"
     ]
    },
    {
     "name": "stdout",
     "output_type": "stream",
     "text": [
      "353.40799625297177\n",
      "353.40799625297177\n",
      "354.04923392913133\n",
      "354.04923392913133\n"
     ]
    },
    {
     "name": "stderr",
     "output_type": "stream",
     "text": [
      "\u001b[A\n",
      " 56%|█████▌    | 703/1261 [01:41<01:18,  7.10it/s]\u001b[A\n",
      " 56%|█████▌    | 704/1261 [01:41<01:18,  7.10it/s]"
     ]
    },
    {
     "name": "stdout",
     "output_type": "stream",
     "text": [
      "352.77692288183425\n",
      "352.77692288183425\n",
      "351.0230018371094\n",
      "351.0230018371094\n"
     ]
    },
    {
     "name": "stderr",
     "output_type": "stream",
     "text": [
      "\u001b[A\n",
      " 56%|█████▌    | 705/1261 [01:42<01:17,  7.16it/s]\u001b[A\n",
      " 56%|█████▌    | 706/1261 [01:42<01:18,  7.04it/s]"
     ]
    },
    {
     "name": "stdout",
     "output_type": "stream",
     "text": [
      "350.5879158086864\n",
      "350.5879158086864\n",
      "350.3450026002788\n",
      "350.3450026002788\n"
     ]
    },
    {
     "name": "stderr",
     "output_type": "stream",
     "text": [
      "\u001b[A\n",
      " 56%|█████▌    | 707/1261 [01:42<01:17,  7.12it/s]\u001b[A\n",
      " 56%|█████▌    | 708/1261 [01:42<01:19,  6.97it/s]"
     ]
    },
    {
     "name": "stdout",
     "output_type": "stream",
     "text": [
      "350.6073265983664\n",
      "350.6073265983664\n",
      "350.9413380958149\n",
      "350.9413380958149\n"
     ]
    },
    {
     "name": "stderr",
     "output_type": "stream",
     "text": [
      "\u001b[A\n",
      " 56%|█████▌    | 709/1261 [01:42<01:18,  7.02it/s]\u001b[A\n",
      " 56%|█████▋    | 710/1261 [01:42<01:17,  7.07it/s]"
     ]
    },
    {
     "name": "stdout",
     "output_type": "stream",
     "text": [
      "351.31719330357146\n",
      "351.31719330357146\n",
      "351.12406720873696\n",
      "351.12406720873696\n"
     ]
    },
    {
     "name": "stderr",
     "output_type": "stream",
     "text": [
      "\u001b[A\n",
      " 56%|█████▋    | 711/1261 [01:42<01:18,  7.05it/s]\u001b[A\n",
      " 56%|█████▋    | 712/1261 [01:43<01:16,  7.14it/s]"
     ]
    },
    {
     "name": "stdout",
     "output_type": "stream",
     "text": [
      "351.74026324489523\n",
      "351.74026324489523\n",
      "352.2666908802912\n",
      "352.2666908802912\n"
     ]
    },
    {
     "name": "stderr",
     "output_type": "stream",
     "text": [
      "\u001b[A\n",
      " 57%|█████▋    | 713/1261 [01:43<01:14,  7.32it/s]\u001b[A\n",
      " 57%|█████▋    | 714/1261 [01:43<01:13,  7.41it/s]"
     ]
    },
    {
     "name": "stdout",
     "output_type": "stream",
     "text": [
      "352.25343936078343\n",
      "352.25343936078343\n",
      "352.32625428325537\n",
      "352.32625428325537\n"
     ]
    },
    {
     "name": "stderr",
     "output_type": "stream",
     "text": [
      "\u001b[A\n",
      " 57%|█████▋    | 715/1261 [01:43<01:12,  7.54it/s]\u001b[A\n",
      " 57%|█████▋    | 716/1261 [01:43<01:11,  7.59it/s]"
     ]
    },
    {
     "name": "stdout",
     "output_type": "stream",
     "text": [
      "351.9225006977322\n",
      "351.9225006977322\n",
      "351.5630733413286\n",
      "351.5630733413286\n"
     ]
    },
    {
     "name": "stderr",
     "output_type": "stream",
     "text": [
      "\u001b[A\n",
      " 57%|█████▋    | 717/1261 [01:43<01:11,  7.56it/s]\u001b[A\n",
      " 57%|█████▋    | 718/1261 [01:43<01:11,  7.57it/s]"
     ]
    },
    {
     "name": "stdout",
     "output_type": "stream",
     "text": [
      "351.2023060820461\n",
      "351.2023060820461\n",
      "350.90755105627113\n",
      "350.90755105627113\n"
     ]
    },
    {
     "name": "stderr",
     "output_type": "stream",
     "text": [
      "\u001b[A\n",
      " 57%|█████▋    | 719/1261 [01:44<01:11,  7.55it/s]\u001b[A\n",
      " 57%|█████▋    | 720/1261 [01:44<01:12,  7.43it/s]"
     ]
    },
    {
     "name": "stdout",
     "output_type": "stream",
     "text": [
      "350.8647251784869\n",
      "350.8647251784869\n",
      "351.2829557007367\n",
      "351.2829557007367\n"
     ]
    },
    {
     "name": "stderr",
     "output_type": "stream",
     "text": [
      "\u001b[A\n",
      " 57%|█████▋    | 721/1261 [01:44<01:13,  7.36it/s]\u001b[A\n",
      " 57%|█████▋    | 722/1261 [01:44<01:12,  7.40it/s]"
     ]
    },
    {
     "name": "stdout",
     "output_type": "stream",
     "text": [
      "351.61341102128927\n",
      "351.61341102128927\n",
      "351.4214746008779\n",
      "351.4214746008779\n"
     ]
    },
    {
     "name": "stderr",
     "output_type": "stream",
     "text": [
      "\u001b[A\n",
      " 57%|█████▋    | 723/1261 [01:44<01:12,  7.40it/s]\u001b[A\n",
      " 57%|█████▋    | 724/1261 [01:44<01:12,  7.39it/s]"
     ]
    },
    {
     "name": "stdout",
     "output_type": "stream",
     "text": [
      "352.0911481602179\n",
      "352.0911481602179\n",
      "352.68044527301345\n",
      "352.68044527301345\n"
     ]
    },
    {
     "name": "stderr",
     "output_type": "stream",
     "text": [
      "\u001b[A\n",
      " 57%|█████▋    | 725/1261 [01:44<01:12,  7.39it/s]\u001b[A\n",
      " 58%|█████▊    | 726/1261 [01:44<01:12,  7.40it/s]"
     ]
    },
    {
     "name": "stdout",
     "output_type": "stream",
     "text": [
      "353.19353062117943\n",
      "353.19353062117943\n",
      "353.8982959883374\n",
      "353.8982959883374\n"
     ]
    },
    {
     "name": "stderr",
     "output_type": "stream",
     "text": [
      "\u001b[A\n",
      " 58%|█████▊    | 727/1261 [01:45<01:12,  7.39it/s]\u001b[A\n",
      " 58%|█████▊    | 728/1261 [01:45<01:12,  7.33it/s]"
     ]
    },
    {
     "name": "stdout",
     "output_type": "stream",
     "text": [
      "353.17582622647114\n",
      "353.17582622647114\n",
      "352.4785175019333\n",
      "352.4785175019333\n"
     ]
    },
    {
     "name": "stderr",
     "output_type": "stream",
     "text": [
      "\u001b[A\n",
      " 58%|█████▊    | 729/1261 [01:45<01:12,  7.30it/s]\u001b[A\n",
      " 58%|█████▊    | 730/1261 [01:45<01:13,  7.18it/s]"
     ]
    },
    {
     "name": "stdout",
     "output_type": "stream",
     "text": [
      "352.20190904874744\n",
      "352.20190904874744\n",
      "351.55160170771524\n",
      "351.55160170771524\n"
     ]
    },
    {
     "name": "stderr",
     "output_type": "stream",
     "text": [
      "\u001b[A\n",
      " 58%|█████▊    | 731/1261 [01:45<01:14,  7.15it/s]\u001b[A\n",
      " 58%|█████▊    | 732/1261 [01:45<01:13,  7.19it/s]"
     ]
    },
    {
     "name": "stdout",
     "output_type": "stream",
     "text": [
      "351.43692061077763\n",
      "351.43692061077763\n",
      "351.4828452449224\n",
      "351.4828452449224\n"
     ]
    },
    {
     "name": "stderr",
     "output_type": "stream",
     "text": [
      "\u001b[A\n",
      " 58%|█████▊    | 733/1261 [01:45<01:15,  7.01it/s]\u001b[A\n",
      " 58%|█████▊    | 734/1261 [01:46<01:15,  6.99it/s]"
     ]
    },
    {
     "name": "stdout",
     "output_type": "stream",
     "text": [
      "351.69569653638655\n",
      "351.69569653638655\n",
      "351.8373590722317\n",
      "351.8373590722317\n"
     ]
    },
    {
     "name": "stderr",
     "output_type": "stream",
     "text": [
      "\u001b[A\n",
      " 58%|█████▊    | 735/1261 [01:46<01:14,  7.03it/s]\u001b[A\n",
      " 58%|█████▊    | 736/1261 [01:46<01:14,  7.02it/s]"
     ]
    },
    {
     "name": "stdout",
     "output_type": "stream",
     "text": [
      "351.9748478845031\n",
      "351.9748478845031\n",
      "351.8740923849714\n",
      "351.8740923849714\n"
     ]
    },
    {
     "name": "stderr",
     "output_type": "stream",
     "text": [
      "\u001b[A\n",
      " 58%|█████▊    | 737/1261 [01:46<01:15,  6.96it/s]\u001b[A\n",
      " 59%|█████▊    | 738/1261 [01:46<01:14,  7.05it/s]"
     ]
    },
    {
     "name": "stdout",
     "output_type": "stream",
     "text": [
      "352.31594551188255\n",
      "352.31594551188255\n",
      "353.0401004793366\n",
      "353.0401004793366\n"
     ]
    },
    {
     "name": "stderr",
     "output_type": "stream",
     "text": [
      "\u001b[A\n",
      " 59%|█████▊    | 739/1261 [01:46<01:14,  6.97it/s]\u001b[A\n",
      " 59%|█████▊    | 740/1261 [01:46<01:13,  7.13it/s]"
     ]
    },
    {
     "name": "stdout",
     "output_type": "stream",
     "text": [
      "352.28078875975007\n",
      "352.28078875975007\n",
      "351.47019327673297\n",
      "351.47019327673297\n"
     ]
    },
    {
     "name": "stderr",
     "output_type": "stream",
     "text": [
      "\u001b[A\n",
      " 59%|█████▉    | 741/1261 [01:47<01:13,  7.11it/s]\u001b[A\n",
      " 59%|█████▉    | 742/1261 [01:47<01:11,  7.27it/s]"
     ]
    },
    {
     "name": "stdout",
     "output_type": "stream",
     "text": [
      "350.68480651641175\n",
      "350.68480651641175\n",
      "350.482940669458\n",
      "350.482940669458\n"
     ]
    },
    {
     "name": "stderr",
     "output_type": "stream",
     "text": [
      "\u001b[A\n",
      " 59%|█████▉    | 743/1261 [01:47<01:10,  7.33it/s]\u001b[A\n",
      " 59%|█████▉    | 744/1261 [01:47<01:11,  7.22it/s]"
     ]
    },
    {
     "name": "stdout",
     "output_type": "stream",
     "text": [
      "350.6310454563936\n",
      "350.6310454563936\n",
      "350.7435231596337\n",
      "350.7435231596337\n"
     ]
    },
    {
     "name": "stderr",
     "output_type": "stream",
     "text": [
      "\u001b[A\n",
      " 59%|█████▉    | 745/1261 [01:47<01:10,  7.30it/s]\u001b[A\n",
      " 59%|█████▉    | 746/1261 [01:47<01:09,  7.37it/s]"
     ]
    },
    {
     "name": "stdout",
     "output_type": "stream",
     "text": [
      "351.11735017250203\n",
      "351.11735017250203\n",
      "351.3540428057545\n",
      "351.3540428057545\n"
     ]
    },
    {
     "name": "stderr",
     "output_type": "stream",
     "text": [
      "\u001b[A\n",
      " 59%|█████▉    | 747/1261 [01:47<01:09,  7.41it/s]\u001b[A\n",
      " 59%|█████▉    | 748/1261 [01:48<01:08,  7.47it/s]"
     ]
    },
    {
     "name": "stdout",
     "output_type": "stream",
     "text": [
      "351.1817127040922\n",
      "351.1817127040922\n",
      "351.3998914498011\n",
      "351.3998914498011\n"
     ]
    },
    {
     "name": "stderr",
     "output_type": "stream",
     "text": [
      "\u001b[A\n",
      " 59%|█████▉    | 749/1261 [01:48<01:08,  7.45it/s]\u001b[A\n",
      " 59%|█████▉    | 750/1261 [01:48<01:08,  7.48it/s]"
     ]
    },
    {
     "name": "stdout",
     "output_type": "stream",
     "text": [
      "351.45047664957383\n",
      "351.45047664957383\n",
      "351.765816125353\n",
      "351.765816125353\n"
     ]
    },
    {
     "name": "stderr",
     "output_type": "stream",
     "text": [
      "\u001b[A\n",
      " 60%|█████▉    | 751/1261 [01:48<01:08,  7.48it/s]\u001b[A\n",
      " 60%|█████▉    | 752/1261 [01:48<01:07,  7.49it/s]"
     ]
    },
    {
     "name": "stdout",
     "output_type": "stream",
     "text": [
      "351.01108898576695\n",
      "351.01108898576695\n",
      "350.67981858144867\n",
      "350.67981858144867\n"
     ]
    },
    {
     "name": "stderr",
     "output_type": "stream",
     "text": [
      "\u001b[A\n",
      " 60%|█████▉    | 753/1261 [01:48<01:07,  7.53it/s]\u001b[A\n",
      " 60%|█████▉    | 754/1261 [01:48<01:08,  7.39it/s]"
     ]
    },
    {
     "name": "stdout",
     "output_type": "stream",
     "text": [
      "350.170164546008\n",
      "350.170164546008\n",
      "350.20828671351865\n",
      "350.20828671351865\n"
     ]
    },
    {
     "name": "stderr",
     "output_type": "stream",
     "text": [
      "\u001b[A\n",
      " 60%|█████▉    | 755/1261 [01:48<01:10,  7.19it/s]\u001b[A\n",
      " 60%|█████▉    | 756/1261 [01:49<01:09,  7.27it/s]"
     ]
    },
    {
     "name": "stdout",
     "output_type": "stream",
     "text": [
      "350.73242406674126\n",
      "350.73242406674126\n",
      "351.42239282903756\n",
      "351.42239282903756\n"
     ]
    },
    {
     "name": "stderr",
     "output_type": "stream",
     "text": [
      "\u001b[A\n",
      " 60%|██████    | 757/1261 [01:49<01:10,  7.16it/s]\u001b[A\n",
      " 60%|██████    | 758/1261 [01:49<01:10,  7.12it/s]"
     ]
    },
    {
     "name": "stdout",
     "output_type": "stream",
     "text": [
      "352.239620337436\n",
      "352.239620337436\n",
      "352.576816126807\n",
      "352.576816126807\n"
     ]
    },
    {
     "name": "stderr",
     "output_type": "stream",
     "text": [
      "\u001b[A\n",
      " 60%|██████    | 759/1261 [01:49<01:09,  7.19it/s]\u001b[A\n",
      " 60%|██████    | 760/1261 [01:49<01:10,  7.07it/s]"
     ]
    },
    {
     "name": "stdout",
     "output_type": "stream",
     "text": [
      "352.7552687714451\n",
      "352.7552687714451\n",
      "352.6736067298052\n",
      "352.6736067298052\n"
     ]
    },
    {
     "name": "stderr",
     "output_type": "stream",
     "text": [
      "\u001b[A\n",
      " 60%|██████    | 761/1261 [01:49<01:10,  7.10it/s]\u001b[A\n",
      " 60%|██████    | 762/1261 [01:49<01:10,  7.09it/s]"
     ]
    },
    {
     "name": "stdout",
     "output_type": "stream",
     "text": [
      "352.7861274445977\n",
      "352.7861274445977\n",
      "353.2172813999073\n",
      "353.2172813999073\n"
     ]
    },
    {
     "name": "stderr",
     "output_type": "stream",
     "text": [
      "\u001b[A\n",
      " 61%|██████    | 763/1261 [01:50<01:09,  7.15it/s]\u001b[A\n",
      " 61%|██████    | 764/1261 [01:50<01:09,  7.11it/s]"
     ]
    },
    {
     "name": "stdout",
     "output_type": "stream",
     "text": [
      "353.4281535396958\n",
      "353.4281535396958\n",
      "351.82110494764356\n",
      "351.82110494764356\n"
     ]
    },
    {
     "name": "stderr",
     "output_type": "stream",
     "text": [
      "\u001b[A\n",
      " 61%|██████    | 765/1261 [01:50<01:10,  7.04it/s]\u001b[A\n",
      " 61%|██████    | 766/1261 [01:50<01:10,  6.99it/s]"
     ]
    },
    {
     "name": "stdout",
     "output_type": "stream",
     "text": [
      "351.1841003594195\n",
      "351.1841003594195\n",
      "350.79744149158796\n",
      "350.79744149158796\n"
     ]
    },
    {
     "name": "stderr",
     "output_type": "stream",
     "text": [
      "\u001b[A\n",
      " 61%|██████    | 767/1261 [01:50<01:12,  6.79it/s]\u001b[A\n",
      " 61%|██████    | 768/1261 [01:50<01:11,  6.87it/s]"
     ]
    },
    {
     "name": "stdout",
     "output_type": "stream",
     "text": [
      "351.4212122049439\n",
      "351.4212122049439\n",
      "352.207369194326\n",
      "352.207369194326\n"
     ]
    },
    {
     "name": "stderr",
     "output_type": "stream",
     "text": [
      "\u001b[A\n",
      " 61%|██████    | 769/1261 [01:50<01:11,  6.92it/s]\u001b[A\n",
      " 61%|██████    | 770/1261 [01:51<01:11,  6.84it/s]"
     ]
    },
    {
     "name": "stdout",
     "output_type": "stream",
     "text": [
      "353.18665207794857\n",
      "353.18665207794857\n",
      "353.13198649840024\n",
      "353.13198649840024\n"
     ]
    },
    {
     "name": "stderr",
     "output_type": "stream",
     "text": [
      "\u001b[A\n",
      " 61%|██████    | 771/1261 [01:51<01:10,  6.94it/s]\u001b[A\n",
      " 61%|██████    | 772/1261 [01:51<01:09,  7.03it/s]"
     ]
    },
    {
     "name": "stdout",
     "output_type": "stream",
     "text": [
      "353.7068911974584\n",
      "353.7068911974584\n",
      "353.8634751997647\n",
      "353.8634751997647\n"
     ]
    },
    {
     "name": "stderr",
     "output_type": "stream",
     "text": [
      "\u001b[A\n",
      " 61%|██████▏   | 773/1261 [01:51<01:08,  7.12it/s]\u001b[A\n",
      " 61%|██████▏   | 774/1261 [01:51<01:07,  7.22it/s]"
     ]
    },
    {
     "name": "stdout",
     "output_type": "stream",
     "text": [
      "355.03016020798987\n",
      "355.03016020798987\n",
      "358.3006711175781\n",
      "358.3006711175781\n"
     ]
    },
    {
     "name": "stderr",
     "output_type": "stream",
     "text": [
      "\u001b[A\n",
      " 61%|██████▏   | 775/1261 [01:51<01:10,  6.86it/s]\u001b[A\n",
      " 62%|██████▏   | 776/1261 [01:51<01:10,  6.84it/s]"
     ]
    },
    {
     "name": "stdout",
     "output_type": "stream",
     "text": [
      "357.17406854295496\n",
      "357.17406854295496\n",
      "353.57769417364625\n",
      "353.57769417364625\n"
     ]
    },
    {
     "name": "stderr",
     "output_type": "stream",
     "text": [
      "\u001b[A\n",
      " 62%|██████▏   | 777/1261 [01:52<01:09,  6.93it/s]\u001b[A\n",
      " 62%|██████▏   | 778/1261 [01:52<01:11,  6.79it/s]"
     ]
    },
    {
     "name": "stdout",
     "output_type": "stream",
     "text": [
      "351.4467019872227\n",
      "351.4467019872227\n",
      "350.3811587637083\n",
      "350.3811587637083\n"
     ]
    },
    {
     "name": "stderr",
     "output_type": "stream",
     "text": [
      "\u001b[A\n",
      " 62%|██████▏   | 779/1261 [01:52<01:09,  6.91it/s]\u001b[A\n",
      " 62%|██████▏   | 780/1261 [01:52<01:08,  6.97it/s]"
     ]
    },
    {
     "name": "stdout",
     "output_type": "stream",
     "text": [
      "349.84382686633853\n",
      "349.84382686633853\n",
      "350.4649394140838\n",
      "350.4649394140838\n"
     ]
    },
    {
     "name": "stderr",
     "output_type": "stream",
     "text": [
      "\u001b[A\n",
      " 62%|██████▏   | 781/1261 [01:52<01:08,  7.04it/s]\u001b[A\n",
      " 62%|██████▏   | 782/1261 [01:52<01:08,  6.98it/s]"
     ]
    },
    {
     "name": "stdout",
     "output_type": "stream",
     "text": [
      "351.08501918414277\n",
      "351.08501918414277\n",
      "352.2777733341768\n",
      "352.2777733341768\n"
     ]
    },
    {
     "name": "stderr",
     "output_type": "stream",
     "text": [
      "\u001b[A\n",
      " 62%|██████▏   | 783/1261 [01:52<01:07,  7.08it/s]\u001b[A\n",
      " 62%|██████▏   | 784/1261 [01:53<01:07,  7.07it/s]"
     ]
    },
    {
     "name": "stdout",
     "output_type": "stream",
     "text": [
      "352.3946301591618\n",
      "352.3946301591618\n",
      "354.1971790296998\n",
      "354.1971790296998\n"
     ]
    },
    {
     "name": "stderr",
     "output_type": "stream",
     "text": [
      "\u001b[A\n",
      " 62%|██████▏   | 785/1261 [01:53<01:07,  7.04it/s]\u001b[A\n",
      " 62%|██████▏   | 786/1261 [01:53<01:07,  7.05it/s]"
     ]
    },
    {
     "name": "stdout",
     "output_type": "stream",
     "text": [
      "355.1491965607538\n",
      "355.1491965607538\n",
      "358.13745995771524\n",
      "358.13745995771524\n"
     ]
    },
    {
     "name": "stderr",
     "output_type": "stream",
     "text": [
      "\u001b[A\n",
      " 62%|██████▏   | 787/1261 [01:53<01:06,  7.12it/s]\u001b[A\n",
      " 62%|██████▏   | 788/1261 [01:53<01:05,  7.17it/s]"
     ]
    },
    {
     "name": "stdout",
     "output_type": "stream",
     "text": [
      "354.05953108787844\n",
      "354.05953108787844\n",
      "352.9708446125692\n",
      "352.9708446125692\n"
     ]
    },
    {
     "name": "stderr",
     "output_type": "stream",
     "text": [
      "\u001b[A\n",
      " 63%|██████▎   | 789/1261 [01:53<01:06,  7.14it/s]\u001b[A\n",
      " 63%|██████▎   | 790/1261 [01:53<01:06,  7.05it/s]"
     ]
    },
    {
     "name": "stdout",
     "output_type": "stream",
     "text": [
      "352.2417582790308\n",
      "352.2417582790308\n",
      "351.54844331666527\n",
      "351.54844331666527\n"
     ]
    },
    {
     "name": "stderr",
     "output_type": "stream",
     "text": [
      "\u001b[A\n",
      " 63%|██████▎   | 791/1261 [01:54<01:05,  7.15it/s]\u001b[A\n",
      " 63%|██████▎   | 792/1261 [01:54<01:05,  7.19it/s]"
     ]
    },
    {
     "name": "stdout",
     "output_type": "stream",
     "text": [
      "351.5395840744977\n",
      "351.5395840744977\n",
      "351.8939532926729\n",
      "351.8939532926729\n"
     ]
    },
    {
     "name": "stderr",
     "output_type": "stream",
     "text": [
      "\u001b[A\n",
      " 63%|██████▎   | 793/1261 [01:54<01:05,  7.20it/s]\u001b[A\n",
      " 63%|██████▎   | 794/1261 [01:54<01:04,  7.20it/s]"
     ]
    },
    {
     "name": "stdout",
     "output_type": "stream",
     "text": [
      "352.20829541792955\n",
      "352.20829541792955\n",
      "352.94329742595437\n",
      "352.94329742595437\n"
     ]
    },
    {
     "name": "stderr",
     "output_type": "stream",
     "text": [
      "\u001b[A\n",
      " 63%|██████▎   | 795/1261 [01:54<01:04,  7.24it/s]\u001b[A\n",
      " 63%|██████▎   | 796/1261 [01:54<01:03,  7.33it/s]"
     ]
    },
    {
     "name": "stdout",
     "output_type": "stream",
     "text": [
      "352.9425016306013\n",
      "352.9425016306013\n",
      "353.1136283187334\n",
      "353.1136283187334\n"
     ]
    },
    {
     "name": "stderr",
     "output_type": "stream",
     "text": [
      "\u001b[A\n",
      " 63%|██████▎   | 797/1261 [01:54<01:02,  7.38it/s]\u001b[A\n",
      " 63%|██████▎   | 798/1261 [01:55<01:02,  7.39it/s]"
     ]
    },
    {
     "name": "stdout",
     "output_type": "stream",
     "text": [
      "353.4142264196953\n",
      "353.4142264196953\n",
      "354.3870601873964\n",
      "354.3870601873964\n"
     ]
    },
    {
     "name": "stderr",
     "output_type": "stream",
     "text": [
      "\u001b[A\n",
      " 63%|██████▎   | 799/1261 [01:55<01:02,  7.44it/s]\u001b[A\n",
      " 63%|██████▎   | 800/1261 [01:55<01:03,  7.26it/s]"
     ]
    },
    {
     "name": "stdout",
     "output_type": "stream",
     "text": [
      "352.4912697730424\n",
      "352.4912697730424\n",
      "351.7764536718705\n",
      "351.7764536718705\n"
     ]
    },
    {
     "name": "stderr",
     "output_type": "stream",
     "text": [
      "\u001b[A\n",
      " 64%|██████▎   | 801/1261 [01:55<01:04,  7.18it/s]\u001b[A\n",
      " 64%|██████▎   | 802/1261 [01:55<01:03,  7.28it/s]"
     ]
    },
    {
     "name": "stdout",
     "output_type": "stream",
     "text": [
      "351.08588512039523\n",
      "351.08588512039523\n",
      "351.2642011572116\n",
      "351.2642011572116\n"
     ]
    },
    {
     "name": "stderr",
     "output_type": "stream",
     "text": [
      "\u001b[A\n",
      " 64%|██████▎   | 803/1261 [01:55<01:04,  7.14it/s]\u001b[A\n",
      " 64%|██████▍   | 804/1261 [01:55<01:04,  7.07it/s]"
     ]
    },
    {
     "name": "stdout",
     "output_type": "stream",
     "text": [
      "351.7296269623107\n",
      "351.7296269623107\n",
      "352.83459448087206\n",
      "352.83459448087206\n"
     ]
    },
    {
     "name": "stderr",
     "output_type": "stream",
     "text": [
      "\u001b[A\n",
      " 64%|██████▍   | 805/1261 [01:56<01:03,  7.17it/s]\u001b[A\n",
      " 64%|██████▍   | 806/1261 [01:56<01:03,  7.15it/s]"
     ]
    },
    {
     "name": "stdout",
     "output_type": "stream",
     "text": [
      "354.141729775743\n",
      "354.141729775743\n",
      "355.3294767287175\n",
      "355.3294767287175\n"
     ]
    },
    {
     "name": "stderr",
     "output_type": "stream",
     "text": [
      "\u001b[A\n",
      " 64%|██████▍   | 807/1261 [01:56<01:03,  7.14it/s]\u001b[A\n",
      " 64%|██████▍   | 808/1261 [01:56<01:03,  7.08it/s]"
     ]
    },
    {
     "name": "stdout",
     "output_type": "stream",
     "text": [
      "355.97548221333636\n",
      "355.97548221333636\n",
      "356.48643817273705\n",
      "356.48643817273705\n"
     ]
    },
    {
     "name": "stderr",
     "output_type": "stream",
     "text": [
      "\u001b[A\n",
      " 64%|██████▍   | 809/1261 [01:56<01:04,  7.03it/s]\u001b[A\n",
      " 64%|██████▍   | 810/1261 [01:56<01:02,  7.16it/s]"
     ]
    },
    {
     "name": "stdout",
     "output_type": "stream",
     "text": [
      "356.4993932481575\n",
      "356.4993932481575\n",
      "357.47823970302625\n",
      "357.47823970302625\n"
     ]
    },
    {
     "name": "stderr",
     "output_type": "stream",
     "text": [
      "\u001b[A\n",
      " 64%|██████▍   | 811/1261 [01:56<01:02,  7.24it/s]\u001b[A\n",
      " 64%|██████▍   | 812/1261 [01:57<01:02,  7.15it/s]"
     ]
    },
    {
     "name": "stdout",
     "output_type": "stream",
     "text": [
      "355.63468933571403\n",
      "355.63468933571403\n",
      "354.7803069074034\n",
      "354.7803069074034\n"
     ]
    },
    {
     "name": "stderr",
     "output_type": "stream",
     "text": [
      "\u001b[A\n",
      " 64%|██████▍   | 813/1261 [01:57<01:02,  7.19it/s]\u001b[A\n",
      " 65%|██████▍   | 814/1261 [01:57<01:01,  7.28it/s]"
     ]
    },
    {
     "name": "stdout",
     "output_type": "stream",
     "text": [
      "353.68632373651417\n",
      "353.68632373651417\n",
      "353.2865993338205\n",
      "353.2865993338205\n"
     ]
    },
    {
     "name": "stderr",
     "output_type": "stream",
     "text": [
      "\u001b[A\n",
      " 65%|██████▍   | 815/1261 [01:57<01:00,  7.35it/s]\u001b[A\n",
      " 65%|██████▍   | 816/1261 [01:57<01:03,  7.05it/s]"
     ]
    },
    {
     "name": "stdout",
     "output_type": "stream",
     "text": [
      "353.7884887783475\n",
      "353.7884887783475\n",
      "354.57155324307496\n",
      "354.57155324307496\n"
     ]
    },
    {
     "name": "stderr",
     "output_type": "stream",
     "text": [
      "\u001b[A\n",
      " 65%|██████▍   | 817/1261 [01:57<01:03,  7.00it/s]\u001b[A\n",
      " 65%|██████▍   | 818/1261 [01:57<01:02,  7.09it/s]"
     ]
    },
    {
     "name": "stdout",
     "output_type": "stream",
     "text": [
      "354.9199041923589\n",
      "354.9199041923589\n",
      "356.6435129041952\n",
      "356.6435129041952\n"
     ]
    },
    {
     "name": "stderr",
     "output_type": "stream",
     "text": [
      "\u001b[A\n",
      " 65%|██████▍   | 819/1261 [01:57<01:04,  6.90it/s]\u001b[A\n",
      " 65%|██████▌   | 820/1261 [01:58<01:04,  6.87it/s]"
     ]
    },
    {
     "name": "stdout",
     "output_type": "stream",
     "text": [
      "355.34692107619685\n",
      "355.34692107619685\n",
      "355.5016958778351\n",
      "355.5016958778351\n"
     ]
    },
    {
     "name": "stderr",
     "output_type": "stream",
     "text": [
      "\u001b[A\n",
      " 65%|██████▌   | 821/1261 [01:58<01:03,  6.95it/s]\u001b[A\n",
      " 65%|██████▌   | 822/1261 [01:58<01:04,  6.84it/s]"
     ]
    },
    {
     "name": "stdout",
     "output_type": "stream",
     "text": [
      "355.57804530767817\n",
      "355.57804530767817\n",
      "353.9194702049749\n",
      "353.9194702049749\n"
     ]
    },
    {
     "name": "stderr",
     "output_type": "stream",
     "text": [
      "\u001b[A\n",
      " 65%|██████▌   | 823/1261 [01:58<01:03,  6.89it/s]\u001b[A\n",
      " 65%|██████▌   | 824/1261 [01:58<01:02,  6.94it/s]"
     ]
    },
    {
     "name": "stdout",
     "output_type": "stream",
     "text": [
      "350.98373381174133\n",
      "350.98373381174133\n",
      "350.30833769661285\n",
      "350.30833769661285\n"
     ]
    },
    {
     "name": "stderr",
     "output_type": "stream",
     "text": [
      "\u001b[A\n",
      " 65%|██████▌   | 825/1261 [01:58<01:02,  6.93it/s]\u001b[A\n",
      " 66%|██████▌   | 826/1261 [01:59<01:03,  6.81it/s]"
     ]
    },
    {
     "name": "stdout",
     "output_type": "stream",
     "text": [
      "349.2984604807625\n",
      "349.2984604807625\n",
      "348.5947890166917\n",
      "348.5947890166917\n"
     ]
    },
    {
     "name": "stderr",
     "output_type": "stream",
     "text": [
      "\u001b[A\n",
      " 66%|██████▌   | 827/1261 [01:59<01:03,  6.89it/s]\u001b[A\n",
      " 66%|██████▌   | 828/1261 [01:59<01:02,  6.92it/s]"
     ]
    },
    {
     "name": "stdout",
     "output_type": "stream",
     "text": [
      "348.85900381911597\n",
      "348.85900381911597\n",
      "349.8919292907435\n",
      "349.8919292907435\n"
     ]
    },
    {
     "name": "stderr",
     "output_type": "stream",
     "text": [
      "\u001b[A\n",
      " 66%|██████▌   | 829/1261 [01:59<01:02,  6.91it/s]\u001b[A\n",
      " 66%|██████▌   | 830/1261 [01:59<01:01,  6.95it/s]"
     ]
    },
    {
     "name": "stdout",
     "output_type": "stream",
     "text": [
      "351.0309221297666\n",
      "351.0309221297666\n",
      "352.1813201027521\n",
      "352.1813201027521\n"
     ]
    },
    {
     "name": "stderr",
     "output_type": "stream",
     "text": [
      "\u001b[A\n",
      " 66%|██████▌   | 831/1261 [01:59<01:01,  6.94it/s]\u001b[A\n",
      " 66%|██████▌   | 832/1261 [01:59<01:01,  6.92it/s]"
     ]
    },
    {
     "name": "stdout",
     "output_type": "stream",
     "text": [
      "352.8377401871144\n",
      "352.8377401871144\n",
      "353.54550540731225\n",
      "353.54550540731225\n"
     ]
    },
    {
     "name": "stderr",
     "output_type": "stream",
     "text": [
      "\u001b[A\n",
      " 66%|██████▌   | 833/1261 [02:00<01:01,  6.94it/s]\u001b[A\n",
      " 66%|██████▌   | 834/1261 [02:00<01:01,  6.95it/s]"
     ]
    },
    {
     "name": "stdout",
     "output_type": "stream",
     "text": [
      "354.0361154986731\n",
      "354.0361154986731\n",
      "354.19362821418736\n",
      "354.19362821418736\n"
     ]
    },
    {
     "name": "stderr",
     "output_type": "stream",
     "text": [
      "\u001b[A\n",
      " 66%|██████▌   | 835/1261 [02:00<01:00,  6.98it/s]\u001b[A\n",
      " 66%|██████▋   | 836/1261 [02:00<01:01,  6.93it/s]"
     ]
    },
    {
     "name": "stdout",
     "output_type": "stream",
     "text": [
      "353.5231476015224\n",
      "353.5231476015224\n",
      "352.7598685056796\n",
      "352.7598685056796\n"
     ]
    },
    {
     "name": "stderr",
     "output_type": "stream",
     "text": [
      "\u001b[A\n",
      " 66%|██████▋   | 837/1261 [02:00<01:01,  6.89it/s]\u001b[A\n",
      " 66%|██████▋   | 838/1261 [02:00<01:01,  6.91it/s]"
     ]
    },
    {
     "name": "stdout",
     "output_type": "stream",
     "text": [
      "351.7707846272747\n",
      "351.7707846272747\n",
      "352.08697651974626\n",
      "352.08697651974626\n"
     ]
    },
    {
     "name": "stderr",
     "output_type": "stream",
     "text": [
      "\u001b[A\n",
      " 67%|██████▋   | 839/1261 [02:00<01:00,  6.99it/s]\u001b[A\n",
      " 67%|██████▋   | 840/1261 [02:01<00:59,  7.05it/s]"
     ]
    },
    {
     "name": "stdout",
     "output_type": "stream",
     "text": [
      "351.00046699533004\n",
      "351.00046699533004\n",
      "351.5293036069502\n",
      "351.5293036069502\n"
     ]
    },
    {
     "name": "stderr",
     "output_type": "stream",
     "text": [
      "\u001b[A\n",
      " 67%|██████▋   | 841/1261 [02:01<00:59,  7.11it/s]\u001b[A\n",
      " 67%|██████▋   | 842/1261 [02:01<00:58,  7.14it/s]"
     ]
    },
    {
     "name": "stdout",
     "output_type": "stream",
     "text": [
      "351.7816416557307\n",
      "351.7816416557307\n",
      "352.6664875289348\n",
      "352.6664875289348\n"
     ]
    },
    {
     "name": "stderr",
     "output_type": "stream",
     "text": [
      "\u001b[A\n",
      " 67%|██████▋   | 843/1261 [02:01<00:59,  7.02it/s]\u001b[A\n",
      " 67%|██████▋   | 844/1261 [02:01<01:00,  6.93it/s]"
     ]
    },
    {
     "name": "stdout",
     "output_type": "stream",
     "text": [
      "352.8368299603526\n",
      "352.8368299603526\n",
      "352.67869338548235\n",
      "352.67869338548235\n"
     ]
    },
    {
     "name": "stderr",
     "output_type": "stream",
     "text": [
      "\u001b[A\n",
      " 67%|██████▋   | 845/1261 [02:01<00:59,  6.94it/s]\u001b[A\n",
      " 67%|██████▋   | 846/1261 [02:01<00:59,  6.95it/s]"
     ]
    },
    {
     "name": "stdout",
     "output_type": "stream",
     "text": [
      "352.68088307431026\n",
      "352.68088307431026\n",
      "352.61345547983956\n",
      "352.61345547983956\n"
     ]
    },
    {
     "name": "stderr",
     "output_type": "stream",
     "text": [
      "\u001b[A\n",
      " 67%|██████▋   | 847/1261 [02:02<00:59,  6.94it/s]\u001b[A\n",
      " 67%|██████▋   | 848/1261 [02:02<01:00,  6.78it/s]"
     ]
    },
    {
     "name": "stdout",
     "output_type": "stream",
     "text": [
      "351.73441157799743\n",
      "351.73441157799743\n",
      "350.93382314655264\n",
      "350.93382314655264\n"
     ]
    },
    {
     "name": "stderr",
     "output_type": "stream",
     "text": [
      "\u001b[A\n",
      " 67%|██████▋   | 849/1261 [02:02<01:00,  6.80it/s]\u001b[A\n",
      " 67%|██████▋   | 850/1261 [02:02<00:59,  6.89it/s]"
     ]
    },
    {
     "name": "stdout",
     "output_type": "stream",
     "text": [
      "350.1435044202376\n",
      "350.1435044202376\n",
      "349.9578589548132\n",
      "349.9578589548132\n"
     ]
    },
    {
     "name": "stderr",
     "output_type": "stream",
     "text": [
      "\u001b[A\n",
      " 67%|██████▋   | 851/1261 [02:02<00:59,  6.84it/s]\u001b[A\n",
      " 68%|██████▊   | 852/1261 [02:02<00:59,  6.91it/s]"
     ]
    },
    {
     "name": "stdout",
     "output_type": "stream",
     "text": [
      "350.0887215286216\n",
      "350.0887215286216\n",
      "349.99952171216137\n",
      "349.99952171216137\n"
     ]
    },
    {
     "name": "stderr",
     "output_type": "stream",
     "text": [
      "\u001b[A\n",
      " 68%|██████▊   | 853/1261 [02:02<00:58,  6.98it/s]\u001b[A\n",
      " 68%|██████▊   | 854/1261 [02:03<00:57,  7.11it/s]"
     ]
    },
    {
     "name": "stdout",
     "output_type": "stream",
     "text": [
      "350.90649021158106\n",
      "350.90649021158106\n",
      "351.1159193932699\n",
      "351.1159193932699\n"
     ]
    },
    {
     "name": "stderr",
     "output_type": "stream",
     "text": [
      "\u001b[A\n",
      " 68%|██████▊   | 855/1261 [02:03<00:57,  7.11it/s]\u001b[A\n",
      " 68%|██████▊   | 856/1261 [02:03<00:56,  7.12it/s]"
     ]
    },
    {
     "name": "stdout",
     "output_type": "stream",
     "text": [
      "352.18774964217846\n",
      "352.18774964217846\n",
      "352.1182868274973\n",
      "352.1182868274973\n"
     ]
    },
    {
     "name": "stderr",
     "output_type": "stream",
     "text": [
      "\u001b[A\n",
      " 68%|██████▊   | 857/1261 [02:03<00:56,  7.15it/s]\u001b[A\n",
      " 68%|██████▊   | 858/1261 [02:03<00:55,  7.25it/s]"
     ]
    },
    {
     "name": "stdout",
     "output_type": "stream",
     "text": [
      "352.3764917171129\n",
      "352.3764917171129\n",
      "352.2790803894168\n",
      "352.2790803894168\n"
     ]
    },
    {
     "name": "stderr",
     "output_type": "stream",
     "text": [
      "\u001b[A\n",
      " 68%|██████▊   | 859/1261 [02:03<00:54,  7.34it/s]\u001b[A\n",
      " 68%|██████▊   | 860/1261 [02:03<00:54,  7.38it/s]"
     ]
    },
    {
     "name": "stdout",
     "output_type": "stream",
     "text": [
      "352.9866268026476\n",
      "352.9866268026476\n",
      "352.1736284088229\n",
      "352.1736284088229\n"
     ]
    },
    {
     "name": "stderr",
     "output_type": "stream",
     "text": [
      "\u001b[A\n",
      " 68%|██████▊   | 861/1261 [02:03<00:54,  7.38it/s]\u001b[A\n",
      " 68%|██████▊   | 862/1261 [02:04<00:53,  7.47it/s]"
     ]
    },
    {
     "name": "stdout",
     "output_type": "stream",
     "text": [
      "351.584899891463\n",
      "351.584899891463\n",
      "351.7638029148152\n",
      "351.7638029148152\n"
     ]
    },
    {
     "name": "stderr",
     "output_type": "stream",
     "text": [
      "\u001b[A\n",
      " 68%|██████▊   | 863/1261 [02:04<00:53,  7.46it/s]\u001b[A\n",
      " 69%|██████▊   | 864/1261 [02:04<00:53,  7.46it/s]"
     ]
    },
    {
     "name": "stdout",
     "output_type": "stream",
     "text": [
      "352.276163871642\n",
      "352.276163871642\n",
      "353.2742325488498\n",
      "353.2742325488498\n"
     ]
    },
    {
     "name": "stderr",
     "output_type": "stream",
     "text": [
      "\u001b[A\n",
      " 69%|██████▊   | 865/1261 [02:04<00:53,  7.36it/s]\u001b[A\n",
      " 69%|██████▊   | 866/1261 [02:04<00:53,  7.40it/s]"
     ]
    },
    {
     "name": "stdout",
     "output_type": "stream",
     "text": [
      "353.98648861708125\n",
      "353.98648861708125\n",
      "354.71586413755904\n",
      "354.71586413755904\n"
     ]
    },
    {
     "name": "stderr",
     "output_type": "stream",
     "text": [
      "\u001b[A\n",
      " 69%|██████▉   | 867/1261 [02:04<00:53,  7.43it/s]\u001b[A\n",
      " 69%|██████▉   | 868/1261 [02:04<00:52,  7.46it/s]"
     ]
    },
    {
     "name": "stdout",
     "output_type": "stream",
     "text": [
      "354.6901010903657\n",
      "354.6901010903657\n",
      "354.6303286223879\n",
      "354.6303286223879\n"
     ]
    },
    {
     "name": "stderr",
     "output_type": "stream",
     "text": [
      "\u001b[A\n",
      " 69%|██████▉   | 869/1261 [02:05<00:52,  7.52it/s]\u001b[A\n",
      " 69%|██████▉   | 870/1261 [02:05<00:52,  7.43it/s]"
     ]
    },
    {
     "name": "stdout",
     "output_type": "stream",
     "text": [
      "354.2012828373836\n",
      "354.2012828373836\n",
      "353.6536287015924\n",
      "353.6536287015924\n"
     ]
    },
    {
     "name": "stderr",
     "output_type": "stream",
     "text": [
      "\u001b[A\n",
      " 69%|██████▉   | 871/1261 [02:05<00:52,  7.40it/s]\u001b[A\n",
      " 69%|██████▉   | 872/1261 [02:05<00:52,  7.43it/s]"
     ]
    },
    {
     "name": "stdout",
     "output_type": "stream",
     "text": [
      "352.26356027288466\n",
      "352.26356027288466\n",
      "351.4937809950061\n",
      "351.4937809950061\n"
     ]
    },
    {
     "name": "stderr",
     "output_type": "stream",
     "text": [
      "\u001b[A\n",
      " 69%|██████▉   | 873/1261 [02:05<00:52,  7.45it/s]\u001b[A\n",
      " 69%|██████▉   | 874/1261 [02:05<00:51,  7.54it/s]"
     ]
    },
    {
     "name": "stdout",
     "output_type": "stream",
     "text": [
      "350.7541161278955\n",
      "350.7541161278955\n",
      "350.4374387448902\n",
      "350.4374387448902\n"
     ]
    },
    {
     "name": "stderr",
     "output_type": "stream",
     "text": [
      "\u001b[A\n",
      " 69%|██████▉   | 875/1261 [02:05<00:51,  7.51it/s]\u001b[A\n",
      " 69%|██████▉   | 876/1261 [02:05<00:50,  7.58it/s]"
     ]
    },
    {
     "name": "stdout",
     "output_type": "stream",
     "text": [
      "351.22291953742024\n",
      "351.22291953742024\n",
      "352.9027313003444\n",
      "352.9027313003444\n"
     ]
    },
    {
     "name": "stderr",
     "output_type": "stream",
     "text": [
      "\u001b[A\n",
      " 70%|██████▉   | 877/1261 [02:06<00:50,  7.57it/s]\u001b[A\n",
      " 70%|██████▉   | 878/1261 [02:06<00:51,  7.51it/s]"
     ]
    },
    {
     "name": "stdout",
     "output_type": "stream",
     "text": [
      "353.77194718195824\n",
      "353.77194718195824\n",
      "354.23464529541525\n",
      "354.23464529541525\n"
     ]
    },
    {
     "name": "stderr",
     "output_type": "stream",
     "text": [
      "\u001b[A\n",
      " 70%|██████▉   | 879/1261 [02:06<00:51,  7.43it/s]\u001b[A\n",
      " 70%|██████▉   | 880/1261 [02:06<00:51,  7.41it/s]"
     ]
    },
    {
     "name": "stdout",
     "output_type": "stream",
     "text": [
      "354.335042927858\n",
      "354.335042927858\n",
      "353.87268041612333\n",
      "353.87268041612333\n"
     ]
    },
    {
     "name": "stderr",
     "output_type": "stream",
     "text": [
      "\u001b[A\n",
      " 70%|██████▉   | 881/1261 [02:06<00:51,  7.37it/s]\u001b[A\n",
      " 70%|██████▉   | 882/1261 [02:06<00:52,  7.26it/s]"
     ]
    },
    {
     "name": "stdout",
     "output_type": "stream",
     "text": [
      "353.671638383089\n",
      "353.671638383089\n",
      "352.9567107025582\n",
      "352.9567107025582\n"
     ]
    },
    {
     "name": "stderr",
     "output_type": "stream",
     "text": [
      "\u001b[A\n",
      " 70%|███████   | 883/1261 [02:06<00:52,  7.26it/s]\u001b[A\n",
      " 70%|███████   | 884/1261 [02:07<00:51,  7.32it/s]"
     ]
    },
    {
     "name": "stdout",
     "output_type": "stream",
     "text": [
      "352.0907205574649\n",
      "352.0907205574649\n",
      "351.491853706701\n",
      "351.491853706701\n"
     ]
    },
    {
     "name": "stderr",
     "output_type": "stream",
     "text": [
      "\u001b[A\n",
      " 70%|███████   | 885/1261 [02:07<00:50,  7.43it/s]\u001b[A\n",
      " 70%|███████   | 886/1261 [02:07<00:50,  7.40it/s]"
     ]
    },
    {
     "name": "stdout",
     "output_type": "stream",
     "text": [
      "350.9798728372343\n",
      "350.9798728372343\n",
      "350.7854044575738\n",
      "350.7854044575738\n"
     ]
    },
    {
     "name": "stderr",
     "output_type": "stream",
     "text": [
      "\u001b[A\n",
      " 70%|███████   | 887/1261 [02:07<00:50,  7.41it/s]\u001b[A\n",
      " 70%|███████   | 888/1261 [02:07<00:50,  7.40it/s]"
     ]
    },
    {
     "name": "stdout",
     "output_type": "stream",
     "text": [
      "350.70437320479095\n",
      "350.70437320479095\n",
      "350.85920270832503\n",
      "350.85920270832503\n"
     ]
    },
    {
     "name": "stderr",
     "output_type": "stream",
     "text": [
      "\u001b[A\n",
      " 70%|███████   | 889/1261 [02:07<00:51,  7.29it/s]\u001b[A\n",
      " 71%|███████   | 890/1261 [02:07<00:51,  7.21it/s]"
     ]
    },
    {
     "name": "stdout",
     "output_type": "stream",
     "text": [
      "351.4731668314562\n",
      "351.4731668314562\n",
      "351.9578291732528\n",
      "351.9578291732528\n"
     ]
    },
    {
     "name": "stderr",
     "output_type": "stream",
     "text": [
      "\u001b[A\n",
      " 71%|███████   | 891/1261 [02:08<00:51,  7.15it/s]\u001b[A\n",
      " 71%|███████   | 892/1261 [02:08<00:50,  7.24it/s]"
     ]
    },
    {
     "name": "stdout",
     "output_type": "stream",
     "text": [
      "351.41766789959775\n",
      "351.41766789959775\n",
      "351.67141923683766\n",
      "351.67141923683766\n"
     ]
    },
    {
     "name": "stderr",
     "output_type": "stream",
     "text": [
      "\u001b[A\n",
      " 71%|███████   | 893/1261 [02:08<00:50,  7.29it/s]\u001b[A\n",
      " 71%|███████   | 894/1261 [02:08<00:51,  7.18it/s]"
     ]
    },
    {
     "name": "stdout",
     "output_type": "stream",
     "text": [
      "352.5861559509581\n",
      "352.5861559509581\n",
      "353.6043807445685\n",
      "353.6043807445685\n"
     ]
    },
    {
     "name": "stderr",
     "output_type": "stream",
     "text": [
      "\u001b[A\n",
      " 71%|███████   | 895/1261 [02:08<00:51,  7.17it/s]\u001b[A\n",
      " 71%|███████   | 896/1261 [02:08<00:50,  7.25it/s]"
     ]
    },
    {
     "name": "stdout",
     "output_type": "stream",
     "text": [
      "352.4262740108047\n",
      "352.4262740108047\n",
      "352.25242540285035\n",
      "352.25242540285035\n"
     ]
    },
    {
     "name": "stderr",
     "output_type": "stream",
     "text": [
      "\u001b[A\n",
      " 71%|███████   | 897/1261 [02:08<00:49,  7.34it/s]\u001b[A\n",
      " 71%|███████   | 898/1261 [02:08<00:49,  7.37it/s]"
     ]
    },
    {
     "name": "stdout",
     "output_type": "stream",
     "text": [
      "352.7704020337442\n",
      "352.7704020337442\n",
      "353.56796541851554\n",
      "353.56796541851554\n"
     ]
    },
    {
     "name": "stderr",
     "output_type": "stream",
     "text": [
      "\u001b[A\n",
      " 71%|███████▏  | 899/1261 [02:09<00:49,  7.34it/s]\u001b[A\n",
      " 71%|███████▏  | 900/1261 [02:09<00:48,  7.39it/s]"
     ]
    },
    {
     "name": "stdout",
     "output_type": "stream",
     "text": [
      "354.4544122899888\n",
      "354.4544122899888\n",
      "355.1241082980009\n",
      "355.1241082980009\n"
     ]
    },
    {
     "name": "stderr",
     "output_type": "stream",
     "text": [
      "\u001b[A\n",
      " 71%|███████▏  | 901/1261 [02:09<00:49,  7.31it/s]\u001b[A\n",
      " 72%|███████▏  | 902/1261 [02:09<00:50,  7.06it/s]"
     ]
    },
    {
     "name": "stdout",
     "output_type": "stream",
     "text": [
      "355.32626726056424\n",
      "355.32626726056424\n",
      "355.35548249939075\n",
      "355.35548249939075\n"
     ]
    },
    {
     "name": "stderr",
     "output_type": "stream",
     "text": [
      "\u001b[A\n",
      " 72%|███████▏  | 903/1261 [02:09<00:51,  7.00it/s]\u001b[A\n",
      " 72%|███████▏  | 904/1261 [02:09<00:50,  7.14it/s]"
     ]
    },
    {
     "name": "stdout",
     "output_type": "stream",
     "text": [
      "355.6361072382783\n",
      "355.6361072382783\n",
      "357.72057589608676\n",
      "357.72057589608676\n"
     ]
    },
    {
     "name": "stderr",
     "output_type": "stream",
     "text": [
      "\u001b[A\n",
      " 72%|███████▏  | 905/1261 [02:09<00:49,  7.15it/s]\u001b[A\n",
      " 72%|███████▏  | 906/1261 [02:10<00:50,  7.02it/s]"
     ]
    },
    {
     "name": "stdout",
     "output_type": "stream",
     "text": [
      "357.4301151924601\n",
      "357.4301151924601\n",
      "358.26505472249255\n",
      "358.26505472249255\n"
     ]
    },
    {
     "name": "stderr",
     "output_type": "stream",
     "text": [
      "\u001b[A\n",
      " 72%|███████▏  | 907/1261 [02:10<00:49,  7.10it/s]\u001b[A\n",
      " 72%|███████▏  | 908/1261 [02:10<00:48,  7.20it/s]"
     ]
    },
    {
     "name": "stdout",
     "output_type": "stream",
     "text": [
      "354.77738419751313\n",
      "354.77738419751313\n",
      "353.33812789690137\n",
      "353.33812789690137\n"
     ]
    },
    {
     "name": "stderr",
     "output_type": "stream",
     "text": [
      "\u001b[A\n",
      " 72%|███████▏  | 909/1261 [02:10<00:48,  7.27it/s]\u001b[A\n",
      " 72%|███████▏  | 910/1261 [02:10<00:48,  7.21it/s]"
     ]
    },
    {
     "name": "stdout",
     "output_type": "stream",
     "text": [
      "352.44553529755467\n",
      "352.44553529755467\n",
      "352.23890735490977\n",
      "352.23890735490977\n"
     ]
    },
    {
     "name": "stderr",
     "output_type": "stream",
     "text": [
      "\u001b[A\n",
      " 72%|███████▏  | 911/1261 [02:10<00:49,  7.13it/s]\u001b[A\n",
      " 72%|███████▏  | 912/1261 [02:10<00:48,  7.20it/s]"
     ]
    },
    {
     "name": "stdout",
     "output_type": "stream",
     "text": [
      "352.59429204516346\n",
      "352.59429204516346\n",
      "352.89358800828995\n",
      "352.89358800828995\n"
     ]
    },
    {
     "name": "stderr",
     "output_type": "stream",
     "text": [
      "\u001b[A\n",
      " 72%|███████▏  | 913/1261 [02:11<00:51,  6.80it/s]\u001b[A\n",
      " 72%|███████▏  | 914/1261 [02:11<00:50,  6.87it/s]"
     ]
    },
    {
     "name": "stdout",
     "output_type": "stream",
     "text": [
      "353.3617732676894\n",
      "353.3617732676894\n",
      "353.8665296859631\n",
      "353.8665296859631\n"
     ]
    },
    {
     "name": "stderr",
     "output_type": "stream",
     "text": [
      "\u001b[A\n",
      " 73%|███████▎  | 915/1261 [02:11<00:49,  6.98it/s]\u001b[A\n",
      " 73%|███████▎  | 916/1261 [02:11<00:49,  6.95it/s]"
     ]
    },
    {
     "name": "stdout",
     "output_type": "stream",
     "text": [
      "353.9346893032366\n",
      "353.9346893032366\n",
      "353.74805558358685\n",
      "353.74805558358685\n"
     ]
    },
    {
     "name": "stderr",
     "output_type": "stream",
     "text": [
      "\u001b[A\n",
      " 73%|███████▎  | 917/1261 [02:11<00:48,  7.04it/s]\u001b[A\n",
      " 73%|███████▎  | 918/1261 [02:11<00:48,  7.07it/s]"
     ]
    },
    {
     "name": "stdout",
     "output_type": "stream",
     "text": [
      "353.50294077337185\n",
      "353.50294077337185\n",
      "352.58289501331456\n",
      "352.58289501331456\n"
     ]
    },
    {
     "name": "stderr",
     "output_type": "stream",
     "text": [
      "\u001b[A\n",
      " 73%|███████▎  | 919/1261 [02:11<00:49,  6.93it/s]\u001b[A\n",
      " 73%|███████▎  | 920/1261 [02:12<00:49,  6.90it/s]"
     ]
    },
    {
     "name": "stdout",
     "output_type": "stream",
     "text": [
      "351.9732944138068\n",
      "351.9732944138068\n",
      "351.04218610915177\n",
      "351.04218610915177\n"
     ]
    },
    {
     "name": "stderr",
     "output_type": "stream",
     "text": [
      "\u001b[A\n",
      " 73%|███████▎  | 921/1261 [02:12<00:48,  7.05it/s]\u001b[A\n",
      " 73%|███████▎  | 922/1261 [02:12<00:48,  7.02it/s]"
     ]
    },
    {
     "name": "stdout",
     "output_type": "stream",
     "text": [
      "350.0405812687468\n",
      "350.0405812687468\n",
      "350.14774492888955\n",
      "350.14774492888955\n"
     ]
    },
    {
     "name": "stderr",
     "output_type": "stream",
     "text": [
      "\u001b[A\n",
      " 73%|███████▎  | 923/1261 [02:12<00:49,  6.77it/s]\u001b[A\n",
      " 73%|███████▎  | 924/1261 [02:12<00:51,  6.61it/s]"
     ]
    },
    {
     "name": "stdout",
     "output_type": "stream",
     "text": [
      "350.60223662226235\n",
      "350.60223662226235\n",
      "350.885818928607\n",
      "350.885818928607\n"
     ]
    },
    {
     "name": "stderr",
     "output_type": "stream",
     "text": [
      "\u001b[A\n",
      " 73%|███████▎  | 925/1261 [02:12<00:52,  6.40it/s]\u001b[A\n",
      " 73%|███████▎  | 926/1261 [02:13<00:50,  6.58it/s]"
     ]
    },
    {
     "name": "stdout",
     "output_type": "stream",
     "text": [
      "351.4412278538225\n",
      "351.4412278538225\n",
      "350.48327952080626\n",
      "350.48327952080626\n"
     ]
    },
    {
     "name": "stderr",
     "output_type": "stream",
     "text": [
      "\u001b[A\n",
      " 74%|███████▎  | 927/1261 [02:13<00:49,  6.77it/s]\u001b[A\n",
      " 74%|███████▎  | 928/1261 [02:13<00:49,  6.77it/s]"
     ]
    },
    {
     "name": "stdout",
     "output_type": "stream",
     "text": [
      "351.34882155859395\n",
      "351.34882155859395\n",
      "351.2759857752467\n",
      "351.2759857752467\n"
     ]
    },
    {
     "name": "stderr",
     "output_type": "stream",
     "text": [
      "\u001b[A\n",
      " 74%|███████▎  | 929/1261 [02:13<00:48,  6.88it/s]\u001b[A\n",
      " 74%|███████▍  | 930/1261 [02:13<00:47,  6.92it/s]"
     ]
    },
    {
     "name": "stdout",
     "output_type": "stream",
     "text": [
      "352.3148530802878\n",
      "352.3148530802878\n",
      "350.89966321955353\n",
      "350.89966321955353\n"
     ]
    },
    {
     "name": "stderr",
     "output_type": "stream",
     "text": [
      "\u001b[A\n",
      " 74%|███████▍  | 931/1261 [02:13<00:47,  6.92it/s]\u001b[A\n",
      " 74%|███████▍  | 932/1261 [02:13<00:47,  6.94it/s]"
     ]
    },
    {
     "name": "stdout",
     "output_type": "stream",
     "text": [
      "350.1032779294169\n",
      "350.1032779294169\n",
      "350.1862596768642\n",
      "350.1862596768642\n"
     ]
    },
    {
     "name": "stderr",
     "output_type": "stream",
     "text": [
      "\u001b[A\n",
      " 74%|███████▍  | 933/1261 [02:14<00:47,  6.86it/s]\u001b[A\n",
      " 74%|███████▍  | 934/1261 [02:14<00:47,  6.87it/s]"
     ]
    },
    {
     "name": "stdout",
     "output_type": "stream",
     "text": [
      "350.5011967032856\n",
      "350.5011967032856\n",
      "351.07200515139493\n",
      "351.07200515139493\n"
     ]
    },
    {
     "name": "stderr",
     "output_type": "stream",
     "text": [
      "\u001b[A\n",
      " 74%|███████▍  | 935/1261 [02:14<00:46,  6.94it/s]\u001b[A\n",
      " 74%|███████▍  | 936/1261 [02:14<00:46,  7.00it/s]"
     ]
    },
    {
     "name": "stdout",
     "output_type": "stream",
     "text": [
      "352.04820274683743\n",
      "352.04820274683743\n",
      "353.1851290564987\n",
      "353.1851290564987\n"
     ]
    },
    {
     "name": "stderr",
     "output_type": "stream",
     "text": [
      "\u001b[A\n",
      " 74%|███████▍  | 937/1261 [02:14<00:45,  7.13it/s]\u001b[A\n",
      " 74%|███████▍  | 938/1261 [02:14<00:44,  7.22it/s]"
     ]
    },
    {
     "name": "stdout",
     "output_type": "stream",
     "text": [
      "353.8526964314042\n",
      "353.8526964314042\n",
      "354.006876033729\n",
      "354.006876033729\n"
     ]
    },
    {
     "name": "stderr",
     "output_type": "stream",
     "text": [
      "\u001b[A\n",
      " 74%|███████▍  | 939/1261 [02:14<00:45,  7.13it/s]\u001b[A\n",
      " 75%|███████▍  | 940/1261 [02:15<00:44,  7.21it/s]"
     ]
    },
    {
     "name": "stdout",
     "output_type": "stream",
     "text": [
      "354.19876556539475\n",
      "354.19876556539475\n",
      "353.974795970777\n",
      "353.974795970777\n"
     ]
    },
    {
     "name": "stderr",
     "output_type": "stream",
     "text": [
      "\u001b[A\n",
      " 75%|███████▍  | 941/1261 [02:15<00:43,  7.34it/s]\u001b[A\n",
      " 75%|███████▍  | 942/1261 [02:15<00:42,  7.45it/s]"
     ]
    },
    {
     "name": "stdout",
     "output_type": "stream",
     "text": [
      "354.1141197387615\n",
      "354.1141197387615\n",
      "353.7244331296697\n",
      "353.7244331296697\n"
     ]
    },
    {
     "name": "stderr",
     "output_type": "stream",
     "text": [
      "\u001b[A\n",
      " 75%|███████▍  | 943/1261 [02:15<00:42,  7.47it/s]\u001b[A\n",
      " 75%|███████▍  | 944/1261 [02:15<00:42,  7.54it/s]"
     ]
    },
    {
     "name": "stdout",
     "output_type": "stream",
     "text": [
      "353.2016163322305\n",
      "353.2016163322305\n",
      "352.76369579254106\n",
      "352.76369579254106\n"
     ]
    },
    {
     "name": "stderr",
     "output_type": "stream",
     "text": [
      "\u001b[A\n",
      " 75%|███████▍  | 945/1261 [02:15<00:42,  7.46it/s]\u001b[A\n",
      " 75%|███████▌  | 946/1261 [02:15<00:41,  7.52it/s]"
     ]
    },
    {
     "name": "stdout",
     "output_type": "stream",
     "text": [
      "352.3189228450892\n",
      "352.3189228450892\n",
      "352.36586755260487\n",
      "352.36586755260487\n"
     ]
    },
    {
     "name": "stderr",
     "output_type": "stream",
     "text": [
      "\u001b[A\n",
      " 75%|███████▌  | 947/1261 [02:15<00:42,  7.44it/s]\u001b[A\n",
      " 75%|███████▌  | 948/1261 [02:16<00:44,  7.08it/s]"
     ]
    },
    {
     "name": "stdout",
     "output_type": "stream",
     "text": [
      "351.8109629182154\n",
      "351.8109629182154\n",
      "352.09894157938743\n",
      "352.09894157938743\n"
     ]
    },
    {
     "name": "stderr",
     "output_type": "stream",
     "text": [
      "\u001b[A\n",
      " 75%|███████▌  | 949/1261 [02:16<00:45,  6.81it/s]\u001b[A"
     ]
    },
    {
     "name": "stdout",
     "output_type": "stream",
     "text": [
      "351.1934949558831\n",
      "351.1934949558831\n",
      "351.7778693953087\n",
      "351.7778693953087\n"
     ]
    },
    {
     "name": "stderr",
     "output_type": "stream",
     "text": [
      "\n",
      " 75%|███████▌  | 950/1261 [02:16<00:49,  6.34it/s]\u001b[A\n",
      " 75%|███████▌  | 951/1261 [02:16<00:48,  6.33it/s]\u001b[A\n",
      " 75%|███████▌  | 952/1261 [02:16<00:47,  6.53it/s]"
     ]
    },
    {
     "name": "stdout",
     "output_type": "stream",
     "text": [
      "351.81201356577185\n",
      "351.81201356577185\n",
      "356.44512344990926\n",
      "356.44512344990926\n"
     ]
    },
    {
     "name": "stderr",
     "output_type": "stream",
     "text": [
      "\u001b[A\n",
      " 76%|███████▌  | 953/1261 [02:16<00:45,  6.75it/s]\u001b[A\n",
      " 76%|███████▌  | 954/1261 [02:17<00:45,  6.69it/s]"
     ]
    },
    {
     "name": "stdout",
     "output_type": "stream",
     "text": [
      "354.11479988465044\n",
      "354.11479988465044\n",
      "353.8074300148519\n",
      "353.8074300148519\n"
     ]
    },
    {
     "name": "stderr",
     "output_type": "stream",
     "text": [
      "\u001b[A\n",
      " 76%|███████▌  | 955/1261 [02:17<00:44,  6.83it/s]\u001b[A\n",
      " 76%|███████▌  | 956/1261 [02:17<00:43,  6.95it/s]"
     ]
    },
    {
     "name": "stdout",
     "output_type": "stream",
     "text": [
      "350.015347426729\n",
      "350.015347426729\n",
      "350.1597051734425\n",
      "350.1597051734425\n"
     ]
    },
    {
     "name": "stderr",
     "output_type": "stream",
     "text": [
      "\u001b[A\n",
      " 76%|███████▌  | 957/1261 [02:17<00:43,  6.94it/s]\u001b[A\n",
      " 76%|███████▌  | 958/1261 [02:17<00:45,  6.59it/s]"
     ]
    },
    {
     "name": "stdout",
     "output_type": "stream",
     "text": [
      "350.82512030919725\n",
      "350.82512030919725\n",
      "351.1428650682401\n",
      "351.1428650682401\n"
     ]
    },
    {
     "name": "stderr",
     "output_type": "stream",
     "text": [
      "\u001b[A\n",
      " 76%|███████▌  | 959/1261 [02:17<00:46,  6.44it/s]\u001b[A\n",
      " 76%|███████▌  | 960/1261 [02:17<00:46,  6.43it/s]"
     ]
    },
    {
     "name": "stdout",
     "output_type": "stream",
     "text": [
      "351.5495806779318\n",
      "351.5495806779318\n",
      "351.96829594330075\n",
      "351.96829594330075\n"
     ]
    },
    {
     "name": "stderr",
     "output_type": "stream",
     "text": [
      "\u001b[A\n",
      " 76%|███████▌  | 961/1261 [02:18<00:45,  6.66it/s]\u001b[A\n",
      " 76%|███████▋  | 962/1261 [02:18<00:43,  6.81it/s]"
     ]
    },
    {
     "name": "stdout",
     "output_type": "stream",
     "text": [
      "352.8886393634016\n",
      "352.8886393634016\n",
      "353.5667232078008\n",
      "353.5667232078008\n"
     ]
    },
    {
     "name": "stderr",
     "output_type": "stream",
     "text": [
      "\u001b[A\n",
      " 76%|███████▋  | 963/1261 [02:18<00:43,  6.86it/s]\u001b[A\n",
      " 76%|███████▋  | 964/1261 [02:18<00:42,  6.99it/s]"
     ]
    },
    {
     "name": "stdout",
     "output_type": "stream",
     "text": [
      "354.31607518144165\n",
      "354.31607518144165\n",
      "354.7312239478051\n",
      "354.7312239478051\n"
     ]
    },
    {
     "name": "stderr",
     "output_type": "stream",
     "text": [
      "\u001b[A\n",
      " 77%|███████▋  | 965/1261 [02:18<00:41,  7.07it/s]\u001b[A\n",
      " 77%|███████▋  | 966/1261 [02:18<00:41,  7.05it/s]"
     ]
    },
    {
     "name": "stdout",
     "output_type": "stream",
     "text": [
      "353.2674995898333\n",
      "353.2674995898333\n",
      "352.66463886864176\n",
      "352.66463886864176\n"
     ]
    },
    {
     "name": "stderr",
     "output_type": "stream",
     "text": [
      "\u001b[A\n",
      " 77%|███████▋  | 967/1261 [02:18<00:41,  7.03it/s]\u001b[A\n",
      " 77%|███████▋  | 968/1261 [02:19<00:40,  7.15it/s]"
     ]
    },
    {
     "name": "stdout",
     "output_type": "stream",
     "text": [
      "352.1460295180241\n",
      "352.1460295180241\n",
      "351.8310992945335\n",
      "351.8310992945335\n"
     ]
    },
    {
     "name": "stderr",
     "output_type": "stream",
     "text": [
      "\u001b[A\n",
      " 77%|███████▋  | 969/1261 [02:19<00:40,  7.27it/s]\u001b[A\n",
      " 77%|███████▋  | 970/1261 [02:19<00:41,  7.00it/s]"
     ]
    },
    {
     "name": "stdout",
     "output_type": "stream",
     "text": [
      "351.7383536436546\n",
      "351.7383536436546\n",
      "352.3794091270829\n",
      "352.3794091270829\n"
     ]
    },
    {
     "name": "stderr",
     "output_type": "stream",
     "text": [
      "\u001b[A\n",
      " 77%|███████▋  | 971/1261 [02:19<00:42,  6.82it/s]\u001b[A\n",
      " 77%|███████▋  | 972/1261 [02:19<00:42,  6.85it/s]"
     ]
    },
    {
     "name": "stdout",
     "output_type": "stream",
     "text": [
      "352.6598795954242\n",
      "352.6598795954242\n",
      "352.8965042758273\n",
      "352.8965042758273\n"
     ]
    },
    {
     "name": "stderr",
     "output_type": "stream",
     "text": [
      "\u001b[A\n",
      " 77%|███████▋  | 973/1261 [02:19<00:42,  6.80it/s]\u001b[A\n",
      " 77%|███████▋  | 974/1261 [02:19<00:42,  6.71it/s]"
     ]
    },
    {
     "name": "stdout",
     "output_type": "stream",
     "text": [
      "353.0220096935259\n",
      "353.0220096935259\n",
      "353.5910137732794\n",
      "353.5910137732794\n"
     ]
    },
    {
     "name": "stderr",
     "output_type": "stream",
     "text": [
      "\u001b[A\n",
      " 77%|███████▋  | 975/1261 [02:20<00:42,  6.68it/s]\u001b[A\n",
      " 77%|███████▋  | 976/1261 [02:20<00:43,  6.60it/s]"
     ]
    },
    {
     "name": "stdout",
     "output_type": "stream",
     "text": [
      "353.5997293233204\n",
      "353.5997293233204\n",
      "354.3849360017866\n",
      "354.3849360017866\n"
     ]
    },
    {
     "name": "stderr",
     "output_type": "stream",
     "text": [
      "\u001b[A\n",
      " 77%|███████▋  | 977/1261 [02:20<00:42,  6.65it/s]\u001b[A\n",
      " 78%|███████▊  | 978/1261 [02:20<00:41,  6.81it/s]"
     ]
    },
    {
     "name": "stdout",
     "output_type": "stream",
     "text": [
      "352.9942877561102\n",
      "352.9942877561102\n",
      "352.82712965320206\n",
      "352.82712965320206\n"
     ]
    },
    {
     "name": "stderr",
     "output_type": "stream",
     "text": [
      "\u001b[A\n",
      " 78%|███████▊  | 979/1261 [02:20<00:41,  6.75it/s]\u001b[A\n",
      " 78%|███████▊  | 980/1261 [02:20<00:42,  6.69it/s]"
     ]
    },
    {
     "name": "stdout",
     "output_type": "stream",
     "text": [
      "352.69398547054834\n",
      "352.69398547054834\n",
      "353.1872320380767\n",
      "353.1872320380767\n"
     ]
    },
    {
     "name": "stderr",
     "output_type": "stream",
     "text": [
      "\u001b[A\n",
      " 78%|███████▊  | 981/1261 [02:20<00:41,  6.70it/s]\u001b[A\n",
      " 78%|███████▊  | 982/1261 [02:21<00:41,  6.71it/s]"
     ]
    },
    {
     "name": "stdout",
     "output_type": "stream",
     "text": [
      "353.43551392859763\n",
      "353.43551392859763\n",
      "354.07488363856146\n",
      "354.07488363856146\n"
     ]
    },
    {
     "name": "stderr",
     "output_type": "stream",
     "text": [
      "\u001b[A\n",
      " 78%|███████▊  | 983/1261 [02:21<00:41,  6.74it/s]\u001b[A\n",
      " 78%|███████▊  | 984/1261 [02:21<00:40,  6.77it/s]"
     ]
    },
    {
     "name": "stdout",
     "output_type": "stream",
     "text": [
      "355.4285761154306\n",
      "355.4285761154306\n",
      "357.47309995298883\n",
      "357.47309995298883\n"
     ]
    },
    {
     "name": "stderr",
     "output_type": "stream",
     "text": [
      "\u001b[A\n",
      " 78%|███████▊  | 985/1261 [02:21<00:40,  6.89it/s]\u001b[A\n",
      " 78%|███████▊  | 986/1261 [02:21<00:39,  7.03it/s]"
     ]
    },
    {
     "name": "stdout",
     "output_type": "stream",
     "text": [
      "356.4465254997567\n",
      "356.4465254997567\n",
      "0.6183900425280626\n",
      "0.6183900425280626\n"
     ]
    },
    {
     "name": "stderr",
     "output_type": "stream",
     "text": [
      "\u001b[A\n",
      " 78%|███████▊  | 987/1261 [02:21<00:38,  7.08it/s]\u001b[A\n",
      " 78%|███████▊  | 988/1261 [02:21<00:38,  7.09it/s]"
     ]
    },
    {
     "name": "stdout",
     "output_type": "stream",
     "text": [
      "0.6220891434818441\n",
      "0.6220891434818441\n",
      "0.735126480618419\n",
      "0.735126480618419\n"
     ]
    },
    {
     "name": "stderr",
     "output_type": "stream",
     "text": [
      "\u001b[A\n",
      " 78%|███████▊  | 989/1261 [02:22<00:38,  7.10it/s]\u001b[A\n",
      " 79%|███████▊  | 990/1261 [02:22<00:38,  7.01it/s]"
     ]
    },
    {
     "name": "stdout",
     "output_type": "stream",
     "text": [
      "0.735126480618419\n",
      "0.735126480618419\n",
      "0.735126480618419\n",
      "0.735126480618419\n"
     ]
    },
    {
     "name": "stderr",
     "output_type": "stream",
     "text": [
      "\u001b[A\n",
      " 79%|███████▊  | 991/1261 [02:22<00:38,  6.93it/s]\u001b[A\n",
      " 79%|███████▊  | 992/1261 [02:22<00:39,  6.84it/s]"
     ]
    },
    {
     "name": "stdout",
     "output_type": "stream",
     "text": [
      "0.735126480618419\n",
      "0.735126480618419\n",
      "359.7162871036744\n",
      "359.7162871036744\n"
     ]
    },
    {
     "name": "stderr",
     "output_type": "stream",
     "text": [
      "\u001b[A\n",
      " 79%|███████▊  | 993/1261 [02:22<00:37,  7.14it/s]\u001b[A\n",
      " 79%|███████▉  | 994/1261 [02:22<00:37,  7.07it/s]"
     ]
    },
    {
     "name": "stdout",
     "output_type": "stream",
     "text": [
      "359.2293065620479\n",
      "359.2293065620479\n",
      "356.60544554409034\n",
      "356.60544554409034\n"
     ]
    },
    {
     "name": "stderr",
     "output_type": "stream",
     "text": [
      "\u001b[A\n",
      " 79%|███████▉  | 995/1261 [02:22<00:38,  6.93it/s]\u001b[A\n",
      " 79%|███████▉  | 996/1261 [02:23<00:37,  7.03it/s]"
     ]
    },
    {
     "name": "stdout",
     "output_type": "stream",
     "text": [
      "356.1628785576627\n",
      "356.1628785576627\n",
      "355.41827154154043\n",
      "355.41827154154043\n"
     ]
    },
    {
     "name": "stderr",
     "output_type": "stream",
     "text": [
      "\u001b[A\n",
      " 79%|███████▉  | 997/1261 [02:23<00:37,  7.11it/s]\u001b[A\n",
      " 79%|███████▉  | 998/1261 [02:23<00:36,  7.13it/s]"
     ]
    },
    {
     "name": "stdout",
     "output_type": "stream",
     "text": [
      "357.07793657586944\n",
      "357.07793657586944\n",
      "358.19758628835643\n",
      "358.19758628835643\n"
     ]
    },
    {
     "name": "stderr",
     "output_type": "stream",
     "text": [
      "\u001b[A\n",
      " 79%|███████▉  | 999/1261 [02:23<00:36,  7.20it/s]\u001b[A\n",
      " 79%|███████▉  | 1000/1261 [02:23<00:36,  7.23it/s]"
     ]
    },
    {
     "name": "stdout",
     "output_type": "stream",
     "text": [
      "353.3027862945255\n",
      "353.3027862945255\n",
      "347.2963902789761\n",
      "347.2963902789761\n"
     ]
    },
    {
     "name": "stderr",
     "output_type": "stream",
     "text": [
      "\u001b[A\n",
      " 79%|███████▉  | 1001/1261 [02:23<00:36,  7.15it/s]\u001b[A\n",
      " 79%|███████▉  | 1002/1261 [02:23<00:36,  7.08it/s]"
     ]
    },
    {
     "name": "stdout",
     "output_type": "stream",
     "text": [
      "344.0894003694207\n",
      "344.0894003694207\n",
      "341.2416448156846\n",
      "341.2416448156846\n"
     ]
    },
    {
     "name": "stderr",
     "output_type": "stream",
     "text": [
      "\u001b[A\n",
      " 80%|███████▉  | 1003/1261 [02:24<00:35,  7.19it/s]\u001b[A\n",
      " 80%|███████▉  | 1004/1261 [02:24<00:35,  7.25it/s]"
     ]
    },
    {
     "name": "stdout",
     "output_type": "stream",
     "text": [
      "343.33402966341964\n",
      "343.33402966341964\n",
      "348.6511322329675\n",
      "348.6511322329675\n"
     ]
    },
    {
     "name": "stderr",
     "output_type": "stream",
     "text": [
      "\u001b[A\n",
      " 80%|███████▉  | 1005/1261 [02:24<00:35,  7.29it/s]\u001b[A\n",
      " 80%|███████▉  | 1006/1261 [02:24<00:35,  7.21it/s]"
     ]
    },
    {
     "name": "stdout",
     "output_type": "stream",
     "text": [
      "349.34472730986\n",
      "349.34472730986\n",
      "10.2792009278146\n",
      "10.2792009278146\n"
     ]
    },
    {
     "name": "stderr",
     "output_type": "stream",
     "text": [
      "\u001b[A\n",
      " 80%|███████▉  | 1007/1261 [02:24<00:36,  6.98it/s]\u001b[A\n",
      " 80%|███████▉  | 1008/1261 [02:24<00:36,  6.96it/s]"
     ]
    },
    {
     "name": "stdout",
     "output_type": "stream",
     "text": [
      "10.91995678115336\n",
      "10.91995678115336\n",
      "9.076154700702773\n",
      "9.076154700702773\n"
     ]
    },
    {
     "name": "stderr",
     "output_type": "stream",
     "text": [
      "\u001b[A\n",
      " 80%|████████  | 1009/1261 [02:24<00:36,  6.99it/s]\u001b[A\n",
      " 80%|████████  | 1010/1261 [02:25<00:37,  6.75it/s]"
     ]
    },
    {
     "name": "stdout",
     "output_type": "stream",
     "text": [
      "9.52408625467524\n",
      "9.52408625467524\n",
      "8.878967059944443\n",
      "8.878967059944443\n"
     ]
    },
    {
     "name": "stderr",
     "output_type": "stream",
     "text": [
      "\u001b[A\n",
      " 80%|████████  | 1011/1261 [02:25<00:36,  6.76it/s]\u001b[A\n",
      " 80%|████████  | 1012/1261 [02:25<00:36,  6.88it/s]"
     ]
    },
    {
     "name": "stdout",
     "output_type": "stream",
     "text": [
      "8.732730530774461\n",
      "8.732730530774461\n",
      "5.63993947567451\n",
      "5.63993947567451\n"
     ]
    },
    {
     "name": "stderr",
     "output_type": "stream",
     "text": [
      "\u001b[A\n",
      " 80%|████████  | 1013/1261 [02:25<00:35,  6.93it/s]\u001b[A\n",
      " 80%|████████  | 1014/1261 [02:25<00:35,  6.99it/s]"
     ]
    },
    {
     "name": "stdout",
     "output_type": "stream",
     "text": [
      "4.570637018540765\n",
      "4.570637018540765\n",
      "352.0140956953451\n",
      "352.0140956953451\n"
     ]
    },
    {
     "name": "stderr",
     "output_type": "stream",
     "text": [
      "\u001b[A\n",
      " 80%|████████  | 1015/1261 [02:25<00:34,  7.07it/s]\u001b[A\n",
      " 81%|████████  | 1016/1261 [02:25<00:35,  6.99it/s]"
     ]
    },
    {
     "name": "stdout",
     "output_type": "stream",
     "text": [
      "352.159337225145\n",
      "352.159337225145\n",
      "353.7844778067515\n",
      "353.7844778067515\n"
     ]
    },
    {
     "name": "stderr",
     "output_type": "stream",
     "text": [
      "\u001b[A\n",
      " 81%|████████  | 1017/1261 [02:26<00:35,  6.93it/s]\u001b[A\n",
      " 81%|████████  | 1018/1261 [02:26<00:35,  6.86it/s]"
     ]
    },
    {
     "name": "stdout",
     "output_type": "stream",
     "text": [
      "353.81346660084364\n",
      "353.81346660084364\n",
      "354.41253946091456\n",
      "354.41253946091456\n"
     ]
    },
    {
     "name": "stderr",
     "output_type": "stream",
     "text": [
      "\u001b[A\n",
      " 81%|████████  | 1019/1261 [02:26<00:34,  6.95it/s]\u001b[A\n",
      " 81%|████████  | 1020/1261 [02:26<00:35,  6.83it/s]"
     ]
    },
    {
     "name": "stdout",
     "output_type": "stream",
     "text": [
      "353.4882189203313\n",
      "353.4882189203313\n",
      "353.7497212695848\n",
      "353.7497212695848\n"
     ]
    },
    {
     "name": "stderr",
     "output_type": "stream",
     "text": [
      "\u001b[A\n",
      " 81%|████████  | 1021/1261 [02:26<00:35,  6.74it/s]\u001b[A\n",
      " 81%|████████  | 1022/1261 [02:26<00:35,  6.78it/s]"
     ]
    },
    {
     "name": "stdout",
     "output_type": "stream",
     "text": [
      "353.01744819358055\n",
      "353.01744819358055\n",
      "353.1828791280309\n",
      "353.1828791280309\n"
     ]
    },
    {
     "name": "stderr",
     "output_type": "stream",
     "text": [
      "\u001b[A\n",
      " 81%|████████  | 1023/1261 [02:27<00:34,  6.82it/s]\u001b[A\n",
      " 81%|████████  | 1024/1261 [02:27<00:35,  6.65it/s]"
     ]
    },
    {
     "name": "stdout",
     "output_type": "stream",
     "text": [
      "352.37765902601404\n",
      "352.37765902601404\n",
      "354.23995490268044\n",
      "354.23995490268044\n"
     ]
    },
    {
     "name": "stderr",
     "output_type": "stream",
     "text": [
      "\u001b[A\n",
      " 81%|████████▏ | 1025/1261 [02:27<00:35,  6.59it/s]\u001b[A\n",
      " 81%|████████▏ | 1026/1261 [02:27<00:36,  6.50it/s]"
     ]
    },
    {
     "name": "stdout",
     "output_type": "stream",
     "text": [
      "354.2236156986801\n",
      "354.2236156986801\n",
      "355.65601398394256\n",
      "355.65601398394256\n"
     ]
    },
    {
     "name": "stderr",
     "output_type": "stream",
     "text": [
      "\u001b[A\n",
      " 81%|████████▏ | 1027/1261 [02:27<00:36,  6.48it/s]\u001b[A\n",
      " 82%|████████▏ | 1028/1261 [02:27<00:35,  6.53it/s]"
     ]
    },
    {
     "name": "stdout",
     "output_type": "stream",
     "text": [
      "355.0396215764572\n",
      "355.0396215764572\n",
      "354.8210907956559\n",
      "354.8210907956559\n"
     ]
    },
    {
     "name": "stderr",
     "output_type": "stream",
     "text": [
      "\u001b[A\n",
      " 82%|████████▏ | 1029/1261 [02:27<00:34,  6.74it/s]\u001b[A\n",
      " 82%|████████▏ | 1030/1261 [02:28<00:33,  7.00it/s]"
     ]
    },
    {
     "name": "stdout",
     "output_type": "stream",
     "text": [
      "354.7982180124045\n",
      "354.7982180124045\n",
      "353.4814036087114\n",
      "353.4814036087114\n"
     ]
    },
    {
     "name": "stderr",
     "output_type": "stream",
     "text": [
      "\u001b[A\n",
      " 82%|████████▏ | 1031/1261 [02:28<00:33,  6.91it/s]\u001b[A\n",
      " 82%|████████▏ | 1032/1261 [02:28<00:33,  6.74it/s]"
     ]
    },
    {
     "name": "stdout",
     "output_type": "stream",
     "text": [
      "353.07780382755436\n",
      "353.07780382755436\n",
      "352.75935780095915\n",
      "352.75935780095915\n"
     ]
    },
    {
     "name": "stderr",
     "output_type": "stream",
     "text": [
      "\u001b[A\n",
      " 82%|████████▏ | 1033/1261 [02:28<00:33,  6.77it/s]\u001b[A\n",
      " 82%|████████▏ | 1034/1261 [02:28<00:33,  6.70it/s]"
     ]
    },
    {
     "name": "stdout",
     "output_type": "stream",
     "text": [
      "352.03375529693176\n",
      "352.03375529693176\n",
      "349.6416294856035\n",
      "349.6416294856035\n"
     ]
    },
    {
     "name": "stderr",
     "output_type": "stream",
     "text": [
      "\u001b[A\n",
      " 82%|████████▏ | 1035/1261 [02:28<00:33,  6.71it/s]\u001b[A\n",
      " 82%|████████▏ | 1036/1261 [02:28<00:32,  6.90it/s]"
     ]
    },
    {
     "name": "stdout",
     "output_type": "stream",
     "text": [
      "350.04644076806517\n",
      "350.04644076806517\n",
      "350.2732988154421\n",
      "350.2732988154421\n"
     ]
    },
    {
     "name": "stderr",
     "output_type": "stream",
     "text": [
      "\u001b[A\n",
      " 82%|████████▏ | 1037/1261 [02:29<00:32,  6.89it/s]\u001b[A\n",
      " 82%|████████▏ | 1038/1261 [02:29<00:32,  6.80it/s]"
     ]
    },
    {
     "name": "stdout",
     "output_type": "stream",
     "text": [
      "352.72104369548197\n",
      "352.72104369548197\n",
      "352.64342483926066\n",
      "352.64342483926066\n"
     ]
    },
    {
     "name": "stderr",
     "output_type": "stream",
     "text": [
      "\u001b[A\n",
      " 82%|████████▏ | 1039/1261 [02:29<00:32,  6.92it/s]\u001b[A\n",
      " 82%|████████▏ | 1040/1261 [02:29<00:31,  7.06it/s]"
     ]
    },
    {
     "name": "stdout",
     "output_type": "stream",
     "text": [
      "352.93524901350247\n",
      "352.93524901350247\n",
      "353.91456912639796\n",
      "353.91456912639796\n"
     ]
    },
    {
     "name": "stderr",
     "output_type": "stream",
     "text": [
      "\u001b[A\n",
      " 83%|████████▎ | 1041/1261 [02:29<00:31,  7.02it/s]\u001b[A\n",
      " 83%|████████▎ | 1042/1261 [02:29<00:31,  7.06it/s]"
     ]
    },
    {
     "name": "stdout",
     "output_type": "stream",
     "text": [
      "353.05761047765463\n",
      "353.05761047765463\n",
      "353.5752812122523\n",
      "353.5752812122523\n"
     ]
    },
    {
     "name": "stderr",
     "output_type": "stream",
     "text": [
      "\u001b[A\n",
      " 83%|████████▎ | 1043/1261 [02:29<00:31,  6.97it/s]\u001b[A\n",
      " 83%|████████▎ | 1044/1261 [02:30<00:30,  7.15it/s]"
     ]
    },
    {
     "name": "stdout",
     "output_type": "stream",
     "text": [
      "354.5647557753764\n",
      "354.5647557753764\n",
      "354.99612433983793\n",
      "354.99612433983793\n"
     ]
    },
    {
     "name": "stderr",
     "output_type": "stream",
     "text": [
      "\u001b[A\n",
      " 83%|████████▎ | 1045/1261 [02:30<00:30,  7.03it/s]\u001b[A\n",
      " 83%|████████▎ | 1046/1261 [02:30<00:30,  7.06it/s]"
     ]
    },
    {
     "name": "stdout",
     "output_type": "stream",
     "text": [
      "357.2773284658815\n",
      "357.2773284658815\n",
      "354.8929805362395\n",
      "354.8929805362395\n"
     ]
    },
    {
     "name": "stderr",
     "output_type": "stream",
     "text": [
      "\u001b[A\n",
      " 83%|████████▎ | 1047/1261 [02:30<00:29,  7.13it/s]\u001b[A\n",
      " 83%|████████▎ | 1048/1261 [02:30<00:29,  7.17it/s]"
     ]
    },
    {
     "name": "stdout",
     "output_type": "stream",
     "text": [
      "349.54621969668915\n",
      "349.54621969668915\n",
      "347.3341953939562\n",
      "347.3341953939562\n"
     ]
    },
    {
     "name": "stderr",
     "output_type": "stream",
     "text": [
      "\u001b[A\n",
      " 83%|████████▎ | 1049/1261 [02:30<00:29,  7.10it/s]\u001b[A\n",
      " 83%|████████▎ | 1050/1261 [02:30<00:30,  6.92it/s]"
     ]
    },
    {
     "name": "stdout",
     "output_type": "stream",
     "text": [
      "345.6747596818559\n",
      "345.6747596818559\n",
      "342.85529000321003\n",
      "342.85529000321003\n"
     ]
    },
    {
     "name": "stderr",
     "output_type": "stream",
     "text": [
      "\u001b[A\n",
      " 83%|████████▎ | 1051/1261 [02:31<00:30,  6.87it/s]\u001b[A\n",
      " 83%|████████▎ | 1052/1261 [02:31<00:31,  6.62it/s]"
     ]
    },
    {
     "name": "stdout",
     "output_type": "stream",
     "text": [
      "342.0925307349389\n",
      "342.0925307349389\n",
      "342.0362549096685\n",
      "342.0362549096685\n"
     ]
    },
    {
     "name": "stderr",
     "output_type": "stream",
     "text": [
      "\u001b[A\n",
      " 84%|████████▎ | 1053/1261 [02:31<00:31,  6.65it/s]\u001b[A\n",
      " 84%|████████▎ | 1054/1261 [02:31<00:30,  6.78it/s]"
     ]
    },
    {
     "name": "stdout",
     "output_type": "stream",
     "text": [
      "343.21572959283776\n",
      "343.21572959283776\n",
      "344.6961562034462\n",
      "344.6961562034462\n"
     ]
    },
    {
     "name": "stderr",
     "output_type": "stream",
     "text": [
      "\u001b[A\n",
      " 84%|████████▎ | 1055/1261 [02:31<00:30,  6.66it/s]\u001b[A\n",
      " 84%|████████▎ | 1056/1261 [02:31<00:30,  6.70it/s]"
     ]
    },
    {
     "name": "stdout",
     "output_type": "stream",
     "text": [
      "344.1573826244535\n",
      "344.1573826244535\n",
      "342.3653517462503\n",
      "342.3653517462503\n"
     ]
    },
    {
     "name": "stderr",
     "output_type": "stream",
     "text": [
      "\u001b[A\n",
      " 84%|████████▍ | 1057/1261 [02:31<00:30,  6.79it/s]\u001b[A\n",
      " 84%|████████▍ | 1058/1261 [02:32<00:29,  6.78it/s]"
     ]
    },
    {
     "name": "stdout",
     "output_type": "stream",
     "text": [
      "342.66446651932574\n",
      "342.66446651932574\n",
      "343.7494302787827\n",
      "343.7494302787827\n"
     ]
    },
    {
     "name": "stderr",
     "output_type": "stream",
     "text": [
      "\u001b[A\n",
      " 84%|████████▍ | 1059/1261 [02:32<00:29,  6.86it/s]\u001b[A\n",
      " 84%|████████▍ | 1060/1261 [02:32<00:28,  6.98it/s]"
     ]
    },
    {
     "name": "stdout",
     "output_type": "stream",
     "text": [
      "347.2383432320148\n",
      "347.2383432320148\n",
      "352.32259081198663\n",
      "352.32259081198663\n"
     ]
    },
    {
     "name": "stderr",
     "output_type": "stream",
     "text": [
      "\u001b[A\n",
      " 84%|████████▍ | 1061/1261 [02:32<00:28,  6.96it/s]\u001b[A\n",
      " 84%|████████▍ | 1062/1261 [02:32<00:28,  7.07it/s]"
     ]
    },
    {
     "name": "stdout",
     "output_type": "stream",
     "text": [
      "353.73474386700127\n",
      "353.73474386700127\n",
      "354.3990397734933\n",
      "354.3990397734933\n"
     ]
    },
    {
     "name": "stderr",
     "output_type": "stream",
     "text": [
      "\u001b[A\n",
      " 84%|████████▍ | 1063/1261 [02:32<00:28,  6.98it/s]\u001b[A\n",
      " 84%|████████▍ | 1064/1261 [02:32<00:27,  7.10it/s]"
     ]
    },
    {
     "name": "stdout",
     "output_type": "stream",
     "text": [
      "355.3017864566377\n",
      "355.3017864566377\n",
      "355.71584223445734\n",
      "355.71584223445734\n"
     ]
    },
    {
     "name": "stderr",
     "output_type": "stream",
     "text": [
      "\u001b[A\n",
      " 84%|████████▍ | 1065/1261 [02:33<00:28,  6.98it/s]\u001b[A\n",
      " 85%|████████▍ | 1066/1261 [02:33<00:27,  7.09it/s]"
     ]
    },
    {
     "name": "stdout",
     "output_type": "stream",
     "text": [
      "355.91131870218805\n",
      "355.91131870218805\n",
      "355.2060810090097\n",
      "355.2060810090097\n"
     ]
    },
    {
     "name": "stderr",
     "output_type": "stream",
     "text": [
      "\u001b[A\n",
      " 85%|████████▍ | 1067/1261 [02:33<00:27,  7.14it/s]\u001b[A\n",
      " 85%|████████▍ | 1068/1261 [02:33<00:26,  7.34it/s]"
     ]
    },
    {
     "name": "stdout",
     "output_type": "stream",
     "text": [
      "354.5790940971219\n",
      "354.5790940971219\n",
      "354.34165860042276\n",
      "354.34165860042276\n"
     ]
    },
    {
     "name": "stderr",
     "output_type": "stream",
     "text": [
      "\u001b[A\n",
      " 85%|████████▍ | 1069/1261 [02:33<00:26,  7.28it/s]\u001b[A\n",
      " 85%|████████▍ | 1070/1261 [02:33<00:26,  7.34it/s]"
     ]
    },
    {
     "name": "stdout",
     "output_type": "stream",
     "text": [
      "354.0502859277385\n",
      "354.0502859277385\n",
      "353.9867465892971\n",
      "353.9867465892971\n"
     ]
    },
    {
     "name": "stderr",
     "output_type": "stream",
     "text": [
      "\u001b[A\n",
      " 85%|████████▍ | 1071/1261 [02:33<00:26,  7.28it/s]\u001b[A\n",
      " 85%|████████▌ | 1072/1261 [02:34<00:25,  7.43it/s]"
     ]
    },
    {
     "name": "stdout",
     "output_type": "stream",
     "text": [
      "353.8505014498496\n",
      "353.8505014498496\n",
      "353.9024828385568\n",
      "353.9024828385568\n"
     ]
    },
    {
     "name": "stderr",
     "output_type": "stream",
     "text": [
      "\u001b[A\n",
      " 85%|████████▌ | 1073/1261 [02:34<00:25,  7.25it/s]\u001b[A\n",
      " 85%|████████▌ | 1074/1261 [02:34<00:25,  7.27it/s]"
     ]
    },
    {
     "name": "stdout",
     "output_type": "stream",
     "text": [
      "352.7239765752324\n",
      "352.7239765752324\n",
      "352.6338263353264\n",
      "352.6338263353264\n"
     ]
    },
    {
     "name": "stderr",
     "output_type": "stream",
     "text": [
      "\u001b[A\n",
      " 85%|████████▌ | 1075/1261 [02:34<00:26,  7.07it/s]\u001b[A\n",
      " 85%|████████▌ | 1076/1261 [02:34<00:25,  7.13it/s]"
     ]
    },
    {
     "name": "stdout",
     "output_type": "stream",
     "text": [
      "352.9972523901092\n",
      "352.9972523901092\n",
      "353.3153576667528\n",
      "353.3153576667528\n"
     ]
    },
    {
     "name": "stderr",
     "output_type": "stream",
     "text": [
      "\u001b[A\n",
      " 85%|████████▌ | 1077/1261 [02:34<00:26,  7.05it/s]\u001b[A\n",
      " 85%|████████▌ | 1078/1261 [02:34<00:25,  7.24it/s]"
     ]
    },
    {
     "name": "stdout",
     "output_type": "stream",
     "text": [
      "353.9175536966218\n",
      "353.9175536966218\n",
      "354.6353261768463\n",
      "354.6353261768463\n"
     ]
    },
    {
     "name": "stderr",
     "output_type": "stream",
     "text": [
      "\u001b[A\n",
      " 86%|████████▌ | 1079/1261 [02:35<00:25,  7.24it/s]\u001b[A\n",
      " 86%|████████▌ | 1080/1261 [02:35<00:24,  7.28it/s]"
     ]
    },
    {
     "name": "stdout",
     "output_type": "stream",
     "text": [
      "355.20073557820706\n",
      "355.20073557820706\n",
      "355.38436519605966\n",
      "355.38436519605966\n"
     ]
    },
    {
     "name": "stderr",
     "output_type": "stream",
     "text": [
      "\u001b[A\n",
      " 86%|████████▌ | 1081/1261 [02:35<00:25,  7.19it/s]\u001b[A\n",
      " 86%|████████▌ | 1082/1261 [02:35<00:24,  7.26it/s]"
     ]
    },
    {
     "name": "stdout",
     "output_type": "stream",
     "text": [
      "355.45018268066497\n",
      "355.45018268066497\n",
      "355.2830714055485\n",
      "355.2830714055485\n"
     ]
    },
    {
     "name": "stderr",
     "output_type": "stream",
     "text": [
      "\u001b[A\n",
      " 86%|████████▌ | 1083/1261 [02:35<00:24,  7.15it/s]\u001b[A\n",
      " 86%|████████▌ | 1084/1261 [02:35<00:25,  7.03it/s]"
     ]
    },
    {
     "name": "stdout",
     "output_type": "stream",
     "text": [
      "355.1662024843695\n",
      "355.1662024843695\n",
      "353.88190164810976\n",
      "353.88190164810976\n"
     ]
    },
    {
     "name": "stderr",
     "output_type": "stream",
     "text": [
      "\u001b[A\n",
      " 86%|████████▌ | 1085/1261 [02:35<00:25,  6.84it/s]\u001b[A\n",
      " 86%|████████▌ | 1086/1261 [02:36<00:25,  6.87it/s]"
     ]
    },
    {
     "name": "stdout",
     "output_type": "stream",
     "text": [
      "353.22407784896086\n",
      "353.22407784896086\n",
      "352.6198147206701\n",
      "352.6198147206701\n"
     ]
    },
    {
     "name": "stderr",
     "output_type": "stream",
     "text": [
      "\u001b[A\n",
      " 86%|████████▌ | 1087/1261 [02:36<00:25,  6.84it/s]\u001b[A\n",
      " 86%|████████▋ | 1088/1261 [02:36<00:26,  6.60it/s]"
     ]
    },
    {
     "name": "stdout",
     "output_type": "stream",
     "text": [
      "352.38086675479735\n",
      "352.38086675479735\n",
      "351.9000920860776\n",
      "351.9000920860776\n"
     ]
    },
    {
     "name": "stderr",
     "output_type": "stream",
     "text": [
      "\u001b[A\n",
      " 86%|████████▋ | 1089/1261 [02:36<00:26,  6.50it/s]\u001b[A\n",
      " 86%|████████▋ | 1090/1261 [02:36<00:26,  6.51it/s]"
     ]
    },
    {
     "name": "stdout",
     "output_type": "stream",
     "text": [
      "351.41884974043296\n",
      "351.41884974043296\n",
      "352.04560061595157\n",
      "352.04560061595157\n"
     ]
    },
    {
     "name": "stderr",
     "output_type": "stream",
     "text": [
      "\u001b[A\n",
      " 87%|████████▋ | 1091/1261 [02:36<00:26,  6.46it/s]\u001b[A\n",
      " 87%|████████▋ | 1092/1261 [02:36<00:24,  6.76it/s]"
     ]
    },
    {
     "name": "stdout",
     "output_type": "stream",
     "text": [
      "353.20802335145163\n",
      "353.20802335145163\n",
      "353.53444719058916\n",
      "353.53444719058916\n"
     ]
    },
    {
     "name": "stderr",
     "output_type": "stream",
     "text": [
      "\u001b[A\n",
      " 87%|████████▋ | 1093/1261 [02:37<00:24,  6.86it/s]\u001b[A\n",
      " 87%|████████▋ | 1094/1261 [02:37<00:23,  7.02it/s]"
     ]
    },
    {
     "name": "stdout",
     "output_type": "stream",
     "text": [
      "353.65434699122034\n",
      "353.65434699122034\n",
      "354.39832222254745\n",
      "354.39832222254745\n"
     ]
    },
    {
     "name": "stderr",
     "output_type": "stream",
     "text": [
      "\u001b[A\n",
      " 87%|████████▋ | 1095/1261 [02:37<00:23,  6.96it/s]\u001b[A\n",
      " 87%|████████▋ | 1096/1261 [02:37<00:23,  7.11it/s]"
     ]
    },
    {
     "name": "stdout",
     "output_type": "stream",
     "text": [
      "353.7848170379207\n",
      "353.7848170379207\n",
      "352.75773994806104\n",
      "352.75773994806104\n"
     ]
    },
    {
     "name": "stderr",
     "output_type": "stream",
     "text": [
      "\u001b[A\n",
      " 87%|████████▋ | 1097/1261 [02:37<00:23,  7.06it/s]\u001b[A\n",
      " 87%|████████▋ | 1098/1261 [02:37<00:22,  7.20it/s]"
     ]
    },
    {
     "name": "stdout",
     "output_type": "stream",
     "text": [
      "352.1108606474122\n",
      "352.1108606474122\n",
      "351.93263464228994\n",
      "351.93263464228994\n"
     ]
    },
    {
     "name": "stderr",
     "output_type": "stream",
     "text": [
      "\u001b[A\n",
      " 87%|████████▋ | 1099/1261 [02:37<00:22,  7.15it/s]\u001b[A\n",
      " 87%|████████▋ | 1100/1261 [02:38<00:22,  7.07it/s]"
     ]
    },
    {
     "name": "stdout",
     "output_type": "stream",
     "text": [
      "351.72483536867867\n",
      "351.72483536867867\n",
      "351.7799918288083\n",
      "351.7799918288083\n"
     ]
    },
    {
     "name": "stderr",
     "output_type": "stream",
     "text": [
      "\u001b[A\n",
      " 87%|████████▋ | 1101/1261 [02:38<00:22,  7.12it/s]\u001b[A\n",
      " 87%|████████▋ | 1102/1261 [02:38<00:22,  7.22it/s]"
     ]
    },
    {
     "name": "stdout",
     "output_type": "stream",
     "text": [
      "351.444096347132\n",
      "351.444096347132\n",
      "352.19994925446554\n",
      "352.19994925446554\n"
     ]
    },
    {
     "name": "stderr",
     "output_type": "stream",
     "text": [
      "\u001b[A\n",
      " 87%|████████▋ | 1103/1261 [02:38<00:21,  7.26it/s]\u001b[A\n",
      " 88%|████████▊ | 1104/1261 [02:38<00:22,  7.12it/s]"
     ]
    },
    {
     "name": "stdout",
     "output_type": "stream",
     "text": [
      "352.4189943403767\n",
      "352.4189943403767\n",
      "353.2546147936414\n",
      "353.2546147936414\n"
     ]
    },
    {
     "name": "stderr",
     "output_type": "stream",
     "text": [
      "\u001b[A\n",
      " 88%|████████▊ | 1105/1261 [02:38<00:22,  7.08it/s]\u001b[A\n",
      " 88%|████████▊ | 1106/1261 [02:38<00:21,  7.08it/s]"
     ]
    },
    {
     "name": "stdout",
     "output_type": "stream",
     "text": [
      "354.04928403611166\n",
      "354.04928403611166\n",
      "355.27687398210264\n",
      "355.27687398210264\n"
     ]
    },
    {
     "name": "stderr",
     "output_type": "stream",
     "text": [
      "\u001b[A\n",
      " 88%|████████▊ | 1107/1261 [02:39<00:22,  7.00it/s]\u001b[A\n",
      " 88%|████████▊ | 1108/1261 [02:39<00:21,  7.16it/s]"
     ]
    },
    {
     "name": "stdout",
     "output_type": "stream",
     "text": [
      "355.3863914482281\n",
      "355.3863914482281\n",
      "355.7101805692928\n",
      "355.7101805692928\n"
     ]
    },
    {
     "name": "stderr",
     "output_type": "stream",
     "text": [
      "\u001b[A\n",
      " 88%|████████▊ | 1109/1261 [02:39<00:21,  7.16it/s]\u001b[A\n",
      " 88%|████████▊ | 1110/1261 [02:39<00:21,  7.12it/s]"
     ]
    },
    {
     "name": "stdout",
     "output_type": "stream",
     "text": [
      "355.96089780248803\n",
      "355.96089780248803\n",
      "356.3481928676297\n",
      "356.3481928676297\n"
     ]
    },
    {
     "name": "stderr",
     "output_type": "stream",
     "text": [
      "\u001b[A\n",
      " 88%|████████▊ | 1111/1261 [02:39<00:20,  7.14it/s]\u001b[A\n",
      " 88%|████████▊ | 1112/1261 [02:39<00:20,  7.35it/s]"
     ]
    },
    {
     "name": "stdout",
     "output_type": "stream",
     "text": [
      "356.04420783768137\n",
      "356.04420783768137\n",
      "355.61319821234065\n",
      "355.61319821234065\n"
     ]
    },
    {
     "name": "stderr",
     "output_type": "stream",
     "text": [
      "\u001b[A\n",
      " 88%|████████▊ | 1113/1261 [02:39<00:20,  7.25it/s]\u001b[A\n",
      " 88%|████████▊ | 1114/1261 [02:40<00:19,  7.39it/s]"
     ]
    },
    {
     "name": "stdout",
     "output_type": "stream",
     "text": [
      "355.7367500774676\n",
      "355.7367500774676\n",
      "355.5980159435944\n",
      "355.5980159435944\n"
     ]
    },
    {
     "name": "stderr",
     "output_type": "stream",
     "text": [
      "\u001b[A\n",
      " 88%|████████▊ | 1115/1261 [02:40<00:20,  7.25it/s]\u001b[A\n",
      " 89%|████████▊ | 1116/1261 [02:40<00:20,  7.22it/s]"
     ]
    },
    {
     "name": "stdout",
     "output_type": "stream",
     "text": [
      "354.35581644606145\n",
      "354.35581644606145\n",
      "353.6092670434591\n",
      "353.6092670434591\n"
     ]
    },
    {
     "name": "stderr",
     "output_type": "stream",
     "text": [
      "\u001b[A\n",
      " 89%|████████▊ | 1117/1261 [02:40<00:20,  6.93it/s]\u001b[A\n",
      " 89%|████████▊ | 1118/1261 [02:40<00:20,  6.86it/s]"
     ]
    },
    {
     "name": "stdout",
     "output_type": "stream",
     "text": [
      "352.8703075744984\n",
      "352.8703075744984\n",
      "352.58425418951265\n",
      "352.58425418951265\n"
     ]
    },
    {
     "name": "stderr",
     "output_type": "stream",
     "text": [
      "\u001b[A\n",
      " 89%|████████▊ | 1119/1261 [02:40<00:20,  6.87it/s]\u001b[A\n",
      " 89%|████████▉ | 1120/1261 [02:40<00:20,  6.94it/s]"
     ]
    },
    {
     "name": "stdout",
     "output_type": "stream",
     "text": [
      "351.3914319729015\n",
      "351.3914319729015\n",
      "350.9042159474657\n",
      "350.9042159474657\n"
     ]
    },
    {
     "name": "stderr",
     "output_type": "stream",
     "text": [
      "\u001b[A\n",
      " 89%|████████▉ | 1121/1261 [02:41<00:20,  6.85it/s]\u001b[A\n",
      " 89%|████████▉ | 1122/1261 [02:41<00:20,  6.82it/s]"
     ]
    },
    {
     "name": "stdout",
     "output_type": "stream",
     "text": [
      "350.6976484903703\n",
      "350.6976484903703\n",
      "351.9411671505404\n",
      "351.9411671505404\n"
     ]
    },
    {
     "name": "stderr",
     "output_type": "stream",
     "text": [
      "\u001b[A\n",
      " 89%|████████▉ | 1123/1261 [02:41<00:20,  6.76it/s]\u001b[A\n",
      " 89%|████████▉ | 1124/1261 [02:41<00:19,  6.91it/s]"
     ]
    },
    {
     "name": "stdout",
     "output_type": "stream",
     "text": [
      "353.0277968523178\n",
      "353.0277968523178\n",
      "354.07997648516675\n",
      "354.07997648516675\n"
     ]
    },
    {
     "name": "stderr",
     "output_type": "stream",
     "text": [
      "\u001b[A\n",
      " 89%|████████▉ | 1125/1261 [02:41<00:19,  6.87it/s]\u001b[A\n",
      " 89%|████████▉ | 1126/1261 [02:41<00:19,  6.85it/s]"
     ]
    },
    {
     "name": "stdout",
     "output_type": "stream",
     "text": [
      "354.7822641276539\n",
      "354.7822641276539\n",
      "355.5262591546175\n",
      "355.5262591546175\n"
     ]
    },
    {
     "name": "stderr",
     "output_type": "stream",
     "text": [
      "\u001b[A\n",
      " 89%|████████▉ | 1127/1261 [02:41<00:19,  6.92it/s]\u001b[A\n",
      " 89%|████████▉ | 1128/1261 [02:42<00:18,  7.15it/s]"
     ]
    },
    {
     "name": "stdout",
     "output_type": "stream",
     "text": [
      "356.0346112092434\n",
      "356.0346112092434\n",
      "356.0258654509785\n",
      "356.0258654509785\n"
     ]
    },
    {
     "name": "stderr",
     "output_type": "stream",
     "text": [
      "\u001b[A\n",
      " 90%|████████▉ | 1129/1261 [02:42<00:18,  7.29it/s]\u001b[A\n",
      " 90%|████████▉ | 1130/1261 [02:42<00:17,  7.38it/s]"
     ]
    },
    {
     "name": "stdout",
     "output_type": "stream",
     "text": [
      "356.01830898867956\n",
      "356.01830898867956\n",
      "355.3335093459923\n",
      "355.3335093459923\n"
     ]
    },
    {
     "name": "stderr",
     "output_type": "stream",
     "text": [
      "\u001b[A\n",
      " 90%|████████▉ | 1131/1261 [02:42<00:17,  7.39it/s]\u001b[A\n",
      " 90%|████████▉ | 1132/1261 [02:42<00:17,  7.34it/s]"
     ]
    },
    {
     "name": "stdout",
     "output_type": "stream",
     "text": [
      "354.9248715176823\n",
      "354.9248715176823\n",
      "353.44357163476525\n",
      "353.44357163476525\n"
     ]
    },
    {
     "name": "stderr",
     "output_type": "stream",
     "text": [
      "\u001b[A\n",
      " 90%|████████▉ | 1133/1261 [02:42<00:17,  7.29it/s]\u001b[A\n",
      " 90%|████████▉ | 1134/1261 [02:42<00:17,  7.36it/s]"
     ]
    },
    {
     "name": "stdout",
     "output_type": "stream",
     "text": [
      "353.38016552085446\n",
      "353.38016552085446\n",
      "352.3667462202775\n",
      "352.3667462202775\n"
     ]
    },
    {
     "name": "stderr",
     "output_type": "stream",
     "text": [
      "\u001b[A\n",
      " 90%|█████████ | 1135/1261 [02:42<00:17,  7.34it/s]\u001b[A\n",
      " 90%|█████████ | 1136/1261 [02:43<00:16,  7.38it/s]"
     ]
    },
    {
     "name": "stdout",
     "output_type": "stream",
     "text": [
      "351.8298226677666\n",
      "351.8298226677666\n",
      "351.02461662947235\n",
      "351.02461662947235\n"
     ]
    },
    {
     "name": "stderr",
     "output_type": "stream",
     "text": [
      "\u001b[A\n",
      " 90%|█████████ | 1137/1261 [02:43<00:16,  7.44it/s]\u001b[A\n",
      " 90%|█████████ | 1138/1261 [02:43<00:16,  7.54it/s]"
     ]
    },
    {
     "name": "stdout",
     "output_type": "stream",
     "text": [
      "351.8925875168702\n",
      "351.8925875168702\n",
      "350.9579666063987\n",
      "350.9579666063987\n"
     ]
    },
    {
     "name": "stderr",
     "output_type": "stream",
     "text": [
      "\u001b[A\n",
      " 90%|█████████ | 1139/1261 [02:43<00:16,  7.52it/s]\u001b[A\n",
      " 90%|█████████ | 1140/1261 [02:43<00:16,  7.40it/s]"
     ]
    },
    {
     "name": "stdout",
     "output_type": "stream",
     "text": [
      "350.4369244779332\n",
      "350.4369244779332\n",
      "351.25499267992063\n",
      "351.25499267992063\n"
     ]
    },
    {
     "name": "stderr",
     "output_type": "stream",
     "text": [
      "\u001b[A\n",
      " 90%|█████████ | 1141/1261 [02:43<00:16,  7.24it/s]\u001b[A\n",
      " 91%|█████████ | 1142/1261 [02:43<00:16,  7.35it/s]"
     ]
    },
    {
     "name": "stdout",
     "output_type": "stream",
     "text": [
      "351.74491324514156\n",
      "351.74491324514156\n",
      "351.0715705417674\n",
      "351.0715705417674\n"
     ]
    },
    {
     "name": "stderr",
     "output_type": "stream",
     "text": [
      "\u001b[A\n",
      " 91%|█████████ | 1143/1261 [02:44<00:16,  7.36it/s]\u001b[A\n",
      " 91%|█████████ | 1144/1261 [02:44<00:15,  7.38it/s]"
     ]
    },
    {
     "name": "stdout",
     "output_type": "stream",
     "text": [
      "351.6878259414816\n",
      "351.6878259414816\n",
      "352.7245800207115\n",
      "352.7245800207115\n"
     ]
    },
    {
     "name": "stderr",
     "output_type": "stream",
     "text": [
      "\u001b[A\n",
      " 91%|█████████ | 1145/1261 [02:44<00:15,  7.28it/s]\u001b[A\n",
      " 91%|█████████ | 1146/1261 [02:44<00:15,  7.25it/s]"
     ]
    },
    {
     "name": "stdout",
     "output_type": "stream",
     "text": [
      "353.65087319941404\n",
      "353.65087319941404\n",
      "354.2492134236991\n",
      "354.2492134236991\n"
     ]
    },
    {
     "name": "stderr",
     "output_type": "stream",
     "text": [
      "\u001b[A\n",
      " 91%|█████████ | 1147/1261 [02:44<00:15,  7.15it/s]\u001b[A\n",
      " 91%|█████████ | 1148/1261 [02:44<00:16,  7.06it/s]"
     ]
    },
    {
     "name": "stdout",
     "output_type": "stream",
     "text": [
      "354.93419707287467\n",
      "354.93419707287467\n",
      "355.1369796585477\n",
      "355.1369796585477\n"
     ]
    },
    {
     "name": "stderr",
     "output_type": "stream",
     "text": [
      "\u001b[A\n",
      " 91%|█████████ | 1149/1261 [02:44<00:16,  6.95it/s]\u001b[A\n",
      " 91%|█████████ | 1150/1261 [02:45<00:15,  6.99it/s]"
     ]
    },
    {
     "name": "stdout",
     "output_type": "stream",
     "text": [
      "355.1057359952165\n",
      "355.1057359952165\n",
      "354.81429745627247\n",
      "354.81429745627247\n"
     ]
    },
    {
     "name": "stderr",
     "output_type": "stream",
     "text": [
      "\u001b[A\n",
      " 91%|█████████▏| 1151/1261 [02:45<00:15,  7.00it/s]\u001b[A\n",
      " 91%|█████████▏| 1152/1261 [02:45<00:15,  6.95it/s]"
     ]
    },
    {
     "name": "stdout",
     "output_type": "stream",
     "text": [
      "354.709189737564\n",
      "354.709189737564\n",
      "354.37090114956254\n",
      "354.37090114956254\n"
     ]
    },
    {
     "name": "stderr",
     "output_type": "stream",
     "text": [
      "\u001b[A\n",
      " 91%|█████████▏| 1153/1261 [02:45<00:15,  6.81it/s]\u001b[A\n",
      " 92%|█████████▏| 1154/1261 [02:45<00:15,  6.75it/s]"
     ]
    },
    {
     "name": "stdout",
     "output_type": "stream",
     "text": [
      "353.60401386179365\n",
      "353.60401386179365\n",
      "353.64553261346964\n",
      "353.64553261346964\n"
     ]
    },
    {
     "name": "stderr",
     "output_type": "stream",
     "text": [
      "\u001b[A\n",
      " 92%|█████████▏| 1155/1261 [02:45<00:15,  6.96it/s]\u001b[A\n",
      " 92%|█████████▏| 1156/1261 [02:45<00:14,  7.03it/s]"
     ]
    },
    {
     "name": "stdout",
     "output_type": "stream",
     "text": [
      "353.7684193031437\n",
      "353.7684193031437\n",
      "353.63058605154083\n",
      "353.63058605154083\n"
     ]
    },
    {
     "name": "stderr",
     "output_type": "stream",
     "text": [
      "\u001b[A\n",
      " 92%|█████████▏| 1157/1261 [02:46<00:15,  6.71it/s]\u001b[A\n",
      " 92%|█████████▏| 1158/1261 [02:46<00:15,  6.63it/s]"
     ]
    },
    {
     "name": "stdout",
     "output_type": "stream",
     "text": [
      "353.32985323837147\n",
      "353.32985323837147\n",
      "352.4098693408687\n",
      "352.4098693408687\n"
     ]
    },
    {
     "name": "stderr",
     "output_type": "stream",
     "text": [
      "\u001b[A\n",
      " 92%|█████████▏| 1159/1261 [02:46<00:15,  6.75it/s]\u001b[A\n",
      " 92%|█████████▏| 1160/1261 [02:46<00:14,  6.75it/s]"
     ]
    },
    {
     "name": "stdout",
     "output_type": "stream",
     "text": [
      "352.19054538175124\n",
      "352.19054538175124\n",
      "352.70320771538536\n",
      "352.70320771538536\n"
     ]
    },
    {
     "name": "stderr",
     "output_type": "stream",
     "text": [
      "\u001b[A\n",
      " 92%|█████████▏| 1161/1261 [02:46<00:14,  6.85it/s]\u001b[A\n",
      " 92%|█████████▏| 1162/1261 [02:46<00:14,  6.88it/s]"
     ]
    },
    {
     "name": "stdout",
     "output_type": "stream",
     "text": [
      "352.29971672724787\n",
      "352.29971672724787\n",
      "353.1224891996503\n",
      "353.1224891996503\n"
     ]
    },
    {
     "name": "stderr",
     "output_type": "stream",
     "text": [
      "\u001b[A\n",
      " 92%|█████████▏| 1163/1261 [02:46<00:14,  6.83it/s]\u001b[A\n",
      " 92%|█████████▏| 1164/1261 [02:47<00:14,  6.86it/s]"
     ]
    },
    {
     "name": "stdout",
     "output_type": "stream",
     "text": [
      "353.2880625424159\n",
      "353.2880625424159\n",
      "353.59341069813127\n",
      "353.59341069813127\n"
     ]
    },
    {
     "name": "stderr",
     "output_type": "stream",
     "text": [
      "\u001b[A\n",
      " 92%|█████████▏| 1165/1261 [02:47<00:14,  6.80it/s]\u001b[A\n",
      " 92%|█████████▏| 1166/1261 [02:47<00:14,  6.73it/s]"
     ]
    },
    {
     "name": "stdout",
     "output_type": "stream",
     "text": [
      "353.2335624028433\n",
      "353.2335624028433\n",
      "352.57963035186367\n",
      "352.57963035186367\n"
     ]
    },
    {
     "name": "stderr",
     "output_type": "stream",
     "text": [
      "\u001b[A\n",
      " 93%|█████████▎| 1167/1261 [02:47<00:14,  6.52it/s]\u001b[A\n",
      " 93%|█████████▎| 1168/1261 [02:47<00:14,  6.57it/s]"
     ]
    },
    {
     "name": "stdout",
     "output_type": "stream",
     "text": [
      "352.20983849834374\n",
      "352.20983849834374\n",
      "351.32597030081797\n",
      "351.32597030081797\n"
     ]
    },
    {
     "name": "stderr",
     "output_type": "stream",
     "text": [
      "\u001b[A\n",
      " 93%|█████████▎| 1169/1261 [02:47<00:13,  6.62it/s]\u001b[A\n",
      " 93%|█████████▎| 1170/1261 [02:48<00:13,  6.80it/s]"
     ]
    },
    {
     "name": "stdout",
     "output_type": "stream",
     "text": [
      "350.47666661656194\n",
      "350.47666661656194\n",
      "350.2492891730335\n",
      "350.2492891730335\n"
     ]
    },
    {
     "name": "stderr",
     "output_type": "stream",
     "text": [
      "\u001b[A\n",
      " 93%|█████████▎| 1171/1261 [02:48<00:13,  6.77it/s]\u001b[A\n",
      " 93%|█████████▎| 1172/1261 [02:48<00:13,  6.72it/s]"
     ]
    },
    {
     "name": "stdout",
     "output_type": "stream",
     "text": [
      "350.6862534038023\n",
      "350.6862534038023\n",
      "349.9828682835132\n",
      "349.9828682835132\n"
     ]
    },
    {
     "name": "stderr",
     "output_type": "stream",
     "text": [
      "\u001b[A\n",
      " 93%|█████████▎| 1173/1261 [02:48<00:13,  6.73it/s]\u001b[A\n",
      " 93%|█████████▎| 1174/1261 [02:48<00:12,  6.81it/s]"
     ]
    },
    {
     "name": "stdout",
     "output_type": "stream",
     "text": [
      "349.8801516335825\n",
      "349.8801516335825\n",
      "349.73254046011107\n",
      "349.73254046011107\n"
     ]
    },
    {
     "name": "stderr",
     "output_type": "stream",
     "text": [
      "\u001b[A\n",
      " 93%|█████████▎| 1175/1261 [02:48<00:12,  6.74it/s]\u001b[A\n",
      " 93%|█████████▎| 1176/1261 [02:48<00:12,  6.70it/s]"
     ]
    },
    {
     "name": "stdout",
     "output_type": "stream",
     "text": [
      "350.18990877789975\n",
      "350.18990877789975\n",
      "350.1778542703905\n",
      "350.1778542703905\n"
     ]
    },
    {
     "name": "stderr",
     "output_type": "stream",
     "text": [
      "\u001b[A\n",
      " 93%|█████████▎| 1177/1261 [02:49<00:12,  6.58it/s]\u001b[A\n",
      " 93%|█████████▎| 1178/1261 [02:49<00:12,  6.43it/s]"
     ]
    },
    {
     "name": "stdout",
     "output_type": "stream",
     "text": [
      "351.0733086667883\n",
      "351.0733086667883\n",
      "351.96785125258884\n",
      "351.96785125258884\n"
     ]
    },
    {
     "name": "stderr",
     "output_type": "stream",
     "text": [
      "\u001b[A\n",
      " 93%|█████████▎| 1179/1261 [02:49<00:12,  6.40it/s]\u001b[A\n",
      " 94%|█████████▎| 1180/1261 [02:49<00:12,  6.43it/s]"
     ]
    },
    {
     "name": "stdout",
     "output_type": "stream",
     "text": [
      "353.1479344354175\n",
      "353.1479344354175\n",
      "353.5012810809926\n",
      "353.5012810809926\n"
     ]
    },
    {
     "name": "stderr",
     "output_type": "stream",
     "text": [
      "\u001b[A\n",
      " 94%|█████████▎| 1181/1261 [02:49<00:12,  6.29it/s]\u001b[A\n",
      " 94%|█████████▎| 1182/1261 [02:49<00:12,  6.39it/s]"
     ]
    },
    {
     "name": "stdout",
     "output_type": "stream",
     "text": [
      "354.0258561693345\n",
      "354.0258561693345\n",
      "354.4352882140088\n",
      "354.4352882140088\n"
     ]
    },
    {
     "name": "stderr",
     "output_type": "stream",
     "text": [
      "\u001b[A\n",
      " 94%|█████████▍| 1183/1261 [02:50<00:12,  6.30it/s]\u001b[A\n",
      " 94%|█████████▍| 1184/1261 [02:50<00:12,  6.37it/s]"
     ]
    },
    {
     "name": "stdout",
     "output_type": "stream",
     "text": [
      "354.68347541554704\n",
      "354.68347541554704\n",
      "354.9225636865017\n",
      "354.9225636865017\n"
     ]
    },
    {
     "name": "stderr",
     "output_type": "stream",
     "text": [
      "\u001b[A\n",
      " 94%|█████████▍| 1185/1261 [02:50<00:12,  6.26it/s]\u001b[A"
     ]
    },
    {
     "name": "stdout",
     "output_type": "stream",
     "text": [
      "355.2775582112804\n",
      "355.2775582112804\n",
      "355.99455422906567\n",
      "355.99455422906567\n"
     ]
    },
    {
     "name": "stderr",
     "output_type": "stream",
     "text": [
      "\n",
      " 94%|█████████▍| 1186/1261 [02:50<00:12,  6.14it/s]\u001b[A\n",
      " 94%|█████████▍| 1187/1261 [02:50<00:11,  6.32it/s]\u001b[A\n",
      " 94%|█████████▍| 1188/1261 [02:50<00:11,  6.37it/s]"
     ]
    },
    {
     "name": "stdout",
     "output_type": "stream",
     "text": [
      "354.8419762812996\n",
      "354.8419762812996\n",
      "354.03530866961046\n",
      "354.03530866961046\n"
     ]
    },
    {
     "name": "stderr",
     "output_type": "stream",
     "text": [
      "\u001b[A\n",
      " 94%|█████████▍| 1189/1261 [02:50<00:11,  6.50it/s]\u001b[A\n",
      " 94%|█████████▍| 1190/1261 [02:51<00:10,  6.63it/s]"
     ]
    },
    {
     "name": "stdout",
     "output_type": "stream",
     "text": [
      "354.3249025853638\n",
      "354.3249025853638\n",
      "354.5765966858967\n",
      "354.5765966858967\n"
     ]
    },
    {
     "name": "stderr",
     "output_type": "stream",
     "text": [
      "\u001b[A\n",
      " 94%|█████████▍| 1191/1261 [02:51<00:10,  6.70it/s]\u001b[A\n",
      " 95%|█████████▍| 1192/1261 [02:51<00:10,  6.71it/s]"
     ]
    },
    {
     "name": "stdout",
     "output_type": "stream",
     "text": [
      "354.7501609699584\n",
      "354.7501609699584\n",
      "354.62310665549467\n",
      "354.62310665549467\n"
     ]
    },
    {
     "name": "stderr",
     "output_type": "stream",
     "text": [
      "\u001b[A\n",
      " 95%|█████████▍| 1193/1261 [02:51<00:10,  6.66it/s]\u001b[A\n",
      " 95%|█████████▍| 1194/1261 [02:51<00:10,  6.62it/s]"
     ]
    },
    {
     "name": "stdout",
     "output_type": "stream",
     "text": [
      "354.25362255551727\n",
      "354.25362255551727\n",
      "353.8361810946667\n",
      "353.8361810946667\n"
     ]
    },
    {
     "name": "stderr",
     "output_type": "stream",
     "text": [
      "\u001b[A\n",
      " 95%|█████████▍| 1195/1261 [02:51<00:10,  6.47it/s]\u001b[A\n",
      " 95%|█████████▍| 1196/1261 [02:52<00:10,  6.33it/s]"
     ]
    },
    {
     "name": "stdout",
     "output_type": "stream",
     "text": [
      "353.29154293751435\n",
      "353.29154293751435\n",
      "352.8927773753144\n",
      "352.8927773753144\n"
     ]
    },
    {
     "name": "stderr",
     "output_type": "stream",
     "text": [
      "\u001b[A\n",
      " 95%|█████████▍| 1197/1261 [02:52<00:10,  6.35it/s]\u001b[A\n",
      " 95%|█████████▌| 1198/1261 [02:52<00:09,  6.53it/s]"
     ]
    },
    {
     "name": "stdout",
     "output_type": "stream",
     "text": [
      "352.2852059261081\n",
      "352.2852059261081\n",
      "351.3469453497287\n",
      "351.3469453497287\n"
     ]
    },
    {
     "name": "stderr",
     "output_type": "stream",
     "text": [
      "\u001b[A\n",
      " 95%|█████████▌| 1199/1261 [02:52<00:09,  6.62it/s]\u001b[A\n",
      " 95%|█████████▌| 1200/1261 [02:52<00:09,  6.67it/s]"
     ]
    },
    {
     "name": "stdout",
     "output_type": "stream",
     "text": [
      "350.82589485565495\n",
      "350.82589485565495\n",
      "350.7470047254901\n",
      "350.7470047254901\n"
     ]
    },
    {
     "name": "stderr",
     "output_type": "stream",
     "text": [
      "\u001b[A\n",
      " 95%|█████████▌| 1201/1261 [02:52<00:08,  6.67it/s]\u001b[A\n",
      " 95%|█████████▌| 1202/1261 [02:52<00:08,  6.75it/s]"
     ]
    },
    {
     "name": "stdout",
     "output_type": "stream",
     "text": [
      "350.91587568447267\n",
      "350.91587568447267\n",
      "351.8617028698336\n",
      "351.8617028698336\n"
     ]
    },
    {
     "name": "stderr",
     "output_type": "stream",
     "text": [
      "\u001b[A\n",
      " 95%|█████████▌| 1203/1261 [02:53<00:08,  6.91it/s]\u001b[A\n",
      " 95%|█████████▌| 1204/1261 [02:53<00:08,  7.04it/s]"
     ]
    },
    {
     "name": "stdout",
     "output_type": "stream",
     "text": [
      "352.75023439746565\n",
      "352.75023439746565\n",
      "354.3764161502536\n",
      "354.3764161502536\n"
     ]
    },
    {
     "name": "stderr",
     "output_type": "stream",
     "text": [
      "\u001b[A\n",
      " 96%|█████████▌| 1205/1261 [02:53<00:07,  7.12it/s]\u001b[A\n",
      " 96%|█████████▌| 1206/1261 [02:53<00:07,  7.09it/s]"
     ]
    },
    {
     "name": "stdout",
     "output_type": "stream",
     "text": [
      "353.9723044119087\n",
      "353.9723044119087\n",
      "353.6541674396317\n",
      "353.6541674396317\n"
     ]
    },
    {
     "name": "stderr",
     "output_type": "stream",
     "text": [
      "\u001b[A\n",
      " 96%|█████████▌| 1207/1261 [02:53<00:07,  7.08it/s]\u001b[A\n",
      " 96%|█████████▌| 1208/1261 [02:53<00:07,  7.11it/s]"
     ]
    },
    {
     "name": "stdout",
     "output_type": "stream",
     "text": [
      "353.5514530339219\n",
      "353.5514530339219\n",
      "352.9870964762654\n",
      "352.9870964762654\n"
     ]
    },
    {
     "name": "stderr",
     "output_type": "stream",
     "text": [
      "\u001b[A\n",
      " 96%|█████████▌| 1209/1261 [02:53<00:07,  7.17it/s]\u001b[A\n",
      " 96%|█████████▌| 1210/1261 [02:54<00:07,  7.18it/s]"
     ]
    },
    {
     "name": "stdout",
     "output_type": "stream",
     "text": [
      "353.0189180115567\n",
      "353.0189180115567\n",
      "352.66939011753357\n",
      "352.66939011753357\n"
     ]
    },
    {
     "name": "stderr",
     "output_type": "stream",
     "text": [
      "\u001b[A\n",
      " 96%|█████████▌| 1211/1261 [02:54<00:07,  7.08it/s]\u001b[A\n",
      " 96%|█████████▌| 1212/1261 [02:54<00:06,  7.08it/s]"
     ]
    },
    {
     "name": "stdout",
     "output_type": "stream",
     "text": [
      "352.6165920952085\n",
      "352.6165920952085\n",
      "352.00553817629134\n",
      "352.00553817629134\n"
     ]
    },
    {
     "name": "stderr",
     "output_type": "stream",
     "text": [
      "\u001b[A\n",
      " 96%|█████████▌| 1213/1261 [02:54<00:06,  7.05it/s]\u001b[A\n",
      " 96%|█████████▋| 1214/1261 [02:54<00:06,  6.95it/s]"
     ]
    },
    {
     "name": "stdout",
     "output_type": "stream",
     "text": [
      "351.454507038517\n",
      "351.454507038517\n",
      "350.7302003346899\n",
      "350.7302003346899\n"
     ]
    },
    {
     "name": "stderr",
     "output_type": "stream",
     "text": [
      "\u001b[A\n",
      " 96%|█████████▋| 1215/1261 [02:54<00:06,  6.99it/s]\u001b[A\n",
      " 96%|█████████▋| 1216/1261 [02:54<00:06,  7.00it/s]"
     ]
    },
    {
     "name": "stdout",
     "output_type": "stream",
     "text": [
      "350.35306580530596\n",
      "350.35306580530596\n",
      "349.7544645336079\n",
      "349.7544645336079\n"
     ]
    },
    {
     "name": "stderr",
     "output_type": "stream",
     "text": [
      "\u001b[A\n",
      " 97%|█████████▋| 1217/1261 [02:55<00:06,  7.03it/s]\u001b[A\n",
      " 97%|█████████▋| 1218/1261 [02:55<00:06,  7.09it/s]"
     ]
    },
    {
     "name": "stdout",
     "output_type": "stream",
     "text": [
      "349.4927780980561\n",
      "349.4927780980561\n",
      "349.6986221536831\n",
      "349.6986221536831\n"
     ]
    },
    {
     "name": "stderr",
     "output_type": "stream",
     "text": [
      "\u001b[A\n",
      " 97%|█████████▋| 1219/1261 [02:55<00:05,  7.16it/s]\u001b[A\n",
      " 97%|█████████▋| 1220/1261 [02:55<00:05,  7.23it/s]"
     ]
    },
    {
     "name": "stdout",
     "output_type": "stream",
     "text": [
      "350.1127677060945\n",
      "350.1127677060945\n",
      "350.55512415319527\n",
      "350.55512415319527\n"
     ]
    },
    {
     "name": "stderr",
     "output_type": "stream",
     "text": [
      "\u001b[A\n",
      " 97%|█████████▋| 1221/1261 [02:55<00:05,  7.03it/s]\u001b[A\n",
      " 97%|█████████▋| 1222/1261 [02:55<00:05,  6.99it/s]"
     ]
    },
    {
     "name": "stdout",
     "output_type": "stream",
     "text": [
      "350.2795464231058\n",
      "350.2795464231058\n",
      "350.7620019979054\n",
      "350.7620019979054\n"
     ]
    },
    {
     "name": "stderr",
     "output_type": "stream",
     "text": [
      "\u001b[A\n",
      " 97%|█████████▋| 1223/1261 [02:55<00:05,  6.98it/s]\u001b[A\n",
      " 97%|█████████▋| 1224/1261 [02:56<00:05,  7.08it/s]"
     ]
    },
    {
     "name": "stdout",
     "output_type": "stream",
     "text": [
      "351.4345689247248\n",
      "351.4345689247248\n",
      "351.833766977948\n",
      "351.833766977948\n"
     ]
    },
    {
     "name": "stderr",
     "output_type": "stream",
     "text": [
      "\u001b[A\n",
      " 97%|█████████▋| 1225/1261 [02:56<00:05,  7.08it/s]\u001b[A\n",
      " 97%|█████████▋| 1226/1261 [02:56<00:04,  7.13it/s]"
     ]
    },
    {
     "name": "stdout",
     "output_type": "stream",
     "text": [
      "351.89087947801863\n",
      "351.89087947801863\n",
      "351.7971562194748\n",
      "351.7971562194748\n"
     ]
    },
    {
     "name": "stderr",
     "output_type": "stream",
     "text": [
      "\u001b[A\n",
      " 97%|█████████▋| 1227/1261 [02:56<00:04,  7.06it/s]\u001b[A\n",
      " 97%|█████████▋| 1228/1261 [02:56<00:04,  7.17it/s]"
     ]
    },
    {
     "name": "stdout",
     "output_type": "stream",
     "text": [
      "352.4009089789233\n",
      "352.4009089789233\n",
      "352.38086675479735\n",
      "352.38086675479735\n"
     ]
    },
    {
     "name": "stderr",
     "output_type": "stream",
     "text": [
      "\u001b[A\n",
      " 97%|█████████▋| 1229/1261 [02:56<00:04,  7.06it/s]\u001b[A\n",
      " 98%|█████████▊| 1230/1261 [02:56<00:04,  6.96it/s]"
     ]
    },
    {
     "name": "stdout",
     "output_type": "stream",
     "text": [
      "352.923571837322\n",
      "352.923571837322\n",
      "354.93262542842194\n",
      "354.93262542842194\n"
     ]
    },
    {
     "name": "stderr",
     "output_type": "stream",
     "text": [
      "\u001b[A\n",
      " 98%|█████████▊| 1231/1261 [02:57<00:04,  6.88it/s]\u001b[A\n",
      " 98%|█████████▊| 1232/1261 [02:57<00:04,  6.88it/s]"
     ]
    },
    {
     "name": "stdout",
     "output_type": "stream",
     "text": [
      "352.9714745505239\n",
      "352.9714745505239\n",
      "352.42560426836553\n",
      "352.42560426836553\n"
     ]
    },
    {
     "name": "stderr",
     "output_type": "stream",
     "text": [
      "\u001b[A\n",
      " 98%|█████████▊| 1233/1261 [02:57<00:04,  6.75it/s]\u001b[A\n",
      " 98%|█████████▊| 1234/1261 [02:57<00:04,  6.68it/s]"
     ]
    },
    {
     "name": "stdout",
     "output_type": "stream",
     "text": [
      "352.6546704515699\n",
      "352.6546704515699\n",
      "353.75453914408536\n",
      "353.75453914408536\n"
     ]
    },
    {
     "name": "stderr",
     "output_type": "stream",
     "text": [
      "\u001b[A\n",
      " 98%|█████████▊| 1235/1261 [02:57<00:04,  6.43it/s]\u001b[A\n",
      " 98%|█████████▊| 1236/1261 [02:57<00:03,  6.54it/s]"
     ]
    },
    {
     "name": "stdout",
     "output_type": "stream",
     "text": [
      "354.6971345752386\n",
      "354.6971345752386\n",
      "354.87752283695863\n",
      "354.87752283695863\n"
     ]
    },
    {
     "name": "stderr",
     "output_type": "stream",
     "text": [
      "\u001b[A\n",
      " 98%|█████████▊| 1237/1261 [02:57<00:03,  6.62it/s]\u001b[A\n",
      " 98%|█████████▊| 1238/1261 [02:58<00:03,  6.74it/s]"
     ]
    },
    {
     "name": "stdout",
     "output_type": "stream",
     "text": [
      "354.6623510960985\n",
      "354.6623510960985\n",
      "353.4415433475747\n",
      "353.4415433475747\n"
     ]
    },
    {
     "name": "stderr",
     "output_type": "stream",
     "text": [
      "\u001b[A\n",
      " 98%|█████████▊| 1239/1261 [02:58<00:03,  6.63it/s]\u001b[A\n",
      " 98%|█████████▊| 1240/1261 [02:58<00:03,  6.73it/s]"
     ]
    },
    {
     "name": "stdout",
     "output_type": "stream",
     "text": [
      "352.6663995249928\n",
      "352.6663995249928\n",
      "352.6835959206878\n",
      "352.6835959206878\n"
     ]
    },
    {
     "name": "stderr",
     "output_type": "stream",
     "text": [
      "\u001b[A\n",
      " 98%|█████████▊| 1241/1261 [02:58<00:02,  6.74it/s]\u001b[A\n",
      " 98%|█████████▊| 1242/1261 [02:58<00:02,  6.82it/s]"
     ]
    },
    {
     "name": "stdout",
     "output_type": "stream",
     "text": [
      "353.5028769602759\n",
      "353.5028769602759\n",
      "356.154956172943\n",
      "356.154956172943\n"
     ]
    },
    {
     "name": "stderr",
     "output_type": "stream",
     "text": [
      "\u001b[A\n",
      " 99%|█████████▊| 1243/1261 [02:58<00:02,  6.72it/s]\u001b[A\n",
      " 99%|█████████▊| 1244/1261 [02:58<00:02,  6.64it/s]"
     ]
    },
    {
     "name": "stdout",
     "output_type": "stream",
     "text": [
      "355.0708932045027\n",
      "355.0708932045027\n",
      "354.8959396518312\n",
      "354.8959396518312\n"
     ]
    },
    {
     "name": "stderr",
     "output_type": "stream",
     "text": [
      "\u001b[A\n",
      " 99%|█████████▊| 1245/1261 [02:59<00:02,  6.62it/s]\u001b[A\n",
      " 99%|█████████▉| 1246/1261 [02:59<00:02,  6.78it/s]"
     ]
    },
    {
     "name": "stdout",
     "output_type": "stream",
     "text": [
      "356.272077920999\n",
      "356.272077920999\n",
      "357.4106327887994\n",
      "357.4106327887994\n"
     ]
    },
    {
     "name": "stderr",
     "output_type": "stream",
     "text": [
      "\u001b[A\n",
      " 99%|█████████▉| 1247/1261 [02:59<00:02,  6.59it/s]\u001b[A\n",
      " 99%|█████████▉| 1248/1261 [02:59<00:01,  6.75it/s]"
     ]
    },
    {
     "name": "stdout",
     "output_type": "stream",
     "text": [
      "358.2636091212248\n",
      "358.2636091212248\n",
      "357.41484024999727\n",
      "357.41484024999727\n"
     ]
    },
    {
     "name": "stderr",
     "output_type": "stream",
     "text": [
      "\u001b[A\n",
      " 99%|█████████▉| 1249/1261 [02:59<00:01,  6.96it/s]\u001b[A\n",
      " 99%|█████████▉| 1250/1261 [02:59<00:01,  7.16it/s]"
     ]
    },
    {
     "name": "stdout",
     "output_type": "stream",
     "text": [
      "356.6410349669218\n",
      "356.6410349669218\n",
      "355.6683653854998\n",
      "355.6683653854998\n"
     ]
    },
    {
     "name": "stderr",
     "output_type": "stream",
     "text": [
      "\u001b[A\n",
      " 99%|█████████▉| 1251/1261 [02:59<00:01,  7.15it/s]\u001b[A\n",
      " 99%|█████████▉| 1252/1261 [03:00<00:01,  7.22it/s]"
     ]
    },
    {
     "name": "stdout",
     "output_type": "stream",
     "text": [
      "355.32695383624696\n",
      "355.32695383624696\n",
      "355.13013908870244\n",
      "355.13013908870244\n"
     ]
    },
    {
     "name": "stderr",
     "output_type": "stream",
     "text": [
      "\u001b[A\n",
      " 99%|█████████▉| 1253/1261 [03:00<00:01,  7.19it/s]\u001b[A\n",
      " 99%|█████████▉| 1254/1261 [03:00<00:00,  7.34it/s]"
     ]
    },
    {
     "name": "stdout",
     "output_type": "stream",
     "text": [
      "356.3930062992754\n",
      "356.3930062992754\n",
      "354.9582784371664\n",
      "354.9582784371664\n"
     ]
    },
    {
     "name": "stderr",
     "output_type": "stream",
     "text": [
      "\u001b[A\n",
      "100%|█████████▉| 1255/1261 [03:00<00:00,  7.18it/s]\u001b[A\n",
      "100%|█████████▉| 1256/1261 [03:00<00:00,  7.30it/s]"
     ]
    },
    {
     "name": "stdout",
     "output_type": "stream",
     "text": [
      "355.50481984365297\n",
      "355.50481984365297\n",
      "355.5472460646515\n",
      "355.5472460646515\n"
     ]
    },
    {
     "name": "stderr",
     "output_type": "stream",
     "text": [
      "\u001b[A\n",
      "100%|█████████▉| 1257/1261 [03:00<00:00,  7.23it/s]\u001b[A\n",
      "100%|█████████▉| 1258/1261 [03:00<00:00,  7.38it/s]"
     ]
    },
    {
     "name": "stdout",
     "output_type": "stream",
     "text": [
      "356.46696932972145\n",
      "356.46696932972145\n",
      "356.2866998514846\n",
      "356.2866998514846\n"
     ]
    },
    {
     "name": "stderr",
     "output_type": "stream",
     "text": [
      "\u001b[A\n",
      "100%|█████████▉| 1259/1261 [03:01<00:00,  6.93it/s]\u001b[A\n",
      "100%|█████████▉| 1260/1261 [03:01<00:00,  6.94it/s]"
     ]
    },
    {
     "name": "stdout",
     "output_type": "stream",
     "text": [
      "356.57647746548537\n",
      "356.57647746548537\n",
      "358.2698115407934\n",
      "358.2698115407934\n"
     ]
    },
    {
     "name": "stderr",
     "output_type": "stream",
     "text": [
      "\u001b[A\n",
      "\u001b[A"
     ]
    },
    {
     "name": "stdout",
     "output_type": "stream",
     "text": [
      "[MoviePy] Done.\n",
      "[MoviePy] >>>> Video ready: first.mp4 \n",
      "\n"
     ]
    }
   ],
   "source": [
    "reset_lines()\n",
    "first_output = 'first.mp4'\n",
    "clip1 = VideoFileClip(\"project_video.mp4\")\n",
    "white_clip = clip1.fl_image(pipeline)\n",
    "white_clip.write_videofile(first_output, audio=False)"
   ]
  },
  {
   "cell_type": "code",
   "execution_count": null,
   "metadata": {
    "collapsed": true
   },
   "outputs": [],
   "source": []
  },
  {
   "cell_type": "code",
   "execution_count": 632,
   "metadata": {
    "collapsed": false
   },
   "outputs": [
    {
     "data": {
      "text/html": [
       "\n",
       "<video width=\"960\" height=\"540\" controls>\n",
       "  <source src=\"first.mp4\">\n",
       "</video>\n"
      ],
      "text/plain": [
       "<IPython.core.display.HTML object>"
      ]
     },
     "execution_count": 632,
     "metadata": {},
     "output_type": "execute_result"
    }
   ],
   "source": [
    "HTML(\"\"\"\n",
    "<video width=\"960\" height=\"540\" controls>\n",
    "  <source src=\"{0}\">\n",
    "</video>\n",
    "\"\"\".format(first_output))"
   ]
  },
  {
   "cell_type": "code",
   "execution_count": 626,
   "metadata": {
    "collapsed": false
   },
   "outputs": [
    {
     "name": "stdout",
     "output_type": "stream",
     "text": [
      "353.14019427690164\n",
      "353.14019427690164\n",
      "[MoviePy] >>>> Building video challenge.mp4\n",
      "[MoviePy] Writing video challenge.mp4\n"
     ]
    },
    {
     "name": "stderr",
     "output_type": "stream",
     "text": [
      "\n",
      "  0%|          | 0/485 [00:00<?, ?it/s]\u001b[A\n",
      "  0%|          | 1/485 [00:00<01:10,  6.82it/s]"
     ]
    },
    {
     "name": "stdout",
     "output_type": "stream",
     "text": [
      "353.14019427690164\n",
      "353.14019427690164\n"
     ]
    },
    {
     "name": "stderr",
     "output_type": "stream",
     "text": [
      "\u001b[A\n",
      "  0%|          | 2/485 [00:00<01:12,  6.68it/s]"
     ]
    },
    {
     "name": "stdout",
     "output_type": "stream",
     "text": [
      "352.90547633064443\n",
      "352.90547633064443\n"
     ]
    },
    {
     "name": "stderr",
     "output_type": "stream",
     "text": [
      "\u001b[A\n",
      "  1%|          | 3/485 [00:00<01:12,  6.67it/s]"
     ]
    },
    {
     "name": "stdout",
     "output_type": "stream",
     "text": [
      "352.3287270608462\n",
      "352.3287270608462\n"
     ]
    },
    {
     "name": "stderr",
     "output_type": "stream",
     "text": [
      "\u001b[A\n",
      "  1%|          | 4/485 [00:00<01:10,  6.78it/s]"
     ]
    },
    {
     "name": "stdout",
     "output_type": "stream",
     "text": [
      "352.29512088832644\n",
      "352.29512088832644\n"
     ]
    },
    {
     "name": "stderr",
     "output_type": "stream",
     "text": [
      "\u001b[A\n",
      "  1%|          | 5/485 [00:00<01:10,  6.82it/s]"
     ]
    },
    {
     "name": "stdout",
     "output_type": "stream",
     "text": [
      "352.60375492200774\n",
      "352.60375492200774\n"
     ]
    },
    {
     "name": "stderr",
     "output_type": "stream",
     "text": [
      "\u001b[A\n",
      "  1%|          | 6/485 [00:00<01:09,  6.90it/s]"
     ]
    },
    {
     "name": "stdout",
     "output_type": "stream",
     "text": [
      "352.5120592823132\n",
      "352.5120592823132\n"
     ]
    },
    {
     "name": "stderr",
     "output_type": "stream",
     "text": [
      "\u001b[A\n",
      "  1%|▏         | 7/485 [00:01<01:09,  6.90it/s]"
     ]
    },
    {
     "name": "stdout",
     "output_type": "stream",
     "text": [
      "352.28169279872054\n",
      "352.28169279872054\n"
     ]
    },
    {
     "name": "stderr",
     "output_type": "stream",
     "text": [
      "\u001b[A\n",
      "  2%|▏         | 8/485 [00:01<01:09,  6.82it/s]"
     ]
    },
    {
     "name": "stdout",
     "output_type": "stream",
     "text": [
      "352.0364760763973\n",
      "352.0364760763973\n"
     ]
    },
    {
     "name": "stderr",
     "output_type": "stream",
     "text": [
      "\u001b[A\n",
      "  2%|▏         | 9/485 [00:01<01:11,  6.65it/s]"
     ]
    },
    {
     "name": "stdout",
     "output_type": "stream",
     "text": [
      "352.34420943363875\n",
      "352.34420943363875\n"
     ]
    },
    {
     "name": "stderr",
     "output_type": "stream",
     "text": [
      "\u001b[A\n",
      "  2%|▏         | 10/485 [00:01<01:11,  6.63it/s]"
     ]
    },
    {
     "name": "stdout",
     "output_type": "stream",
     "text": [
      "352.0948871738751\n",
      "352.0948871738751\n"
     ]
    },
    {
     "name": "stderr",
     "output_type": "stream",
     "text": [
      "\u001b[A\n",
      "  2%|▏         | 11/485 [00:01<01:13,  6.48it/s]"
     ]
    },
    {
     "name": "stdout",
     "output_type": "stream",
     "text": [
      "352.7071136519471\n",
      "352.7071136519471\n"
     ]
    },
    {
     "name": "stderr",
     "output_type": "stream",
     "text": [
      "\u001b[A\n",
      "  2%|▏         | 12/485 [00:01<01:11,  6.59it/s]"
     ]
    },
    {
     "name": "stdout",
     "output_type": "stream",
     "text": [
      "352.7874759917281\n",
      "352.7874759917281\n"
     ]
    },
    {
     "name": "stderr",
     "output_type": "stream",
     "text": [
      "\u001b[A\n",
      "  3%|▎         | 13/485 [00:01<01:11,  6.58it/s]"
     ]
    },
    {
     "name": "stdout",
     "output_type": "stream",
     "text": [
      "353.9116338930953\n",
      "353.9116338930953\n"
     ]
    },
    {
     "name": "stderr",
     "output_type": "stream",
     "text": [
      "\u001b[A\n",
      "  3%|▎         | 14/485 [00:02<01:10,  6.65it/s]"
     ]
    },
    {
     "name": "stdout",
     "output_type": "stream",
     "text": [
      "352.68516992021705\n",
      "352.68516992021705\n"
     ]
    },
    {
     "name": "stderr",
     "output_type": "stream",
     "text": [
      "\u001b[A\n",
      "  3%|▎         | 15/485 [00:02<01:09,  6.78it/s]"
     ]
    },
    {
     "name": "stdout",
     "output_type": "stream",
     "text": [
      "352.7692147705302\n",
      "352.7692147705302\n"
     ]
    },
    {
     "name": "stderr",
     "output_type": "stream",
     "text": [
      "\u001b[A\n",
      "  3%|▎         | 16/485 [00:02<01:09,  6.75it/s]"
     ]
    },
    {
     "name": "stdout",
     "output_type": "stream",
     "text": [
      "352.8167279482682\n",
      "352.8167279482682\n"
     ]
    },
    {
     "name": "stderr",
     "output_type": "stream",
     "text": [
      "\u001b[A\n",
      "  4%|▎         | 17/485 [00:02<01:09,  6.77it/s]"
     ]
    },
    {
     "name": "stdout",
     "output_type": "stream",
     "text": [
      "353.13760905395293\n",
      "353.13760905395293\n"
     ]
    },
    {
     "name": "stderr",
     "output_type": "stream",
     "text": [
      "\u001b[A\n",
      "  4%|▎         | 18/485 [00:02<01:08,  6.82it/s]"
     ]
    },
    {
     "name": "stdout",
     "output_type": "stream",
     "text": [
      "353.1404157469801\n",
      "353.1404157469801\n"
     ]
    },
    {
     "name": "stderr",
     "output_type": "stream",
     "text": [
      "\u001b[A\n",
      "  4%|▍         | 19/485 [00:02<01:09,  6.73it/s]"
     ]
    },
    {
     "name": "stdout",
     "output_type": "stream",
     "text": [
      "352.7933681386976\n",
      "352.7933681386976\n"
     ]
    },
    {
     "name": "stderr",
     "output_type": "stream",
     "text": [
      "\u001b[A\n",
      "  4%|▍         | 20/485 [00:02<01:08,  6.75it/s]"
     ]
    },
    {
     "name": "stdout",
     "output_type": "stream",
     "text": [
      "352.8558812464021\n",
      "352.8558812464021\n"
     ]
    },
    {
     "name": "stderr",
     "output_type": "stream",
     "text": [
      "\u001b[A\n",
      "  4%|▍         | 21/485 [00:03<01:08,  6.73it/s]"
     ]
    },
    {
     "name": "stdout",
     "output_type": "stream",
     "text": [
      "352.512523709428\n",
      "352.512523709428\n"
     ]
    },
    {
     "name": "stderr",
     "output_type": "stream",
     "text": [
      "\u001b[A\n",
      "  5%|▍         | 22/485 [00:03<01:09,  6.68it/s]"
     ]
    },
    {
     "name": "stdout",
     "output_type": "stream",
     "text": [
      "352.5452168006632\n",
      "352.5452168006632\n"
     ]
    },
    {
     "name": "stderr",
     "output_type": "stream",
     "text": [
      "\u001b[A\n",
      "  5%|▍         | 23/485 [00:03<01:10,  6.56it/s]"
     ]
    },
    {
     "name": "stdout",
     "output_type": "stream",
     "text": [
      "352.5200370595235\n",
      "352.5200370595235\n"
     ]
    },
    {
     "name": "stderr",
     "output_type": "stream",
     "text": [
      "\u001b[A\n",
      "  5%|▍         | 24/485 [00:03<01:10,  6.54it/s]"
     ]
    },
    {
     "name": "stdout",
     "output_type": "stream",
     "text": [
      "351.54856970906394\n",
      "351.54856970906394\n"
     ]
    },
    {
     "name": "stderr",
     "output_type": "stream",
     "text": [
      "\u001b[A\n",
      "  5%|▌         | 25/485 [00:03<01:10,  6.52it/s]"
     ]
    },
    {
     "name": "stdout",
     "output_type": "stream",
     "text": [
      "351.020945609901\n",
      "351.020945609901\n"
     ]
    },
    {
     "name": "stderr",
     "output_type": "stream",
     "text": [
      "\u001b[A\n",
      "  5%|▌         | 26/485 [00:03<01:11,  6.42it/s]"
     ]
    },
    {
     "name": "stdout",
     "output_type": "stream",
     "text": [
      "350.1174115367371\n",
      "350.1174115367371\n"
     ]
    },
    {
     "name": "stderr",
     "output_type": "stream",
     "text": [
      "\u001b[A\n",
      "  6%|▌         | 27/485 [00:04<01:10,  6.51it/s]"
     ]
    },
    {
     "name": "stdout",
     "output_type": "stream",
     "text": [
      "350.06133552112124\n",
      "350.06133552112124\n"
     ]
    },
    {
     "name": "stderr",
     "output_type": "stream",
     "text": [
      "\u001b[A\n",
      "  6%|▌         | 28/485 [00:04<01:07,  6.72it/s]"
     ]
    },
    {
     "name": "stdout",
     "output_type": "stream",
     "text": [
      "349.84303371653596\n",
      "349.84303371653596\n"
     ]
    },
    {
     "name": "stderr",
     "output_type": "stream",
     "text": [
      "\u001b[A\n",
      "  6%|▌         | 29/485 [00:04<01:06,  6.81it/s]"
     ]
    },
    {
     "name": "stdout",
     "output_type": "stream",
     "text": [
      "352.20541290822894\n",
      "352.20541290822894\n"
     ]
    },
    {
     "name": "stderr",
     "output_type": "stream",
     "text": [
      "\u001b[A\n",
      "  6%|▌         | 30/485 [00:04<01:06,  6.84it/s]"
     ]
    },
    {
     "name": "stdout",
     "output_type": "stream",
     "text": [
      "353.6239257569532\n",
      "353.6239257569532\n"
     ]
    },
    {
     "name": "stderr",
     "output_type": "stream",
     "text": [
      "\u001b[A\n",
      "  6%|▋         | 31/485 [00:04<01:05,  6.91it/s]"
     ]
    },
    {
     "name": "stdout",
     "output_type": "stream",
     "text": [
      "355.374191523058\n",
      "355.374191523058\n"
     ]
    },
    {
     "name": "stderr",
     "output_type": "stream",
     "text": [
      "\u001b[A\n",
      "  7%|▋         | 32/485 [00:04<01:05,  6.95it/s]"
     ]
    },
    {
     "name": "stdout",
     "output_type": "stream",
     "text": [
      "357.6755789938579\n",
      "357.6755789938579\n"
     ]
    },
    {
     "name": "stderr",
     "output_type": "stream",
     "text": [
      "\u001b[A\n",
      "  7%|▋         | 33/485 [00:04<01:06,  6.84it/s]"
     ]
    },
    {
     "name": "stdout",
     "output_type": "stream",
     "text": [
      "358.0885496356859\n",
      "358.0885496356859\n"
     ]
    },
    {
     "name": "stderr",
     "output_type": "stream",
     "text": [
      "\u001b[A\n",
      "  7%|▋         | 34/485 [00:05<01:04,  6.98it/s]"
     ]
    },
    {
     "name": "stdout",
     "output_type": "stream",
     "text": [
      "358.03916971271246\n",
      "358.03916971271246\n"
     ]
    },
    {
     "name": "stderr",
     "output_type": "stream",
     "text": [
      "\u001b[A\n",
      "  7%|▋         | 35/485 [00:05<01:03,  7.13it/s]"
     ]
    },
    {
     "name": "stdout",
     "output_type": "stream",
     "text": [
      "358.1468370349985\n",
      "358.1468370349985\n"
     ]
    },
    {
     "name": "stderr",
     "output_type": "stream",
     "text": [
      "\u001b[A\n",
      "  7%|▋         | 36/485 [00:05<01:03,  7.05it/s]"
     ]
    },
    {
     "name": "stdout",
     "output_type": "stream",
     "text": [
      "356.81524165012615\n",
      "356.81524165012615\n"
     ]
    },
    {
     "name": "stderr",
     "output_type": "stream",
     "text": [
      "\u001b[A\n",
      "  8%|▊         | 37/485 [00:05<01:03,  7.03it/s]"
     ]
    },
    {
     "name": "stdout",
     "output_type": "stream",
     "text": [
      "355.0484420266903\n",
      "355.0484420266903\n"
     ]
    },
    {
     "name": "stderr",
     "output_type": "stream",
     "text": [
      "\u001b[A\n",
      "  8%|▊         | 38/485 [00:05<01:05,  6.83it/s]"
     ]
    },
    {
     "name": "stdout",
     "output_type": "stream",
     "text": [
      "353.86325686114196\n",
      "353.86325686114196\n"
     ]
    },
    {
     "name": "stderr",
     "output_type": "stream",
     "text": [
      "\u001b[A\n",
      "  8%|▊         | 39/485 [00:05<01:07,  6.57it/s]"
     ]
    },
    {
     "name": "stdout",
     "output_type": "stream",
     "text": [
      "352.71828051860757\n",
      "352.71828051860757\n"
     ]
    },
    {
     "name": "stderr",
     "output_type": "stream",
     "text": [
      "\u001b[A\n",
      "  8%|▊         | 40/485 [00:05<01:08,  6.50it/s]"
     ]
    },
    {
     "name": "stdout",
     "output_type": "stream",
     "text": [
      "351.0490443856561\n",
      "351.0490443856561\n"
     ]
    },
    {
     "name": "stderr",
     "output_type": "stream",
     "text": [
      "\u001b[A\n",
      "  8%|▊         | 41/485 [00:06<01:07,  6.54it/s]"
     ]
    },
    {
     "name": "stdout",
     "output_type": "stream",
     "text": [
      "350.0316816266554\n",
      "350.0316816266554\n"
     ]
    },
    {
     "name": "stderr",
     "output_type": "stream",
     "text": [
      "\u001b[A\n",
      "  9%|▊         | 42/485 [00:06<01:04,  6.82it/s]"
     ]
    },
    {
     "name": "stdout",
     "output_type": "stream",
     "text": [
      "348.5887785649679\n",
      "348.5887785649679\n"
     ]
    },
    {
     "name": "stderr",
     "output_type": "stream",
     "text": [
      "\u001b[A\n",
      "  9%|▉         | 43/485 [00:06<01:05,  6.79it/s]"
     ]
    },
    {
     "name": "stdout",
     "output_type": "stream",
     "text": [
      "346.85466724469643\n",
      "346.85466724469643\n"
     ]
    },
    {
     "name": "stderr",
     "output_type": "stream",
     "text": [
      "\u001b[A\n",
      "  9%|▉         | 44/485 [00:06<01:04,  6.81it/s]"
     ]
    },
    {
     "name": "stdout",
     "output_type": "stream",
     "text": [
      "344.53678368994997\n",
      "344.53678368994997\n"
     ]
    },
    {
     "name": "stderr",
     "output_type": "stream",
     "text": [
      "\u001b[A\n",
      "  9%|▉         | 45/485 [00:06<01:03,  6.95it/s]"
     ]
    },
    {
     "name": "stdout",
     "output_type": "stream",
     "text": [
      "342.94210201487886\n",
      "342.94210201487886\n"
     ]
    },
    {
     "name": "stderr",
     "output_type": "stream",
     "text": [
      "\u001b[A\n",
      "  9%|▉         | 46/485 [00:06<01:03,  6.86it/s]"
     ]
    },
    {
     "name": "stdout",
     "output_type": "stream",
     "text": [
      "342.1758575830222\n",
      "342.1758575830222\n"
     ]
    },
    {
     "name": "stderr",
     "output_type": "stream",
     "text": [
      "\u001b[A\n",
      " 10%|▉         | 47/485 [00:06<01:04,  6.80it/s]"
     ]
    },
    {
     "name": "stdout",
     "output_type": "stream",
     "text": [
      "341.7093195738471\n",
      "341.7093195738471\n"
     ]
    },
    {
     "name": "stderr",
     "output_type": "stream",
     "text": [
      "\u001b[A\n",
      " 10%|▉         | 48/485 [00:07<01:03,  6.91it/s]"
     ]
    },
    {
     "name": "stdout",
     "output_type": "stream",
     "text": [
      "341.488925126263\n",
      "341.488925126263\n"
     ]
    },
    {
     "name": "stderr",
     "output_type": "stream",
     "text": [
      "\u001b[A\n",
      " 10%|█         | 49/485 [00:07<01:02,  7.00it/s]"
     ]
    },
    {
     "name": "stdout",
     "output_type": "stream",
     "text": [
      "341.5723528402773\n",
      "341.5723528402773\n"
     ]
    },
    {
     "name": "stderr",
     "output_type": "stream",
     "text": [
      "\u001b[A\n",
      " 10%|█         | 50/485 [00:07<01:04,  6.74it/s]"
     ]
    },
    {
     "name": "stdout",
     "output_type": "stream",
     "text": [
      "342.1361127773466\n",
      "342.1361127773466\n"
     ]
    },
    {
     "name": "stderr",
     "output_type": "stream",
     "text": [
      "\u001b[A\n",
      " 11%|█         | 51/485 [00:07<01:04,  6.70it/s]"
     ]
    },
    {
     "name": "stdout",
     "output_type": "stream",
     "text": [
      "342.67462734371566\n",
      "342.67462734371566\n"
     ]
    },
    {
     "name": "stderr",
     "output_type": "stream",
     "text": [
      "\u001b[A\n",
      " 11%|█         | 52/485 [00:07<01:03,  6.87it/s]"
     ]
    },
    {
     "name": "stdout",
     "output_type": "stream",
     "text": [
      "342.0105455900598\n",
      "342.0105455900598\n"
     ]
    },
    {
     "name": "stderr",
     "output_type": "stream",
     "text": [
      "\u001b[A\n",
      " 11%|█         | 53/485 [00:07<01:03,  6.83it/s]"
     ]
    },
    {
     "name": "stdout",
     "output_type": "stream",
     "text": [
      "341.7085563634091\n",
      "341.7085563634091\n"
     ]
    },
    {
     "name": "stderr",
     "output_type": "stream",
     "text": [
      "\u001b[A\n",
      " 11%|█         | 54/485 [00:08<01:04,  6.64it/s]"
     ]
    },
    {
     "name": "stdout",
     "output_type": "stream",
     "text": [
      "341.7640868019721\n",
      "341.7640868019721\n"
     ]
    },
    {
     "name": "stderr",
     "output_type": "stream",
     "text": [
      "\u001b[A\n",
      " 11%|█▏        | 55/485 [00:08<01:03,  6.72it/s]"
     ]
    },
    {
     "name": "stdout",
     "output_type": "stream",
     "text": [
      "342.0699211344586\n",
      "342.0699211344586\n"
     ]
    },
    {
     "name": "stderr",
     "output_type": "stream",
     "text": [
      "\u001b[A\n",
      " 12%|█▏        | 56/485 [00:08<01:03,  6.74it/s]"
     ]
    },
    {
     "name": "stdout",
     "output_type": "stream",
     "text": [
      "343.3035378149939\n",
      "343.3035378149939\n"
     ]
    },
    {
     "name": "stderr",
     "output_type": "stream",
     "text": [
      "\u001b[A\n",
      " 12%|█▏        | 57/485 [00:08<01:05,  6.55it/s]"
     ]
    },
    {
     "name": "stdout",
     "output_type": "stream",
     "text": [
      "343.34395934814165\n",
      "343.34395934814165\n"
     ]
    },
    {
     "name": "stderr",
     "output_type": "stream",
     "text": [
      "\u001b[A\n",
      " 12%|█▏        | 58/485 [00:08<01:04,  6.63it/s]"
     ]
    },
    {
     "name": "stdout",
     "output_type": "stream",
     "text": [
      "344.4623284028298\n",
      "344.4623284028298\n"
     ]
    },
    {
     "name": "stderr",
     "output_type": "stream",
     "text": [
      "\u001b[A\n",
      " 12%|█▏        | 59/485 [00:08<01:03,  6.73it/s]"
     ]
    },
    {
     "name": "stdout",
     "output_type": "stream",
     "text": [
      "345.0231675317377\n",
      "345.0231675317377\n"
     ]
    },
    {
     "name": "stderr",
     "output_type": "stream",
     "text": [
      "\u001b[A\n",
      " 12%|█▏        | 60/485 [00:08<01:02,  6.76it/s]"
     ]
    },
    {
     "name": "stdout",
     "output_type": "stream",
     "text": [
      "344.79346062522427\n",
      "344.79346062522427\n"
     ]
    },
    {
     "name": "stderr",
     "output_type": "stream",
     "text": [
      "\u001b[A\n",
      " 13%|█▎        | 61/485 [00:09<01:03,  6.64it/s]"
     ]
    },
    {
     "name": "stdout",
     "output_type": "stream",
     "text": [
      "344.80154863203234\n",
      "344.80154863203234\n"
     ]
    },
    {
     "name": "stderr",
     "output_type": "stream",
     "text": [
      "\u001b[A\n",
      " 13%|█▎        | 62/485 [00:09<01:04,  6.51it/s]"
     ]
    },
    {
     "name": "stdout",
     "output_type": "stream",
     "text": [
      "344.08491967568534\n",
      "344.08491967568534\n"
     ]
    },
    {
     "name": "stderr",
     "output_type": "stream",
     "text": [
      "\u001b[A\n",
      " 13%|█▎        | 63/485 [00:09<01:05,  6.45it/s]"
     ]
    },
    {
     "name": "stdout",
     "output_type": "stream",
     "text": [
      "342.30173773033675\n",
      "342.30173773033675\n"
     ]
    },
    {
     "name": "stderr",
     "output_type": "stream",
     "text": [
      "\u001b[A\n",
      " 13%|█▎        | 64/485 [00:09<01:03,  6.66it/s]"
     ]
    },
    {
     "name": "stdout",
     "output_type": "stream",
     "text": [
      "342.30173773033675\n",
      "342.30173773033675\n"
     ]
    },
    {
     "name": "stderr",
     "output_type": "stream",
     "text": [
      "\u001b[A\n",
      " 13%|█▎        | 65/485 [00:09<01:02,  6.73it/s]"
     ]
    },
    {
     "name": "stdout",
     "output_type": "stream",
     "text": [
      "342.30173773033675\n",
      "342.30173773033675\n"
     ]
    },
    {
     "name": "stderr",
     "output_type": "stream",
     "text": [
      "\u001b[A\n",
      " 14%|█▎        | 66/485 [00:09<01:03,  6.60it/s]"
     ]
    },
    {
     "name": "stdout",
     "output_type": "stream",
     "text": [
      "342.30173773033675\n",
      "342.30173773033675\n"
     ]
    },
    {
     "name": "stderr",
     "output_type": "stream",
     "text": [
      "\u001b[A\n",
      " 14%|█▍        | 67/485 [00:09<01:03,  6.63it/s]"
     ]
    },
    {
     "name": "stdout",
     "output_type": "stream",
     "text": [
      "342.30173773033675\n",
      "342.30173773033675\n"
     ]
    },
    {
     "name": "stderr",
     "output_type": "stream",
     "text": [
      "\u001b[A\n",
      " 14%|█▍        | 68/485 [00:10<01:03,  6.55it/s]"
     ]
    },
    {
     "name": "stdout",
     "output_type": "stream",
     "text": [
      "342.30173773033675\n",
      "342.30173773033675\n"
     ]
    },
    {
     "name": "stderr",
     "output_type": "stream",
     "text": [
      "\u001b[A\n",
      " 14%|█▍        | 69/485 [00:10<01:03,  6.55it/s]"
     ]
    },
    {
     "name": "stdout",
     "output_type": "stream",
     "text": [
      "342.30173773033675\n",
      "342.30173773033675\n"
     ]
    },
    {
     "name": "stderr",
     "output_type": "stream",
     "text": [
      "\u001b[A\n",
      " 14%|█▍        | 70/485 [00:10<01:03,  6.50it/s]"
     ]
    },
    {
     "name": "stdout",
     "output_type": "stream",
     "text": [
      "342.30173773033675\n",
      "342.30173773033675\n"
     ]
    },
    {
     "name": "stderr",
     "output_type": "stream",
     "text": [
      "\u001b[A\n",
      " 15%|█▍        | 71/485 [00:10<01:02,  6.59it/s]"
     ]
    },
    {
     "name": "stdout",
     "output_type": "stream",
     "text": [
      "342.30173773033675\n",
      "342.30173773033675\n"
     ]
    },
    {
     "name": "stderr",
     "output_type": "stream",
     "text": [
      "\u001b[A\n",
      " 15%|█▍        | 72/485 [00:10<01:02,  6.65it/s]"
     ]
    },
    {
     "name": "stdout",
     "output_type": "stream",
     "text": [
      "341.63187906380335\n",
      "341.63187906380335\n"
     ]
    },
    {
     "name": "stderr",
     "output_type": "stream",
     "text": [
      "\u001b[A\n",
      " 15%|█▌        | 73/485 [00:10<01:01,  6.70it/s]"
     ]
    },
    {
     "name": "stdout",
     "output_type": "stream",
     "text": [
      "340.22880663881824\n",
      "340.22880663881824\n"
     ]
    },
    {
     "name": "stderr",
     "output_type": "stream",
     "text": [
      "\u001b[A\n",
      " 15%|█▌        | 74/485 [00:11<01:01,  6.67it/s]"
     ]
    },
    {
     "name": "stdout",
     "output_type": "stream",
     "text": [
      "340.36628903887095\n",
      "340.36628903887095\n"
     ]
    },
    {
     "name": "stderr",
     "output_type": "stream",
     "text": [
      "\u001b[A\n",
      " 15%|█▌        | 75/485 [00:11<01:01,  6.62it/s]"
     ]
    },
    {
     "name": "stdout",
     "output_type": "stream",
     "text": [
      "339.79582163432406\n",
      "339.79582163432406\n"
     ]
    },
    {
     "name": "stderr",
     "output_type": "stream",
     "text": [
      "\u001b[A\n",
      " 16%|█▌        | 76/485 [00:11<01:01,  6.64it/s]"
     ]
    },
    {
     "name": "stdout",
     "output_type": "stream",
     "text": [
      "341.7913350419508\n",
      "341.7913350419508\n"
     ]
    },
    {
     "name": "stderr",
     "output_type": "stream",
     "text": [
      "\u001b[A\n",
      " 16%|█▌        | 77/485 [00:11<01:03,  6.42it/s]"
     ]
    },
    {
     "name": "stdout",
     "output_type": "stream",
     "text": [
      "342.8724668713453\n",
      "342.8724668713453\n"
     ]
    },
    {
     "name": "stderr",
     "output_type": "stream",
     "text": [
      "\u001b[A\n",
      " 16%|█▌        | 78/485 [00:11<01:02,  6.49it/s]"
     ]
    },
    {
     "name": "stdout",
     "output_type": "stream",
     "text": [
      "348.21879548033576\n",
      "348.21879548033576\n"
     ]
    },
    {
     "name": "stderr",
     "output_type": "stream",
     "text": [
      "\u001b[A\n",
      " 16%|█▋        | 79/485 [00:11<01:01,  6.63it/s]"
     ]
    },
    {
     "name": "stdout",
     "output_type": "stream",
     "text": [
      "346.9576097204217\n",
      "346.9576097204217\n"
     ]
    },
    {
     "name": "stderr",
     "output_type": "stream",
     "text": [
      "\u001b[A\n",
      " 16%|█▋        | 80/485 [00:11<00:59,  6.76it/s]"
     ]
    },
    {
     "name": "stdout",
     "output_type": "stream",
     "text": [
      "346.6279831674483\n",
      "346.6279831674483\n"
     ]
    },
    {
     "name": "stderr",
     "output_type": "stream",
     "text": [
      "\u001b[A\n",
      " 17%|█▋        | 81/485 [00:12<01:02,  6.50it/s]"
     ]
    },
    {
     "name": "stdout",
     "output_type": "stream",
     "text": [
      "344.8853926113529\n",
      "344.8853926113529\n"
     ]
    },
    {
     "name": "stderr",
     "output_type": "stream",
     "text": [
      "\u001b[A\n",
      " 17%|█▋        | 82/485 [00:12<01:00,  6.63it/s]"
     ]
    },
    {
     "name": "stdout",
     "output_type": "stream",
     "text": [
      "343.90162112883263\n",
      "343.90162112883263\n"
     ]
    },
    {
     "name": "stderr",
     "output_type": "stream",
     "text": [
      "\u001b[A\n",
      " 17%|█▋        | 83/485 [00:12<00:58,  6.85it/s]"
     ]
    },
    {
     "name": "stdout",
     "output_type": "stream",
     "text": [
      "343.17651371050306\n",
      "343.17651371050306\n"
     ]
    },
    {
     "name": "stderr",
     "output_type": "stream",
     "text": [
      "\u001b[A\n",
      " 17%|█▋        | 84/485 [00:12<00:58,  6.91it/s]"
     ]
    },
    {
     "name": "stdout",
     "output_type": "stream",
     "text": [
      "343.1472860349022\n",
      "343.1472860349022\n"
     ]
    },
    {
     "name": "stderr",
     "output_type": "stream",
     "text": [
      "\u001b[A\n",
      " 18%|█▊        | 85/485 [00:12<00:58,  6.88it/s]"
     ]
    },
    {
     "name": "stdout",
     "output_type": "stream",
     "text": [
      "343.1472860349022\n",
      "343.1472860349022\n"
     ]
    },
    {
     "name": "stderr",
     "output_type": "stream",
     "text": [
      "\u001b[A\n",
      " 18%|█▊        | 86/485 [00:12<00:59,  6.70it/s]"
     ]
    },
    {
     "name": "stdout",
     "output_type": "stream",
     "text": [
      "343.1472860349022\n",
      "343.1472860349022\n"
     ]
    },
    {
     "name": "stderr",
     "output_type": "stream",
     "text": [
      "\u001b[A\n",
      " 18%|█▊        | 87/485 [00:12<01:00,  6.60it/s]"
     ]
    },
    {
     "name": "stdout",
     "output_type": "stream",
     "text": [
      "344.32669200210285\n",
      "344.32669200210285\n"
     ]
    },
    {
     "name": "stderr",
     "output_type": "stream",
     "text": [
      "\u001b[A\n",
      " 18%|█▊        | 88/485 [00:13<01:01,  6.49it/s]"
     ]
    },
    {
     "name": "stdout",
     "output_type": "stream",
     "text": [
      "344.3661003529196\n",
      "344.3661003529196\n"
     ]
    },
    {
     "name": "stderr",
     "output_type": "stream",
     "text": [
      "\u001b[A\n",
      " 18%|█▊        | 89/485 [00:13<01:00,  6.52it/s]"
     ]
    },
    {
     "name": "stdout",
     "output_type": "stream",
     "text": [
      "348.3156369749072\n",
      "348.3156369749072\n"
     ]
    },
    {
     "name": "stderr",
     "output_type": "stream",
     "text": [
      "\u001b[A\n",
      " 19%|█▊        | 90/485 [00:13<01:01,  6.39it/s]"
     ]
    },
    {
     "name": "stdout",
     "output_type": "stream",
     "text": [
      "348.3481461395954\n",
      "348.3481461395954\n"
     ]
    },
    {
     "name": "stderr",
     "output_type": "stream",
     "text": [
      "\u001b[A\n",
      " 19%|█▉        | 91/485 [00:13<01:00,  6.52it/s]"
     ]
    },
    {
     "name": "stdout",
     "output_type": "stream",
     "text": [
      "355.630979910351\n",
      "355.630979910351\n"
     ]
    },
    {
     "name": "stderr",
     "output_type": "stream",
     "text": [
      "\u001b[A\n",
      " 19%|█▉        | 92/485 [00:13<00:59,  6.64it/s]"
     ]
    },
    {
     "name": "stdout",
     "output_type": "stream",
     "text": [
      "338.7315996633265\n",
      "338.7315996633265\n"
     ]
    },
    {
     "name": "stderr",
     "output_type": "stream",
     "text": [
      "\u001b[A\n",
      " 19%|█▉        | 93/485 [00:13<01:00,  6.53it/s]"
     ]
    },
    {
     "name": "stdout",
     "output_type": "stream",
     "text": [
      "343.57236928737984\n",
      "343.57236928737984\n"
     ]
    },
    {
     "name": "stderr",
     "output_type": "stream",
     "text": [
      "\u001b[A\n",
      " 19%|█▉        | 94/485 [00:14<01:00,  6.47it/s]"
     ]
    },
    {
     "name": "stdout",
     "output_type": "stream",
     "text": [
      "343.6519227195736\n",
      "343.6519227195736\n"
     ]
    },
    {
     "name": "stderr",
     "output_type": "stream",
     "text": [
      "\u001b[A\n",
      " 20%|█▉        | 95/485 [00:14<00:59,  6.60it/s]"
     ]
    },
    {
     "name": "stdout",
     "output_type": "stream",
     "text": [
      "344.26306361357047\n",
      "344.26306361357047\n"
     ]
    },
    {
     "name": "stderr",
     "output_type": "stream",
     "text": [
      "\u001b[A\n",
      " 20%|█▉        | 96/485 [00:14<00:58,  6.66it/s]"
     ]
    },
    {
     "name": "stdout",
     "output_type": "stream",
     "text": [
      "344.5958776480106\n",
      "344.5958776480106\n"
     ]
    },
    {
     "name": "stderr",
     "output_type": "stream",
     "text": [
      "\u001b[A\n",
      " 20%|██        | 97/485 [00:14<00:58,  6.67it/s]"
     ]
    },
    {
     "name": "stdout",
     "output_type": "stream",
     "text": [
      "345.8739788913608\n",
      "345.8739788913608\n"
     ]
    },
    {
     "name": "stderr",
     "output_type": "stream",
     "text": [
      "\u001b[A\n",
      " 20%|██        | 98/485 [00:14<00:58,  6.57it/s]"
     ]
    },
    {
     "name": "stdout",
     "output_type": "stream",
     "text": [
      "346.82809168663425\n",
      "346.82809168663425\n"
     ]
    },
    {
     "name": "stderr",
     "output_type": "stream",
     "text": [
      "\u001b[A\n",
      " 20%|██        | 99/485 [00:14<00:59,  6.52it/s]"
     ]
    },
    {
     "name": "stdout",
     "output_type": "stream",
     "text": [
      "347.73476955026354\n",
      "347.73476955026354\n"
     ]
    },
    {
     "name": "stderr",
     "output_type": "stream",
     "text": [
      "\u001b[A\n",
      " 21%|██        | 100/485 [00:14<00:58,  6.53it/s]"
     ]
    },
    {
     "name": "stdout",
     "output_type": "stream",
     "text": [
      "347.82802597796854\n",
      "347.82802597796854\n"
     ]
    },
    {
     "name": "stderr",
     "output_type": "stream",
     "text": [
      "\u001b[A\n",
      " 21%|██        | 101/485 [00:15<00:58,  6.52it/s]"
     ]
    },
    {
     "name": "stdout",
     "output_type": "stream",
     "text": [
      "348.52190381462196\n",
      "348.52190381462196\n"
     ]
    },
    {
     "name": "stderr",
     "output_type": "stream",
     "text": [
      "\u001b[A\n",
      " 21%|██        | 102/485 [00:15<00:59,  6.45it/s]"
     ]
    },
    {
     "name": "stdout",
     "output_type": "stream",
     "text": [
      "348.5245540902979\n",
      "348.5245540902979\n"
     ]
    },
    {
     "name": "stderr",
     "output_type": "stream",
     "text": [
      "\u001b[A\n",
      " 21%|██        | 103/485 [00:15<00:58,  6.51it/s]"
     ]
    },
    {
     "name": "stdout",
     "output_type": "stream",
     "text": [
      "349.67970814215914\n",
      "349.67970814215914\n"
     ]
    },
    {
     "name": "stderr",
     "output_type": "stream",
     "text": [
      "\u001b[A\n",
      " 21%|██▏       | 104/485 [00:15<00:58,  6.54it/s]"
     ]
    },
    {
     "name": "stdout",
     "output_type": "stream",
     "text": [
      "349.389420377177\n",
      "349.389420377177\n"
     ]
    },
    {
     "name": "stderr",
     "output_type": "stream",
     "text": [
      "\u001b[A\n",
      " 22%|██▏       | 105/485 [00:15<00:59,  6.38it/s]"
     ]
    },
    {
     "name": "stdout",
     "output_type": "stream",
     "text": [
      "349.9615235443821\n",
      "349.9615235443821\n"
     ]
    },
    {
     "name": "stderr",
     "output_type": "stream",
     "text": [
      "\u001b[A\n",
      " 22%|██▏       | 106/485 [00:15<00:57,  6.54it/s]"
     ]
    },
    {
     "name": "stdout",
     "output_type": "stream",
     "text": [
      "349.5306819054131\n",
      "349.5306819054131\n"
     ]
    },
    {
     "name": "stderr",
     "output_type": "stream",
     "text": [
      "\u001b[A\n",
      " 22%|██▏       | 107/485 [00:16<00:57,  6.61it/s]"
     ]
    },
    {
     "name": "stdout",
     "output_type": "stream",
     "text": [
      "350.78446488469035\n",
      "350.78446488469035\n"
     ]
    },
    {
     "name": "stderr",
     "output_type": "stream",
     "text": [
      "\u001b[A\n",
      " 22%|██▏       | 108/485 [00:16<00:55,  6.74it/s]"
     ]
    },
    {
     "name": "stdout",
     "output_type": "stream",
     "text": [
      "351.20174729505015\n",
      "351.20174729505015\n"
     ]
    },
    {
     "name": "stderr",
     "output_type": "stream",
     "text": [
      "\u001b[A\n",
      " 22%|██▏       | 109/485 [00:16<00:57,  6.54it/s]"
     ]
    },
    {
     "name": "stdout",
     "output_type": "stream",
     "text": [
      "351.7647504625061\n",
      "351.7647504625061\n"
     ]
    },
    {
     "name": "stderr",
     "output_type": "stream",
     "text": [
      "\u001b[A\n",
      " 23%|██▎       | 110/485 [00:16<00:57,  6.50it/s]"
     ]
    },
    {
     "name": "stdout",
     "output_type": "stream",
     "text": [
      "352.4246472284931\n",
      "352.4246472284931\n"
     ]
    },
    {
     "name": "stderr",
     "output_type": "stream",
     "text": [
      "\u001b[A\n",
      " 23%|██▎       | 111/485 [00:16<00:57,  6.53it/s]"
     ]
    },
    {
     "name": "stdout",
     "output_type": "stream",
     "text": [
      "354.1956379827061\n",
      "354.1956379827061\n"
     ]
    },
    {
     "name": "stderr",
     "output_type": "stream",
     "text": [
      "\u001b[A\n",
      " 23%|██▎       | 112/485 [00:16<00:57,  6.52it/s]"
     ]
    },
    {
     "name": "stdout",
     "output_type": "stream",
     "text": [
      "355.3825958141838\n",
      "355.3825958141838\n"
     ]
    },
    {
     "name": "stderr",
     "output_type": "stream",
     "text": [
      "\u001b[A\n",
      " 23%|██▎       | 113/485 [00:16<00:57,  6.52it/s]"
     ]
    },
    {
     "name": "stdout",
     "output_type": "stream",
     "text": [
      "356.6616445213631\n",
      "356.6616445213631\n"
     ]
    },
    {
     "name": "stderr",
     "output_type": "stream",
     "text": [
      "\u001b[A\n",
      " 24%|██▎       | 114/485 [00:17<00:56,  6.60it/s]"
     ]
    },
    {
     "name": "stdout",
     "output_type": "stream",
     "text": [
      "357.6652057001934\n",
      "357.6652057001934\n"
     ]
    },
    {
     "name": "stderr",
     "output_type": "stream",
     "text": [
      "\u001b[A\n",
      " 24%|██▎       | 115/485 [00:17<00:57,  6.48it/s]"
     ]
    },
    {
     "name": "stdout",
     "output_type": "stream",
     "text": [
      "356.25708004641865\n",
      "356.25708004641865\n"
     ]
    },
    {
     "name": "stderr",
     "output_type": "stream",
     "text": [
      "\u001b[A\n",
      " 24%|██▍       | 116/485 [00:17<00:56,  6.54it/s]"
     ]
    },
    {
     "name": "stdout",
     "output_type": "stream",
     "text": [
      "356.14739910666503\n",
      "356.14739910666503\n"
     ]
    },
    {
     "name": "stderr",
     "output_type": "stream",
     "text": [
      "\u001b[A\n",
      " 24%|██▍       | 117/485 [00:17<00:57,  6.44it/s]"
     ]
    },
    {
     "name": "stdout",
     "output_type": "stream",
     "text": [
      "355.72219822641136\n",
      "355.72219822641136\n"
     ]
    },
    {
     "name": "stderr",
     "output_type": "stream",
     "text": [
      "\u001b[A\n",
      " 24%|██▍       | 118/485 [00:17<00:55,  6.58it/s]"
     ]
    },
    {
     "name": "stdout",
     "output_type": "stream",
     "text": [
      "356.1323196811527\n",
      "356.1323196811527\n"
     ]
    },
    {
     "name": "stderr",
     "output_type": "stream",
     "text": [
      "\u001b[A\n",
      " 25%|██▍       | 119/485 [00:17<00:56,  6.50it/s]"
     ]
    },
    {
     "name": "stdout",
     "output_type": "stream",
     "text": [
      "356.30625333544504\n",
      "356.30625333544504\n"
     ]
    },
    {
     "name": "stderr",
     "output_type": "stream",
     "text": [
      "\u001b[A\n",
      " 25%|██▍       | 120/485 [00:18<00:56,  6.51it/s]"
     ]
    },
    {
     "name": "stdout",
     "output_type": "stream",
     "text": [
      "355.76208353209086\n",
      "355.76208353209086\n"
     ]
    },
    {
     "name": "stderr",
     "output_type": "stream",
     "text": [
      "\u001b[A\n",
      " 25%|██▍       | 121/485 [00:18<00:55,  6.60it/s]"
     ]
    },
    {
     "name": "stdout",
     "output_type": "stream",
     "text": [
      "354.43516394818016\n",
      "354.43516394818016\n"
     ]
    },
    {
     "name": "stderr",
     "output_type": "stream",
     "text": [
      "\u001b[A\n",
      " 25%|██▌       | 122/485 [00:18<00:53,  6.85it/s]"
     ]
    },
    {
     "name": "stdout",
     "output_type": "stream",
     "text": [
      "353.33580557047344\n",
      "353.33580557047344\n"
     ]
    },
    {
     "name": "stderr",
     "output_type": "stream",
     "text": [
      "\u001b[A\n",
      " 25%|██▌       | 123/485 [00:18<00:53,  6.75it/s]"
     ]
    },
    {
     "name": "stdout",
     "output_type": "stream",
     "text": [
      "350.75364245101355\n",
      "350.75364245101355\n"
     ]
    },
    {
     "name": "stderr",
     "output_type": "stream",
     "text": [
      "\u001b[A\n",
      " 26%|██▌       | 124/485 [00:18<00:55,  6.51it/s]"
     ]
    },
    {
     "name": "stdout",
     "output_type": "stream",
     "text": [
      "348.6351010338294\n",
      "348.6351010338294\n"
     ]
    },
    {
     "name": "stderr",
     "output_type": "stream",
     "text": [
      "\u001b[A\n",
      " 26%|██▌       | 125/485 [00:18<00:55,  6.49it/s]"
     ]
    },
    {
     "name": "stdout",
     "output_type": "stream",
     "text": [
      "347.1117221832196\n",
      "347.1117221832196\n"
     ]
    },
    {
     "name": "stderr",
     "output_type": "stream",
     "text": [
      "\u001b[A\n",
      " 26%|██▌       | 126/485 [00:18<00:53,  6.74it/s]"
     ]
    },
    {
     "name": "stdout",
     "output_type": "stream",
     "text": [
      "343.98789665386175\n",
      "343.98789665386175\n"
     ]
    },
    {
     "name": "stderr",
     "output_type": "stream",
     "text": [
      "\u001b[A\n",
      " 26%|██▌       | 127/485 [00:19<00:52,  6.76it/s]"
     ]
    },
    {
     "name": "stdout",
     "output_type": "stream",
     "text": [
      "343.98789665386175\n",
      "343.98789665386175\n"
     ]
    },
    {
     "name": "stderr",
     "output_type": "stream",
     "text": [
      "\u001b[A\n",
      " 26%|██▋       | 128/485 [00:19<00:53,  6.68it/s]"
     ]
    },
    {
     "name": "stdout",
     "output_type": "stream",
     "text": [
      "343.98789665386175\n",
      "343.98789665386175\n"
     ]
    },
    {
     "name": "stderr",
     "output_type": "stream",
     "text": [
      "\u001b[A\n",
      " 27%|██▋       | 129/485 [00:19<00:52,  6.73it/s]"
     ]
    },
    {
     "name": "stdout",
     "output_type": "stream",
     "text": [
      "343.98789665386175\n",
      "343.98789665386175\n"
     ]
    },
    {
     "name": "stderr",
     "output_type": "stream",
     "text": [
      "\u001b[A\n",
      " 27%|██▋       | 130/485 [00:19<00:52,  6.75it/s]"
     ]
    },
    {
     "name": "stdout",
     "output_type": "stream",
     "text": [
      "343.98789665386175\n",
      "343.98789665386175\n"
     ]
    },
    {
     "name": "stderr",
     "output_type": "stream",
     "text": [
      "\u001b[A\n",
      " 27%|██▋       | 131/485 [00:19<00:52,  6.72it/s]"
     ]
    },
    {
     "name": "stdout",
     "output_type": "stream",
     "text": [
      "343.98789665386175\n",
      "343.98789665386175\n"
     ]
    },
    {
     "name": "stderr",
     "output_type": "stream",
     "text": [
      "\u001b[A\n",
      " 27%|██▋       | 132/485 [00:19<00:52,  6.76it/s]"
     ]
    },
    {
     "name": "stdout",
     "output_type": "stream",
     "text": [
      "343.98789665386175\n",
      "343.98789665386175\n"
     ]
    },
    {
     "name": "stderr",
     "output_type": "stream",
     "text": [
      "\u001b[A\n",
      " 27%|██▋       | 133/485 [00:19<00:52,  6.70it/s]"
     ]
    },
    {
     "name": "stdout",
     "output_type": "stream",
     "text": [
      "343.98789665386175\n",
      "343.98789665386175\n"
     ]
    },
    {
     "name": "stderr",
     "output_type": "stream",
     "text": [
      "\u001b[A\n",
      " 28%|██▊       | 134/485 [00:20<00:52,  6.69it/s]"
     ]
    },
    {
     "name": "stdout",
     "output_type": "stream",
     "text": [
      "343.98789665386175\n",
      "343.98789665386175\n"
     ]
    },
    {
     "name": "stderr",
     "output_type": "stream",
     "text": [
      "\u001b[A\n",
      " 28%|██▊       | 135/485 [00:20<00:52,  6.71it/s]"
     ]
    },
    {
     "name": "stdout",
     "output_type": "stream",
     "text": [
      "343.98789665386175\n",
      "343.98789665386175\n"
     ]
    },
    {
     "name": "stderr",
     "output_type": "stream",
     "text": [
      "\u001b[A\n",
      " 28%|██▊       | 136/485 [00:20<00:51,  6.78it/s]"
     ]
    },
    {
     "name": "stdout",
     "output_type": "stream",
     "text": [
      "343.3588291937558\n",
      "343.3588291937558\n"
     ]
    },
    {
     "name": "stderr",
     "output_type": "stream",
     "text": [
      "\u001b[A\n",
      " 28%|██▊       | 137/485 [00:20<00:50,  6.82it/s]"
     ]
    },
    {
     "name": "stdout",
     "output_type": "stream",
     "text": [
      "344.93609227973684\n",
      "344.93609227973684\n"
     ]
    },
    {
     "name": "stderr",
     "output_type": "stream",
     "text": [
      "\u001b[A\n",
      " 28%|██▊       | 138/485 [00:20<00:50,  6.87it/s]"
     ]
    },
    {
     "name": "stdout",
     "output_type": "stream",
     "text": [
      "341.8934674056659\n",
      "341.8934674056659\n"
     ]
    },
    {
     "name": "stderr",
     "output_type": "stream",
     "text": [
      "\u001b[A\n",
      " 29%|██▊       | 139/485 [00:20<00:50,  6.90it/s]"
     ]
    },
    {
     "name": "stdout",
     "output_type": "stream",
     "text": [
      "344.53993423119164\n",
      "344.53993423119164\n"
     ]
    },
    {
     "name": "stderr",
     "output_type": "stream",
     "text": [
      "\u001b[A\n",
      " 29%|██▉       | 140/485 [00:20<00:49,  6.90it/s]"
     ]
    },
    {
     "name": "stdout",
     "output_type": "stream",
     "text": [
      "343.1853867227419\n",
      "343.1853867227419\n"
     ]
    },
    {
     "name": "stderr",
     "output_type": "stream",
     "text": [
      "\u001b[A\n",
      " 29%|██▉       | 141/485 [00:21<00:49,  6.90it/s]"
     ]
    },
    {
     "name": "stdout",
     "output_type": "stream",
     "text": [
      "352.5424605296321\n",
      "352.5424605296321\n"
     ]
    },
    {
     "name": "stderr",
     "output_type": "stream",
     "text": [
      "\u001b[A\n",
      " 29%|██▉       | 142/485 [00:21<00:49,  6.90it/s]"
     ]
    },
    {
     "name": "stdout",
     "output_type": "stream",
     "text": [
      "351.104165468937\n",
      "351.104165468937\n"
     ]
    },
    {
     "name": "stderr",
     "output_type": "stream",
     "text": [
      "\u001b[A\n",
      " 29%|██▉       | 143/485 [00:21<00:49,  6.89it/s]"
     ]
    },
    {
     "name": "stdout",
     "output_type": "stream",
     "text": [
      "357.5463454283549\n",
      "357.5463454283549\n"
     ]
    },
    {
     "name": "stderr",
     "output_type": "stream",
     "text": [
      "\u001b[A\n",
      " 30%|██▉       | 144/485 [00:21<00:49,  6.94it/s]"
     ]
    },
    {
     "name": "stdout",
     "output_type": "stream",
     "text": [
      "341.20201930895473\n",
      "341.20201930895473\n"
     ]
    },
    {
     "name": "stderr",
     "output_type": "stream",
     "text": [
      "\u001b[A\n",
      " 30%|██▉       | 145/485 [00:21<00:48,  6.97it/s]"
     ]
    },
    {
     "name": "stdout",
     "output_type": "stream",
     "text": [
      "352.36616047074085\n",
      "352.36616047074085\n"
     ]
    },
    {
     "name": "stderr",
     "output_type": "stream",
     "text": [
      "\u001b[A\n",
      " 30%|███       | 146/485 [00:21<00:48,  7.00it/s]"
     ]
    },
    {
     "name": "stdout",
     "output_type": "stream",
     "text": [
      "351.33862423665096\n",
      "351.33862423665096\n"
     ]
    },
    {
     "name": "stderr",
     "output_type": "stream",
     "text": [
      "\u001b[A\n",
      " 30%|███       | 147/485 [00:21<00:48,  7.01it/s]"
     ]
    },
    {
     "name": "stdout",
     "output_type": "stream",
     "text": [
      "353.41819483253585\n",
      "353.41819483253585\n"
     ]
    },
    {
     "name": "stderr",
     "output_type": "stream",
     "text": [
      "\u001b[A\n",
      " 31%|███       | 148/485 [00:22<00:47,  7.03it/s]"
     ]
    },
    {
     "name": "stdout",
     "output_type": "stream",
     "text": [
      "356.7418446991678\n",
      "356.7418446991678\n"
     ]
    },
    {
     "name": "stderr",
     "output_type": "stream",
     "text": [
      "\u001b[A\n",
      " 31%|███       | 149/485 [00:22<00:48,  6.91it/s]"
     ]
    },
    {
     "name": "stdout",
     "output_type": "stream",
     "text": [
      "357.1887616322715\n",
      "357.1887616322715\n"
     ]
    },
    {
     "name": "stderr",
     "output_type": "stream",
     "text": [
      "\u001b[A\n",
      " 31%|███       | 150/485 [00:22<00:48,  6.91it/s]"
     ]
    },
    {
     "name": "stdout",
     "output_type": "stream",
     "text": [
      "357.26748882455377\n",
      "357.26748882455377\n"
     ]
    },
    {
     "name": "stderr",
     "output_type": "stream",
     "text": [
      "\u001b[A\n",
      " 31%|███       | 151/485 [00:22<00:48,  6.92it/s]"
     ]
    },
    {
     "name": "stdout",
     "output_type": "stream",
     "text": [
      "355.55629570158044\n",
      "355.55629570158044\n"
     ]
    },
    {
     "name": "stderr",
     "output_type": "stream",
     "text": [
      "\u001b[A\n",
      " 31%|███▏      | 152/485 [00:22<00:47,  6.99it/s]"
     ]
    },
    {
     "name": "stdout",
     "output_type": "stream",
     "text": [
      "355.72374552546717\n",
      "355.72374552546717\n"
     ]
    },
    {
     "name": "stderr",
     "output_type": "stream",
     "text": [
      "\u001b[A\n",
      " 32%|███▏      | 153/485 [00:22<00:47,  7.02it/s]"
     ]
    },
    {
     "name": "stdout",
     "output_type": "stream",
     "text": [
      "354.7441749188897\n",
      "354.7441749188897\n"
     ]
    },
    {
     "name": "stderr",
     "output_type": "stream",
     "text": [
      "\u001b[A\n",
      " 32%|███▏      | 154/485 [00:22<00:46,  7.08it/s]"
     ]
    },
    {
     "name": "stdout",
     "output_type": "stream",
     "text": [
      "352.13044837258985\n",
      "352.13044837258985\n"
     ]
    },
    {
     "name": "stderr",
     "output_type": "stream",
     "text": [
      "\u001b[A\n",
      " 32%|███▏      | 155/485 [00:23<00:45,  7.18it/s]"
     ]
    },
    {
     "name": "stdout",
     "output_type": "stream",
     "text": [
      "349.38898005809597\n",
      "349.38898005809597\n"
     ]
    },
    {
     "name": "stderr",
     "output_type": "stream",
     "text": [
      "\u001b[A\n",
      " 32%|███▏      | 156/485 [00:23<00:45,  7.19it/s]"
     ]
    },
    {
     "name": "stdout",
     "output_type": "stream",
     "text": [
      "347.2026055219021\n",
      "347.2026055219021\n"
     ]
    },
    {
     "name": "stderr",
     "output_type": "stream",
     "text": [
      "\u001b[A\n",
      " 32%|███▏      | 157/485 [00:23<00:45,  7.17it/s]"
     ]
    },
    {
     "name": "stdout",
     "output_type": "stream",
     "text": [
      "346.0253759629777\n",
      "346.0253759629777\n"
     ]
    },
    {
     "name": "stderr",
     "output_type": "stream",
     "text": [
      "\u001b[A\n",
      " 33%|███▎      | 158/485 [00:23<00:45,  7.13it/s]"
     ]
    },
    {
     "name": "stdout",
     "output_type": "stream",
     "text": [
      "346.9828791000914\n",
      "346.9828791000914\n"
     ]
    },
    {
     "name": "stderr",
     "output_type": "stream",
     "text": [
      "\u001b[A\n",
      " 33%|███▎      | 159/485 [00:23<00:45,  7.12it/s]"
     ]
    },
    {
     "name": "stdout",
     "output_type": "stream",
     "text": [
      "348.560455736701\n",
      "348.560455736701\n"
     ]
    },
    {
     "name": "stderr",
     "output_type": "stream",
     "text": [
      "\u001b[A\n",
      " 33%|███▎      | 160/485 [00:23<00:45,  7.15it/s]"
     ]
    },
    {
     "name": "stdout",
     "output_type": "stream",
     "text": [
      "351.46812318881166\n",
      "351.46812318881166\n"
     ]
    },
    {
     "name": "stderr",
     "output_type": "stream",
     "text": [
      "\u001b[A\n",
      " 33%|███▎      | 161/485 [00:23<00:45,  7.07it/s]"
     ]
    },
    {
     "name": "stdout",
     "output_type": "stream",
     "text": [
      "357.00226188511715\n",
      "357.00226188511715\n"
     ]
    },
    {
     "name": "stderr",
     "output_type": "stream",
     "text": [
      "\u001b[A\n",
      " 33%|███▎      | 162/485 [00:24<00:45,  7.17it/s]"
     ]
    },
    {
     "name": "stdout",
     "output_type": "stream",
     "text": [
      "351.7387117785629\n",
      "351.7387117785629\n"
     ]
    },
    {
     "name": "stderr",
     "output_type": "stream",
     "text": [
      "\u001b[A\n",
      " 34%|███▎      | 163/485 [00:24<00:44,  7.18it/s]"
     ]
    },
    {
     "name": "stdout",
     "output_type": "stream",
     "text": [
      "7.568405781539241\n",
      "7.568405781539241\n"
     ]
    },
    {
     "name": "stderr",
     "output_type": "stream",
     "text": [
      "\u001b[A\n",
      " 34%|███▍      | 164/485 [00:24<00:44,  7.16it/s]"
     ]
    },
    {
     "name": "stdout",
     "output_type": "stream",
     "text": [
      "10.982960849557458\n",
      "10.982960849557458\n"
     ]
    },
    {
     "name": "stderr",
     "output_type": "stream",
     "text": [
      "\u001b[A\n",
      " 34%|███▍      | 165/485 [00:24<00:45,  7.08it/s]"
     ]
    },
    {
     "name": "stdout",
     "output_type": "stream",
     "text": [
      "13.133754446515923\n",
      "13.133754446515923\n"
     ]
    },
    {
     "name": "stderr",
     "output_type": "stream",
     "text": [
      "\u001b[A\n",
      " 34%|███▍      | 166/485 [00:24<00:45,  7.07it/s]"
     ]
    },
    {
     "name": "stdout",
     "output_type": "stream",
     "text": [
      "11.731434657924183\n",
      "11.731434657924183\n"
     ]
    },
    {
     "name": "stderr",
     "output_type": "stream",
     "text": [
      "\u001b[A\n",
      " 34%|███▍      | 167/485 [00:24<00:44,  7.14it/s]"
     ]
    },
    {
     "name": "stdout",
     "output_type": "stream",
     "text": [
      "11.53676094595312\n",
      "11.53676094595312\n"
     ]
    },
    {
     "name": "stderr",
     "output_type": "stream",
     "text": [
      "\u001b[A\n",
      " 35%|███▍      | 168/485 [00:24<00:44,  7.15it/s]"
     ]
    },
    {
     "name": "stdout",
     "output_type": "stream",
     "text": [
      "11.189146677976623\n",
      "11.189146677976623\n"
     ]
    },
    {
     "name": "stderr",
     "output_type": "stream",
     "text": [
      "\u001b[A\n",
      " 35%|███▍      | 169/485 [00:25<00:44,  7.17it/s]"
     ]
    },
    {
     "name": "stdout",
     "output_type": "stream",
     "text": [
      "343.3209769250452\n",
      "343.3209769250452\n"
     ]
    },
    {
     "name": "stderr",
     "output_type": "stream",
     "text": [
      "\u001b[A\n",
      " 35%|███▌      | 170/485 [00:25<00:43,  7.19it/s]"
     ]
    },
    {
     "name": "stdout",
     "output_type": "stream",
     "text": [
      "344.58493400551924\n",
      "344.58493400551924\n"
     ]
    },
    {
     "name": "stderr",
     "output_type": "stream",
     "text": [
      "\u001b[A\n",
      " 35%|███▌      | 171/485 [00:25<00:43,  7.24it/s]"
     ]
    },
    {
     "name": "stdout",
     "output_type": "stream",
     "text": [
      "350.7133210077245\n",
      "350.7133210077245\n"
     ]
    },
    {
     "name": "stderr",
     "output_type": "stream",
     "text": [
      "\u001b[A\n",
      " 35%|███▌      | 172/485 [00:25<00:43,  7.18it/s]"
     ]
    },
    {
     "name": "stdout",
     "output_type": "stream",
     "text": [
      "353.2691143371658\n",
      "353.2691143371658\n"
     ]
    },
    {
     "name": "stderr",
     "output_type": "stream",
     "text": [
      "\u001b[A\n",
      " 36%|███▌      | 173/485 [00:25<00:44,  7.07it/s]"
     ]
    },
    {
     "name": "stdout",
     "output_type": "stream",
     "text": [
      "344.5807603999551\n",
      "344.5807603999551\n"
     ]
    },
    {
     "name": "stderr",
     "output_type": "stream",
     "text": [
      "\u001b[A\n",
      " 36%|███▌      | 174/485 [00:25<00:43,  7.10it/s]"
     ]
    },
    {
     "name": "stdout",
     "output_type": "stream",
     "text": [
      "341.9492516171226\n",
      "341.9492516171226\n"
     ]
    },
    {
     "name": "stderr",
     "output_type": "stream",
     "text": [
      "\u001b[A\n",
      " 36%|███▌      | 175/485 [00:25<00:44,  7.00it/s]"
     ]
    },
    {
     "name": "stdout",
     "output_type": "stream",
     "text": [
      "339.71860103094923\n",
      "339.71860103094923\n"
     ]
    },
    {
     "name": "stderr",
     "output_type": "stream",
     "text": [
      "\u001b[A\n",
      " 36%|███▋      | 176/485 [00:26<00:44,  6.96it/s]"
     ]
    },
    {
     "name": "stdout",
     "output_type": "stream",
     "text": [
      "339.07683124527966\n",
      "339.07683124527966\n"
     ]
    },
    {
     "name": "stderr",
     "output_type": "stream",
     "text": [
      "\u001b[A\n",
      " 36%|███▋      | 177/485 [00:26<00:46,  6.65it/s]"
     ]
    },
    {
     "name": "stdout",
     "output_type": "stream",
     "text": [
      "338.3693356869853\n",
      "338.3693356869853\n"
     ]
    },
    {
     "name": "stderr",
     "output_type": "stream",
     "text": [
      "\u001b[A\n",
      " 37%|███▋      | 178/485 [00:26<00:46,  6.62it/s]"
     ]
    },
    {
     "name": "stdout",
     "output_type": "stream",
     "text": [
      "339.38234878279127\n",
      "339.38234878279127\n"
     ]
    },
    {
     "name": "stderr",
     "output_type": "stream",
     "text": [
      "\u001b[A\n",
      " 37%|███▋      | 179/485 [00:26<00:45,  6.69it/s]"
     ]
    },
    {
     "name": "stdout",
     "output_type": "stream",
     "text": [
      "341.20850134973307\n",
      "341.20850134973307\n"
     ]
    },
    {
     "name": "stderr",
     "output_type": "stream",
     "text": [
      "\u001b[A\n",
      " 37%|███▋      | 180/485 [00:26<00:45,  6.75it/s]"
     ]
    },
    {
     "name": "stdout",
     "output_type": "stream",
     "text": [
      "345.26924675690907\n",
      "345.26924675690907\n"
     ]
    },
    {
     "name": "stderr",
     "output_type": "stream",
     "text": [
      "\u001b[A\n",
      " 37%|███▋      | 181/485 [00:26<00:45,  6.65it/s]"
     ]
    },
    {
     "name": "stdout",
     "output_type": "stream",
     "text": [
      "348.73785482393396\n",
      "348.73785482393396\n"
     ]
    },
    {
     "name": "stderr",
     "output_type": "stream",
     "text": [
      "\u001b[A\n",
      " 38%|███▊      | 182/485 [00:26<00:44,  6.75it/s]"
     ]
    },
    {
     "name": "stdout",
     "output_type": "stream",
     "text": [
      "354.26042193757894\n",
      "354.26042193757894\n"
     ]
    },
    {
     "name": "stderr",
     "output_type": "stream",
     "text": [
      "\u001b[A\n",
      " 38%|███▊      | 183/485 [00:27<00:44,  6.78it/s]"
     ]
    },
    {
     "name": "stdout",
     "output_type": "stream",
     "text": [
      "356.7882934845652\n",
      "356.7882934845652\n"
     ]
    },
    {
     "name": "stderr",
     "output_type": "stream",
     "text": [
      "\u001b[A\n",
      " 38%|███▊      | 184/485 [00:27<00:45,  6.66it/s]"
     ]
    },
    {
     "name": "stdout",
     "output_type": "stream",
     "text": [
      "353.6613386956842\n",
      "353.6613386956842\n"
     ]
    },
    {
     "name": "stderr",
     "output_type": "stream",
     "text": [
      "\u001b[A\n",
      " 38%|███▊      | 185/485 [00:27<00:46,  6.48it/s]"
     ]
    },
    {
     "name": "stdout",
     "output_type": "stream",
     "text": [
      "354.4154709203149\n",
      "354.4154709203149\n"
     ]
    },
    {
     "name": "stderr",
     "output_type": "stream",
     "text": [
      "\u001b[A\n",
      " 38%|███▊      | 186/485 [00:27<00:46,  6.42it/s]"
     ]
    },
    {
     "name": "stdout",
     "output_type": "stream",
     "text": [
      "358.10938261226966\n",
      "358.10938261226966\n"
     ]
    },
    {
     "name": "stderr",
     "output_type": "stream",
     "text": [
      "\u001b[A\n",
      " 39%|███▊      | 187/485 [00:27<00:46,  6.38it/s]"
     ]
    },
    {
     "name": "stdout",
     "output_type": "stream",
     "text": [
      "350.3544664336732\n",
      "350.3544664336732\n"
     ]
    },
    {
     "name": "stderr",
     "output_type": "stream",
     "text": [
      "\u001b[A\n",
      " 39%|███▉      | 188/485 [00:27<00:47,  6.29it/s]"
     ]
    },
    {
     "name": "stdout",
     "output_type": "stream",
     "text": [
      "350.0225728145083\n",
      "350.0225728145083\n"
     ]
    },
    {
     "name": "stderr",
     "output_type": "stream",
     "text": [
      "\u001b[A\n",
      " 39%|███▉      | 189/485 [00:28<00:45,  6.47it/s]"
     ]
    },
    {
     "name": "stdout",
     "output_type": "stream",
     "text": [
      "349.1428176804202\n",
      "349.1428176804202\n"
     ]
    },
    {
     "name": "stderr",
     "output_type": "stream",
     "text": [
      "\u001b[A\n",
      " 39%|███▉      | 190/485 [00:28<00:45,  6.51it/s]"
     ]
    },
    {
     "name": "stdout",
     "output_type": "stream",
     "text": [
      "349.2417138517758\n",
      "349.2417138517758\n"
     ]
    },
    {
     "name": "stderr",
     "output_type": "stream",
     "text": [
      "\u001b[A\n",
      " 39%|███▉      | 191/485 [00:28<00:45,  6.49it/s]"
     ]
    },
    {
     "name": "stdout",
     "output_type": "stream",
     "text": [
      "348.67687724577854\n",
      "348.67687724577854\n"
     ]
    },
    {
     "name": "stderr",
     "output_type": "stream",
     "text": [
      "\u001b[A\n",
      " 40%|███▉      | 192/485 [00:28<00:46,  6.31it/s]"
     ]
    },
    {
     "name": "stdout",
     "output_type": "stream",
     "text": [
      "349.2711935598527\n",
      "349.2711935598527\n"
     ]
    },
    {
     "name": "stderr",
     "output_type": "stream",
     "text": [
      "\u001b[A\n",
      " 40%|███▉      | 193/485 [00:28<00:45,  6.38it/s]"
     ]
    },
    {
     "name": "stdout",
     "output_type": "stream",
     "text": [
      "348.73810833690914\n",
      "348.73810833690914\n"
     ]
    },
    {
     "name": "stderr",
     "output_type": "stream",
     "text": [
      "\u001b[A\n",
      " 40%|████      | 194/485 [00:28<00:44,  6.58it/s]"
     ]
    },
    {
     "name": "stdout",
     "output_type": "stream",
     "text": [
      "349.0859689791014\n",
      "349.0859689791014\n"
     ]
    },
    {
     "name": "stderr",
     "output_type": "stream",
     "text": [
      "\u001b[A\n",
      " 40%|████      | 195/485 [00:28<00:43,  6.72it/s]"
     ]
    },
    {
     "name": "stdout",
     "output_type": "stream",
     "text": [
      "348.3823537068847\n",
      "348.3823537068847\n"
     ]
    },
    {
     "name": "stderr",
     "output_type": "stream",
     "text": [
      "\u001b[A\n",
      " 40%|████      | 196/485 [00:29<00:42,  6.74it/s]"
     ]
    },
    {
     "name": "stdout",
     "output_type": "stream",
     "text": [
      "348.21033471842475\n",
      "348.21033471842475\n"
     ]
    },
    {
     "name": "stderr",
     "output_type": "stream",
     "text": [
      "\u001b[A\n",
      " 41%|████      | 197/485 [00:29<00:42,  6.75it/s]"
     ]
    },
    {
     "name": "stdout",
     "output_type": "stream",
     "text": [
      "348.50942824578397\n",
      "348.50942824578397\n"
     ]
    },
    {
     "name": "stderr",
     "output_type": "stream",
     "text": [
      "\u001b[A\n",
      " 41%|████      | 198/485 [00:29<00:42,  6.73it/s]"
     ]
    },
    {
     "name": "stdout",
     "output_type": "stream",
     "text": [
      "348.6420889053866\n",
      "348.6420889053866\n"
     ]
    },
    {
     "name": "stderr",
     "output_type": "stream",
     "text": [
      "\u001b[A\n",
      " 41%|████      | 199/485 [00:29<00:41,  6.84it/s]"
     ]
    },
    {
     "name": "stdout",
     "output_type": "stream",
     "text": [
      "349.33871949502554\n",
      "349.33871949502554\n"
     ]
    },
    {
     "name": "stderr",
     "output_type": "stream",
     "text": [
      "\u001b[A\n",
      " 41%|████      | 200/485 [00:29<00:41,  6.87it/s]"
     ]
    },
    {
     "name": "stdout",
     "output_type": "stream",
     "text": [
      "349.49342326487067\n",
      "349.49342326487067\n"
     ]
    },
    {
     "name": "stderr",
     "output_type": "stream",
     "text": [
      "\u001b[A\n",
      " 41%|████▏     | 201/485 [00:29<00:40,  6.99it/s]"
     ]
    },
    {
     "name": "stdout",
     "output_type": "stream",
     "text": [
      "349.6844444386088\n",
      "349.6844444386088\n"
     ]
    },
    {
     "name": "stderr",
     "output_type": "stream",
     "text": [
      "\u001b[A\n",
      " 42%|████▏     | 202/485 [00:29<00:40,  7.00it/s]"
     ]
    },
    {
     "name": "stdout",
     "output_type": "stream",
     "text": [
      "350.0761766149185\n",
      "350.0761766149185\n"
     ]
    },
    {
     "name": "stderr",
     "output_type": "stream",
     "text": [
      "\u001b[A\n",
      " 42%|████▏     | 203/485 [00:30<00:40,  6.93it/s]"
     ]
    },
    {
     "name": "stdout",
     "output_type": "stream",
     "text": [
      "349.69513342689834\n",
      "349.69513342689834\n"
     ]
    },
    {
     "name": "stderr",
     "output_type": "stream",
     "text": [
      "\u001b[A\n",
      " 42%|████▏     | 204/485 [00:30<00:41,  6.74it/s]"
     ]
    },
    {
     "name": "stdout",
     "output_type": "stream",
     "text": [
      "349.40984727050864\n",
      "349.40984727050864\n"
     ]
    },
    {
     "name": "stderr",
     "output_type": "stream",
     "text": [
      "\u001b[A\n",
      " 42%|████▏     | 205/485 [00:30<00:41,  6.81it/s]"
     ]
    },
    {
     "name": "stdout",
     "output_type": "stream",
     "text": [
      "349.4238501743939\n",
      "349.4238501743939\n"
     ]
    },
    {
     "name": "stderr",
     "output_type": "stream",
     "text": [
      "\u001b[A\n",
      " 42%|████▏     | 206/485 [00:30<00:40,  6.85it/s]"
     ]
    },
    {
     "name": "stdout",
     "output_type": "stream",
     "text": [
      "349.45280934073935\n",
      "349.45280934073935\n"
     ]
    },
    {
     "name": "stderr",
     "output_type": "stream",
     "text": [
      "\u001b[A\n",
      " 43%|████▎     | 207/485 [00:30<00:41,  6.73it/s]"
     ]
    },
    {
     "name": "stdout",
     "output_type": "stream",
     "text": [
      "349.96634047067937\n",
      "349.96634047067937\n"
     ]
    },
    {
     "name": "stderr",
     "output_type": "stream",
     "text": [
      "\u001b[A\n",
      " 43%|████▎     | 208/485 [00:30<00:41,  6.66it/s]"
     ]
    },
    {
     "name": "stdout",
     "output_type": "stream",
     "text": [
      "349.20677095688507\n",
      "349.20677095688507\n"
     ]
    },
    {
     "name": "stderr",
     "output_type": "stream",
     "text": [
      "\u001b[A\n",
      " 43%|████▎     | 209/485 [00:31<00:40,  6.85it/s]"
     ]
    },
    {
     "name": "stdout",
     "output_type": "stream",
     "text": [
      "349.4826581297971\n",
      "349.4826581297971\n"
     ]
    },
    {
     "name": "stderr",
     "output_type": "stream",
     "text": [
      "\u001b[A\n",
      " 43%|████▎     | 210/485 [00:31<00:40,  6.77it/s]"
     ]
    },
    {
     "name": "stdout",
     "output_type": "stream",
     "text": [
      "349.31885875504804\n",
      "349.31885875504804\n"
     ]
    },
    {
     "name": "stderr",
     "output_type": "stream",
     "text": [
      "\u001b[A\n",
      " 44%|████▎     | 211/485 [00:31<00:41,  6.63it/s]"
     ]
    },
    {
     "name": "stdout",
     "output_type": "stream",
     "text": [
      "349.7829193283924\n",
      "349.7829193283924\n"
     ]
    },
    {
     "name": "stderr",
     "output_type": "stream",
     "text": [
      "\u001b[A\n",
      " 44%|████▎     | 212/485 [00:31<00:41,  6.60it/s]"
     ]
    },
    {
     "name": "stdout",
     "output_type": "stream",
     "text": [
      "349.0772510292386\n",
      "349.0772510292386\n"
     ]
    },
    {
     "name": "stderr",
     "output_type": "stream",
     "text": [
      "\u001b[A\n",
      " 44%|████▍     | 213/485 [00:31<00:40,  6.72it/s]"
     ]
    },
    {
     "name": "stdout",
     "output_type": "stream",
     "text": [
      "349.1634637022944\n",
      "349.1634637022944\n"
     ]
    },
    {
     "name": "stderr",
     "output_type": "stream",
     "text": [
      "\u001b[A\n",
      " 44%|████▍     | 214/485 [00:31<00:40,  6.73it/s]"
     ]
    },
    {
     "name": "stdout",
     "output_type": "stream",
     "text": [
      "348.1732223830468\n",
      "348.1732223830468\n"
     ]
    },
    {
     "name": "stderr",
     "output_type": "stream",
     "text": [
      "\u001b[A\n",
      " 44%|████▍     | 215/485 [00:31<00:40,  6.60it/s]"
     ]
    },
    {
     "name": "stdout",
     "output_type": "stream",
     "text": [
      "348.3363241241009\n",
      "348.3363241241009\n"
     ]
    },
    {
     "name": "stderr",
     "output_type": "stream",
     "text": [
      "\u001b[A\n",
      " 45%|████▍     | 216/485 [00:32<00:41,  6.55it/s]"
     ]
    },
    {
     "name": "stdout",
     "output_type": "stream",
     "text": [
      "347.104428871708\n",
      "347.104428871708\n"
     ]
    },
    {
     "name": "stderr",
     "output_type": "stream",
     "text": [
      "\u001b[A\n",
      " 45%|████▍     | 217/485 [00:32<00:40,  6.69it/s]"
     ]
    },
    {
     "name": "stdout",
     "output_type": "stream",
     "text": [
      "346.52817038750254\n",
      "346.52817038750254\n"
     ]
    },
    {
     "name": "stderr",
     "output_type": "stream",
     "text": [
      "\u001b[A\n",
      " 45%|████▍     | 218/485 [00:32<00:40,  6.58it/s]"
     ]
    },
    {
     "name": "stdout",
     "output_type": "stream",
     "text": [
      "345.9208935088195\n",
      "345.9208935088195\n"
     ]
    },
    {
     "name": "stderr",
     "output_type": "stream",
     "text": [
      "\u001b[A\n",
      " 45%|████▌     | 219/485 [00:32<00:40,  6.65it/s]"
     ]
    },
    {
     "name": "stdout",
     "output_type": "stream",
     "text": [
      "346.23196492365605\n",
      "346.23196492365605\n"
     ]
    },
    {
     "name": "stderr",
     "output_type": "stream",
     "text": [
      "\u001b[A\n",
      " 45%|████▌     | 220/485 [00:32<00:40,  6.50it/s]"
     ]
    },
    {
     "name": "stdout",
     "output_type": "stream",
     "text": [
      "346.37875629747805\n",
      "346.37875629747805\n"
     ]
    },
    {
     "name": "stderr",
     "output_type": "stream",
     "text": [
      "\u001b[A\n",
      " 46%|████▌     | 221/485 [00:32<00:40,  6.44it/s]"
     ]
    },
    {
     "name": "stdout",
     "output_type": "stream",
     "text": [
      "347.0650200980085\n",
      "347.0650200980085\n"
     ]
    },
    {
     "name": "stderr",
     "output_type": "stream",
     "text": [
      "\u001b[A\n",
      " 46%|████▌     | 222/485 [00:33<00:41,  6.37it/s]"
     ]
    },
    {
     "name": "stdout",
     "output_type": "stream",
     "text": [
      "346.8237112864135\n",
      "346.8237112864135\n"
     ]
    },
    {
     "name": "stderr",
     "output_type": "stream",
     "text": [
      "\u001b[A\n",
      " 46%|████▌     | 223/485 [00:33<00:40,  6.53it/s]"
     ]
    },
    {
     "name": "stdout",
     "output_type": "stream",
     "text": [
      "347.349178305838\n",
      "347.349178305838\n"
     ]
    },
    {
     "name": "stderr",
     "output_type": "stream",
     "text": [
      "\u001b[A\n",
      " 46%|████▌     | 224/485 [00:33<00:39,  6.58it/s]"
     ]
    },
    {
     "name": "stdout",
     "output_type": "stream",
     "text": [
      "347.44737444864086\n",
      "347.44737444864086\n"
     ]
    },
    {
     "name": "stderr",
     "output_type": "stream",
     "text": [
      "\u001b[A\n",
      " 46%|████▋     | 225/485 [00:33<00:39,  6.66it/s]"
     ]
    },
    {
     "name": "stdout",
     "output_type": "stream",
     "text": [
      "348.90474852491707\n",
      "348.90474852491707\n"
     ]
    },
    {
     "name": "stderr",
     "output_type": "stream",
     "text": [
      "\u001b[A\n",
      " 47%|████▋     | 226/485 [00:33<00:39,  6.59it/s]"
     ]
    },
    {
     "name": "stdout",
     "output_type": "stream",
     "text": [
      "349.11670320407893\n",
      "349.11670320407893\n"
     ]
    },
    {
     "name": "stderr",
     "output_type": "stream",
     "text": [
      "\u001b[A\n",
      " 47%|████▋     | 227/485 [00:33<00:39,  6.54it/s]"
     ]
    },
    {
     "name": "stdout",
     "output_type": "stream",
     "text": [
      "349.1606854004167\n",
      "349.1606854004167\n"
     ]
    },
    {
     "name": "stderr",
     "output_type": "stream",
     "text": [
      "\u001b[A\n",
      " 47%|████▋     | 228/485 [00:33<00:39,  6.44it/s]"
     ]
    },
    {
     "name": "stdout",
     "output_type": "stream",
     "text": [
      "348.36486886153034\n",
      "348.36486886153034\n"
     ]
    },
    {
     "name": "stderr",
     "output_type": "stream",
     "text": [
      "\u001b[A\n",
      " 47%|████▋     | 229/485 [00:34<00:38,  6.57it/s]"
     ]
    },
    {
     "name": "stdout",
     "output_type": "stream",
     "text": [
      "347.5524794439875\n",
      "347.5524794439875\n"
     ]
    },
    {
     "name": "stderr",
     "output_type": "stream",
     "text": [
      "\u001b[A\n",
      " 47%|████▋     | 230/485 [00:34<00:38,  6.64it/s]"
     ]
    },
    {
     "name": "stdout",
     "output_type": "stream",
     "text": [
      "347.1290490242909\n",
      "347.1290490242909\n"
     ]
    },
    {
     "name": "stderr",
     "output_type": "stream",
     "text": [
      "\u001b[A\n",
      " 48%|████▊     | 231/485 [00:34<00:37,  6.75it/s]"
     ]
    },
    {
     "name": "stdout",
     "output_type": "stream",
     "text": [
      "346.3125867514427\n",
      "346.3125867514427\n"
     ]
    },
    {
     "name": "stderr",
     "output_type": "stream",
     "text": [
      "\u001b[A\n",
      " 48%|████▊     | 232/485 [00:34<00:38,  6.50it/s]"
     ]
    },
    {
     "name": "stdout",
     "output_type": "stream",
     "text": [
      "345.3119487906165\n",
      "345.3119487906165\n"
     ]
    },
    {
     "name": "stderr",
     "output_type": "stream",
     "text": [
      "\u001b[A\n",
      " 48%|████▊     | 233/485 [00:34<00:38,  6.55it/s]"
     ]
    },
    {
     "name": "stdout",
     "output_type": "stream",
     "text": [
      "345.3156894360068\n",
      "345.3156894360068\n"
     ]
    },
    {
     "name": "stderr",
     "output_type": "stream",
     "text": [
      "\u001b[A\n",
      " 48%|████▊     | 234/485 [00:34<00:39,  6.42it/s]"
     ]
    },
    {
     "name": "stdout",
     "output_type": "stream",
     "text": [
      "345.6672420569307\n",
      "345.6672420569307\n"
     ]
    },
    {
     "name": "stderr",
     "output_type": "stream",
     "text": [
      "\u001b[A\n",
      " 48%|████▊     | 235/485 [00:35<00:38,  6.53it/s]"
     ]
    },
    {
     "name": "stdout",
     "output_type": "stream",
     "text": [
      "345.30258774105823\n",
      "345.30258774105823\n"
     ]
    },
    {
     "name": "stderr",
     "output_type": "stream",
     "text": [
      "\u001b[A\n",
      " 49%|████▊     | 236/485 [00:35<00:38,  6.52it/s]"
     ]
    },
    {
     "name": "stdout",
     "output_type": "stream",
     "text": [
      "346.05621139239474\n",
      "346.05621139239474\n"
     ]
    },
    {
     "name": "stderr",
     "output_type": "stream",
     "text": [
      "\u001b[A\n",
      " 49%|████▉     | 237/485 [00:35<00:38,  6.44it/s]"
     ]
    },
    {
     "name": "stdout",
     "output_type": "stream",
     "text": [
      "346.4480953206248\n",
      "346.4480953206248\n"
     ]
    },
    {
     "name": "stderr",
     "output_type": "stream",
     "text": [
      "\u001b[A\n",
      " 49%|████▉     | 238/485 [00:35<00:38,  6.35it/s]"
     ]
    },
    {
     "name": "stdout",
     "output_type": "stream",
     "text": [
      "346.8952021853688\n",
      "346.8952021853688\n"
     ]
    },
    {
     "name": "stderr",
     "output_type": "stream",
     "text": [
      "\u001b[A\n",
      " 49%|████▉     | 239/485 [00:35<00:37,  6.49it/s]"
     ]
    },
    {
     "name": "stdout",
     "output_type": "stream",
     "text": [
      "346.41293928454934\n",
      "346.41293928454934\n"
     ]
    },
    {
     "name": "stderr",
     "output_type": "stream",
     "text": [
      "\u001b[A\n",
      " 49%|████▉     | 240/485 [00:35<00:38,  6.42it/s]"
     ]
    },
    {
     "name": "stdout",
     "output_type": "stream",
     "text": [
      "346.7958908823148\n",
      "346.7958908823148\n"
     ]
    },
    {
     "name": "stderr",
     "output_type": "stream",
     "text": [
      "\u001b[A\n",
      " 50%|████▉     | 241/485 [00:35<00:38,  6.34it/s]"
     ]
    },
    {
     "name": "stdout",
     "output_type": "stream",
     "text": [
      "346.3157732965992\n",
      "346.3157732965992\n"
     ]
    },
    {
     "name": "stderr",
     "output_type": "stream",
     "text": [
      "\u001b[A"
     ]
    },
    {
     "name": "stdout",
     "output_type": "stream",
     "text": [
      "346.96616409812805\n",
      "346.96616409812805\n"
     ]
    },
    {
     "name": "stderr",
     "output_type": "stream",
     "text": [
      "\n",
      " 50%|████▉     | 242/485 [00:36<00:39,  6.21it/s]\u001b[A\n",
      " 50%|█████     | 243/485 [00:36<00:38,  6.31it/s]"
     ]
    },
    {
     "name": "stdout",
     "output_type": "stream",
     "text": [
      "346.85394078776244\n",
      "346.85394078776244\n"
     ]
    },
    {
     "name": "stderr",
     "output_type": "stream",
     "text": [
      "\u001b[A\n",
      " 50%|█████     | 244/485 [00:36<00:38,  6.30it/s]"
     ]
    },
    {
     "name": "stdout",
     "output_type": "stream",
     "text": [
      "347.37736794326383\n",
      "347.37736794326383\n"
     ]
    },
    {
     "name": "stderr",
     "output_type": "stream",
     "text": [
      "\u001b[A\n",
      " 51%|█████     | 245/485 [00:36<00:37,  6.40it/s]"
     ]
    },
    {
     "name": "stdout",
     "output_type": "stream",
     "text": [
      "347.29672598064553\n",
      "347.29672598064553\n"
     ]
    },
    {
     "name": "stderr",
     "output_type": "stream",
     "text": [
      "\u001b[A\n",
      " 51%|█████     | 246/485 [00:36<00:37,  6.39it/s]"
     ]
    },
    {
     "name": "stdout",
     "output_type": "stream",
     "text": [
      "347.92054677036094\n",
      "347.92054677036094\n"
     ]
    },
    {
     "name": "stderr",
     "output_type": "stream",
     "text": [
      "\u001b[A\n",
      " 51%|█████     | 247/485 [00:36<00:37,  6.29it/s]"
     ]
    },
    {
     "name": "stdout",
     "output_type": "stream",
     "text": [
      "349.2437609552758\n",
      "349.2437609552758\n"
     ]
    },
    {
     "name": "stderr",
     "output_type": "stream",
     "text": [
      "\u001b[A\n",
      " 51%|█████     | 248/485 [00:37<00:36,  6.42it/s]"
     ]
    },
    {
     "name": "stdout",
     "output_type": "stream",
     "text": [
      "350.6469934774382\n",
      "350.6469934774382\n"
     ]
    },
    {
     "name": "stderr",
     "output_type": "stream",
     "text": [
      "\u001b[A\n",
      " 51%|█████▏    | 249/485 [00:37<00:36,  6.46it/s]"
     ]
    },
    {
     "name": "stdout",
     "output_type": "stream",
     "text": [
      "351.8118968439544\n",
      "351.8118968439544\n"
     ]
    },
    {
     "name": "stderr",
     "output_type": "stream",
     "text": [
      "\u001b[A\n",
      " 52%|█████▏    | 250/485 [00:37<00:36,  6.50it/s]"
     ]
    },
    {
     "name": "stdout",
     "output_type": "stream",
     "text": [
      "352.56781019409846\n",
      "352.56781019409846\n"
     ]
    },
    {
     "name": "stderr",
     "output_type": "stream",
     "text": [
      "\u001b[A\n",
      " 52%|█████▏    | 251/485 [00:37<00:35,  6.54it/s]"
     ]
    },
    {
     "name": "stdout",
     "output_type": "stream",
     "text": [
      "353.30804358038677\n",
      "353.30804358038677\n"
     ]
    },
    {
     "name": "stderr",
     "output_type": "stream",
     "text": [
      "\u001b[A\n",
      " 52%|█████▏    | 252/485 [00:37<00:35,  6.61it/s]"
     ]
    },
    {
     "name": "stdout",
     "output_type": "stream",
     "text": [
      "353.31955700996014\n",
      "353.31955700996014\n"
     ]
    },
    {
     "name": "stderr",
     "output_type": "stream",
     "text": [
      "\u001b[A\n",
      " 52%|█████▏    | 253/485 [00:37<00:34,  6.64it/s]"
     ]
    },
    {
     "name": "stdout",
     "output_type": "stream",
     "text": [
      "352.6201725646115\n",
      "352.6201725646115\n"
     ]
    },
    {
     "name": "stderr",
     "output_type": "stream",
     "text": [
      "\u001b[A\n",
      " 52%|█████▏    | 254/485 [00:37<00:35,  6.42it/s]"
     ]
    },
    {
     "name": "stdout",
     "output_type": "stream",
     "text": [
      "352.3346533837689\n",
      "352.3346533837689\n"
     ]
    },
    {
     "name": "stderr",
     "output_type": "stream",
     "text": [
      "\u001b[A\n",
      " 53%|█████▎    | 255/485 [00:38<00:35,  6.52it/s]"
     ]
    },
    {
     "name": "stdout",
     "output_type": "stream",
     "text": [
      "351.3580538158358\n",
      "351.3580538158358\n"
     ]
    },
    {
     "name": "stderr",
     "output_type": "stream",
     "text": [
      "\u001b[A\n",
      " 53%|█████▎    | 256/485 [00:38<00:35,  6.48it/s]"
     ]
    },
    {
     "name": "stdout",
     "output_type": "stream",
     "text": [
      "350.91103454658287\n",
      "350.91103454658287\n"
     ]
    },
    {
     "name": "stderr",
     "output_type": "stream",
     "text": [
      "\u001b[A\n",
      " 53%|█████▎    | 257/485 [00:38<00:35,  6.39it/s]"
     ]
    },
    {
     "name": "stdout",
     "output_type": "stream",
     "text": [
      "351.09510885793725\n",
      "351.09510885793725\n"
     ]
    },
    {
     "name": "stderr",
     "output_type": "stream",
     "text": [
      "\u001b[A\n",
      " 53%|█████▎    | 258/485 [00:38<00:35,  6.36it/s]"
     ]
    },
    {
     "name": "stdout",
     "output_type": "stream",
     "text": [
      "351.36592863840724\n",
      "351.36592863840724\n"
     ]
    },
    {
     "name": "stderr",
     "output_type": "stream",
     "text": [
      "\u001b[A\n",
      " 53%|█████▎    | 259/485 [00:38<00:35,  6.31it/s]"
     ]
    },
    {
     "name": "stdout",
     "output_type": "stream",
     "text": [
      "350.90800561081596\n",
      "350.90800561081596\n"
     ]
    },
    {
     "name": "stderr",
     "output_type": "stream",
     "text": [
      "\u001b[A\n",
      " 54%|█████▎    | 260/485 [00:38<00:34,  6.47it/s]"
     ]
    },
    {
     "name": "stdout",
     "output_type": "stream",
     "text": [
      "351.57174565093874\n",
      "351.57174565093874\n"
     ]
    },
    {
     "name": "stderr",
     "output_type": "stream",
     "text": [
      "\u001b[A\n",
      " 54%|█████▍    | 261/485 [00:39<00:34,  6.42it/s]"
     ]
    },
    {
     "name": "stdout",
     "output_type": "stream",
     "text": [
      "351.49082537328104\n",
      "351.49082537328104\n"
     ]
    },
    {
     "name": "stderr",
     "output_type": "stream",
     "text": [
      "\u001b[A"
     ]
    },
    {
     "name": "stdout",
     "output_type": "stream",
     "text": [
      "353.43006149056146\n",
      "353.43006149056146\n"
     ]
    },
    {
     "name": "stderr",
     "output_type": "stream",
     "text": [
      "\n",
      " 54%|█████▍    | 262/485 [00:39<00:35,  6.22it/s]\u001b[A"
     ]
    },
    {
     "name": "stdout",
     "output_type": "stream",
     "text": [
      "354.3103891513706\n",
      "354.3103891513706\n"
     ]
    },
    {
     "name": "stderr",
     "output_type": "stream",
     "text": [
      "\n",
      " 54%|█████▍    | 263/485 [00:39<00:35,  6.19it/s]\u001b[A\n",
      " 54%|█████▍    | 264/485 [00:39<00:34,  6.33it/s]"
     ]
    },
    {
     "name": "stdout",
     "output_type": "stream",
     "text": [
      "354.57924767456416\n",
      "354.57924767456416\n"
     ]
    },
    {
     "name": "stderr",
     "output_type": "stream",
     "text": [
      "\u001b[A\n",
      " 55%|█████▍    | 265/485 [00:39<00:34,  6.39it/s]"
     ]
    },
    {
     "name": "stdout",
     "output_type": "stream",
     "text": [
      "353.44402940077225\n",
      "353.44402940077225\n"
     ]
    },
    {
     "name": "stderr",
     "output_type": "stream",
     "text": [
      "\u001b[A\n",
      " 55%|█████▍    | 266/485 [00:39<00:34,  6.40it/s]"
     ]
    },
    {
     "name": "stdout",
     "output_type": "stream",
     "text": [
      "352.7343892115355\n",
      "352.7343892115355\n"
     ]
    },
    {
     "name": "stderr",
     "output_type": "stream",
     "text": [
      "\u001b[A"
     ]
    },
    {
     "name": "stdout",
     "output_type": "stream",
     "text": [
      "350.850595875821\n",
      "350.850595875821\n"
     ]
    },
    {
     "name": "stderr",
     "output_type": "stream",
     "text": [
      "\n",
      " 55%|█████▌    | 267/485 [00:40<00:34,  6.25it/s]\u001b[A\n",
      " 55%|█████▌    | 268/485 [00:40<00:33,  6.39it/s]"
     ]
    },
    {
     "name": "stdout",
     "output_type": "stream",
     "text": [
      "350.77741059239406\n",
      "350.77741059239406\n"
     ]
    },
    {
     "name": "stderr",
     "output_type": "stream",
     "text": [
      "\u001b[A\n",
      " 55%|█████▌    | 269/485 [00:40<00:33,  6.48it/s]"
     ]
    },
    {
     "name": "stdout",
     "output_type": "stream",
     "text": [
      "348.81555587614184\n",
      "348.81555587614184\n"
     ]
    },
    {
     "name": "stderr",
     "output_type": "stream",
     "text": [
      "\u001b[A\n",
      " 56%|█████▌    | 270/485 [00:40<00:33,  6.40it/s]"
     ]
    },
    {
     "name": "stdout",
     "output_type": "stream",
     "text": [
      "346.0690829416135\n",
      "346.0690829416135\n"
     ]
    },
    {
     "name": "stderr",
     "output_type": "stream",
     "text": [
      "\u001b[A\n",
      " 56%|█████▌    | 271/485 [00:40<00:33,  6.34it/s]"
     ]
    },
    {
     "name": "stdout",
     "output_type": "stream",
     "text": [
      "343.8067317908517\n",
      "343.8067317908517\n"
     ]
    },
    {
     "name": "stderr",
     "output_type": "stream",
     "text": [
      "\u001b[A\n",
      " 56%|█████▌    | 272/485 [00:40<00:32,  6.46it/s]"
     ]
    },
    {
     "name": "stdout",
     "output_type": "stream",
     "text": [
      "342.4158798589715\n",
      "342.4158798589715\n"
     ]
    },
    {
     "name": "stderr",
     "output_type": "stream",
     "text": [
      "\u001b[A\n",
      " 56%|█████▋    | 273/485 [00:40<00:32,  6.58it/s]"
     ]
    },
    {
     "name": "stdout",
     "output_type": "stream",
     "text": [
      "341.92177889700633\n",
      "341.92177889700633\n"
     ]
    },
    {
     "name": "stderr",
     "output_type": "stream",
     "text": [
      "\u001b[A\n",
      " 56%|█████▋    | 274/485 [00:41<00:32,  6.56it/s]"
     ]
    },
    {
     "name": "stdout",
     "output_type": "stream",
     "text": [
      "342.2882431164835\n",
      "342.2882431164835\n"
     ]
    },
    {
     "name": "stderr",
     "output_type": "stream",
     "text": [
      "\u001b[A\n",
      " 57%|█████▋    | 275/485 [00:41<00:31,  6.59it/s]"
     ]
    },
    {
     "name": "stdout",
     "output_type": "stream",
     "text": [
      "343.2941787204072\n",
      "343.2941787204072\n"
     ]
    },
    {
     "name": "stderr",
     "output_type": "stream",
     "text": [
      "\u001b[A\n",
      " 57%|█████▋    | 276/485 [00:41<00:32,  6.46it/s]"
     ]
    },
    {
     "name": "stdout",
     "output_type": "stream",
     "text": [
      "344.83279837800364\n",
      "344.83279837800364\n"
     ]
    },
    {
     "name": "stderr",
     "output_type": "stream",
     "text": [
      "\u001b[A\n",
      " 57%|█████▋    | 277/485 [00:41<00:32,  6.43it/s]"
     ]
    },
    {
     "name": "stdout",
     "output_type": "stream",
     "text": [
      "345.98261760548394\n",
      "345.98261760548394\n"
     ]
    },
    {
     "name": "stderr",
     "output_type": "stream",
     "text": [
      "\u001b[A\n",
      " 57%|█████▋    | 278/485 [00:41<00:32,  6.30it/s]"
     ]
    },
    {
     "name": "stdout",
     "output_type": "stream",
     "text": [
      "346.6162616326619\n",
      "346.6162616326619\n"
     ]
    },
    {
     "name": "stderr",
     "output_type": "stream",
     "text": [
      "\u001b[A\n",
      " 58%|█████▊    | 279/485 [00:41<00:32,  6.39it/s]"
     ]
    },
    {
     "name": "stdout",
     "output_type": "stream",
     "text": [
      "346.9081703683073\n",
      "346.9081703683073\n"
     ]
    },
    {
     "name": "stderr",
     "output_type": "stream",
     "text": [
      "\u001b[A\n",
      " 58%|█████▊    | 280/485 [00:42<00:31,  6.52it/s]"
     ]
    },
    {
     "name": "stdout",
     "output_type": "stream",
     "text": [
      "347.2403784360645\n",
      "347.2403784360645\n"
     ]
    },
    {
     "name": "stderr",
     "output_type": "stream",
     "text": [
      "\u001b[A\n",
      " 58%|█████▊    | 281/485 [00:42<00:31,  6.51it/s]"
     ]
    },
    {
     "name": "stdout",
     "output_type": "stream",
     "text": [
      "346.77677802554945\n",
      "346.77677802554945\n"
     ]
    },
    {
     "name": "stderr",
     "output_type": "stream",
     "text": [
      "\u001b[A"
     ]
    },
    {
     "name": "stdout",
     "output_type": "stream",
     "text": [
      "345.8172098256787\n",
      "345.8172098256787\n"
     ]
    },
    {
     "name": "stderr",
     "output_type": "stream",
     "text": [
      "\n",
      " 58%|█████▊    | 282/485 [00:42<00:32,  6.29it/s]\u001b[A\n",
      " 58%|█████▊    | 283/485 [00:42<00:32,  6.27it/s]"
     ]
    },
    {
     "name": "stdout",
     "output_type": "stream",
     "text": [
      "344.9588316631889\n",
      "344.9588316631889\n"
     ]
    },
    {
     "name": "stderr",
     "output_type": "stream",
     "text": [
      "\u001b[A\n",
      " 59%|█████▊    | 284/485 [00:42<00:31,  6.34it/s]"
     ]
    },
    {
     "name": "stdout",
     "output_type": "stream",
     "text": [
      "344.42559849426925\n",
      "344.42559849426925\n"
     ]
    },
    {
     "name": "stderr",
     "output_type": "stream",
     "text": [
      "\u001b[A\n",
      " 59%|█████▉    | 285/485 [00:42<00:31,  6.39it/s]"
     ]
    },
    {
     "name": "stdout",
     "output_type": "stream",
     "text": [
      "344.2734358101766\n",
      "344.2734358101766\n"
     ]
    },
    {
     "name": "stderr",
     "output_type": "stream",
     "text": [
      "\u001b[A\n",
      " 59%|█████▉    | 286/485 [00:42<00:30,  6.49it/s]"
     ]
    },
    {
     "name": "stdout",
     "output_type": "stream",
     "text": [
      "344.3607150931043\n",
      "344.3607150931043\n"
     ]
    },
    {
     "name": "stderr",
     "output_type": "stream",
     "text": [
      "\u001b[A\n",
      " 59%|█████▉    | 287/485 [00:43<00:31,  6.35it/s]"
     ]
    },
    {
     "name": "stdout",
     "output_type": "stream",
     "text": [
      "344.98346077604356\n",
      "344.98346077604356\n"
     ]
    },
    {
     "name": "stderr",
     "output_type": "stream",
     "text": [
      "\u001b[A\n",
      " 59%|█████▉    | 288/485 [00:43<00:31,  6.32it/s]"
     ]
    },
    {
     "name": "stdout",
     "output_type": "stream",
     "text": [
      "345.4223191111355\n",
      "345.4223191111355\n"
     ]
    },
    {
     "name": "stderr",
     "output_type": "stream",
     "text": [
      "\u001b[A\n",
      " 60%|█████▉    | 289/485 [00:43<00:30,  6.43it/s]"
     ]
    },
    {
     "name": "stdout",
     "output_type": "stream",
     "text": [
      "346.5748596263452\n",
      "346.5748596263452\n"
     ]
    },
    {
     "name": "stderr",
     "output_type": "stream",
     "text": [
      "\u001b[A\n",
      " 60%|█████▉    | 290/485 [00:43<00:30,  6.45it/s]"
     ]
    },
    {
     "name": "stdout",
     "output_type": "stream",
     "text": [
      "347.3627938028503\n",
      "347.3627938028503\n"
     ]
    },
    {
     "name": "stderr",
     "output_type": "stream",
     "text": [
      "\u001b[A\n",
      " 60%|██████    | 291/485 [00:43<00:30,  6.33it/s]"
     ]
    },
    {
     "name": "stdout",
     "output_type": "stream",
     "text": [
      "348.3048456729157\n",
      "348.3048456729157\n"
     ]
    },
    {
     "name": "stderr",
     "output_type": "stream",
     "text": [
      "\u001b[A\n",
      " 60%|██████    | 292/485 [00:43<00:30,  6.34it/s]"
     ]
    },
    {
     "name": "stdout",
     "output_type": "stream",
     "text": [
      "348.8767641878826\n",
      "348.8767641878826\n"
     ]
    },
    {
     "name": "stderr",
     "output_type": "stream",
     "text": [
      "\u001b[A\n",
      " 60%|██████    | 293/485 [00:44<00:30,  6.37it/s]"
     ]
    },
    {
     "name": "stdout",
     "output_type": "stream",
     "text": [
      "349.7098898559657\n",
      "349.7098898559657\n"
     ]
    },
    {
     "name": "stderr",
     "output_type": "stream",
     "text": [
      "\u001b[A\n",
      " 61%|██████    | 294/485 [00:44<00:30,  6.23it/s]"
     ]
    },
    {
     "name": "stdout",
     "output_type": "stream",
     "text": [
      "350.32635973508695\n",
      "350.32635973508695\n"
     ]
    },
    {
     "name": "stderr",
     "output_type": "stream",
     "text": [
      "\u001b[A\n",
      " 61%|██████    | 295/485 [00:44<00:30,  6.22it/s]"
     ]
    },
    {
     "name": "stdout",
     "output_type": "stream",
     "text": [
      "350.48869715017236\n",
      "350.48869715017236\n"
     ]
    },
    {
     "name": "stderr",
     "output_type": "stream",
     "text": [
      "\u001b[A\n",
      " 61%|██████    | 296/485 [00:44<00:29,  6.32it/s]"
     ]
    },
    {
     "name": "stdout",
     "output_type": "stream",
     "text": [
      "350.5121430878721\n",
      "350.5121430878721\n"
     ]
    },
    {
     "name": "stderr",
     "output_type": "stream",
     "text": [
      "\u001b[A\n",
      " 61%|██████    | 297/485 [00:44<00:29,  6.35it/s]"
     ]
    },
    {
     "name": "stdout",
     "output_type": "stream",
     "text": [
      "349.6509732417335\n",
      "349.6509732417335\n"
     ]
    },
    {
     "name": "stderr",
     "output_type": "stream",
     "text": [
      "\u001b[A\n",
      " 61%|██████▏   | 298/485 [00:44<00:29,  6.37it/s]"
     ]
    },
    {
     "name": "stdout",
     "output_type": "stream",
     "text": [
      "349.34872804670795\n",
      "349.34872804670795\n"
     ]
    },
    {
     "name": "stderr",
     "output_type": "stream",
     "text": [
      "\u001b[A\n",
      " 62%|██████▏   | 299/485 [00:44<00:28,  6.58it/s]"
     ]
    },
    {
     "name": "stdout",
     "output_type": "stream",
     "text": [
      "348.9118408499671\n",
      "348.9118408499671\n"
     ]
    },
    {
     "name": "stderr",
     "output_type": "stream",
     "text": [
      "\u001b[A\n",
      " 62%|██████▏   | 300/485 [00:45<00:28,  6.60it/s]"
     ]
    },
    {
     "name": "stdout",
     "output_type": "stream",
     "text": [
      "349.0986629356171\n",
      "349.0986629356171\n"
     ]
    },
    {
     "name": "stderr",
     "output_type": "stream",
     "text": [
      "\u001b[A\n",
      " 62%|██████▏   | 301/485 [00:45<00:28,  6.45it/s]"
     ]
    },
    {
     "name": "stdout",
     "output_type": "stream",
     "text": [
      "349.40875143283984\n",
      "349.40875143283984\n"
     ]
    },
    {
     "name": "stderr",
     "output_type": "stream",
     "text": [
      "\u001b[A\n",
      " 62%|██████▏   | 302/485 [00:45<00:28,  6.43it/s]"
     ]
    },
    {
     "name": "stdout",
     "output_type": "stream",
     "text": [
      "350.06227641840815\n",
      "350.06227641840815\n"
     ]
    },
    {
     "name": "stderr",
     "output_type": "stream",
     "text": [
      "\u001b[A\n",
      " 62%|██████▏   | 303/485 [00:45<00:28,  6.45it/s]"
     ]
    },
    {
     "name": "stdout",
     "output_type": "stream",
     "text": [
      "350.8677896770978\n",
      "350.8677896770978\n"
     ]
    },
    {
     "name": "stderr",
     "output_type": "stream",
     "text": [
      "\u001b[A\n",
      " 63%|██████▎   | 304/485 [00:45<00:27,  6.47it/s]"
     ]
    },
    {
     "name": "stdout",
     "output_type": "stream",
     "text": [
      "351.4062224755039\n",
      "351.4062224755039\n"
     ]
    },
    {
     "name": "stderr",
     "output_type": "stream",
     "text": [
      "\u001b[A\n",
      " 63%|██████▎   | 305/485 [00:45<00:27,  6.51it/s]"
     ]
    },
    {
     "name": "stdout",
     "output_type": "stream",
     "text": [
      "352.0202252209192\n",
      "352.0202252209192\n"
     ]
    },
    {
     "name": "stderr",
     "output_type": "stream",
     "text": [
      "\u001b[A\n",
      " 63%|██████▎   | 306/485 [00:46<00:27,  6.55it/s]"
     ]
    },
    {
     "name": "stdout",
     "output_type": "stream",
     "text": [
      "352.43696916055023\n",
      "352.43696916055023\n"
     ]
    },
    {
     "name": "stderr",
     "output_type": "stream",
     "text": [
      "\u001b[A\n",
      " 63%|██████▎   | 307/485 [00:46<00:26,  6.59it/s]"
     ]
    },
    {
     "name": "stdout",
     "output_type": "stream",
     "text": [
      "352.5617904778878\n",
      "352.5617904778878\n"
     ]
    },
    {
     "name": "stderr",
     "output_type": "stream",
     "text": [
      "\u001b[A\n",
      " 64%|██████▎   | 308/485 [00:46<00:26,  6.67it/s]"
     ]
    },
    {
     "name": "stdout",
     "output_type": "stream",
     "text": [
      "352.7963094918073\n",
      "352.7963094918073\n"
     ]
    },
    {
     "name": "stderr",
     "output_type": "stream",
     "text": [
      "\u001b[A\n",
      " 64%|██████▎   | 309/485 [00:46<00:26,  6.69it/s]"
     ]
    },
    {
     "name": "stdout",
     "output_type": "stream",
     "text": [
      "352.5422766843617\n",
      "352.5422766843617\n"
     ]
    },
    {
     "name": "stderr",
     "output_type": "stream",
     "text": [
      "\u001b[A\n",
      " 64%|██████▍   | 310/485 [00:46<00:27,  6.48it/s]"
     ]
    },
    {
     "name": "stdout",
     "output_type": "stream",
     "text": [
      "352.4963176942265\n",
      "352.4963176942265\n"
     ]
    },
    {
     "name": "stderr",
     "output_type": "stream",
     "text": [
      "\u001b[A\n",
      " 64%|██████▍   | 311/485 [00:46<00:27,  6.43it/s]"
     ]
    },
    {
     "name": "stdout",
     "output_type": "stream",
     "text": [
      "352.0640936773261\n",
      "352.0640936773261\n"
     ]
    },
    {
     "name": "stderr",
     "output_type": "stream",
     "text": [
      "\u001b[A\n",
      " 64%|██████▍   | 312/485 [00:47<00:26,  6.43it/s]"
     ]
    },
    {
     "name": "stdout",
     "output_type": "stream",
     "text": [
      "351.6946078793608\n",
      "351.6946078793608\n"
     ]
    },
    {
     "name": "stderr",
     "output_type": "stream",
     "text": [
      "\u001b[A"
     ]
    },
    {
     "name": "stdout",
     "output_type": "stream",
     "text": [
      "351.1789016457951\n",
      "351.1789016457951\n"
     ]
    },
    {
     "name": "stderr",
     "output_type": "stream",
     "text": [
      "\n",
      " 65%|██████▍   | 313/485 [00:47<00:28,  6.12it/s]\u001b[A\n",
      " 65%|██████▍   | 314/485 [00:47<00:26,  6.42it/s]"
     ]
    },
    {
     "name": "stdout",
     "output_type": "stream",
     "text": [
      "351.2356730730389\n",
      "351.2356730730389\n"
     ]
    },
    {
     "name": "stderr",
     "output_type": "stream",
     "text": [
      "\u001b[A\n",
      " 65%|██████▍   | 315/485 [00:47<00:26,  6.49it/s]"
     ]
    },
    {
     "name": "stdout",
     "output_type": "stream",
     "text": [
      "351.50788117305683\n",
      "351.50788117305683\n"
     ]
    },
    {
     "name": "stderr",
     "output_type": "stream",
     "text": [
      "\u001b[A\n",
      " 65%|██████▌   | 316/485 [00:47<00:25,  6.55it/s]"
     ]
    },
    {
     "name": "stdout",
     "output_type": "stream",
     "text": [
      "351.5563968072065\n",
      "351.5563968072065\n"
     ]
    },
    {
     "name": "stderr",
     "output_type": "stream",
     "text": [
      "\u001b[A\n",
      " 65%|██████▌   | 317/485 [00:47<00:25,  6.53it/s]"
     ]
    },
    {
     "name": "stdout",
     "output_type": "stream",
     "text": [
      "352.13698520113485\n",
      "352.13698520113485\n"
     ]
    },
    {
     "name": "stderr",
     "output_type": "stream",
     "text": [
      "\u001b[A\n",
      " 66%|██████▌   | 318/485 [00:47<00:25,  6.57it/s]"
     ]
    },
    {
     "name": "stdout",
     "output_type": "stream",
     "text": [
      "352.13877513852594\n",
      "352.13877513852594\n"
     ]
    },
    {
     "name": "stderr",
     "output_type": "stream",
     "text": [
      "\u001b[A\n",
      " 66%|██████▌   | 319/485 [00:48<00:25,  6.48it/s]"
     ]
    },
    {
     "name": "stdout",
     "output_type": "stream",
     "text": [
      "352.25171542995577\n",
      "352.25171542995577\n"
     ]
    },
    {
     "name": "stderr",
     "output_type": "stream",
     "text": [
      "\u001b[A\n",
      " 66%|██████▌   | 320/485 [00:48<00:25,  6.53it/s]"
     ]
    },
    {
     "name": "stdout",
     "output_type": "stream",
     "text": [
      "351.9750697466202\n",
      "351.9750697466202\n"
     ]
    },
    {
     "name": "stderr",
     "output_type": "stream",
     "text": [
      "\u001b[A\n",
      " 66%|██████▌   | 321/485 [00:48<00:24,  6.61it/s]"
     ]
    },
    {
     "name": "stdout",
     "output_type": "stream",
     "text": [
      "351.50788117305683\n",
      "351.50788117305683\n"
     ]
    },
    {
     "name": "stderr",
     "output_type": "stream",
     "text": [
      "\u001b[A\n",
      " 66%|██████▋   | 322/485 [00:48<00:24,  6.67it/s]"
     ]
    },
    {
     "name": "stdout",
     "output_type": "stream",
     "text": [
      "351.3131349268574\n",
      "351.3131349268574\n"
     ]
    },
    {
     "name": "stderr",
     "output_type": "stream",
     "text": [
      "\u001b[A\n",
      " 67%|██████▋   | 323/485 [00:48<00:24,  6.73it/s]"
     ]
    },
    {
     "name": "stdout",
     "output_type": "stream",
     "text": [
      "351.59999494788144\n",
      "351.59999494788144\n"
     ]
    },
    {
     "name": "stderr",
     "output_type": "stream",
     "text": [
      "\u001b[A\n",
      " 67%|██████▋   | 324/485 [00:48<00:24,  6.68it/s]"
     ]
    },
    {
     "name": "stdout",
     "output_type": "stream",
     "text": [
      "351.94273643499537\n",
      "351.94273643499537\n"
     ]
    },
    {
     "name": "stderr",
     "output_type": "stream",
     "text": [
      "\u001b[A\n",
      " 67%|██████▋   | 325/485 [00:48<00:24,  6.57it/s]"
     ]
    },
    {
     "name": "stdout",
     "output_type": "stream",
     "text": [
      "352.50284825386234\n",
      "352.50284825386234\n"
     ]
    },
    {
     "name": "stderr",
     "output_type": "stream",
     "text": [
      "\u001b[A\n",
      " 67%|██████▋   | 326/485 [00:49<00:24,  6.53it/s]"
     ]
    },
    {
     "name": "stdout",
     "output_type": "stream",
     "text": [
      "352.57826897570203\n",
      "352.57826897570203\n"
     ]
    },
    {
     "name": "stderr",
     "output_type": "stream",
     "text": [
      "\u001b[A\n",
      " 67%|██████▋   | 327/485 [00:49<00:23,  6.61it/s]"
     ]
    },
    {
     "name": "stdout",
     "output_type": "stream",
     "text": [
      "352.8544837337672\n",
      "352.8544837337672\n"
     ]
    },
    {
     "name": "stderr",
     "output_type": "stream",
     "text": [
      "\u001b[A\n",
      " 68%|██████▊   | 328/485 [00:49<00:23,  6.59it/s]"
     ]
    },
    {
     "name": "stdout",
     "output_type": "stream",
     "text": [
      "353.54544272148496\n",
      "353.54544272148496\n"
     ]
    },
    {
     "name": "stderr",
     "output_type": "stream",
     "text": [
      "\u001b[A\n",
      " 68%|██████▊   | 329/485 [00:49<00:24,  6.39it/s]"
     ]
    },
    {
     "name": "stdout",
     "output_type": "stream",
     "text": [
      "354.0251974859011\n",
      "354.0251974859011\n"
     ]
    },
    {
     "name": "stderr",
     "output_type": "stream",
     "text": [
      "\u001b[A"
     ]
    },
    {
     "name": "stdout",
     "output_type": "stream",
     "text": [
      "354.6777352953318\n",
      "354.6777352953318\n"
     ]
    },
    {
     "name": "stderr",
     "output_type": "stream",
     "text": [
      "\n",
      " 68%|██████▊   | 330/485 [00:49<00:24,  6.29it/s]\u001b[A\n",
      " 68%|██████▊   | 331/485 [00:49<00:23,  6.54it/s]"
     ]
    },
    {
     "name": "stdout",
     "output_type": "stream",
     "text": [
      "355.66980526734005\n",
      "355.66980526734005\n"
     ]
    },
    {
     "name": "stderr",
     "output_type": "stream",
     "text": [
      "\u001b[A\n",
      " 68%|██████▊   | 332/485 [00:50<00:23,  6.52it/s]"
     ]
    },
    {
     "name": "stdout",
     "output_type": "stream",
     "text": [
      "355.5237388740866\n",
      "355.5237388740866\n"
     ]
    },
    {
     "name": "stderr",
     "output_type": "stream",
     "text": [
      "\u001b[A\n",
      " 69%|██████▊   | 333/485 [00:50<00:23,  6.55it/s]"
     ]
    },
    {
     "name": "stdout",
     "output_type": "stream",
     "text": [
      "355.73128954543154\n",
      "355.73128954543154\n"
     ]
    },
    {
     "name": "stderr",
     "output_type": "stream",
     "text": [
      "\u001b[A\n",
      " 69%|██████▉   | 334/485 [00:50<00:23,  6.53it/s]"
     ]
    },
    {
     "name": "stdout",
     "output_type": "stream",
     "text": [
      "355.12315691632966\n",
      "355.12315691632966\n"
     ]
    },
    {
     "name": "stderr",
     "output_type": "stream",
     "text": [
      "\u001b[A\n",
      " 69%|██████▉   | 335/485 [00:50<00:22,  6.63it/s]"
     ]
    },
    {
     "name": "stdout",
     "output_type": "stream",
     "text": [
      "355.1760313485911\n",
      "355.1760313485911\n"
     ]
    },
    {
     "name": "stderr",
     "output_type": "stream",
     "text": [
      "\u001b[A\n",
      " 69%|██████▉   | 336/485 [00:50<00:22,  6.62it/s]"
     ]
    },
    {
     "name": "stdout",
     "output_type": "stream",
     "text": [
      "355.05782721890773\n",
      "355.05782721890773\n"
     ]
    },
    {
     "name": "stderr",
     "output_type": "stream",
     "text": [
      "\u001b[A\n",
      " 69%|██████▉   | 337/485 [00:50<00:22,  6.66it/s]"
     ]
    },
    {
     "name": "stdout",
     "output_type": "stream",
     "text": [
      "355.63204643984227\n",
      "355.63204643984227\n"
     ]
    },
    {
     "name": "stderr",
     "output_type": "stream",
     "text": [
      "\u001b[A\n",
      " 70%|██████▉   | 338/485 [00:50<00:22,  6.47it/s]"
     ]
    },
    {
     "name": "stdout",
     "output_type": "stream",
     "text": [
      "355.59499541292143\n",
      "355.59499541292143\n"
     ]
    },
    {
     "name": "stderr",
     "output_type": "stream",
     "text": [
      "\u001b[A\n",
      " 70%|██████▉   | 339/485 [00:51<00:22,  6.39it/s]"
     ]
    },
    {
     "name": "stdout",
     "output_type": "stream",
     "text": [
      "355.9140377996623\n",
      "355.9140377996623\n"
     ]
    },
    {
     "name": "stderr",
     "output_type": "stream",
     "text": [
      "\u001b[A"
     ]
    },
    {
     "name": "stdout",
     "output_type": "stream",
     "text": [
      "356.0712905435421\n",
      "356.0712905435421\n"
     ]
    },
    {
     "name": "stderr",
     "output_type": "stream",
     "text": [
      "\n",
      " 70%|███████   | 340/485 [00:51<00:23,  6.22it/s]\u001b[A\n",
      " 70%|███████   | 341/485 [00:51<00:23,  6.22it/s]"
     ]
    },
    {
     "name": "stdout",
     "output_type": "stream",
     "text": [
      "356.1246676729693\n",
      "356.1246676729693\n"
     ]
    },
    {
     "name": "stderr",
     "output_type": "stream",
     "text": [
      "\u001b[A\n",
      " 71%|███████   | 342/485 [00:51<00:22,  6.30it/s]"
     ]
    },
    {
     "name": "stdout",
     "output_type": "stream",
     "text": [
      "356.3584428072113\n",
      "356.3584428072113\n"
     ]
    },
    {
     "name": "stderr",
     "output_type": "stream",
     "text": [
      "\u001b[A\n",
      " 71%|███████   | 343/485 [00:51<00:22,  6.34it/s]"
     ]
    },
    {
     "name": "stdout",
     "output_type": "stream",
     "text": [
      "356.63746902789126\n",
      "356.63746902789126\n"
     ]
    },
    {
     "name": "stderr",
     "output_type": "stream",
     "text": [
      "\u001b[A\n",
      " 71%|███████   | 344/485 [00:51<00:22,  6.40it/s]"
     ]
    },
    {
     "name": "stdout",
     "output_type": "stream",
     "text": [
      "357.010306438091\n",
      "357.010306438091\n"
     ]
    },
    {
     "name": "stderr",
     "output_type": "stream",
     "text": [
      "\u001b[A\n",
      " 71%|███████   | 345/485 [00:52<00:21,  6.44it/s]"
     ]
    },
    {
     "name": "stdout",
     "output_type": "stream",
     "text": [
      "358.2612933285477\n",
      "358.2612933285477\n"
     ]
    },
    {
     "name": "stderr",
     "output_type": "stream",
     "text": [
      "\u001b[A"
     ]
    },
    {
     "name": "stdout",
     "output_type": "stream",
     "text": [
      "357.50003708270197\n",
      "357.50003708270197\n"
     ]
    },
    {
     "name": "stderr",
     "output_type": "stream",
     "text": [
      "\n",
      " 71%|███████▏  | 346/485 [00:52<00:22,  6.25it/s]\u001b[A"
     ]
    },
    {
     "name": "stdout",
     "output_type": "stream",
     "text": [
      "357.2395330085956\n",
      "357.2395330085956\n"
     ]
    },
    {
     "name": "stderr",
     "output_type": "stream",
     "text": [
      "\n",
      " 72%|███████▏  | 347/485 [00:52<00:23,  5.94it/s]\u001b[A"
     ]
    },
    {
     "name": "stdout",
     "output_type": "stream",
     "text": [
      "358.2225377409736\n",
      "358.2225377409736\n"
     ]
    },
    {
     "name": "stderr",
     "output_type": "stream",
     "text": [
      "\n",
      " 72%|███████▏  | 348/485 [00:52<00:23,  5.87it/s]\u001b[A"
     ]
    },
    {
     "name": "stdout",
     "output_type": "stream",
     "text": [
      "357.39113073542285\n",
      "357.39113073542285\n"
     ]
    },
    {
     "name": "stderr",
     "output_type": "stream",
     "text": [
      "\n",
      " 72%|███████▏  | 349/485 [00:52<00:23,  5.71it/s]\u001b[A"
     ]
    },
    {
     "name": "stdout",
     "output_type": "stream",
     "text": [
      "357.01909937499295\n",
      "357.01909937499295\n"
     ]
    },
    {
     "name": "stderr",
     "output_type": "stream",
     "text": [
      "\n",
      " 72%|███████▏  | 350/485 [00:52<00:23,  5.66it/s]\u001b[A"
     ]
    },
    {
     "name": "stdout",
     "output_type": "stream",
     "text": [
      "356.6640761935828\n",
      "356.6640761935828\n"
     ]
    },
    {
     "name": "stderr",
     "output_type": "stream",
     "text": [
      "\n",
      " 72%|███████▏  | 351/485 [00:53<00:22,  5.83it/s]\u001b[A\n",
      " 73%|███████▎  | 352/485 [00:53<00:22,  5.96it/s]"
     ]
    },
    {
     "name": "stdout",
     "output_type": "stream",
     "text": [
      "357.6022184988783\n",
      "357.6022184988783\n"
     ]
    },
    {
     "name": "stderr",
     "output_type": "stream",
     "text": [
      "\u001b[A"
     ]
    },
    {
     "name": "stdout",
     "output_type": "stream",
     "text": [
      "357.4991885347963\n",
      "357.4991885347963\n"
     ]
    },
    {
     "name": "stderr",
     "output_type": "stream",
     "text": [
      "\n",
      " 73%|███████▎  | 353/485 [00:53<00:22,  5.84it/s]\u001b[A"
     ]
    },
    {
     "name": "stdout",
     "output_type": "stream",
     "text": [
      "357.1053588735854\n",
      "357.1053588735854\n"
     ]
    },
    {
     "name": "stderr",
     "output_type": "stream",
     "text": [
      "\n",
      " 73%|███████▎  | 354/485 [00:53<00:22,  5.87it/s]\u001b[A\n",
      " 73%|███████▎  | 355/485 [00:53<00:21,  5.93it/s]"
     ]
    },
    {
     "name": "stdout",
     "output_type": "stream",
     "text": [
      "356.6086580406886\n",
      "356.6086580406886\n"
     ]
    },
    {
     "name": "stderr",
     "output_type": "stream",
     "text": [
      "\u001b[A"
     ]
    },
    {
     "name": "stdout",
     "output_type": "stream",
     "text": [
      "355.74785476026136\n",
      "355.74785476026136\n"
     ]
    },
    {
     "name": "stderr",
     "output_type": "stream",
     "text": [
      "\n",
      " 73%|███████▎  | 356/485 [00:53<00:22,  5.85it/s]\u001b[A\n",
      " 74%|███████▎  | 357/485 [00:54<00:21,  6.03it/s]"
     ]
    },
    {
     "name": "stdout",
     "output_type": "stream",
     "text": [
      "355.24394769638457\n",
      "355.24394769638457\n"
     ]
    },
    {
     "name": "stderr",
     "output_type": "stream",
     "text": [
      "\u001b[A\n",
      " 74%|███████▍  | 358/485 [00:54<00:20,  6.09it/s]"
     ]
    },
    {
     "name": "stdout",
     "output_type": "stream",
     "text": [
      "354.419567545086\n",
      "354.419567545086\n"
     ]
    },
    {
     "name": "stderr",
     "output_type": "stream",
     "text": [
      "\u001b[A"
     ]
    },
    {
     "name": "stdout",
     "output_type": "stream",
     "text": [
      "353.9538925304878\n",
      "353.9538925304878\n"
     ]
    },
    {
     "name": "stderr",
     "output_type": "stream",
     "text": [
      "\n",
      " 74%|███████▍  | 359/485 [00:54<00:21,  5.92it/s]\u001b[A\n",
      " 74%|███████▍  | 360/485 [00:54<00:20,  5.99it/s]"
     ]
    },
    {
     "name": "stdout",
     "output_type": "stream",
     "text": [
      "353.7353217436321\n",
      "353.7353217436321\n"
     ]
    },
    {
     "name": "stderr",
     "output_type": "stream",
     "text": [
      "\u001b[A\n",
      " 74%|███████▍  | 361/485 [00:54<00:20,  6.14it/s]"
     ]
    },
    {
     "name": "stdout",
     "output_type": "stream",
     "text": [
      "353.96267462081096\n",
      "353.96267462081096\n"
     ]
    },
    {
     "name": "stderr",
     "output_type": "stream",
     "text": [
      "\u001b[A\n",
      " 75%|███████▍  | 362/485 [00:54<00:20,  6.08it/s]"
     ]
    },
    {
     "name": "stdout",
     "output_type": "stream",
     "text": [
      "354.3966750785621\n",
      "354.3966750785621\n"
     ]
    },
    {
     "name": "stderr",
     "output_type": "stream",
     "text": [
      "\u001b[A"
     ]
    },
    {
     "name": "stdout",
     "output_type": "stream",
     "text": [
      "355.03451333239946\n",
      "355.03451333239946\n"
     ]
    },
    {
     "name": "stderr",
     "output_type": "stream",
     "text": [
      "\n",
      " 75%|███████▍  | 363/485 [00:55<00:20,  5.97it/s]\u001b[A\n",
      " 75%|███████▌  | 364/485 [00:55<00:19,  6.13it/s]"
     ]
    },
    {
     "name": "stdout",
     "output_type": "stream",
     "text": [
      "355.47046767598704\n",
      "355.47046767598704\n"
     ]
    },
    {
     "name": "stderr",
     "output_type": "stream",
     "text": [
      "\u001b[A"
     ]
    },
    {
     "name": "stdout",
     "output_type": "stream",
     "text": [
      "355.963641567766\n",
      "355.963641567766\n"
     ]
    },
    {
     "name": "stderr",
     "output_type": "stream",
     "text": [
      "\n",
      " 75%|███████▌  | 365/485 [00:55<00:19,  6.07it/s]\u001b[A"
     ]
    },
    {
     "name": "stdout",
     "output_type": "stream",
     "text": [
      "356.9145599668177\n",
      "356.9145599668177\n"
     ]
    },
    {
     "name": "stderr",
     "output_type": "stream",
     "text": [
      "\n",
      " 75%|███████▌  | 366/485 [00:55<00:19,  6.03it/s]\u001b[A\n",
      " 76%|███████▌  | 367/485 [00:55<00:18,  6.27it/s]"
     ]
    },
    {
     "name": "stdout",
     "output_type": "stream",
     "text": [
      "356.40446837455556\n",
      "356.40446837455556\n"
     ]
    },
    {
     "name": "stderr",
     "output_type": "stream",
     "text": [
      "\u001b[A\n",
      " 76%|███████▌  | 368/485 [00:55<00:18,  6.30it/s]"
     ]
    },
    {
     "name": "stdout",
     "output_type": "stream",
     "text": [
      "356.19070143730414\n",
      "356.19070143730414\n"
     ]
    },
    {
     "name": "stderr",
     "output_type": "stream",
     "text": [
      "\u001b[A\n",
      " 76%|███████▌  | 369/485 [00:56<00:18,  6.24it/s]"
     ]
    },
    {
     "name": "stdout",
     "output_type": "stream",
     "text": [
      "355.8789639433985\n",
      "355.8789639433985\n"
     ]
    },
    {
     "name": "stderr",
     "output_type": "stream",
     "text": [
      "\u001b[A\n",
      " 76%|███████▋  | 370/485 [00:56<00:18,  6.28it/s]"
     ]
    },
    {
     "name": "stdout",
     "output_type": "stream",
     "text": [
      "355.9021994944201\n",
      "355.9021994944201\n"
     ]
    },
    {
     "name": "stderr",
     "output_type": "stream",
     "text": [
      "\u001b[A\n",
      " 76%|███████▋  | 371/485 [00:56<00:18,  6.31it/s]"
     ]
    },
    {
     "name": "stdout",
     "output_type": "stream",
     "text": [
      "355.8109340195242\n",
      "355.8109340195242\n"
     ]
    },
    {
     "name": "stderr",
     "output_type": "stream",
     "text": [
      "\u001b[A\n",
      " 77%|███████▋  | 372/485 [00:56<00:18,  6.23it/s]"
     ]
    },
    {
     "name": "stdout",
     "output_type": "stream",
     "text": [
      "356.7735221655835\n",
      "356.7735221655835\n"
     ]
    },
    {
     "name": "stderr",
     "output_type": "stream",
     "text": [
      "\u001b[A\n",
      " 77%|███████▋  | 373/485 [00:56<00:17,  6.34it/s]"
     ]
    },
    {
     "name": "stdout",
     "output_type": "stream",
     "text": [
      "357.49681303518855\n",
      "357.49681303518855\n"
     ]
    },
    {
     "name": "stderr",
     "output_type": "stream",
     "text": [
      "\u001b[A\n",
      " 77%|███████▋  | 374/485 [00:56<00:17,  6.37it/s]"
     ]
    },
    {
     "name": "stdout",
     "output_type": "stream",
     "text": [
      "357.86863643040715\n",
      "357.86863643040715\n"
     ]
    },
    {
     "name": "stderr",
     "output_type": "stream",
     "text": [
      "\u001b[A"
     ]
    },
    {
     "name": "stdout",
     "output_type": "stream",
     "text": [
      "358.2153455250145\n",
      "358.2153455250145\n"
     ]
    },
    {
     "name": "stderr",
     "output_type": "stream",
     "text": [
      "\n",
      " 77%|███████▋  | 375/485 [00:57<00:17,  6.18it/s]\u001b[A\n",
      " 78%|███████▊  | 376/485 [00:57<00:17,  6.32it/s]"
     ]
    },
    {
     "name": "stdout",
     "output_type": "stream",
     "text": [
      "357.6598080375079\n",
      "357.6598080375079\n"
     ]
    },
    {
     "name": "stderr",
     "output_type": "stream",
     "text": [
      "\u001b[A\n",
      " 78%|███████▊  | 377/485 [00:57<00:17,  6.19it/s]"
     ]
    },
    {
     "name": "stdout",
     "output_type": "stream",
     "text": [
      "357.4859853151811\n",
      "357.4859853151811\n"
     ]
    },
    {
     "name": "stderr",
     "output_type": "stream",
     "text": [
      "\u001b[A\n",
      " 78%|███████▊  | 378/485 [00:57<00:17,  6.18it/s]"
     ]
    },
    {
     "name": "stdout",
     "output_type": "stream",
     "text": [
      "357.5565962567089\n",
      "357.5565962567089\n"
     ]
    },
    {
     "name": "stderr",
     "output_type": "stream",
     "text": [
      "\u001b[A\n",
      " 78%|███████▊  | 379/485 [00:57<00:16,  6.30it/s]"
     ]
    },
    {
     "name": "stdout",
     "output_type": "stream",
     "text": [
      "357.11588061594466\n",
      "357.11588061594466\n"
     ]
    },
    {
     "name": "stderr",
     "output_type": "stream",
     "text": [
      "\u001b[A\n",
      " 78%|███████▊  | 380/485 [00:57<00:16,  6.34it/s]"
     ]
    },
    {
     "name": "stdout",
     "output_type": "stream",
     "text": [
      "356.3703330270728\n",
      "356.3703330270728\n"
     ]
    },
    {
     "name": "stderr",
     "output_type": "stream",
     "text": [
      "\u001b[A\n",
      " 79%|███████▊  | 381/485 [00:58<00:16,  6.27it/s]"
     ]
    },
    {
     "name": "stdout",
     "output_type": "stream",
     "text": [
      "356.03281611368084\n",
      "356.03281611368084\n"
     ]
    },
    {
     "name": "stderr",
     "output_type": "stream",
     "text": [
      "\u001b[A\n",
      " 79%|███████▉  | 382/485 [00:58<00:16,  6.23it/s]"
     ]
    },
    {
     "name": "stdout",
     "output_type": "stream",
     "text": [
      "355.48038101888096\n",
      "355.48038101888096\n"
     ]
    },
    {
     "name": "stderr",
     "output_type": "stream",
     "text": [
      "\u001b[A\n",
      " 79%|███████▉  | 383/485 [00:58<00:16,  6.32it/s]"
     ]
    },
    {
     "name": "stdout",
     "output_type": "stream",
     "text": [
      "355.3681723809127\n",
      "355.3681723809127\n"
     ]
    },
    {
     "name": "stderr",
     "output_type": "stream",
     "text": [
      "\u001b[A\n",
      " 79%|███████▉  | 384/485 [00:58<00:15,  6.44it/s]"
     ]
    },
    {
     "name": "stdout",
     "output_type": "stream",
     "text": [
      "354.6419437110703\n",
      "354.6419437110703\n"
     ]
    },
    {
     "name": "stderr",
     "output_type": "stream",
     "text": [
      "\u001b[A\n",
      " 79%|███████▉  | 385/485 [00:58<00:15,  6.39it/s]"
     ]
    },
    {
     "name": "stdout",
     "output_type": "stream",
     "text": [
      "354.28502462541246\n",
      "354.28502462541246\n"
     ]
    },
    {
     "name": "stderr",
     "output_type": "stream",
     "text": [
      "\u001b[A\n",
      " 80%|███████▉  | 386/485 [00:58<00:15,  6.29it/s]"
     ]
    },
    {
     "name": "stdout",
     "output_type": "stream",
     "text": [
      "354.0634170049343\n",
      "354.0634170049343\n"
     ]
    },
    {
     "name": "stderr",
     "output_type": "stream",
     "text": [
      "\u001b[A\n",
      " 80%|███████▉  | 387/485 [00:58<00:15,  6.45it/s]"
     ]
    },
    {
     "name": "stdout",
     "output_type": "stream",
     "text": [
      "354.8592340595319\n",
      "354.8592340595319\n"
     ]
    },
    {
     "name": "stderr",
     "output_type": "stream",
     "text": [
      "\u001b[A\n",
      " 80%|████████  | 388/485 [00:59<00:15,  6.31it/s]"
     ]
    },
    {
     "name": "stdout",
     "output_type": "stream",
     "text": [
      "354.87137214516406\n",
      "354.87137214516406\n"
     ]
    },
    {
     "name": "stderr",
     "output_type": "stream",
     "text": [
      "\u001b[A\n",
      " 80%|████████  | 389/485 [00:59<00:15,  6.30it/s]"
     ]
    },
    {
     "name": "stdout",
     "output_type": "stream",
     "text": [
      "354.84439549703075\n",
      "354.84439549703075\n"
     ]
    },
    {
     "name": "stderr",
     "output_type": "stream",
     "text": [
      "\u001b[A\n",
      " 80%|████████  | 390/485 [00:59<00:14,  6.36it/s]"
     ]
    },
    {
     "name": "stdout",
     "output_type": "stream",
     "text": [
      "354.2856056881783\n",
      "354.2856056881783\n"
     ]
    },
    {
     "name": "stderr",
     "output_type": "stream",
     "text": [
      "\u001b[A\n",
      " 81%|████████  | 391/485 [00:59<00:14,  6.36it/s]"
     ]
    },
    {
     "name": "stdout",
     "output_type": "stream",
     "text": [
      "354.4795511613147\n",
      "354.4795511613147\n"
     ]
    },
    {
     "name": "stderr",
     "output_type": "stream",
     "text": [
      "\u001b[A\n",
      " 81%|████████  | 392/485 [00:59<00:14,  6.40it/s]"
     ]
    },
    {
     "name": "stdout",
     "output_type": "stream",
     "text": [
      "354.3726984322684\n",
      "354.3726984322684\n"
     ]
    },
    {
     "name": "stderr",
     "output_type": "stream",
     "text": [
      "\u001b[A\n",
      " 81%|████████  | 393/485 [00:59<00:14,  6.42it/s]"
     ]
    },
    {
     "name": "stdout",
     "output_type": "stream",
     "text": [
      "354.74308756639766\n",
      "354.74308756639766\n"
     ]
    },
    {
     "name": "stderr",
     "output_type": "stream",
     "text": [
      "\u001b[A\n",
      " 81%|████████  | 394/485 [01:00<00:14,  6.49it/s]"
     ]
    },
    {
     "name": "stdout",
     "output_type": "stream",
     "text": [
      "354.54940950550736\n",
      "354.54940950550736\n"
     ]
    },
    {
     "name": "stderr",
     "output_type": "stream",
     "text": [
      "\u001b[A\n",
      " 81%|████████▏ | 395/485 [01:00<00:13,  6.45it/s]"
     ]
    },
    {
     "name": "stdout",
     "output_type": "stream",
     "text": [
      "355.801827404317\n",
      "355.801827404317\n"
     ]
    },
    {
     "name": "stderr",
     "output_type": "stream",
     "text": [
      "\u001b[A\n",
      " 82%|████████▏ | 396/485 [01:00<00:13,  6.49it/s]"
     ]
    },
    {
     "name": "stdout",
     "output_type": "stream",
     "text": [
      "356.20705023415394\n",
      "356.20705023415394\n"
     ]
    },
    {
     "name": "stderr",
     "output_type": "stream",
     "text": [
      "\u001b[A\n",
      " 82%|████████▏ | 397/485 [01:00<00:13,  6.56it/s]"
     ]
    },
    {
     "name": "stdout",
     "output_type": "stream",
     "text": [
      "357.3989836383371\n",
      "357.3989836383371\n"
     ]
    },
    {
     "name": "stderr",
     "output_type": "stream",
     "text": [
      "\u001b[A\n",
      " 82%|████████▏ | 398/485 [01:00<00:13,  6.59it/s]"
     ]
    },
    {
     "name": "stdout",
     "output_type": "stream",
     "text": [
      "353.97510721396065\n",
      "353.97510721396065\n"
     ]
    },
    {
     "name": "stderr",
     "output_type": "stream",
     "text": [
      "\u001b[A\n",
      " 82%|████████▏ | 399/485 [01:00<00:13,  6.50it/s]"
     ]
    },
    {
     "name": "stdout",
     "output_type": "stream",
     "text": [
      "354.3825541746837\n",
      "354.3825541746837\n"
     ]
    },
    {
     "name": "stderr",
     "output_type": "stream",
     "text": [
      "\u001b[A\n",
      " 82%|████████▏ | 400/485 [01:00<00:12,  6.65it/s]"
     ]
    },
    {
     "name": "stdout",
     "output_type": "stream",
     "text": [
      "354.87817241314815\n",
      "354.87817241314815\n"
     ]
    },
    {
     "name": "stderr",
     "output_type": "stream",
     "text": [
      "\u001b[A\n",
      " 83%|████████▎ | 401/485 [01:01<00:12,  6.56it/s]"
     ]
    },
    {
     "name": "stdout",
     "output_type": "stream",
     "text": [
      "355.18596014034983\n",
      "355.18596014034983\n"
     ]
    },
    {
     "name": "stderr",
     "output_type": "stream",
     "text": [
      "\u001b[A\n",
      " 83%|████████▎ | 402/485 [01:01<00:12,  6.52it/s]"
     ]
    },
    {
     "name": "stdout",
     "output_type": "stream",
     "text": [
      "355.720667521412\n",
      "355.720667521412\n"
     ]
    },
    {
     "name": "stderr",
     "output_type": "stream",
     "text": [
      "\u001b[A\n",
      " 83%|████████▎ | 403/485 [01:01<00:12,  6.53it/s]"
     ]
    },
    {
     "name": "stdout",
     "output_type": "stream",
     "text": [
      "355.93866714952173\n",
      "355.93866714952173\n"
     ]
    },
    {
     "name": "stderr",
     "output_type": "stream",
     "text": [
      "\u001b[A\n",
      " 83%|████████▎ | 404/485 [01:01<00:12,  6.56it/s]"
     ]
    },
    {
     "name": "stdout",
     "output_type": "stream",
     "text": [
      "356.67631000967776\n",
      "356.67631000967776\n"
     ]
    },
    {
     "name": "stderr",
     "output_type": "stream",
     "text": [
      "\u001b[A\n",
      " 84%|████████▎ | 405/485 [01:01<00:12,  6.62it/s]"
     ]
    },
    {
     "name": "stdout",
     "output_type": "stream",
     "text": [
      "357.5317747213753\n",
      "357.5317747213753\n"
     ]
    },
    {
     "name": "stderr",
     "output_type": "stream",
     "text": [
      "\u001b[A\n",
      " 84%|████████▎ | 406/485 [01:01<00:12,  6.56it/s]"
     ]
    },
    {
     "name": "stdout",
     "output_type": "stream",
     "text": [
      "357.81539079928643\n",
      "357.81539079928643\n"
     ]
    },
    {
     "name": "stderr",
     "output_type": "stream",
     "text": [
      "\u001b[A\n",
      " 84%|████████▍ | 407/485 [01:02<00:12,  6.47it/s]"
     ]
    },
    {
     "name": "stdout",
     "output_type": "stream",
     "text": [
      "357.416639961024\n",
      "357.416639961024\n"
     ]
    },
    {
     "name": "stderr",
     "output_type": "stream",
     "text": [
      "\u001b[A\n",
      " 84%|████████▍ | 408/485 [01:02<00:12,  6.33it/s]"
     ]
    },
    {
     "name": "stdout",
     "output_type": "stream",
     "text": [
      "356.5005977455444\n",
      "356.5005977455444\n"
     ]
    },
    {
     "name": "stderr",
     "output_type": "stream",
     "text": [
      "\u001b[A\n",
      " 84%|████████▍ | 409/485 [01:02<00:11,  6.40it/s]"
     ]
    },
    {
     "name": "stdout",
     "output_type": "stream",
     "text": [
      "355.82414715812774\n",
      "355.82414715812774\n"
     ]
    },
    {
     "name": "stderr",
     "output_type": "stream",
     "text": [
      "\u001b[A\n",
      " 85%|████████▍ | 410/485 [01:02<00:11,  6.47it/s]"
     ]
    },
    {
     "name": "stdout",
     "output_type": "stream",
     "text": [
      "355.5389191202221\n",
      "355.5389191202221\n"
     ]
    },
    {
     "name": "stderr",
     "output_type": "stream",
     "text": [
      "\u001b[A\n",
      " 85%|████████▍ | 411/485 [01:02<00:11,  6.47it/s]"
     ]
    },
    {
     "name": "stdout",
     "output_type": "stream",
     "text": [
      "355.1414129891614\n",
      "355.1414129891614\n"
     ]
    },
    {
     "name": "stderr",
     "output_type": "stream",
     "text": [
      "\u001b[A\n",
      " 85%|████████▍ | 412/485 [01:02<00:11,  6.44it/s]"
     ]
    },
    {
     "name": "stdout",
     "output_type": "stream",
     "text": [
      "354.8383577173954\n",
      "354.8383577173954\n"
     ]
    },
    {
     "name": "stderr",
     "output_type": "stream",
     "text": [
      "\u001b[A\n",
      " 85%|████████▌ | 413/485 [01:02<00:11,  6.27it/s]"
     ]
    },
    {
     "name": "stdout",
     "output_type": "stream",
     "text": [
      "355.30549667049127\n",
      "355.30549667049127\n"
     ]
    },
    {
     "name": "stderr",
     "output_type": "stream",
     "text": [
      "\u001b[A"
     ]
    },
    {
     "name": "stdout",
     "output_type": "stream",
     "text": [
      "354.99996453724725\n",
      "354.99996453724725\n"
     ]
    },
    {
     "name": "stderr",
     "output_type": "stream",
     "text": [
      "\n",
      " 85%|████████▌ | 414/485 [01:03<00:11,  6.16it/s]\u001b[A\n",
      " 86%|████████▌ | 415/485 [01:03<00:11,  6.13it/s]"
     ]
    },
    {
     "name": "stdout",
     "output_type": "stream",
     "text": [
      "355.0591385727871\n",
      "355.0591385727871\n"
     ]
    },
    {
     "name": "stderr",
     "output_type": "stream",
     "text": [
      "\u001b[A\n",
      " 86%|████████▌ | 416/485 [01:03<00:11,  6.08it/s]"
     ]
    },
    {
     "name": "stdout",
     "output_type": "stream",
     "text": [
      "355.1182791461374\n",
      "355.1182791461374\n"
     ]
    },
    {
     "name": "stderr",
     "output_type": "stream",
     "text": [
      "\u001b[A"
     ]
    },
    {
     "name": "stdout",
     "output_type": "stream",
     "text": [
      "356.1438843192741\n",
      "356.1438843192741\n"
     ]
    },
    {
     "name": "stderr",
     "output_type": "stream",
     "text": [
      "\n",
      " 86%|████████▌ | 417/485 [01:03<00:11,  6.02it/s]\u001b[A\n",
      " 86%|████████▌ | 418/485 [01:03<00:10,  6.32it/s]"
     ]
    },
    {
     "name": "stdout",
     "output_type": "stream",
     "text": [
      "357.18901863022165\n",
      "357.18901863022165\n"
     ]
    },
    {
     "name": "stderr",
     "output_type": "stream",
     "text": [
      "\u001b[A\n",
      " 86%|████████▋ | 419/485 [01:03<00:10,  6.26it/s]"
     ]
    },
    {
     "name": "stdout",
     "output_type": "stream",
     "text": [
      "358.25135223278403\n",
      "358.25135223278403\n"
     ]
    },
    {
     "name": "stderr",
     "output_type": "stream",
     "text": [
      "\u001b[A\n",
      " 87%|████████▋ | 420/485 [01:04<00:10,  6.25it/s]"
     ]
    },
    {
     "name": "stdout",
     "output_type": "stream",
     "text": [
      "357.61968051085705\n",
      "357.61968051085705\n"
     ]
    },
    {
     "name": "stderr",
     "output_type": "stream",
     "text": [
      "\u001b[A\n",
      " 87%|████████▋ | 421/485 [01:04<00:10,  6.31it/s]"
     ]
    },
    {
     "name": "stdout",
     "output_type": "stream",
     "text": [
      "357.0714909068447\n",
      "357.0714909068447\n"
     ]
    },
    {
     "name": "stderr",
     "output_type": "stream",
     "text": [
      "\u001b[A\n",
      " 87%|████████▋ | 422/485 [01:04<00:09,  6.37it/s]"
     ]
    },
    {
     "name": "stdout",
     "output_type": "stream",
     "text": [
      "359.41799822125677\n",
      "359.41799822125677\n"
     ]
    },
    {
     "name": "stderr",
     "output_type": "stream",
     "text": [
      "\u001b[A\n",
      " 87%|████████▋ | 423/485 [01:04<00:09,  6.27it/s]"
     ]
    },
    {
     "name": "stdout",
     "output_type": "stream",
     "text": [
      "359.13878120134086\n",
      "359.13878120134086\n"
     ]
    },
    {
     "name": "stderr",
     "output_type": "stream",
     "text": [
      "\u001b[A\n",
      " 87%|████████▋ | 424/485 [01:04<00:09,  6.25it/s]"
     ]
    },
    {
     "name": "stdout",
     "output_type": "stream",
     "text": [
      "358.33345448669843\n",
      "358.33345448669843\n"
     ]
    },
    {
     "name": "stderr",
     "output_type": "stream",
     "text": [
      "\u001b[A"
     ]
    },
    {
     "name": "stdout",
     "output_type": "stream",
     "text": [
      "358.30067111757944\n",
      "358.30067111757944\n"
     ]
    },
    {
     "name": "stderr",
     "output_type": "stream",
     "text": [
      "\n",
      " 88%|████████▊ | 425/485 [01:04<00:09,  6.15it/s]\u001b[A"
     ]
    },
    {
     "name": "stdout",
     "output_type": "stream",
     "text": [
      "358.30067111757853\n",
      "358.30067111757853\n"
     ]
    },
    {
     "name": "stderr",
     "output_type": "stream",
     "text": [
      "\n",
      " 88%|████████▊ | 426/485 [01:05<00:09,  6.14it/s]\u001b[A\n",
      " 88%|████████▊ | 427/485 [01:05<00:09,  6.31it/s]"
     ]
    },
    {
     "name": "stdout",
     "output_type": "stream",
     "text": [
      "358.1054220041524\n",
      "358.1054220041524\n"
     ]
    },
    {
     "name": "stderr",
     "output_type": "stream",
     "text": [
      "\u001b[A\n",
      " 88%|████████▊ | 428/485 [01:05<00:09,  6.32it/s]"
     ]
    },
    {
     "name": "stdout",
     "output_type": "stream",
     "text": [
      "357.85655988976714\n",
      "357.85655988976714\n"
     ]
    },
    {
     "name": "stderr",
     "output_type": "stream",
     "text": [
      "\u001b[A\n",
      " 88%|████████▊ | 429/485 [01:05<00:08,  6.33it/s]"
     ]
    },
    {
     "name": "stdout",
     "output_type": "stream",
     "text": [
      "357.84707788368905\n",
      "357.84707788368905\n"
     ]
    },
    {
     "name": "stderr",
     "output_type": "stream",
     "text": [
      "\u001b[A\n",
      " 89%|████████▊ | 430/485 [01:05<00:08,  6.35it/s]"
     ]
    },
    {
     "name": "stdout",
     "output_type": "stream",
     "text": [
      "358.06035004631076\n",
      "358.06035004631076\n"
     ]
    },
    {
     "name": "stderr",
     "output_type": "stream",
     "text": [
      "\u001b[A\n",
      " 89%|████████▉ | 431/485 [01:05<00:08,  6.28it/s]"
     ]
    },
    {
     "name": "stdout",
     "output_type": "stream",
     "text": [
      "358.00984856519517\n",
      "358.00984856519517\n"
     ]
    },
    {
     "name": "stderr",
     "output_type": "stream",
     "text": [
      "\u001b[A"
     ]
    },
    {
     "name": "stdout",
     "output_type": "stream",
     "text": [
      "358.1417723774812\n",
      "358.1417723774812\n"
     ]
    },
    {
     "name": "stderr",
     "output_type": "stream",
     "text": [
      "\n",
      " 89%|████████▉ | 432/485 [01:06<00:08,  6.11it/s]\u001b[A"
     ]
    },
    {
     "name": "stdout",
     "output_type": "stream",
     "text": [
      "357.6146333238171\n",
      "357.6146333238171\n"
     ]
    },
    {
     "name": "stderr",
     "output_type": "stream",
     "text": [
      "\n",
      " 89%|████████▉ | 433/485 [01:06<00:08,  6.08it/s]\u001b[A\n",
      " 89%|████████▉ | 434/485 [01:06<00:08,  6.11it/s]"
     ]
    },
    {
     "name": "stdout",
     "output_type": "stream",
     "text": [
      "356.8879934198767\n",
      "356.8879934198767\n"
     ]
    },
    {
     "name": "stderr",
     "output_type": "stream",
     "text": [
      "\u001b[A"
     ]
    },
    {
     "name": "stdout",
     "output_type": "stream",
     "text": [
      "355.994568972214\n",
      "355.994568972214\n"
     ]
    },
    {
     "name": "stderr",
     "output_type": "stream",
     "text": [
      "\n",
      " 90%|████████▉ | 435/485 [01:06<00:08,  6.07it/s]\u001b[A"
     ]
    },
    {
     "name": "stdout",
     "output_type": "stream",
     "text": [
      "355.08875231255297\n",
      "355.08875231255297\n"
     ]
    },
    {
     "name": "stderr",
     "output_type": "stream",
     "text": [
      "\n",
      " 90%|████████▉ | 436/485 [01:06<00:08,  6.02it/s]\u001b[A"
     ]
    },
    {
     "name": "stdout",
     "output_type": "stream",
     "text": [
      "354.3109628973357\n",
      "354.3109628973357\n"
     ]
    },
    {
     "name": "stderr",
     "output_type": "stream",
     "text": [
      "\n",
      " 90%|█████████ | 437/485 [01:06<00:08,  5.98it/s]\u001b[A\n",
      " 90%|█████████ | 438/485 [01:07<00:07,  6.05it/s]"
     ]
    },
    {
     "name": "stdout",
     "output_type": "stream",
     "text": [
      "354.3109628973357\n",
      "354.3109628973357\n"
     ]
    },
    {
     "name": "stderr",
     "output_type": "stream",
     "text": [
      "\u001b[A\n",
      " 91%|█████████ | 439/485 [01:07<00:07,  6.10it/s]"
     ]
    },
    {
     "name": "stdout",
     "output_type": "stream",
     "text": [
      "354.3109628973357\n",
      "354.3109628973357\n"
     ]
    },
    {
     "name": "stderr",
     "output_type": "stream",
     "text": [
      "\u001b[A\n",
      " 91%|█████████ | 440/485 [01:07<00:07,  6.38it/s]"
     ]
    },
    {
     "name": "stdout",
     "output_type": "stream",
     "text": [
      "354.3109628973357\n",
      "354.3109628973357\n"
     ]
    },
    {
     "name": "stderr",
     "output_type": "stream",
     "text": [
      "\u001b[A\n",
      " 91%|█████████ | 441/485 [01:07<00:06,  6.47it/s]"
     ]
    },
    {
     "name": "stdout",
     "output_type": "stream",
     "text": [
      "354.3109628973357\n",
      "354.3109628973357\n"
     ]
    },
    {
     "name": "stderr",
     "output_type": "stream",
     "text": [
      "\u001b[A\n",
      " 91%|█████████ | 442/485 [01:07<00:06,  6.58it/s]"
     ]
    },
    {
     "name": "stdout",
     "output_type": "stream",
     "text": [
      "354.3109628973357\n",
      "354.3109628973357\n"
     ]
    },
    {
     "name": "stderr",
     "output_type": "stream",
     "text": [
      "\u001b[A\n",
      " 91%|█████████▏| 443/485 [01:07<00:06,  6.49it/s]"
     ]
    },
    {
     "name": "stdout",
     "output_type": "stream",
     "text": [
      "354.3109628973357\n",
      "354.3109628973357\n"
     ]
    },
    {
     "name": "stderr",
     "output_type": "stream",
     "text": [
      "\u001b[A\n",
      " 92%|█████████▏| 444/485 [01:07<00:06,  6.55it/s]"
     ]
    },
    {
     "name": "stdout",
     "output_type": "stream",
     "text": [
      "354.3109628973357\n",
      "354.3109628973357\n"
     ]
    },
    {
     "name": "stderr",
     "output_type": "stream",
     "text": [
      "\u001b[A\n",
      " 92%|█████████▏| 445/485 [01:08<00:06,  6.42it/s]"
     ]
    },
    {
     "name": "stdout",
     "output_type": "stream",
     "text": [
      "353.66372419781555\n",
      "353.66372419781555\n"
     ]
    },
    {
     "name": "stderr",
     "output_type": "stream",
     "text": [
      "\u001b[A\n",
      " 92%|█████████▏| 446/485 [01:08<00:06,  6.46it/s]"
     ]
    },
    {
     "name": "stdout",
     "output_type": "stream",
     "text": [
      "354.245524203749\n",
      "354.245524203749\n"
     ]
    },
    {
     "name": "stderr",
     "output_type": "stream",
     "text": [
      "\u001b[A\n",
      " 92%|█████████▏| 447/485 [01:08<00:05,  6.45it/s]"
     ]
    },
    {
     "name": "stdout",
     "output_type": "stream",
     "text": [
      "354.51964392143236\n",
      "354.51964392143236\n"
     ]
    },
    {
     "name": "stderr",
     "output_type": "stream",
     "text": [
      "\u001b[A\n",
      " 92%|█████████▏| 448/485 [01:08<00:05,  6.35it/s]"
     ]
    },
    {
     "name": "stdout",
     "output_type": "stream",
     "text": [
      "354.3780377737962\n",
      "354.3780377737962\n"
     ]
    },
    {
     "name": "stderr",
     "output_type": "stream",
     "text": [
      "\u001b[A\n",
      " 93%|█████████▎| 449/485 [01:08<00:05,  6.23it/s]"
     ]
    },
    {
     "name": "stdout",
     "output_type": "stream",
     "text": [
      "353.8101149459453\n",
      "353.8101149459453\n"
     ]
    },
    {
     "name": "stderr",
     "output_type": "stream",
     "text": [
      "\u001b[A\n",
      " 93%|█████████▎| 450/485 [01:08<00:05,  6.19it/s]"
     ]
    },
    {
     "name": "stdout",
     "output_type": "stream",
     "text": [
      "353.1806272195422\n",
      "353.1806272195422\n"
     ]
    },
    {
     "name": "stderr",
     "output_type": "stream",
     "text": [
      "\u001b[A\n",
      " 93%|█████████▎| 451/485 [01:09<00:05,  6.29it/s]"
     ]
    },
    {
     "name": "stdout",
     "output_type": "stream",
     "text": [
      "352.3381049767636\n",
      "352.3381049767636\n"
     ]
    },
    {
     "name": "stderr",
     "output_type": "stream",
     "text": [
      "\u001b[A\n",
      " 93%|█████████▎| 452/485 [01:09<00:05,  6.33it/s]"
     ]
    },
    {
     "name": "stdout",
     "output_type": "stream",
     "text": [
      "352.3381049767636\n",
      "352.3381049767636\n"
     ]
    },
    {
     "name": "stderr",
     "output_type": "stream",
     "text": [
      "\u001b[A\n",
      " 93%|█████████▎| 453/485 [01:09<00:05,  6.35it/s]"
     ]
    },
    {
     "name": "stdout",
     "output_type": "stream",
     "text": [
      "352.3381049767636\n",
      "352.3381049767636\n"
     ]
    },
    {
     "name": "stderr",
     "output_type": "stream",
     "text": [
      "\u001b[A\n",
      " 94%|█████████▎| 454/485 [01:09<00:04,  6.24it/s]"
     ]
    },
    {
     "name": "stdout",
     "output_type": "stream",
     "text": [
      "352.3381049767636\n",
      "352.3381049767636\n"
     ]
    },
    {
     "name": "stderr",
     "output_type": "stream",
     "text": [
      "\u001b[A\n",
      " 94%|█████████▍| 455/485 [01:09<00:04,  6.26it/s]"
     ]
    },
    {
     "name": "stdout",
     "output_type": "stream",
     "text": [
      "352.3381049767636\n",
      "352.3381049767636\n"
     ]
    },
    {
     "name": "stderr",
     "output_type": "stream",
     "text": [
      "\u001b[A\n",
      " 94%|█████████▍| 456/485 [01:09<00:04,  6.33it/s]"
     ]
    },
    {
     "name": "stdout",
     "output_type": "stream",
     "text": [
      "352.3381049767636\n",
      "352.3381049767636\n"
     ]
    },
    {
     "name": "stderr",
     "output_type": "stream",
     "text": [
      "\u001b[A\n",
      " 94%|█████████▍| 457/485 [01:10<00:04,  6.32it/s]"
     ]
    },
    {
     "name": "stdout",
     "output_type": "stream",
     "text": [
      "352.3381049767636\n",
      "352.3381049767636\n"
     ]
    },
    {
     "name": "stderr",
     "output_type": "stream",
     "text": [
      "\u001b[A\n",
      " 94%|█████████▍| 458/485 [01:10<00:04,  6.40it/s]"
     ]
    },
    {
     "name": "stdout",
     "output_type": "stream",
     "text": [
      "352.3381049767636\n",
      "352.3381049767636\n"
     ]
    },
    {
     "name": "stderr",
     "output_type": "stream",
     "text": [
      "\u001b[A\n",
      " 95%|█████████▍| 459/485 [01:10<00:04,  6.47it/s]"
     ]
    },
    {
     "name": "stdout",
     "output_type": "stream",
     "text": [
      "352.3381049767636\n",
      "352.3381049767636\n"
     ]
    },
    {
     "name": "stderr",
     "output_type": "stream",
     "text": [
      "\u001b[A\n",
      " 95%|█████████▍| 460/485 [01:10<00:03,  6.41it/s]"
     ]
    },
    {
     "name": "stdout",
     "output_type": "stream",
     "text": [
      "352.3381049767636\n",
      "352.3381049767636\n"
     ]
    },
    {
     "name": "stderr",
     "output_type": "stream",
     "text": [
      "\u001b[A\n",
      " 95%|█████████▌| 461/485 [01:10<00:03,  6.42it/s]"
     ]
    },
    {
     "name": "stdout",
     "output_type": "stream",
     "text": [
      "352.3381049767636\n",
      "352.3381049767636\n"
     ]
    },
    {
     "name": "stderr",
     "output_type": "stream",
     "text": [
      "\u001b[A\n",
      " 95%|█████████▌| 462/485 [01:10<00:03,  6.53it/s]"
     ]
    },
    {
     "name": "stdout",
     "output_type": "stream",
     "text": [
      "352.3381049767636\n",
      "352.3381049767636\n"
     ]
    },
    {
     "name": "stderr",
     "output_type": "stream",
     "text": [
      "\u001b[A\n",
      " 95%|█████████▌| 463/485 [01:10<00:03,  6.50it/s]"
     ]
    },
    {
     "name": "stdout",
     "output_type": "stream",
     "text": [
      "352.3381049767636\n",
      "352.3381049767636\n"
     ]
    },
    {
     "name": "stderr",
     "output_type": "stream",
     "text": [
      "\u001b[A\n",
      " 96%|█████████▌| 464/485 [01:11<00:03,  6.37it/s]"
     ]
    },
    {
     "name": "stdout",
     "output_type": "stream",
     "text": [
      "352.3381049767636\n",
      "352.3381049767636\n"
     ]
    },
    {
     "name": "stderr",
     "output_type": "stream",
     "text": [
      "\u001b[A\n",
      " 96%|█████████▌| 465/485 [01:11<00:03,  6.30it/s]"
     ]
    },
    {
     "name": "stdout",
     "output_type": "stream",
     "text": [
      "352.3381049767636\n",
      "352.3381049767636\n"
     ]
    },
    {
     "name": "stderr",
     "output_type": "stream",
     "text": [
      "\u001b[A"
     ]
    },
    {
     "name": "stdout",
     "output_type": "stream",
     "text": [
      "352.3381049767636\n",
      "352.3381049767636\n"
     ]
    },
    {
     "name": "stderr",
     "output_type": "stream",
     "text": [
      "\n",
      " 96%|█████████▌| 466/485 [01:11<00:03,  6.17it/s]\u001b[A"
     ]
    },
    {
     "name": "stdout",
     "output_type": "stream",
     "text": [
      "352.3381049767636\n",
      "352.3381049767636\n"
     ]
    },
    {
     "name": "stderr",
     "output_type": "stream",
     "text": [
      "\n",
      " 96%|█████████▋| 467/485 [01:11<00:02,  6.06it/s]\u001b[A\n",
      " 96%|█████████▋| 468/485 [01:11<00:02,  6.17it/s]"
     ]
    },
    {
     "name": "stdout",
     "output_type": "stream",
     "text": [
      "352.3381049767636\n",
      "352.3381049767636\n"
     ]
    },
    {
     "name": "stderr",
     "output_type": "stream",
     "text": [
      "\u001b[A\n",
      " 97%|█████████▋| 469/485 [01:11<00:02,  6.30it/s]"
     ]
    },
    {
     "name": "stdout",
     "output_type": "stream",
     "text": [
      "352.3381049767636\n",
      "352.3381049767636\n"
     ]
    },
    {
     "name": "stderr",
     "output_type": "stream",
     "text": [
      "\u001b[A\n",
      " 97%|█████████▋| 470/485 [01:12<00:02,  6.45it/s]"
     ]
    },
    {
     "name": "stdout",
     "output_type": "stream",
     "text": [
      "352.3381049767636\n",
      "352.3381049767636\n"
     ]
    },
    {
     "name": "stderr",
     "output_type": "stream",
     "text": [
      "\u001b[A\n",
      " 97%|█████████▋| 471/485 [01:12<00:02,  6.57it/s]"
     ]
    },
    {
     "name": "stdout",
     "output_type": "stream",
     "text": [
      "352.3381049767636\n",
      "352.3381049767636\n"
     ]
    },
    {
     "name": "stderr",
     "output_type": "stream",
     "text": [
      "\u001b[A\n",
      " 97%|█████████▋| 472/485 [01:12<00:01,  6.62it/s]"
     ]
    },
    {
     "name": "stdout",
     "output_type": "stream",
     "text": [
      "352.3381049767636\n",
      "352.3381049767636\n"
     ]
    },
    {
     "name": "stderr",
     "output_type": "stream",
     "text": [
      "\u001b[A\n",
      " 98%|█████████▊| 473/485 [01:12<00:01,  6.60it/s]"
     ]
    },
    {
     "name": "stdout",
     "output_type": "stream",
     "text": [
      "352.3381049767636\n",
      "352.3381049767636\n"
     ]
    },
    {
     "name": "stderr",
     "output_type": "stream",
     "text": [
      "\u001b[A\n",
      " 98%|█████████▊| 474/485 [01:12<00:01,  6.58it/s]"
     ]
    },
    {
     "name": "stdout",
     "output_type": "stream",
     "text": [
      "352.3381049767636\n",
      "352.3381049767636\n"
     ]
    },
    {
     "name": "stderr",
     "output_type": "stream",
     "text": [
      "\u001b[A\n",
      " 98%|█████████▊| 475/485 [01:12<00:01,  6.48it/s]"
     ]
    },
    {
     "name": "stdout",
     "output_type": "stream",
     "text": [
      "352.3381049767636\n",
      "352.3381049767636\n"
     ]
    },
    {
     "name": "stderr",
     "output_type": "stream",
     "text": [
      "\u001b[A\n",
      " 98%|█████████▊| 476/485 [01:12<00:01,  6.39it/s]"
     ]
    },
    {
     "name": "stdout",
     "output_type": "stream",
     "text": [
      "352.3381049767636\n",
      "352.3381049767636\n"
     ]
    },
    {
     "name": "stderr",
     "output_type": "stream",
     "text": [
      "\u001b[A\n",
      " 98%|█████████▊| 477/485 [01:13<00:01,  6.46it/s]"
     ]
    },
    {
     "name": "stdout",
     "output_type": "stream",
     "text": [
      "352.3381049767636\n",
      "352.3381049767636\n"
     ]
    },
    {
     "name": "stderr",
     "output_type": "stream",
     "text": [
      "\u001b[A\n",
      " 99%|█████████▊| 478/485 [01:13<00:01,  6.50it/s]"
     ]
    },
    {
     "name": "stdout",
     "output_type": "stream",
     "text": [
      "352.3381049767636\n",
      "352.3381049767636\n"
     ]
    },
    {
     "name": "stderr",
     "output_type": "stream",
     "text": [
      "\u001b[A\n",
      " 99%|█████████▉| 479/485 [01:13<00:00,  6.55it/s]"
     ]
    },
    {
     "name": "stdout",
     "output_type": "stream",
     "text": [
      "352.3381049767636\n",
      "352.3381049767636\n"
     ]
    },
    {
     "name": "stderr",
     "output_type": "stream",
     "text": [
      "\u001b[A\n",
      " 99%|█████████▉| 480/485 [01:13<00:00,  6.55it/s]"
     ]
    },
    {
     "name": "stdout",
     "output_type": "stream",
     "text": [
      "352.3381049767636\n",
      "352.3381049767636\n"
     ]
    },
    {
     "name": "stderr",
     "output_type": "stream",
     "text": [
      "\u001b[A\n",
      " 99%|█████████▉| 481/485 [01:13<00:00,  6.61it/s]"
     ]
    },
    {
     "name": "stdout",
     "output_type": "stream",
     "text": [
      "352.3381049767636\n",
      "352.3381049767636\n"
     ]
    },
    {
     "name": "stderr",
     "output_type": "stream",
     "text": [
      "\u001b[A\n",
      " 99%|█████████▉| 482/485 [01:13<00:00,  6.64it/s]"
     ]
    },
    {
     "name": "stdout",
     "output_type": "stream",
     "text": [
      "352.3381049767636\n",
      "352.3381049767636\n"
     ]
    },
    {
     "name": "stderr",
     "output_type": "stream",
     "text": [
      "\u001b[A\n",
      "100%|█████████▉| 483/485 [01:14<00:00,  6.43it/s]"
     ]
    },
    {
     "name": "stdout",
     "output_type": "stream",
     "text": [
      "352.3381049767636\n",
      "352.3381049767636\n"
     ]
    },
    {
     "name": "stderr",
     "output_type": "stream",
     "text": [
      "\u001b[A\n",
      "100%|█████████▉| 484/485 [01:14<00:00,  6.33it/s]"
     ]
    },
    {
     "name": "stdout",
     "output_type": "stream",
     "text": [
      "352.3381049767636\n",
      "352.3381049767636\n"
     ]
    },
    {
     "name": "stderr",
     "output_type": "stream",
     "text": [
      "\u001b[A\n",
      "100%|██████████| 485/485 [01:14<00:00,  6.28it/s]"
     ]
    },
    {
     "name": "stdout",
     "output_type": "stream",
     "text": [
      "352.3381049767636\n",
      "352.3381049767636\n"
     ]
    },
    {
     "name": "stderr",
     "output_type": "stream",
     "text": [
      "\u001b[A\n",
      "\u001b[A"
     ]
    },
    {
     "name": "stdout",
     "output_type": "stream",
     "text": [
      "[MoviePy] Done.\n",
      "[MoviePy] >>>> Video ready: challenge.mp4 \n",
      "\n"
     ]
    }
   ],
   "source": [
    "reset_lines()\n",
    "challenge_output = 'challenge.mp4'\n",
    "clip1 = VideoFileClip(\"challenge_video.mp4\")\n",
    "white_clip = clip1.fl_image(pipeline)\n",
    "white_clip.write_videofile(challenge_output, audio=False)"
   ]
  },
  {
   "cell_type": "code",
   "execution_count": 627,
   "metadata": {
    "collapsed": false,
    "scrolled": false
   },
   "outputs": [
    {
     "data": {
      "text/html": [
       "\n",
       "<video width=\"960\" height=\"540\" controls>\n",
       "  <source src=\"challenge.mp4\">\n",
       "</video>\n"
      ],
      "text/plain": [
       "<IPython.core.display.HTML object>"
      ]
     },
     "execution_count": 627,
     "metadata": {},
     "output_type": "execute_result"
    }
   ],
   "source": [
    "HTML(\"\"\"\n",
    "<video width=\"960\" height=\"540\" controls>\n",
    "  <source src=\"{0}\">\n",
    "</video>\n",
    "\"\"\".format(challenge_output))"
   ]
  },
  {
   "cell_type": "code",
   "execution_count": 633,
   "metadata": {
    "collapsed": false,
    "scrolled": true
   },
   "outputs": [
    {
     "name": "stdout",
     "output_type": "stream",
     "text": [
      "15.021234704074232\n",
      "15.021234704074232\n",
      "[MoviePy] >>>> Building video harder_challenge_video_output.mp4\n",
      "[MoviePy] Writing video harder_challenge_video_output.mp4\n"
     ]
    },
    {
     "name": "stderr",
     "output_type": "stream",
     "text": [
      "\n",
      "  0%|          | 0/1200 [00:00<?, ?it/s]\u001b[A\n",
      "  0%|          | 1/1200 [00:00<02:51,  6.98it/s]"
     ]
    },
    {
     "name": "stdout",
     "output_type": "stream",
     "text": [
      "14.870681240829072\n",
      "14.870681240829072\n"
     ]
    },
    {
     "name": "stderr",
     "output_type": "stream",
     "text": [
      "\u001b[A\n",
      "  0%|          | 2/1200 [00:00<02:59,  6.66it/s]"
     ]
    },
    {
     "name": "stdout",
     "output_type": "stream",
     "text": [
      "14.50080387369826\n",
      "14.50080387369826\n"
     ]
    },
    {
     "name": "stderr",
     "output_type": "stream",
     "text": [
      "\u001b[A\n",
      "  0%|          | 3/1200 [00:00<03:03,  6.54it/s]"
     ]
    },
    {
     "name": "stdout",
     "output_type": "stream",
     "text": [
      "14.02001053114327\n",
      "14.02001053114327\n"
     ]
    },
    {
     "name": "stderr",
     "output_type": "stream",
     "text": [
      "\u001b[A\n",
      "  0%|          | 4/1200 [00:00<03:00,  6.64it/s]"
     ]
    },
    {
     "name": "stdout",
     "output_type": "stream",
     "text": [
      "13.796481569043863\n",
      "13.796481569043863\n"
     ]
    },
    {
     "name": "stderr",
     "output_type": "stream",
     "text": [
      "\u001b[A\n",
      "  0%|          | 5/1200 [00:00<02:59,  6.68it/s]"
     ]
    },
    {
     "name": "stdout",
     "output_type": "stream",
     "text": [
      "13.582457567842994\n",
      "13.582457567842994\n"
     ]
    },
    {
     "name": "stderr",
     "output_type": "stream",
     "text": [
      "\u001b[A\n",
      "  0%|          | 6/1200 [00:00<02:55,  6.79it/s]"
     ]
    },
    {
     "name": "stdout",
     "output_type": "stream",
     "text": [
      "12.774254841267066\n",
      "12.774254841267066\n"
     ]
    },
    {
     "name": "stderr",
     "output_type": "stream",
     "text": [
      "\u001b[A\n",
      "  1%|          | 7/1200 [00:01<02:53,  6.88it/s]"
     ]
    },
    {
     "name": "stdout",
     "output_type": "stream",
     "text": [
      "11.827636791467285\n",
      "11.827636791467285\n"
     ]
    },
    {
     "name": "stderr",
     "output_type": "stream",
     "text": [
      "\u001b[A\n",
      "  1%|          | 8/1200 [00:01<02:51,  6.94it/s]"
     ]
    },
    {
     "name": "stdout",
     "output_type": "stream",
     "text": [
      "10.465432901481563\n",
      "10.465432901481563\n"
     ]
    },
    {
     "name": "stderr",
     "output_type": "stream",
     "text": [
      "\u001b[A\n",
      "  1%|          | 9/1200 [00:01<02:53,  6.85it/s]"
     ]
    },
    {
     "name": "stdout",
     "output_type": "stream",
     "text": [
      "9.276156283538057\n",
      "9.276156283538057\n"
     ]
    },
    {
     "name": "stderr",
     "output_type": "stream",
     "text": [
      "\u001b[A\n",
      "  1%|          | 10/1200 [00:01<02:55,  6.79it/s]"
     ]
    },
    {
     "name": "stdout",
     "output_type": "stream",
     "text": [
      "7.8677991893605395\n",
      "7.8677991893605395\n"
     ]
    },
    {
     "name": "stderr",
     "output_type": "stream",
     "text": [
      "\u001b[A\n",
      "  1%|          | 11/1200 [00:01<02:51,  6.93it/s]"
     ]
    },
    {
     "name": "stdout",
     "output_type": "stream",
     "text": [
      "7.536134914805189\n",
      "7.536134914805189\n"
     ]
    },
    {
     "name": "stderr",
     "output_type": "stream",
     "text": [
      "\u001b[A\n",
      "  1%|          | 12/1200 [00:01<02:49,  6.99it/s]"
     ]
    },
    {
     "name": "stdout",
     "output_type": "stream",
     "text": [
      "7.8359333890416565\n",
      "7.8359333890416565\n"
     ]
    },
    {
     "name": "stderr",
     "output_type": "stream",
     "text": [
      "\u001b[A\n",
      "  1%|          | 13/1200 [00:01<02:50,  6.94it/s]"
     ]
    },
    {
     "name": "stdout",
     "output_type": "stream",
     "text": [
      "8.973807353852408\n",
      "8.973807353852408\n"
     ]
    },
    {
     "name": "stderr",
     "output_type": "stream",
     "text": [
      "\u001b[A\n",
      "  1%|          | 14/1200 [00:02<02:52,  6.88it/s]"
     ]
    },
    {
     "name": "stdout",
     "output_type": "stream",
     "text": [
      "9.6014433037044\n",
      "9.6014433037044\n"
     ]
    },
    {
     "name": "stderr",
     "output_type": "stream",
     "text": [
      "\u001b[A\n",
      "  1%|▏         | 15/1200 [00:02<02:49,  6.98it/s]"
     ]
    },
    {
     "name": "stdout",
     "output_type": "stream",
     "text": [
      "10.024577014265105\n",
      "10.024577014265105\n"
     ]
    },
    {
     "name": "stderr",
     "output_type": "stream",
     "text": [
      "\u001b[A\n",
      "  1%|▏         | 16/1200 [00:02<02:47,  7.05it/s]"
     ]
    },
    {
     "name": "stdout",
     "output_type": "stream",
     "text": [
      "10.714960463250918\n",
      "10.714960463250918\n"
     ]
    },
    {
     "name": "stderr",
     "output_type": "stream",
     "text": [
      "\u001b[A\n",
      "  1%|▏         | 17/1200 [00:02<02:48,  7.04it/s]"
     ]
    },
    {
     "name": "stdout",
     "output_type": "stream",
     "text": [
      "11.602166493333698\n",
      "11.602166493333698\n"
     ]
    },
    {
     "name": "stderr",
     "output_type": "stream",
     "text": [
      "\u001b[A\n",
      "  2%|▏         | 18/1200 [00:02<02:48,  7.02it/s]"
     ]
    },
    {
     "name": "stdout",
     "output_type": "stream",
     "text": [
      "12.70949943384403\n",
      "12.70949943384403\n"
     ]
    },
    {
     "name": "stderr",
     "output_type": "stream",
     "text": [
      "\u001b[A\n",
      "  2%|▏         | 19/1200 [00:02<02:51,  6.87it/s]"
     ]
    },
    {
     "name": "stdout",
     "output_type": "stream",
     "text": [
      "14.285424200581474\n",
      "14.285424200581474\n"
     ]
    },
    {
     "name": "stderr",
     "output_type": "stream",
     "text": [
      "\u001b[A\n",
      "  2%|▏         | 20/1200 [00:02<02:52,  6.84it/s]"
     ]
    },
    {
     "name": "stdout",
     "output_type": "stream",
     "text": [
      "15.94898299142551\n",
      "15.94898299142551\n"
     ]
    },
    {
     "name": "stderr",
     "output_type": "stream",
     "text": [
      "\u001b[A\n",
      "  2%|▏         | 21/1200 [00:03<02:54,  6.77it/s]"
     ]
    },
    {
     "name": "stdout",
     "output_type": "stream",
     "text": [
      "18.220998574402074\n",
      "18.220998574402074\n"
     ]
    },
    {
     "name": "stderr",
     "output_type": "stream",
     "text": [
      "\u001b[A\n",
      "  2%|▏         | 22/1200 [00:03<02:54,  6.75it/s]"
     ]
    },
    {
     "name": "stdout",
     "output_type": "stream",
     "text": [
      "19.3978434760038\n",
      "19.3978434760038\n"
     ]
    },
    {
     "name": "stderr",
     "output_type": "stream",
     "text": [
      "\u001b[A\n",
      "  2%|▏         | 23/1200 [00:03<03:02,  6.47it/s]"
     ]
    },
    {
     "name": "stdout",
     "output_type": "stream",
     "text": [
      "20.496198192181964\n",
      "20.496198192181964\n"
     ]
    },
    {
     "name": "stderr",
     "output_type": "stream",
     "text": [
      "\u001b[A\n",
      "  2%|▏         | 24/1200 [00:03<02:55,  6.69it/s]"
     ]
    },
    {
     "name": "stdout",
     "output_type": "stream",
     "text": [
      "19.412662331372758\n",
      "19.412662331372758\n"
     ]
    },
    {
     "name": "stderr",
     "output_type": "stream",
     "text": [
      "\u001b[A\n",
      "  2%|▏         | 25/1200 [00:03<02:53,  6.77it/s]"
     ]
    },
    {
     "name": "stdout",
     "output_type": "stream",
     "text": [
      "15.248283382744376\n",
      "15.248283382744376\n"
     ]
    },
    {
     "name": "stderr",
     "output_type": "stream",
     "text": [
      "\u001b[A\n",
      "  2%|▏         | 26/1200 [00:03<02:51,  6.85it/s]"
     ]
    },
    {
     "name": "stdout",
     "output_type": "stream",
     "text": [
      "358.7698399928645\n",
      "358.7698399928645\n"
     ]
    },
    {
     "name": "stderr",
     "output_type": "stream",
     "text": [
      "\u001b[A\n",
      "  2%|▏         | 27/1200 [00:03<02:50,  6.89it/s]"
     ]
    },
    {
     "name": "stdout",
     "output_type": "stream",
     "text": [
      "10.657124010503594\n",
      "10.657124010503594\n"
     ]
    },
    {
     "name": "stderr",
     "output_type": "stream",
     "text": [
      "\u001b[A\n",
      "  2%|▏         | 28/1200 [00:04<02:47,  7.00it/s]"
     ]
    },
    {
     "name": "stdout",
     "output_type": "stream",
     "text": [
      "17.584121718452025\n",
      "17.584121718452025\n"
     ]
    },
    {
     "name": "stderr",
     "output_type": "stream",
     "text": [
      "\u001b[A\n",
      "  2%|▏         | 29/1200 [00:04<02:47,  7.00it/s]"
     ]
    },
    {
     "name": "stdout",
     "output_type": "stream",
     "text": [
      "21.421026088429244\n",
      "21.421026088429244\n"
     ]
    },
    {
     "name": "stderr",
     "output_type": "stream",
     "text": [
      "\u001b[A\n",
      "  2%|▎         | 30/1200 [00:04<02:46,  7.01it/s]"
     ]
    },
    {
     "name": "stdout",
     "output_type": "stream",
     "text": [
      "23.949864961174626\n",
      "23.949864961174626\n"
     ]
    },
    {
     "name": "stderr",
     "output_type": "stream",
     "text": [
      "\u001b[A\n",
      "  3%|▎         | 31/1200 [00:04<02:50,  6.87it/s]"
     ]
    },
    {
     "name": "stdout",
     "output_type": "stream",
     "text": [
      "25.148970854639174\n",
      "25.148970854639174\n"
     ]
    },
    {
     "name": "stderr",
     "output_type": "stream",
     "text": [
      "\u001b[A\n",
      "  3%|▎         | 32/1200 [00:04<02:47,  6.95it/s]"
     ]
    },
    {
     "name": "stdout",
     "output_type": "stream",
     "text": [
      "24.679636821811982\n",
      "24.679636821811982\n"
     ]
    },
    {
     "name": "stderr",
     "output_type": "stream",
     "text": [
      "\u001b[A\n",
      "  3%|▎         | 33/1200 [00:04<02:49,  6.90it/s]"
     ]
    },
    {
     "name": "stdout",
     "output_type": "stream",
     "text": [
      "22.007635869159458\n",
      "22.007635869159458\n"
     ]
    },
    {
     "name": "stderr",
     "output_type": "stream",
     "text": [
      "\u001b[A\n",
      "  3%|▎         | 34/1200 [00:04<02:47,  6.97it/s]"
     ]
    },
    {
     "name": "stdout",
     "output_type": "stream",
     "text": [
      "16.57395871548806\n",
      "16.57395871548806\n"
     ]
    },
    {
     "name": "stderr",
     "output_type": "stream",
     "text": [
      "\u001b[A\n",
      "  3%|▎         | 35/1200 [00:05<02:45,  7.02it/s]"
     ]
    },
    {
     "name": "stdout",
     "output_type": "stream",
     "text": [
      "3.1707546762468155\n",
      "3.1707546762468155\n"
     ]
    },
    {
     "name": "stderr",
     "output_type": "stream",
     "text": [
      "\u001b[A\n",
      "  3%|▎         | 36/1200 [00:05<02:43,  7.13it/s]"
     ]
    },
    {
     "name": "stdout",
     "output_type": "stream",
     "text": [
      "12.172542097046971\n",
      "12.172542097046971\n"
     ]
    },
    {
     "name": "stderr",
     "output_type": "stream",
     "text": [
      "\u001b[A\n",
      "  3%|▎         | 37/1200 [00:05<02:40,  7.24it/s]"
     ]
    },
    {
     "name": "stdout",
     "output_type": "stream",
     "text": [
      "21.043430895847905\n",
      "21.043430895847905\n"
     ]
    },
    {
     "name": "stderr",
     "output_type": "stream",
     "text": [
      "\u001b[A\n",
      "  3%|▎         | 38/1200 [00:05<02:44,  7.04it/s]"
     ]
    },
    {
     "name": "stdout",
     "output_type": "stream",
     "text": [
      "24.976204311939455\n",
      "24.976204311939455\n"
     ]
    },
    {
     "name": "stderr",
     "output_type": "stream",
     "text": [
      "\u001b[A\n",
      "  3%|▎         | 39/1200 [00:05<02:43,  7.12it/s]"
     ]
    },
    {
     "name": "stdout",
     "output_type": "stream",
     "text": [
      "27.756234083060917\n",
      "27.756234083060917\n"
     ]
    },
    {
     "name": "stderr",
     "output_type": "stream",
     "text": [
      "\u001b[A\n",
      "  3%|▎         | 40/1200 [00:05<02:39,  7.26it/s]"
     ]
    },
    {
     "name": "stdout",
     "output_type": "stream",
     "text": [
      "32.59032548256346\n",
      "32.59032548256346\n"
     ]
    },
    {
     "name": "stderr",
     "output_type": "stream",
     "text": [
      "\u001b[A\n",
      "  3%|▎         | 41/1200 [00:05<02:41,  7.19it/s]"
     ]
    },
    {
     "name": "stdout",
     "output_type": "stream",
     "text": [
      "39.728823022659526\n",
      "39.728823022659526\n"
     ]
    },
    {
     "name": "stderr",
     "output_type": "stream",
     "text": [
      "\u001b[A\n",
      "  4%|▎         | 42/1200 [00:06<02:44,  7.03it/s]"
     ]
    },
    {
     "name": "stdout",
     "output_type": "stream",
     "text": [
      "47.583487253965814\n",
      "47.583487253965814\n"
     ]
    },
    {
     "name": "stderr",
     "output_type": "stream",
     "text": [
      "\u001b[A"
     ]
    },
    {
     "name": "stdout",
     "output_type": "stream",
     "text": [
      "53.264558338064944\n",
      "53.264558338064944\n"
     ]
    },
    {
     "name": "stderr",
     "output_type": "stream",
     "text": [
      "\n",
      "  4%|▎         | 43/1200 [00:06<02:54,  6.63it/s]\u001b[A\n",
      "  4%|▎         | 44/1200 [00:06<02:49,  6.81it/s]"
     ]
    },
    {
     "name": "stdout",
     "output_type": "stream",
     "text": [
      "57.03549682018593\n",
      "57.03549682018593\n"
     ]
    },
    {
     "name": "stderr",
     "output_type": "stream",
     "text": [
      "\u001b[A\n",
      "  4%|▍         | 45/1200 [00:06<02:48,  6.84it/s]"
     ]
    },
    {
     "name": "stdout",
     "output_type": "stream",
     "text": [
      "60.79386246708009\n",
      "60.79386246708009\n"
     ]
    },
    {
     "name": "stderr",
     "output_type": "stream",
     "text": [
      "\u001b[A\n",
      "  4%|▍         | 46/1200 [00:06<02:46,  6.94it/s]"
     ]
    },
    {
     "name": "stdout",
     "output_type": "stream",
     "text": [
      "64.06738060481257\n",
      "64.06738060481257\n"
     ]
    },
    {
     "name": "stderr",
     "output_type": "stream",
     "text": [
      "\u001b[A\n",
      "  4%|▍         | 47/1200 [00:06<02:45,  6.98it/s]"
     ]
    },
    {
     "name": "stdout",
     "output_type": "stream",
     "text": [
      "66.89718294908653\n",
      "66.89718294908653\n"
     ]
    },
    {
     "name": "stderr",
     "output_type": "stream",
     "text": [
      "\u001b[A\n",
      "  4%|▍         | 48/1200 [00:06<02:49,  6.81it/s]"
     ]
    },
    {
     "name": "stdout",
     "output_type": "stream",
     "text": [
      "68.92779910783565\n",
      "68.92779910783565\n"
     ]
    },
    {
     "name": "stderr",
     "output_type": "stream",
     "text": [
      "\u001b[A\n",
      "  4%|▍         | 49/1200 [00:07<02:56,  6.51it/s]"
     ]
    },
    {
     "name": "stdout",
     "output_type": "stream",
     "text": [
      "71.66054460460691\n",
      "71.66054460460691\n"
     ]
    },
    {
     "name": "stderr",
     "output_type": "stream",
     "text": [
      "\u001b[A"
     ]
    },
    {
     "name": "stdout",
     "output_type": "stream",
     "text": [
      "73.86116915189996\n",
      "73.86116915189996\n"
     ]
    },
    {
     "name": "stderr",
     "output_type": "stream",
     "text": [
      "\n",
      "  4%|▍         | 50/1200 [00:07<03:03,  6.26it/s]\u001b[A\n",
      "  4%|▍         | 51/1200 [00:07<03:04,  6.23it/s]"
     ]
    },
    {
     "name": "stdout",
     "output_type": "stream",
     "text": [
      "74.42007471230045\n",
      "74.42007471230045\n"
     ]
    },
    {
     "name": "stderr",
     "output_type": "stream",
     "text": [
      "\u001b[A"
     ]
    },
    {
     "name": "stdout",
     "output_type": "stream",
     "text": [
      "74.03593740930319\n",
      "74.03593740930319\n"
     ]
    },
    {
     "name": "stderr",
     "output_type": "stream",
     "text": [
      "\n",
      "  4%|▍         | 52/1200 [00:07<03:09,  6.05it/s]\u001b[A"
     ]
    },
    {
     "name": "stdout",
     "output_type": "stream",
     "text": [
      "73.4042650952806\n",
      "73.4042650952806\n"
     ]
    },
    {
     "name": "stderr",
     "output_type": "stream",
     "text": [
      "\n",
      "  4%|▍         | 53/1200 [00:07<03:14,  5.89it/s]\u001b[A"
     ]
    },
    {
     "name": "stdout",
     "output_type": "stream",
     "text": [
      "71.76527526402697\n",
      "71.76527526402697\n"
     ]
    },
    {
     "name": "stderr",
     "output_type": "stream",
     "text": [
      "\n",
      "  4%|▍         | 54/1200 [00:08<03:19,  5.76it/s]\u001b[A"
     ]
    },
    {
     "name": "stdout",
     "output_type": "stream",
     "text": [
      "69.82524351089614\n",
      "69.82524351089614\n"
     ]
    },
    {
     "name": "stderr",
     "output_type": "stream",
     "text": [
      "\n",
      "  5%|▍         | 55/1200 [00:08<03:17,  5.81it/s]\u001b[A"
     ]
    },
    {
     "name": "stdout",
     "output_type": "stream",
     "text": [
      "66.81890843593237\n",
      "66.81890843593237\n"
     ]
    },
    {
     "name": "stderr",
     "output_type": "stream",
     "text": [
      "\n",
      "  5%|▍         | 56/1200 [00:08<03:17,  5.78it/s]\u001b[A\n",
      "  5%|▍         | 57/1200 [00:08<03:10,  6.01it/s]"
     ]
    },
    {
     "name": "stdout",
     "output_type": "stream",
     "text": [
      "67.23845195893045\n",
      "67.23845195893045\n"
     ]
    },
    {
     "name": "stderr",
     "output_type": "stream",
     "text": [
      "\u001b[A\n",
      "  5%|▍         | 58/1200 [00:08<03:04,  6.19it/s]"
     ]
    },
    {
     "name": "stdout",
     "output_type": "stream",
     "text": [
      "68.6244883537197\n",
      "68.6244883537197\n"
     ]
    },
    {
     "name": "stderr",
     "output_type": "stream",
     "text": [
      "\u001b[A\n",
      "  5%|▍         | 59/1200 [00:08<02:57,  6.42it/s]"
     ]
    },
    {
     "name": "stdout",
     "output_type": "stream",
     "text": [
      "72.33907923557399\n",
      "72.33907923557399\n"
     ]
    },
    {
     "name": "stderr",
     "output_type": "stream",
     "text": [
      "\u001b[A\n",
      "  5%|▌         | 60/1200 [00:08<02:54,  6.54it/s]"
     ]
    },
    {
     "name": "stdout",
     "output_type": "stream",
     "text": [
      "74.40399108991551\n",
      "74.40399108991551\n"
     ]
    },
    {
     "name": "stderr",
     "output_type": "stream",
     "text": [
      "\u001b[A\n",
      "  5%|▌         | 61/1200 [00:09<02:53,  6.56it/s]"
     ]
    },
    {
     "name": "stdout",
     "output_type": "stream",
     "text": [
      "77.74464317662068\n",
      "77.74464317662068\n"
     ]
    },
    {
     "name": "stderr",
     "output_type": "stream",
     "text": [
      "\u001b[A\n",
      "  5%|▌         | 62/1200 [00:09<02:54,  6.51it/s]"
     ]
    },
    {
     "name": "stdout",
     "output_type": "stream",
     "text": [
      "80.91598570881888\n",
      "80.91598570881888\n"
     ]
    },
    {
     "name": "stderr",
     "output_type": "stream",
     "text": [
      "\u001b[A\n",
      "  5%|▌         | 63/1200 [00:09<02:53,  6.56it/s]"
     ]
    },
    {
     "name": "stdout",
     "output_type": "stream",
     "text": [
      "81.89415613704432\n",
      "81.89415613704432\n"
     ]
    },
    {
     "name": "stderr",
     "output_type": "stream",
     "text": [
      "\u001b[A\n",
      "  5%|▌         | 64/1200 [00:09<02:51,  6.64it/s]"
     ]
    },
    {
     "name": "stdout",
     "output_type": "stream",
     "text": [
      "82.04970411019804\n",
      "82.04970411019804\n"
     ]
    },
    {
     "name": "stderr",
     "output_type": "stream",
     "text": [
      "\u001b[A\n",
      "  5%|▌         | 65/1200 [00:09<02:51,  6.62it/s]"
     ]
    },
    {
     "name": "stdout",
     "output_type": "stream",
     "text": [
      "81.97185769873931\n",
      "81.97185769873931\n"
     ]
    },
    {
     "name": "stderr",
     "output_type": "stream",
     "text": [
      "\u001b[A\n",
      "  6%|▌         | 66/1200 [00:09<02:51,  6.63it/s]"
     ]
    },
    {
     "name": "stdout",
     "output_type": "stream",
     "text": [
      "84.55772972100112\n",
      "84.55772972100112\n"
     ]
    },
    {
     "name": "stderr",
     "output_type": "stream",
     "text": [
      "\u001b[A\n",
      "  6%|▌         | 67/1200 [00:09<02:48,  6.72it/s]"
     ]
    },
    {
     "name": "stdout",
     "output_type": "stream",
     "text": [
      "85.85839541339601\n",
      "85.85839541339601\n"
     ]
    },
    {
     "name": "stderr",
     "output_type": "stream",
     "text": [
      "\u001b[A\n",
      "  6%|▌         | 68/1200 [00:10<02:48,  6.72it/s]"
     ]
    },
    {
     "name": "stdout",
     "output_type": "stream",
     "text": [
      "87.5073926120549\n",
      "87.5073926120549\n"
     ]
    },
    {
     "name": "stderr",
     "output_type": "stream",
     "text": [
      "\u001b[A\n",
      "  6%|▌         | 69/1200 [00:10<02:48,  6.70it/s]"
     ]
    },
    {
     "name": "stdout",
     "output_type": "stream",
     "text": [
      "88.62663092004777\n",
      "88.62663092004777\n"
     ]
    },
    {
     "name": "stderr",
     "output_type": "stream",
     "text": [
      "\u001b[A\n",
      "  6%|▌         | 70/1200 [00:10<02:47,  6.76it/s]"
     ]
    },
    {
     "name": "stdout",
     "output_type": "stream",
     "text": [
      "90.64270235459071\n",
      "90.64270235459071\n"
     ]
    },
    {
     "name": "stderr",
     "output_type": "stream",
     "text": [
      "\u001b[A\n",
      "  6%|▌         | 71/1200 [00:10<02:49,  6.66it/s]"
     ]
    },
    {
     "name": "stdout",
     "output_type": "stream",
     "text": [
      "93.9052741025971\n",
      "93.9052741025971\n"
     ]
    },
    {
     "name": "stderr",
     "output_type": "stream",
     "text": [
      "\u001b[A\n",
      "  6%|▌         | 72/1200 [00:10<02:52,  6.53it/s]"
     ]
    },
    {
     "name": "stdout",
     "output_type": "stream",
     "text": [
      "95.14023180688037\n",
      "95.14023180688037\n"
     ]
    },
    {
     "name": "stderr",
     "output_type": "stream",
     "text": [
      "\u001b[A\n",
      "  6%|▌         | 73/1200 [00:10<02:53,  6.51it/s]"
     ]
    },
    {
     "name": "stdout",
     "output_type": "stream",
     "text": [
      "95.2707150445076\n",
      "95.2707150445076\n"
     ]
    },
    {
     "name": "stderr",
     "output_type": "stream",
     "text": [
      "\u001b[A"
     ]
    },
    {
     "name": "stdout",
     "output_type": "stream",
     "text": [
      "94.23661334882354\n",
      "94.23661334882354\n"
     ]
    },
    {
     "name": "stderr",
     "output_type": "stream",
     "text": [
      "\n",
      "  6%|▌         | 74/1200 [00:11<02:59,  6.28it/s]\u001b[A"
     ]
    },
    {
     "name": "stdout",
     "output_type": "stream",
     "text": [
      "93.67722612542912\n",
      "93.67722612542912\n"
     ]
    },
    {
     "name": "stderr",
     "output_type": "stream",
     "text": [
      "\n",
      "  6%|▋         | 75/1200 [00:11<03:05,  6.06it/s]\u001b[A\n",
      "  6%|▋         | 76/1200 [00:11<03:25,  5.47it/s]"
     ]
    },
    {
     "name": "stdout",
     "output_type": "stream",
     "text": [
      "91.43121683681875\n",
      "91.43121683681875\n"
     ]
    },
    {
     "name": "stderr",
     "output_type": "stream",
     "text": [
      "\u001b[A\n",
      "  6%|▋         | 77/1200 [00:11<03:33,  5.27it/s]"
     ]
    },
    {
     "name": "stdout",
     "output_type": "stream",
     "text": [
      "88.83108964000485\n",
      "88.83108964000485\n",
      "85.85839541339601\n",
      "85.85839541339601\n"
     ]
    },
    {
     "name": "stderr",
     "output_type": "stream",
     "text": [
      "\u001b[A\n",
      "  6%|▋         | 78/1200 [00:11<03:29,  5.36it/s]\u001b[A\n",
      "  7%|▋         | 79/1200 [00:12<03:26,  5.42it/s]\u001b[A"
     ]
    },
    {
     "name": "stdout",
     "output_type": "stream",
     "text": [
      "83.27515329590096\n",
      "83.27515329590096\n",
      "80.27651370739704\n",
      "80.27651370739704\n"
     ]
    },
    {
     "name": "stderr",
     "output_type": "stream",
     "text": [
      "\n",
      "  7%|▋         | 80/1200 [00:12<03:28,  5.38it/s]\u001b[A\n",
      "  7%|▋         | 81/1200 [00:12<03:20,  5.58it/s]\u001b[A\n",
      "  7%|▋         | 82/1200 [00:12<03:15,  5.71it/s]"
     ]
    },
    {
     "name": "stdout",
     "output_type": "stream",
     "text": [
      "79.0087727895143\n",
      "79.0087727895143\n",
      "77.86751037870408\n",
      "77.86751037870408\n"
     ]
    },
    {
     "name": "stderr",
     "output_type": "stream",
     "text": [
      "\u001b[A\n",
      "  7%|▋         | 83/1200 [00:12<03:18,  5.64it/s]\u001b[A"
     ]
    },
    {
     "name": "stdout",
     "output_type": "stream",
     "text": [
      "77.06699576220217\n",
      "77.06699576220217\n",
      "74.79188638001096\n",
      "74.79188638001096\n"
     ]
    },
    {
     "name": "stderr",
     "output_type": "stream",
     "text": [
      "\n",
      "  7%|▋         | 84/1200 [00:12<03:19,  5.61it/s]\u001b[A\n",
      "  7%|▋         | 85/1200 [00:13<03:23,  5.49it/s]\u001b[A\n",
      "  7%|▋         | 86/1200 [00:13<03:16,  5.66it/s]"
     ]
    },
    {
     "name": "stdout",
     "output_type": "stream",
     "text": [
      "72.4000022554228\n",
      "72.4000022554228\n",
      "68.91395543199451\n",
      "68.91395543199451\n"
     ]
    },
    {
     "name": "stderr",
     "output_type": "stream",
     "text": [
      "\u001b[A\n",
      "  7%|▋         | 87/1200 [00:13<03:14,  5.74it/s]\u001b[A"
     ]
    },
    {
     "name": "stdout",
     "output_type": "stream",
     "text": [
      "64.42948955260181\n",
      "64.42948955260181\n",
      "60.002046000225164\n",
      "60.002046000225164\n"
     ]
    },
    {
     "name": "stderr",
     "output_type": "stream",
     "text": [
      "\n",
      "  7%|▋         | 88/1200 [00:13<03:12,  5.79it/s]\u001b[A\n",
      "  7%|▋         | 89/1200 [00:13<03:13,  5.75it/s]\u001b[A\n",
      "  8%|▊         | 90/1200 [00:13<03:11,  5.79it/s]"
     ]
    },
    {
     "name": "stdout",
     "output_type": "stream",
     "text": [
      "56.78767130332153\n",
      "56.78767130332153\n",
      "55.752773645217076\n",
      "55.752773645217076\n"
     ]
    },
    {
     "name": "stderr",
     "output_type": "stream",
     "text": [
      "\u001b[A\n",
      "  8%|▊         | 91/1200 [00:14<03:11,  5.79it/s]\u001b[A"
     ]
    },
    {
     "name": "stdout",
     "output_type": "stream",
     "text": [
      "54.41987401124925\n",
      "54.41987401124925\n",
      "53.59339699993052\n",
      "53.59339699993052\n"
     ]
    },
    {
     "name": "stderr",
     "output_type": "stream",
     "text": [
      "\n",
      "  8%|▊         | 92/1200 [00:14<03:13,  5.74it/s]\u001b[A\n",
      "  8%|▊         | 93/1200 [00:14<03:15,  5.65it/s]\u001b[A"
     ]
    },
    {
     "name": "stdout",
     "output_type": "stream",
     "text": [
      "55.77109606689328\n",
      "55.77109606689328\n",
      "60.95685207082215\n",
      "60.95685207082215\n"
     ]
    },
    {
     "name": "stderr",
     "output_type": "stream",
     "text": [
      "\n",
      "  8%|▊         | 94/1200 [00:14<03:14,  5.69it/s]\u001b[A\n",
      "  8%|▊         | 95/1200 [00:14<03:16,  5.61it/s]\u001b[A\n",
      "  8%|▊         | 96/1200 [00:15<03:08,  5.85it/s]"
     ]
    },
    {
     "name": "stdout",
     "output_type": "stream",
     "text": [
      "66.1479478070396\n",
      "66.1479478070396\n",
      "61.95294672664659\n",
      "61.95294672664659\n"
     ]
    },
    {
     "name": "stderr",
     "output_type": "stream",
     "text": [
      "\u001b[A\n",
      "  8%|▊         | 97/1200 [00:15<03:02,  6.05it/s]\u001b[A\n",
      "  8%|▊         | 98/1200 [00:15<02:56,  6.24it/s]"
     ]
    },
    {
     "name": "stdout",
     "output_type": "stream",
     "text": [
      "45.01015916625602\n",
      "45.01015916625602\n",
      "33.68380155121258\n",
      "33.68380155121258\n"
     ]
    },
    {
     "name": "stderr",
     "output_type": "stream",
     "text": [
      "\u001b[A\n",
      "  8%|▊         | 99/1200 [00:15<02:51,  6.42it/s]\u001b[A\n",
      "  8%|▊         | 100/1200 [00:15<02:46,  6.62it/s]"
     ]
    },
    {
     "name": "stdout",
     "output_type": "stream",
     "text": [
      "36.46229257756113\n",
      "36.46229257756113\n",
      "38.53160519231869\n",
      "38.53160519231869\n"
     ]
    },
    {
     "name": "stderr",
     "output_type": "stream",
     "text": [
      "\u001b[A\n",
      "  8%|▊         | 101/1200 [00:15<02:45,  6.65it/s]\u001b[A\n",
      "  8%|▊         | 102/1200 [00:15<02:43,  6.73it/s]"
     ]
    },
    {
     "name": "stdout",
     "output_type": "stream",
     "text": [
      "36.486540517299545\n",
      "36.486540517299545\n",
      "28.028173553419492\n",
      "28.028173553419492\n"
     ]
    },
    {
     "name": "stderr",
     "output_type": "stream",
     "text": [
      "\u001b[A\n",
      "  9%|▊         | 103/1200 [00:16<02:41,  6.79it/s]\u001b[A\n",
      "  9%|▊         | 104/1200 [00:16<02:39,  6.88it/s]"
     ]
    },
    {
     "name": "stdout",
     "output_type": "stream",
     "text": [
      "21.908323902350276\n",
      "21.908323902350276\n",
      "15.50042702212022\n",
      "15.50042702212022\n"
     ]
    },
    {
     "name": "stderr",
     "output_type": "stream",
     "text": [
      "\u001b[A\n",
      "  9%|▉         | 105/1200 [00:16<02:39,  6.88it/s]\u001b[A\n",
      "  9%|▉         | 106/1200 [00:16<02:37,  6.96it/s]"
     ]
    },
    {
     "name": "stdout",
     "output_type": "stream",
     "text": [
      "7.591799950771474\n",
      "7.591799950771474\n",
      "2.413098665270809\n",
      "2.413098665270809\n"
     ]
    },
    {
     "name": "stderr",
     "output_type": "stream",
     "text": [
      "\u001b[A\n",
      "  9%|▉         | 107/1200 [00:16<02:34,  7.06it/s]\u001b[A\n",
      "  9%|▉         | 108/1200 [00:16<02:41,  6.77it/s]"
     ]
    },
    {
     "name": "stdout",
     "output_type": "stream",
     "text": [
      "8.272179941577633\n",
      "8.272179941577633\n",
      "348.1395584621482\n",
      "348.1395584621482\n"
     ]
    },
    {
     "name": "stderr",
     "output_type": "stream",
     "text": [
      "\u001b[A\n",
      "  9%|▉         | 109/1200 [00:16<02:43,  6.66it/s]\u001b[A\n",
      "  9%|▉         | 110/1200 [00:17<02:46,  6.55it/s]"
     ]
    },
    {
     "name": "stdout",
     "output_type": "stream",
     "text": [
      "349.19000368730394\n",
      "349.19000368730394\n",
      "352.73782285871994\n",
      "352.73782285871994\n"
     ]
    },
    {
     "name": "stderr",
     "output_type": "stream",
     "text": [
      "\u001b[A\n",
      "  9%|▉         | 111/1200 [00:17<02:44,  6.61it/s]\u001b[A\n",
      "  9%|▉         | 112/1200 [00:17<02:41,  6.73it/s]"
     ]
    },
    {
     "name": "stdout",
     "output_type": "stream",
     "text": [
      "355.0090305603394\n",
      "355.0090305603394\n",
      "357.8618389788703\n",
      "357.8618389788703\n"
     ]
    },
    {
     "name": "stderr",
     "output_type": "stream",
     "text": [
      "\u001b[A\n",
      "  9%|▉         | 113/1200 [00:17<02:37,  6.88it/s]\u001b[A\n",
      " 10%|▉         | 114/1200 [00:17<02:37,  6.88it/s]"
     ]
    },
    {
     "name": "stdout",
     "output_type": "stream",
     "text": [
      "354.93783764529053\n",
      "354.93783764529053\n",
      "351.11806534844163\n",
      "351.11806534844163\n"
     ]
    },
    {
     "name": "stderr",
     "output_type": "stream",
     "text": [
      "\u001b[A\n",
      " 10%|▉         | 115/1200 [00:17<02:37,  6.91it/s]\u001b[A\n",
      " 10%|▉         | 116/1200 [00:17<02:42,  6.65it/s]"
     ]
    },
    {
     "name": "stdout",
     "output_type": "stream",
     "text": [
      "347.39816797279946\n",
      "347.39816797279946\n",
      "344.2493925927056\n",
      "344.2493925927056\n"
     ]
    },
    {
     "name": "stderr",
     "output_type": "stream",
     "text": [
      "\u001b[A\n",
      " 10%|▉         | 117/1200 [00:18<02:41,  6.69it/s]\u001b[A\n",
      " 10%|▉         | 118/1200 [00:18<02:42,  6.67it/s]"
     ]
    },
    {
     "name": "stdout",
     "output_type": "stream",
     "text": [
      "341.54593299925\n",
      "341.54593299925\n",
      "339.01515837922534\n",
      "339.01515837922534\n"
     ]
    },
    {
     "name": "stderr",
     "output_type": "stream",
     "text": [
      "\u001b[A\n",
      " 10%|▉         | 119/1200 [00:18<02:38,  6.83it/s]\u001b[A\n",
      " 10%|█         | 120/1200 [00:18<02:39,  6.77it/s]"
     ]
    },
    {
     "name": "stdout",
     "output_type": "stream",
     "text": [
      "336.7548375237993\n",
      "336.7548375237993\n",
      "334.67446077798604\n",
      "334.67446077798604\n"
     ]
    },
    {
     "name": "stderr",
     "output_type": "stream",
     "text": [
      "\u001b[A\n",
      " 10%|█         | 121/1200 [00:18<02:36,  6.89it/s]\u001b[A\n",
      " 10%|█         | 122/1200 [00:18<02:33,  7.03it/s]"
     ]
    },
    {
     "name": "stdout",
     "output_type": "stream",
     "text": [
      "332.33197436220007\n",
      "332.33197436220007\n",
      "329.89381247739766\n",
      "329.89381247739766\n"
     ]
    },
    {
     "name": "stderr",
     "output_type": "stream",
     "text": [
      "\u001b[A\n",
      " 10%|█         | 123/1200 [00:18<02:35,  6.95it/s]\u001b[A\n",
      " 10%|█         | 124/1200 [00:19<02:35,  6.91it/s]"
     ]
    },
    {
     "name": "stdout",
     "output_type": "stream",
     "text": [
      "327.30059120720307\n",
      "327.30059120720307\n",
      "325.6413829011358\n",
      "325.6413829011358\n"
     ]
    },
    {
     "name": "stderr",
     "output_type": "stream",
     "text": [
      "\u001b[A\n",
      " 10%|█         | 125/1200 [00:19<02:36,  6.89it/s]\u001b[A\n",
      " 10%|█         | 126/1200 [00:19<02:36,  6.88it/s]"
     ]
    },
    {
     "name": "stdout",
     "output_type": "stream",
     "text": [
      "322.96608016063374\n",
      "322.96608016063374\n",
      "319.4105377698529\n",
      "319.4105377698529\n"
     ]
    },
    {
     "name": "stderr",
     "output_type": "stream",
     "text": [
      "\u001b[A\n",
      " 11%|█         | 127/1200 [00:19<02:39,  6.71it/s]\u001b[A\n",
      " 11%|█         | 128/1200 [00:19<02:36,  6.83it/s]"
     ]
    },
    {
     "name": "stdout",
     "output_type": "stream",
     "text": [
      "314.06692526060397\n",
      "314.06692526060397\n",
      "311.5063035161638\n",
      "311.5063035161638\n"
     ]
    },
    {
     "name": "stderr",
     "output_type": "stream",
     "text": [
      "\u001b[A\n",
      " 11%|█         | 129/1200 [00:19<02:33,  6.98it/s]\u001b[A\n",
      " 11%|█         | 130/1200 [00:19<02:29,  7.15it/s]"
     ]
    },
    {
     "name": "stdout",
     "output_type": "stream",
     "text": [
      "308.60341283733624\n",
      "308.60341283733624\n",
      "305.10513663039956\n",
      "305.10513663039956\n"
     ]
    },
    {
     "name": "stderr",
     "output_type": "stream",
     "text": [
      "\u001b[A\n",
      " 11%|█         | 131/1200 [00:20<02:34,  6.94it/s]\u001b[A\n",
      " 11%|█         | 132/1200 [00:20<02:37,  6.77it/s]"
     ]
    },
    {
     "name": "stdout",
     "output_type": "stream",
     "text": [
      "300.87603030864193\n",
      "300.87603030864193\n",
      "298.5828607179769\n",
      "298.5828607179769\n"
     ]
    },
    {
     "name": "stderr",
     "output_type": "stream",
     "text": [
      "\u001b[A\n",
      " 11%|█         | 133/1200 [00:20<02:36,  6.83it/s]\u001b[A\n",
      " 11%|█         | 134/1200 [00:20<02:34,  6.92it/s]"
     ]
    },
    {
     "name": "stdout",
     "output_type": "stream",
     "text": [
      "295.6989145124394\n",
      "295.6989145124394\n",
      "292.111112716505\n",
      "292.111112716505\n"
     ]
    },
    {
     "name": "stderr",
     "output_type": "stream",
     "text": [
      "\u001b[A\n",
      " 11%|█▏        | 135/1200 [00:20<02:34,  6.89it/s]\u001b[A\n",
      " 11%|█▏        | 136/1200 [00:20<02:35,  6.83it/s]"
     ]
    },
    {
     "name": "stdout",
     "output_type": "stream",
     "text": [
      "289.1511835077472\n",
      "289.1511835077472\n",
      "287.8117357836709\n",
      "287.8117357836709\n"
     ]
    },
    {
     "name": "stderr",
     "output_type": "stream",
     "text": [
      "\u001b[A\n",
      " 11%|█▏        | 137/1200 [00:21<02:37,  6.76it/s]\u001b[A"
     ]
    },
    {
     "name": "stdout",
     "output_type": "stream",
     "text": [
      "284.7460592001885\n",
      "284.7460592001885\n",
      "281.08793160056257\n",
      "281.08793160056257\n"
     ]
    },
    {
     "name": "stderr",
     "output_type": "stream",
     "text": [
      "\n",
      " 12%|█▏        | 138/1200 [00:21<02:45,  6.42it/s]\u001b[A\n",
      " 12%|█▏        | 139/1200 [00:21<02:43,  6.50it/s]\u001b[A\n",
      " 12%|█▏        | 140/1200 [00:21<02:38,  6.70it/s]"
     ]
    },
    {
     "name": "stdout",
     "output_type": "stream",
     "text": [
      "277.17437600731955\n",
      "277.17437600731955\n",
      "272.96365461991263\n",
      "272.96365461991263\n"
     ]
    },
    {
     "name": "stderr",
     "output_type": "stream",
     "text": [
      "\u001b[A\n",
      " 12%|█▏        | 141/1200 [00:21<02:32,  6.94it/s]\u001b[A\n",
      " 12%|█▏        | 142/1200 [00:21<02:33,  6.90it/s]"
     ]
    },
    {
     "name": "stdout",
     "output_type": "stream",
     "text": [
      "269.4023727660474\n",
      "269.4023727660474\n",
      "267.5190953893011\n",
      "267.5190953893011\n"
     ]
    },
    {
     "name": "stderr",
     "output_type": "stream",
     "text": [
      "\u001b[A\n",
      " 12%|█▏        | 143/1200 [00:21<02:40,  6.60it/s]\u001b[A\n",
      " 12%|█▏        | 144/1200 [00:22<02:36,  6.74it/s]"
     ]
    },
    {
     "name": "stdout",
     "output_type": "stream",
     "text": [
      "266.989409156703\n",
      "266.989409156703\n",
      "267.6105867060446\n",
      "267.6105867060446\n"
     ]
    },
    {
     "name": "stderr",
     "output_type": "stream",
     "text": [
      "\u001b[A\n",
      " 12%|█▏        | 145/1200 [00:22<02:33,  6.89it/s]\u001b[A\n",
      " 12%|█▏        | 146/1200 [00:22<02:30,  6.99it/s]"
     ]
    },
    {
     "name": "stdout",
     "output_type": "stream",
     "text": [
      "267.17434902650893\n",
      "267.17434902650893\n",
      "267.3585396422113\n",
      "267.3585396422113\n"
     ]
    },
    {
     "name": "stderr",
     "output_type": "stream",
     "text": [
      "\u001b[A\n",
      " 12%|█▏        | 147/1200 [00:22<02:30,  7.02it/s]\u001b[A\n",
      " 12%|█▏        | 148/1200 [00:22<02:29,  7.02it/s]"
     ]
    },
    {
     "name": "stdout",
     "output_type": "stream",
     "text": [
      "266.6406114143051\n",
      "266.6406114143051\n",
      "268.08790009005224\n",
      "268.08790009005224\n"
     ]
    },
    {
     "name": "stderr",
     "output_type": "stream",
     "text": [
      "\u001b[A\n",
      " 12%|█▏        | 149/1200 [00:22<02:33,  6.86it/s]\u001b[A\n",
      " 12%|█▎        | 150/1200 [00:22<02:30,  7.00it/s]"
     ]
    },
    {
     "name": "stdout",
     "output_type": "stream",
     "text": [
      "268.9389324431054\n",
      "268.9389324431054\n",
      "271.3981557750817\n",
      "271.3981557750817\n"
     ]
    },
    {
     "name": "stderr",
     "output_type": "stream",
     "text": [
      "\u001b[A\n",
      " 13%|█▎        | 151/1200 [00:23<02:29,  7.00it/s]\u001b[A\n",
      " 13%|█▎        | 152/1200 [00:23<02:25,  7.21it/s]"
     ]
    },
    {
     "name": "stdout",
     "output_type": "stream",
     "text": [
      "274.90080893643744\n",
      "274.90080893643744\n",
      "277.48389243536985\n",
      "277.48389243536985\n"
     ]
    },
    {
     "name": "stderr",
     "output_type": "stream",
     "text": [
      "\u001b[A\n",
      " 13%|█▎        | 153/1200 [00:23<02:25,  7.20it/s]\u001b[A\n",
      " 13%|█▎        | 154/1200 [00:23<02:28,  7.06it/s]"
     ]
    },
    {
     "name": "stdout",
     "output_type": "stream",
     "text": [
      "278.97918675873643\n",
      "278.97918675873643\n",
      "281.02166187968714\n",
      "281.02166187968714\n"
     ]
    },
    {
     "name": "stderr",
     "output_type": "stream",
     "text": [
      "\u001b[A\n",
      " 13%|█▎        | 155/1200 [00:23<02:32,  6.83it/s]\u001b[A\n",
      " 13%|█▎        | 156/1200 [00:23<02:32,  6.85it/s]"
     ]
    },
    {
     "name": "stdout",
     "output_type": "stream",
     "text": [
      "283.95664051792755\n",
      "283.95664051792755\n",
      "286.3187574572735\n",
      "286.3187574572735\n"
     ]
    },
    {
     "name": "stderr",
     "output_type": "stream",
     "text": [
      "\u001b[A\n",
      " 13%|█▎        | 157/1200 [00:23<02:33,  6.81it/s]\u001b[A\n",
      " 13%|█▎        | 158/1200 [00:24<02:29,  6.97it/s]"
     ]
    },
    {
     "name": "stdout",
     "output_type": "stream",
     "text": [
      "288.831170931584\n",
      "288.831170931584\n",
      "291.2114145805749\n",
      "291.2114145805749\n"
     ]
    },
    {
     "name": "stderr",
     "output_type": "stream",
     "text": [
      "\u001b[A\n",
      " 13%|█▎        | 159/1200 [00:24<02:31,  6.89it/s]\u001b[A\n",
      " 13%|█▎        | 160/1200 [00:24<02:28,  7.00it/s]"
     ]
    },
    {
     "name": "stdout",
     "output_type": "stream",
     "text": [
      "294.05828873767723\n",
      "294.05828873767723\n",
      "296.746845357005\n",
      "296.746845357005\n"
     ]
    },
    {
     "name": "stderr",
     "output_type": "stream",
     "text": [
      "\u001b[A\n",
      " 13%|█▎        | 161/1200 [00:24<02:27,  7.03it/s]\u001b[A\n",
      " 14%|█▎        | 162/1200 [00:24<02:23,  7.25it/s]"
     ]
    },
    {
     "name": "stdout",
     "output_type": "stream",
     "text": [
      "300.53548849730623\n",
      "300.53548849730623\n",
      "301.8651282994051\n",
      "301.8651282994051\n"
     ]
    },
    {
     "name": "stderr",
     "output_type": "stream",
     "text": [
      "\u001b[A\n",
      " 14%|█▎        | 163/1200 [00:24<02:25,  7.15it/s]\u001b[A\n",
      " 14%|█▎        | 164/1200 [00:24<02:24,  7.18it/s]"
     ]
    },
    {
     "name": "stdout",
     "output_type": "stream",
     "text": [
      "302.3035328666906\n",
      "302.3035328666906\n",
      "302.6923091248773\n",
      "302.6923091248773\n"
     ]
    },
    {
     "name": "stderr",
     "output_type": "stream",
     "text": [
      "\u001b[A\n",
      " 14%|█▍        | 165/1200 [00:25<02:28,  6.96it/s]\u001b[A\n",
      " 14%|█▍        | 166/1200 [00:25<02:27,  6.99it/s]"
     ]
    },
    {
     "name": "stdout",
     "output_type": "stream",
     "text": [
      "302.9824867703069\n",
      "302.9824867703069\n",
      "304.36486880872326\n",
      "304.36486880872326\n"
     ]
    },
    {
     "name": "stderr",
     "output_type": "stream",
     "text": [
      "\u001b[A\n",
      " 14%|█▍        | 167/1200 [00:25<02:31,  6.84it/s]\u001b[A\n",
      " 14%|█▍        | 168/1200 [00:25<02:34,  6.69it/s]"
     ]
    },
    {
     "name": "stdout",
     "output_type": "stream",
     "text": [
      "304.62989297483955\n",
      "304.62989297483955\n",
      "305.31625933376563\n",
      "305.31625933376563\n"
     ]
    },
    {
     "name": "stderr",
     "output_type": "stream",
     "text": [
      "\u001b[A\n",
      " 14%|█▍        | 169/1200 [00:25<02:30,  6.84it/s]\u001b[A\n",
      " 14%|█▍        | 170/1200 [00:25<02:28,  6.95it/s]"
     ]
    },
    {
     "name": "stdout",
     "output_type": "stream",
     "text": [
      "306.3097406921265\n",
      "306.3097406921265\n",
      "306.46673898876634\n",
      "306.46673898876634\n"
     ]
    },
    {
     "name": "stderr",
     "output_type": "stream",
     "text": [
      "\u001b[A\n",
      " 14%|█▍        | 171/1200 [00:25<02:31,  6.81it/s]\u001b[A\n",
      " 14%|█▍        | 172/1200 [00:26<02:31,  6.76it/s]"
     ]
    },
    {
     "name": "stdout",
     "output_type": "stream",
     "text": [
      "306.1819480491472\n",
      "306.1819480491472\n",
      "304.87649170859413\n",
      "304.87649170859413\n"
     ]
    },
    {
     "name": "stderr",
     "output_type": "stream",
     "text": [
      "\u001b[A\n",
      " 14%|█▍        | 173/1200 [00:26<02:29,  6.89it/s]\u001b[A\n",
      " 14%|█▍        | 174/1200 [00:26<02:23,  7.13it/s]"
     ]
    },
    {
     "name": "stdout",
     "output_type": "stream",
     "text": [
      "304.78130363012997\n",
      "304.78130363012997\n",
      "304.1297970066521\n",
      "304.1297970066521\n"
     ]
    },
    {
     "name": "stderr",
     "output_type": "stream",
     "text": [
      "\u001b[A\n",
      " 15%|█▍        | 175/1200 [00:26<02:28,  6.89it/s]\u001b[A\n",
      " 15%|█▍        | 176/1200 [00:26<02:25,  7.05it/s]"
     ]
    },
    {
     "name": "stdout",
     "output_type": "stream",
     "text": [
      "302.9570048321639\n",
      "302.9570048321639\n",
      "301.02205017323695\n",
      "301.02205017323695\n"
     ]
    },
    {
     "name": "stderr",
     "output_type": "stream",
     "text": [
      "\u001b[A\n",
      " 15%|█▍        | 177/1200 [00:26<02:25,  7.05it/s]\u001b[A\n",
      " 15%|█▍        | 178/1200 [00:26<02:21,  7.23it/s]"
     ]
    },
    {
     "name": "stdout",
     "output_type": "stream",
     "text": [
      "299.4122898383812\n",
      "299.4122898383812\n",
      "297.29908284890234\n",
      "297.29908284890234\n"
     ]
    },
    {
     "name": "stderr",
     "output_type": "stream",
     "text": [
      "\u001b[A\n",
      " 15%|█▍        | 179/1200 [00:27<02:29,  6.84it/s]\u001b[A\n",
      " 15%|█▌        | 180/1200 [00:27<02:24,  7.07it/s]"
     ]
    },
    {
     "name": "stdout",
     "output_type": "stream",
     "text": [
      "295.86162116773266\n",
      "295.86162116773266\n",
      "295.7315237155776\n",
      "295.7315237155776\n"
     ]
    },
    {
     "name": "stderr",
     "output_type": "stream",
     "text": [
      "\u001b[A\n",
      " 15%|█▌        | 181/1200 [00:27<02:23,  7.09it/s]\u001b[A\n",
      " 15%|█▌        | 182/1200 [00:27<02:20,  7.24it/s]"
     ]
    },
    {
     "name": "stdout",
     "output_type": "stream",
     "text": [
      "296.73632956381243\n",
      "296.73632956381243\n",
      "297.9528576121793\n",
      "297.9528576121793\n"
     ]
    },
    {
     "name": "stderr",
     "output_type": "stream",
     "text": [
      "\u001b[A\n",
      " 15%|█▌        | 183/1200 [00:27<02:23,  7.11it/s]\u001b[A\n",
      " 15%|█▌        | 184/1200 [00:27<02:20,  7.25it/s]"
     ]
    },
    {
     "name": "stdout",
     "output_type": "stream",
     "text": [
      "300.8577254166157\n",
      "300.8577254166157\n",
      "304.2921342804825\n",
      "304.2921342804825\n"
     ]
    },
    {
     "name": "stderr",
     "output_type": "stream",
     "text": [
      "\u001b[A\n",
      " 15%|█▌        | 185/1200 [00:27<02:21,  7.16it/s]\u001b[A\n",
      " 16%|█▌        | 186/1200 [00:28<02:18,  7.34it/s]"
     ]
    },
    {
     "name": "stdout",
     "output_type": "stream",
     "text": [
      "308.66499812384063\n",
      "308.66499812384063\n",
      "310.84099601202206\n",
      "310.84099601202206\n"
     ]
    },
    {
     "name": "stderr",
     "output_type": "stream",
     "text": [
      "\u001b[A\n",
      " 16%|█▌        | 187/1200 [00:28<02:24,  7.01it/s]\u001b[A\n",
      " 16%|█▌        | 188/1200 [00:28<02:22,  7.09it/s]"
     ]
    },
    {
     "name": "stdout",
     "output_type": "stream",
     "text": [
      "314.8819459270021\n",
      "314.8819459270021\n",
      "317.6891069277435\n",
      "317.6891069277435\n"
     ]
    },
    {
     "name": "stderr",
     "output_type": "stream",
     "text": [
      "\u001b[A\n",
      " 16%|█▌        | 189/1200 [00:28<02:22,  7.09it/s]\u001b[A\n",
      " 16%|█▌        | 190/1200 [00:28<02:19,  7.23it/s]"
     ]
    },
    {
     "name": "stdout",
     "output_type": "stream",
     "text": [
      "322.58814575389215\n",
      "322.58814575389215\n",
      "326.1164830246548\n",
      "326.1164830246548\n"
     ]
    },
    {
     "name": "stderr",
     "output_type": "stream",
     "text": [
      "\u001b[A\n",
      " 16%|█▌        | 191/1200 [00:28<02:24,  6.99it/s]\u001b[A\n",
      " 16%|█▌        | 192/1200 [00:28<02:22,  7.08it/s]"
     ]
    },
    {
     "name": "stdout",
     "output_type": "stream",
     "text": [
      "330.31484351305926\n",
      "330.31484351305926\n",
      "334.96490427080835\n",
      "334.96490427080835\n"
     ]
    },
    {
     "name": "stderr",
     "output_type": "stream",
     "text": [
      "\u001b[A\n",
      " 16%|█▌        | 193/1200 [00:29<02:23,  7.02it/s]\u001b[A\n",
      " 16%|█▌        | 194/1200 [00:29<02:19,  7.24it/s]"
     ]
    },
    {
     "name": "stdout",
     "output_type": "stream",
     "text": [
      "339.2192118617859\n",
      "339.2192118617859\n",
      "343.15301337919846\n",
      "343.15301337919846\n"
     ]
    },
    {
     "name": "stderr",
     "output_type": "stream",
     "text": [
      "\u001b[A\n",
      " 16%|█▋        | 195/1200 [00:29<02:19,  7.21it/s]\u001b[A\n",
      " 16%|█▋        | 196/1200 [00:29<02:16,  7.33it/s]"
     ]
    },
    {
     "name": "stdout",
     "output_type": "stream",
     "text": [
      "346.05496432073915\n",
      "346.05496432073915\n",
      "348.6444159510643\n",
      "348.6444159510643\n"
     ]
    },
    {
     "name": "stderr",
     "output_type": "stream",
     "text": [
      "\u001b[A\n",
      " 16%|█▋        | 197/1200 [00:29<02:19,  7.18it/s]\u001b[A\n",
      " 16%|█▋        | 198/1200 [00:29<02:20,  7.12it/s]"
     ]
    },
    {
     "name": "stdout",
     "output_type": "stream",
     "text": [
      "352.64927460102854\n",
      "352.64927460102854\n",
      "357.03190572717676\n",
      "357.03190572717676\n"
     ]
    },
    {
     "name": "stderr",
     "output_type": "stream",
     "text": [
      "\u001b[A\n",
      " 17%|█▋        | 199/1200 [00:29<02:23,  7.00it/s]\u001b[A\n",
      " 17%|█▋        | 200/1200 [00:30<02:20,  7.10it/s]"
     ]
    },
    {
     "name": "stdout",
     "output_type": "stream",
     "text": [
      "358.8544322914977\n",
      "358.8544322914977\n",
      "1.0103100806049952\n",
      "1.0103100806049952\n"
     ]
    },
    {
     "name": "stderr",
     "output_type": "stream",
     "text": [
      "\u001b[A\n",
      " 17%|█▋        | 201/1200 [00:30<02:21,  7.08it/s]\u001b[A\n",
      " 17%|█▋        | 202/1200 [00:30<02:20,  7.12it/s]"
     ]
    },
    {
     "name": "stdout",
     "output_type": "stream",
     "text": [
      "4.1791847701915685\n",
      "4.1791847701915685\n",
      "7.266855295826645\n",
      "7.266855295826645\n"
     ]
    },
    {
     "name": "stderr",
     "output_type": "stream",
     "text": [
      "\u001b[A\n",
      " 17%|█▋        | 203/1200 [00:30<02:21,  7.03it/s]\u001b[A\n",
      " 17%|█▋        | 204/1200 [00:30<02:21,  7.02it/s]"
     ]
    },
    {
     "name": "stdout",
     "output_type": "stream",
     "text": [
      "11.194675328089033\n",
      "11.194675328089033\n",
      "15.685292513998775\n",
      "15.685292513998775\n"
     ]
    },
    {
     "name": "stderr",
     "output_type": "stream",
     "text": [
      "\u001b[A\n",
      " 17%|█▋        | 205/1200 [00:30<02:26,  6.77it/s]\u001b[A\n",
      " 17%|█▋        | 206/1200 [00:30<02:23,  6.94it/s]"
     ]
    },
    {
     "name": "stdout",
     "output_type": "stream",
     "text": [
      "21.78993656945113\n",
      "21.78993656945113\n",
      "29.367514403100813\n",
      "29.367514403100813\n"
     ]
    },
    {
     "name": "stderr",
     "output_type": "stream",
     "text": [
      "\u001b[A\n",
      " 17%|█▋        | 207/1200 [00:31<02:23,  6.93it/s]\u001b[A\n",
      " 17%|█▋        | 208/1200 [00:31<02:22,  6.97it/s]"
     ]
    },
    {
     "name": "stdout",
     "output_type": "stream",
     "text": [
      "37.91719168605596\n",
      "37.91719168605596\n",
      "46.81415226983336\n",
      "46.81415226983336\n"
     ]
    },
    {
     "name": "stderr",
     "output_type": "stream",
     "text": [
      "\u001b[A\n",
      " 17%|█▋        | 209/1200 [00:31<02:25,  6.82it/s]\u001b[A\n",
      " 18%|█▊        | 210/1200 [00:31<02:26,  6.77it/s]"
     ]
    },
    {
     "name": "stdout",
     "output_type": "stream",
     "text": [
      "55.835316757384135\n",
      "55.835316757384135\n",
      "64.03138794883125\n",
      "64.03138794883125\n"
     ]
    },
    {
     "name": "stderr",
     "output_type": "stream",
     "text": [
      "\u001b[A\n",
      " 18%|█▊        | 211/1200 [00:31<02:26,  6.73it/s]\u001b[A\n",
      " 18%|█▊        | 212/1200 [00:31<02:22,  6.96it/s]"
     ]
    },
    {
     "name": "stdout",
     "output_type": "stream",
     "text": [
      "72.62936059414142\n",
      "72.62936059414142\n",
      "79.24461077323394\n",
      "79.24461077323394\n"
     ]
    },
    {
     "name": "stderr",
     "output_type": "stream",
     "text": [
      "\u001b[A\n",
      " 18%|█▊        | 213/1200 [00:31<02:21,  6.98it/s]\u001b[A\n",
      " 18%|█▊        | 214/1200 [00:32<02:18,  7.10it/s]"
     ]
    },
    {
     "name": "stdout",
     "output_type": "stream",
     "text": [
      "79.24461077323394\n",
      "79.24461077323394\n",
      "79.24461077323394\n",
      "79.24461077323394\n"
     ]
    },
    {
     "name": "stderr",
     "output_type": "stream",
     "text": [
      "\u001b[A\n",
      " 18%|█▊        | 215/1200 [00:32<02:25,  6.75it/s]\u001b[A\n",
      " 18%|█▊        | 216/1200 [00:32<02:22,  6.92it/s]"
     ]
    },
    {
     "name": "stdout",
     "output_type": "stream",
     "text": [
      "81.16313892755079\n",
      "81.16313892755079\n",
      "72.75226740776088\n",
      "72.75226740776088\n"
     ]
    },
    {
     "name": "stderr",
     "output_type": "stream",
     "text": [
      "\u001b[A\n",
      " 18%|█▊        | 217/1200 [00:32<02:20,  6.98it/s]\u001b[A\n",
      " 18%|█▊        | 218/1200 [00:32<02:17,  7.13it/s]"
     ]
    },
    {
     "name": "stdout",
     "output_type": "stream",
     "text": [
      "40.39138863436801\n",
      "40.39138863436801\n",
      "0.9376721893950162\n",
      "0.9376721893950162\n"
     ]
    },
    {
     "name": "stderr",
     "output_type": "stream",
     "text": [
      "\u001b[A\n",
      " 18%|█▊        | 219/1200 [00:32<02:22,  6.90it/s]\u001b[A\n",
      " 18%|█▊        | 220/1200 [00:32<02:18,  7.07it/s]"
     ]
    },
    {
     "name": "stdout",
     "output_type": "stream",
     "text": [
      "52.03545791368242\n",
      "52.03545791368242\n",
      "69.7118160066957\n",
      "69.7118160066957\n"
     ]
    },
    {
     "name": "stderr",
     "output_type": "stream",
     "text": [
      "\u001b[A\n",
      " 18%|█▊        | 221/1200 [00:33<02:20,  6.96it/s]\u001b[A\n",
      " 18%|█▊        | 222/1200 [00:33<02:19,  7.03it/s]"
     ]
    },
    {
     "name": "stdout",
     "output_type": "stream",
     "text": [
      "289.4551043987476\n",
      "289.4551043987476\n",
      "289.4551043987476\n",
      "289.4551043987476\n"
     ]
    },
    {
     "name": "stderr",
     "output_type": "stream",
     "text": [
      "\u001b[A\n",
      " 19%|█▊        | 223/1200 [00:33<02:23,  6.79it/s]\u001b[A\n",
      " 19%|█▊        | 224/1200 [00:33<02:20,  6.95it/s]"
     ]
    },
    {
     "name": "stdout",
     "output_type": "stream",
     "text": [
      "289.4551043987476\n",
      "289.4551043987476\n",
      "289.4551043987476\n",
      "289.4551043987476\n"
     ]
    },
    {
     "name": "stderr",
     "output_type": "stream",
     "text": [
      "\u001b[A\n",
      " 19%|█▉        | 225/1200 [00:33<02:24,  6.76it/s]\u001b[A\n",
      " 19%|█▉        | 226/1200 [00:33<02:27,  6.62it/s]"
     ]
    },
    {
     "name": "stdout",
     "output_type": "stream",
     "text": [
      "289.4551043987476\n",
      "289.4551043987476\n",
      "289.4551043987476\n",
      "289.4551043987476\n"
     ]
    },
    {
     "name": "stderr",
     "output_type": "stream",
     "text": [
      "\u001b[A\n",
      " 19%|█▉        | 227/1200 [00:33<02:28,  6.54it/s]\u001b[A\n",
      " 19%|█▉        | 228/1200 [00:34<02:23,  6.78it/s]"
     ]
    },
    {
     "name": "stdout",
     "output_type": "stream",
     "text": [
      "289.4551043987476\n",
      "289.4551043987476\n",
      "289.4551043987476\n",
      "289.4551043987476\n"
     ]
    },
    {
     "name": "stderr",
     "output_type": "stream",
     "text": [
      "\u001b[A\n",
      " 19%|█▉        | 229/1200 [00:34<02:22,  6.80it/s]\u001b[A\n",
      " 19%|█▉        | 230/1200 [00:34<02:21,  6.86it/s]"
     ]
    },
    {
     "name": "stdout",
     "output_type": "stream",
     "text": [
      "289.4551043987476\n",
      "289.4551043987476\n",
      "289.4551043987476\n",
      "289.4551043987476\n"
     ]
    },
    {
     "name": "stderr",
     "output_type": "stream",
     "text": [
      "\u001b[A\n",
      " 19%|█▉        | 231/1200 [00:34<02:22,  6.82it/s]\u001b[A\n",
      " 19%|█▉        | 232/1200 [00:34<02:17,  7.02it/s]"
     ]
    },
    {
     "name": "stdout",
     "output_type": "stream",
     "text": [
      "289.4551043987476\n",
      "289.4551043987476\n",
      "289.4551043987476\n",
      "289.4551043987476\n"
     ]
    },
    {
     "name": "stderr",
     "output_type": "stream",
     "text": [
      "\u001b[A\n",
      " 19%|█▉        | 233/1200 [00:34<02:20,  6.87it/s]\u001b[A\n",
      " 20%|█▉        | 234/1200 [00:34<02:19,  6.94it/s]"
     ]
    },
    {
     "name": "stdout",
     "output_type": "stream",
     "text": [
      "289.4551043987476\n",
      "289.4551043987476\n",
      "289.4551043987476\n",
      "289.4551043987476\n"
     ]
    },
    {
     "name": "stderr",
     "output_type": "stream",
     "text": [
      "\u001b[A\n",
      " 20%|█▉        | 235/1200 [00:35<02:22,  6.79it/s]\u001b[A\n",
      " 20%|█▉        | 236/1200 [00:35<02:19,  6.92it/s]"
     ]
    },
    {
     "name": "stdout",
     "output_type": "stream",
     "text": [
      "289.4551043987476\n",
      "289.4551043987476\n",
      "289.4551043987476\n",
      "289.4551043987476\n"
     ]
    },
    {
     "name": "stderr",
     "output_type": "stream",
     "text": [
      "\u001b[A\n",
      " 20%|█▉        | 237/1200 [00:35<02:20,  6.83it/s]\u001b[A\n",
      " 20%|█▉        | 238/1200 [00:35<02:18,  6.96it/s]"
     ]
    },
    {
     "name": "stdout",
     "output_type": "stream",
     "text": [
      "289.4551043987476\n",
      "289.4551043987476\n",
      "289.4551043987476\n",
      "289.4551043987476\n"
     ]
    },
    {
     "name": "stderr",
     "output_type": "stream",
     "text": [
      "\u001b[A\n",
      " 20%|█▉        | 239/1200 [00:35<02:19,  6.91it/s]\u001b[A\n",
      " 20%|██        | 240/1200 [00:35<02:20,  6.82it/s]"
     ]
    },
    {
     "name": "stdout",
     "output_type": "stream",
     "text": [
      "289.4551043987476\n",
      "289.4551043987476\n",
      "289.4551043987476\n",
      "289.4551043987476\n"
     ]
    },
    {
     "name": "stderr",
     "output_type": "stream",
     "text": [
      "\u001b[A\n",
      " 20%|██        | 241/1200 [00:35<02:22,  6.72it/s]\u001b[A\n",
      " 20%|██        | 242/1200 [00:36<02:21,  6.78it/s]"
     ]
    },
    {
     "name": "stdout",
     "output_type": "stream",
     "text": [
      "289.4551043987476\n",
      "289.4551043987476\n",
      "289.4551043987476\n",
      "289.4551043987476\n"
     ]
    },
    {
     "name": "stderr",
     "output_type": "stream",
     "text": [
      "\u001b[A\n",
      " 20%|██        | 243/1200 [00:36<02:21,  6.75it/s]\u001b[A\n",
      " 20%|██        | 244/1200 [00:36<02:23,  6.68it/s]"
     ]
    },
    {
     "name": "stdout",
     "output_type": "stream",
     "text": [
      "289.4551043987476\n",
      "289.4551043987476\n",
      "289.4551043987476\n",
      "289.4551043987476\n"
     ]
    },
    {
     "name": "stderr",
     "output_type": "stream",
     "text": [
      "\u001b[A\n",
      " 20%|██        | 245/1200 [00:36<02:21,  6.73it/s]\u001b[A\n",
      " 20%|██        | 246/1200 [00:36<02:19,  6.83it/s]"
     ]
    },
    {
     "name": "stdout",
     "output_type": "stream",
     "text": [
      "289.4551043987476\n",
      "289.4551043987476\n",
      "289.4551043987476\n",
      "289.4551043987476\n"
     ]
    },
    {
     "name": "stderr",
     "output_type": "stream",
     "text": [
      "\u001b[A\n",
      " 21%|██        | 247/1200 [00:36<02:20,  6.79it/s]\u001b[A\n",
      " 21%|██        | 248/1200 [00:37<02:21,  6.72it/s]"
     ]
    },
    {
     "name": "stdout",
     "output_type": "stream",
     "text": [
      "289.4551043987476\n",
      "289.4551043987476\n",
      "289.4551043987476\n",
      "289.4551043987476\n"
     ]
    },
    {
     "name": "stderr",
     "output_type": "stream",
     "text": [
      "\u001b[A\n",
      " 21%|██        | 249/1200 [00:37<02:21,  6.72it/s]\u001b[A"
     ]
    },
    {
     "name": "stdout",
     "output_type": "stream",
     "text": [
      "289.4551043987476\n",
      "289.4551043987476\n",
      "289.4551043987476\n",
      "289.4551043987476\n"
     ]
    },
    {
     "name": "stderr",
     "output_type": "stream",
     "text": [
      "\n",
      " 21%|██        | 250/1200 [00:37<02:29,  6.34it/s]\u001b[A\n",
      " 21%|██        | 251/1200 [00:37<02:24,  6.55it/s]\u001b[A"
     ]
    },
    {
     "name": "stdout",
     "output_type": "stream",
     "text": [
      "289.4551043987476\n",
      "289.4551043987476\n",
      "289.4551043987476\n",
      "289.4551043987476\n"
     ]
    },
    {
     "name": "stderr",
     "output_type": "stream",
     "text": [
      "\n",
      " 21%|██        | 252/1200 [00:37<02:29,  6.32it/s]\u001b[A\n",
      " 21%|██        | 253/1200 [00:37<02:29,  6.35it/s]\u001b[A\n",
      " 21%|██        | 254/1200 [00:37<02:28,  6.39it/s]"
     ]
    },
    {
     "name": "stdout",
     "output_type": "stream",
     "text": [
      "289.4551043987476\n",
      "289.4551043987476\n",
      "294.13836338725787\n",
      "294.13836338725787\n"
     ]
    },
    {
     "name": "stderr",
     "output_type": "stream",
     "text": [
      "\u001b[A\n",
      " 21%|██▏       | 255/1200 [00:38<02:26,  6.44it/s]\u001b[A\n",
      " 21%|██▏       | 256/1200 [00:38<02:21,  6.66it/s]"
     ]
    },
    {
     "name": "stdout",
     "output_type": "stream",
     "text": [
      "297.1126461599724\n",
      "297.1126461599724\n",
      "302.4856366298095\n",
      "302.4856366298095\n"
     ]
    },
    {
     "name": "stderr",
     "output_type": "stream",
     "text": [
      "\u001b[A\n",
      " 21%|██▏       | 257/1200 [00:38<02:21,  6.64it/s]\u001b[A\n",
      " 22%|██▏       | 258/1200 [00:38<02:23,  6.55it/s]"
     ]
    },
    {
     "name": "stdout",
     "output_type": "stream",
     "text": [
      "53.323292110923376\n",
      "53.323292110923376\n",
      "41.845249845782746\n",
      "41.845249845782746\n"
     ]
    },
    {
     "name": "stderr",
     "output_type": "stream",
     "text": [
      "\u001b[A\n",
      " 22%|██▏       | 259/1200 [00:38<02:24,  6.50it/s]\u001b[A\n",
      " 22%|██▏       | 260/1200 [00:38<02:25,  6.45it/s]"
     ]
    },
    {
     "name": "stdout",
     "output_type": "stream",
     "text": [
      "23.38611708724511\n",
      "23.38611708724511\n",
      "21.727382379459414\n",
      "21.727382379459414\n"
     ]
    },
    {
     "name": "stderr",
     "output_type": "stream",
     "text": [
      "\u001b[A\n",
      " 22%|██▏       | 261/1200 [00:39<02:28,  6.30it/s]\u001b[A\n",
      " 22%|██▏       | 262/1200 [00:39<02:30,  6.25it/s]"
     ]
    },
    {
     "name": "stdout",
     "output_type": "stream",
     "text": [
      "17.958264687478277\n",
      "17.958264687478277\n",
      "10.641060028184256\n",
      "10.641060028184256\n"
     ]
    },
    {
     "name": "stderr",
     "output_type": "stream",
     "text": [
      "\u001b[A\n",
      " 22%|██▏       | 263/1200 [00:39<02:31,  6.20it/s]\u001b[A\n",
      " 22%|██▏       | 264/1200 [00:39<02:30,  6.21it/s]"
     ]
    },
    {
     "name": "stdout",
     "output_type": "stream",
     "text": [
      "4.978769693136655\n",
      "4.978769693136655\n",
      "20.518073999068747\n",
      "20.518073999068747\n"
     ]
    },
    {
     "name": "stderr",
     "output_type": "stream",
     "text": [
      "\u001b[A\n",
      " 22%|██▏       | 265/1200 [00:39<02:31,  6.16it/s]\u001b[A\n",
      " 22%|██▏       | 266/1200 [00:39<02:29,  6.27it/s]"
     ]
    },
    {
     "name": "stdout",
     "output_type": "stream",
     "text": [
      "26.604975445714445\n",
      "26.604975445714445\n",
      "26.604975445714445\n",
      "26.604975445714445\n"
     ]
    },
    {
     "name": "stderr",
     "output_type": "stream",
     "text": [
      "\u001b[A\n",
      " 22%|██▏       | 267/1200 [00:40<02:27,  6.32it/s]\u001b[A\n",
      " 22%|██▏       | 268/1200 [00:40<02:26,  6.34it/s]"
     ]
    },
    {
     "name": "stdout",
     "output_type": "stream",
     "text": [
      "26.604975445714445\n",
      "26.604975445714445\n",
      "26.604975445714445\n",
      "26.604975445714445\n"
     ]
    },
    {
     "name": "stderr",
     "output_type": "stream",
     "text": [
      "\u001b[A\n",
      " 22%|██▏       | 269/1200 [00:40<02:27,  6.33it/s]\u001b[A\n",
      " 22%|██▎       | 270/1200 [00:40<02:26,  6.36it/s]"
     ]
    },
    {
     "name": "stdout",
     "output_type": "stream",
     "text": [
      "26.604975445714445\n",
      "26.604975445714445\n",
      "26.604975445714445\n",
      "26.604975445714445\n"
     ]
    },
    {
     "name": "stderr",
     "output_type": "stream",
     "text": [
      "\u001b[A\n",
      " 23%|██▎       | 271/1200 [00:40<02:23,  6.49it/s]\u001b[A\n",
      " 23%|██▎       | 272/1200 [00:40<02:20,  6.62it/s]"
     ]
    },
    {
     "name": "stdout",
     "output_type": "stream",
     "text": [
      "26.604975445714445\n",
      "26.604975445714445\n",
      "26.604975445714445\n",
      "26.604975445714445\n"
     ]
    },
    {
     "name": "stderr",
     "output_type": "stream",
     "text": [
      "\u001b[A\n",
      " 23%|██▎       | 273/1200 [00:40<02:19,  6.66it/s]\u001b[A\n",
      " 23%|██▎       | 274/1200 [00:41<02:18,  6.68it/s]"
     ]
    },
    {
     "name": "stdout",
     "output_type": "stream",
     "text": [
      "26.604975445714445\n",
      "26.604975445714445\n",
      "26.604975445714445\n",
      "26.604975445714445\n"
     ]
    },
    {
     "name": "stderr",
     "output_type": "stream",
     "text": [
      "\u001b[A\n",
      " 23%|██▎       | 275/1200 [00:41<02:22,  6.49it/s]\u001b[A\n",
      " 23%|██▎       | 276/1200 [00:41<02:19,  6.62it/s]"
     ]
    },
    {
     "name": "stdout",
     "output_type": "stream",
     "text": [
      "26.604975445714445\n",
      "26.604975445714445\n",
      "26.604975445714445\n",
      "26.604975445714445\n"
     ]
    },
    {
     "name": "stderr",
     "output_type": "stream",
     "text": [
      "\u001b[A\n",
      " 23%|██▎       | 277/1200 [00:41<02:20,  6.59it/s]\u001b[A\n",
      " 23%|██▎       | 278/1200 [00:41<02:17,  6.71it/s]"
     ]
    },
    {
     "name": "stdout",
     "output_type": "stream",
     "text": [
      "26.604975445714445\n",
      "26.604975445714445\n",
      "26.604975445714445\n",
      "26.604975445714445\n"
     ]
    },
    {
     "name": "stderr",
     "output_type": "stream",
     "text": [
      "\u001b[A\n",
      " 23%|██▎       | 279/1200 [00:41<02:20,  6.55it/s]\u001b[A\n",
      " 23%|██▎       | 280/1200 [00:41<02:20,  6.57it/s]"
     ]
    },
    {
     "name": "stdout",
     "output_type": "stream",
     "text": [
      "26.604975445714445\n",
      "26.604975445714445\n",
      "26.604975445714445\n",
      "26.604975445714445\n"
     ]
    },
    {
     "name": "stderr",
     "output_type": "stream",
     "text": [
      "\u001b[A\n",
      " 23%|██▎       | 281/1200 [00:42<02:21,  6.48it/s]\u001b[A\n",
      " 24%|██▎       | 282/1200 [00:42<02:20,  6.54it/s]"
     ]
    },
    {
     "name": "stdout",
     "output_type": "stream",
     "text": [
      "26.604975445714445\n",
      "26.604975445714445\n",
      "26.604975445714445\n",
      "26.604975445714445\n"
     ]
    },
    {
     "name": "stderr",
     "output_type": "stream",
     "text": [
      "\u001b[A\n",
      " 24%|██▎       | 283/1200 [00:42<02:22,  6.46it/s]\u001b[A\n",
      " 24%|██▎       | 284/1200 [00:42<02:19,  6.57it/s]"
     ]
    },
    {
     "name": "stdout",
     "output_type": "stream",
     "text": [
      "26.604975445714445\n",
      "26.604975445714445\n",
      "26.604975445714445\n",
      "26.604975445714445\n"
     ]
    },
    {
     "name": "stderr",
     "output_type": "stream",
     "text": [
      "\u001b[A\n",
      " 24%|██▍       | 285/1200 [00:42<02:19,  6.54it/s]\u001b[A\n",
      " 24%|██▍       | 286/1200 [00:42<02:16,  6.70it/s]"
     ]
    },
    {
     "name": "stdout",
     "output_type": "stream",
     "text": [
      "26.604975445714445\n",
      "26.604975445714445\n",
      "26.604975445714445\n",
      "26.604975445714445\n"
     ]
    },
    {
     "name": "stderr",
     "output_type": "stream",
     "text": [
      "\u001b[A\n",
      " 24%|██▍       | 287/1200 [00:43<02:22,  6.41it/s]\u001b[A\n",
      " 24%|██▍       | 288/1200 [00:43<02:23,  6.34it/s]"
     ]
    },
    {
     "name": "stdout",
     "output_type": "stream",
     "text": [
      "26.604975445714445\n",
      "26.604975445714445\n",
      "26.604975445714445\n",
      "26.604975445714445\n"
     ]
    },
    {
     "name": "stderr",
     "output_type": "stream",
     "text": [
      "\u001b[A\n",
      " 24%|██▍       | 289/1200 [00:43<02:24,  6.32it/s]\u001b[A\n",
      " 24%|██▍       | 290/1200 [00:43<02:21,  6.45it/s]"
     ]
    },
    {
     "name": "stdout",
     "output_type": "stream",
     "text": [
      "26.604975445714445\n",
      "26.604975445714445\n",
      "26.604975445714445\n",
      "26.604975445714445\n"
     ]
    },
    {
     "name": "stderr",
     "output_type": "stream",
     "text": [
      "\u001b[A\n",
      " 24%|██▍       | 291/1200 [00:43<02:22,  6.37it/s]\u001b[A\n",
      " 24%|██▍       | 292/1200 [00:43<02:18,  6.54it/s]"
     ]
    },
    {
     "name": "stdout",
     "output_type": "stream",
     "text": [
      "26.604975445714445\n",
      "26.604975445714445\n",
      "26.604975445714445\n",
      "26.604975445714445\n"
     ]
    },
    {
     "name": "stderr",
     "output_type": "stream",
     "text": [
      "\u001b[A\n",
      " 24%|██▍       | 293/1200 [00:43<02:19,  6.51it/s]\u001b[A\n",
      " 24%|██▍       | 294/1200 [00:44<02:15,  6.67it/s]"
     ]
    },
    {
     "name": "stdout",
     "output_type": "stream",
     "text": [
      "26.604975445714445\n",
      "26.604975445714445\n",
      "26.604975445714445\n",
      "26.604975445714445\n"
     ]
    },
    {
     "name": "stderr",
     "output_type": "stream",
     "text": [
      "\u001b[A\n",
      " 25%|██▍       | 295/1200 [00:44<02:15,  6.66it/s]\u001b[A\n",
      " 25%|██▍       | 296/1200 [00:44<02:13,  6.75it/s]"
     ]
    },
    {
     "name": "stdout",
     "output_type": "stream",
     "text": [
      "23.309580387552614\n",
      "23.309580387552614\n",
      "20.915091829813264\n",
      "20.915091829813264\n"
     ]
    },
    {
     "name": "stderr",
     "output_type": "stream",
     "text": [
      "\u001b[A\n",
      " 25%|██▍       | 297/1200 [00:44<02:13,  6.76it/s]\u001b[A\n",
      " 25%|██▍       | 298/1200 [00:44<02:13,  6.75it/s]"
     ]
    },
    {
     "name": "stdout",
     "output_type": "stream",
     "text": [
      "21.416580628078464\n",
      "21.416580628078464\n",
      "18.734489825761102\n",
      "18.734489825761102\n"
     ]
    },
    {
     "name": "stderr",
     "output_type": "stream",
     "text": [
      "\u001b[A\n",
      " 25%|██▍       | 299/1200 [00:44<02:18,  6.53it/s]\u001b[A\n",
      " 25%|██▌       | 300/1200 [00:45<02:16,  6.60it/s]"
     ]
    },
    {
     "name": "stdout",
     "output_type": "stream",
     "text": [
      "12.463396090480273\n",
      "12.463396090480273\n",
      "10.010114712381437\n",
      "10.010114712381437\n"
     ]
    },
    {
     "name": "stderr",
     "output_type": "stream",
     "text": [
      "\u001b[A\n",
      " 25%|██▌       | 301/1200 [00:45<02:17,  6.55it/s]\u001b[A\n",
      " 25%|██▌       | 302/1200 [00:45<02:15,  6.61it/s]"
     ]
    },
    {
     "name": "stdout",
     "output_type": "stream",
     "text": [
      "348.1766333411474\n",
      "348.1766333411474\n",
      "356.35475475281874\n",
      "356.35475475281874\n"
     ]
    },
    {
     "name": "stderr",
     "output_type": "stream",
     "text": [
      "\u001b[A\n",
      " 25%|██▌       | 303/1200 [00:45<02:19,  6.41it/s]\u001b[A\n",
      " 25%|██▌       | 304/1200 [00:45<02:17,  6.53it/s]"
     ]
    },
    {
     "name": "stdout",
     "output_type": "stream",
     "text": [
      "353.8628747168441\n",
      "353.8628747168441\n",
      "352.9385191049\n",
      "352.9385191049\n"
     ]
    },
    {
     "name": "stderr",
     "output_type": "stream",
     "text": [
      "\u001b[A\n",
      " 25%|██▌       | 305/1200 [00:45<02:20,  6.36it/s]\u001b[A\n",
      " 26%|██▌       | 306/1200 [00:45<02:17,  6.49it/s]"
     ]
    },
    {
     "name": "stdout",
     "output_type": "stream",
     "text": [
      "354.1415859178833\n",
      "354.1415859178833\n",
      "353.0924334916094\n",
      "353.0924334916094\n"
     ]
    },
    {
     "name": "stderr",
     "output_type": "stream",
     "text": [
      "\u001b[A\n",
      " 26%|██▌       | 307/1200 [00:46<02:17,  6.49it/s]\u001b[A\n",
      " 26%|██▌       | 308/1200 [00:46<02:15,  6.58it/s]"
     ]
    },
    {
     "name": "stdout",
     "output_type": "stream",
     "text": [
      "352.0081737394671\n",
      "352.0081737394671\n",
      "350.6934796019241\n",
      "350.6934796019241\n"
     ]
    },
    {
     "name": "stderr",
     "output_type": "stream",
     "text": [
      "\u001b[A\n",
      " 26%|██▌       | 309/1200 [00:46<02:20,  6.36it/s]\u001b[A\n",
      " 26%|██▌       | 310/1200 [00:46<02:16,  6.52it/s]"
     ]
    },
    {
     "name": "stdout",
     "output_type": "stream",
     "text": [
      "348.17265366655374\n",
      "348.17265366655374\n",
      "344.73912193531123\n",
      "344.73912193531123\n"
     ]
    },
    {
     "name": "stderr",
     "output_type": "stream",
     "text": [
      "\u001b[A\n",
      " 26%|██▌       | 311/1200 [00:46<02:18,  6.42it/s]\u001b[A\n",
      " 26%|██▌       | 312/1200 [00:46<02:16,  6.50it/s]"
     ]
    },
    {
     "name": "stdout",
     "output_type": "stream",
     "text": [
      "340.6609901966581\n",
      "340.6609901966581\n",
      "335.5836955698842\n",
      "335.5836955698842\n"
     ]
    },
    {
     "name": "stderr",
     "output_type": "stream",
     "text": [
      "\u001b[A\n",
      " 26%|██▌       | 313/1200 [00:47<02:19,  6.35it/s]\u001b[A\n",
      " 26%|██▌       | 314/1200 [00:47<02:15,  6.53it/s]"
     ]
    },
    {
     "name": "stdout",
     "output_type": "stream",
     "text": [
      "329.5289435145637\n",
      "329.5289435145637\n",
      "324.2345265929853\n",
      "324.2345265929853\n"
     ]
    },
    {
     "name": "stderr",
     "output_type": "stream",
     "text": [
      "\u001b[A\n",
      " 26%|██▋       | 315/1200 [00:47<02:15,  6.55it/s]\u001b[A\n",
      " 26%|██▋       | 316/1200 [00:47<02:13,  6.61it/s]"
     ]
    },
    {
     "name": "stdout",
     "output_type": "stream",
     "text": [
      "319.85832471998856\n",
      "319.85832471998856\n",
      "318.13695684608865\n",
      "318.13695684608865\n"
     ]
    },
    {
     "name": "stderr",
     "output_type": "stream",
     "text": [
      "\u001b[A\n",
      " 26%|██▋       | 317/1200 [00:47<02:16,  6.47it/s]\u001b[A\n",
      " 26%|██▋       | 318/1200 [00:47<02:15,  6.51it/s]"
     ]
    },
    {
     "name": "stdout",
     "output_type": "stream",
     "text": [
      "315.581589518873\n",
      "315.581589518873\n",
      "315.2191726476244\n",
      "315.2191726476244\n"
     ]
    },
    {
     "name": "stderr",
     "output_type": "stream",
     "text": [
      "\u001b[A\n",
      " 27%|██▋       | 319/1200 [00:47<02:16,  6.45it/s]\u001b[A\n",
      " 27%|██▋       | 320/1200 [00:48<02:16,  6.46it/s]"
     ]
    },
    {
     "name": "stdout",
     "output_type": "stream",
     "text": [
      "316.36660422533123\n",
      "316.36660422533123\n",
      "319.6523052163725\n",
      "319.6523052163725\n"
     ]
    },
    {
     "name": "stderr",
     "output_type": "stream",
     "text": [
      "\u001b[A\n",
      " 27%|██▋       | 321/1200 [00:48<02:16,  6.43it/s]\u001b[A\n",
      " 27%|██▋       | 322/1200 [00:48<02:16,  6.45it/s]"
     ]
    },
    {
     "name": "stdout",
     "output_type": "stream",
     "text": [
      "321.8664798811442\n",
      "321.8664798811442\n",
      "324.5974859475132\n",
      "324.5974859475132\n"
     ]
    },
    {
     "name": "stderr",
     "output_type": "stream",
     "text": [
      "\u001b[A\n",
      " 27%|██▋       | 323/1200 [00:48<02:16,  6.44it/s]\u001b[A\n",
      " 27%|██▋       | 324/1200 [00:48<02:10,  6.72it/s]"
     ]
    },
    {
     "name": "stdout",
     "output_type": "stream",
     "text": [
      "329.09793516002173\n",
      "329.09793516002173\n",
      "329.31154695176383\n",
      "329.31154695176383\n"
     ]
    },
    {
     "name": "stderr",
     "output_type": "stream",
     "text": [
      "\u001b[A\n",
      " 27%|██▋       | 325/1200 [00:48<02:12,  6.60it/s]\u001b[A\n",
      " 27%|██▋       | 326/1200 [00:49<02:09,  6.75it/s]"
     ]
    },
    {
     "name": "stdout",
     "output_type": "stream",
     "text": [
      "330.9162177491444\n",
      "330.9162177491444\n",
      "331.93905864610315\n",
      "331.93905864610315\n"
     ]
    },
    {
     "name": "stderr",
     "output_type": "stream",
     "text": [
      "\u001b[A\n",
      " 27%|██▋       | 327/1200 [00:49<02:11,  6.64it/s]\u001b[A\n",
      " 27%|██▋       | 328/1200 [00:49<02:09,  6.71it/s]"
     ]
    },
    {
     "name": "stdout",
     "output_type": "stream",
     "text": [
      "330.97845570851086\n",
      "330.97845570851086\n",
      "330.1025933107185\n",
      "330.1025933107185\n"
     ]
    },
    {
     "name": "stderr",
     "output_type": "stream",
     "text": [
      "\u001b[A\n",
      " 27%|██▋       | 329/1200 [00:49<02:11,  6.63it/s]\u001b[A\n",
      " 28%|██▊       | 330/1200 [00:49<02:08,  6.77it/s]"
     ]
    },
    {
     "name": "stdout",
     "output_type": "stream",
     "text": [
      "328.2711758146711\n",
      "328.2711758146711\n",
      "325.00820711540155\n",
      "325.00820711540155\n"
     ]
    },
    {
     "name": "stderr",
     "output_type": "stream",
     "text": [
      "\u001b[A\n",
      " 28%|██▊       | 331/1200 [00:49<02:09,  6.71it/s]\u001b[A\n",
      " 28%|██▊       | 332/1200 [00:49<02:08,  6.78it/s]"
     ]
    },
    {
     "name": "stdout",
     "output_type": "stream",
     "text": [
      "320.0702670062087\n",
      "320.0702670062087\n",
      "318.52683059092806\n",
      "318.52683059092806\n"
     ]
    },
    {
     "name": "stderr",
     "output_type": "stream",
     "text": [
      "\u001b[A\n",
      " 28%|██▊       | 333/1200 [00:50<02:10,  6.63it/s]\u001b[A\n",
      " 28%|██▊       | 334/1200 [00:50<02:09,  6.67it/s]"
     ]
    },
    {
     "name": "stdout",
     "output_type": "stream",
     "text": [
      "316.1804511608898\n",
      "316.1804511608898\n",
      "314.84007569765436\n",
      "314.84007569765436\n"
     ]
    },
    {
     "name": "stderr",
     "output_type": "stream",
     "text": [
      "\u001b[A\n",
      " 28%|██▊       | 335/1200 [00:50<02:12,  6.53it/s]\u001b[A\n",
      " 28%|██▊       | 336/1200 [00:50<02:13,  6.46it/s]"
     ]
    },
    {
     "name": "stdout",
     "output_type": "stream",
     "text": [
      "312.68454850949456\n",
      "312.68454850949456\n",
      "311.6032835749497\n",
      "311.6032835749497\n"
     ]
    },
    {
     "name": "stderr",
     "output_type": "stream",
     "text": [
      "\u001b[A\n",
      " 28%|██▊       | 337/1200 [00:50<02:16,  6.33it/s]\u001b[A\n",
      " 28%|██▊       | 338/1200 [00:50<02:14,  6.41it/s]"
     ]
    },
    {
     "name": "stdout",
     "output_type": "stream",
     "text": [
      "310.64651726356806\n",
      "310.64651726356806\n",
      "311.2743525463584\n",
      "311.2743525463584\n"
     ]
    },
    {
     "name": "stderr",
     "output_type": "stream",
     "text": [
      "\u001b[A\n",
      " 28%|██▊       | 339/1200 [00:51<02:15,  6.37it/s]\u001b[A\n",
      " 28%|██▊       | 340/1200 [00:51<02:11,  6.55it/s]"
     ]
    },
    {
     "name": "stdout",
     "output_type": "stream",
     "text": [
      "312.2886672228865\n",
      "312.2886672228865\n",
      "314.05606864299534\n",
      "314.05606864299534\n"
     ]
    },
    {
     "name": "stderr",
     "output_type": "stream",
     "text": [
      "\u001b[A\n",
      " 28%|██▊       | 341/1200 [00:51<02:11,  6.54it/s]\u001b[A\n",
      " 28%|██▊       | 342/1200 [00:51<02:10,  6.57it/s]"
     ]
    },
    {
     "name": "stdout",
     "output_type": "stream",
     "text": [
      "315.0070737180754\n",
      "315.0070737180754\n",
      "315.87315206447556\n",
      "315.87315206447556\n"
     ]
    },
    {
     "name": "stderr",
     "output_type": "stream",
     "text": [
      "\u001b[A\n",
      " 29%|██▊       | 343/1200 [00:51<02:12,  6.47it/s]\u001b[A\n",
      " 29%|██▊       | 344/1200 [00:51<02:08,  6.65it/s]"
     ]
    },
    {
     "name": "stdout",
     "output_type": "stream",
     "text": [
      "315.9578569908276\n",
      "315.9578569908276\n",
      "315.6674620058079\n",
      "315.6674620058079\n"
     ]
    },
    {
     "name": "stderr",
     "output_type": "stream",
     "text": [
      "\u001b[A\n",
      " 29%|██▉       | 345/1200 [00:51<02:09,  6.61it/s]\u001b[A\n",
      " 29%|██▉       | 346/1200 [00:52<02:07,  6.70it/s]"
     ]
    },
    {
     "name": "stdout",
     "output_type": "stream",
     "text": [
      "316.7723155966828\n",
      "316.7723155966828\n",
      "318.69285404951006\n",
      "318.69285404951006\n"
     ]
    },
    {
     "name": "stderr",
     "output_type": "stream",
     "text": [
      "\u001b[A\n",
      " 29%|██▉       | 347/1200 [00:52<02:09,  6.56it/s]\u001b[A\n",
      " 29%|██▉       | 348/1200 [00:52<02:07,  6.67it/s]"
     ]
    },
    {
     "name": "stdout",
     "output_type": "stream",
     "text": [
      "320.94940683616096\n",
      "320.94940683616096\n",
      "325.1703142170795\n",
      "325.1703142170795\n"
     ]
    },
    {
     "name": "stderr",
     "output_type": "stream",
     "text": [
      "\u001b[A\n",
      " 29%|██▉       | 349/1200 [00:52<02:09,  6.59it/s]\u001b[A\n",
      " 29%|██▉       | 350/1200 [00:52<02:10,  6.51it/s]"
     ]
    },
    {
     "name": "stdout",
     "output_type": "stream",
     "text": [
      "329.2928932899472\n",
      "329.2928932899472\n",
      "333.69779059422854\n",
      "333.69779059422854\n"
     ]
    },
    {
     "name": "stderr",
     "output_type": "stream",
     "text": [
      "\u001b[A\n",
      " 29%|██▉       | 351/1200 [00:52<02:13,  6.35it/s]\u001b[A\n",
      " 29%|██▉       | 352/1200 [00:52<02:10,  6.51it/s]"
     ]
    },
    {
     "name": "stdout",
     "output_type": "stream",
     "text": [
      "341.4275823040771\n",
      "341.4275823040771\n",
      "357.42101195763644\n",
      "357.42101195763644\n"
     ]
    },
    {
     "name": "stderr",
     "output_type": "stream",
     "text": [
      "\u001b[A\n",
      " 29%|██▉       | 353/1200 [00:53<02:11,  6.43it/s]\u001b[A\n",
      " 30%|██▉       | 354/1200 [00:53<02:09,  6.51it/s]"
     ]
    },
    {
     "name": "stdout",
     "output_type": "stream",
     "text": [
      "344.481944163917\n",
      "344.481944163917\n",
      "339.07170691086594\n",
      "339.07170691086594\n"
     ]
    },
    {
     "name": "stderr",
     "output_type": "stream",
     "text": [
      "\u001b[A\n",
      " 30%|██▉       | 355/1200 [00:53<02:10,  6.47it/s]\u001b[A\n",
      " 30%|██▉       | 356/1200 [00:53<02:08,  6.57it/s]"
     ]
    },
    {
     "name": "stdout",
     "output_type": "stream",
     "text": [
      "337.6243757201878\n",
      "337.6243757201878\n",
      "340.7885985556536\n",
      "340.7885985556536\n"
     ]
    },
    {
     "name": "stderr",
     "output_type": "stream",
     "text": [
      "\u001b[A\n",
      " 30%|██▉       | 357/1200 [00:53<02:13,  6.33it/s]\u001b[A\n",
      " 30%|██▉       | 358/1200 [00:53<02:11,  6.39it/s]"
     ]
    },
    {
     "name": "stdout",
     "output_type": "stream",
     "text": [
      "343.1045126126983\n",
      "343.1045126126983\n",
      "345.86755387831454\n",
      "345.86755387831454\n"
     ]
    },
    {
     "name": "stderr",
     "output_type": "stream",
     "text": [
      "\u001b[A\n",
      " 30%|██▉       | 359/1200 [00:54<02:14,  6.25it/s]\u001b[A\n",
      " 30%|███       | 360/1200 [00:54<02:14,  6.25it/s]"
     ]
    },
    {
     "name": "stdout",
     "output_type": "stream",
     "text": [
      "348.1950695063115\n",
      "348.1950695063115\n",
      "350.3745460486848\n",
      "350.3745460486848\n"
     ]
    },
    {
     "name": "stderr",
     "output_type": "stream",
     "text": [
      "\u001b[A\n",
      " 30%|███       | 361/1200 [00:54<02:11,  6.36it/s]\u001b[A\n",
      " 30%|███       | 362/1200 [00:54<02:08,  6.54it/s]"
     ]
    },
    {
     "name": "stdout",
     "output_type": "stream",
     "text": [
      "348.7398825514347\n",
      "348.7398825514347\n",
      "348.44253018852623\n",
      "348.44253018852623\n"
     ]
    },
    {
     "name": "stderr",
     "output_type": "stream",
     "text": [
      "\u001b[A\n",
      " 30%|███       | 363/1200 [00:54<02:09,  6.47it/s]\u001b[A\n",
      " 30%|███       | 364/1200 [00:54<02:09,  6.47it/s]"
     ]
    },
    {
     "name": "stdout",
     "output_type": "stream",
     "text": [
      "348.8597451709361\n",
      "348.8597451709361\n",
      "357.7589925215502\n",
      "357.7589925215502\n"
     ]
    },
    {
     "name": "stderr",
     "output_type": "stream",
     "text": [
      "\u001b[A\n",
      " 30%|███       | 365/1200 [00:55<02:07,  6.53it/s]\u001b[A\n",
      " 30%|███       | 366/1200 [00:55<02:03,  6.75it/s]"
     ]
    },
    {
     "name": "stdout",
     "output_type": "stream",
     "text": [
      "344.95290711390544\n",
      "344.95290711390544\n",
      "342.6976097246038\n",
      "342.6976097246038\n"
     ]
    },
    {
     "name": "stderr",
     "output_type": "stream",
     "text": [
      "\u001b[A\n",
      " 31%|███       | 367/1200 [00:55<02:02,  6.80it/s]\u001b[A\n",
      " 31%|███       | 368/1200 [00:55<02:00,  6.90it/s]"
     ]
    },
    {
     "name": "stdout",
     "output_type": "stream",
     "text": [
      "340.3734201319735\n",
      "340.3734201319735\n",
      "338.3207557028745\n",
      "338.3207557028745\n"
     ]
    },
    {
     "name": "stderr",
     "output_type": "stream",
     "text": [
      "\u001b[A\n",
      " 31%|███       | 369/1200 [00:55<02:01,  6.85it/s]\u001b[A\n",
      " 31%|███       | 370/1200 [00:55<02:01,  6.82it/s]"
     ]
    },
    {
     "name": "stdout",
     "output_type": "stream",
     "text": [
      "337.82392951158863\n",
      "337.82392951158863\n",
      "339.25347225525366\n",
      "339.25347225525366\n"
     ]
    },
    {
     "name": "stderr",
     "output_type": "stream",
     "text": [
      "\u001b[A\n",
      " 31%|███       | 371/1200 [00:55<02:07,  6.53it/s]\u001b[A\n",
      " 31%|███       | 372/1200 [00:56<02:06,  6.54it/s]"
     ]
    },
    {
     "name": "stdout",
     "output_type": "stream",
     "text": [
      "341.32913599313315\n",
      "341.32913599313315\n",
      "344.3795453153957\n",
      "344.3795453153957\n"
     ]
    },
    {
     "name": "stderr",
     "output_type": "stream",
     "text": [
      "\u001b[A\n",
      " 31%|███       | 373/1200 [00:56<02:06,  6.53it/s]\u001b[A\n",
      " 31%|███       | 374/1200 [00:56<02:03,  6.70it/s]"
     ]
    },
    {
     "name": "stdout",
     "output_type": "stream",
     "text": [
      "346.62344859013047\n",
      "346.62344859013047\n",
      "349.20034697695655\n",
      "349.20034697695655\n"
     ]
    },
    {
     "name": "stderr",
     "output_type": "stream",
     "text": [
      "\u001b[A\n",
      " 31%|███▏      | 375/1200 [00:56<02:04,  6.62it/s]\u001b[A\n",
      " 31%|███▏      | 376/1200 [00:56<02:02,  6.73it/s]"
     ]
    },
    {
     "name": "stdout",
     "output_type": "stream",
     "text": [
      "354.7353517271413\n",
      "354.7353517271413\n",
      "2.423439165047512\n",
      "2.423439165047512\n"
     ]
    },
    {
     "name": "stderr",
     "output_type": "stream",
     "text": [
      "\u001b[A\n",
      " 31%|███▏      | 377/1200 [00:56<02:02,  6.73it/s]\u001b[A\n",
      " 32%|███▏      | 378/1200 [00:56<02:01,  6.75it/s]"
     ]
    },
    {
     "name": "stdout",
     "output_type": "stream",
     "text": [
      "358.9864754413188\n",
      "358.9864754413188\n",
      "0.32680311537433226\n",
      "0.32680311537433226\n"
     ]
    },
    {
     "name": "stderr",
     "output_type": "stream",
     "text": [
      "\u001b[A\n",
      " 32%|███▏      | 379/1200 [00:57<02:01,  6.76it/s]\u001b[A\n",
      " 32%|███▏      | 380/1200 [00:57<02:01,  6.76it/s]"
     ]
    },
    {
     "name": "stdout",
     "output_type": "stream",
     "text": [
      "16.185254360930685\n",
      "16.185254360930685\n",
      "23.40881995038626\n",
      "23.40881995038626\n"
     ]
    },
    {
     "name": "stderr",
     "output_type": "stream",
     "text": [
      "\u001b[A\n",
      " 32%|███▏      | 381/1200 [00:57<02:02,  6.69it/s]\u001b[A\n",
      " 32%|███▏      | 382/1200 [00:57<02:00,  6.80it/s]"
     ]
    },
    {
     "name": "stdout",
     "output_type": "stream",
     "text": [
      "25.637383394779135\n",
      "25.637383394779135\n",
      "32.30898726522673\n",
      "32.30898726522673\n"
     ]
    },
    {
     "name": "stderr",
     "output_type": "stream",
     "text": [
      "\u001b[A\n",
      " 32%|███▏      | 383/1200 [00:57<01:59,  6.82it/s]\u001b[A\n",
      " 32%|███▏      | 384/1200 [00:57<01:59,  6.85it/s]"
     ]
    },
    {
     "name": "stdout",
     "output_type": "stream",
     "text": [
      "39.459264532506495\n",
      "39.459264532506495\n",
      "43.99774052374187\n",
      "43.99774052374187\n"
     ]
    },
    {
     "name": "stderr",
     "output_type": "stream",
     "text": [
      "\u001b[A\n",
      " 32%|███▏      | 385/1200 [00:57<01:58,  6.85it/s]\u001b[A\n",
      " 32%|███▏      | 386/1200 [00:58<01:58,  6.86it/s]"
     ]
    },
    {
     "name": "stdout",
     "output_type": "stream",
     "text": [
      "47.17590454857009\n",
      "47.17590454857009\n",
      "52.03545791368242\n",
      "52.03545791368242\n"
     ]
    },
    {
     "name": "stderr",
     "output_type": "stream",
     "text": [
      "\u001b[A\n",
      " 32%|███▏      | 387/1200 [00:58<01:59,  6.81it/s]\u001b[A\n",
      " 32%|███▏      | 388/1200 [00:58<01:58,  6.84it/s]"
     ]
    },
    {
     "name": "stdout",
     "output_type": "stream",
     "text": [
      "52.03545791368242\n",
      "52.03545791368242\n",
      "52.03545791368242\n",
      "52.03545791368242\n"
     ]
    },
    {
     "name": "stderr",
     "output_type": "stream",
     "text": [
      "\u001b[A\n",
      " 32%|███▏      | 389/1200 [00:58<01:59,  6.78it/s]\u001b[A\n",
      " 32%|███▎      | 390/1200 [00:58<01:57,  6.90it/s]"
     ]
    },
    {
     "name": "stdout",
     "output_type": "stream",
     "text": [
      "52.03545791368242\n",
      "52.03545791368242\n",
      "52.03545791368242\n",
      "52.03545791368242\n"
     ]
    },
    {
     "name": "stderr",
     "output_type": "stream",
     "text": [
      "\u001b[A\n",
      " 33%|███▎      | 391/1200 [00:58<01:58,  6.83it/s]\u001b[A\n",
      " 33%|███▎      | 392/1200 [00:58<01:54,  7.05it/s]"
     ]
    },
    {
     "name": "stdout",
     "output_type": "stream",
     "text": [
      "52.2526197068355\n",
      "52.2526197068355\n",
      "53.18087030151173\n",
      "53.18087030151173\n"
     ]
    },
    {
     "name": "stderr",
     "output_type": "stream",
     "text": [
      "\u001b[A\n",
      " 33%|███▎      | 393/1200 [00:59<02:00,  6.71it/s]\u001b[A\n",
      " 33%|███▎      | 394/1200 [00:59<01:58,  6.80it/s]"
     ]
    },
    {
     "name": "stdout",
     "output_type": "stream",
     "text": [
      "51.00618093209823\n",
      "51.00618093209823\n",
      "51.00618093209823\n",
      "51.00618093209823\n"
     ]
    },
    {
     "name": "stderr",
     "output_type": "stream",
     "text": [
      "\u001b[A\n",
      " 33%|███▎      | 395/1200 [00:59<02:01,  6.65it/s]\u001b[A\n",
      " 33%|███▎      | 396/1200 [00:59<01:58,  6.76it/s]"
     ]
    },
    {
     "name": "stdout",
     "output_type": "stream",
     "text": [
      "51.00618093209823\n",
      "51.00618093209823\n",
      "51.00618093209823\n",
      "51.00618093209823\n"
     ]
    },
    {
     "name": "stderr",
     "output_type": "stream",
     "text": [
      "\u001b[A\n",
      " 33%|███▎      | 397/1200 [00:59<01:58,  6.75it/s]\u001b[A\n",
      " 33%|███▎      | 398/1200 [00:59<01:57,  6.83it/s]"
     ]
    },
    {
     "name": "stdout",
     "output_type": "stream",
     "text": [
      "51.00618093209823\n",
      "51.00618093209823\n",
      "51.00618093209823\n",
      "51.00618093209823\n"
     ]
    },
    {
     "name": "stderr",
     "output_type": "stream",
     "text": [
      "\u001b[A\n",
      " 33%|███▎      | 399/1200 [01:00<01:57,  6.80it/s]\u001b[A\n",
      " 33%|███▎      | 400/1200 [01:00<01:59,  6.71it/s]"
     ]
    },
    {
     "name": "stdout",
     "output_type": "stream",
     "text": [
      "50.38926880324061\n",
      "50.38926880324061\n",
      "47.44910612701233\n",
      "47.44910612701233\n"
     ]
    },
    {
     "name": "stderr",
     "output_type": "stream",
     "text": [
      "\u001b[A\n",
      " 33%|███▎      | 401/1200 [01:00<02:01,  6.58it/s]\u001b[A\n",
      " 34%|███▎      | 402/1200 [01:00<02:00,  6.60it/s]"
     ]
    },
    {
     "name": "stdout",
     "output_type": "stream",
     "text": [
      "45.32698968879822\n",
      "45.32698968879822\n",
      "30.387496107240167\n",
      "30.387496107240167\n"
     ]
    },
    {
     "name": "stderr",
     "output_type": "stream",
     "text": [
      "\u001b[A\n",
      " 34%|███▎      | 403/1200 [01:00<02:01,  6.57it/s]\u001b[A\n",
      " 34%|███▎      | 404/1200 [01:00<01:58,  6.74it/s]"
     ]
    },
    {
     "name": "stdout",
     "output_type": "stream",
     "text": [
      "43.74429883657831\n",
      "43.74429883657831\n",
      "55.89047750812915\n",
      "55.89047750812915\n"
     ]
    },
    {
     "name": "stderr",
     "output_type": "stream",
     "text": [
      "\u001b[A\n",
      " 34%|███▍      | 405/1200 [01:00<01:59,  6.68it/s]\u001b[A\n",
      " 34%|███▍      | 406/1200 [01:01<01:59,  6.64it/s]"
     ]
    },
    {
     "name": "stdout",
     "output_type": "stream",
     "text": [
      "67.71663008444739\n",
      "67.71663008444739\n",
      "61.98669620022429\n",
      "61.98669620022429\n"
     ]
    },
    {
     "name": "stderr",
     "output_type": "stream",
     "text": [
      "\u001b[A\n",
      " 34%|███▍      | 407/1200 [01:01<02:02,  6.47it/s]\u001b[A\n",
      " 34%|███▍      | 408/1200 [01:01<02:00,  6.55it/s]"
     ]
    },
    {
     "name": "stdout",
     "output_type": "stream",
     "text": [
      "56.901791699363\n",
      "56.901791699363\n",
      "53.407415752617\n",
      "53.407415752617\n"
     ]
    },
    {
     "name": "stderr",
     "output_type": "stream",
     "text": [
      "\u001b[A\n",
      " 34%|███▍      | 409/1200 [01:01<02:02,  6.45it/s]\u001b[A\n",
      " 34%|███▍      | 410/1200 [01:01<01:59,  6.64it/s]"
     ]
    },
    {
     "name": "stdout",
     "output_type": "stream",
     "text": [
      "53.04749864906398\n",
      "53.04749864906398\n",
      "52.45526756541494\n",
      "52.45526756541494\n"
     ]
    },
    {
     "name": "stderr",
     "output_type": "stream",
     "text": [
      "\u001b[A\n",
      " 34%|███▍      | 411/1200 [01:01<02:00,  6.54it/s]\u001b[A\n",
      " 34%|███▍      | 412/1200 [01:01<01:57,  6.68it/s]"
     ]
    },
    {
     "name": "stdout",
     "output_type": "stream",
     "text": [
      "51.145263656163934\n",
      "51.145263656163934\n",
      "49.66925025298133\n",
      "49.66925025298133\n"
     ]
    },
    {
     "name": "stderr",
     "output_type": "stream",
     "text": [
      "\u001b[A\n",
      " 34%|███▍      | 413/1200 [01:02<01:59,  6.57it/s]\u001b[A\n",
      " 34%|███▍      | 414/1200 [01:02<01:57,  6.67it/s]"
     ]
    },
    {
     "name": "stdout",
     "output_type": "stream",
     "text": [
      "48.05966779622486\n",
      "48.05966779622486\n",
      "45.873075536954275\n",
      "45.873075536954275\n"
     ]
    },
    {
     "name": "stderr",
     "output_type": "stream",
     "text": [
      "\u001b[A\n",
      " 35%|███▍      | 415/1200 [01:02<01:57,  6.69it/s]\u001b[A\n",
      " 35%|███▍      | 416/1200 [01:02<01:57,  6.66it/s]"
     ]
    },
    {
     "name": "stdout",
     "output_type": "stream",
     "text": [
      "44.10805776059897\n",
      "44.10805776059897\n",
      "42.59963675788413\n",
      "42.59963675788413\n"
     ]
    },
    {
     "name": "stderr",
     "output_type": "stream",
     "text": [
      "\u001b[A\n",
      " 35%|███▍      | 417/1200 [01:02<01:59,  6.55it/s]\u001b[A\n",
      " 35%|███▍      | 418/1200 [01:02<01:56,  6.70it/s]"
     ]
    },
    {
     "name": "stdout",
     "output_type": "stream",
     "text": [
      "42.08852087026571\n",
      "42.08852087026571\n",
      "41.74032132850243\n",
      "41.74032132850243\n"
     ]
    },
    {
     "name": "stderr",
     "output_type": "stream",
     "text": [
      "\u001b[A\n",
      " 35%|███▍      | 419/1200 [01:03<01:58,  6.59it/s]\u001b[A\n",
      " 35%|███▌      | 420/1200 [01:03<01:55,  6.74it/s]"
     ]
    },
    {
     "name": "stdout",
     "output_type": "stream",
     "text": [
      "43.217763400974945\n",
      "43.217763400974945\n",
      "42.45856965314715\n",
      "42.45856965314715\n"
     ]
    },
    {
     "name": "stderr",
     "output_type": "stream",
     "text": [
      "\u001b[A\n",
      " 35%|███▌      | 421/1200 [01:03<01:56,  6.68it/s]\u001b[A\n",
      " 35%|███▌      | 422/1200 [01:03<01:53,  6.87it/s]"
     ]
    },
    {
     "name": "stdout",
     "output_type": "stream",
     "text": [
      "42.7580484902237\n",
      "42.7580484902237\n",
      "44.1313503838378\n",
      "44.1313503838378\n"
     ]
    },
    {
     "name": "stderr",
     "output_type": "stream",
     "text": [
      "\u001b[A\n",
      " 35%|███▌      | 423/1200 [01:03<01:53,  6.85it/s]\u001b[A\n",
      " 35%|███▌      | 424/1200 [01:03<01:53,  6.87it/s]"
     ]
    },
    {
     "name": "stdout",
     "output_type": "stream",
     "text": [
      "45.296338458689206\n",
      "45.296338458689206\n",
      "46.5156853164317\n",
      "46.5156853164317\n"
     ]
    },
    {
     "name": "stderr",
     "output_type": "stream",
     "text": [
      "\u001b[A\n",
      " 35%|███▌      | 425/1200 [01:03<01:54,  6.79it/s]\u001b[A\n",
      " 36%|███▌      | 426/1200 [01:04<01:51,  6.93it/s]"
     ]
    },
    {
     "name": "stdout",
     "output_type": "stream",
     "text": [
      "47.502770485132714\n",
      "47.502770485132714\n",
      "48.4054734335391\n",
      "48.4054734335391\n"
     ]
    },
    {
     "name": "stderr",
     "output_type": "stream",
     "text": [
      "\u001b[A\n",
      " 36%|███▌      | 427/1200 [01:04<01:52,  6.85it/s]\u001b[A\n",
      " 36%|███▌      | 428/1200 [01:04<01:51,  6.93it/s]"
     ]
    },
    {
     "name": "stdout",
     "output_type": "stream",
     "text": [
      "49.36363247227473\n",
      "49.36363247227473\n",
      "50.98307167556413\n",
      "50.98307167556413\n"
     ]
    },
    {
     "name": "stderr",
     "output_type": "stream",
     "text": [
      "\u001b[A\n",
      " 36%|███▌      | 429/1200 [01:04<01:53,  6.78it/s]\u001b[A\n",
      " 36%|███▌      | 430/1200 [01:04<01:54,  6.75it/s]"
     ]
    },
    {
     "name": "stdout",
     "output_type": "stream",
     "text": [
      "52.69225606972259\n",
      "52.69225606972259\n",
      "54.895726186173306\n",
      "54.895726186173306\n"
     ]
    },
    {
     "name": "stderr",
     "output_type": "stream",
     "text": [
      "\u001b[A\n",
      " 36%|███▌      | 431/1200 [01:04<01:58,  6.49it/s]\u001b[A\n",
      " 36%|███▌      | 432/1200 [01:04<01:58,  6.48it/s]"
     ]
    },
    {
     "name": "stdout",
     "output_type": "stream",
     "text": [
      "57.16981401540261\n",
      "57.16981401540261\n",
      "60.48114410875587\n",
      "60.48114410875587\n"
     ]
    },
    {
     "name": "stderr",
     "output_type": "stream",
     "text": [
      "\u001b[A\n",
      " 36%|███▌      | 433/1200 [01:05<01:59,  6.40it/s]\u001b[A\n",
      " 36%|███▌      | 434/1200 [01:05<01:56,  6.60it/s]"
     ]
    },
    {
     "name": "stdout",
     "output_type": "stream",
     "text": [
      "63.81625754374818\n",
      "63.81625754374818\n",
      "66.87107155677995\n",
      "66.87107155677995\n"
     ]
    },
    {
     "name": "stderr",
     "output_type": "stream",
     "text": [
      "\u001b[A\n",
      " 36%|███▋      | 435/1200 [01:05<01:56,  6.54it/s]\u001b[A\n",
      " 36%|███▋      | 436/1200 [01:05<01:53,  6.72it/s]"
     ]
    },
    {
     "name": "stdout",
     "output_type": "stream",
     "text": [
      "69.92478896846478\n",
      "69.92478896846478\n",
      "73.68720683052197\n",
      "73.68720683052197\n"
     ]
    },
    {
     "name": "stderr",
     "output_type": "stream",
     "text": [
      "\u001b[A\n",
      " 36%|███▋      | 437/1200 [01:05<01:57,  6.51it/s]\u001b[A\n",
      " 36%|███▋      | 438/1200 [01:05<01:55,  6.61it/s]"
     ]
    },
    {
     "name": "stdout",
     "output_type": "stream",
     "text": [
      "77.9026852453485\n",
      "77.9026852453485\n",
      "82.91569198203842\n",
      "82.91569198203842\n"
     ]
    },
    {
     "name": "stderr",
     "output_type": "stream",
     "text": [
      "\u001b[A\n",
      " 37%|███▋      | 439/1200 [01:06<01:57,  6.49it/s]\u001b[A\n",
      " 37%|███▋      | 440/1200 [01:06<01:55,  6.56it/s]"
     ]
    },
    {
     "name": "stdout",
     "output_type": "stream",
     "text": [
      "87.00182345613712\n",
      "87.00182345613712\n",
      "91.28684822150262\n",
      "91.28684822150262\n"
     ]
    },
    {
     "name": "stderr",
     "output_type": "stream",
     "text": [
      "\u001b[A\n",
      " 37%|███▋      | 441/1200 [01:06<01:56,  6.50it/s]\u001b[A\n",
      " 37%|███▋      | 442/1200 [01:06<01:53,  6.65it/s]"
     ]
    },
    {
     "name": "stdout",
     "output_type": "stream",
     "text": [
      "96.0079851343221\n",
      "96.0079851343221\n",
      "101.05915304436166\n",
      "101.05915304436166\n"
     ]
    },
    {
     "name": "stderr",
     "output_type": "stream",
     "text": [
      "\u001b[A\n",
      " 37%|███▋      | 443/1200 [01:06<01:55,  6.58it/s]\u001b[A\n",
      " 37%|███▋      | 444/1200 [01:06<01:53,  6.68it/s]"
     ]
    },
    {
     "name": "stdout",
     "output_type": "stream",
     "text": [
      "106.56488473206309\n",
      "106.56488473206309\n",
      "111.61443276898672\n",
      "111.61443276898672\n"
     ]
    },
    {
     "name": "stderr",
     "output_type": "stream",
     "text": [
      "\u001b[A\n",
      " 37%|███▋      | 445/1200 [01:06<01:54,  6.60it/s]\u001b[A\n",
      " 37%|███▋      | 446/1200 [01:07<01:51,  6.75it/s]"
     ]
    },
    {
     "name": "stdout",
     "output_type": "stream",
     "text": [
      "116.49538065316528\n",
      "116.49538065316528\n",
      "119.97706376526185\n",
      "119.97706376526185\n"
     ]
    },
    {
     "name": "stderr",
     "output_type": "stream",
     "text": [
      "\u001b[A\n",
      " 37%|███▋      | 447/1200 [01:07<01:53,  6.62it/s]\u001b[A\n",
      " 37%|███▋      | 448/1200 [01:07<01:51,  6.76it/s]"
     ]
    },
    {
     "name": "stdout",
     "output_type": "stream",
     "text": [
      "122.37203626485416\n",
      "122.37203626485416\n",
      "123.58352808340305\n",
      "123.58352808340305\n"
     ]
    },
    {
     "name": "stderr",
     "output_type": "stream",
     "text": [
      "\u001b[A\n",
      " 37%|███▋      | 449/1200 [01:07<01:52,  6.68it/s]\u001b[A\n",
      " 38%|███▊      | 450/1200 [01:07<01:50,  6.78it/s]"
     ]
    },
    {
     "name": "stdout",
     "output_type": "stream",
     "text": [
      "123.67097294247151\n",
      "123.67097294247151\n",
      "122.54366415418599\n",
      "122.54366415418599\n"
     ]
    },
    {
     "name": "stderr",
     "output_type": "stream",
     "text": [
      "\u001b[A\n",
      " 38%|███▊      | 451/1200 [01:07<01:52,  6.65it/s]\u001b[A\n",
      " 38%|███▊      | 452/1200 [01:07<01:52,  6.65it/s]"
     ]
    },
    {
     "name": "stdout",
     "output_type": "stream",
     "text": [
      "120.01828059724994\n",
      "120.01828059724994\n",
      "115.79985313001316\n",
      "115.79985313001316\n"
     ]
    },
    {
     "name": "stderr",
     "output_type": "stream",
     "text": [
      "\u001b[A\n",
      " 38%|███▊      | 453/1200 [01:08<01:52,  6.66it/s]\u001b[A\n",
      " 38%|███▊      | 454/1200 [01:08<01:50,  6.75it/s]"
     ]
    },
    {
     "name": "stdout",
     "output_type": "stream",
     "text": [
      "111.32943158353464\n",
      "111.32943158353464\n",
      "105.85256095023442\n",
      "105.85256095023442\n"
     ]
    },
    {
     "name": "stderr",
     "output_type": "stream",
     "text": [
      "\u001b[A\n",
      " 38%|███▊      | 455/1200 [01:08<01:52,  6.61it/s]\u001b[A\n",
      " 38%|███▊      | 456/1200 [01:08<01:51,  6.68it/s]"
     ]
    },
    {
     "name": "stdout",
     "output_type": "stream",
     "text": [
      "100.59163625923293\n",
      "100.59163625923293\n",
      "95.66428837906642\n",
      "95.66428837906642\n"
     ]
    },
    {
     "name": "stderr",
     "output_type": "stream",
     "text": [
      "\u001b[A\n",
      " 38%|███▊      | 457/1200 [01:08<01:52,  6.61it/s]\u001b[A\n",
      " 38%|███▊      | 458/1200 [01:08<01:51,  6.64it/s]"
     ]
    },
    {
     "name": "stdout",
     "output_type": "stream",
     "text": [
      "90.12441867918324\n",
      "90.12441867918324\n",
      "85.24516135914018\n",
      "85.24516135914018\n"
     ]
    },
    {
     "name": "stderr",
     "output_type": "stream",
     "text": [
      "\u001b[A\n",
      " 38%|███▊      | 459/1200 [01:09<01:51,  6.63it/s]\u001b[A\n",
      " 38%|███▊      | 460/1200 [01:09<01:53,  6.54it/s]"
     ]
    },
    {
     "name": "stdout",
     "output_type": "stream",
     "text": [
      "79.64688216538707\n",
      "79.64688216538707\n",
      "74.13160725023727\n",
      "74.13160725023727\n"
     ]
    },
    {
     "name": "stderr",
     "output_type": "stream",
     "text": [
      "\u001b[A\n",
      " 38%|███▊      | 461/1200 [01:09<01:58,  6.22it/s]\u001b[A\n",
      " 38%|███▊      | 462/1200 [01:09<01:56,  6.34it/s]"
     ]
    },
    {
     "name": "stdout",
     "output_type": "stream",
     "text": [
      "68.77581696203151\n",
      "68.77581696203151\n",
      "63.78053946326281\n",
      "63.78053946326281\n"
     ]
    },
    {
     "name": "stderr",
     "output_type": "stream",
     "text": [
      "\u001b[A\n",
      " 39%|███▊      | 463/1200 [01:09<01:57,  6.25it/s]\u001b[A\n",
      " 39%|███▊      | 464/1200 [01:09<01:52,  6.52it/s]"
     ]
    },
    {
     "name": "stdout",
     "output_type": "stream",
     "text": [
      "59.03496083045684\n",
      "59.03496083045684\n",
      "54.47235062269556\n",
      "54.47235062269556\n"
     ]
    },
    {
     "name": "stderr",
     "output_type": "stream",
     "text": [
      "\u001b[A\n",
      " 39%|███▉      | 465/1200 [01:09<01:52,  6.56it/s]\u001b[A\n",
      " 39%|███▉      | 466/1200 [01:10<01:49,  6.73it/s]"
     ]
    },
    {
     "name": "stdout",
     "output_type": "stream",
     "text": [
      "50.61606235689442\n",
      "50.61606235689442\n",
      "46.95164170109001\n",
      "46.95164170109001\n"
     ]
    },
    {
     "name": "stderr",
     "output_type": "stream",
     "text": [
      "\u001b[A\n",
      " 39%|███▉      | 467/1200 [01:10<01:49,  6.70it/s]\u001b[A\n",
      " 39%|███▉      | 468/1200 [01:10<01:47,  6.78it/s]"
     ]
    },
    {
     "name": "stdout",
     "output_type": "stream",
     "text": [
      "43.52767014304118\n",
      "43.52767014304118\n",
      "40.573981904921766\n",
      "40.573981904921766\n"
     ]
    },
    {
     "name": "stderr",
     "output_type": "stream",
     "text": [
      "\u001b[A\n",
      " 39%|███▉      | 469/1200 [01:10<01:48,  6.73it/s]\u001b[A\n",
      " 39%|███▉      | 470/1200 [01:10<01:47,  6.77it/s]"
     ]
    },
    {
     "name": "stdout",
     "output_type": "stream",
     "text": [
      "38.12283125359909\n",
      "38.12283125359909\n",
      "36.1260275720565\n",
      "36.1260275720565\n"
     ]
    },
    {
     "name": "stderr",
     "output_type": "stream",
     "text": [
      "\u001b[A\n",
      " 39%|███▉      | 471/1200 [01:10<01:49,  6.68it/s]\u001b[A\n",
      " 39%|███▉      | 472/1200 [01:11<01:46,  6.81it/s]"
     ]
    },
    {
     "name": "stdout",
     "output_type": "stream",
     "text": [
      "34.162364187467574\n",
      "34.162364187467574\n",
      "32.49278782927877\n",
      "32.49278782927877\n"
     ]
    },
    {
     "name": "stderr",
     "output_type": "stream",
     "text": [
      "\u001b[A\n",
      " 39%|███▉      | 473/1200 [01:11<01:46,  6.83it/s]\u001b[A\n",
      " 40%|███▉      | 474/1200 [01:11<01:44,  6.93it/s]"
     ]
    },
    {
     "name": "stdout",
     "output_type": "stream",
     "text": [
      "31.060833991377876\n",
      "31.060833991377876\n",
      "29.550574602173583\n",
      "29.550574602173583\n"
     ]
    },
    {
     "name": "stderr",
     "output_type": "stream",
     "text": [
      "\u001b[A\n",
      " 40%|███▉      | 475/1200 [01:11<01:47,  6.75it/s]\u001b[A\n",
      " 40%|███▉      | 476/1200 [01:11<01:47,  6.74it/s]"
     ]
    },
    {
     "name": "stdout",
     "output_type": "stream",
     "text": [
      "28.46328071271182\n",
      "28.46328071271182\n",
      "27.111473219506024\n",
      "27.111473219506024\n"
     ]
    },
    {
     "name": "stderr",
     "output_type": "stream",
     "text": [
      "\u001b[A\n",
      " 40%|███▉      | 477/1200 [01:11<01:47,  6.72it/s]\u001b[A\n",
      " 40%|███▉      | 478/1200 [01:11<01:45,  6.87it/s]"
     ]
    },
    {
     "name": "stdout",
     "output_type": "stream",
     "text": [
      "25.975110589430187\n",
      "25.975110589430187\n",
      "25.021661608920567\n",
      "25.021661608920567\n"
     ]
    },
    {
     "name": "stderr",
     "output_type": "stream",
     "text": [
      "\u001b[A\n",
      " 40%|███▉      | 479/1200 [01:12<01:45,  6.82it/s]\u001b[A\n",
      " 40%|████      | 480/1200 [01:12<01:44,  6.87it/s]"
     ]
    },
    {
     "name": "stdout",
     "output_type": "stream",
     "text": [
      "24.286207411103987\n",
      "24.286207411103987\n",
      "23.897074624539528\n",
      "23.897074624539528\n"
     ]
    },
    {
     "name": "stderr",
     "output_type": "stream",
     "text": [
      "\u001b[A\n",
      " 40%|████      | 481/1200 [01:12<01:46,  6.76it/s]\u001b[A\n",
      " 40%|████      | 482/1200 [01:12<01:45,  6.79it/s]"
     ]
    },
    {
     "name": "stdout",
     "output_type": "stream",
     "text": [
      "23.72744519957905\n",
      "23.72744519957905\n",
      "23.700584499987144\n",
      "23.700584499987144\n"
     ]
    },
    {
     "name": "stderr",
     "output_type": "stream",
     "text": [
      "\u001b[A\n",
      " 40%|████      | 483/1200 [01:12<01:46,  6.75it/s]\u001b[A\n",
      " 40%|████      | 484/1200 [01:12<01:44,  6.85it/s]"
     ]
    },
    {
     "name": "stdout",
     "output_type": "stream",
     "text": [
      "23.66307473730558\n",
      "23.66307473730558\n",
      "23.45259502144654\n",
      "23.45259502144654\n"
     ]
    },
    {
     "name": "stderr",
     "output_type": "stream",
     "text": [
      "\u001b[A\n",
      " 40%|████      | 485/1200 [01:12<01:47,  6.68it/s]\u001b[A\n",
      " 40%|████      | 486/1200 [01:13<01:44,  6.83it/s]"
     ]
    },
    {
     "name": "stdout",
     "output_type": "stream",
     "text": [
      "22.93884653508394\n",
      "22.93884653508394\n",
      "22.227821343801224\n",
      "22.227821343801224\n"
     ]
    },
    {
     "name": "stderr",
     "output_type": "stream",
     "text": [
      "\u001b[A\n",
      " 41%|████      | 487/1200 [01:13<01:45,  6.79it/s]\u001b[A\n",
      " 41%|████      | 488/1200 [01:13<01:42,  6.94it/s]"
     ]
    },
    {
     "name": "stdout",
     "output_type": "stream",
     "text": [
      "21.52374575208023\n",
      "21.52374575208023\n",
      "20.47981959030676\n",
      "20.47981959030676\n"
     ]
    },
    {
     "name": "stderr",
     "output_type": "stream",
     "text": [
      "\u001b[A\n",
      " 41%|████      | 489/1200 [01:13<01:44,  6.79it/s]\u001b[A\n",
      " 41%|████      | 490/1200 [01:13<01:44,  6.81it/s]"
     ]
    },
    {
     "name": "stdout",
     "output_type": "stream",
     "text": [
      "19.47960564791174\n",
      "19.47960564791174\n",
      "18.64000182630707\n",
      "18.64000182630707\n"
     ]
    },
    {
     "name": "stderr",
     "output_type": "stream",
     "text": [
      "\u001b[A\n",
      " 41%|████      | 491/1200 [01:13<01:45,  6.71it/s]\u001b[A\n",
      " 41%|████      | 492/1200 [01:13<01:43,  6.84it/s]"
     ]
    },
    {
     "name": "stdout",
     "output_type": "stream",
     "text": [
      "18.07574049625282\n",
      "18.07574049625282\n",
      "17.06057387661258\n",
      "17.06057387661258\n"
     ]
    },
    {
     "name": "stderr",
     "output_type": "stream",
     "text": [
      "\u001b[A\n",
      " 41%|████      | 493/1200 [01:14<01:44,  6.76it/s]\u001b[A\n",
      " 41%|████      | 494/1200 [01:14<01:43,  6.81it/s]"
     ]
    },
    {
     "name": "stdout",
     "output_type": "stream",
     "text": [
      "16.418832712057338\n",
      "16.418832712057338\n",
      "15.596926179714501\n",
      "15.596926179714501\n"
     ]
    },
    {
     "name": "stderr",
     "output_type": "stream",
     "text": [
      "\u001b[A\n",
      " 41%|████▏     | 495/1200 [01:14<01:44,  6.72it/s]\u001b[A\n",
      " 41%|████▏     | 496/1200 [01:14<01:44,  6.73it/s]"
     ]
    },
    {
     "name": "stdout",
     "output_type": "stream",
     "text": [
      "14.9410101066901\n",
      "14.9410101066901\n",
      "14.266320618097325\n",
      "14.266320618097325\n"
     ]
    },
    {
     "name": "stderr",
     "output_type": "stream",
     "text": [
      "\u001b[A\n",
      " 41%|████▏     | 497/1200 [01:14<01:44,  6.76it/s]\u001b[A\n",
      " 42%|████▏     | 498/1200 [01:14<01:41,  6.93it/s]"
     ]
    },
    {
     "name": "stdout",
     "output_type": "stream",
     "text": [
      "13.760616408761962\n",
      "13.760616408761962\n",
      "13.23694446962918\n",
      "13.23694446962918\n"
     ]
    },
    {
     "name": "stderr",
     "output_type": "stream",
     "text": [
      "\u001b[A\n",
      " 42%|████▏     | 499/1200 [01:14<01:40,  6.98it/s]\u001b[A\n",
      " 42%|████▏     | 500/1200 [01:15<01:40,  6.96it/s]"
     ]
    },
    {
     "name": "stdout",
     "output_type": "stream",
     "text": [
      "12.804518125685263\n",
      "12.804518125685263\n",
      "12.602095839883532\n",
      "12.602095839883532\n"
     ]
    },
    {
     "name": "stderr",
     "output_type": "stream",
     "text": [
      "\u001b[A\n",
      " 42%|████▏     | 501/1200 [01:15<01:41,  6.87it/s]\u001b[A\n",
      " 42%|████▏     | 502/1200 [01:15<01:40,  6.95it/s]"
     ]
    },
    {
     "name": "stdout",
     "output_type": "stream",
     "text": [
      "12.52483148059946\n",
      "12.52483148059946\n",
      "12.640758604099574\n",
      "12.640758604099574\n"
     ]
    },
    {
     "name": "stderr",
     "output_type": "stream",
     "text": [
      "\u001b[A\n",
      " 42%|████▏     | 503/1200 [01:15<01:41,  6.84it/s]\u001b[A\n",
      " 42%|████▏     | 504/1200 [01:15<01:41,  6.85it/s]"
     ]
    },
    {
     "name": "stdout",
     "output_type": "stream",
     "text": [
      "12.994174474943975\n",
      "12.994174474943975\n",
      "13.349738343369154\n",
      "13.349738343369154\n"
     ]
    },
    {
     "name": "stderr",
     "output_type": "stream",
     "text": [
      "\u001b[A\n",
      " 42%|████▏     | 505/1200 [01:15<01:42,  6.80it/s]\u001b[A\n",
      " 42%|████▏     | 506/1200 [01:16<01:41,  6.83it/s]"
     ]
    },
    {
     "name": "stdout",
     "output_type": "stream",
     "text": [
      "13.893614703972162\n",
      "13.893614703972162\n",
      "14.638758809581304\n",
      "14.638758809581304\n"
     ]
    },
    {
     "name": "stderr",
     "output_type": "stream",
     "text": [
      "\u001b[A\n",
      " 42%|████▏     | 507/1200 [01:16<01:40,  6.89it/s]\u001b[A\n",
      " 42%|████▏     | 508/1200 [01:16<01:37,  7.07it/s]"
     ]
    },
    {
     "name": "stdout",
     "output_type": "stream",
     "text": [
      "15.346798228138596\n",
      "15.346798228138596\n",
      "15.944666459371547\n",
      "15.944666459371547\n"
     ]
    },
    {
     "name": "stderr",
     "output_type": "stream",
     "text": [
      "\u001b[A\n",
      " 42%|████▏     | 509/1200 [01:16<01:38,  6.99it/s]\u001b[A\n",
      " 42%|████▎     | 510/1200 [01:16<01:37,  7.11it/s]"
     ]
    },
    {
     "name": "stdout",
     "output_type": "stream",
     "text": [
      "16.472688969371575\n",
      "16.472688969371575\n",
      "16.71952864662353\n",
      "16.71952864662353\n"
     ]
    },
    {
     "name": "stderr",
     "output_type": "stream",
     "text": [
      "\u001b[A\n",
      " 43%|████▎     | 511/1200 [01:16<01:37,  7.07it/s]\u001b[A\n",
      " 43%|████▎     | 512/1200 [01:16<01:35,  7.18it/s]"
     ]
    },
    {
     "name": "stdout",
     "output_type": "stream",
     "text": [
      "17.084020718089505\n",
      "17.084020718089505\n",
      "17.472398375332432\n",
      "17.472398375332432\n"
     ]
    },
    {
     "name": "stderr",
     "output_type": "stream",
     "text": [
      "\u001b[A\n",
      " 43%|████▎     | 513/1200 [01:16<01:36,  7.12it/s]\u001b[A\n",
      " 43%|████▎     | 514/1200 [01:17<01:35,  7.20it/s]"
     ]
    },
    {
     "name": "stdout",
     "output_type": "stream",
     "text": [
      "17.777806218746264\n",
      "17.777806218746264\n",
      "18.196823785276592\n",
      "18.196823785276592\n"
     ]
    },
    {
     "name": "stderr",
     "output_type": "stream",
     "text": [
      "\u001b[A\n",
      " 43%|████▎     | 515/1200 [01:17<01:35,  7.17it/s]\u001b[A\n",
      " 43%|████▎     | 516/1200 [01:17<01:34,  7.22it/s]"
     ]
    },
    {
     "name": "stdout",
     "output_type": "stream",
     "text": [
      "18.323844490363626\n",
      "18.323844490363626\n",
      "18.292768556980263\n",
      "18.292768556980263\n"
     ]
    },
    {
     "name": "stderr",
     "output_type": "stream",
     "text": [
      "\u001b[A\n",
      " 43%|████▎     | 517/1200 [01:17<01:35,  7.16it/s]\u001b[A\n",
      " 43%|████▎     | 518/1200 [01:17<01:35,  7.15it/s]"
     ]
    },
    {
     "name": "stdout",
     "output_type": "stream",
     "text": [
      "17.995833837579085\n",
      "17.995833837579085\n",
      "17.803081569341884\n",
      "17.803081569341884\n"
     ]
    },
    {
     "name": "stderr",
     "output_type": "stream",
     "text": [
      "\u001b[A\n",
      " 43%|████▎     | 519/1200 [01:17<01:37,  6.98it/s]\u001b[A\n",
      " 43%|████▎     | 520/1200 [01:17<01:37,  6.97it/s]"
     ]
    },
    {
     "name": "stdout",
     "output_type": "stream",
     "text": [
      "17.445939755326435\n",
      "17.445939755326435\n",
      "17.11537450431888\n",
      "17.11537450431888\n"
     ]
    },
    {
     "name": "stderr",
     "output_type": "stream",
     "text": [
      "\u001b[A\n",
      " 43%|████▎     | 521/1200 [01:18<01:41,  6.70it/s]\u001b[A\n",
      " 44%|████▎     | 522/1200 [01:18<01:39,  6.84it/s]"
     ]
    },
    {
     "name": "stdout",
     "output_type": "stream",
     "text": [
      "16.74495923483164\n",
      "16.74495923483164\n",
      "16.59991696283896\n",
      "16.59991696283896\n"
     ]
    },
    {
     "name": "stderr",
     "output_type": "stream",
     "text": [
      "\u001b[A\n",
      " 44%|████▎     | 523/1200 [01:18<01:41,  6.66it/s]\u001b[A\n",
      " 44%|████▎     | 524/1200 [01:18<01:38,  6.84it/s]"
     ]
    },
    {
     "name": "stdout",
     "output_type": "stream",
     "text": [
      "16.4334062240423\n",
      "16.4334062240423\n",
      "16.424295032774808\n",
      "16.424295032774808\n"
     ]
    },
    {
     "name": "stderr",
     "output_type": "stream",
     "text": [
      "\u001b[A\n",
      " 44%|████▍     | 525/1200 [01:18<01:40,  6.69it/s]\u001b[A\n",
      " 44%|████▍     | 526/1200 [01:18<01:42,  6.58it/s]"
     ]
    },
    {
     "name": "stdout",
     "output_type": "stream",
     "text": [
      "16.342704521742235\n",
      "16.342704521742235\n",
      "16.31657052518949\n",
      "16.31657052518949\n"
     ]
    },
    {
     "name": "stderr",
     "output_type": "stream",
     "text": [
      "\u001b[A\n",
      " 44%|████▍     | 527/1200 [01:19<01:42,  6.58it/s]\u001b[A\n",
      " 44%|████▍     | 528/1200 [01:19<01:41,  6.61it/s]"
     ]
    },
    {
     "name": "stdout",
     "output_type": "stream",
     "text": [
      "16.24933241708186\n",
      "16.24933241708186\n",
      "16.423384417258603\n",
      "16.423384417258603\n"
     ]
    },
    {
     "name": "stderr",
     "output_type": "stream",
     "text": [
      "\u001b[A\n",
      " 44%|████▍     | 529/1200 [01:19<01:41,  6.64it/s]\u001b[A\n",
      " 44%|████▍     | 530/1200 [01:19<01:38,  6.79it/s]"
     ]
    },
    {
     "name": "stdout",
     "output_type": "stream",
     "text": [
      "16.70543082301856\n",
      "16.70543082301856\n",
      "17.163588384198647\n",
      "17.163588384198647\n"
     ]
    },
    {
     "name": "stderr",
     "output_type": "stream",
     "text": [
      "\u001b[A\n",
      " 44%|████▍     | 531/1200 [01:19<01:40,  6.68it/s]\u001b[A\n",
      " 44%|████▍     | 532/1200 [01:19<01:39,  6.71it/s]"
     ]
    },
    {
     "name": "stdout",
     "output_type": "stream",
     "text": [
      "17.532711236586238\n",
      "17.532711236586238\n",
      "17.99153295322958\n",
      "17.99153295322958\n"
     ]
    },
    {
     "name": "stderr",
     "output_type": "stream",
     "text": [
      "\u001b[A\n",
      " 44%|████▍     | 533/1200 [01:19<01:40,  6.65it/s]\u001b[A\n",
      " 44%|████▍     | 534/1200 [01:20<01:38,  6.74it/s]"
     ]
    },
    {
     "name": "stdout",
     "output_type": "stream",
     "text": [
      "18.481813932944533\n",
      "18.481813932944533\n",
      "19.21556071713667\n",
      "19.21556071713667\n"
     ]
    },
    {
     "name": "stderr",
     "output_type": "stream",
     "text": [
      "\u001b[A\n",
      " 45%|████▍     | 535/1200 [01:20<01:40,  6.64it/s]\u001b[A\n",
      " 45%|████▍     | 536/1200 [01:20<01:37,  6.80it/s]"
     ]
    },
    {
     "name": "stdout",
     "output_type": "stream",
     "text": [
      "19.541969890026394\n",
      "19.541969890026394\n",
      "19.10577504451021\n",
      "19.10577504451021\n"
     ]
    },
    {
     "name": "stderr",
     "output_type": "stream",
     "text": [
      "\u001b[A\n",
      " 45%|████▍     | 537/1200 [01:20<01:37,  6.78it/s]\u001b[A\n",
      " 45%|████▍     | 538/1200 [01:20<01:33,  7.04it/s]"
     ]
    },
    {
     "name": "stdout",
     "output_type": "stream",
     "text": [
      "18.593084797021675\n",
      "18.593084797021675\n",
      "17.309724263902808\n",
      "17.309724263902808\n"
     ]
    },
    {
     "name": "stderr",
     "output_type": "stream",
     "text": [
      "\u001b[A\n",
      " 45%|████▍     | 539/1200 [01:20<01:35,  6.90it/s]\u001b[A\n",
      " 45%|████▌     | 540/1200 [01:20<01:33,  7.05it/s]"
     ]
    },
    {
     "name": "stdout",
     "output_type": "stream",
     "text": [
      "16.993489136595144\n",
      "16.993489136595144\n",
      "16.62874262038713\n",
      "16.62874262038713\n"
     ]
    },
    {
     "name": "stderr",
     "output_type": "stream",
     "text": [
      "\u001b[A\n",
      " 45%|████▌     | 541/1200 [01:21<01:34,  6.94it/s]\u001b[A\n",
      " 45%|████▌     | 542/1200 [01:21<01:32,  7.14it/s]"
     ]
    },
    {
     "name": "stdout",
     "output_type": "stream",
     "text": [
      "16.31657052518949\n",
      "16.31657052518949\n",
      "16.312971776932955\n",
      "16.312971776932955\n"
     ]
    },
    {
     "name": "stderr",
     "output_type": "stream",
     "text": [
      "\u001b[A\n",
      " 45%|████▌     | 543/1200 [01:21<01:33,  7.01it/s]\u001b[A\n",
      " 45%|████▌     | 544/1200 [01:21<01:31,  7.16it/s]"
     ]
    },
    {
     "name": "stdout",
     "output_type": "stream",
     "text": [
      "16.531472544298595\n",
      "16.531472544298595\n",
      "16.47543597911772\n",
      "16.47543597911772\n"
     ]
    },
    {
     "name": "stderr",
     "output_type": "stream",
     "text": [
      "\u001b[A\n",
      " 45%|████▌     | 545/1200 [01:21<01:35,  6.88it/s]\u001b[A\n",
      " 46%|████▌     | 546/1200 [01:21<01:33,  7.02it/s]"
     ]
    },
    {
     "name": "stdout",
     "output_type": "stream",
     "text": [
      "16.371630174977327\n",
      "16.371630174977327\n",
      "16.24486771842612\n",
      "16.24486771842612\n"
     ]
    },
    {
     "name": "stderr",
     "output_type": "stream",
     "text": [
      "\u001b[A\n",
      " 46%|████▌     | 547/1200 [01:21<01:35,  6.82it/s]\u001b[A\n",
      " 46%|████▌     | 548/1200 [01:22<01:33,  6.99it/s]"
     ]
    },
    {
     "name": "stdout",
     "output_type": "stream",
     "text": [
      "16.390663097570723\n",
      "16.390663097570723\n",
      "16.157805896345508\n",
      "16.157805896345508\n"
     ]
    },
    {
     "name": "stderr",
     "output_type": "stream",
     "text": [
      "\u001b[A\n",
      " 46%|████▌     | 549/1200 [01:22<01:34,  6.86it/s]\u001b[A\n",
      " 46%|████▌     | 550/1200 [01:22<01:33,  6.98it/s]"
     ]
    },
    {
     "name": "stdout",
     "output_type": "stream",
     "text": [
      "15.887028000820465\n",
      "15.887028000820465\n",
      "15.736555391390539\n",
      "15.736555391390539\n"
     ]
    },
    {
     "name": "stderr",
     "output_type": "stream",
     "text": [
      "\u001b[A\n",
      " 46%|████▌     | 551/1200 [01:22<01:34,  6.86it/s]\u001b[A\n",
      " 46%|████▌     | 552/1200 [01:22<01:31,  7.09it/s]"
     ]
    },
    {
     "name": "stdout",
     "output_type": "stream",
     "text": [
      "15.234757011223792\n",
      "15.234757011223792\n",
      "14.623232485349945\n",
      "14.623232485349945\n"
     ]
    },
    {
     "name": "stderr",
     "output_type": "stream",
     "text": [
      "\u001b[A\n",
      " 46%|████▌     | 553/1200 [01:22<01:32,  6.99it/s]\u001b[A\n",
      " 46%|████▌     | 554/1200 [01:22<01:30,  7.17it/s]"
     ]
    },
    {
     "name": "stdout",
     "output_type": "stream",
     "text": [
      "14.271976176472435\n",
      "14.271976176472435\n",
      "13.489150967524438\n",
      "13.489150967524438\n"
     ]
    },
    {
     "name": "stderr",
     "output_type": "stream",
     "text": [
      "\u001b[A\n",
      " 46%|████▋     | 555/1200 [01:23<01:31,  7.07it/s]\u001b[A\n",
      " 46%|████▋     | 556/1200 [01:23<01:28,  7.24it/s]"
     ]
    },
    {
     "name": "stdout",
     "output_type": "stream",
     "text": [
      "13.084509898368651\n",
      "13.084509898368651\n",
      "12.394224207871957\n",
      "12.394224207871957\n"
     ]
    },
    {
     "name": "stderr",
     "output_type": "stream",
     "text": [
      "\u001b[A\n",
      " 46%|████▋     | 557/1200 [01:23<01:31,  7.03it/s]\u001b[A\n",
      " 46%|████▋     | 558/1200 [01:23<01:29,  7.21it/s]"
     ]
    },
    {
     "name": "stdout",
     "output_type": "stream",
     "text": [
      "11.573777453569164\n",
      "11.573777453569164\n",
      "10.95848336009658\n",
      "10.95848336009658\n"
     ]
    },
    {
     "name": "stderr",
     "output_type": "stream",
     "text": [
      "\u001b[A\n",
      " 47%|████▋     | 559/1200 [01:23<01:30,  7.11it/s]\u001b[A\n",
      " 47%|████▋     | 560/1200 [01:23<01:27,  7.31it/s]"
     ]
    },
    {
     "name": "stdout",
     "output_type": "stream",
     "text": [
      "10.485568662456444\n",
      "10.485568662456444\n",
      "9.81316236936982\n",
      "9.81316236936982\n"
     ]
    },
    {
     "name": "stderr",
     "output_type": "stream",
     "text": [
      "\u001b[A\n",
      " 47%|████▋     | 561/1200 [01:23<01:28,  7.19it/s]\u001b[A\n",
      " 47%|████▋     | 562/1200 [01:24<01:27,  7.32it/s]"
     ]
    },
    {
     "name": "stdout",
     "output_type": "stream",
     "text": [
      "9.519897227892216\n",
      "9.519897227892216\n",
      "9.019478686609546\n",
      "9.019478686609546\n"
     ]
    },
    {
     "name": "stderr",
     "output_type": "stream",
     "text": [
      "\u001b[A\n",
      " 47%|████▋     | 563/1200 [01:24<01:28,  7.19it/s]\u001b[A\n",
      " 47%|████▋     | 564/1200 [01:24<01:26,  7.35it/s]"
     ]
    },
    {
     "name": "stdout",
     "output_type": "stream",
     "text": [
      "8.512701392793588\n",
      "8.512701392793588\n",
      "8.232369834020574\n",
      "8.232369834020574\n"
     ]
    },
    {
     "name": "stderr",
     "output_type": "stream",
     "text": [
      "\u001b[A\n",
      " 47%|████▋     | 565/1200 [01:24<01:27,  7.25it/s]\u001b[A\n",
      " 47%|████▋     | 566/1200 [01:24<01:25,  7.39it/s]"
     ]
    },
    {
     "name": "stdout",
     "output_type": "stream",
     "text": [
      "8.102023916627331\n",
      "8.102023916627331\n",
      "7.386325190261687\n",
      "7.386325190261687\n"
     ]
    },
    {
     "name": "stderr",
     "output_type": "stream",
     "text": [
      "\u001b[A\n",
      " 47%|████▋     | 567/1200 [01:24<01:26,  7.30it/s]\u001b[A\n",
      " 47%|████▋     | 568/1200 [01:24<01:25,  7.38it/s]"
     ]
    },
    {
     "name": "stdout",
     "output_type": "stream",
     "text": [
      "7.092677563102825\n",
      "7.092677563102825\n",
      "6.3024011298612095\n",
      "6.3024011298612095\n"
     ]
    },
    {
     "name": "stderr",
     "output_type": "stream",
     "text": [
      "\u001b[A\n",
      " 47%|████▋     | 569/1200 [01:25<01:27,  7.20it/s]\u001b[A\n",
      " 48%|████▊     | 570/1200 [01:25<01:26,  7.31it/s]"
     ]
    },
    {
     "name": "stdout",
     "output_type": "stream",
     "text": [
      "6.195570152107848\n",
      "6.195570152107848\n",
      "6.1714528201559915\n",
      "6.1714528201559915\n"
     ]
    },
    {
     "name": "stderr",
     "output_type": "stream",
     "text": [
      "\u001b[A\n",
      " 48%|████▊     | 571/1200 [01:25<01:28,  7.10it/s]\u001b[A\n",
      " 48%|████▊     | 572/1200 [01:25<01:26,  7.26it/s]"
     ]
    },
    {
     "name": "stdout",
     "output_type": "stream",
     "text": [
      "6.558680837220891\n",
      "6.558680837220891\n",
      "6.208204338390715\n",
      "6.208204338390715\n"
     ]
    },
    {
     "name": "stderr",
     "output_type": "stream",
     "text": [
      "\u001b[A\n",
      " 48%|████▊     | 573/1200 [01:25<01:29,  7.03it/s]\u001b[A\n",
      " 48%|████▊     | 574/1200 [01:25<01:27,  7.19it/s]"
     ]
    },
    {
     "name": "stdout",
     "output_type": "stream",
     "text": [
      "7.1309885056989515\n",
      "7.1309885056989515\n",
      "8.121236937307458\n",
      "8.121236937307458\n"
     ]
    },
    {
     "name": "stderr",
     "output_type": "stream",
     "text": [
      "\u001b[A\n",
      " 48%|████▊     | 575/1200 [01:25<01:29,  6.99it/s]\u001b[A\n",
      " 48%|████▊     | 576/1200 [01:25<01:28,  7.02it/s]"
     ]
    },
    {
     "name": "stdout",
     "output_type": "stream",
     "text": [
      "7.934231894584627\n",
      "7.934231894584627\n",
      "7.219192691515218\n",
      "7.219192691515218\n"
     ]
    },
    {
     "name": "stderr",
     "output_type": "stream",
     "text": [
      "\u001b[A\n",
      " 48%|████▊     | 577/1200 [01:26<01:29,  6.96it/s]\u001b[A\n",
      " 48%|████▊     | 578/1200 [01:26<01:28,  7.00it/s]"
     ]
    },
    {
     "name": "stdout",
     "output_type": "stream",
     "text": [
      "8.272179941577633\n",
      "8.272179941577633\n",
      "9.653728956721807\n",
      "9.653728956721807\n"
     ]
    },
    {
     "name": "stderr",
     "output_type": "stream",
     "text": [
      "\u001b[A\n",
      " 48%|████▊     | 579/1200 [01:26<01:29,  6.96it/s]\u001b[A\n",
      " 48%|████▊     | 580/1200 [01:26<01:26,  7.14it/s]"
     ]
    },
    {
     "name": "stdout",
     "output_type": "stream",
     "text": [
      "10.470357952266568\n",
      "10.470357952266568\n",
      "8.2148994160234\n",
      "8.2148994160234\n"
     ]
    },
    {
     "name": "stderr",
     "output_type": "stream",
     "text": [
      "\u001b[A\n",
      " 48%|████▊     | 581/1200 [01:26<01:26,  7.16it/s]\u001b[A\n",
      " 48%|████▊     | 582/1200 [01:26<01:25,  7.22it/s]"
     ]
    },
    {
     "name": "stdout",
     "output_type": "stream",
     "text": [
      "11.175805327675334\n",
      "11.175805327675334\n",
      "12.357425509929726\n",
      "12.357425509929726\n"
     ]
    },
    {
     "name": "stderr",
     "output_type": "stream",
     "text": [
      "\u001b[A\n",
      " 49%|████▊     | 583/1200 [01:26<01:27,  7.08it/s]\u001b[A\n",
      " 49%|████▊     | 584/1200 [01:27<01:27,  7.01it/s]"
     ]
    },
    {
     "name": "stdout",
     "output_type": "stream",
     "text": [
      "13.855286422985046\n",
      "13.855286422985046\n",
      "15.529181217156292\n",
      "15.529181217156292\n"
     ]
    },
    {
     "name": "stderr",
     "output_type": "stream",
     "text": [
      "\u001b[A\n",
      " 49%|████▉     | 585/1200 [01:27<01:27,  7.04it/s]\u001b[A\n",
      " 49%|████▉     | 586/1200 [01:27<01:25,  7.18it/s]"
     ]
    },
    {
     "name": "stdout",
     "output_type": "stream",
     "text": [
      "17.571758149435027\n",
      "17.571758149435027\n",
      "19.48333717253172\n",
      "19.48333717253172\n"
     ]
    },
    {
     "name": "stderr",
     "output_type": "stream",
     "text": [
      "\u001b[A\n",
      " 49%|████▉     | 587/1200 [01:27<01:27,  7.02it/s]\u001b[A\n",
      " 49%|████▉     | 588/1200 [01:27<01:24,  7.26it/s]"
     ]
    },
    {
     "name": "stdout",
     "output_type": "stream",
     "text": [
      "20.764383313767212\n",
      "20.764383313767212\n",
      "21.060652929262233\n",
      "21.060652929262233\n"
     ]
    },
    {
     "name": "stderr",
     "output_type": "stream",
     "text": [
      "\u001b[A\n",
      " 49%|████▉     | 589/1200 [01:27<01:24,  7.25it/s]\u001b[A\n",
      " 49%|████▉     | 590/1200 [01:27<01:22,  7.42it/s]"
     ]
    },
    {
     "name": "stdout",
     "output_type": "stream",
     "text": [
      "21.060652929262233\n",
      "21.060652929262233\n",
      "21.222658808245797\n",
      "21.222658808245797\n"
     ]
    },
    {
     "name": "stderr",
     "output_type": "stream",
     "text": [
      "\u001b[A\n",
      " 49%|████▉     | 591/1200 [01:28<01:23,  7.27it/s]\u001b[A\n",
      " 49%|████▉     | 592/1200 [01:28<01:21,  7.49it/s]"
     ]
    },
    {
     "name": "stdout",
     "output_type": "stream",
     "text": [
      "19.796424915125044\n",
      "19.796424915125044\n",
      "17.015797338657194\n",
      "17.015797338657194\n"
     ]
    },
    {
     "name": "stderr",
     "output_type": "stream",
     "text": [
      "\u001b[A\n",
      " 49%|████▉     | 593/1200 [01:28<01:22,  7.34it/s]\u001b[A\n",
      " 50%|████▉     | 594/1200 [01:28<01:21,  7.42it/s]"
     ]
    },
    {
     "name": "stdout",
     "output_type": "stream",
     "text": [
      "13.467436862382328\n",
      "13.467436862382328\n",
      "9.492397335610349\n",
      "9.492397335610349\n"
     ]
    },
    {
     "name": "stderr",
     "output_type": "stream",
     "text": [
      "\u001b[A\n",
      " 50%|████▉     | 595/1200 [01:28<01:24,  7.17it/s]\u001b[A\n",
      " 50%|████▉     | 596/1200 [01:28<01:23,  7.22it/s]"
     ]
    },
    {
     "name": "stdout",
     "output_type": "stream",
     "text": [
      "6.671750587066072\n",
      "6.671750587066072\n",
      "3.132526779030286\n",
      "3.132526779030286\n"
     ]
    },
    {
     "name": "stderr",
     "output_type": "stream",
     "text": [
      "\u001b[A\n",
      " 50%|████▉     | 597/1200 [01:28<01:24,  7.16it/s]\u001b[A\n",
      " 50%|████▉     | 598/1200 [01:29<01:22,  7.32it/s]"
     ]
    },
    {
     "name": "stdout",
     "output_type": "stream",
     "text": [
      "4.461304237208424\n",
      "4.461304237208424\n",
      "13.630519350240775\n",
      "13.630519350240775\n"
     ]
    },
    {
     "name": "stderr",
     "output_type": "stream",
     "text": [
      "\u001b[A\n",
      " 50%|████▉     | 599/1200 [01:29<01:26,  6.93it/s]\u001b[A\n",
      " 50%|█████     | 600/1200 [01:29<01:27,  6.88it/s]"
     ]
    },
    {
     "name": "stdout",
     "output_type": "stream",
     "text": [
      "13.630519350240775\n",
      "13.630519350240775\n",
      "21.480462719561274\n",
      "21.480462719561274\n"
     ]
    },
    {
     "name": "stderr",
     "output_type": "stream",
     "text": [
      "\u001b[A\n",
      " 50%|█████     | 601/1200 [01:29<01:29,  6.67it/s]\u001b[A\n",
      " 50%|█████     | 602/1200 [01:29<01:30,  6.63it/s]"
     ]
    },
    {
     "name": "stdout",
     "output_type": "stream",
     "text": [
      "30.268034526591236\n",
      "30.268034526591236\n",
      "32.849857749813964\n",
      "32.849857749813964\n"
     ]
    },
    {
     "name": "stderr",
     "output_type": "stream",
     "text": [
      "\u001b[A\n",
      " 50%|█████     | 603/1200 [01:29<01:28,  6.74it/s]\u001b[A\n",
      " 50%|█████     | 604/1200 [01:29<01:28,  6.76it/s]"
     ]
    },
    {
     "name": "stdout",
     "output_type": "stream",
     "text": [
      "334.1135739358897\n",
      "334.1135739358897\n",
      "28.99207531754928\n",
      "28.99207531754928\n"
     ]
    },
    {
     "name": "stderr",
     "output_type": "stream",
     "text": [
      "\u001b[A\n",
      " 50%|█████     | 605/1200 [01:30<01:31,  6.48it/s]\u001b[A\n",
      " 50%|█████     | 606/1200 [01:30<01:31,  6.52it/s]"
     ]
    },
    {
     "name": "stdout",
     "output_type": "stream",
     "text": [
      "337.9601933803706\n",
      "337.9601933803706\n",
      "349.7410798420369\n",
      "349.7410798420369\n"
     ]
    },
    {
     "name": "stderr",
     "output_type": "stream",
     "text": [
      "\u001b[A\n",
      " 51%|█████     | 607/1200 [01:30<01:31,  6.46it/s]\u001b[A\n",
      " 51%|█████     | 608/1200 [01:30<01:29,  6.64it/s]"
     ]
    },
    {
     "name": "stdout",
     "output_type": "stream",
     "text": [
      "339.96514598611793\n",
      "339.96514598611793\n",
      "341.67107283667747\n",
      "341.67107283667747\n"
     ]
    },
    {
     "name": "stderr",
     "output_type": "stream",
     "text": [
      "\u001b[A\n",
      " 51%|█████     | 609/1200 [01:30<01:30,  6.52it/s]\u001b[A\n",
      " 51%|█████     | 610/1200 [01:30<01:29,  6.60it/s]"
     ]
    },
    {
     "name": "stdout",
     "output_type": "stream",
     "text": [
      "346.10794788137764\n",
      "346.10794788137764\n",
      "346.7646157385616\n",
      "346.7646157385616\n"
     ]
    },
    {
     "name": "stderr",
     "output_type": "stream",
     "text": [
      "\u001b[A\n",
      " 51%|█████     | 611/1200 [01:31<01:28,  6.66it/s]\u001b[A\n",
      " 51%|█████     | 612/1200 [01:31<01:26,  6.81it/s]"
     ]
    },
    {
     "name": "stdout",
     "output_type": "stream",
     "text": [
      "357.796896124009\n",
      "357.796896124009\n",
      "345.17583510635905\n",
      "345.17583510635905\n"
     ]
    },
    {
     "name": "stderr",
     "output_type": "stream",
     "text": [
      "\u001b[A\n",
      " 51%|█████     | 613/1200 [01:31<01:26,  6.78it/s]\u001b[A\n",
      " 51%|█████     | 614/1200 [01:31<01:25,  6.85it/s]"
     ]
    },
    {
     "name": "stdout",
     "output_type": "stream",
     "text": [
      "340.8200008674271\n",
      "340.8200008674271\n",
      "339.57485692172395\n",
      "339.57485692172395\n"
     ]
    },
    {
     "name": "stderr",
     "output_type": "stream",
     "text": [
      "\u001b[A\n",
      " 51%|█████▏    | 615/1200 [01:31<01:26,  6.74it/s]\u001b[A\n",
      " 51%|█████▏    | 616/1200 [01:31<01:24,  6.88it/s]"
     ]
    },
    {
     "name": "stdout",
     "output_type": "stream",
     "text": [
      "340.75793646706006\n",
      "340.75793646706006\n",
      "343.5095574916809\n",
      "343.5095574916809\n"
     ]
    },
    {
     "name": "stderr",
     "output_type": "stream",
     "text": [
      "\u001b[A\n",
      " 51%|█████▏    | 617/1200 [01:31<01:26,  6.77it/s]\u001b[A\n",
      " 52%|█████▏    | 618/1200 [01:32<01:24,  6.93it/s]"
     ]
    },
    {
     "name": "stdout",
     "output_type": "stream",
     "text": [
      "347.56623334632786\n",
      "347.56623334632786\n",
      "346.6727611544279\n",
      "346.6727611544279\n"
     ]
    },
    {
     "name": "stderr",
     "output_type": "stream",
     "text": [
      "\u001b[A\n",
      " 52%|█████▏    | 619/1200 [01:32<01:24,  6.88it/s]\u001b[A\n",
      " 52%|█████▏    | 620/1200 [01:32<01:22,  7.05it/s]"
     ]
    },
    {
     "name": "stdout",
     "output_type": "stream",
     "text": [
      "346.4363997696346\n",
      "346.4363997696346\n",
      "346.82809168663425\n",
      "346.82809168663425\n"
     ]
    },
    {
     "name": "stderr",
     "output_type": "stream",
     "text": [
      "\u001b[A\n",
      " 52%|█████▏    | 621/1200 [01:32<01:24,  6.84it/s]\u001b[A\n",
      " 52%|█████▏    | 622/1200 [01:32<01:23,  6.94it/s]"
     ]
    },
    {
     "name": "stdout",
     "output_type": "stream",
     "text": [
      "347.54639090416003\n",
      "347.54639090416003\n",
      "9.492397335610349\n",
      "9.492397335610349\n"
     ]
    },
    {
     "name": "stderr",
     "output_type": "stream",
     "text": [
      "\u001b[A\n",
      " 52%|█████▏    | 623/1200 [01:32<01:25,  6.76it/s]\u001b[A\n",
      " 52%|█████▏    | 624/1200 [01:32<01:23,  6.86it/s]"
     ]
    },
    {
     "name": "stdout",
     "output_type": "stream",
     "text": [
      "11.256735690583355\n",
      "11.256735690583355\n",
      "13.070586429842933\n",
      "13.070586429842933\n"
     ]
    },
    {
     "name": "stderr",
     "output_type": "stream",
     "text": [
      "\u001b[A\n",
      " 52%|█████▏    | 625/1200 [01:33<01:24,  6.77it/s]\u001b[A\n",
      " 52%|█████▏    | 626/1200 [01:33<01:23,  6.90it/s]"
     ]
    },
    {
     "name": "stdout",
     "output_type": "stream",
     "text": [
      "15.644331958458679\n",
      "15.644331958458679\n",
      "17.3972844693526\n",
      "17.3972844693526\n"
     ]
    },
    {
     "name": "stderr",
     "output_type": "stream",
     "text": [
      "\u001b[A\n",
      " 52%|█████▏    | 627/1200 [01:33<01:25,  6.73it/s]\u001b[A\n",
      " 52%|█████▏    | 628/1200 [01:33<01:24,  6.78it/s]"
     ]
    },
    {
     "name": "stdout",
     "output_type": "stream",
     "text": [
      "19.93438380563839\n",
      "19.93438380563839\n",
      "21.66213377001168\n",
      "21.66213377001168\n"
     ]
    },
    {
     "name": "stderr",
     "output_type": "stream",
     "text": [
      "\u001b[A\n",
      " 52%|█████▏    | 629/1200 [01:33<01:25,  6.67it/s]\u001b[A\n",
      " 52%|█████▎    | 630/1200 [01:33<01:26,  6.61it/s]"
     ]
    },
    {
     "name": "stdout",
     "output_type": "stream",
     "text": [
      "23.88254999899027\n",
      "23.88254999899027\n",
      "25.136984093086085\n",
      "25.136984093086085\n"
     ]
    },
    {
     "name": "stderr",
     "output_type": "stream",
     "text": [
      "\u001b[A\n",
      " 53%|█████▎    | 631/1200 [01:33<01:27,  6.53it/s]\u001b[A\n",
      " 53%|█████▎    | 632/1200 [01:34<01:25,  6.65it/s]"
     ]
    },
    {
     "name": "stdout",
     "output_type": "stream",
     "text": [
      "25.507462870754807\n",
      "25.507462870754807\n",
      "25.205050981999648\n",
      "25.205050981999648\n"
     ]
    },
    {
     "name": "stderr",
     "output_type": "stream",
     "text": [
      "\u001b[A\n",
      " 53%|█████▎    | 633/1200 [01:34<01:25,  6.62it/s]\u001b[A\n",
      " 53%|█████▎    | 634/1200 [01:34<01:24,  6.72it/s]"
     ]
    },
    {
     "name": "stdout",
     "output_type": "stream",
     "text": [
      "24.052423719292165\n",
      "24.052423719292165\n",
      "20.719701082764004\n",
      "20.719701082764004\n"
     ]
    },
    {
     "name": "stderr",
     "output_type": "stream",
     "text": [
      "\u001b[A\n",
      " 53%|█████▎    | 635/1200 [01:34<01:24,  6.69it/s]\u001b[A\n",
      " 53%|█████▎    | 636/1200 [01:34<01:24,  6.71it/s]"
     ]
    },
    {
     "name": "stdout",
     "output_type": "stream",
     "text": [
      "351.53209892399354\n",
      "351.53209892399354\n",
      "340.54200671724357\n",
      "340.54200671724357\n"
     ]
    },
    {
     "name": "stderr",
     "output_type": "stream",
     "text": [
      "\u001b[A\n",
      " 53%|█████▎    | 637/1200 [01:34<01:23,  6.75it/s]\u001b[A\n",
      " 53%|█████▎    | 638/1200 [01:35<01:21,  6.87it/s]"
     ]
    },
    {
     "name": "stdout",
     "output_type": "stream",
     "text": [
      "338.17133769852853\n",
      "338.17133769852853\n",
      "338.516924323123\n",
      "338.516924323123\n"
     ]
    },
    {
     "name": "stderr",
     "output_type": "stream",
     "text": [
      "\u001b[A\n",
      " 53%|█████▎    | 639/1200 [01:35<01:24,  6.66it/s]\u001b[A\n",
      " 53%|█████▎    | 640/1200 [01:35<01:23,  6.69it/s]"
     ]
    },
    {
     "name": "stdout",
     "output_type": "stream",
     "text": [
      "339.289614111879\n",
      "339.289614111879\n",
      "339.8658099211161\n",
      "339.8658099211161\n"
     ]
    },
    {
     "name": "stderr",
     "output_type": "stream",
     "text": [
      "\u001b[A\n",
      " 53%|█████▎    | 641/1200 [01:35<01:26,  6.50it/s]\u001b[A\n",
      " 54%|█████▎    | 642/1200 [01:35<01:23,  6.65it/s]"
     ]
    },
    {
     "name": "stdout",
     "output_type": "stream",
     "text": [
      "339.8658099211161\n",
      "339.8658099211161\n",
      "339.8658099211161\n",
      "339.8658099211161\n"
     ]
    },
    {
     "name": "stderr",
     "output_type": "stream",
     "text": [
      "\u001b[A\n",
      " 54%|█████▎    | 643/1200 [01:35<01:24,  6.62it/s]\u001b[A\n",
      " 54%|█████▎    | 644/1200 [01:35<01:22,  6.77it/s]"
     ]
    },
    {
     "name": "stdout",
     "output_type": "stream",
     "text": [
      "339.8658099211161\n",
      "339.8658099211161\n",
      "339.8658099211161\n",
      "339.8658099211161\n"
     ]
    },
    {
     "name": "stderr",
     "output_type": "stream",
     "text": [
      "\u001b[A\n",
      " 54%|█████▍    | 645/1200 [01:36<01:25,  6.51it/s]\u001b[A\n",
      " 54%|█████▍    | 646/1200 [01:36<01:22,  6.70it/s]"
     ]
    },
    {
     "name": "stdout",
     "output_type": "stream",
     "text": [
      "339.8507222182584\n",
      "339.8507222182584\n",
      "339.8507222182584\n",
      "339.8507222182584\n"
     ]
    },
    {
     "name": "stderr",
     "output_type": "stream",
     "text": [
      "\u001b[A\n",
      " 54%|█████▍    | 647/1200 [01:36<01:23,  6.60it/s]\u001b[A\n",
      " 54%|█████▍    | 648/1200 [01:36<01:21,  6.74it/s]"
     ]
    },
    {
     "name": "stdout",
     "output_type": "stream",
     "text": [
      "339.8507222182584\n",
      "339.8507222182584\n",
      "339.8507222182584\n",
      "339.8507222182584\n"
     ]
    },
    {
     "name": "stderr",
     "output_type": "stream",
     "text": [
      "\u001b[A\n",
      " 54%|█████▍    | 649/1200 [01:36<01:23,  6.64it/s]\u001b[A\n",
      " 54%|█████▍    | 650/1200 [01:36<01:22,  6.63it/s]"
     ]
    },
    {
     "name": "stdout",
     "output_type": "stream",
     "text": [
      "339.8507222182584\n",
      "339.8507222182584\n",
      "339.8507222182584\n",
      "339.8507222182584\n"
     ]
    },
    {
     "name": "stderr",
     "output_type": "stream",
     "text": [
      "\u001b[A\n",
      " 54%|█████▍    | 651/1200 [01:36<01:24,  6.52it/s]\u001b[A\n",
      " 54%|█████▍    | 652/1200 [01:37<01:24,  6.52it/s]"
     ]
    },
    {
     "name": "stdout",
     "output_type": "stream",
     "text": [
      "339.8507222182584\n",
      "339.8507222182584\n",
      "343.4290590612827\n",
      "343.4290590612827\n"
     ]
    },
    {
     "name": "stderr",
     "output_type": "stream",
     "text": [
      "\u001b[A\n",
      " 54%|█████▍    | 653/1200 [01:37<01:25,  6.40it/s]\u001b[A\n",
      " 55%|█████▍    | 654/1200 [01:37<01:21,  6.67it/s]"
     ]
    },
    {
     "name": "stdout",
     "output_type": "stream",
     "text": [
      "343.4290590612827\n",
      "343.4290590612827\n",
      "343.4290590612827\n",
      "343.4290590612827\n"
     ]
    },
    {
     "name": "stderr",
     "output_type": "stream",
     "text": [
      "\u001b[A\n",
      " 55%|█████▍    | 655/1200 [01:37<01:21,  6.66it/s]\u001b[A\n",
      " 55%|█████▍    | 656/1200 [01:37<01:19,  6.81it/s]"
     ]
    },
    {
     "name": "stdout",
     "output_type": "stream",
     "text": [
      "343.4290590612827\n",
      "343.4290590612827\n",
      "343.4290590612827\n",
      "343.4290590612827\n"
     ]
    },
    {
     "name": "stderr",
     "output_type": "stream",
     "text": [
      "\u001b[A\n",
      " 55%|█████▍    | 657/1200 [01:37<01:21,  6.70it/s]\u001b[A\n",
      " 55%|█████▍    | 658/1200 [01:38<01:20,  6.73it/s]"
     ]
    },
    {
     "name": "stdout",
     "output_type": "stream",
     "text": [
      "343.4290590612827\n",
      "343.4290590612827\n",
      "343.4290590612827\n",
      "343.4290590612827\n"
     ]
    },
    {
     "name": "stderr",
     "output_type": "stream",
     "text": [
      "\u001b[A\n",
      " 55%|█████▍    | 659/1200 [01:38<01:23,  6.47it/s]\u001b[A\n",
      " 55%|█████▌    | 660/1200 [01:38<01:24,  6.37it/s]"
     ]
    },
    {
     "name": "stdout",
     "output_type": "stream",
     "text": [
      "343.4290590612827\n",
      "343.4290590612827\n",
      "343.4290590612827\n",
      "343.4290590612827\n"
     ]
    },
    {
     "name": "stderr",
     "output_type": "stream",
     "text": [
      "\u001b[A\n",
      " 55%|█████▌    | 661/1200 [01:38<01:25,  6.29it/s]\u001b[A\n",
      " 55%|█████▌    | 662/1200 [01:38<01:23,  6.47it/s]"
     ]
    },
    {
     "name": "stdout",
     "output_type": "stream",
     "text": [
      "343.4290590612827\n",
      "343.4290590612827\n",
      "343.4290590612827\n",
      "343.4290590612827\n"
     ]
    },
    {
     "name": "stderr",
     "output_type": "stream",
     "text": [
      "\u001b[A\n",
      " 55%|█████▌    | 663/1200 [01:38<01:26,  6.21it/s]\u001b[A"
     ]
    },
    {
     "name": "stdout",
     "output_type": "stream",
     "text": [
      "343.4290590612827\n",
      "343.4290590612827\n",
      "343.4290590612827\n",
      "343.4290590612827\n"
     ]
    },
    {
     "name": "stderr",
     "output_type": "stream",
     "text": [
      "\n",
      " 55%|█████▌    | 664/1200 [01:39<01:29,  5.99it/s]\u001b[A\n",
      " 55%|█████▌    | 665/1200 [01:39<01:28,  6.06it/s]\u001b[A\n",
      " 56%|█████▌    | 666/1200 [01:39<01:28,  6.02it/s]"
     ]
    },
    {
     "name": "stdout",
     "output_type": "stream",
     "text": [
      "343.4290590612827\n",
      "343.4290590612827\n",
      "343.4290590612827\n",
      "343.4290590612827\n"
     ]
    },
    {
     "name": "stderr",
     "output_type": "stream",
     "text": [
      "\u001b[A\n",
      " 56%|█████▌    | 667/1200 [01:39<01:27,  6.07it/s]\u001b[A\n",
      " 56%|█████▌    | 668/1200 [01:39<01:27,  6.11it/s]"
     ]
    },
    {
     "name": "stdout",
     "output_type": "stream",
     "text": [
      "343.4290590612827\n",
      "343.4290590612827\n",
      "343.4290590612827\n",
      "343.4290590612827\n"
     ]
    },
    {
     "name": "stderr",
     "output_type": "stream",
     "text": [
      "\u001b[A\n",
      " 56%|█████▌    | 669/1200 [01:39<01:25,  6.24it/s]\u001b[A\n",
      " 56%|█████▌    | 670/1200 [01:39<01:24,  6.26it/s]"
     ]
    },
    {
     "name": "stdout",
     "output_type": "stream",
     "text": [
      "343.4290590612827\n",
      "343.4290590612827\n",
      "343.4290590612827\n",
      "343.4290590612827\n"
     ]
    },
    {
     "name": "stderr",
     "output_type": "stream",
     "text": [
      "\u001b[A\n",
      " 56%|█████▌    | 671/1200 [01:40<01:21,  6.51it/s]\u001b[A\n",
      " 56%|█████▌    | 672/1200 [01:40<01:21,  6.45it/s]"
     ]
    },
    {
     "name": "stdout",
     "output_type": "stream",
     "text": [
      "343.4290590612827\n",
      "343.4290590612827\n",
      "343.4290590612827\n",
      "343.4290590612827\n"
     ]
    },
    {
     "name": "stderr",
     "output_type": "stream",
     "text": [
      "\u001b[A\n",
      " 56%|█████▌    | 673/1200 [01:40<01:24,  6.26it/s]\u001b[A\n",
      " 56%|█████▌    | 674/1200 [01:40<01:22,  6.37it/s]"
     ]
    },
    {
     "name": "stdout",
     "output_type": "stream",
     "text": [
      "343.4290590612827\n",
      "343.4290590612827\n",
      "343.4290590612827\n",
      "343.4290590612827\n"
     ]
    },
    {
     "name": "stderr",
     "output_type": "stream",
     "text": [
      "\u001b[A\n",
      " 56%|█████▋    | 675/1200 [01:40<01:20,  6.52it/s]\u001b[A\n",
      " 56%|█████▋    | 676/1200 [01:40<01:17,  6.73it/s]"
     ]
    },
    {
     "name": "stdout",
     "output_type": "stream",
     "text": [
      "343.4290590612827\n",
      "343.4290590612827\n",
      "352.3901786049396\n",
      "352.3901786049396\n"
     ]
    },
    {
     "name": "stderr",
     "output_type": "stream",
     "text": [
      "\u001b[A\n",
      " 56%|█████▋    | 677/1200 [01:41<01:15,  6.92it/s]\u001b[A\n",
      " 56%|█████▋    | 678/1200 [01:41<01:15,  6.90it/s]"
     ]
    },
    {
     "name": "stdout",
     "output_type": "stream",
     "text": [
      "346.5189418174955\n",
      "346.5189418174955\n",
      "328.7558231159792\n",
      "328.7558231159792\n"
     ]
    },
    {
     "name": "stderr",
     "output_type": "stream",
     "text": [
      "\u001b[A\n",
      " 57%|█████▋    | 679/1200 [01:41<01:17,  6.73it/s]\u001b[A\n",
      " 57%|█████▋    | 680/1200 [01:41<01:16,  6.82it/s]"
     ]
    },
    {
     "name": "stdout",
     "output_type": "stream",
     "text": [
      "307.1507623585858\n",
      "307.1507623585858\n",
      "54.24565848356451\n",
      "54.24565848356451\n"
     ]
    },
    {
     "name": "stderr",
     "output_type": "stream",
     "text": [
      "\u001b[A\n",
      " 57%|█████▋    | 681/1200 [01:41<01:17,  6.69it/s]\u001b[A\n",
      " 57%|█████▋    | 682/1200 [01:41<01:16,  6.76it/s]"
     ]
    },
    {
     "name": "stdout",
     "output_type": "stream",
     "text": [
      "36.15779718299973\n",
      "36.15779718299973\n",
      "35.85030223875856\n",
      "35.85030223875856\n"
     ]
    },
    {
     "name": "stderr",
     "output_type": "stream",
     "text": [
      "\u001b[A\n",
      " 57%|█████▋    | 683/1200 [01:41<01:16,  6.76it/s]\u001b[A\n",
      " 57%|█████▋    | 684/1200 [01:42<01:15,  6.86it/s]"
     ]
    },
    {
     "name": "stdout",
     "output_type": "stream",
     "text": [
      "56.11218320358512\n",
      "56.11218320358512\n",
      "73.84532117633944\n",
      "73.84532117633944\n"
     ]
    },
    {
     "name": "stderr",
     "output_type": "stream",
     "text": [
      "\u001b[A\n",
      " 57%|█████▋    | 685/1200 [01:42<01:16,  6.75it/s]\u001b[A\n",
      " 57%|█████▋    | 686/1200 [01:42<01:15,  6.83it/s]"
     ]
    },
    {
     "name": "stdout",
     "output_type": "stream",
     "text": [
      "88.42309560263766\n",
      "88.42309560263766\n",
      "99.98445552632529\n",
      "99.98445552632529\n"
     ]
    },
    {
     "name": "stderr",
     "output_type": "stream",
     "text": [
      "\u001b[A\n",
      " 57%|█████▋    | 687/1200 [01:42<01:16,  6.73it/s]\u001b[A\n",
      " 57%|█████▋    | 688/1200 [01:42<01:14,  6.89it/s]"
     ]
    },
    {
     "name": "stdout",
     "output_type": "stream",
     "text": [
      "109.10017906717076\n",
      "109.10017906717076\n",
      "116.92450868553487\n",
      "116.92450868553487\n"
     ]
    },
    {
     "name": "stderr",
     "output_type": "stream",
     "text": [
      "\u001b[A\n",
      " 57%|█████▋    | 689/1200 [01:42<01:15,  6.80it/s]\u001b[A\n",
      " 57%|█████▊    | 690/1200 [01:42<01:13,  6.98it/s]"
     ]
    },
    {
     "name": "stdout",
     "output_type": "stream",
     "text": [
      "123.97799763277771\n",
      "123.97799763277771\n",
      "236.74776099625979\n",
      "236.74776099625979\n"
     ]
    },
    {
     "name": "stderr",
     "output_type": "stream",
     "text": [
      "\u001b[A\n",
      " 58%|█████▊    | 691/1200 [01:43<01:14,  6.81it/s]\u001b[A\n",
      " 58%|█████▊    | 692/1200 [01:43<01:15,  6.74it/s]"
     ]
    },
    {
     "name": "stdout",
     "output_type": "stream",
     "text": [
      "250.6522003557925\n",
      "250.6522003557925\n",
      "250.6522003557925\n",
      "250.6522003557925\n"
     ]
    },
    {
     "name": "stderr",
     "output_type": "stream",
     "text": [
      "\u001b[A\n",
      " 58%|█████▊    | 693/1200 [01:43<01:16,  6.64it/s]\u001b[A\n",
      " 58%|█████▊    | 694/1200 [01:43<01:14,  6.75it/s]"
     ]
    },
    {
     "name": "stdout",
     "output_type": "stream",
     "text": [
      "250.6522003557925\n",
      "250.6522003557925\n",
      "250.6522003557925\n",
      "250.6522003557925\n"
     ]
    },
    {
     "name": "stderr",
     "output_type": "stream",
     "text": [
      "\u001b[A\n",
      " 58%|█████▊    | 695/1200 [01:43<01:14,  6.76it/s]\u001b[A\n",
      " 58%|█████▊    | 696/1200 [01:43<01:14,  6.79it/s]"
     ]
    },
    {
     "name": "stdout",
     "output_type": "stream",
     "text": [
      "250.6522003557925\n",
      "250.6522003557925\n",
      "250.6522003557925\n",
      "250.6522003557925\n"
     ]
    },
    {
     "name": "stderr",
     "output_type": "stream",
     "text": [
      "\u001b[A\n",
      " 58%|█████▊    | 697/1200 [01:43<01:15,  6.65it/s]\u001b[A\n",
      " 58%|█████▊    | 698/1200 [01:44<01:14,  6.70it/s]"
     ]
    },
    {
     "name": "stdout",
     "output_type": "stream",
     "text": [
      "250.6522003557925\n",
      "250.6522003557925\n",
      "250.6522003557925\n",
      "250.6522003557925\n"
     ]
    },
    {
     "name": "stderr",
     "output_type": "stream",
     "text": [
      "\u001b[A\n",
      " 58%|█████▊    | 699/1200 [01:44<01:14,  6.74it/s]\u001b[A\n",
      " 58%|█████▊    | 700/1200 [01:44<01:14,  6.71it/s]"
     ]
    },
    {
     "name": "stdout",
     "output_type": "stream",
     "text": [
      "250.6522003557925\n",
      "250.6522003557925\n",
      "250.6522003557925\n",
      "250.6522003557925\n"
     ]
    },
    {
     "name": "stderr",
     "output_type": "stream",
     "text": [
      "\u001b[A\n",
      " 58%|█████▊    | 701/1200 [01:44<01:14,  6.74it/s]\u001b[A\n",
      " 58%|█████▊    | 702/1200 [01:44<01:12,  6.91it/s]"
     ]
    },
    {
     "name": "stdout",
     "output_type": "stream",
     "text": [
      "250.6522003557925\n",
      "250.6522003557925\n",
      "250.6522003557925\n",
      "250.6522003557925\n"
     ]
    },
    {
     "name": "stderr",
     "output_type": "stream",
     "text": [
      "\u001b[A\n",
      " 59%|█████▊    | 703/1200 [01:44<01:12,  6.84it/s]\u001b[A\n",
      " 59%|█████▊    | 704/1200 [01:44<01:10,  7.00it/s]"
     ]
    },
    {
     "name": "stdout",
     "output_type": "stream",
     "text": [
      "250.6522003557925\n",
      "250.6522003557925\n",
      "250.6522003557925\n",
      "250.6522003557925\n"
     ]
    },
    {
     "name": "stderr",
     "output_type": "stream",
     "text": [
      "\u001b[A\n",
      " 59%|█████▉    | 705/1200 [01:45<01:12,  6.80it/s]\u001b[A\n",
      " 59%|█████▉    | 706/1200 [01:45<01:11,  6.95it/s]"
     ]
    },
    {
     "name": "stdout",
     "output_type": "stream",
     "text": [
      "250.6522003557925\n",
      "250.6522003557925\n",
      "302.9314993882913\n",
      "302.9314993882913\n"
     ]
    },
    {
     "name": "stderr",
     "output_type": "stream",
     "text": [
      "\u001b[A\n",
      " 59%|█████▉    | 707/1200 [01:45<01:12,  6.78it/s]\u001b[A\n",
      " 59%|█████▉    | 708/1200 [01:45<01:10,  6.96it/s]"
     ]
    },
    {
     "name": "stdout",
     "output_type": "stream",
     "text": [
      "300.25639150216375\n",
      "300.25639150216375\n",
      "303.96648014092443\n",
      "303.96648014092443\n"
     ]
    },
    {
     "name": "stderr",
     "output_type": "stream",
     "text": [
      "\u001b[A\n",
      " 59%|█████▉    | 709/1200 [01:45<01:12,  6.80it/s]\u001b[A\n",
      " 59%|█████▉    | 710/1200 [01:45<01:11,  6.83it/s]"
     ]
    },
    {
     "name": "stdout",
     "output_type": "stream",
     "text": [
      "56.97811992215156\n",
      "56.97811992215156\n",
      "59.98092421757519\n",
      "59.98092421757519\n"
     ]
    },
    {
     "name": "stderr",
     "output_type": "stream",
     "text": [
      "\u001b[A\n",
      " 59%|█████▉    | 711/1200 [01:46<01:11,  6.84it/s]\u001b[A\n",
      " 59%|█████▉    | 712/1200 [01:46<01:10,  6.96it/s]"
     ]
    },
    {
     "name": "stdout",
     "output_type": "stream",
     "text": [
      "71.39260524663041\n",
      "71.39260524663041\n",
      "50.68448631087176\n",
      "50.68448631087176\n"
     ]
    },
    {
     "name": "stderr",
     "output_type": "stream",
     "text": [
      "\u001b[A\n",
      " 59%|█████▉    | 713/1200 [01:46<01:12,  6.76it/s]\u001b[A\n",
      " 60%|█████▉    | 714/1200 [01:46<01:10,  6.87it/s]"
     ]
    },
    {
     "name": "stdout",
     "output_type": "stream",
     "text": [
      "45.89819930236263\n",
      "45.89819930236263\n",
      "35.956175701333905\n",
      "35.956175701333905\n"
     ]
    },
    {
     "name": "stderr",
     "output_type": "stream",
     "text": [
      "\u001b[A\n",
      " 60%|█████▉    | 715/1200 [01:46<01:12,  6.70it/s]\u001b[A\n",
      " 60%|█████▉    | 716/1200 [01:46<01:11,  6.77it/s]"
     ]
    },
    {
     "name": "stdout",
     "output_type": "stream",
     "text": [
      "22.294676899023216\n",
      "22.294676899023216\n",
      "14.49789397102495\n",
      "14.49789397102495\n"
     ]
    },
    {
     "name": "stderr",
     "output_type": "stream",
     "text": [
      "\u001b[A\n",
      " 60%|█████▉    | 717/1200 [01:46<01:12,  6.65it/s]\u001b[A\n",
      " 60%|█████▉    | 718/1200 [01:47<01:12,  6.62it/s]"
     ]
    },
    {
     "name": "stdout",
     "output_type": "stream",
     "text": [
      "2.4522888814349244\n",
      "2.4522888814349244\n",
      "31.68250871722148\n",
      "31.68250871722148\n"
     ]
    },
    {
     "name": "stderr",
     "output_type": "stream",
     "text": [
      "\u001b[A\n",
      " 60%|█████▉    | 719/1200 [01:47<01:14,  6.41it/s]\u001b[A\n",
      " 60%|██████    | 720/1200 [01:47<01:14,  6.46it/s]"
     ]
    },
    {
     "name": "stdout",
     "output_type": "stream",
     "text": [
      "55.48840647110728\n",
      "55.48840647110728\n",
      "64.3930991139714\n",
      "64.3930991139714\n"
     ]
    },
    {
     "name": "stderr",
     "output_type": "stream",
     "text": [
      "\u001b[A\n",
      " 60%|██████    | 721/1200 [01:47<01:13,  6.49it/s]\u001b[A\n",
      " 60%|██████    | 722/1200 [01:47<01:11,  6.67it/s]"
     ]
    },
    {
     "name": "stdout",
     "output_type": "stream",
     "text": [
      "64.90624244799073\n",
      "64.90624244799073\n",
      "71.00902372010933\n",
      "71.00902372010933\n"
     ]
    },
    {
     "name": "stderr",
     "output_type": "stream",
     "text": [
      "\u001b[A\n",
      " 60%|██████    | 723/1200 [01:47<01:13,  6.45it/s]\u001b[A\n",
      " 60%|██████    | 724/1200 [01:47<01:12,  6.56it/s]"
     ]
    },
    {
     "name": "stdout",
     "output_type": "stream",
     "text": [
      "77.9026852453485\n",
      "77.9026852453485\n",
      "77.9026852453485\n",
      "77.9026852453485\n"
     ]
    },
    {
     "name": "stderr",
     "output_type": "stream",
     "text": [
      "\u001b[A\n",
      " 60%|██████    | 725/1200 [01:48<01:12,  6.51it/s]\u001b[A\n",
      " 60%|██████    | 726/1200 [01:48<01:10,  6.76it/s]"
     ]
    },
    {
     "name": "stdout",
     "output_type": "stream",
     "text": [
      "77.9026852453485\n",
      "77.9026852453485\n",
      "77.9026852453485\n",
      "77.9026852453485\n"
     ]
    },
    {
     "name": "stderr",
     "output_type": "stream",
     "text": [
      "\u001b[A\n",
      " 61%|██████    | 727/1200 [01:48<01:12,  6.51it/s]\u001b[A\n",
      " 61%|██████    | 728/1200 [01:48<01:09,  6.78it/s]"
     ]
    },
    {
     "name": "stdout",
     "output_type": "stream",
     "text": [
      "77.03255660579043\n",
      "77.03255660579043\n",
      "81.37342861658635\n",
      "81.37342861658635\n"
     ]
    },
    {
     "name": "stderr",
     "output_type": "stream",
     "text": [
      "\u001b[A\n",
      " 61%|██████    | 729/1200 [01:48<01:09,  6.79it/s]\u001b[A\n",
      " 61%|██████    | 730/1200 [01:48<01:07,  6.94it/s]"
     ]
    },
    {
     "name": "stdout",
     "output_type": "stream",
     "text": [
      "81.37342861658635\n",
      "81.37342861658635\n",
      "81.37342861658635\n",
      "81.37342861658635\n"
     ]
    },
    {
     "name": "stderr",
     "output_type": "stream",
     "text": [
      "\u001b[A\n",
      " 61%|██████    | 731/1200 [01:49<01:09,  6.80it/s]\u001b[A\n",
      " 61%|██████    | 732/1200 [01:49<01:08,  6.84it/s]"
     ]
    },
    {
     "name": "stdout",
     "output_type": "stream",
     "text": [
      "81.37342861658635\n",
      "81.37342861658635\n",
      "81.37342861658635\n",
      "81.37342861658635\n"
     ]
    },
    {
     "name": "stderr",
     "output_type": "stream",
     "text": [
      "\u001b[A\n",
      " 61%|██████    | 733/1200 [01:49<01:10,  6.67it/s]\u001b[A\n",
      " 61%|██████    | 734/1200 [01:49<01:10,  6.60it/s]"
     ]
    },
    {
     "name": "stdout",
     "output_type": "stream",
     "text": [
      "81.37342861658635\n",
      "81.37342861658635\n",
      "81.37342861658635\n",
      "81.37342861658635\n"
     ]
    },
    {
     "name": "stderr",
     "output_type": "stream",
     "text": [
      "\u001b[A\n",
      " 61%|██████▏   | 735/1200 [01:49<01:11,  6.47it/s]\u001b[A\n",
      " 61%|██████▏   | 736/1200 [01:49<01:10,  6.56it/s]"
     ]
    },
    {
     "name": "stdout",
     "output_type": "stream",
     "text": [
      "81.37342861658635\n",
      "81.37342861658635\n",
      "81.37342861658635\n",
      "81.37342861658635\n"
     ]
    },
    {
     "name": "stderr",
     "output_type": "stream",
     "text": [
      "\u001b[A\n",
      " 61%|██████▏   | 737/1200 [01:49<01:11,  6.48it/s]\u001b[A\n",
      " 62%|██████▏   | 738/1200 [01:50<01:09,  6.62it/s]"
     ]
    },
    {
     "name": "stdout",
     "output_type": "stream",
     "text": [
      "81.37342861658635\n",
      "81.37342861658635\n",
      "81.37342861658635\n",
      "81.37342861658635\n"
     ]
    },
    {
     "name": "stderr",
     "output_type": "stream",
     "text": [
      "\u001b[A\n",
      " 62%|██████▏   | 739/1200 [01:50<01:10,  6.57it/s]\u001b[A\n",
      " 62%|██████▏   | 740/1200 [01:50<01:08,  6.70it/s]"
     ]
    },
    {
     "name": "stdout",
     "output_type": "stream",
     "text": [
      "81.37342861658635\n",
      "81.37342861658635\n",
      "81.37342861658635\n",
      "81.37342861658635\n"
     ]
    },
    {
     "name": "stderr",
     "output_type": "stream",
     "text": [
      "\u001b[A\n",
      " 62%|██████▏   | 741/1200 [01:50<01:09,  6.65it/s]\u001b[A\n",
      " 62%|██████▏   | 742/1200 [01:50<01:07,  6.75it/s]"
     ]
    },
    {
     "name": "stdout",
     "output_type": "stream",
     "text": [
      "81.37342861658635\n",
      "81.37342861658635\n",
      "81.37342861658635\n",
      "81.37342861658635\n"
     ]
    },
    {
     "name": "stderr",
     "output_type": "stream",
     "text": [
      "\u001b[A\n",
      " 62%|██████▏   | 743/1200 [01:50<01:09,  6.55it/s]\u001b[A\n",
      " 62%|██████▏   | 744/1200 [01:50<01:07,  6.74it/s]"
     ]
    },
    {
     "name": "stdout",
     "output_type": "stream",
     "text": [
      "81.37342861658635\n",
      "81.37342861658635\n",
      "81.37342861658635\n",
      "81.37342861658635\n"
     ]
    },
    {
     "name": "stderr",
     "output_type": "stream",
     "text": [
      "\u001b[A\n",
      " 62%|██████▏   | 745/1200 [01:51<01:09,  6.54it/s]\u001b[A\n",
      " 62%|██████▏   | 746/1200 [01:51<01:07,  6.73it/s]"
     ]
    },
    {
     "name": "stdout",
     "output_type": "stream",
     "text": [
      "81.37342861658635\n",
      "81.37342861658635\n",
      "81.37342861658635\n",
      "81.37342861658635\n"
     ]
    },
    {
     "name": "stderr",
     "output_type": "stream",
     "text": [
      "\u001b[A\n",
      " 62%|██████▏   | 747/1200 [01:51<01:08,  6.64it/s]\u001b[A\n",
      " 62%|██████▏   | 748/1200 [01:51<01:07,  6.73it/s]"
     ]
    },
    {
     "name": "stdout",
     "output_type": "stream",
     "text": [
      "81.37342861658635\n",
      "81.37342861658635\n",
      "81.37342861658635\n",
      "81.37342861658635\n"
     ]
    },
    {
     "name": "stderr",
     "output_type": "stream",
     "text": [
      "\u001b[A\n",
      " 62%|██████▏   | 749/1200 [01:51<01:09,  6.48it/s]\u001b[A\n",
      " 62%|██████▎   | 750/1200 [01:51<01:06,  6.72it/s]"
     ]
    },
    {
     "name": "stdout",
     "output_type": "stream",
     "text": [
      "81.37342861658635\n",
      "81.37342861658635\n",
      "81.37342861658635\n",
      "81.37342861658635\n"
     ]
    },
    {
     "name": "stderr",
     "output_type": "stream",
     "text": [
      "\u001b[A\n",
      " 63%|██████▎   | 751/1200 [01:52<01:08,  6.60it/s]\u001b[A\n",
      " 63%|██████▎   | 752/1200 [01:52<01:06,  6.71it/s]"
     ]
    },
    {
     "name": "stdout",
     "output_type": "stream",
     "text": [
      "81.37342861658635\n",
      "81.37342861658635\n",
      "81.37342861658635\n",
      "81.37342861658635\n"
     ]
    },
    {
     "name": "stderr",
     "output_type": "stream",
     "text": [
      "\u001b[A\n",
      " 63%|██████▎   | 753/1200 [01:52<01:07,  6.61it/s]\u001b[A\n",
      " 63%|██████▎   | 754/1200 [01:52<01:06,  6.67it/s]"
     ]
    },
    {
     "name": "stdout",
     "output_type": "stream",
     "text": [
      "81.37342861658635\n",
      "81.37342861658635\n",
      "81.37342861658635\n",
      "81.37342861658635\n"
     ]
    },
    {
     "name": "stderr",
     "output_type": "stream",
     "text": [
      "\u001b[A\n",
      " 63%|██████▎   | 755/1200 [01:52<01:09,  6.42it/s]\u001b[A\n",
      " 63%|██████▎   | 756/1200 [01:52<01:08,  6.46it/s]"
     ]
    },
    {
     "name": "stdout",
     "output_type": "stream",
     "text": [
      "81.37342861658635\n",
      "81.37342861658635\n",
      "81.37342861658635\n",
      "81.37342861658635\n"
     ]
    },
    {
     "name": "stderr",
     "output_type": "stream",
     "text": [
      "\u001b[A\n",
      " 63%|██████▎   | 757/1200 [01:52<01:09,  6.38it/s]\u001b[A\n",
      " 63%|██████▎   | 758/1200 [01:53<01:08,  6.41it/s]"
     ]
    },
    {
     "name": "stdout",
     "output_type": "stream",
     "text": [
      "81.37342861658635\n",
      "81.37342861658635\n",
      "81.37342861658635\n",
      "81.37342861658635\n"
     ]
    },
    {
     "name": "stderr",
     "output_type": "stream",
     "text": [
      "\u001b[A\n",
      " 63%|██████▎   | 759/1200 [01:53<01:09,  6.37it/s]\u001b[A\n",
      " 63%|██████▎   | 760/1200 [01:53<01:07,  6.49it/s]"
     ]
    },
    {
     "name": "stdout",
     "output_type": "stream",
     "text": [
      "81.37342861658635\n",
      "81.37342861658635\n",
      "81.37342861658635\n",
      "81.37342861658635\n"
     ]
    },
    {
     "name": "stderr",
     "output_type": "stream",
     "text": [
      "\u001b[A\n",
      " 63%|██████▎   | 761/1200 [01:53<01:08,  6.43it/s]\u001b[A\n",
      " 64%|██████▎   | 762/1200 [01:53<01:07,  6.45it/s]"
     ]
    },
    {
     "name": "stdout",
     "output_type": "stream",
     "text": [
      "81.37342861658635\n",
      "81.37342861658635\n",
      "81.37342861658635\n",
      "81.37342861658635\n"
     ]
    },
    {
     "name": "stderr",
     "output_type": "stream",
     "text": [
      "\u001b[A\n",
      " 64%|██████▎   | 763/1200 [01:53<01:09,  6.26it/s]\u001b[A\n",
      " 64%|██████▎   | 764/1200 [01:54<01:06,  6.55it/s]"
     ]
    },
    {
     "name": "stdout",
     "output_type": "stream",
     "text": [
      "81.37342861658635\n",
      "81.37342861658635\n",
      "81.37342861658635\n",
      "81.37342861658635\n"
     ]
    },
    {
     "name": "stderr",
     "output_type": "stream",
     "text": [
      "\u001b[A\n",
      " 64%|██████▍   | 765/1200 [01:54<01:06,  6.56it/s]\u001b[A\n",
      " 64%|██████▍   | 766/1200 [01:54<01:04,  6.70it/s]"
     ]
    },
    {
     "name": "stdout",
     "output_type": "stream",
     "text": [
      "81.37342861658635\n",
      "81.37342861658635\n",
      "81.37342861658635\n",
      "81.37342861658635\n"
     ]
    },
    {
     "name": "stderr",
     "output_type": "stream",
     "text": [
      "\u001b[A\n",
      " 64%|██████▍   | 767/1200 [01:54<01:06,  6.55it/s]\u001b[A\n",
      " 64%|██████▍   | 768/1200 [01:54<01:03,  6.77it/s]"
     ]
    },
    {
     "name": "stdout",
     "output_type": "stream",
     "text": [
      "81.37342861658635\n",
      "81.37342861658635\n",
      "81.37342861658635\n",
      "81.37342861658635\n"
     ]
    },
    {
     "name": "stderr",
     "output_type": "stream",
     "text": [
      "\u001b[A\n",
      " 64%|██████▍   | 769/1200 [01:54<01:05,  6.62it/s]\u001b[A\n",
      " 64%|██████▍   | 770/1200 [01:54<01:05,  6.53it/s]"
     ]
    },
    {
     "name": "stdout",
     "output_type": "stream",
     "text": [
      "81.37342861658635\n",
      "81.37342861658635\n",
      "81.37342861658635\n",
      "81.37342861658635\n"
     ]
    },
    {
     "name": "stderr",
     "output_type": "stream",
     "text": [
      "\u001b[A\n",
      " 64%|██████▍   | 771/1200 [01:55<01:05,  6.53it/s]\u001b[A\n",
      " 64%|██████▍   | 772/1200 [01:55<01:04,  6.62it/s]"
     ]
    },
    {
     "name": "stdout",
     "output_type": "stream",
     "text": [
      "81.37342861658635\n",
      "81.37342861658635\n",
      "81.37342861658635\n",
      "81.37342861658635\n"
     ]
    },
    {
     "name": "stderr",
     "output_type": "stream",
     "text": [
      "\u001b[A\n",
      " 64%|██████▍   | 773/1200 [01:55<01:04,  6.62it/s]\u001b[A\n",
      " 64%|██████▍   | 774/1200 [01:55<01:04,  6.64it/s]"
     ]
    },
    {
     "name": "stdout",
     "output_type": "stream",
     "text": [
      "81.37342861658635\n",
      "81.37342861658635\n",
      "81.37342861658635\n",
      "81.37342861658635\n"
     ]
    },
    {
     "name": "stderr",
     "output_type": "stream",
     "text": [
      "\u001b[A\n",
      " 65%|██████▍   | 775/1200 [01:55<01:04,  6.59it/s]\u001b[A\n",
      " 65%|██████▍   | 776/1200 [01:55<01:03,  6.65it/s]"
     ]
    },
    {
     "name": "stdout",
     "output_type": "stream",
     "text": [
      "81.37342861658635\n",
      "81.37342861658635\n",
      "81.37342861658635\n",
      "81.37342861658635\n"
     ]
    },
    {
     "name": "stderr",
     "output_type": "stream",
     "text": [
      "\u001b[A\n",
      " 65%|██████▍   | 777/1200 [01:56<01:05,  6.48it/s]\u001b[A\n",
      " 65%|██████▍   | 778/1200 [01:56<01:03,  6.60it/s]"
     ]
    },
    {
     "name": "stdout",
     "output_type": "stream",
     "text": [
      "81.37342861658635\n",
      "81.37342861658635\n",
      "81.37342861658635\n",
      "81.37342861658635\n"
     ]
    },
    {
     "name": "stderr",
     "output_type": "stream",
     "text": [
      "\u001b[A\n",
      " 65%|██████▍   | 779/1200 [01:56<01:03,  6.63it/s]\u001b[A\n",
      " 65%|██████▌   | 780/1200 [01:56<01:02,  6.71it/s]"
     ]
    },
    {
     "name": "stdout",
     "output_type": "stream",
     "text": [
      "81.37342861658635\n",
      "81.37342861658635\n",
      "81.37342861658635\n",
      "81.37342861658635\n"
     ]
    },
    {
     "name": "stderr",
     "output_type": "stream",
     "text": [
      "\u001b[A\n",
      " 65%|██████▌   | 781/1200 [01:56<01:02,  6.66it/s]\u001b[A\n",
      " 65%|██████▌   | 782/1200 [01:56<01:01,  6.81it/s]"
     ]
    },
    {
     "name": "stdout",
     "output_type": "stream",
     "text": [
      "81.37342861658635\n",
      "81.37342861658635\n",
      "81.37342861658635\n",
      "81.37342861658635\n"
     ]
    },
    {
     "name": "stderr",
     "output_type": "stream",
     "text": [
      "\u001b[A\n",
      " 65%|██████▌   | 783/1200 [01:56<01:01,  6.75it/s]\u001b[A\n",
      " 65%|██████▌   | 784/1200 [01:57<01:02,  6.66it/s]"
     ]
    },
    {
     "name": "stdout",
     "output_type": "stream",
     "text": [
      "81.37342861658635\n",
      "81.37342861658635\n",
      "81.6233355344616\n",
      "81.6233355344616\n"
     ]
    },
    {
     "name": "stderr",
     "output_type": "stream",
     "text": [
      "\u001b[A\n",
      " 65%|██████▌   | 785/1200 [01:57<01:03,  6.54it/s]\u001b[A\n",
      " 66%|██████▌   | 786/1200 [01:57<01:02,  6.61it/s]"
     ]
    },
    {
     "name": "stdout",
     "output_type": "stream",
     "text": [
      "76.3500529600592\n",
      "76.3500529600592\n",
      "58.790296455180396\n",
      "58.790296455180396\n"
     ]
    },
    {
     "name": "stderr",
     "output_type": "stream",
     "text": [
      "\u001b[A\n",
      " 66%|██████▌   | 787/1200 [01:57<01:04,  6.44it/s]\u001b[A\n",
      " 66%|██████▌   | 788/1200 [01:57<01:02,  6.61it/s]"
     ]
    },
    {
     "name": "stdout",
     "output_type": "stream",
     "text": [
      "20.092542787745515\n",
      "20.092542787745515\n",
      "15.97492660548096\n",
      "15.97492660548096\n"
     ]
    },
    {
     "name": "stderr",
     "output_type": "stream",
     "text": [
      "\u001b[A\n",
      " 66%|██████▌   | 789/1200 [01:57<01:02,  6.62it/s]\u001b[A\n",
      " 66%|██████▌   | 790/1200 [01:57<01:02,  6.59it/s]"
     ]
    },
    {
     "name": "stdout",
     "output_type": "stream",
     "text": [
      "15.97492660548096\n",
      "15.97492660548096\n",
      "15.97492660548096\n",
      "15.97492660548096\n"
     ]
    },
    {
     "name": "stderr",
     "output_type": "stream",
     "text": [
      "\u001b[A\n",
      " 66%|██████▌   | 791/1200 [01:58<01:02,  6.57it/s]\u001b[A\n",
      " 66%|██████▌   | 792/1200 [01:58<01:01,  6.66it/s]"
     ]
    },
    {
     "name": "stdout",
     "output_type": "stream",
     "text": [
      "17.653444277298604\n",
      "17.653444277298604\n",
      "16.583221058866002\n",
      "16.583221058866002\n"
     ]
    },
    {
     "name": "stderr",
     "output_type": "stream",
     "text": [
      "\u001b[A\n",
      " 66%|██████▌   | 793/1200 [01:58<01:01,  6.63it/s]\u001b[A\n",
      " 66%|██████▌   | 794/1200 [01:58<01:00,  6.66it/s]"
     ]
    },
    {
     "name": "stdout",
     "output_type": "stream",
     "text": [
      "15.483220533355507\n",
      "15.483220533355507\n",
      "13.183328174393864\n",
      "13.183328174393864\n"
     ]
    },
    {
     "name": "stderr",
     "output_type": "stream",
     "text": [
      "\u001b[A\n",
      " 66%|██████▋   | 795/1200 [01:58<01:00,  6.66it/s]\u001b[A\n",
      " 66%|██████▋   | 796/1200 [01:58<01:00,  6.71it/s]"
     ]
    },
    {
     "name": "stdout",
     "output_type": "stream",
     "text": [
      "10.144295929915643\n",
      "10.144295929915643\n",
      "4.708299394988444\n",
      "4.708299394988444\n"
     ]
    },
    {
     "name": "stderr",
     "output_type": "stream",
     "text": [
      "\u001b[A\n",
      " 66%|██████▋   | 797/1200 [01:59<01:01,  6.59it/s]\u001b[A\n",
      " 66%|██████▋   | 798/1200 [01:59<00:59,  6.74it/s]"
     ]
    },
    {
     "name": "stdout",
     "output_type": "stream",
     "text": [
      "5.104479847283528\n",
      "5.104479847283528\n",
      "348.1085506578538\n",
      "348.1085506578538\n"
     ]
    },
    {
     "name": "stderr",
     "output_type": "stream",
     "text": [
      "\u001b[A\n",
      " 67%|██████▋   | 799/1200 [01:59<00:59,  6.71it/s]\u001b[A\n",
      " 67%|██████▋   | 800/1200 [01:59<00:58,  6.81it/s]"
     ]
    },
    {
     "name": "stdout",
     "output_type": "stream",
     "text": [
      "344.7671075348594\n",
      "344.7671075348594\n",
      "343.16572532276314\n",
      "343.16572532276314\n"
     ]
    },
    {
     "name": "stderr",
     "output_type": "stream",
     "text": [
      "\u001b[A\n",
      " 67%|██████▋   | 801/1200 [01:59<00:58,  6.78it/s]\u001b[A\n",
      " 67%|██████▋   | 802/1200 [01:59<00:57,  6.94it/s]"
     ]
    },
    {
     "name": "stdout",
     "output_type": "stream",
     "text": [
      "341.2698364807138\n",
      "341.2698364807138\n",
      "342.7494089542247\n",
      "342.7494089542247\n"
     ]
    },
    {
     "name": "stderr",
     "output_type": "stream",
     "text": [
      "\u001b[A\n",
      " 67%|██████▋   | 803/1200 [01:59<00:58,  6.75it/s]\u001b[A\n",
      " 67%|██████▋   | 804/1200 [02:00<00:59,  6.62it/s]"
     ]
    },
    {
     "name": "stdout",
     "output_type": "stream",
     "text": [
      "344.785869311293\n",
      "344.785869311293\n",
      "351.2245856527129\n",
      "351.2245856527129\n"
     ]
    },
    {
     "name": "stderr",
     "output_type": "stream",
     "text": [
      "\u001b[A\n",
      " 67%|██████▋   | 805/1200 [02:00<01:00,  6.53it/s]\u001b[A\n",
      " 67%|██████▋   | 806/1200 [02:00<01:01,  6.38it/s]"
     ]
    },
    {
     "name": "stdout",
     "output_type": "stream",
     "text": [
      "351.81970793210075\n",
      "351.81970793210075\n",
      "339.6146319982199\n",
      "339.6146319982199\n"
     ]
    },
    {
     "name": "stderr",
     "output_type": "stream",
     "text": [
      "\u001b[A\n",
      " 67%|██████▋   | 807/1200 [02:00<01:05,  5.99it/s]\u001b[A\n",
      " 67%|██████▋   | 808/1200 [02:00<01:04,  6.07it/s]"
     ]
    },
    {
     "name": "stdout",
     "output_type": "stream",
     "text": [
      "330.5046542798009\n",
      "330.5046542798009\n",
      "324.7011136527585\n",
      "324.7011136527585\n"
     ]
    },
    {
     "name": "stderr",
     "output_type": "stream",
     "text": [
      "\u001b[A\n",
      " 67%|██████▋   | 809/1200 [02:00<01:04,  6.09it/s]\u001b[A\n",
      " 68%|██████▊   | 810/1200 [02:01<01:03,  6.16it/s]"
     ]
    },
    {
     "name": "stdout",
     "output_type": "stream",
     "text": [
      "318.31068118640087\n",
      "318.31068118640087\n",
      "313.0396050453014\n",
      "313.0396050453014\n"
     ]
    },
    {
     "name": "stderr",
     "output_type": "stream",
     "text": [
      "\u001b[A\n",
      " 68%|██████▊   | 811/1200 [02:01<01:02,  6.25it/s]\u001b[A\n",
      " 68%|██████▊   | 812/1200 [02:01<01:01,  6.27it/s]"
     ]
    },
    {
     "name": "stdout",
     "output_type": "stream",
     "text": [
      "309.99520888579536\n",
      "309.99520888579536\n",
      "308.3831989580176\n",
      "308.3831989580176\n"
     ]
    },
    {
     "name": "stderr",
     "output_type": "stream",
     "text": [
      "\u001b[A\n",
      " 68%|██████▊   | 813/1200 [02:01<01:03,  6.08it/s]\u001b[A\n",
      " 68%|██████▊   | 814/1200 [02:01<01:01,  6.30it/s]"
     ]
    },
    {
     "name": "stdout",
     "output_type": "stream",
     "text": [
      "309.78066048404025\n",
      "309.78066048404025\n",
      "308.8759611376513\n",
      "308.8759611376513\n"
     ]
    },
    {
     "name": "stderr",
     "output_type": "stream",
     "text": [
      "\u001b[A\n",
      " 68%|██████▊   | 815/1200 [02:01<01:01,  6.28it/s]\u001b[A\n",
      " 68%|██████▊   | 816/1200 [02:02<00:59,  6.49it/s]"
     ]
    },
    {
     "name": "stdout",
     "output_type": "stream",
     "text": [
      "310.96562549089595\n",
      "310.96562549089595\n",
      "306.0989231581466\n",
      "306.0989231581466\n"
     ]
    },
    {
     "name": "stderr",
     "output_type": "stream",
     "text": [
      "\u001b[A\n",
      " 68%|██████▊   | 817/1200 [02:02<00:59,  6.38it/s]\u001b[A\n",
      " 68%|██████▊   | 818/1200 [02:02<00:57,  6.68it/s]"
     ]
    },
    {
     "name": "stdout",
     "output_type": "stream",
     "text": [
      "304.3567968776488\n",
      "304.3567968776488\n",
      "302.64937877066177\n",
      "302.64937877066177\n"
     ]
    },
    {
     "name": "stderr",
     "output_type": "stream",
     "text": [
      "\u001b[A\n",
      " 68%|██████▊   | 819/1200 [02:02<00:56,  6.71it/s]\u001b[A\n",
      " 68%|██████▊   | 820/1200 [02:02<00:55,  6.90it/s]"
     ]
    },
    {
     "name": "stdout",
     "output_type": "stream",
     "text": [
      "302.64937877066177\n",
      "302.64937877066177\n",
      "302.64937877066177\n",
      "302.64937877066177\n"
     ]
    },
    {
     "name": "stderr",
     "output_type": "stream",
     "text": [
      "\u001b[A\n",
      " 68%|██████▊   | 821/1200 [02:02<00:56,  6.73it/s]\u001b[A\n",
      " 68%|██████▊   | 822/1200 [02:02<00:54,  6.91it/s]"
     ]
    },
    {
     "name": "stdout",
     "output_type": "stream",
     "text": [
      "303.4955734004325\n",
      "303.4955734004325\n",
      "303.4955734004325\n",
      "303.4955734004325\n"
     ]
    },
    {
     "name": "stderr",
     "output_type": "stream",
     "text": [
      "\u001b[A\n",
      " 69%|██████▊   | 823/1200 [02:03<00:56,  6.73it/s]\u001b[A\n",
      " 69%|██████▊   | 824/1200 [02:03<00:53,  6.98it/s]"
     ]
    },
    {
     "name": "stdout",
     "output_type": "stream",
     "text": [
      "305.47156847964743\n",
      "305.47156847964743\n",
      "305.7947700530344\n",
      "305.7947700530344\n"
     ]
    },
    {
     "name": "stderr",
     "output_type": "stream",
     "text": [
      "\u001b[A\n",
      " 69%|██████▉   | 825/1200 [02:03<00:55,  6.78it/s]\u001b[A\n",
      " 69%|██████▉   | 826/1200 [02:03<00:54,  6.90it/s]"
     ]
    },
    {
     "name": "stdout",
     "output_type": "stream",
     "text": [
      "305.0737159105447\n",
      "305.0737159105447\n",
      "301.9885725852232\n",
      "301.9885725852232\n"
     ]
    },
    {
     "name": "stderr",
     "output_type": "stream",
     "text": [
      "\u001b[A\n",
      " 69%|██████▉   | 827/1200 [02:03<00:55,  6.74it/s]\u001b[A\n",
      " 69%|██████▉   | 828/1200 [02:03<00:54,  6.86it/s]"
     ]
    },
    {
     "name": "stdout",
     "output_type": "stream",
     "text": [
      "299.1901404487262\n",
      "299.1901404487262\n",
      "313.6284613963144\n",
      "313.6284613963144\n"
     ]
    },
    {
     "name": "stderr",
     "output_type": "stream",
     "text": [
      "\u001b[A\n",
      " 69%|██████▉   | 829/1200 [02:03<00:56,  6.62it/s]\u001b[A\n",
      " 69%|██████▉   | 830/1200 [02:04<00:55,  6.70it/s]"
     ]
    },
    {
     "name": "stdout",
     "output_type": "stream",
     "text": [
      "320.243769055342\n",
      "320.243769055342\n",
      "341.2650102438233\n",
      "341.2650102438233\n"
     ]
    },
    {
     "name": "stderr",
     "output_type": "stream",
     "text": [
      "\u001b[A\n",
      " 69%|██████▉   | 831/1200 [02:04<00:56,  6.56it/s]\u001b[A\n",
      " 69%|██████▉   | 832/1200 [02:04<00:54,  6.71it/s]"
     ]
    },
    {
     "name": "stdout",
     "output_type": "stream",
     "text": [
      "341.2650102438233\n",
      "341.2650102438233\n",
      "349.76800927496197\n",
      "349.76800927496197\n"
     ]
    },
    {
     "name": "stderr",
     "output_type": "stream",
     "text": [
      "\u001b[A\n",
      " 69%|██████▉   | 833/1200 [02:04<00:56,  6.55it/s]\u001b[A\n",
      " 70%|██████▉   | 834/1200 [02:04<00:54,  6.67it/s]"
     ]
    },
    {
     "name": "stdout",
     "output_type": "stream",
     "text": [
      "339.9846988439058\n",
      "339.9846988439058\n",
      "339.9846988439058\n",
      "339.9846988439058\n"
     ]
    },
    {
     "name": "stderr",
     "output_type": "stream",
     "text": [
      "\u001b[A\n",
      " 70%|██████▉   | 835/1200 [02:04<00:54,  6.64it/s]\u001b[A\n",
      " 70%|██████▉   | 836/1200 [02:04<00:54,  6.72it/s]"
     ]
    },
    {
     "name": "stdout",
     "output_type": "stream",
     "text": [
      "339.9846988439058\n",
      "339.9846988439058\n",
      "339.9846988439058\n",
      "339.9846988439058\n"
     ]
    },
    {
     "name": "stderr",
     "output_type": "stream",
     "text": [
      "\u001b[A\n",
      " 70%|██████▉   | 837/1200 [02:05<00:54,  6.70it/s]\u001b[A\n",
      " 70%|██████▉   | 838/1200 [02:05<00:52,  6.86it/s]"
     ]
    },
    {
     "name": "stdout",
     "output_type": "stream",
     "text": [
      "339.9846988439058\n",
      "339.9846988439058\n",
      "339.9846988439058\n",
      "339.9846988439058\n"
     ]
    },
    {
     "name": "stderr",
     "output_type": "stream",
     "text": [
      "\u001b[A\n",
      " 70%|██████▉   | 839/1200 [02:05<00:52,  6.82it/s]\u001b[A\n",
      " 70%|███████   | 840/1200 [02:05<00:52,  6.90it/s]"
     ]
    },
    {
     "name": "stdout",
     "output_type": "stream",
     "text": [
      "339.9846988439058\n",
      "339.9846988439058\n",
      "339.9846988439058\n",
      "339.9846988439058\n"
     ]
    },
    {
     "name": "stderr",
     "output_type": "stream",
     "text": [
      "\u001b[A\n",
      " 70%|███████   | 841/1200 [02:05<00:52,  6.86it/s]\u001b[A\n",
      " 70%|███████   | 842/1200 [02:05<00:51,  6.95it/s]"
     ]
    },
    {
     "name": "stdout",
     "output_type": "stream",
     "text": [
      "339.9846988439058\n",
      "339.9846988439058\n",
      "339.9846988439058\n",
      "339.9846988439058\n"
     ]
    },
    {
     "name": "stderr",
     "output_type": "stream",
     "text": [
      "\u001b[A\n",
      " 70%|███████   | 843/1200 [02:05<00:52,  6.81it/s]\u001b[A\n",
      " 70%|███████   | 844/1200 [02:06<00:51,  6.91it/s]"
     ]
    },
    {
     "name": "stdout",
     "output_type": "stream",
     "text": [
      "339.9846988439058\n",
      "339.9846988439058\n",
      "339.9846988439058\n",
      "339.9846988439058\n"
     ]
    },
    {
     "name": "stderr",
     "output_type": "stream",
     "text": [
      "\u001b[A\n",
      " 70%|███████   | 845/1200 [02:06<00:51,  6.96it/s]\u001b[A\n",
      " 70%|███████   | 846/1200 [02:06<00:49,  7.12it/s]"
     ]
    },
    {
     "name": "stdout",
     "output_type": "stream",
     "text": [
      "339.9846988439058\n",
      "339.9846988439058\n",
      "339.9846988439058\n",
      "339.9846988439058\n"
     ]
    },
    {
     "name": "stderr",
     "output_type": "stream",
     "text": [
      "\u001b[A\n",
      " 71%|███████   | 847/1200 [02:06<00:51,  6.91it/s]\u001b[A\n",
      " 71%|███████   | 848/1200 [02:06<00:50,  7.00it/s]"
     ]
    },
    {
     "name": "stdout",
     "output_type": "stream",
     "text": [
      "339.9846988439058\n",
      "339.9846988439058\n",
      "339.9846988439058\n",
      "339.9846988439058\n"
     ]
    },
    {
     "name": "stderr",
     "output_type": "stream",
     "text": [
      "\u001b[A\n",
      " 71%|███████   | 849/1200 [02:06<00:50,  6.90it/s]\u001b[A\n",
      " 71%|███████   | 850/1200 [02:06<00:49,  7.06it/s]"
     ]
    },
    {
     "name": "stdout",
     "output_type": "stream",
     "text": [
      "339.9846988439058\n",
      "339.9846988439058\n",
      "339.9846988439058\n",
      "339.9846988439058\n"
     ]
    },
    {
     "name": "stderr",
     "output_type": "stream",
     "text": [
      "\u001b[A\n",
      " 71%|███████   | 851/1200 [02:07<00:50,  6.92it/s]\u001b[A\n",
      " 71%|███████   | 852/1200 [02:07<00:49,  6.99it/s]"
     ]
    },
    {
     "name": "stdout",
     "output_type": "stream",
     "text": [
      "339.9846988439058\n",
      "339.9846988439058\n",
      "339.9846988439058\n",
      "339.9846988439058\n"
     ]
    },
    {
     "name": "stderr",
     "output_type": "stream",
     "text": [
      "\u001b[A\n",
      " 71%|███████   | 853/1200 [02:07<00:50,  6.82it/s]\u001b[A\n",
      " 71%|███████   | 854/1200 [02:07<00:49,  6.95it/s]"
     ]
    },
    {
     "name": "stdout",
     "output_type": "stream",
     "text": [
      "339.9846988439058\n",
      "339.9846988439058\n",
      "339.9846988439058\n",
      "339.9846988439058\n"
     ]
    },
    {
     "name": "stderr",
     "output_type": "stream",
     "text": [
      "\u001b[A\n",
      " 71%|███████▏  | 855/1200 [02:07<00:50,  6.86it/s]\u001b[A\n",
      " 71%|███████▏  | 856/1200 [02:07<00:49,  6.98it/s]"
     ]
    },
    {
     "name": "stdout",
     "output_type": "stream",
     "text": [
      "339.9846988439058\n",
      "339.9846988439058\n",
      "339.9846988439058\n",
      "339.9846988439058\n"
     ]
    },
    {
     "name": "stderr",
     "output_type": "stream",
     "text": [
      "\u001b[A\n",
      " 71%|███████▏  | 857/1200 [02:08<00:50,  6.84it/s]\u001b[A\n",
      " 72%|███████▏  | 858/1200 [02:08<00:49,  6.94it/s]"
     ]
    },
    {
     "name": "stdout",
     "output_type": "stream",
     "text": [
      "339.9846988439058\n",
      "339.9846988439058\n",
      "339.9846988439058\n",
      "339.9846988439058\n"
     ]
    },
    {
     "name": "stderr",
     "output_type": "stream",
     "text": [
      "\u001b[A\n",
      " 72%|███████▏  | 859/1200 [02:08<00:49,  6.85it/s]\u001b[A\n",
      " 72%|███████▏  | 860/1200 [02:08<00:49,  6.82it/s]"
     ]
    },
    {
     "name": "stdout",
     "output_type": "stream",
     "text": [
      "339.9846988439058\n",
      "339.9846988439058\n",
      "339.9846988439058\n",
      "339.9846988439058\n"
     ]
    },
    {
     "name": "stderr",
     "output_type": "stream",
     "text": [
      "\u001b[A\n",
      " 72%|███████▏  | 861/1200 [02:08<00:50,  6.67it/s]\u001b[A\n",
      " 72%|███████▏  | 862/1200 [02:08<00:51,  6.58it/s]"
     ]
    },
    {
     "name": "stdout",
     "output_type": "stream",
     "text": [
      "339.9846988439058\n",
      "339.9846988439058\n",
      "339.9846988439058\n",
      "339.9846988439058\n"
     ]
    },
    {
     "name": "stderr",
     "output_type": "stream",
     "text": [
      "\u001b[A\n",
      " 72%|███████▏  | 863/1200 [02:08<00:50,  6.61it/s]\u001b[A\n",
      " 72%|███████▏  | 864/1200 [02:09<00:49,  6.79it/s]"
     ]
    },
    {
     "name": "stdout",
     "output_type": "stream",
     "text": [
      "339.9846988439058\n",
      "339.9846988439058\n",
      "339.9846988439058\n",
      "339.9846988439058\n"
     ]
    },
    {
     "name": "stderr",
     "output_type": "stream",
     "text": [
      "\u001b[A\n",
      " 72%|███████▏  | 865/1200 [02:09<00:48,  6.84it/s]\u001b[A\n",
      " 72%|███████▏  | 866/1200 [02:09<00:48,  6.85it/s]"
     ]
    },
    {
     "name": "stdout",
     "output_type": "stream",
     "text": [
      "339.9846988439058\n",
      "339.9846988439058\n",
      "339.9846988439058\n",
      "339.9846988439058\n"
     ]
    },
    {
     "name": "stderr",
     "output_type": "stream",
     "text": [
      "\u001b[A\n",
      " 72%|███████▏  | 867/1200 [02:09<00:50,  6.61it/s]\u001b[A\n",
      " 72%|███████▏  | 868/1200 [02:09<00:50,  6.53it/s]"
     ]
    },
    {
     "name": "stdout",
     "output_type": "stream",
     "text": [
      "339.9846988439058\n",
      "339.9846988439058\n",
      "339.9846988439058\n",
      "339.9846988439058\n"
     ]
    },
    {
     "name": "stderr",
     "output_type": "stream",
     "text": [
      "\u001b[A\n",
      " 72%|███████▏  | 869/1200 [02:09<00:51,  6.44it/s]\u001b[A\n",
      " 72%|███████▎  | 870/1200 [02:09<00:50,  6.53it/s]"
     ]
    },
    {
     "name": "stdout",
     "output_type": "stream",
     "text": [
      "339.9846988439058\n",
      "339.9846988439058\n",
      "339.9846988439058\n",
      "339.9846988439058\n"
     ]
    },
    {
     "name": "stderr",
     "output_type": "stream",
     "text": [
      "\u001b[A\n",
      " 73%|███████▎  | 871/1200 [02:10<00:51,  6.40it/s]\u001b[A\n",
      " 73%|███████▎  | 872/1200 [02:10<00:50,  6.51it/s]"
     ]
    },
    {
     "name": "stdout",
     "output_type": "stream",
     "text": [
      "339.9846988439058\n",
      "339.9846988439058\n",
      "339.9846988439058\n",
      "339.9846988439058\n"
     ]
    },
    {
     "name": "stderr",
     "output_type": "stream",
     "text": [
      "\u001b[A\n",
      " 73%|███████▎  | 873/1200 [02:10<00:51,  6.40it/s]\u001b[A\n",
      " 73%|███████▎  | 874/1200 [02:10<00:49,  6.62it/s]"
     ]
    },
    {
     "name": "stdout",
     "output_type": "stream",
     "text": [
      "339.9846988439058\n",
      "339.9846988439058\n",
      "339.9846988439058\n",
      "339.9846988439058\n"
     ]
    },
    {
     "name": "stderr",
     "output_type": "stream",
     "text": [
      "\u001b[A\n",
      " 73%|███████▎  | 875/1200 [02:10<00:50,  6.50it/s]\u001b[A\n",
      " 73%|███████▎  | 876/1200 [02:10<00:50,  6.47it/s]"
     ]
    },
    {
     "name": "stdout",
     "output_type": "stream",
     "text": [
      "339.9846988439058\n",
      "339.9846988439058\n",
      "339.9846988439058\n",
      "339.9846988439058\n"
     ]
    },
    {
     "name": "stderr",
     "output_type": "stream",
     "text": [
      "\u001b[A\n",
      " 73%|███████▎  | 877/1200 [02:11<00:48,  6.62it/s]\u001b[A\n",
      " 73%|███████▎  | 878/1200 [02:11<00:46,  6.97it/s]"
     ]
    },
    {
     "name": "stdout",
     "output_type": "stream",
     "text": [
      "339.9846988439058\n",
      "339.9846988439058\n",
      "339.9846988439058\n",
      "339.9846988439058\n"
     ]
    },
    {
     "name": "stderr",
     "output_type": "stream",
     "text": [
      "\u001b[A\n",
      " 73%|███████▎  | 879/1200 [02:11<00:45,  7.01it/s]\u001b[A\n",
      " 73%|███████▎  | 880/1200 [02:11<00:44,  7.12it/s]"
     ]
    },
    {
     "name": "stdout",
     "output_type": "stream",
     "text": [
      "339.9846988439058\n",
      "339.9846988439058\n",
      "339.9846988439058\n",
      "339.9846988439058\n"
     ]
    },
    {
     "name": "stderr",
     "output_type": "stream",
     "text": [
      "\u001b[A\n",
      " 73%|███████▎  | 881/1200 [02:11<00:44,  7.12it/s]\u001b[A\n",
      " 74%|███████▎  | 882/1200 [02:11<00:45,  6.97it/s]"
     ]
    },
    {
     "name": "stdout",
     "output_type": "stream",
     "text": [
      "339.9846988439058\n",
      "339.9846988439058\n",
      "339.9846988439058\n",
      "339.9846988439058\n"
     ]
    },
    {
     "name": "stderr",
     "output_type": "stream",
     "text": [
      "\u001b[A\n",
      " 74%|███████▎  | 883/1200 [02:11<00:46,  6.82it/s]\u001b[A\n",
      " 74%|███████▎  | 884/1200 [02:12<00:45,  6.98it/s]"
     ]
    },
    {
     "name": "stdout",
     "output_type": "stream",
     "text": [
      "339.9846988439058\n",
      "339.9846988439058\n",
      "339.9846988439058\n",
      "339.9846988439058\n"
     ]
    },
    {
     "name": "stderr",
     "output_type": "stream",
     "text": [
      "\u001b[A\n",
      " 74%|███████▍  | 885/1200 [02:12<00:45,  6.88it/s]\u001b[A\n",
      " 74%|███████▍  | 886/1200 [02:12<00:44,  7.02it/s]"
     ]
    },
    {
     "name": "stdout",
     "output_type": "stream",
     "text": [
      "339.9846988439058\n",
      "339.9846988439058\n",
      "339.9846988439058\n",
      "339.9846988439058\n"
     ]
    },
    {
     "name": "stderr",
     "output_type": "stream",
     "text": [
      "\u001b[A\n",
      " 74%|███████▍  | 887/1200 [02:12<00:45,  6.85it/s]\u001b[A\n",
      " 74%|███████▍  | 888/1200 [02:12<00:44,  6.99it/s]"
     ]
    },
    {
     "name": "stdout",
     "output_type": "stream",
     "text": [
      "339.9846988439058\n",
      "339.9846988439058\n",
      "339.9846988439058\n",
      "339.9846988439058\n"
     ]
    },
    {
     "name": "stderr",
     "output_type": "stream",
     "text": [
      "\u001b[A\n",
      " 74%|███████▍  | 889/1200 [02:12<00:45,  6.82it/s]\u001b[A\n",
      " 74%|███████▍  | 890/1200 [02:12<00:44,  6.94it/s]"
     ]
    },
    {
     "name": "stdout",
     "output_type": "stream",
     "text": [
      "339.9846988439058\n",
      "339.9846988439058\n",
      "339.9846988439058\n",
      "339.9846988439058\n"
     ]
    },
    {
     "name": "stderr",
     "output_type": "stream",
     "text": [
      "\u001b[A\n",
      " 74%|███████▍  | 891/1200 [02:13<00:45,  6.81it/s]\u001b[A\n",
      " 74%|███████▍  | 892/1200 [02:13<00:44,  6.94it/s]"
     ]
    },
    {
     "name": "stdout",
     "output_type": "stream",
     "text": [
      "339.9846988439058\n",
      "339.9846988439058\n",
      "339.9846988439058\n",
      "339.9846988439058\n"
     ]
    },
    {
     "name": "stderr",
     "output_type": "stream",
     "text": [
      "\u001b[A\n",
      " 74%|███████▍  | 893/1200 [02:13<00:44,  6.83it/s]\u001b[A\n",
      " 74%|███████▍  | 894/1200 [02:13<00:44,  6.81it/s]"
     ]
    },
    {
     "name": "stdout",
     "output_type": "stream",
     "text": [
      "339.9846988439058\n",
      "339.9846988439058\n",
      "339.9846988439058\n",
      "339.9846988439058\n"
     ]
    },
    {
     "name": "stderr",
     "output_type": "stream",
     "text": [
      "\u001b[A\n",
      " 75%|███████▍  | 895/1200 [02:13<00:44,  6.79it/s]\u001b[A\n",
      " 75%|███████▍  | 896/1200 [02:13<00:43,  7.00it/s]"
     ]
    },
    {
     "name": "stdout",
     "output_type": "stream",
     "text": [
      "339.9846988439058\n",
      "339.9846988439058\n",
      "339.9846988439058\n",
      "339.9846988439058\n"
     ]
    },
    {
     "name": "stderr",
     "output_type": "stream",
     "text": [
      "\u001b[A\n",
      " 75%|███████▍  | 897/1200 [02:13<00:44,  6.83it/s]\u001b[A\n",
      " 75%|███████▍  | 898/1200 [02:14<00:43,  6.95it/s]"
     ]
    },
    {
     "name": "stdout",
     "output_type": "stream",
     "text": [
      "339.9846988439058\n",
      "339.9846988439058\n",
      "339.9846988439058\n",
      "339.9846988439058\n"
     ]
    },
    {
     "name": "stderr",
     "output_type": "stream",
     "text": [
      "\u001b[A\n",
      " 75%|███████▍  | 899/1200 [02:14<00:44,  6.82it/s]\u001b[A\n",
      " 75%|███████▌  | 900/1200 [02:14<00:43,  6.90it/s]"
     ]
    },
    {
     "name": "stdout",
     "output_type": "stream",
     "text": [
      "339.9846988439058\n",
      "339.9846988439058\n",
      "339.9846988439058\n",
      "339.9846988439058\n"
     ]
    },
    {
     "name": "stderr",
     "output_type": "stream",
     "text": [
      "\u001b[A\n",
      " 75%|███████▌  | 901/1200 [02:14<00:44,  6.77it/s]\u001b[A\n",
      " 75%|███████▌  | 902/1200 [02:14<00:42,  6.96it/s]"
     ]
    },
    {
     "name": "stdout",
     "output_type": "stream",
     "text": [
      "339.9846988439058\n",
      "339.9846988439058\n",
      "339.9846988439058\n",
      "339.9846988439058\n"
     ]
    },
    {
     "name": "stderr",
     "output_type": "stream",
     "text": [
      "\u001b[A\n",
      " 75%|███████▌  | 903/1200 [02:14<00:44,  6.68it/s]\u001b[A\n",
      " 75%|███████▌  | 904/1200 [02:14<00:42,  6.91it/s]"
     ]
    },
    {
     "name": "stdout",
     "output_type": "stream",
     "text": [
      "339.9846988439058\n",
      "339.9846988439058\n",
      "339.9846988439058\n",
      "339.9846988439058\n"
     ]
    },
    {
     "name": "stderr",
     "output_type": "stream",
     "text": [
      "\u001b[A\n",
      " 75%|███████▌  | 905/1200 [02:15<00:43,  6.78it/s]\u001b[A\n",
      " 76%|███████▌  | 906/1200 [02:15<00:41,  7.02it/s]"
     ]
    },
    {
     "name": "stdout",
     "output_type": "stream",
     "text": [
      "339.9846988439058\n",
      "339.9846988439058\n",
      "339.9846988439058\n",
      "339.9846988439058\n"
     ]
    },
    {
     "name": "stderr",
     "output_type": "stream",
     "text": [
      "\u001b[A\n",
      " 76%|███████▌  | 907/1200 [02:15<00:42,  6.93it/s]\u001b[A\n",
      " 76%|███████▌  | 908/1200 [02:15<00:41,  7.00it/s]"
     ]
    },
    {
     "name": "stdout",
     "output_type": "stream",
     "text": [
      "339.9846988439058\n",
      "339.9846988439058\n",
      "330.113612727856\n",
      "330.113612727856\n"
     ]
    },
    {
     "name": "stderr",
     "output_type": "stream",
     "text": [
      "\u001b[A\n",
      " 76%|███████▌  | 909/1200 [02:15<00:42,  6.90it/s]\u001b[A\n",
      " 76%|███████▌  | 910/1200 [02:15<00:41,  6.99it/s]"
     ]
    },
    {
     "name": "stdout",
     "output_type": "stream",
     "text": [
      "325.87338587930435\n",
      "325.87338587930435\n",
      "323.8702380614268\n",
      "323.8702380614268\n"
     ]
    },
    {
     "name": "stderr",
     "output_type": "stream",
     "text": [
      "\u001b[A\n",
      " 76%|███████▌  | 911/1200 [02:15<00:41,  6.90it/s]\u001b[A\n",
      " 76%|███████▌  | 912/1200 [02:16<00:40,  7.03it/s]"
     ]
    },
    {
     "name": "stdout",
     "output_type": "stream",
     "text": [
      "330.49822586798064\n",
      "330.49822586798064\n",
      "346.79809213291674\n",
      "346.79809213291674\n"
     ]
    },
    {
     "name": "stderr",
     "output_type": "stream",
     "text": [
      "\u001b[A\n",
      " 76%|███████▌  | 913/1200 [02:16<00:42,  6.73it/s]\u001b[A\n",
      " 76%|███████▌  | 914/1200 [02:16<00:40,  6.99it/s]"
     ]
    },
    {
     "name": "stdout",
     "output_type": "stream",
     "text": [
      "336.7997916487366\n",
      "336.7997916487366\n",
      "339.7157286286956\n",
      "339.7157286286956\n"
     ]
    },
    {
     "name": "stderr",
     "output_type": "stream",
     "text": [
      "\u001b[A\n",
      " 76%|███████▋  | 915/1200 [02:16<00:41,  6.89it/s]\u001b[A\n",
      " 76%|███████▋  | 916/1200 [02:16<00:40,  6.95it/s]"
     ]
    },
    {
     "name": "stdout",
     "output_type": "stream",
     "text": [
      "345.19967023583104\n",
      "345.19967023583104\n",
      "345.19967023583104\n",
      "345.19967023583104\n"
     ]
    },
    {
     "name": "stderr",
     "output_type": "stream",
     "text": [
      "\u001b[A\n",
      " 76%|███████▋  | 917/1200 [02:16<00:41,  6.88it/s]\u001b[A\n",
      " 76%|███████▋  | 918/1200 [02:16<00:40,  7.01it/s]"
     ]
    },
    {
     "name": "stdout",
     "output_type": "stream",
     "text": [
      "345.19967023583104\n",
      "345.19967023583104\n",
      "345.19967023583104\n",
      "345.19967023583104\n"
     ]
    },
    {
     "name": "stderr",
     "output_type": "stream",
     "text": [
      "\u001b[A\n",
      " 77%|███████▋  | 919/1200 [02:17<00:40,  7.02it/s]\u001b[A\n",
      " 77%|███████▋  | 920/1200 [02:17<00:38,  7.20it/s]"
     ]
    },
    {
     "name": "stdout",
     "output_type": "stream",
     "text": [
      "345.19967023583104\n",
      "345.19967023583104\n",
      "345.19967023583104\n",
      "345.19967023583104\n"
     ]
    },
    {
     "name": "stderr",
     "output_type": "stream",
     "text": [
      "\u001b[A\n",
      " 77%|███████▋  | 921/1200 [02:17<00:39,  7.06it/s]\u001b[A\n",
      " 77%|███████▋  | 922/1200 [02:17<00:39,  7.08it/s]"
     ]
    },
    {
     "name": "stdout",
     "output_type": "stream",
     "text": [
      "345.19967023583104\n",
      "345.19967023583104\n",
      "349.24421574152484\n",
      "349.24421574152484\n"
     ]
    },
    {
     "name": "stderr",
     "output_type": "stream",
     "text": [
      "\u001b[A\n",
      " 77%|███████▋  | 923/1200 [02:17<00:39,  7.03it/s]\u001b[A\n",
      " 77%|███████▋  | 924/1200 [02:17<00:38,  7.17it/s]"
     ]
    },
    {
     "name": "stdout",
     "output_type": "stream",
     "text": [
      "356.8783345892666\n",
      "356.8783345892666\n",
      "355.932433212482\n",
      "355.932433212482\n"
     ]
    },
    {
     "name": "stderr",
     "output_type": "stream",
     "text": [
      "\u001b[A\n",
      " 77%|███████▋  | 925/1200 [02:17<00:38,  7.07it/s]\u001b[A\n",
      " 77%|███████▋  | 926/1200 [02:18<00:38,  7.17it/s]"
     ]
    },
    {
     "name": "stdout",
     "output_type": "stream",
     "text": [
      "353.13812630574057\n",
      "353.13812630574057\n",
      "352.2811905883732\n",
      "352.2811905883732\n"
     ]
    },
    {
     "name": "stderr",
     "output_type": "stream",
     "text": [
      "\u001b[A\n",
      " 77%|███████▋  | 927/1200 [02:18<00:39,  6.96it/s]\u001b[A\n",
      " 77%|███████▋  | 928/1200 [02:18<00:39,  6.94it/s]"
     ]
    },
    {
     "name": "stdout",
     "output_type": "stream",
     "text": [
      "341.14345892463234\n",
      "341.14345892463234\n",
      "358.002090263652\n",
      "358.002090263652\n"
     ]
    },
    {
     "name": "stderr",
     "output_type": "stream",
     "text": [
      "\u001b[A\n",
      " 77%|███████▋  | 929/1200 [02:18<00:40,  6.77it/s]\u001b[A\n",
      " 78%|███████▊  | 930/1200 [02:18<00:38,  6.93it/s]"
     ]
    },
    {
     "name": "stdout",
     "output_type": "stream",
     "text": [
      "355.4801604967424\n",
      "355.4801604967424\n",
      "353.40434356995775\n",
      "353.40434356995775\n"
     ]
    },
    {
     "name": "stderr",
     "output_type": "stream",
     "text": [
      "\u001b[A\n",
      " 78%|███████▊  | 931/1200 [02:18<00:39,  6.88it/s]\u001b[A\n",
      " 78%|███████▊  | 932/1200 [02:18<00:37,  7.10it/s]"
     ]
    },
    {
     "name": "stdout",
     "output_type": "stream",
     "text": [
      "353.41031785142786\n",
      "353.41031785142786\n",
      "353.76876095097305\n",
      "353.76876095097305\n"
     ]
    },
    {
     "name": "stderr",
     "output_type": "stream",
     "text": [
      "\u001b[A\n",
      " 78%|███████▊  | 933/1200 [02:19<00:38,  6.92it/s]\u001b[A\n",
      " 78%|███████▊  | 934/1200 [02:19<00:38,  6.88it/s]"
     ]
    },
    {
     "name": "stdout",
     "output_type": "stream",
     "text": [
      "351.0777949569165\n",
      "351.0777949569165\n",
      "351.06983158052253\n",
      "351.06983158052253\n"
     ]
    },
    {
     "name": "stderr",
     "output_type": "stream",
     "text": [
      "\u001b[A\n",
      " 78%|███████▊  | 935/1200 [02:19<00:39,  6.70it/s]\u001b[A\n",
      " 78%|███████▊  | 936/1200 [02:19<00:38,  6.89it/s]"
     ]
    },
    {
     "name": "stdout",
     "output_type": "stream",
     "text": [
      "349.87031168667045\n",
      "349.87031168667045\n",
      "349.8557062867171\n",
      "349.8557062867171\n"
     ]
    },
    {
     "name": "stderr",
     "output_type": "stream",
     "text": [
      "\u001b[A\n",
      " 78%|███████▊  | 937/1200 [02:19<00:38,  6.77it/s]\u001b[A\n",
      " 78%|███████▊  | 938/1200 [02:19<00:37,  6.93it/s]"
     ]
    },
    {
     "name": "stdout",
     "output_type": "stream",
     "text": [
      "344.28706010625683\n",
      "344.28706010625683\n",
      "342.0487130337774\n",
      "342.0487130337774\n"
     ]
    },
    {
     "name": "stderr",
     "output_type": "stream",
     "text": [
      "\u001b[A\n",
      " 78%|███████▊  | 939/1200 [02:19<00:38,  6.82it/s]\u001b[A\n",
      " 78%|███████▊  | 940/1200 [02:20<00:37,  7.02it/s]"
     ]
    },
    {
     "name": "stdout",
     "output_type": "stream",
     "text": [
      "338.4995466229634\n",
      "338.4995466229634\n",
      "334.7130894758402\n",
      "334.7130894758402\n"
     ]
    },
    {
     "name": "stderr",
     "output_type": "stream",
     "text": [
      "\u001b[A\n",
      " 78%|███████▊  | 941/1200 [02:20<00:37,  7.00it/s]\u001b[A\n",
      " 78%|███████▊  | 942/1200 [02:20<00:36,  7.13it/s]"
     ]
    },
    {
     "name": "stdout",
     "output_type": "stream",
     "text": [
      "334.7130894758402\n",
      "334.7130894758402\n",
      "334.7130894758402\n",
      "334.7130894758402\n"
     ]
    },
    {
     "name": "stderr",
     "output_type": "stream",
     "text": [
      "\u001b[A\n",
      " 79%|███████▊  | 943/1200 [02:20<00:37,  6.91it/s]\u001b[A\n",
      " 79%|███████▊  | 944/1200 [02:20<00:36,  7.08it/s]"
     ]
    },
    {
     "name": "stdout",
     "output_type": "stream",
     "text": [
      "334.7130894758402\n",
      "334.7130894758402\n",
      "334.7130894758402\n",
      "334.7130894758402\n"
     ]
    },
    {
     "name": "stderr",
     "output_type": "stream",
     "text": [
      "\u001b[A\n",
      " 79%|███████▉  | 945/1200 [02:20<00:37,  6.78it/s]\u001b[A\n",
      " 79%|███████▉  | 946/1200 [02:20<00:37,  6.71it/s]"
     ]
    },
    {
     "name": "stdout",
     "output_type": "stream",
     "text": [
      "334.7130894758402\n",
      "334.7130894758402\n",
      "334.7130894758402\n",
      "334.7130894758402\n"
     ]
    },
    {
     "name": "stderr",
     "output_type": "stream",
     "text": [
      "\u001b[A\n",
      " 79%|███████▉  | 947/1200 [02:21<00:39,  6.47it/s]\u001b[A\n",
      " 79%|███████▉  | 948/1200 [02:21<00:38,  6.63it/s]"
     ]
    },
    {
     "name": "stdout",
     "output_type": "stream",
     "text": [
      "334.7130894758402\n",
      "334.7130894758402\n",
      "334.7130894758402\n",
      "334.7130894758402\n"
     ]
    },
    {
     "name": "stderr",
     "output_type": "stream",
     "text": [
      "\u001b[A\n",
      " 79%|███████▉  | 949/1200 [02:21<00:37,  6.69it/s]\u001b[A\n",
      " 79%|███████▉  | 950/1200 [02:21<00:36,  6.80it/s]"
     ]
    },
    {
     "name": "stdout",
     "output_type": "stream",
     "text": [
      "339.5952506544627\n",
      "339.5952506544627\n",
      "341.67643799254756\n",
      "341.67643799254756\n"
     ]
    },
    {
     "name": "stderr",
     "output_type": "stream",
     "text": [
      "\u001b[A\n",
      " 79%|███████▉  | 951/1200 [02:21<00:36,  6.77it/s]\u001b[A\n",
      " 79%|███████▉  | 952/1200 [02:21<00:36,  6.88it/s]"
     ]
    },
    {
     "name": "stdout",
     "output_type": "stream",
     "text": [
      "352.5291012504822\n",
      "352.5291012504822\n",
      "351.80769205993283\n",
      "351.80769205993283\n"
     ]
    },
    {
     "name": "stderr",
     "output_type": "stream",
     "text": [
      "\u001b[A\n",
      " 79%|███████▉  | 953/1200 [02:22<00:37,  6.63it/s]\u001b[A\n",
      " 80%|███████▉  | 954/1200 [02:22<00:36,  6.72it/s]"
     ]
    },
    {
     "name": "stdout",
     "output_type": "stream",
     "text": [
      "336.6201433206106\n",
      "336.6201433206106\n",
      "1.2358184853242165\n",
      "1.2358184853242165\n"
     ]
    },
    {
     "name": "stderr",
     "output_type": "stream",
     "text": [
      "\u001b[A\n",
      " 80%|███████▉  | 955/1200 [02:22<00:37,  6.59it/s]\u001b[A\n",
      " 80%|███████▉  | 956/1200 [02:22<00:37,  6.59it/s]"
     ]
    },
    {
     "name": "stdout",
     "output_type": "stream",
     "text": [
      "45.59225101340098\n",
      "45.59225101340098\n",
      "32.35394789730799\n",
      "32.35394789730799\n"
     ]
    },
    {
     "name": "stderr",
     "output_type": "stream",
     "text": [
      "\u001b[A\n",
      " 80%|███████▉  | 957/1200 [02:22<00:36,  6.65it/s]\u001b[A\n",
      " 80%|███████▉  | 958/1200 [02:22<00:36,  6.64it/s]"
     ]
    },
    {
     "name": "stdout",
     "output_type": "stream",
     "text": [
      "25.45215998704998\n",
      "25.45215998704998\n",
      "18.038946251802372\n",
      "18.038946251802372\n"
     ]
    },
    {
     "name": "stderr",
     "output_type": "stream",
     "text": [
      "\u001b[A\n",
      " 80%|███████▉  | 959/1200 [02:22<00:36,  6.58it/s]\u001b[A\n",
      " 80%|████████  | 960/1200 [02:23<00:34,  6.89it/s]"
     ]
    },
    {
     "name": "stdout",
     "output_type": "stream",
     "text": [
      "22.191367626690408\n",
      "22.191367626690408\n",
      "2.586609507949561\n",
      "2.586609507949561\n"
     ]
    },
    {
     "name": "stderr",
     "output_type": "stream",
     "text": [
      "\u001b[A\n",
      " 80%|████████  | 961/1200 [02:23<00:35,  6.81it/s]\u001b[A\n",
      " 80%|████████  | 962/1200 [02:23<00:34,  6.96it/s]"
     ]
    },
    {
     "name": "stdout",
     "output_type": "stream",
     "text": [
      "28.410396365880388\n",
      "28.410396365880388\n",
      "60.924186100643965\n",
      "60.924186100643965\n"
     ]
    },
    {
     "name": "stderr",
     "output_type": "stream",
     "text": [
      "\u001b[A\n",
      " 80%|████████  | 963/1200 [02:23<00:34,  6.85it/s]\u001b[A\n",
      " 80%|████████  | 964/1200 [02:23<00:34,  6.87it/s]"
     ]
    },
    {
     "name": "stdout",
     "output_type": "stream",
     "text": [
      "96.03452413267723\n",
      "96.03452413267723\n",
      "121.56326284058377\n",
      "121.56326284058377\n"
     ]
    },
    {
     "name": "stderr",
     "output_type": "stream",
     "text": [
      "\u001b[A\n",
      " 80%|████████  | 965/1200 [02:23<00:34,  6.82it/s]\u001b[A\n",
      " 80%|████████  | 966/1200 [02:23<00:34,  6.78it/s]"
     ]
    },
    {
     "name": "stdout",
     "output_type": "stream",
     "text": [
      "137.09419549595395\n",
      "137.09419549595395\n",
      "144.741644870267\n",
      "144.741644870267\n"
     ]
    },
    {
     "name": "stderr",
     "output_type": "stream",
     "text": [
      "\u001b[A\n",
      " 81%|████████  | 967/1200 [02:24<00:34,  6.68it/s]\u001b[A\n",
      " 81%|████████  | 968/1200 [02:24<00:34,  6.72it/s]"
     ]
    },
    {
     "name": "stdout",
     "output_type": "stream",
     "text": [
      "152.15583055016896\n",
      "152.15583055016896\n",
      "152.15583055016896\n",
      "152.15583055016896\n"
     ]
    },
    {
     "name": "stderr",
     "output_type": "stream",
     "text": [
      "\u001b[A\n",
      " 81%|████████  | 969/1200 [02:24<00:34,  6.69it/s]\u001b[A\n",
      " 81%|████████  | 970/1200 [02:24<00:33,  6.92it/s]"
     ]
    },
    {
     "name": "stdout",
     "output_type": "stream",
     "text": [
      "152.15583055016896\n",
      "152.15583055016896\n",
      "152.15583055016896\n",
      "152.15583055016896\n"
     ]
    },
    {
     "name": "stderr",
     "output_type": "stream",
     "text": [
      "\u001b[A\n",
      " 81%|████████  | 971/1200 [02:24<00:32,  6.99it/s]\u001b[A\n",
      " 81%|████████  | 972/1200 [02:24<00:31,  7.19it/s]"
     ]
    },
    {
     "name": "stdout",
     "output_type": "stream",
     "text": [
      "152.15583055016896\n",
      "152.15583055016896\n",
      "152.15583055016896\n",
      "152.15583055016896\n"
     ]
    },
    {
     "name": "stderr",
     "output_type": "stream",
     "text": [
      "\u001b[A\n",
      " 81%|████████  | 973/1200 [02:24<00:32,  7.06it/s]\u001b[A\n",
      " 81%|████████  | 974/1200 [02:25<00:31,  7.12it/s]"
     ]
    },
    {
     "name": "stdout",
     "output_type": "stream",
     "text": [
      "152.15583055016896\n",
      "152.15583055016896\n",
      "152.15583055016896\n",
      "152.15583055016896\n"
     ]
    },
    {
     "name": "stderr",
     "output_type": "stream",
     "text": [
      "\u001b[A\n",
      " 81%|████████▏ | 975/1200 [02:25<00:32,  7.00it/s]\u001b[A\n",
      " 81%|████████▏ | 976/1200 [02:25<00:32,  6.99it/s]"
     ]
    },
    {
     "name": "stdout",
     "output_type": "stream",
     "text": [
      "152.15583055016896\n",
      "152.15583055016896\n",
      "152.15583055016896\n",
      "152.15583055016896\n"
     ]
    },
    {
     "name": "stderr",
     "output_type": "stream",
     "text": [
      "\u001b[A\n",
      " 81%|████████▏ | 977/1200 [02:25<00:32,  6.86it/s]\u001b[A\n",
      " 82%|████████▏ | 978/1200 [02:25<00:31,  6.99it/s]"
     ]
    },
    {
     "name": "stdout",
     "output_type": "stream",
     "text": [
      "152.15583055016896\n",
      "152.15583055016896\n",
      "152.15583055016896\n",
      "152.15583055016896\n"
     ]
    },
    {
     "name": "stderr",
     "output_type": "stream",
     "text": [
      "\u001b[A\n",
      " 82%|████████▏ | 979/1200 [02:25<00:32,  6.90it/s]\u001b[A\n",
      " 82%|████████▏ | 980/1200 [02:25<00:31,  7.07it/s]"
     ]
    },
    {
     "name": "stdout",
     "output_type": "stream",
     "text": [
      "152.15583055016896\n",
      "152.15583055016896\n",
      "152.15583055016896\n",
      "152.15583055016896\n"
     ]
    },
    {
     "name": "stderr",
     "output_type": "stream",
     "text": [
      "\u001b[A\n",
      " 82%|████████▏ | 981/1200 [02:26<00:31,  6.88it/s]\u001b[A\n",
      " 82%|████████▏ | 982/1200 [02:26<00:31,  6.98it/s]"
     ]
    },
    {
     "name": "stdout",
     "output_type": "stream",
     "text": [
      "152.15583055016896\n",
      "152.15583055016896\n",
      "152.15583055016896\n",
      "152.15583055016896\n"
     ]
    },
    {
     "name": "stderr",
     "output_type": "stream",
     "text": [
      "\u001b[A\n",
      " 82%|████████▏ | 983/1200 [02:26<00:31,  6.89it/s]\u001b[A\n",
      " 82%|████████▏ | 984/1200 [02:26<00:30,  6.97it/s]"
     ]
    },
    {
     "name": "stdout",
     "output_type": "stream",
     "text": [
      "159.34639026207788\n",
      "159.34639026207788\n",
      "164.8117793247793\n",
      "164.8117793247793\n"
     ]
    },
    {
     "name": "stderr",
     "output_type": "stream",
     "text": [
      "\u001b[A\n",
      " 82%|████████▏ | 985/1200 [02:26<00:31,  6.80it/s]\u001b[A\n",
      " 82%|████████▏ | 986/1200 [02:26<00:30,  6.93it/s]"
     ]
    },
    {
     "name": "stdout",
     "output_type": "stream",
     "text": [
      "171.24728776969232\n",
      "171.24728776969232\n",
      "179.1143700227194\n",
      "179.1143700227194\n"
     ]
    },
    {
     "name": "stderr",
     "output_type": "stream",
     "text": [
      "\u001b[A\n",
      " 82%|████████▏ | 987/1200 [02:26<00:30,  6.89it/s]\u001b[A\n",
      " 82%|████████▏ | 988/1200 [02:27<00:30,  6.96it/s]"
     ]
    },
    {
     "name": "stdout",
     "output_type": "stream",
     "text": [
      "187.2377279547186\n",
      "187.2377279547186\n",
      "194.50264016460778\n",
      "194.50264016460778\n"
     ]
    },
    {
     "name": "stderr",
     "output_type": "stream",
     "text": [
      "\u001b[A\n",
      " 82%|████████▏ | 989/1200 [02:27<00:30,  6.81it/s]\u001b[A\n",
      " 82%|████████▎ | 990/1200 [02:27<00:30,  6.90it/s]"
     ]
    },
    {
     "name": "stdout",
     "output_type": "stream",
     "text": [
      "196.13348133819864\n",
      "196.13348133819864\n",
      "194.93486848111888\n",
      "194.93486848111888\n"
     ]
    },
    {
     "name": "stderr",
     "output_type": "stream",
     "text": [
      "\u001b[A\n",
      " 83%|████████▎ | 991/1200 [02:27<00:30,  6.87it/s]\u001b[A\n",
      " 83%|████████▎ | 992/1200 [02:27<00:29,  6.98it/s]"
     ]
    },
    {
     "name": "stdout",
     "output_type": "stream",
     "text": [
      "191.52997522169744\n",
      "191.52997522169744\n",
      "188.6469205836056\n",
      "188.6469205836056\n"
     ]
    },
    {
     "name": "stderr",
     "output_type": "stream",
     "text": [
      "\u001b[A\n",
      " 83%|████████▎ | 993/1200 [02:27<00:29,  6.92it/s]\u001b[A\n",
      " 83%|████████▎ | 994/1200 [02:27<00:29,  6.94it/s]"
     ]
    },
    {
     "name": "stdout",
     "output_type": "stream",
     "text": [
      "183.80521255032954\n",
      "183.80521255032954\n",
      "179.2974036991709\n",
      "179.2974036991709\n"
     ]
    },
    {
     "name": "stderr",
     "output_type": "stream",
     "text": [
      "\u001b[A\n",
      " 83%|████████▎ | 995/1200 [02:28<00:30,  6.82it/s]\u001b[A\n",
      " 83%|████████▎ | 996/1200 [02:28<00:29,  7.02it/s]"
     ]
    },
    {
     "name": "stdout",
     "output_type": "stream",
     "text": [
      "177.1253725161382\n",
      "177.1253725161382\n",
      "175.53054296517212\n",
      "175.53054296517212\n"
     ]
    },
    {
     "name": "stderr",
     "output_type": "stream",
     "text": [
      "\u001b[A\n",
      " 83%|████████▎ | 997/1200 [02:28<00:29,  6.81it/s]\u001b[A\n",
      " 83%|████████▎ | 998/1200 [02:28<00:28,  7.04it/s]"
     ]
    },
    {
     "name": "stdout",
     "output_type": "stream",
     "text": [
      "174.2232687409769\n",
      "174.2232687409769\n",
      "174.2232687409769\n",
      "174.2232687409769\n"
     ]
    },
    {
     "name": "stderr",
     "output_type": "stream",
     "text": [
      "\u001b[A\n",
      " 83%|████████▎ | 999/1200 [02:28<00:29,  6.86it/s]\u001b[A\n",
      " 83%|████████▎ | 1000/1200 [02:28<00:28,  7.08it/s]"
     ]
    },
    {
     "name": "stdout",
     "output_type": "stream",
     "text": [
      "174.2232687409769\n",
      "174.2232687409769\n",
      "175.53054296517212\n",
      "175.53054296517212\n"
     ]
    },
    {
     "name": "stderr",
     "output_type": "stream",
     "text": [
      "\u001b[A\n",
      " 83%|████████▎ | 1001/1200 [02:29<00:29,  6.73it/s]\u001b[A\n",
      " 84%|████████▎ | 1002/1200 [02:29<00:28,  6.86it/s]"
     ]
    },
    {
     "name": "stdout",
     "output_type": "stream",
     "text": [
      "178.658415560109\n",
      "178.658415560109\n",
      "182.46719573634164\n",
      "182.46719573634164\n"
     ]
    },
    {
     "name": "stderr",
     "output_type": "stream",
     "text": [
      "\u001b[A\n",
      " 84%|████████▎ | 1003/1200 [02:29<00:29,  6.65it/s]\u001b[A\n",
      " 84%|████████▎ | 1004/1200 [02:29<00:29,  6.66it/s]"
     ]
    },
    {
     "name": "stdout",
     "output_type": "stream",
     "text": [
      "187.03813271876243\n",
      "187.03813271876243\n",
      "190.80097232817707\n",
      "190.80097232817707\n"
     ]
    },
    {
     "name": "stderr",
     "output_type": "stream",
     "text": [
      "\u001b[A\n",
      " 84%|████████▍ | 1005/1200 [02:29<00:30,  6.39it/s]\u001b[A\n",
      " 84%|████████▍ | 1006/1200 [02:29<00:29,  6.61it/s]"
     ]
    },
    {
     "name": "stdout",
     "output_type": "stream",
     "text": [
      "191.0086912798165\n",
      "191.0086912798165\n",
      "190.1805204871016\n",
      "190.1805204871016\n"
     ]
    },
    {
     "name": "stderr",
     "output_type": "stream",
     "text": [
      "\u001b[A\n",
      " 84%|████████▍ | 1007/1200 [02:29<00:29,  6.61it/s]\u001b[A\n",
      " 84%|████████▍ | 1008/1200 [02:30<00:28,  6.75it/s]"
     ]
    },
    {
     "name": "stdout",
     "output_type": "stream",
     "text": [
      "190.1805204871016\n",
      "190.1805204871016\n",
      "187.93968077136515\n",
      "187.93968077136515\n"
     ]
    },
    {
     "name": "stderr",
     "output_type": "stream",
     "text": [
      "\u001b[A\n",
      " 84%|████████▍ | 1009/1200 [02:30<00:28,  6.63it/s]\u001b[A\n",
      " 84%|████████▍ | 1010/1200 [02:30<00:27,  6.87it/s]"
     ]
    },
    {
     "name": "stdout",
     "output_type": "stream",
     "text": [
      "187.93968077136515\n",
      "187.93968077136515\n",
      "187.93968077136515\n",
      "187.93968077136515\n"
     ]
    },
    {
     "name": "stderr",
     "output_type": "stream",
     "text": [
      "\u001b[A\n",
      " 84%|████████▍ | 1011/1200 [02:30<00:28,  6.71it/s]\u001b[A\n",
      " 84%|████████▍ | 1012/1200 [02:30<00:27,  6.85it/s]"
     ]
    },
    {
     "name": "stdout",
     "output_type": "stream",
     "text": [
      "187.93968077136515\n",
      "187.93968077136515\n",
      "187.93968077136515\n",
      "187.93968077136515\n"
     ]
    },
    {
     "name": "stderr",
     "output_type": "stream",
     "text": [
      "\u001b[A\n",
      " 84%|████████▍ | 1013/1200 [02:30<00:28,  6.60it/s]\u001b[A"
     ]
    },
    {
     "name": "stdout",
     "output_type": "stream",
     "text": [
      "187.93968077136515\n",
      "187.93968077136515\n",
      "187.93968077136515\n",
      "187.93968077136515\n"
     ]
    },
    {
     "name": "stderr",
     "output_type": "stream",
     "text": [
      "\n",
      " 84%|████████▍ | 1014/1200 [02:30<00:29,  6.29it/s]\u001b[A\n",
      " 85%|████████▍ | 1015/1200 [02:31<00:30,  6.12it/s]\u001b[A\n",
      " 85%|████████▍ | 1016/1200 [02:31<00:30,  6.10it/s]"
     ]
    },
    {
     "name": "stdout",
     "output_type": "stream",
     "text": [
      "187.93968077136515\n",
      "187.93968077136515\n",
      "187.93968077136515\n",
      "187.93968077136515\n"
     ]
    },
    {
     "name": "stderr",
     "output_type": "stream",
     "text": [
      "\u001b[A\n",
      " 85%|████████▍ | 1017/1200 [02:31<00:28,  6.33it/s]\u001b[A\n",
      " 85%|████████▍ | 1018/1200 [02:31<00:28,  6.49it/s]"
     ]
    },
    {
     "name": "stdout",
     "output_type": "stream",
     "text": [
      "187.93968077136515\n",
      "187.93968077136515\n",
      "187.93968077136515\n",
      "187.93968077136515\n"
     ]
    },
    {
     "name": "stderr",
     "output_type": "stream",
     "text": [
      "\u001b[A\n",
      " 85%|████████▍ | 1019/1200 [02:31<00:27,  6.53it/s]\u001b[A\n",
      " 85%|████████▌ | 1020/1200 [02:31<00:27,  6.64it/s]"
     ]
    },
    {
     "name": "stdout",
     "output_type": "stream",
     "text": [
      "187.93968077136515\n",
      "187.93968077136515\n",
      "187.93968077136515\n",
      "187.93968077136515\n"
     ]
    },
    {
     "name": "stderr",
     "output_type": "stream",
     "text": [
      "\u001b[A\n",
      " 85%|████████▌ | 1021/1200 [02:32<00:26,  6.69it/s]\u001b[A\n",
      " 85%|████████▌ | 1022/1200 [02:32<00:26,  6.78it/s]"
     ]
    },
    {
     "name": "stdout",
     "output_type": "stream",
     "text": [
      "187.93968077136515\n",
      "187.93968077136515\n",
      "187.93968077136515\n",
      "187.93968077136515\n"
     ]
    },
    {
     "name": "stderr",
     "output_type": "stream",
     "text": [
      "\u001b[A\n",
      " 85%|████████▌ | 1023/1200 [02:32<00:26,  6.74it/s]\u001b[A\n",
      " 85%|████████▌ | 1024/1200 [02:32<00:26,  6.76it/s]"
     ]
    },
    {
     "name": "stdout",
     "output_type": "stream",
     "text": [
      "187.93968077136515\n",
      "187.93968077136515\n",
      "187.93968077136515\n",
      "187.93968077136515\n"
     ]
    },
    {
     "name": "stderr",
     "output_type": "stream",
     "text": [
      "\u001b[A\n",
      " 85%|████████▌ | 1025/1200 [02:32<00:25,  6.75it/s]\u001b[A\n",
      " 86%|████████▌ | 1026/1200 [02:32<00:25,  6.83it/s]"
     ]
    },
    {
     "name": "stdout",
     "output_type": "stream",
     "text": [
      "187.93968077136515\n",
      "187.93968077136515\n",
      "187.93968077136515\n",
      "187.93968077136515\n"
     ]
    },
    {
     "name": "stderr",
     "output_type": "stream",
     "text": [
      "\u001b[A\n",
      " 86%|████████▌ | 1027/1200 [02:32<00:25,  6.83it/s]\u001b[A\n",
      " 86%|████████▌ | 1028/1200 [02:33<00:24,  6.98it/s]"
     ]
    },
    {
     "name": "stdout",
     "output_type": "stream",
     "text": [
      "187.93968077136515\n",
      "187.93968077136515\n",
      "187.93968077136515\n",
      "187.93968077136515\n"
     ]
    },
    {
     "name": "stderr",
     "output_type": "stream",
     "text": [
      "\u001b[A\n",
      " 86%|████████▌ | 1029/1200 [02:33<00:24,  6.92it/s]\u001b[A\n",
      " 86%|████████▌ | 1030/1200 [02:33<00:24,  7.02it/s]"
     ]
    },
    {
     "name": "stdout",
     "output_type": "stream",
     "text": [
      "187.93968077136515\n",
      "187.93968077136515\n",
      "187.93968077136515\n",
      "187.93968077136515\n"
     ]
    },
    {
     "name": "stderr",
     "output_type": "stream",
     "text": [
      "\u001b[A\n",
      " 86%|████████▌ | 1031/1200 [02:33<00:24,  7.02it/s]\u001b[A\n",
      " 86%|████████▌ | 1032/1200 [02:33<00:23,  7.18it/s]"
     ]
    },
    {
     "name": "stdout",
     "output_type": "stream",
     "text": [
      "187.93968077136515\n",
      "187.93968077136515\n",
      "187.93968077136515\n",
      "187.93968077136515\n"
     ]
    },
    {
     "name": "stderr",
     "output_type": "stream",
     "text": [
      "\u001b[A\n",
      " 86%|████████▌ | 1033/1200 [02:33<00:23,  7.08it/s]\u001b[A\n",
      " 86%|████████▌ | 1034/1200 [02:33<00:23,  7.03it/s]"
     ]
    },
    {
     "name": "stdout",
     "output_type": "stream",
     "text": [
      "187.93968077136515\n",
      "187.93968077136515\n",
      "187.93968077136515\n",
      "187.93968077136515\n"
     ]
    },
    {
     "name": "stderr",
     "output_type": "stream",
     "text": [
      "\u001b[A\n",
      " 86%|████████▋ | 1035/1200 [02:34<00:23,  6.97it/s]\u001b[A\n",
      " 86%|████████▋ | 1036/1200 [02:34<00:23,  7.06it/s]"
     ]
    },
    {
     "name": "stdout",
     "output_type": "stream",
     "text": [
      "187.93968077136515\n",
      "187.93968077136515\n",
      "187.93968077136515\n",
      "187.93968077136515\n"
     ]
    },
    {
     "name": "stderr",
     "output_type": "stream",
     "text": [
      "\u001b[A\n",
      " 86%|████████▋ | 1037/1200 [02:34<00:23,  6.99it/s]\u001b[A\n",
      " 86%|████████▋ | 1038/1200 [02:34<00:22,  7.12it/s]"
     ]
    },
    {
     "name": "stdout",
     "output_type": "stream",
     "text": [
      "187.93968077136515\n",
      "187.93968077136515\n",
      "187.93968077136515\n",
      "187.93968077136515\n"
     ]
    },
    {
     "name": "stderr",
     "output_type": "stream",
     "text": [
      "\u001b[A\n",
      " 87%|████████▋ | 1039/1200 [02:34<00:22,  7.09it/s]\u001b[A\n",
      " 87%|████████▋ | 1040/1200 [02:34<00:22,  7.26it/s]"
     ]
    },
    {
     "name": "stdout",
     "output_type": "stream",
     "text": [
      "187.93968077136515\n",
      "187.93968077136515\n",
      "187.93968077136515\n",
      "187.93968077136515\n"
     ]
    },
    {
     "name": "stderr",
     "output_type": "stream",
     "text": [
      "\u001b[A\n",
      " 87%|████████▋ | 1041/1200 [02:34<00:22,  7.19it/s]\u001b[A\n",
      " 87%|████████▋ | 1042/1200 [02:35<00:21,  7.22it/s]"
     ]
    },
    {
     "name": "stdout",
     "output_type": "stream",
     "text": [
      "187.93968077136515\n",
      "187.93968077136515\n",
      "187.93968077136515\n",
      "187.93968077136515\n"
     ]
    },
    {
     "name": "stderr",
     "output_type": "stream",
     "text": [
      "\u001b[A\n",
      " 87%|████████▋ | 1043/1200 [02:35<00:21,  7.15it/s]\u001b[A\n",
      " 87%|████████▋ | 1044/1200 [02:35<00:21,  7.18it/s]"
     ]
    },
    {
     "name": "stdout",
     "output_type": "stream",
     "text": [
      "187.93968077136515\n",
      "187.93968077136515\n",
      "187.93968077136515\n",
      "187.93968077136515\n"
     ]
    },
    {
     "name": "stderr",
     "output_type": "stream",
     "text": [
      "\u001b[A\n",
      " 87%|████████▋ | 1045/1200 [02:35<00:21,  7.14it/s]\u001b[A\n",
      " 87%|████████▋ | 1046/1200 [02:35<00:21,  7.28it/s]"
     ]
    },
    {
     "name": "stdout",
     "output_type": "stream",
     "text": [
      "187.93968077136515\n",
      "187.93968077136515\n",
      "187.93968077136515\n",
      "187.93968077136515\n"
     ]
    },
    {
     "name": "stderr",
     "output_type": "stream",
     "text": [
      "\u001b[A\n",
      " 87%|████████▋ | 1047/1200 [02:35<00:21,  7.24it/s]\u001b[A\n",
      " 87%|████████▋ | 1048/1200 [02:35<00:20,  7.29it/s]"
     ]
    },
    {
     "name": "stdout",
     "output_type": "stream",
     "text": [
      "187.93968077136515\n",
      "187.93968077136515\n",
      "187.93968077136515\n",
      "187.93968077136515\n"
     ]
    },
    {
     "name": "stderr",
     "output_type": "stream",
     "text": [
      "\u001b[A\n",
      " 87%|████████▋ | 1049/1200 [02:36<00:20,  7.27it/s]\u001b[A\n",
      " 88%|████████▊ | 1050/1200 [02:36<00:20,  7.21it/s]"
     ]
    },
    {
     "name": "stdout",
     "output_type": "stream",
     "text": [
      "187.93968077136515\n",
      "187.93968077136515\n",
      "187.93968077136515\n",
      "187.93968077136515\n"
     ]
    },
    {
     "name": "stderr",
     "output_type": "stream",
     "text": [
      "\u001b[A\n",
      " 88%|████████▊ | 1051/1200 [02:36<00:20,  7.13it/s]\u001b[A\n",
      " 88%|████████▊ | 1052/1200 [02:36<00:20,  7.27it/s]"
     ]
    },
    {
     "name": "stdout",
     "output_type": "stream",
     "text": [
      "187.93968077136515\n",
      "187.93968077136515\n",
      "187.93968077136515\n",
      "187.93968077136515\n"
     ]
    },
    {
     "name": "stderr",
     "output_type": "stream",
     "text": [
      "\u001b[A\n",
      " 88%|████████▊ | 1053/1200 [02:36<00:20,  7.19it/s]\u001b[A\n",
      " 88%|████████▊ | 1054/1200 [02:36<00:20,  7.20it/s]"
     ]
    },
    {
     "name": "stdout",
     "output_type": "stream",
     "text": [
      "187.93968077136515\n",
      "187.93968077136515\n",
      "187.93968077136515\n",
      "187.93968077136515\n"
     ]
    },
    {
     "name": "stderr",
     "output_type": "stream",
     "text": [
      "\u001b[A\n",
      " 88%|████████▊ | 1055/1200 [02:36<00:20,  7.11it/s]\u001b[A\n",
      " 88%|████████▊ | 1056/1200 [02:36<00:19,  7.24it/s]"
     ]
    },
    {
     "name": "stdout",
     "output_type": "stream",
     "text": [
      "187.93968077136515\n",
      "187.93968077136515\n",
      "187.93968077136515\n",
      "187.93968077136515\n"
     ]
    },
    {
     "name": "stderr",
     "output_type": "stream",
     "text": [
      "\u001b[A\n",
      " 88%|████████▊ | 1057/1200 [02:37<00:20,  7.08it/s]\u001b[A\n",
      " 88%|████████▊ | 1058/1200 [02:37<00:19,  7.13it/s]"
     ]
    },
    {
     "name": "stdout",
     "output_type": "stream",
     "text": [
      "187.93968077136515\n",
      "187.93968077136515\n",
      "187.93968077136515\n",
      "187.93968077136515\n"
     ]
    },
    {
     "name": "stderr",
     "output_type": "stream",
     "text": [
      "\u001b[A\n",
      " 88%|████████▊ | 1059/1200 [02:37<00:20,  7.00it/s]\u001b[A\n",
      " 88%|████████▊ | 1060/1200 [02:37<00:19,  7.06it/s]"
     ]
    },
    {
     "name": "stdout",
     "output_type": "stream",
     "text": [
      "187.93968077136515\n",
      "187.93968077136515\n",
      "187.93968077136515\n",
      "187.93968077136515\n"
     ]
    },
    {
     "name": "stderr",
     "output_type": "stream",
     "text": [
      "\u001b[A\n",
      " 88%|████████▊ | 1061/1200 [02:37<00:19,  6.97it/s]\u001b[A\n",
      " 88%|████████▊ | 1062/1200 [02:37<00:19,  7.18it/s]"
     ]
    },
    {
     "name": "stdout",
     "output_type": "stream",
     "text": [
      "187.93968077136515\n",
      "187.93968077136515\n",
      "187.93968077136515\n",
      "187.93968077136515\n"
     ]
    },
    {
     "name": "stderr",
     "output_type": "stream",
     "text": [
      "\u001b[A\n",
      " 89%|████████▊ | 1063/1200 [02:37<00:19,  7.07it/s]\u001b[A\n",
      " 89%|████████▊ | 1064/1200 [02:38<00:18,  7.26it/s]"
     ]
    },
    {
     "name": "stdout",
     "output_type": "stream",
     "text": [
      "187.93968077136515\n",
      "187.93968077136515\n",
      "187.93968077136515\n",
      "187.93968077136515\n"
     ]
    },
    {
     "name": "stderr",
     "output_type": "stream",
     "text": [
      "\u001b[A\n",
      " 89%|████████▉ | 1065/1200 [02:38<00:19,  7.09it/s]\u001b[A\n",
      " 89%|████████▉ | 1066/1200 [02:38<00:18,  7.20it/s]"
     ]
    },
    {
     "name": "stdout",
     "output_type": "stream",
     "text": [
      "187.93968077136515\n",
      "187.93968077136515\n",
      "187.93968077136515\n",
      "187.93968077136515\n"
     ]
    },
    {
     "name": "stderr",
     "output_type": "stream",
     "text": [
      "\u001b[A\n",
      " 89%|████████▉ | 1067/1200 [02:38<00:18,  7.07it/s]\u001b[A\n",
      " 89%|████████▉ | 1068/1200 [02:38<00:18,  7.15it/s]"
     ]
    },
    {
     "name": "stdout",
     "output_type": "stream",
     "text": [
      "187.93968077136515\n",
      "187.93968077136515\n",
      "187.93968077136515\n",
      "187.93968077136515\n"
     ]
    },
    {
     "name": "stderr",
     "output_type": "stream",
     "text": [
      "\u001b[A\n",
      " 89%|████████▉ | 1069/1200 [02:38<00:18,  7.03it/s]\u001b[A\n",
      " 89%|████████▉ | 1070/1200 [02:38<00:18,  7.18it/s]"
     ]
    },
    {
     "name": "stdout",
     "output_type": "stream",
     "text": [
      "187.93968077136515\n",
      "187.93968077136515\n",
      "187.93968077136515\n",
      "187.93968077136515\n"
     ]
    },
    {
     "name": "stderr",
     "output_type": "stream",
     "text": [
      "\u001b[A\n",
      " 89%|████████▉ | 1071/1200 [02:39<00:18,  7.00it/s]\u001b[A\n",
      " 89%|████████▉ | 1072/1200 [02:39<00:18,  7.08it/s]"
     ]
    },
    {
     "name": "stdout",
     "output_type": "stream",
     "text": [
      "187.93968077136515\n",
      "187.93968077136515\n",
      "187.93968077136515\n",
      "187.93968077136515\n"
     ]
    },
    {
     "name": "stderr",
     "output_type": "stream",
     "text": [
      "\u001b[A\n",
      " 89%|████████▉ | 1073/1200 [02:39<00:18,  6.84it/s]\u001b[A\n",
      " 90%|████████▉ | 1074/1200 [02:39<00:17,  7.03it/s]"
     ]
    },
    {
     "name": "stdout",
     "output_type": "stream",
     "text": [
      "187.93968077136515\n",
      "187.93968077136515\n",
      "187.93968077136515\n",
      "187.93968077136515\n"
     ]
    },
    {
     "name": "stderr",
     "output_type": "stream",
     "text": [
      "\u001b[A\n",
      " 90%|████████▉ | 1075/1200 [02:39<00:18,  6.90it/s]\u001b[A\n",
      " 90%|████████▉ | 1076/1200 [02:39<00:17,  6.99it/s]"
     ]
    },
    {
     "name": "stdout",
     "output_type": "stream",
     "text": [
      "187.93968077136515\n",
      "187.93968077136515\n",
      "187.93968077136515\n",
      "187.93968077136515\n"
     ]
    },
    {
     "name": "stderr",
     "output_type": "stream",
     "text": [
      "\u001b[A\n",
      " 90%|████████▉ | 1077/1200 [02:39<00:18,  6.73it/s]\u001b[A\n",
      " 90%|████████▉ | 1078/1200 [02:40<00:17,  6.86it/s]"
     ]
    },
    {
     "name": "stdout",
     "output_type": "stream",
     "text": [
      "187.93968077136515\n",
      "187.93968077136515\n",
      "187.93968077136515\n",
      "187.93968077136515\n"
     ]
    },
    {
     "name": "stderr",
     "output_type": "stream",
     "text": [
      "\u001b[A\n",
      " 90%|████████▉ | 1079/1200 [02:40<00:18,  6.69it/s]\u001b[A\n",
      " 90%|█████████ | 1080/1200 [02:40<00:17,  6.86it/s]"
     ]
    },
    {
     "name": "stdout",
     "output_type": "stream",
     "text": [
      "187.93968077136515\n",
      "187.93968077136515\n",
      "187.93968077136515\n",
      "187.93968077136515\n"
     ]
    },
    {
     "name": "stderr",
     "output_type": "stream",
     "text": [
      "\u001b[A\n",
      " 90%|█████████ | 1081/1200 [02:40<00:17,  6.67it/s]\u001b[A\n",
      " 90%|█████████ | 1082/1200 [02:40<00:17,  6.87it/s]"
     ]
    },
    {
     "name": "stdout",
     "output_type": "stream",
     "text": [
      "187.93968077136515\n",
      "187.93968077136515\n",
      "187.93968077136515\n",
      "187.93968077136515\n"
     ]
    },
    {
     "name": "stderr",
     "output_type": "stream",
     "text": [
      "\u001b[A\n",
      " 90%|█████████ | 1083/1200 [02:40<00:17,  6.73it/s]\u001b[A\n",
      " 90%|█████████ | 1084/1200 [02:41<00:16,  6.83it/s]"
     ]
    },
    {
     "name": "stdout",
     "output_type": "stream",
     "text": [
      "187.93968077136515\n",
      "187.93968077136515\n",
      "187.93968077136515\n",
      "187.93968077136515\n"
     ]
    },
    {
     "name": "stderr",
     "output_type": "stream",
     "text": [
      "\u001b[A\n",
      " 90%|█████████ | 1085/1200 [02:41<00:17,  6.60it/s]\u001b[A\n",
      " 90%|█████████ | 1086/1200 [02:41<00:17,  6.58it/s]"
     ]
    },
    {
     "name": "stdout",
     "output_type": "stream",
     "text": [
      "187.93968077136515\n",
      "187.93968077136515\n",
      "187.93968077136515\n",
      "187.93968077136515\n"
     ]
    },
    {
     "name": "stderr",
     "output_type": "stream",
     "text": [
      "\u001b[A\n",
      " 91%|█████████ | 1087/1200 [02:41<00:17,  6.51it/s]\u001b[A\n",
      " 91%|█████████ | 1088/1200 [02:41<00:16,  6.70it/s]"
     ]
    },
    {
     "name": "stdout",
     "output_type": "stream",
     "text": [
      "187.93968077136515\n",
      "187.93968077136515\n",
      "187.93968077136515\n",
      "187.93968077136515\n"
     ]
    },
    {
     "name": "stderr",
     "output_type": "stream",
     "text": [
      "\u001b[A\n",
      " 91%|█████████ | 1089/1200 [02:41<00:16,  6.56it/s]\u001b[A\n",
      " 91%|█████████ | 1090/1200 [02:41<00:16,  6.74it/s]"
     ]
    },
    {
     "name": "stdout",
     "output_type": "stream",
     "text": [
      "187.93968077136515\n",
      "187.93968077136515\n",
      "187.93968077136515\n",
      "187.93968077136515\n"
     ]
    },
    {
     "name": "stderr",
     "output_type": "stream",
     "text": [
      "\u001b[A\n",
      " 91%|█████████ | 1091/1200 [02:42<00:16,  6.58it/s]\u001b[A\n",
      " 91%|█████████ | 1092/1200 [02:42<00:15,  6.80it/s]"
     ]
    },
    {
     "name": "stdout",
     "output_type": "stream",
     "text": [
      "187.93968077136515\n",
      "187.93968077136515\n",
      "187.93968077136515\n",
      "187.93968077136515\n"
     ]
    },
    {
     "name": "stderr",
     "output_type": "stream",
     "text": [
      "\u001b[A\n",
      " 91%|█████████ | 1093/1200 [02:42<00:15,  6.80it/s]\u001b[A\n",
      " 91%|█████████ | 1094/1200 [02:42<00:15,  6.81it/s]"
     ]
    },
    {
     "name": "stdout",
     "output_type": "stream",
     "text": [
      "187.93968077136515\n",
      "187.93968077136515\n",
      "187.93968077136515\n",
      "187.93968077136515\n"
     ]
    },
    {
     "name": "stderr",
     "output_type": "stream",
     "text": [
      "\u001b[A\n",
      " 91%|█████████▏| 1095/1200 [02:42<00:15,  6.79it/s]\u001b[A\n",
      " 91%|█████████▏| 1096/1200 [02:42<00:15,  6.76it/s]"
     ]
    },
    {
     "name": "stdout",
     "output_type": "stream",
     "text": [
      "187.93968077136515\n",
      "187.93968077136515\n",
      "187.93968077136515\n",
      "187.93968077136515\n"
     ]
    },
    {
     "name": "stderr",
     "output_type": "stream",
     "text": [
      "\u001b[A\n",
      " 91%|█████████▏| 1097/1200 [02:42<00:15,  6.52it/s]\u001b[A\n",
      " 92%|█████████▏| 1098/1200 [02:43<00:15,  6.56it/s]"
     ]
    },
    {
     "name": "stdout",
     "output_type": "stream",
     "text": [
      "187.93968077136515\n",
      "187.93968077136515\n",
      "187.93968077136515\n",
      "187.93968077136515\n"
     ]
    },
    {
     "name": "stderr",
     "output_type": "stream",
     "text": [
      "\u001b[A\n",
      " 92%|█████████▏| 1099/1200 [02:43<00:15,  6.53it/s]\u001b[A\n",
      " 92%|█████████▏| 1100/1200 [02:43<00:14,  6.67it/s]"
     ]
    },
    {
     "name": "stdout",
     "output_type": "stream",
     "text": [
      "187.93968077136515\n",
      "187.93968077136515\n",
      "187.93968077136515\n",
      "187.93968077136515\n"
     ]
    },
    {
     "name": "stderr",
     "output_type": "stream",
     "text": [
      "\u001b[A\n",
      " 92%|█████████▏| 1101/1200 [02:43<00:15,  6.58it/s]\u001b[A\n",
      " 92%|█████████▏| 1102/1200 [02:43<00:14,  6.63it/s]"
     ]
    },
    {
     "name": "stdout",
     "output_type": "stream",
     "text": [
      "187.93968077136515\n",
      "187.93968077136515\n",
      "187.93968077136515\n",
      "187.93968077136515\n"
     ]
    },
    {
     "name": "stderr",
     "output_type": "stream",
     "text": [
      "\u001b[A\n",
      " 92%|█████████▏| 1103/1200 [02:43<00:14,  6.52it/s]\u001b[A\n",
      " 92%|█████████▏| 1104/1200 [02:44<00:14,  6.49it/s]"
     ]
    },
    {
     "name": "stdout",
     "output_type": "stream",
     "text": [
      "187.93968077136515\n",
      "187.93968077136515\n",
      "187.93968077136515\n",
      "187.93968077136515\n"
     ]
    },
    {
     "name": "stderr",
     "output_type": "stream",
     "text": [
      "\u001b[A\n",
      " 92%|█████████▏| 1105/1200 [02:44<00:15,  6.32it/s]\u001b[A\n",
      " 92%|█████████▏| 1106/1200 [02:44<00:14,  6.42it/s]"
     ]
    },
    {
     "name": "stdout",
     "output_type": "stream",
     "text": [
      "187.93968077136515\n",
      "187.93968077136515\n",
      "187.93968077136515\n",
      "187.93968077136515\n"
     ]
    },
    {
     "name": "stderr",
     "output_type": "stream",
     "text": [
      "\u001b[A\n",
      " 92%|█████████▏| 1107/1200 [02:44<00:14,  6.42it/s]\u001b[A\n",
      " 92%|█████████▏| 1108/1200 [02:44<00:13,  6.66it/s]"
     ]
    },
    {
     "name": "stdout",
     "output_type": "stream",
     "text": [
      "187.93968077136515\n",
      "187.93968077136515\n",
      "187.93968077136515\n",
      "187.93968077136515\n"
     ]
    },
    {
     "name": "stderr",
     "output_type": "stream",
     "text": [
      "\u001b[A\n",
      " 92%|█████████▏| 1109/1200 [02:44<00:13,  6.64it/s]\u001b[A\n",
      " 92%|█████████▎| 1110/1200 [02:44<00:13,  6.68it/s]"
     ]
    },
    {
     "name": "stdout",
     "output_type": "stream",
     "text": [
      "187.93968077136515\n",
      "187.93968077136515\n",
      "187.93968077136515\n",
      "187.93968077136515\n"
     ]
    },
    {
     "name": "stderr",
     "output_type": "stream",
     "text": [
      "\u001b[A\n",
      " 93%|█████████▎| 1111/1200 [02:45<00:13,  6.37it/s]\u001b[A\n",
      " 93%|█████████▎| 1112/1200 [02:45<00:13,  6.56it/s]"
     ]
    },
    {
     "name": "stdout",
     "output_type": "stream",
     "text": [
      "187.93968077136515\n",
      "187.93968077136515\n",
      "187.93968077136515\n",
      "187.93968077136515\n"
     ]
    },
    {
     "name": "stderr",
     "output_type": "stream",
     "text": [
      "\u001b[A\n",
      " 93%|█████████▎| 1113/1200 [02:45<00:13,  6.53it/s]\u001b[A\n",
      " 93%|█████████▎| 1114/1200 [02:45<00:13,  6.61it/s]"
     ]
    },
    {
     "name": "stdout",
     "output_type": "stream",
     "text": [
      "187.93968077136515\n",
      "187.93968077136515\n",
      "187.93968077136515\n",
      "187.93968077136515\n"
     ]
    },
    {
     "name": "stderr",
     "output_type": "stream",
     "text": [
      "\u001b[A\n",
      " 93%|█████████▎| 1115/1200 [02:45<00:12,  6.60it/s]\u001b[A\n",
      " 93%|█████████▎| 1116/1200 [02:45<00:12,  6.65it/s]"
     ]
    },
    {
     "name": "stdout",
     "output_type": "stream",
     "text": [
      "187.93968077136515\n",
      "187.93968077136515\n",
      "187.93968077136515\n",
      "187.93968077136515\n"
     ]
    },
    {
     "name": "stderr",
     "output_type": "stream",
     "text": [
      "\u001b[A\n",
      " 93%|█████████▎| 1117/1200 [02:46<00:12,  6.51it/s]\u001b[A\n",
      " 93%|█████████▎| 1118/1200 [02:46<00:12,  6.63it/s]"
     ]
    },
    {
     "name": "stdout",
     "output_type": "stream",
     "text": [
      "187.93968077136515\n",
      "187.93968077136515\n",
      "187.93968077136515\n",
      "187.93968077136515\n"
     ]
    },
    {
     "name": "stderr",
     "output_type": "stream",
     "text": [
      "\u001b[A\n",
      " 93%|█████████▎| 1119/1200 [02:46<00:12,  6.59it/s]\u001b[A\n",
      " 93%|█████████▎| 1120/1200 [02:46<00:11,  6.83it/s]"
     ]
    },
    {
     "name": "stdout",
     "output_type": "stream",
     "text": [
      "187.93968077136515\n",
      "187.93968077136515\n",
      "187.93968077136515\n",
      "187.93968077136515\n"
     ]
    },
    {
     "name": "stderr",
     "output_type": "stream",
     "text": [
      "\u001b[A\n",
      " 93%|█████████▎| 1121/1200 [02:46<00:11,  6.84it/s]\u001b[A\n",
      " 94%|█████████▎| 1122/1200 [02:46<00:11,  6.97it/s]"
     ]
    },
    {
     "name": "stdout",
     "output_type": "stream",
     "text": [
      "187.93968077136515\n",
      "187.93968077136515\n",
      "187.93968077136515\n",
      "187.93968077136515\n"
     ]
    },
    {
     "name": "stderr",
     "output_type": "stream",
     "text": [
      "\u001b[A\n",
      " 94%|█████████▎| 1123/1200 [02:46<00:11,  6.80it/s]\u001b[A\n",
      " 94%|█████████▎| 1124/1200 [02:47<00:10,  6.94it/s]"
     ]
    },
    {
     "name": "stdout",
     "output_type": "stream",
     "text": [
      "187.93968077136515\n",
      "187.93968077136515\n",
      "187.93968077136515\n",
      "187.93968077136515\n"
     ]
    },
    {
     "name": "stderr",
     "output_type": "stream",
     "text": [
      "\u001b[A\n",
      " 94%|█████████▍| 1125/1200 [02:47<00:11,  6.78it/s]\u001b[A\n",
      " 94%|█████████▍| 1126/1200 [02:47<00:10,  6.84it/s]"
     ]
    },
    {
     "name": "stdout",
     "output_type": "stream",
     "text": [
      "187.93968077136515\n",
      "187.93968077136515\n",
      "187.93968077136515\n",
      "187.93968077136515\n"
     ]
    },
    {
     "name": "stderr",
     "output_type": "stream",
     "text": [
      "\u001b[A\n",
      " 94%|█████████▍| 1127/1200 [02:47<00:10,  6.74it/s]\u001b[A\n",
      " 94%|█████████▍| 1128/1200 [02:47<00:10,  6.82it/s]"
     ]
    },
    {
     "name": "stdout",
     "output_type": "stream",
     "text": [
      "187.93968077136515\n",
      "187.93968077136515\n",
      "187.93968077136515\n",
      "187.93968077136515\n"
     ]
    },
    {
     "name": "stderr",
     "output_type": "stream",
     "text": [
      "\u001b[A\n",
      " 94%|█████████▍| 1129/1200 [02:47<00:10,  6.63it/s]\u001b[A\n",
      " 94%|█████████▍| 1130/1200 [02:47<00:10,  6.72it/s]"
     ]
    },
    {
     "name": "stdout",
     "output_type": "stream",
     "text": [
      "187.93968077136515\n",
      "187.93968077136515\n",
      "187.93968077136515\n",
      "187.93968077136515\n"
     ]
    },
    {
     "name": "stderr",
     "output_type": "stream",
     "text": [
      "\u001b[A\n",
      " 94%|█████████▍| 1131/1200 [02:48<00:10,  6.54it/s]\u001b[A\n",
      " 94%|█████████▍| 1132/1200 [02:48<00:10,  6.64it/s]"
     ]
    },
    {
     "name": "stdout",
     "output_type": "stream",
     "text": [
      "187.93968077136515\n",
      "187.93968077136515\n",
      "187.93968077136515\n",
      "187.93968077136515\n"
     ]
    },
    {
     "name": "stderr",
     "output_type": "stream",
     "text": [
      "\u001b[A\n",
      " 94%|█████████▍| 1133/1200 [02:48<00:10,  6.64it/s]\u001b[A\n",
      " 94%|█████████▍| 1134/1200 [02:48<00:09,  6.70it/s]"
     ]
    },
    {
     "name": "stdout",
     "output_type": "stream",
     "text": [
      "187.93968077136515\n",
      "187.93968077136515\n",
      "187.93968077136515\n",
      "187.93968077136515\n"
     ]
    },
    {
     "name": "stderr",
     "output_type": "stream",
     "text": [
      "\u001b[A\n",
      " 95%|█████████▍| 1135/1200 [02:48<00:09,  6.62it/s]\u001b[A\n",
      " 95%|█████████▍| 1136/1200 [02:48<00:09,  6.72it/s]"
     ]
    },
    {
     "name": "stdout",
     "output_type": "stream",
     "text": [
      "187.93968077136515\n",
      "187.93968077136515\n",
      "187.93968077136515\n",
      "187.93968077136515\n"
     ]
    },
    {
     "name": "stderr",
     "output_type": "stream",
     "text": [
      "\u001b[A\n",
      " 95%|█████████▍| 1137/1200 [02:48<00:09,  6.71it/s]\u001b[A\n",
      " 95%|█████████▍| 1138/1200 [02:49<00:09,  6.73it/s]"
     ]
    },
    {
     "name": "stdout",
     "output_type": "stream",
     "text": [
      "187.93968077136515\n",
      "187.93968077136515\n",
      "187.93968077136515\n",
      "187.93968077136515\n"
     ]
    },
    {
     "name": "stderr",
     "output_type": "stream",
     "text": [
      "\u001b[A\n",
      " 95%|█████████▍| 1139/1200 [02:49<00:09,  6.62it/s]\u001b[A\n",
      " 95%|█████████▌| 1140/1200 [02:49<00:09,  6.47it/s]"
     ]
    },
    {
     "name": "stdout",
     "output_type": "stream",
     "text": [
      "187.93968077136515\n",
      "187.93968077136515\n",
      "187.93968077136515\n",
      "187.93968077136515\n"
     ]
    },
    {
     "name": "stderr",
     "output_type": "stream",
     "text": [
      "\u001b[A\n",
      " 95%|█████████▌| 1141/1200 [02:49<00:09,  6.43it/s]\u001b[A\n",
      " 95%|█████████▌| 1142/1200 [02:49<00:08,  6.64it/s]"
     ]
    },
    {
     "name": "stdout",
     "output_type": "stream",
     "text": [
      "187.93968077136515\n",
      "187.93968077136515\n",
      "187.93968077136515\n",
      "187.93968077136515\n"
     ]
    },
    {
     "name": "stderr",
     "output_type": "stream",
     "text": [
      "\u001b[A\n",
      " 95%|█████████▌| 1143/1200 [02:49<00:08,  6.55it/s]\u001b[A\n",
      " 95%|█████████▌| 1144/1200 [02:50<00:08,  6.65it/s]"
     ]
    },
    {
     "name": "stdout",
     "output_type": "stream",
     "text": [
      "187.93968077136515\n",
      "187.93968077136515\n",
      "187.93968077136515\n",
      "187.93968077136515\n"
     ]
    },
    {
     "name": "stderr",
     "output_type": "stream",
     "text": [
      "\u001b[A\n",
      " 95%|█████████▌| 1145/1200 [02:50<00:08,  6.64it/s]\u001b[A\n",
      " 96%|█████████▌| 1146/1200 [02:50<00:08,  6.72it/s]"
     ]
    },
    {
     "name": "stdout",
     "output_type": "stream",
     "text": [
      "187.93968077136515\n",
      "187.93968077136515\n",
      "187.93968077136515\n",
      "187.93968077136515\n"
     ]
    },
    {
     "name": "stderr",
     "output_type": "stream",
     "text": [
      "\u001b[A\n",
      " 96%|█████████▌| 1147/1200 [02:50<00:07,  6.71it/s]\u001b[A\n",
      " 96%|█████████▌| 1148/1200 [02:50<00:07,  6.84it/s]"
     ]
    },
    {
     "name": "stdout",
     "output_type": "stream",
     "text": [
      "187.93968077136515\n",
      "187.93968077136515\n",
      "187.93968077136515\n",
      "187.93968077136515\n"
     ]
    },
    {
     "name": "stderr",
     "output_type": "stream",
     "text": [
      "\u001b[A\n",
      " 96%|█████████▌| 1149/1200 [02:50<00:07,  6.70it/s]\u001b[A\n",
      " 96%|█████████▌| 1150/1200 [02:50<00:07,  6.63it/s]"
     ]
    },
    {
     "name": "stdout",
     "output_type": "stream",
     "text": [
      "187.93968077136515\n",
      "187.93968077136515\n",
      "187.93968077136515\n",
      "187.93968077136515\n"
     ]
    },
    {
     "name": "stderr",
     "output_type": "stream",
     "text": [
      "\u001b[A\n",
      " 96%|█████████▌| 1151/1200 [02:51<00:07,  6.45it/s]\u001b[A\n",
      " 96%|█████████▌| 1152/1200 [02:51<00:07,  6.58it/s]"
     ]
    },
    {
     "name": "stdout",
     "output_type": "stream",
     "text": [
      "187.93968077136515\n",
      "187.93968077136515\n",
      "187.93968077136515\n",
      "187.93968077136515\n"
     ]
    },
    {
     "name": "stderr",
     "output_type": "stream",
     "text": [
      "\u001b[A\n",
      " 96%|█████████▌| 1153/1200 [02:51<00:07,  6.44it/s]\u001b[A\n",
      " 96%|█████████▌| 1154/1200 [02:51<00:07,  6.51it/s]"
     ]
    },
    {
     "name": "stdout",
     "output_type": "stream",
     "text": [
      "187.93968077136515\n",
      "187.93968077136515\n",
      "187.93968077136515\n",
      "187.93968077136515\n"
     ]
    },
    {
     "name": "stderr",
     "output_type": "stream",
     "text": [
      "\u001b[A\n",
      " 96%|█████████▋| 1155/1200 [02:51<00:07,  6.27it/s]\u001b[A\n",
      " 96%|█████████▋| 1156/1200 [02:51<00:06,  6.52it/s]"
     ]
    },
    {
     "name": "stdout",
     "output_type": "stream",
     "text": [
      "187.93968077136515\n",
      "187.93968077136515\n",
      "187.93968077136515\n",
      "187.93968077136515\n"
     ]
    },
    {
     "name": "stderr",
     "output_type": "stream",
     "text": [
      "\u001b[A\n",
      " 96%|█████████▋| 1157/1200 [02:52<00:06,  6.49it/s]\u001b[A\n",
      " 96%|█████████▋| 1158/1200 [02:52<00:06,  6.70it/s]"
     ]
    },
    {
     "name": "stdout",
     "output_type": "stream",
     "text": [
      "187.93968077136515\n",
      "187.93968077136515\n",
      "187.93968077136515\n",
      "187.93968077136515\n"
     ]
    },
    {
     "name": "stderr",
     "output_type": "stream",
     "text": [
      "\u001b[A\n",
      " 97%|█████████▋| 1159/1200 [02:52<00:06,  6.68it/s]\u001b[A\n",
      " 97%|█████████▋| 1160/1200 [02:52<00:05,  6.85it/s]"
     ]
    },
    {
     "name": "stdout",
     "output_type": "stream",
     "text": [
      "187.93968077136515\n",
      "187.93968077136515\n",
      "187.93968077136515\n",
      "187.93968077136515\n"
     ]
    },
    {
     "name": "stderr",
     "output_type": "stream",
     "text": [
      "\u001b[A\n",
      " 97%|█████████▋| 1161/1200 [02:52<00:05,  6.76it/s]\u001b[A\n",
      " 97%|█████████▋| 1162/1200 [02:52<00:05,  6.96it/s]"
     ]
    },
    {
     "name": "stdout",
     "output_type": "stream",
     "text": [
      "187.93968077136515\n",
      "187.93968077136515\n",
      "187.93968077136515\n",
      "187.93968077136515\n"
     ]
    },
    {
     "name": "stderr",
     "output_type": "stream",
     "text": [
      "\u001b[A\n",
      " 97%|█████████▋| 1163/1200 [02:52<00:05,  6.78it/s]\u001b[A\n",
      " 97%|█████████▋| 1164/1200 [02:53<00:05,  6.93it/s]"
     ]
    },
    {
     "name": "stdout",
     "output_type": "stream",
     "text": [
      "187.93968077136515\n",
      "187.93968077136515\n",
      "187.93968077136515\n",
      "187.93968077136515\n"
     ]
    },
    {
     "name": "stderr",
     "output_type": "stream",
     "text": [
      "\u001b[A\n",
      " 97%|█████████▋| 1165/1200 [02:53<00:05,  6.79it/s]\u001b[A\n",
      " 97%|█████████▋| 1166/1200 [02:53<00:04,  6.93it/s]"
     ]
    },
    {
     "name": "stdout",
     "output_type": "stream",
     "text": [
      "187.93968077136515\n",
      "187.93968077136515\n",
      "187.93968077136515\n",
      "187.93968077136515\n"
     ]
    },
    {
     "name": "stderr",
     "output_type": "stream",
     "text": [
      "\u001b[A\n",
      " 97%|█████████▋| 1167/1200 [02:53<00:04,  6.81it/s]\u001b[A\n",
      " 97%|█████████▋| 1168/1200 [02:53<00:04,  6.86it/s]"
     ]
    },
    {
     "name": "stdout",
     "output_type": "stream",
     "text": [
      "187.93968077136515\n",
      "187.93968077136515\n",
      "187.93968077136515\n",
      "187.93968077136515\n"
     ]
    },
    {
     "name": "stderr",
     "output_type": "stream",
     "text": [
      "\u001b[A\n",
      " 97%|█████████▋| 1169/1200 [02:53<00:04,  6.85it/s]\u001b[A\n",
      " 98%|█████████▊| 1170/1200 [02:53<00:04,  6.96it/s]"
     ]
    },
    {
     "name": "stdout",
     "output_type": "stream",
     "text": [
      "187.93968077136515\n",
      "187.93968077136515\n",
      "187.93968077136515\n",
      "187.93968077136515\n"
     ]
    },
    {
     "name": "stderr",
     "output_type": "stream",
     "text": [
      "\u001b[A\n",
      " 98%|█████████▊| 1171/1200 [02:54<00:04,  6.84it/s]\u001b[A\n",
      " 98%|█████████▊| 1172/1200 [02:54<00:04,  6.86it/s]"
     ]
    },
    {
     "name": "stdout",
     "output_type": "stream",
     "text": [
      "187.93968077136515\n",
      "187.93968077136515\n",
      "187.93968077136515\n",
      "187.93968077136515\n"
     ]
    },
    {
     "name": "stderr",
     "output_type": "stream",
     "text": [
      "\u001b[A\n",
      " 98%|█████████▊| 1173/1200 [02:54<00:04,  6.73it/s]\u001b[A\n",
      " 98%|█████████▊| 1174/1200 [02:54<00:03,  6.73it/s]"
     ]
    },
    {
     "name": "stdout",
     "output_type": "stream",
     "text": [
      "187.93968077136515\n",
      "187.93968077136515\n",
      "187.93968077136515\n",
      "187.93968077136515\n"
     ]
    },
    {
     "name": "stderr",
     "output_type": "stream",
     "text": [
      "\u001b[A\n",
      " 98%|█████████▊| 1175/1200 [02:54<00:03,  6.67it/s]\u001b[A\n",
      " 98%|█████████▊| 1176/1200 [02:54<00:03,  6.66it/s]"
     ]
    },
    {
     "name": "stdout",
     "output_type": "stream",
     "text": [
      "187.93968077136515\n",
      "187.93968077136515\n",
      "187.93968077136515\n",
      "187.93968077136515\n"
     ]
    },
    {
     "name": "stderr",
     "output_type": "stream",
     "text": [
      "\u001b[A\n",
      " 98%|█████████▊| 1177/1200 [02:54<00:03,  6.56it/s]\u001b[A\n",
      " 98%|█████████▊| 1178/1200 [02:55<00:03,  6.58it/s]"
     ]
    },
    {
     "name": "stdout",
     "output_type": "stream",
     "text": [
      "187.93968077136515\n",
      "187.93968077136515\n",
      "187.93968077136515\n",
      "187.93968077136515\n"
     ]
    },
    {
     "name": "stderr",
     "output_type": "stream",
     "text": [
      "\u001b[A\n",
      " 98%|█████████▊| 1179/1200 [02:55<00:03,  6.49it/s]\u001b[A\n",
      " 98%|█████████▊| 1180/1200 [02:55<00:03,  6.48it/s]"
     ]
    },
    {
     "name": "stdout",
     "output_type": "stream",
     "text": [
      "187.93968077136515\n",
      "187.93968077136515\n",
      "187.93968077136515\n",
      "187.93968077136515\n"
     ]
    },
    {
     "name": "stderr",
     "output_type": "stream",
     "text": [
      "\u001b[A\n",
      " 98%|█████████▊| 1181/1200 [02:55<00:02,  6.46it/s]\u001b[A\n",
      " 98%|█████████▊| 1182/1200 [02:55<00:02,  6.59it/s]"
     ]
    },
    {
     "name": "stdout",
     "output_type": "stream",
     "text": [
      "187.93968077136515\n",
      "187.93968077136515\n",
      "187.93968077136515\n",
      "187.93968077136515\n"
     ]
    },
    {
     "name": "stderr",
     "output_type": "stream",
     "text": [
      "\u001b[A\n",
      " 99%|█████████▊| 1183/1200 [02:55<00:02,  6.52it/s]\u001b[A\n",
      " 99%|█████████▊| 1184/1200 [02:56<00:02,  6.52it/s]"
     ]
    },
    {
     "name": "stdout",
     "output_type": "stream",
     "text": [
      "187.93968077136515\n",
      "187.93968077136515\n",
      "187.93968077136515\n",
      "187.93968077136515\n"
     ]
    },
    {
     "name": "stderr",
     "output_type": "stream",
     "text": [
      "\u001b[A\n",
      " 99%|█████████▉| 1185/1200 [02:56<00:02,  6.37it/s]\u001b[A\n",
      " 99%|█████████▉| 1186/1200 [02:56<00:02,  6.46it/s]"
     ]
    },
    {
     "name": "stdout",
     "output_type": "stream",
     "text": [
      "187.93968077136515\n",
      "187.93968077136515\n",
      "187.93968077136515\n",
      "187.93968077136515\n"
     ]
    },
    {
     "name": "stderr",
     "output_type": "stream",
     "text": [
      "\u001b[A\n",
      " 99%|█████████▉| 1187/1200 [02:56<00:02,  6.38it/s]\u001b[A\n",
      " 99%|█████████▉| 1188/1200 [02:56<00:01,  6.63it/s]"
     ]
    },
    {
     "name": "stdout",
     "output_type": "stream",
     "text": [
      "187.93968077136515\n",
      "187.93968077136515\n",
      "187.93968077136515\n",
      "187.93968077136515\n"
     ]
    },
    {
     "name": "stderr",
     "output_type": "stream",
     "text": [
      "\u001b[A\n",
      " 99%|█████████▉| 1189/1200 [02:56<00:01,  6.58it/s]\u001b[A\n",
      " 99%|█████████▉| 1190/1200 [02:56<00:01,  6.76it/s]"
     ]
    },
    {
     "name": "stdout",
     "output_type": "stream",
     "text": [
      "187.93968077136515\n",
      "187.93968077136515\n",
      "187.93968077136515\n",
      "187.93968077136515\n"
     ]
    },
    {
     "name": "stderr",
     "output_type": "stream",
     "text": [
      "\u001b[A\n",
      " 99%|█████████▉| 1191/1200 [02:57<00:01,  6.62it/s]\u001b[A\n",
      " 99%|█████████▉| 1192/1200 [02:57<00:01,  6.76it/s]"
     ]
    },
    {
     "name": "stdout",
     "output_type": "stream",
     "text": [
      "187.93968077136515\n",
      "187.93968077136515\n",
      "187.93968077136515\n",
      "187.93968077136515\n"
     ]
    },
    {
     "name": "stderr",
     "output_type": "stream",
     "text": [
      "\u001b[A\n",
      " 99%|█████████▉| 1193/1200 [02:57<00:01,  6.51it/s]\u001b[A\n",
      "100%|█████████▉| 1194/1200 [02:57<00:00,  6.70it/s]"
     ]
    },
    {
     "name": "stdout",
     "output_type": "stream",
     "text": [
      "187.93968077136515\n",
      "187.93968077136515\n",
      "187.93968077136515\n",
      "187.93968077136515\n"
     ]
    },
    {
     "name": "stderr",
     "output_type": "stream",
     "text": [
      "\u001b[A\n",
      "100%|█████████▉| 1195/1200 [02:57<00:00,  6.66it/s]\u001b[A\n",
      "100%|█████████▉| 1196/1200 [02:57<00:00,  6.84it/s]"
     ]
    },
    {
     "name": "stdout",
     "output_type": "stream",
     "text": [
      "187.93968077136515\n",
      "187.93968077136515\n",
      "187.93968077136515\n",
      "187.93968077136515\n"
     ]
    },
    {
     "name": "stderr",
     "output_type": "stream",
     "text": [
      "\u001b[A\n",
      "100%|█████████▉| 1197/1200 [02:58<00:00,  6.70it/s]\u001b[A\n",
      "100%|█████████▉| 1198/1200 [02:58<00:00,  6.86it/s]"
     ]
    },
    {
     "name": "stdout",
     "output_type": "stream",
     "text": [
      "187.93968077136515\n",
      "187.93968077136515\n",
      "187.93968077136515\n",
      "187.93968077136515\n"
     ]
    },
    {
     "name": "stderr",
     "output_type": "stream",
     "text": [
      "\u001b[A\n",
      "100%|█████████▉| 1199/1200 [02:58<00:00,  6.65it/s]\u001b[A\n",
      "\u001b[A"
     ]
    },
    {
     "name": "stdout",
     "output_type": "stream",
     "text": [
      "187.93968077136515\n",
      "187.93968077136515\n",
      "[MoviePy] Done.\n",
      "[MoviePy] >>>> Video ready: harder_challenge_video_output.mp4 \n",
      "\n"
     ]
    }
   ],
   "source": [
    "reset_lines()\n",
    "harder_challenge_output = 'harder_challenge_video_output.mp4'\n",
    "clip1 = VideoFileClip(\"harder_challenge_video.mp4\")\n",
    "white_clip = clip1.fl_image(pipeline)\n",
    "white_clip.write_videofile(harder_challenge_output, audio=False)"
   ]
  },
  {
   "cell_type": "code",
   "execution_count": 634,
   "metadata": {
    "collapsed": false
   },
   "outputs": [
    {
     "data": {
      "text/html": [
       "\n",
       "<video width=\"960\" height=\"540\" controls>\n",
       "  <source src=\"harder_challenge_video_output.mp4\">\n",
       "</video>\n"
      ],
      "text/plain": [
       "<IPython.core.display.HTML object>"
      ]
     },
     "execution_count": 634,
     "metadata": {},
     "output_type": "execute_result"
    }
   ],
   "source": [
    "HTML(\"\"\"\n",
    "<video width=\"960\" height=\"540\" controls>\n",
    "  <source src=\"{0}\">\n",
    "</video>\n",
    "\"\"\".format(harder_challenge_output))"
   ]
  },
  {
   "cell_type": "code",
   "execution_count": null,
   "metadata": {
    "collapsed": true
   },
   "outputs": [],
   "source": []
  },
  {
   "cell_type": "code",
   "execution_count": null,
   "metadata": {
    "collapsed": true
   },
   "outputs": [],
   "source": []
  }
 ],
 "metadata": {
  "anaconda-cloud": {},
  "kernelspec": {
   "display_name": "Python [conda env:sdc_env]",
   "language": "python",
   "name": "conda-env-sdc_env-py"
  },
  "language_info": {
   "codemirror_mode": {
    "name": "ipython",
    "version": 3
   },
   "file_extension": ".py",
   "mimetype": "text/x-python",
   "name": "python",
   "nbconvert_exporter": "python",
   "pygments_lexer": "ipython3",
   "version": "3.5.2"
  }
 },
 "nbformat": 4,
 "nbformat_minor": 1
}
