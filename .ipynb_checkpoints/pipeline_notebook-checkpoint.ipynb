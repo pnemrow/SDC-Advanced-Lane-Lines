{
 "cells": [
  {
   "cell_type": "code",
   "execution_count": 1,
   "metadata": {
    "collapsed": true
   },
   "outputs": [],
   "source": [
    "import cv2\n",
    "import numpy as np\n",
    "import matplotlib.pyplot as plt\n",
    "import matplotlib.image as mpimg\n",
    "import glob\n",
    "import pickle\n",
    "import math\n",
    "from PIL import Image\n",
    "%matplotlib inline"
   ]
  },
  {
   "cell_type": "code",
   "execution_count": 2,
   "metadata": {
    "collapsed": false
   },
   "outputs": [],
   "source": [
    "def camera_calibation():\n",
    "    images = glob.glob('./camera_cal/calibration*.jpg')\n",
    "\n",
    "    object_points = []\n",
    "    image_points = []\n",
    "\n",
    "    objp = np.zeros((6*9,3), np.float32)\n",
    "    objp[:,:2] = np.mgrid[0:9,0:6].T.reshape(-1,2)\n",
    "\n",
    "    for fname in images:\n",
    "        img = mpimg.imread(fname)\n",
    "        gray = cv2.cvtColor(img,cv2.COLOR_BGR2GRAY)\n",
    "        ret, corners = cv2.findChessboardCorners(gray, (9,6),None)\n",
    "        if ret == True:\n",
    "            image_points.append(corners)\n",
    "            object_points.append(objp)\n",
    "\n",
    "            img = cv2.drawChessboardCorners(img, (9,6), corners, ret)\n",
    "\n",
    "    img = cv2.imread('./camera_cal/calibration3.jpg')\n",
    "    img_size = (img.shape[1], img.shape[0])\n",
    "\n",
    "    ret, mtx, dist, rvecs, tvecs = cv2.calibrateCamera(object_points, image_points, img_size, None, None)\n",
    "    return (mtx, dist)\n",
    "\n",
    "global calibration\n",
    "calibration = camera_calibation()"
   ]
  },
  {
   "cell_type": "code",
   "execution_count": 3,
   "metadata": {
    "collapsed": false
   },
   "outputs": [],
   "source": [
    "class Line():\n",
    "    def __init__(self):\n",
    "        self.recent_amount = 7\n",
    "        self.weights = [.2,.2,.2,.1,.1,.1,.1]\n",
    "        self.detected = False\n",
    "        self.recent_xfitted = []\n",
    "        self.bestx = None\n",
    "        self.recent_fits = []\n",
    "        self.best_fit = None\n",
    "        self.current_fit = [np.array([False])]\n",
    "        self.radius_of_curvature = None\n",
    "        self.line_base_pos = None\n",
    "        self.allx = None\n",
    "        self.ally = None\n",
    "\n",
    "    def preliminary_update(self, line_fit, fitx):\n",
    "        if line_fit is not None:\n",
    "            \n",
    "            if self.should_update(fitx):\n",
    "                self.detected = True\n",
    "                self.current_fit = line_fit\n",
    "                self.allx = fitx\n",
    "                if self.best_fit is None:\n",
    "                    self.update()\n",
    "            else:\n",
    "                self.detected = False\n",
    "    \n",
    "    def should_update(self, new_fitx):\n",
    "        should_update = True\n",
    "        \n",
    "        if  self.bestx is not None:\n",
    "            \n",
    "            if new_fitx[719] > self.bestx[719] + 50 or new_fitx[719] < self.bestx[719] - 50:\n",
    "                should_update = False\n",
    "\n",
    "        return should_update\n",
    "    \n",
    "    def update(self):\n",
    "        self.detected = True\n",
    "        self.recent_fits.append(self.current_fit)\n",
    "        self.recent_fits = self.recent_fits[-self.recent_amount:]\n",
    "        self.best_fit = np.average(self.recent_fits, axis=0, weights=self.weights[:len(self.recent_fits)]).astype(int)\n",
    "        self.recent_xfitted.append(self.allx)\n",
    "        self.recent_xfitted = self.recent_xfitted[-self.recent_amount:]\n",
    "        self.bestx = np.average(self.recent_xfitted, axis=0, weights=self.weights[:len(self.recent_xfitted)]).astype(int)"
   ]
  },
  {
   "cell_type": "code",
   "execution_count": 4,
   "metadata": {
    "collapsed": false
   },
   "outputs": [],
   "source": [
    "def pipeline(img):\n",
    "    global lines, calibration\n",
    "    \n",
    "    undistorted_img = undistort(img, calibration[0], calibration[1])\n",
    "    size_for_warp = (int(undistorted_img.shape[1]/2), undistorted_img.shape[0])\n",
    "    M, M_inv = get_warp_matrix(undistorted_img)\n",
    "    warped = cv2.warpPerspective(undistorted_img, M, size_for_warp, flags=cv2.INTER_LINEAR)\n",
    "    \n",
    "    thresholded_image = threshold_image(warped)\n",
    "\n",
    "    left = get_line_fit(thresholded_image, lines, 'left')\n",
    "    right = get_line_fit(thresholded_image, lines, 'right')\n",
    "    \n",
    "    if get_left_right_compliance(left, right) and left.detected:\n",
    "        left.update()\n",
    "\n",
    "    if get_left_right_compliance(right, left) and right.detected:  \n",
    "        right.update()\n",
    "\n",
    "    overlayer = get_overlayer(warped, lines)\n",
    "    size_for_unwarp = (int(undistorted_img.shape[1]), undistorted_img.shape[0])\n",
    "    unwarped = cv2.warpPerspective(overlayer, M_inv, size_for_unwarp, flags=cv2.INTER_LINEAR)\n",
    "    return overlay_image(undistorted_img, unwarped, lines)\n",
    "\n",
    "def undistort(img, mtx, dist):\n",
    "    undistorted_img = cv2.undistort(img, mtx, dist, None, mtx)\n",
    "    return undistorted_img\n",
    "\n",
    "def get_warp_matrix(img):\n",
    "    src = np.float32([\n",
    "        [448., 479.],\n",
    "        [832., 479.],\n",
    "        [1472., 680.],\n",
    "        [-192., 680.]\n",
    "    ])\n",
    "\n",
    "    dst = np.float32([\n",
    "        [96., 0.],\n",
    "        [544., 0.],\n",
    "        [544., 720.],\n",
    "        [96., 720.]\n",
    "    ])\n",
    "\n",
    "    M = cv2.getPerspectiveTransform(src,dst)\n",
    "    M_inv = cv2.getPerspectiveTransform(dst, src)\n",
    "    \n",
    "    return M, M_inv\n",
    "\n",
    "def threshold_image(img):\n",
    "    kernel = np.ones((14,14),np.uint8)\n",
    "    hls = cv2.cvtColor(img, cv2.COLOR_RGB2HLS) \n",
    "    \n",
    "    hls_l = hls[:,:,1]\n",
    "    th_hls_l = cv2.morphologyEx(hls_l, cv2.MORPH_TOPHAT, kernel)\n",
    "    hls_l_binary = np.zeros_like(th_hls_l)\n",
    "    hls_l_binary[(th_hls_l > 20) & (th_hls_l <= 255)] = 1\n",
    "\n",
    "    lab = cv2.cvtColor(img, cv2.COLOR_RGB2LAB) \n",
    "    lab_l = lab[:,:,0]\n",
    "    th_lab_l = cv2.morphologyEx(lab_l, cv2.MORPH_TOPHAT, kernel)\n",
    "    lab_l_binary = np.zeros_like(th_lab_l)\n",
    "    lab_l_binary[(th_lab_l > 20) & (th_lab_l <= 255)] = 1\n",
    "\n",
    "    lab_b = lab[:,:,2]\n",
    "    th_lab_b = cv2.morphologyEx(lab_b, cv2.MORPH_TOPHAT, kernel)\n",
    "    lab_b_binary = np.zeros_like(th_lab_b)\n",
    "    lab_b_binary[(th_lab_b > 5) & (th_lab_b <= 255)] = 1\n",
    "\n",
    "    full_mask = np.zeros_like(th_hls_l)\n",
    "    full_mask[(hls_l_binary == 1) | (lab_l_binary == 1) | (lab_b_binary == 1)] = 1\n",
    "\n",
    "    kernel = np.ones((6,3),np.uint8)\n",
    "    erosion = cv2.erode(full_mask,kernel,iterations = 1)\n",
    "\n",
    "    return erosion\n",
    "\n",
    "def get_line_fit(thresholded_image, lines, side):\n",
    "    \n",
    "    if lines[side].detected == True:\n",
    "        lines[side] = line_in_windows(thresholded_image, lines[side])\n",
    "    \n",
    "    if lines[side].detected == False:\n",
    "        lines = locate_line(thresholded_image, lines, side)\n",
    "        \n",
    "    return lines[side]\n",
    "\n",
    "def get_left_right_compliance(target, compare):\n",
    "    spacing_confirmed = confirm_spacing(target, compare)\n",
    "    angle_confirmed = confirm_angle(target, compare)\n",
    "    curve_confirmed = confirm_curve(target, compare)\n",
    "    return spacing_confirmed and angle_confirmed and curve_confirmed\n",
    "\n",
    "def get_overlayer(warped, lines):\n",
    "    if lines is not None:\n",
    "        ploty = np.linspace(0, warped.shape[0]-1, warped.shape[0])\n",
    "        warp_zero = np.zeros_like(warped).astype(np.uint8)\n",
    "        color_warp = np.dstack((warp_zero, warp_zero, warp_zero))\n",
    "        pts_left = np.array([np.transpose(np.vstack([lines['left'].bestx, ploty]))])\n",
    "        pts_right = np.array([np.flipud(np.transpose(np.vstack([lines['right'].bestx, ploty])))])\n",
    "        pts = np.hstack((pts_left, pts_right))\n",
    "        overlayer = cv2.fillPoly(warp_zero, np.int_([pts]), (0,255, 0))\n",
    "    return overlayer\n",
    "\n",
    "def overlay_image(original, overlayer, lines):\n",
    "    global steering_wheel\n",
    "    overlayed = cv2.addWeighted(original, 1, overlayer, 0.3, 0)\n",
    "\n",
    "    ploty = np.linspace(0, 719, num=720)\n",
    "    y_eval = np.max(ploty)\n",
    "    img = np.zeros_like(original)\n",
    "\n",
    "    ym_per_pix = 3/170\n",
    "    xm_per_pix = 3.7/210\n",
    "    leftx = lines['left'].bestx\n",
    "    rightx = lines['right'].bestx\n",
    "\n",
    "    left_fit_cr = np.polyfit(ploty*ym_per_pix, leftx*xm_per_pix, 2)\n",
    "    right_fit_cr = np.polyfit(ploty*ym_per_pix, rightx*xm_per_pix, 2)\n",
    "\n",
    "    left_curverad = ((1 + (2*left_fit_cr[0]*y_eval*ym_per_pix + left_fit_cr[1])**2)**1.5) / np.absolute(2*left_fit_cr[0])\n",
    "    right_curverad = ((1 + (2*right_fit_cr[0]*y_eval*ym_per_pix + right_fit_cr[1])**2)**1.5) / np.absolute(2*right_fit_cr[0])\n",
    "\n",
    "    road_curve = left_curverad + right_curverad / 2\n",
    "    road_curve = round(road_curve, 2)\n",
    "    curve_string = \"{:,}\".format(road_curve)\n",
    "\n",
    "    if road_curve > 3000:\n",
    "        curve_string = 'Straight'\n",
    "    else:\n",
    "        curve_string = str(curve_string) + 'm'\n",
    "\n",
    "    center_of_lines = (rightx[len(rightx)-1] + leftx[len(leftx)-1]) / 2\n",
    "    distance_from_center = center_of_lines - img.shape[1] / 4\n",
    "    distance_from_center = distance_from_center * xm_per_pix\n",
    "    distance_from_center = round(distance_from_center, 2)\n",
    "    center_offset = \"{:,}\".format(abs(distance_from_center))\n",
    "\n",
    "    if distance_from_center > 0:\n",
    "        center_offset = str(center_offset) + 'm left'\n",
    "    else:\n",
    "        center_offset = str(center_offset) + 'm right'\n",
    "\n",
    "    font = cv2.FONT_HERSHEY_SIMPLEX\n",
    "    image = cv2.putText(overlayed,'Road Curve: ' + curve_string,(10,50), font, 1.4,(255,255,255),2)\n",
    "    image = cv2.putText(image, 'Off Center: ' + center_offset,(10,100), font, 1.4,(255,255,255),2)\n",
    "\n",
    "    if ((left_fit_cr[0] + right_fit_cr[0]) / 2) > 0:\n",
    "        road_curve = -1 * road_curve\n",
    "    \n",
    "    background = Image.fromarray(image).convert(\"RGBA\")\n",
    "    background.paste(get_steer_wheel(road_curve), (540, 150), get_steer_wheel(road_curve))\n",
    "    image = np.array(background)\n",
    "    image = image[:,:,:3]\n",
    "    \n",
    "    return image\n",
    "\n",
    "def locate_line(thresholded, lines, lane_side):\n",
    "    histogram = np.sum(thresholded[thresholded.shape[0]/2:,:], axis=0)\n",
    "    out_img = np.dstack((thresholded, thresholded, thresholded))*255\n",
    "    midpoint = np.int(histogram.shape[0]/2)\n",
    "   \n",
    "    if lane_side == 'left':\n",
    "        x_base = np.argmax(histogram[:midpoint])\n",
    "    else:\n",
    "        x_base = np.argmax(histogram[midpoint:]) + midpoint\n",
    "    \n",
    "    nwindows = 9\n",
    "    window_height = np.int(thresholded.shape[0]/nwindows)\n",
    "    nonzero = thresholded.nonzero()\n",
    "    nonzeroy = np.array(nonzero[0])\n",
    "    nonzerox = np.array(nonzero[1])\n",
    "    x_current = x_base\n",
    "    margin = 30\n",
    "    minpix = 50\n",
    "    lane_inds = []\n",
    "\n",
    "    for window in range(nwindows):\n",
    "        win_y_low = thresholded.shape[0] - (window+1)*window_height\n",
    "        win_y_high = thresholded.shape[0] - window*window_height\n",
    "        win_x_low = x_current - margin\n",
    "        win_x_high = x_current + margin\n",
    "        cv2.rectangle(out_img,(win_x_low,win_y_low),(win_x_high,win_y_high),(0,255,0), 2)\n",
    "        good_inds = ((nonzeroy >= win_y_low) & (nonzeroy < win_y_high) & (nonzerox >= win_x_low) & (nonzerox < win_x_high)).nonzero()[0]\n",
    "        lane_inds.append(good_inds)\n",
    "        if len(good_inds) > minpix:\n",
    "            x_current = np.int(np.mean(nonzerox[good_inds]))\n",
    "            \n",
    "    lane_inds = np.concatenate(lane_inds)\n",
    "\n",
    "    x = nonzerox[lane_inds]\n",
    "    y = nonzeroy[lane_inds]\n",
    "    \n",
    "    if x.shape[0] != 0:\n",
    "        line_fit = np.polyfit(y, x, 2)\n",
    "        ploty = np.linspace(0, thresholded.shape[0]-1, thresholded.shape[0] )\n",
    "        fitx = line_fit[0]*ploty**2 + line_fit[1]*ploty + line_fit[2]\n",
    "        out_img[nonzeroy[lane_inds], nonzerox[lane_inds]] = [255, 0, 0]\n",
    "        radius = get_radius(fitx, ploty)\n",
    "        lines[lane_side].preliminary_update(line_fit, fitx)\n",
    "    \n",
    "    return lines\n",
    "\n",
    "def line_in_windows(thresholded, line):\n",
    "    line_fit = fitx = radius = None\n",
    "    fit = line.current_fit\n",
    "    out_img = np.dstack((thresholded, thresholded, thresholded))*255\n",
    "    nonzero = thresholded.nonzero()\n",
    "    nonzeroy = np.array(nonzero[0])\n",
    "    nonzerox = np.array(nonzero[1])\n",
    "    margin = 30\n",
    "    lane_inds = ((nonzerox > (fit[0]*(nonzeroy**2) + fit[1]*nonzeroy + fit[2] - margin)) & (nonzerox < (fit[0]*(nonzeroy**2) + fit[1]*nonzeroy + fit[2] + margin))) \n",
    "    x = nonzerox[lane_inds]\n",
    "    y = nonzeroy[lane_inds] \n",
    "    \n",
    "    if x.shape[0] != 0:\n",
    "        line_fit = np.polyfit(y, x, 2)\n",
    "        ploty = np.linspace(0, thresholded.shape[0]-1, thresholded.shape[0] )\n",
    "        fitx = line_fit[0]*ploty**2 + line_fit[1]*ploty + line_fit[2]\n",
    "        radius = get_radius(fitx, ploty)\n",
    "        line.preliminary_update(line_fit, fitx)\n",
    "    \n",
    "    return line\n",
    "\n",
    "def get_radius(line, ploty):\n",
    "    y_eval = np.max(ploty)\n",
    "    curverad = ((1 + (2*line[0]*y_eval + line[1])**2)**1.5) / np.absolute(2*line[0])\n",
    "    ym_per_pix = 3/170\n",
    "    xm_per_pix = 3.7/210\n",
    "    fit_cr = np.polyfit(ploty*ym_per_pix, line*xm_per_pix, 2)\n",
    "    curverad = ((1 + (2*fit_cr[0]*y_eval*ym_per_pix + fit_cr[1])**2)**1.5) / np.absolute(2*fit_cr[0])\n",
    "\n",
    "    return curverad\n",
    "\n",
    "def confirm_angle(left, right):\n",
    "    ret_value = True\n",
    "\n",
    "    if left.current_fit[1] > right.current_fit[1] + .6:\n",
    "        ret_value = False\n",
    "        \n",
    "    if left.current_fit[1] < right.current_fit[1] -.6:\n",
    "        ret_value = False\n",
    "        \n",
    "    return ret_value\n",
    "\n",
    "def confirm_spacing(left, right):\n",
    "    ret_value = True\n",
    "    new_space = right.allx[719] - left.allx[719]\n",
    "    average_space = right.bestx[719] - left.bestx[719]\n",
    "\n",
    "    if new_space > average_space + 100 or new_space < average_space - 100:\n",
    "        \n",
    "        ret_value = False\n",
    "        \n",
    "    return ret_value\n",
    "\n",
    "def confirm_curve(left, right):\n",
    "    ret_value = True\n",
    "\n",
    "    if left.current_fit[0] > right.current_fit[0] + .0007:#was .0005\n",
    "        ret_value = False\n",
    "        \n",
    "    if left.current_fit[0] < right.current_fit[0] - .0007:# was .0005\n",
    "        ret_value = False\n",
    "\n",
    "    return ret_value\n",
    "\n",
    "def get_steer_wheel(curve):\n",
    "    global steering_wheel\n",
    "    angle = (4 * (math.pi + math.asin(9/(curve*2)))) * 200.40\n",
    "    return steering_wheel.rotate(angle)"
   ]
  },
  {
   "cell_type": "code",
   "execution_count": 5,
   "metadata": {
    "collapsed": true
   },
   "outputs": [],
   "source": [
    "def reset_lines():\n",
    "    left_line = Line()\n",
    "    right_line = Line()\n",
    "\n",
    "    global lines\n",
    "    lines = {\n",
    "        'left': left_line, \n",
    "        'right': right_line\n",
    "    }\n",
    "    \n",
    "    global steering_wheel\n",
    "    steering_wheel = Image.open('output_images/steering_wheel.png').convert(\"RGBA\")\n",
    "    steering_wheel= steering_wheel.resize((200,200),Image.ANTIALIAS)"
   ]
  },
  {
   "cell_type": "code",
   "execution_count": 6,
   "metadata": {
    "collapsed": true
   },
   "outputs": [],
   "source": [
    "from moviepy.editor import VideoFileClip\n",
    "from IPython.display import HTML"
   ]
  },
  {
   "cell_type": "code",
   "execution_count": 7,
   "metadata": {
    "collapsed": false
   },
   "outputs": [
    {
     "name": "stdout",
     "output_type": "stream",
     "text": [
      "[MoviePy] >>>> Building video first.mp4\n",
      "[MoviePy] Writing video first.mp4\n"
     ]
    },
    {
     "name": "stderr",
     "output_type": "stream",
     "text": [
      "100%|█████████▉| 1260/1261 [02:53<00:00,  7.50it/s]\n"
     ]
    },
    {
     "name": "stdout",
     "output_type": "stream",
     "text": [
      "[MoviePy] Done.\n",
      "[MoviePy] >>>> Video ready: first.mp4 \n",
      "\n"
     ]
    }
   ],
   "source": [
    "reset_lines()\n",
    "first_output = 'first.mp4'\n",
    "clip1 = VideoFileClip(\"project_video.mp4\")\n",
    "white_clip = clip1.fl_image(pipeline)\n",
    "white_clip.write_videofile(first_output, audio=False)"
   ]
  },
  {
   "cell_type": "code",
   "execution_count": 8,
   "metadata": {
    "collapsed": false,
    "scrolled": false
   },
   "outputs": [
    {
     "data": {
      "text/html": [
       "\n",
       "<video width=\"960\" height=\"540\" controls>\n",
       "  <source src=\"first.mp4\">\n",
       "</video>\n"
      ],
      "text/plain": [
       "<IPython.core.display.HTML object>"
      ]
     },
     "execution_count": 8,
     "metadata": {},
     "output_type": "execute_result"
    }
   ],
   "source": [
    "HTML(\"\"\"\n",
    "<video width=\"960\" height=\"540\" controls>\n",
    "  <source src=\"{0}\">\n",
    "</video>\n",
    "\"\"\".format(first_output))"
   ]
  },
  {
   "cell_type": "code",
   "execution_count": 9,
   "metadata": {
    "collapsed": false
   },
   "outputs": [
    {
     "name": "stdout",
     "output_type": "stream",
     "text": [
      "[MoviePy] >>>> Building video challenge.mp4\n",
      "[MoviePy] Writing video challenge.mp4\n"
     ]
    },
    {
     "name": "stderr",
     "output_type": "stream",
     "text": [
      "100%|██████████| 485/485 [01:04<00:00,  7.28it/s]\n"
     ]
    },
    {
     "name": "stdout",
     "output_type": "stream",
     "text": [
      "[MoviePy] Done.\n",
      "[MoviePy] >>>> Video ready: challenge.mp4 \n",
      "\n"
     ]
    }
   ],
   "source": [
    "reset_lines()\n",
    "challenge_output = 'challenge.mp4'\n",
    "clip1 = VideoFileClip(\"challenge_video.mp4\")\n",
    "white_clip = clip1.fl_image(pipeline)\n",
    "white_clip.write_videofile(challenge_output, audio=False)"
   ]
  },
  {
   "cell_type": "code",
   "execution_count": 10,
   "metadata": {
    "collapsed": false,
    "scrolled": false
   },
   "outputs": [
    {
     "data": {
      "text/html": [
       "\n",
       "<video width=\"960\" height=\"540\" controls>\n",
       "  <source src=\"challenge.mp4\">\n",
       "</video>\n"
      ],
      "text/plain": [
       "<IPython.core.display.HTML object>"
      ]
     },
     "execution_count": 10,
     "metadata": {},
     "output_type": "execute_result"
    }
   ],
   "source": [
    "HTML(\"\"\"\n",
    "<video width=\"960\" height=\"540\" controls>\n",
    "  <source src=\"{0}\">\n",
    "</video>\n",
    "\"\"\".format(challenge_output))"
   ]
  },
  {
   "cell_type": "code",
   "execution_count": 11,
   "metadata": {
    "collapsed": false
   },
   "outputs": [
    {
     "name": "stdout",
     "output_type": "stream",
     "text": [
      "[MoviePy] >>>> Building video harder_challenge_video_output.mp4\n",
      "[MoviePy] Writing video harder_challenge_video_output.mp4\n"
     ]
    },
    {
     "name": "stderr",
     "output_type": "stream",
     "text": [
      "100%|█████████▉| 1199/1200 [02:54<00:00,  6.40it/s]\n"
     ]
    },
    {
     "name": "stdout",
     "output_type": "stream",
     "text": [
      "[MoviePy] Done.\n",
      "[MoviePy] >>>> Video ready: harder_challenge_video_output.mp4 \n",
      "\n"
     ]
    }
   ],
   "source": [
    "reset_lines()\n",
    "harder_challenge_output = 'harder_challenge_video_output.mp4'\n",
    "clip1 = VideoFileClip(\"harder_challenge_video.mp4\")\n",
    "white_clip = clip1.fl_image(pipeline)\n",
    "white_clip.write_videofile(harder_challenge_output, audio=False)"
   ]
  },
  {
   "cell_type": "code",
   "execution_count": 12,
   "metadata": {
    "collapsed": false
   },
   "outputs": [
    {
     "data": {
      "text/html": [
       "\n",
       "<video width=\"960\" height=\"540\" controls>\n",
       "  <source src=\"harder_challenge_video_output.mp4\">\n",
       "</video>\n"
      ],
      "text/plain": [
       "<IPython.core.display.HTML object>"
      ]
     },
     "execution_count": 12,
     "metadata": {},
     "output_type": "execute_result"
    }
   ],
   "source": [
    "HTML(\"\"\"\n",
    "<video width=\"960\" height=\"540\" controls>\n",
    "  <source src=\"{0}\">\n",
    "</video>\n",
    "\"\"\".format(harder_challenge_output))"
   ]
  }
 ],
 "metadata": {
  "anaconda-cloud": {},
  "kernelspec": {
   "display_name": "Python [conda env:sdc_env]",
   "language": "python",
   "name": "conda-env-sdc_env-py"
  },
  "language_info": {
   "codemirror_mode": {
    "name": "ipython",
    "version": 3
   },
   "file_extension": ".py",
   "mimetype": "text/x-python",
   "name": "python",
   "nbconvert_exporter": "python",
   "pygments_lexer": "ipython3",
   "version": "3.5.2"
  }
 },
 "nbformat": 4,
 "nbformat_minor": 1
}
